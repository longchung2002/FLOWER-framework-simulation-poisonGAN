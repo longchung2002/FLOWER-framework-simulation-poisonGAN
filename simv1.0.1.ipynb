{
  "cells": [
    {
      "cell_type": "markdown",
      "metadata": {
        "id": "view-in-github",
        "colab_type": "text"
      },
      "source": [
        "<a href=\"https://colab.research.google.com/github/longchung2002/FLOWER-framework-simulation-poisonGAN/blob/main/simv1.0.1.ipynb\" target=\"_parent\"><img src=\"https://colab.research.google.com/assets/colab-badge.svg\" alt=\"Open In Colab\"/></a>"
      ]
    },
    {
      "cell_type": "code",
      "execution_count": 31,
      "metadata": {
        "colab": {
          "base_uri": "https://localhost:8080/"
        },
        "id": "zNTidNXQtiy6",
        "outputId": "0d8b027a-4dca-4ee9-d2f6-2ffcf51dc811"
      },
      "outputs": [
        {
          "output_type": "stream",
          "name": "stdout",
          "text": [
            "Requirement already satisfied: flwr_datasets[vision] in /usr/local/lib/python3.10/dist-packages (0.1.0)\n",
            "Requirement already satisfied: datasets<3.0.0,>=2.14.3 in /usr/local/lib/python3.10/dist-packages (from flwr_datasets[vision]) (2.18.0)\n",
            "Requirement already satisfied: numpy<2.0.0,>=1.21.0 in /usr/local/lib/python3.10/dist-packages (from flwr_datasets[vision]) (1.25.2)\n",
            "Requirement already satisfied: pillow>=6.2.1 in /usr/local/lib/python3.10/dist-packages (from flwr_datasets[vision]) (9.4.0)\n",
            "Requirement already satisfied: filelock in /usr/local/lib/python3.10/dist-packages (from datasets<3.0.0,>=2.14.3->flwr_datasets[vision]) (3.13.3)\n",
            "Requirement already satisfied: pyarrow>=12.0.0 in /usr/local/lib/python3.10/dist-packages (from datasets<3.0.0,>=2.14.3->flwr_datasets[vision]) (14.0.2)\n",
            "Requirement already satisfied: pyarrow-hotfix in /usr/local/lib/python3.10/dist-packages (from datasets<3.0.0,>=2.14.3->flwr_datasets[vision]) (0.6)\n",
            "Requirement already satisfied: dill<0.3.9,>=0.3.0 in /usr/local/lib/python3.10/dist-packages (from datasets<3.0.0,>=2.14.3->flwr_datasets[vision]) (0.3.8)\n",
            "Requirement already satisfied: pandas in /usr/local/lib/python3.10/dist-packages (from datasets<3.0.0,>=2.14.3->flwr_datasets[vision]) (2.0.3)\n",
            "Requirement already satisfied: requests>=2.19.0 in /usr/local/lib/python3.10/dist-packages (from datasets<3.0.0,>=2.14.3->flwr_datasets[vision]) (2.31.0)\n",
            "Requirement already satisfied: tqdm>=4.62.1 in /usr/local/lib/python3.10/dist-packages (from datasets<3.0.0,>=2.14.3->flwr_datasets[vision]) (4.66.2)\n",
            "Requirement already satisfied: xxhash in /usr/local/lib/python3.10/dist-packages (from datasets<3.0.0,>=2.14.3->flwr_datasets[vision]) (3.4.1)\n",
            "Requirement already satisfied: multiprocess in /usr/local/lib/python3.10/dist-packages (from datasets<3.0.0,>=2.14.3->flwr_datasets[vision]) (0.70.16)\n",
            "Requirement already satisfied: fsspec[http]<=2024.2.0,>=2023.1.0 in /usr/local/lib/python3.10/dist-packages (from datasets<3.0.0,>=2.14.3->flwr_datasets[vision]) (2023.6.0)\n",
            "Requirement already satisfied: aiohttp in /usr/local/lib/python3.10/dist-packages (from datasets<3.0.0,>=2.14.3->flwr_datasets[vision]) (3.9.3)\n",
            "Requirement already satisfied: huggingface-hub>=0.19.4 in /usr/local/lib/python3.10/dist-packages (from datasets<3.0.0,>=2.14.3->flwr_datasets[vision]) (0.20.3)\n",
            "Requirement already satisfied: packaging in /usr/local/lib/python3.10/dist-packages (from datasets<3.0.0,>=2.14.3->flwr_datasets[vision]) (24.0)\n",
            "Requirement already satisfied: pyyaml>=5.1 in /usr/local/lib/python3.10/dist-packages (from datasets<3.0.0,>=2.14.3->flwr_datasets[vision]) (6.0.1)\n",
            "Requirement already satisfied: aiosignal>=1.1.2 in /usr/local/lib/python3.10/dist-packages (from aiohttp->datasets<3.0.0,>=2.14.3->flwr_datasets[vision]) (1.3.1)\n",
            "Requirement already satisfied: attrs>=17.3.0 in /usr/local/lib/python3.10/dist-packages (from aiohttp->datasets<3.0.0,>=2.14.3->flwr_datasets[vision]) (23.2.0)\n",
            "Requirement already satisfied: frozenlist>=1.1.1 in /usr/local/lib/python3.10/dist-packages (from aiohttp->datasets<3.0.0,>=2.14.3->flwr_datasets[vision]) (1.4.1)\n",
            "Requirement already satisfied: multidict<7.0,>=4.5 in /usr/local/lib/python3.10/dist-packages (from aiohttp->datasets<3.0.0,>=2.14.3->flwr_datasets[vision]) (6.0.5)\n",
            "Requirement already satisfied: yarl<2.0,>=1.0 in /usr/local/lib/python3.10/dist-packages (from aiohttp->datasets<3.0.0,>=2.14.3->flwr_datasets[vision]) (1.9.4)\n",
            "Requirement already satisfied: async-timeout<5.0,>=4.0 in /usr/local/lib/python3.10/dist-packages (from aiohttp->datasets<3.0.0,>=2.14.3->flwr_datasets[vision]) (4.0.3)\n",
            "Requirement already satisfied: typing-extensions>=3.7.4.3 in /usr/local/lib/python3.10/dist-packages (from huggingface-hub>=0.19.4->datasets<3.0.0,>=2.14.3->flwr_datasets[vision]) (4.10.0)\n",
            "Requirement already satisfied: charset-normalizer<4,>=2 in /usr/local/lib/python3.10/dist-packages (from requests>=2.19.0->datasets<3.0.0,>=2.14.3->flwr_datasets[vision]) (3.3.2)\n",
            "Requirement already satisfied: idna<4,>=2.5 in /usr/local/lib/python3.10/dist-packages (from requests>=2.19.0->datasets<3.0.0,>=2.14.3->flwr_datasets[vision]) (3.6)\n",
            "Requirement already satisfied: urllib3<3,>=1.21.1 in /usr/local/lib/python3.10/dist-packages (from requests>=2.19.0->datasets<3.0.0,>=2.14.3->flwr_datasets[vision]) (2.0.7)\n",
            "Requirement already satisfied: certifi>=2017.4.17 in /usr/local/lib/python3.10/dist-packages (from requests>=2.19.0->datasets<3.0.0,>=2.14.3->flwr_datasets[vision]) (2024.2.2)\n",
            "Requirement already satisfied: python-dateutil>=2.8.2 in /usr/local/lib/python3.10/dist-packages (from pandas->datasets<3.0.0,>=2.14.3->flwr_datasets[vision]) (2.8.2)\n",
            "Requirement already satisfied: pytz>=2020.1 in /usr/local/lib/python3.10/dist-packages (from pandas->datasets<3.0.0,>=2.14.3->flwr_datasets[vision]) (2023.4)\n",
            "Requirement already satisfied: tzdata>=2022.1 in /usr/local/lib/python3.10/dist-packages (from pandas->datasets<3.0.0,>=2.14.3->flwr_datasets[vision]) (2024.1)\n",
            "Requirement already satisfied: six>=1.5 in /usr/local/lib/python3.10/dist-packages (from python-dateutil>=2.8.2->pandas->datasets<3.0.0,>=2.14.3->flwr_datasets[vision]) (1.16.0)\n"
          ]
        }
      ],
      "source": [
        "# depending on your shell, you might need to add `\\` before `[` and `]`.\n",
        "!pip install -q flwr[simulation]\n",
        "!pip install flwr_datasets[vision]"
      ]
    },
    {
      "cell_type": "code",
      "execution_count": 32,
      "metadata": {
        "colab": {
          "base_uri": "https://localhost:8080/"
        },
        "outputId": "3583b86f-d292-4ecf-9408-2bf89802d9f4",
        "id": "WXOcHlPPtiy8"
      },
      "outputs": [
        {
          "output_type": "stream",
          "name": "stdout",
          "text": [
            "Requirement already satisfied: matplotlib in /usr/local/lib/python3.10/dist-packages (3.7.1)\n",
            "Requirement already satisfied: contourpy>=1.0.1 in /usr/local/lib/python3.10/dist-packages (from matplotlib) (1.2.1)\n",
            "Requirement already satisfied: cycler>=0.10 in /usr/local/lib/python3.10/dist-packages (from matplotlib) (0.12.1)\n",
            "Requirement already satisfied: fonttools>=4.22.0 in /usr/local/lib/python3.10/dist-packages (from matplotlib) (4.50.0)\n",
            "Requirement already satisfied: kiwisolver>=1.0.1 in /usr/local/lib/python3.10/dist-packages (from matplotlib) (1.4.5)\n",
            "Requirement already satisfied: numpy>=1.20 in /usr/local/lib/python3.10/dist-packages (from matplotlib) (1.25.2)\n",
            "Requirement already satisfied: packaging>=20.0 in /usr/local/lib/python3.10/dist-packages (from matplotlib) (24.0)\n",
            "Requirement already satisfied: pillow>=6.2.0 in /usr/local/lib/python3.10/dist-packages (from matplotlib) (9.4.0)\n",
            "Requirement already satisfied: pyparsing>=2.3.1 in /usr/local/lib/python3.10/dist-packages (from matplotlib) (3.1.2)\n",
            "Requirement already satisfied: python-dateutil>=2.7 in /usr/local/lib/python3.10/dist-packages (from matplotlib) (2.8.2)\n",
            "Requirement already satisfied: six>=1.5 in /usr/local/lib/python3.10/dist-packages (from python-dateutil>=2.7->matplotlib) (1.16.0)\n"
          ]
        }
      ],
      "source": [
        "!pip install matplotlib"
      ]
    },
    {
      "cell_type": "code",
      "execution_count": 33,
      "metadata": {
        "id": "e9K5nFNjtiy-",
        "outputId": "b16e1a0f-2334-4322-ed19-f69146143752",
        "colab": {
          "base_uri": "https://localhost:8080/"
        }
      },
      "outputs": [
        {
          "output_type": "execute_result",
          "data": {
            "text/plain": [
              "{'image': Image(decode=True, id=None),\n",
              " 'label': ClassLabel(names=['0', '1', '2', '3', '4', '5', '6', '7', '8', '9'], id=None)}"
            ]
          },
          "metadata": {},
          "execution_count": 33
        }
      ],
      "source": [
        "from datasets import Dataset\n",
        "from flwr_datasets import FederatedDataset\n",
        "from datasets.utils.logging import disable_progress_bar\n",
        "from torch.utils.data import TensorDataset\n",
        "\n",
        "# Let's set a simulation involving a total of 100 clients\n",
        "NUM_CLIENTS = 33\n",
        "\n",
        "# Download MNIST dataset and partition the \"train\" partition (so one can be assigned to each client)\n",
        "mnist_fds = FederatedDataset(dataset=\"mnist\", partitioners={\"train\": NUM_CLIENTS})\n",
        "# Let's keep the test set as is, and use it to evaluate the global model on the server\n",
        "centralized_testset = mnist_fds.load_split(\"test\")\n",
        "partition = mnist_fds.load_partition(0, \"train\")\n",
        "partition.features"
      ]
    },
    {
      "cell_type": "code",
      "source": [
        "import matplotlib.pyplot as plt\n",
        "def calculate_label_distribution(data_loaders):\n",
        "    label_counts = {}\n",
        "    for loader in data_loaders:\n",
        "        images = loader[\"image\"]\n",
        "        labels = [loader[\"label\"]]\n",
        "        for label in labels:\n",
        "            label = int(label)\n",
        "            if label in label_counts:\n",
        "                label_counts[label] += 1\n",
        "            else:\n",
        "                label_counts[label] = 1\n",
        "    return label_counts\n",
        "\n",
        "def plot_label_distribution(label_counts):\n",
        "    # Vẽ biểu đồ histogram\n",
        "    plt.bar(label_counts.keys(), label_counts.values())\n",
        "    plt.xlabel('Label')\n",
        "    plt.ylabel('Number of Images')\n",
        "    plt.title('Distribution of Labels in the Dataset')\n",
        "    plt.xticks(range(10))\n",
        "    plt.show()\n",
        "    # Tính toán phân phối nhãn từ tất cả các dataloader\n",
        "all_trainloaders = partition # Gộp tất cả các dataloader lại\n",
        "all_label_counts = calculate_label_distribution(all_trainloaders)\n",
        "\n",
        "# Vẽ biểu đồ tương quan giữa tất cả các dataloader\n",
        "plot_label_distribution(all_label_counts)"
      ],
      "metadata": {
        "id": "AAxfaOXFUcxf",
        "outputId": "cb190ed0-a6e4-4377-9b7d-65fa928160d6",
        "colab": {
          "base_uri": "https://localhost:8080/",
          "height": 489
        }
      },
      "execution_count": 34,
      "outputs": [
        {
          "output_type": "display_data",
          "data": {
            "text/plain": [
              "<Figure size 640x480 with 1 Axes>"
            ],
            "image/png": "[encoded data removed]"
          },
          "metadata": {}
        }
      ]
    },
    {
      "cell_type": "code",
      "execution_count": 35,
      "metadata": {
        "id": "b_T97AxStiy-"
      },
      "outputs": [],
      "source": [
        "from torchvision.transforms import ToTensor, Normalize, Compose, Resize\n",
        "\n",
        "\n",
        "def apply_transforms(batch):\n",
        "    \"\"\"Get transformation for MNIST dataset\"\"\"\n",
        "\n",
        "    # transformation to convert images to tensors and apply normalization\n",
        "    transforms = Compose([\n",
        "        ToTensor(),\n",
        "        Normalize((0.5,), (0.5,))\n",
        "        ])\n",
        "    batch[\"image\"] = [transforms(img) for img in batch[\"image\"]]\n",
        "    return batch"
      ]
    },
    {
      "cell_type": "code",
      "execution_count": 36,
      "metadata": {
        "id": "e7NzdFp6tiy9"
      },
      "outputs": [],
      "source": [
        "import torch\n",
        "import torch.nn as nn\n",
        "import torch.nn.functional as F\n",
        "from torch.utils.data import DataLoader\n",
        "\n",
        "class Model(nn.Module):\n",
        "    def __init__(self):\n",
        "        super(Model, self).__init__()\n",
        "        self.conv1 = nn.Conv2d(in_channels=1, out_channels=32, kernel_size=(3, 3)) #26x26x32\n",
        "        self.relu1 = nn.ReLU()\n",
        "        self.pool1 = nn.MaxPool2d(2, 2) #13x13x32\n",
        "\n",
        "        self.conv2 = nn.Conv2d(in_channels=32, out_channels=64, kernel_size=(3, 3))\n",
        "        self.relu2 = nn.ReLU()\n",
        "        self.pool2 = nn.MaxPool2d(2, 2)\n",
        "\n",
        "        self.flatten = nn.Flatten()\n",
        "        self.dropout = nn.Dropout(0.5)\n",
        "        self.fc1 = nn.Linear(64 * 5 * 5, 11)\n",
        "        self.softmax = nn.Softmax(dim=1)\n",
        "\n",
        "    def forward(self, x):\n",
        "        x = self.pool1(self.relu1(self.conv1(x)))\n",
        "        x = self.pool2(self.relu2(self.conv2(x)))\n",
        "        x = self.flatten(x)\n",
        "        x = self.dropout(x)\n",
        "        x = self.fc1(x)\n",
        "        x = self.softmax(x)\n",
        "        return x\n",
        "class Discriminator(nn.Module):\n",
        "    def __init__(self):\n",
        "        super(Discriminator, self).__init__()\n",
        "        self.conv1 = nn.Conv2d(in_channels=1, out_channels=32, kernel_size=(3, 3)) #26x26x32\n",
        "        self.batchnorm1 = nn.BatchNorm2d(32)\n",
        "        self.relu1 = nn.ReLU()\n",
        "        self.pool1 = nn.MaxPool2d(2, 2) #13x13x32\n",
        "\n",
        "        self.conv2 = nn.Conv2d(in_channels=32, out_channels=64, kernel_size=(3, 3)) #10x10\n",
        "        self.batchnorm2 = nn.BatchNorm2d(64)\n",
        "        self.relu2 = nn.ReLU()\n",
        "        self.pool2 = nn.MaxPool2d(2, 2)\n",
        "\n",
        "        self.flatten = nn.Flatten()\n",
        "        self.dropout = nn.Dropout(0.5)\n",
        "        self.fc1 = nn.Linear(64 * 5 * 5, 11)\n",
        "        self.softmax = nn.Softmax(dim=1)\n",
        "\n",
        "    def forward(self, x):\n",
        "        x = self.conv1(x)\n",
        "        x = self.batchnorm1(x)\n",
        "        x = self.relu1(x)\n",
        "        x = self.pool1(x)\n",
        "        x = self.pool2(self.batchnorm2(self.relu2(self.conv2(x))))\n",
        "        x = self.flatten(x)\n",
        "        x = self.dropout(x)\n",
        "        x = self.fc1(x)\n",
        "        x = self.softmax(x)\n",
        "        return x\n",
        "\n",
        "class Generator(nn.Module):\n",
        "    def __init__(self):\n",
        "        super(Generator, self).__init__()\n",
        "        self.fc1 = nn.Linear(100, 64 * 5 * 5)\n",
        "        self.conv1 = nn.ConvTranspose2d(64, 32, kernel_size=(3, 3), stride=2, padding=0)\n",
        "        self.batchnorm1 = nn.BatchNorm2d(32)\n",
        "        self.leaky1 = nn.LeakyReLU()\n",
        "\n",
        "        self.conv2 = nn.ConvTranspose2d(32, 16, kernel_size=(3, 3), stride=1, padding=0)\n",
        "        self.batchnorm2 = nn.BatchNorm2d(16)\n",
        "        self.leaky2 = nn.LeakyReLU()\n",
        "\n",
        "        self.conv3 = nn.ConvTranspose2d(16, 1, kernel_size=(4, 4), stride=2, padding=0)\n",
        "        self.tanh = nn.Tanh()\n",
        "\n",
        "    def forward(self, x):\n",
        "        x = self.fc1(x)\n",
        "        x = x.view(-1, 64, 5, 5)\n",
        "        x = self.conv1(x)\n",
        "        x = self.batchnorm1(x)\n",
        "        x = self.leaky1(x)\n",
        "        x = self.conv2(x)\n",
        "        x = self.batchnorm2(x)\n",
        "        x = self.leaky2(x)\n",
        "        x = self.conv3(x)\n",
        "        x = self.tanh(x)\n",
        "        return x"
      ]
    },
    {
      "cell_type": "code",
      "execution_count": 37,
      "metadata": {
        "id": "2BkZd5y0tiy-"
      },
      "outputs": [],
      "source": [
        "import torch.optim as optim\n",
        "import torch.optim.lr_scheduler as lr_scheduler\n",
        "def train(net, trainloader, optim, scheduler, criterion, epochs, device: str):\n",
        "    \"\"\"Train the network on the training set.\"\"\"\n",
        "    net.train()\n",
        "    for _ in range(epochs):\n",
        "        for batch in trainloader:\n",
        "            images, labels = batch[\"image\"].to(device), batch[\"label\"].to(device)\n",
        "            optim.zero_grad()\n",
        "            outputs = net(images)\n",
        "            loss = criterion(outputs, labels)\n",
        "            loss.backward()\n",
        "            optim.step()\n",
        "        scheduler.step()\n",
        "\n",
        "def test_standard(net, testloader, device: str):\n",
        "    \"\"\"Validate the network on the entire test set.\"\"\"\n",
        "    criterion = torch.nn.CrossEntropyLoss()\n",
        "    correct, loss = 0, 0.0\n",
        "    net.eval()\n",
        "    with torch.no_grad():\n",
        "        for data in testloader:\n",
        "            images, labels = data[\"image\"].to(device), data[\"label\"].to(device)\n",
        "            outputs = net(images)\n",
        "            loss += criterion(outputs, labels).item()\n",
        "            _, predicted = torch.max(outputs.data, 1)\n",
        "            correct += (predicted == labels).sum().item()\n",
        "    accuracy = 100 * correct / len(testloader.dataset)\n",
        "    return loss, accuracy\n"
      ]
    },
    {
      "cell_type": "code",
      "execution_count": 38,
      "metadata": {
        "id": "EftKsIuMtiy_"
      },
      "outputs": [],
      "source": [
        "import flwr as fl"
      ]
    },
    {
      "cell_type": "code",
      "execution_count": 39,
      "metadata": {
        "id": "TkpxfwT9tiy_"
      },
      "outputs": [],
      "source": [
        "from collections import OrderedDict\n",
        "from typing import Dict, List, Tuple, Union, Optional\n",
        "from flwr.server.client_proxy import ClientProxy\n",
        "from flwr.common import NDArrays, Scalar, Parameters\n",
        "\n",
        "\n",
        "class FlowerClient(fl.client.NumPyClient):\n",
        "    def __init__(self, cid, trainloader, valloader, testloader) -> None:\n",
        "        super().__init__()\n",
        "        self.trainloader = trainloader\n",
        "        self.valloader = valloader\n",
        "        self.testloader = testloader\n",
        "        self.cid = cid\n",
        "        self.model = Model()\n",
        "        # Determine device\n",
        "        self.device = torch.device(\"cuda:0\" if torch.cuda.is_available() else \"cpu\")\n",
        "        self.model.to(self.device)  # send model to device\n",
        "\n",
        "    def set_parameters(self, parameters):\n",
        "        \"\"\"With the model paramters received from the server,\n",
        "        overwrite the uninitialise model in this class with them.\"\"\"\n",
        "\n",
        "        params_dict = zip(self.model.state_dict().keys(), parameters)\n",
        "        state_dict = OrderedDict({k: torch.Tensor(v) for k, v in params_dict})\n",
        "        # now replace the parameters\n",
        "        self.model.load_state_dict(state_dict, strict=True)\n",
        "\n",
        "    def get_parameters(self, config: Dict[str, Scalar]):\n",
        "        \"\"\"Extract all model parameters and conver them to a list of\n",
        "        NumPy arryas. The server doesn't work with PyTorch/TF/etc.\"\"\"\n",
        "        # print(f\"[Client {self.cid}] get_parameters\")\n",
        "        return [val.cpu().numpy() for _, val in self.model.state_dict().items()]\n",
        "\n",
        "    def fit(self, parameters, config):\n",
        "        \"\"\"This method train the model using the parameters sent by the\n",
        "        server on the dataset of this client. At then end, the parameters\n",
        "        of the locally trained model are communicated back to the server\"\"\"\n",
        "        # print(f\"[Client {self.cid}] fit, config: {config}\")\n",
        "        # copy parameters sent by the server into client's local model\n",
        "        self.set_parameters(parameters)\n",
        "        lr, epochs = config[\"lr\"], config[\"epochs\"]\n",
        "        optim = torch.optim.SGD(self.model.parameters(), lr=lr)\n",
        "        scheduler = lr_scheduler.StepLR(optim, step_size=2, gamma=0.1)\n",
        "        criterion = torch.nn.CrossEntropyLoss()\n",
        "        train(net=self.model, trainloader=self.trainloader, optim=optim, scheduler=scheduler, criterion=criterion, epochs=epochs, device=self.device)\n",
        "        # return the model parameters to the server as well as extra info (number of training examples in this case)\n",
        "        return self.get_parameters({}), len(self.trainloader), {}\n",
        "\n",
        "    def evaluate(self, parameters: NDArrays, config: Dict[str, Scalar]):\n",
        "        \"\"\"Evaluate the model sent by the server on this client's\n",
        "        local validation set. Then return performance metrics.\"\"\"\n",
        "\n",
        "        self.set_parameters(parameters)\n",
        "        loss, accuracy = test_standard(self.model, self.valloader, device=self.device)\n",
        "\n",
        "        return float(loss), len(self.valloader), {\"accuracy\": accuracy}"
      ]
    },
    {
      "cell_type": "code",
      "source": [
        "import glob\n",
        "import os\n",
        "def load_model_state_dict():\n",
        "    net = Model()\n",
        "    list_of_files = [fname for fname in glob.glob(\"./model_round_*\")]\n",
        "    latest_round_file = max(list_of_files, key=os.path.getctime)\n",
        "    # latest_round_file = './model_round_df.pth'\n",
        "    print(\"Loading pre-trained model from: \", latest_round_file)\n",
        "    state_dict = torch.load(latest_round_file)\n",
        "    net.load_state_dict(state_dict)\n",
        "    return net"
      ],
      "metadata": {
        "id": "FiR-tVieingX"
      },
      "execution_count": 40,
      "outputs": []
    },
    {
      "cell_type": "code",
      "execution_count": 41,
      "metadata": {
        "id": "BPJKeYr6tiy_"
      },
      "outputs": [],
      "source": [
        "def get_evaluate_fn(centralized_testset: Dataset):\n",
        "    \"\"\"This is a function that returns a function. The returned\n",
        "    function (i.e. `evaluate_fn`) will be executed by the strategy\n",
        "    at the end of each round to evaluate the stat of the global\n",
        "    model.\"\"\"\n",
        "\n",
        "    def evaluate_fn(server_round: int, parameters, config):\n",
        "        \"\"\"This function is executed by the strategy it will instantiate\n",
        "        a model and replace its parameters with those from the global model.\n",
        "        The, the model will be evaluate on the test set (recall this is the\n",
        "        whole MNIST test set).\"\"\"\n",
        "\n",
        "        model = Model()\n",
        "\n",
        "        # Determine device\n",
        "        device = torch.device(\"cuda:0\" if torch.cuda.is_available() else \"cpu\")\n",
        "        model.to(device)  # send model to device\n",
        "\n",
        "        # set parameters to the model\n",
        "        params_dict = zip(model.state_dict().keys(), parameters)\n",
        "        state_dict = OrderedDict({k: torch.Tensor(v) for k, v in params_dict})\n",
        "        model.load_state_dict(state_dict, strict=True)\n",
        "\n",
        "        ###############################################################################\n",
        "        # device = torch.device(\"cuda:0\" if torch.cuda.is_available() else \"cpu\")\n",
        "        # model = load_model_state_dict()\n",
        "        # model.to(device)\n",
        "        ###############################################################################\n",
        "        # Apply transform to dataset\n",
        "        testset = centralized_testset.with_transform(apply_transforms)\n",
        "\n",
        "        testloader = DataLoader(testset, batch_size=50)\n",
        "        # call test\n",
        "        loss, accuracy = test_standard(model, testloader, device)\n",
        "        print('GLOBAL TEST')\n",
        "        return loss, {\"accuracy\": accuracy}\n",
        "\n",
        "    return evaluate_fn"
      ]
    },
    {
      "cell_type": "code",
      "execution_count": 42,
      "metadata": {
        "id": "uKusgaOAtiy_"
      },
      "outputs": [],
      "source": [
        "from flwr.common import Metrics, FitRes\n",
        "\n",
        "def fit_config(server_round: int) -> Dict[str, Scalar]:\n",
        "    \"\"\"Return a configuration with static batch size and (local) epochs.\"\"\"\n",
        "    config = {\n",
        "        \"epochs\": 10,  # Number of local epochs done by clients\n",
        "        \"lr\": 0.1,  # Learning rate to use by clients during fit()\n",
        "        \"attacker_epochs\": 20,\n",
        "        \"attacker_lr\": 0.2,\n",
        "    }\n",
        "    return config\n",
        "\n",
        "def weighted_average(metrics: List[Tuple[int, Metrics]]) -> Metrics:\n",
        "    \"\"\"Aggregation function for (federated) evaluation metrics, i.e. those returned by\n",
        "    the client's evaluate() method.\"\"\"\n",
        "    # Multiply accuracy of each client by number of examples used\n",
        "    accuracies = [num_examples * m[\"accuracy\"] for num_examples, m in metrics]\n",
        "    examples = [num_examples for num_examples, _ in metrics]\n",
        "\n",
        "    # Aggregate and return custom metric (weighted average)\n",
        "    return {\"accuracy\": sum(accuracies) / sum(examples)}"
      ]
    },
    {
      "cell_type": "code",
      "source": [
        "import numpy as np\n",
        "class SaveModelStrategy(fl.server.strategy.FedAvg):\n",
        "    def aggregate_fit(\n",
        "        self,\n",
        "        server_round: int,\n",
        "        results: List[Tuple[fl.server.client_proxy.ClientProxy, fl.common.FitRes]],\n",
        "        failures: List[Union[Tuple[ClientProxy, FitRes], BaseException]],\n",
        "    ) -> Tuple[Optional[Parameters], Dict[str, Scalar]]:\n",
        "        \"\"\"Aggregate model weights using weighted average and store checkpoint\"\"\"\n",
        "        model = Model()\n",
        "        # Call aggregate_fit from base class (FedAvg) to aggregate parameters and metrics\n",
        "        aggregated_parameters, aggregated_metrics = super().aggregate_fit(server_round, results, failures)\n",
        "\n",
        "        if aggregated_parameters is not None:\n",
        "            print(f\"Saving round {server_round} aggregated_parameters...\")\n",
        "\n",
        "            # Convert `Parameters` to `List[np.ndarray]`\n",
        "            aggregated_ndarrays: List[np.ndarray] = fl.common.parameters_to_ndarrays(aggregated_parameters)\n",
        "\n",
        "            # Convert `List[np.ndarray]` to PyTorch`state_dict`\n",
        "            params_dict = zip(model.state_dict().keys(), aggregated_ndarrays)\n",
        "            state_dict = OrderedDict({k: torch.tensor(v) for k, v in params_dict})\n",
        "            model.load_state_dict(state_dict, strict=True)\n",
        "\n",
        "            # Save the model\n",
        "            torch.save(model.state_dict(), f\"model_round_{server_round}.pth\")\n",
        "        return aggregated_parameters, aggregated_metrics"
      ],
      "metadata": {
        "id": "gIoh_OAxATO7"
      },
      "execution_count": 43,
      "outputs": []
    },
    {
      "cell_type": "code",
      "execution_count": 44,
      "metadata": {
        "id": "FpB15Xv3tizA"
      },
      "outputs": [],
      "source": [
        "strategy = SaveModelStrategy(\n",
        "    fraction_fit=0.31,  # Sample 10% of available clients for training\n",
        "    fraction_evaluate=0.31,  # Sample 5% of available clients for evaluation\n",
        "    on_fit_config_fn=fit_config,\n",
        "    evaluate_metrics_aggregation_fn=weighted_average,  # aggregates federated metrics\n",
        "    evaluate_fn=get_evaluate_fn(centralized_testset),  # global evaluation function\n",
        ")"
      ]
    },
    {
      "cell_type": "code",
      "execution_count": 45,
      "metadata": {
        "id": "g0HZTdGHtizA"
      },
      "outputs": [],
      "source": [
        "from torch.utils.data import DataLoader\n",
        "\n",
        "\n",
        "def get_client_fn(dataset: FederatedDataset):\n",
        "    \"\"\"Return a function to construct a client.\n",
        "\n",
        "    The VirtualClientEngine will execute this function whenever a client is sampled by\n",
        "    the strategy to participate.\n",
        "    \"\"\"\n",
        "\n",
        "    def client_fn(cid: str) -> fl.client.Client:\n",
        "        \"\"\"Construct a FlowerClient with its own dataset partition.\"\"\"\n",
        "\n",
        "        # Let's get the partition corresponding to the i-th client\n",
        "        client_dataset = dataset.load_partition(int(cid), \"train\")\n",
        "\n",
        "        # Now let's split it into train (90%) and validation (10%)\n",
        "        client_dataset_splits = client_dataset.train_test_split(test_size=0.1)\n",
        "\n",
        "        trainset = client_dataset_splits[\"train\"]\n",
        "        valset = client_dataset_splits[\"test\"]\n",
        "\n",
        "        # Now we apply the transform to each batch.\n",
        "        trainloader = DataLoader(\n",
        "            trainset.with_transform(apply_transforms), batch_size=256, shuffle=True\n",
        "        )\n",
        "        valloader = DataLoader(valset.with_transform(apply_transforms), batch_size=256)\n",
        "        testset = centralized_testset.with_transform(apply_transforms)\n",
        "\n",
        "        testloader = DataLoader(testset, batch_size=50)\n",
        "        # Create and return client\n",
        "        return FlowerClient(int(cid), trainloader, valloader, testloader).to_client()\n",
        "\n",
        "    return client_fn\n",
        "\n",
        "\n",
        "client_fn_callback = get_client_fn(mnist_fds)"
      ]
    },
    {
      "cell_type": "markdown",
      "metadata": {
        "id": "TRAALrO7tizA"
      },
      "source": [
        "Now we are ready to launch the FL experiment using Flower simulation:"
      ]
    },
    {
      "cell_type": "code",
      "execution_count": 46,
      "metadata": {
        "id": "WOOq8qkUtizA"
      },
      "outputs": [],
      "source": [
        "# # With a dictionary, you tell Flower's VirtualClientEngine that each\n",
        "# # client needs exclusive access to these many resources in order to run\n",
        "# client_resources = {\"num_cpus\": 0.2, \"num_gpus\": 0.1}\n",
        "\n",
        "# # Let's disable tqdm progress bar in the main thread (used by the server)\n",
        "# disable_progress_bar()\n",
        "\n",
        "# history = fl.simulation.start_simulation(\n",
        "#     client_fn=client_fn_callback,  # a callback to construct a client\n",
        "#     num_clients=NUM_CLIENTS,  # total number of clients in the experiment\n",
        "#     config=fl.server.ServerConfig(num_rounds=100),  # let's run for 10 rounds\n",
        "#     strategy=strategy,  # the strategy that will orchestrate the whole FL pipeline\n",
        "#     client_resources=client_resources,\n",
        "#     actor_kwargs={\n",
        "#         \"on_actor_init_fn\": disable_progress_bar  # disable tqdm on each actor/process spawning virtual clients\n",
        "#     },\n",
        "# )"
      ]
    },
    {
      "cell_type": "code",
      "execution_count": 47,
      "metadata": {
        "id": "-poMHY3BtizA"
      },
      "outputs": [],
      "source": [
        "# import matplotlib.pyplot as plt\n",
        "\n",
        "# print(f\"{history.metrics_centralized = }\")\n",
        "\n",
        "# global_accuracy_centralised = history.metrics_centralized[\"accuracy\"]\n",
        "# round = [data[0] for data in global_accuracy_centralised]\n",
        "# acc = [data[1] for data in global_accuracy_centralised]\n",
        "# plt.plot(round, acc)\n",
        "# plt.grid()\n",
        "# plt.ylabel(\"Accuracy (%)\")\n",
        "# plt.xlabel(\"Round\")\n",
        "# plt.title(\"MNIST - IID - 33 clients with 10 clients per round\")"
      ]
    },
    {
      "cell_type": "markdown",
      "metadata": {
        "id": "7dLYQcJ3tizA"
      },
      "source": [
        "Congratulations! With that, you built a Flower client, customized it's instantiation through the `client_fn`, customized the server-side execution through a `FedAvg` strategy configured for this workload, and started a simulation with 100 clients (each holding their own individual partition of the MNIST dataset).\n",
        "\n",
        "Next, you can continue to explore more advanced Flower topics:\n",
        "\n",
        "- Deploy server and clients on different machines using `start_server` and `start_client`\n",
        "- Customize the server-side execution through custom strategies\n",
        "- Customize the client-side execution through `config` dictionaries\n",
        "\n",
        "Get all resources you need!\n",
        "\n",
        "* **[DOCS]** Our complete documenation: https://flower.dev/docs/\n",
        "* **[Examples]** All Flower examples: https://flower.dev/docs/examples/\n",
        "* **[VIDEO]** Our Youtube channel: https://www.youtube.com/@flowerlabs\n",
        "\n",
        "Don't forget to join our Slack channel: https://flower.dev/join-slack/\n"
      ]
    },
    {
      "cell_type": "code",
      "source": [
        "def get_evaluate_fn(centralized_testset: Dataset):\n",
        "    \"\"\"This is a function that returns a function. The returned\n",
        "    function (i.e. `evaluate_fn`) will be executed by the strategy\n",
        "    at the end of each round to evaluate the stat of the global\n",
        "    model.\"\"\"\n",
        "\n",
        "    def evaluate_fn(server_round: int, parameters, config):\n",
        "        \"\"\"This function is executed by the strategy it will instantiate\n",
        "        a model and replace its parameters with those from the global model.\n",
        "        The, the model will be evaluate on the test set (recall this is the\n",
        "        whole MNIST test set).\"\"\"\n",
        "\n",
        "        model = Model()\n",
        "\n",
        "        # Determine device\n",
        "        device = torch.device(\"cuda:0\" if torch.cuda.is_available() else \"cpu\")\n",
        "        model.to(device)  # send model to device\n",
        "\n",
        "        # set parameters to the model\n",
        "        params_dict = zip(model.state_dict().keys(), parameters)\n",
        "        state_dict = OrderedDict({k: torch.Tensor(v) for k, v in params_dict})\n",
        "        model.load_state_dict(state_dict, strict=True)\n",
        "\n",
        "        ###############################################################################\n",
        "        # device = torch.device(\"cuda:0\" if torch.cuda.is_available() else \"cpu\")\n",
        "        # model = load_model_state_dict()\n",
        "        # model.to(device)\n",
        "        ###############################################################################\n",
        "        # Apply transform to dataset\n",
        "        testset = centralized_testset.with_transform(apply_transforms)\n",
        "\n",
        "        testloader = DataLoader(testset, batch_size=50)\n",
        "        # call test\n",
        "        loss, accuracy = test(model, testloader, device)\n",
        "        print('GLOBAL TEST')\n",
        "        return loss, {\"accuracy\": accuracy}\n",
        "\n",
        "    return evaluate_fn"
      ],
      "metadata": {
        "id": "dO-w1DtmYldu"
      },
      "execution_count": 48,
      "outputs": []
    },
    {
      "cell_type": "code",
      "source": [
        "import random\n",
        "import numpy as np\n",
        "import os\n",
        "import glob\n",
        "import matplotlib.pyplot as plt\n",
        "def save_images(images, folder_path, prefix):\n",
        "    # Find the existing files to determine the count\n",
        "    existing_files = glob.glob(os.path.join(folder_path, f\"{prefix}_*.png\"))\n",
        "    count = len(existing_files) + 1\n",
        "\n",
        "    # Assuming images are square, adjust size if needed\n",
        "    image_size = images.shape[1]\n",
        "\n",
        "    plt.figure(figsize=(8, 8))\n",
        "\n",
        "    for i, img in enumerate(images):\n",
        "        plt.subplot(4, 4, i+1)\n",
        "        plt.imshow(img, cmap='gray', vmin=0, vmax=1)\n",
        "        plt.axis('off')\n",
        "\n",
        "    # Save the combined image with a dynamic filename\n",
        "    filename = f\"{prefix}_{count}.png\"\n",
        "    plt.savefig(os.path.join(folder_path, filename))\n",
        "    plt.close()\n",
        "\n",
        "\n",
        "def plot_generated(generator, save_folder, num_images=16, device='cuda'):\n",
        "    noise = torch.randn(num_images, 100).to(device)\n",
        "    generated_images = generator(noise)\n",
        "    generated_images = generated_images.squeeze().cpu().detach().numpy()\n",
        "\n",
        "    # Save the combined image\n",
        "    save_images(generated_images, save_folder, \"random_image\")\n"
      ],
      "metadata": {
        "id": "V49PI4f2-7Qm"
      },
      "execution_count": 49,
      "outputs": []
    },
    {
      "cell_type": "code",
      "source": [
        "main_loss_values = []\n",
        "main_acc_values = []\n",
        "standard_loss_values = []\n",
        "standard_acc_values = []"
      ],
      "metadata": {
        "id": "MQyjdNwdAXda"
      },
      "execution_count": 50,
      "outputs": []
    },
    {
      "cell_type": "code",
      "source": [
        "def test_other_classes(net, testloader, device: str):\n",
        "    \"\"\"Validate the network on the entire test set excluding class 2.\"\"\"\n",
        "    criterion = torch.nn.CrossEntropyLoss()\n",
        "    correct_non_poisoned = 0\n",
        "    total_non_poisoned = 0\n",
        "    loss = 0.0\n",
        "    net.eval()\n",
        "    with torch.no_grad():\n",
        "        for data in testloader:\n",
        "            images, labels = data[\"image\"].to(device), data[\"label\"].to(device)\n",
        "\n",
        "            # Exclude class 2\n",
        "            non_poisoned_mask = labels != 2\n",
        "            images_non_poisoned = images[non_poisoned_mask]\n",
        "            labels_non_poisoned = labels[non_poisoned_mask]\n",
        "\n",
        "            output = net(images_non_poisoned)\n",
        "            pred = output.argmax(dim=1, keepdim=True)\n",
        "\n",
        "            for i in range(len(labels_non_poisoned)):\n",
        "                if pred[i].item() == labels_non_poisoned[i].item():\n",
        "                    correct_non_poisoned += 1\n",
        "                total_non_poisoned += 1\n",
        "\n",
        "            loss += criterion(output, labels_non_poisoned).item()\n",
        "\n",
        "    non_poisoned_accuracy = 100 * correct_non_poisoned / total_non_poisoned if total_non_poisoned != 0 else 0\n",
        "    return loss, non_poisoned_accuracy\n"
      ],
      "metadata": {
        "id": "2LXCVuk-_kpu"
      },
      "execution_count": 51,
      "outputs": []
    },
    {
      "cell_type": "code",
      "source": [
        "import torch.optim as optim\n",
        "import torch.optim.lr_scheduler as lr_scheduler\n",
        "\n",
        "def test(net, testloader, device: str):\n",
        "    \"\"\"Validate the network on the entire test set.\"\"\"\n",
        "    criterion = torch.nn.CrossEntropyLoss()\n",
        "    correct_poisoned = 0\n",
        "    total_poisoned = 0\n",
        "    loss = 0.0\n",
        "    net.eval()\n",
        "    with torch.no_grad():\n",
        "        for data in testloader:\n",
        "            images, labels = data[\"image\"].to(device), data[\"label\"].to(device)\n",
        "            output = net(images)\n",
        "            pred = output.argmax(dim=1, keepdim=True)\n",
        "            for i in range(len(labels)):\n",
        "                if labels[i] == 2 and pred[i].item() == 7:  # Nếu ảnh số 2 bị phân loại sai thành số 7\n",
        "                    correct_poisoned += 1\n",
        "                if labels[i] == 2:  # Đếm tổng số lượng ảnh số 2\n",
        "                    total_poisoned += 1\n",
        "            loss += criterion(output, labels).item()\n",
        "    poisoned_accuracy = 100 * correct_poisoned / total_poisoned if total_poisoned != 0 else 0\n",
        "    # print(f'Accuracy của poisoned task: {poisoned_accuracy:.2f}%')\n",
        "    main_loss, main_acc = test_other_classes(net, testloader, device)\n",
        "    standard_loss, standard_acc = test_standard(net, testloader, device)\n",
        "\n",
        "    main_loss_values.append(main_loss)\n",
        "    main_acc_values.append(main_acc)\n",
        "    standard_loss_values.append(standard_loss)\n",
        "    standard_acc_values.append(standard_acc)\n",
        "    return loss, poisoned_accuracy"
      ],
      "metadata": {
        "id": "IDxk25bibt6P"
      },
      "execution_count": 52,
      "outputs": []
    },
    {
      "cell_type": "code",
      "source": [
        "from tqdm.notebook import tqdm\n",
        "import torch\n",
        "def poisontrain(net, generator, discriminator, trainloader,\n",
        "          optimizer_net, optimizer_g, optimizer_d,\n",
        "          scheduler_net, scheduler_g, scheduler_d,\n",
        "          criterion, criterion_d, epochs, device: str):\n",
        "    \"\"\"Train the network on the training set.\"\"\"\n",
        "    net.train()\n",
        "    for _ in range(epochs):\n",
        "        for batch in trainloader:\n",
        "            images, labels = batch[\"image\"].to(device), batch[\"label\"].to(device)\n",
        "            batch_size = images.size(0)\n",
        "            # Train discriminator with fake images\n",
        "            noise = torch.randn(batch_size, 100, device=device)\n",
        "            fake_images = generator(noise)\n",
        "            outputs_fake = discriminator(fake_images.detach())\n",
        "            fake_labels = torch.full((batch_size,), 10).to(device)\n",
        "            loss_fake = criterion_d(outputs_fake, fake_labels)\n",
        "            loss_fake.backward()\n",
        "            d_loss = loss_fake\n",
        "            optimizer_d.step()\n",
        "\n",
        "            # Train generator\n",
        "            optimizer_g.zero_grad()\n",
        "            outputs = discriminator(fake_images)\n",
        "            loss_generator = criterion_d(outputs, labels)\n",
        "            loss_generator.backward()\n",
        "            g_loss = loss_generator\n",
        "            optimizer_g.step()\n",
        "\n",
        "            outputs = generator(noise)\n",
        "            predictions = net(outputs)\n",
        "            predicted_labels = torch.max(predictions, dim=1).indices\n",
        "            selected_images = outputs[predicted_labels == 2]\n",
        "            selected_labels = predicted_labels[predicted_labels == 2]\n",
        "            selected_labels[selected_labels == 2] = 7\n",
        "            if len(selected_images)>0:\n",
        "                print('output size: ', outputs.size(0))\n",
        "                print('selected images size: ', selected_images.size(0))\n",
        "                optimizer_net.zero_grad()\n",
        "                outputs = net(selected_images)\n",
        "                loss = criterion(outputs, selected_labels)\n",
        "                loss.backward()\n",
        "                for param in net.parameters():\n",
        "                    param.grad *= 5\n",
        "                optimizer_net.step()\n",
        "        scheduler_net.step()\n",
        "        # scheduler_g.step()\n",
        "        # scheduler_d.step()\n",
        "    save_folder = \"content/images\"\n",
        "\n",
        "    # Tạo thư mục nếu nó chưa tồn tại\n",
        "    os.makedirs(save_folder, exist_ok=True)\n",
        "    plot_generated(generator, save_folder, num_images=16, device=device)"
      ],
      "metadata": {
        "id": "yVvWCzXUgiv-"
      },
      "execution_count": 53,
      "outputs": []
    },
    {
      "cell_type": "code",
      "source": [
        "device = torch.device(\"cuda:0\" if torch.cuda.is_available() else \"cpu\")\n",
        "generator = Generator().to(device)\n",
        "discriminator = Discriminator().to(device)\n",
        "class FlowerClient(FlowerClient):\n",
        "    def __init__(self, cid, trainloader, valloader, testloader) -> None:\n",
        "        super().__init__()\n",
        "        self.trainloader = trainloader\n",
        "        self.valloader = valloader\n",
        "        self.testloader = testloader\n",
        "        self.cid = cid\n",
        "        self.model = Model()\n",
        "        # Determine device\n",
        "        self.device = torch.device(\"cuda:0\" if torch.cuda.is_available() else \"cpu\")\n",
        "        self.model.to(self.device)  # send model to\n",
        "        self.discriminator = Discriminator()\n",
        "        self.generator = Generator()\n",
        "\n",
        "    def set_parameters(self, parameters):\n",
        "        \"\"\"With the model paramters received from the server,\n",
        "        overwrite the uninitialise model in this class with them.\"\"\"\n",
        "        params_dict = zip(self.model.state_dict().keys(), parameters)\n",
        "        state_dict = OrderedDict({k: torch.Tensor(v) for k, v in params_dict})\n",
        "        # now replace the parameters\n",
        "        self.model.load_state_dict(state_dict, strict=True)\n",
        "        self.discriminator.load_state_dict(state_dict, strict=True)\n",
        "\n",
        "    def get_parameters(self, config: Dict[str, Scalar]):\n",
        "        \"\"\"Extract all model parameters and conver them to a list of\n",
        "        NumPy arryas. The server doesn't work with PyTorch/TF/etc.\"\"\"\n",
        "        # print(f\"[Client {self.cid}] get_parameters\")\n",
        "        return [val.cpu().numpy() for _, val in self.model.state_dict().items()]\n",
        "\n",
        "    def fit(self, parameters, config):\n",
        "        \"\"\"This method train the model using the parameters sent by the\n",
        "        server on the dataset of this client. At then end, the parameters\n",
        "        of the locally trained model are communicated back to the server\"\"\"\n",
        "        # print(f\"[Client {self.cid}] fit, config: {config}\")\n",
        "        # copy parameters sent by the server into client's local model\n",
        "        self.set_parameters(parameters)\n",
        "        lr, epochs = config[\"lr\"], config[\"epochs\"]\n",
        "\n",
        "        optimizer_net = torch.optim.SGD(self.model.parameters(), lr=lr)\n",
        "        criterion = torch.nn.CrossEntropyLoss()\n",
        "        scheduler_net = lr_scheduler.StepLR(optimizer_net, step_size=2, gamma=0.1)\n",
        "\n",
        "        if self.cid in [0, 1, 2]:\n",
        "            print('ATTACKER')\n",
        "            attacker_lr, attacker_epochs = config[\"attacker_lr\"], config[\"attacker_epochs\"]\n",
        "            loss, accuracy = test(self.model, self.testloader, device=self.device)\n",
        "            criterion_d = torch.nn.CrossEntropyLoss()\n",
        "            optimizer_g = torch.optim.SGD(generator.parameters(), lr=attacker_lr)\n",
        "            scheduler_g = lr_scheduler.StepLR(optimizer_g, step_size=2, gamma=0.1)\n",
        "            optimizer_d = torch.optim.SGD(discriminator.parameters(), lr=attacker_lr)\n",
        "            scheduler_d = lr_scheduler.StepLR(optimizer_d, step_size=2, gamma=0.1)\n",
        "\n",
        "            if accuracy > 60:\n",
        "                train(net=self.model, trainloader=self.trainloader, optim=optimizer_net, scheduler=scheduler_net, criterion=criterion, epochs=epochs, device=self.device)\n",
        "                poisontrain(self.model, generator, discriminator, self.trainloader,\n",
        "                          optimizer_net, optimizer_g, optimizer_d,\n",
        "                          scheduler_net, scheduler_g, scheduler_d,\n",
        "                          criterion, criterion_d, attacker_epochs, self.device)\n",
        "            else:\n",
        "                poisontrain(self.model, generator, discriminator, self.trainloader,\n",
        "                          optimizer_net, optimizer_g, optimizer_d,\n",
        "                          scheduler_net, scheduler_g, scheduler_d,\n",
        "                          criterion, criterion_d, attacker_epochs, self.device)\n",
        "        else:\n",
        "            train(net=self.model, trainloader=self.trainloader, optim=optimizer_net, scheduler=scheduler_net, criterion=criterion, epochs=epochs, device=self.device)\n",
        "\n",
        "        # return the model parameters to the server as well as extra info (number of training examples in this case)\n",
        "        return self.get_parameters({}), len(self.trainloader), {}\n",
        "\n",
        "    def evaluate(self, parameters: NDArrays, config: Dict[str, Scalar]):\n",
        "        \"\"\"Evaluate the model sent by the server on this client's\n",
        "        local validation set. Then return performance metrics.\"\"\"\n",
        "\n",
        "        self.set_parameters(parameters)\n",
        "        loss, accuracy = test(self.model, self.valloader, device=self.device)\n",
        "\n",
        "        return float(loss), len(self.valloader), {\"accuracy\": accuracy}"
      ],
      "metadata": {
        "id": "UYzulLVecDhh"
      },
      "execution_count": 54,
      "outputs": []
    },
    {
      "cell_type": "code",
      "source": [
        "import glob\n",
        "import os\n",
        "net = Model()\n",
        "# list_of_files = [fname for fname in glob.glob(\"./model_round_*\")]\n",
        "# latest_round_file = max(list_of_files, key=os.path.getctime)\n",
        "latest_round_file = './model_round_df.pth'\n",
        "print(\"Loading pre-trained model from: \", latest_round_file)\n",
        "state_dict = torch.load(latest_round_file)\n",
        "net.load_state_dict(state_dict)"
      ],
      "metadata": {
        "id": "nMbxpOIuciXY",
        "outputId": "baf6e631-52da-4842-8486-73e0d7f53aad",
        "colab": {
          "base_uri": "https://localhost:8080/"
        }
      },
      "execution_count": 55,
      "outputs": [
        {
          "output_type": "stream",
          "name": "stdout",
          "text": [
            "Loading pre-trained model from:  ./model_round_df.pth\n"
          ]
        },
        {
          "output_type": "execute_result",
          "data": {
            "text/plain": [
              "<All keys matched successfully>"
            ]
          },
          "metadata": {},
          "execution_count": 55
        }
      ]
    },
    {
      "cell_type": "code",
      "source": [
        "def get_parameters():\n",
        "    \"\"\"Extract all model parameters and conver them to a list of\n",
        "    NumPy arryas. The server doesn't work with PyTorch/TF/etc.\"\"\"\n",
        "    return [val.cpu().numpy() for _, val in net.state_dict().items()]"
      ],
      "metadata": {
        "id": "DAGYFxwKnosX"
      },
      "execution_count": 56,
      "outputs": []
    },
    {
      "cell_type": "code",
      "source": [
        "params = get_parameters()\n",
        "\n",
        "strategy = SaveModelStrategy(\n",
        "    fraction_fit=0.31,  # Sample 10% of available clients for training\n",
        "    fraction_evaluate=0.31,  # Sample 5% of available clients for evaluation\n",
        "    on_fit_config_fn=fit_config,\n",
        "    evaluate_metrics_aggregation_fn=weighted_average,  # aggregates federated metrics\n",
        "    evaluate_fn=get_evaluate_fn(centralized_testset),  # global evaluation function\n",
        "    initial_parameters=fl.common.ndarrays_to_parameters(params),\n",
        ")"
      ],
      "metadata": {
        "id": "3Hx55QIkdjce"
      },
      "execution_count": 57,
      "outputs": []
    },
    {
      "cell_type": "code",
      "source": [
        "# With a dictionary, you tell Flower's VirtualClientEngine that each\n",
        "# client needs exclusive access to these many resources in order to run\n",
        "client_resources = {\"num_cpus\": 0.2, \"num_gpus\": 0.1}\n",
        "\n",
        "# Let's disable tqdm progress bar in the main thread (used by the server)\n",
        "disable_progress_bar()\n",
        "history = fl.simulation.start_simulation(\n",
        "    client_fn=client_fn_callback,  # a callback to construct a client\n",
        "    num_clients=NUM_CLIENTS,  # total number of clients in the experiment\n",
        "    config=fl.server.ServerConfig(num_rounds=50),  # let's run for 10 rounds\n",
        "    strategy=strategy,  # the strategy that will orchestrate the whole FL pipeline\n",
        "    client_resources=client_resources,\n",
        "    actor_kwargs={\n",
        "        \"on_actor_init_fn\": disable_progress_bar  # disable tqdm on each actor/process spawning virtual clients\n",
        "    },\n",
        ")"
      ],
      "metadata": {
        "id": "kFfMZwVVchgj",
        "outputId": "6aff90e7-e884-443a-d94f-fd652d99d816",
        "colab": {
          "base_uri": "https://localhost:8080/"
        }
      },
      "execution_count": 58,
      "outputs": [
        {
          "output_type": "stream",
          "name": "stderr",
          "text": [
            "\u001b[92mINFO \u001b[0m:      Starting Flower simulation, config: num_rounds=50, no round_timeout\n",
            "INFO:flwr:Starting Flower simulation, config: num_rounds=50, no round_timeout\n",
            "/usr/lib/python3.10/subprocess.py:1796: RuntimeWarning: os.fork() was called. os.fork() is incompatible with multithreaded code, and JAX is multithreaded, so this will likely lead to a deadlock.\n",
            "  self.pid = _posixsubprocess.fork_exec(\n",
            "2024-04-10 18:01:34,779\tINFO worker.py:1621 -- Started a local Ray instance.\n",
            "\u001b[92mINFO \u001b[0m:      Flower VCE: Ray initialized with resources: {'CPU': 2.0, 'node:__internal_head__': 1.0, 'object_store_memory': 3845469388.0, 'GPU': 1.0, 'node:172.28.0.12': 1.0, 'memory': 7690938779.0}\n",
            "INFO:flwr:Flower VCE: Ray initialized with resources: {'CPU': 2.0, 'node:__internal_head__': 1.0, 'object_store_memory': 3845469388.0, 'GPU': 1.0, 'node:172.28.0.12': 1.0, 'memory': 7690938779.0}\n",
            "\u001b[92mINFO \u001b[0m:      Optimize your simulation with Flower VCE: https://flower.ai/docs/framework/how-to-run-simulations.html\n",
            "INFO:flwr:Optimize your simulation with Flower VCE: https://flower.ai/docs/framework/how-to-run-simulations.html\n",
            "\u001b[92mINFO \u001b[0m:      Flower VCE: Resources for each Virtual Client: {'num_cpus': 0.2, 'num_gpus': 0.1}\n",
            "INFO:flwr:Flower VCE: Resources for each Virtual Client: {'num_cpus': 0.2, 'num_gpus': 0.1}\n",
            "\u001b[92mINFO \u001b[0m:      Flower VCE: Creating VirtualClientEngineActorPool with 10 actors\n",
            "INFO:flwr:Flower VCE: Creating VirtualClientEngineActorPool with 10 actors\n",
            "\u001b[92mINFO \u001b[0m:      [INIT]\n",
            "INFO:flwr:[INIT]\n",
            "\u001b[92mINFO \u001b[0m:      Using initial global parameters provided by strategy\n",
            "INFO:flwr:Using initial global parameters provided by strategy\n",
            "\u001b[92mINFO \u001b[0m:      Evaluating initial global parameters\n",
            "INFO:flwr:Evaluating initial global parameters\n",
            "2024-04-10 18:01:51,127\tWARNING worker.py:2037 -- WARNING: 8 PYTHON worker processes have been started on node: 872c9d6c9b0872963b2023a33988bee583c292c6d77bd39b156872fa with address: 172.28.0.12. This could be a result of using a large number of actors, or due to tasks blocked in ray.get() calls (see https://github.com/ray-project/ray/issues/3644 for some discussion of workarounds).\n",
            "\u001b[92mINFO \u001b[0m:      initial parameters (loss, other metrics): 332.86745488643646, {'accuracy': 2.7131782945736433}\n",
            "INFO:flwr:initial parameters (loss, other metrics): 332.86745488643646, {'accuracy': 2.7131782945736433}\n",
            "\u001b[92mINFO \u001b[0m:      \n",
            "INFO:flwr:\n",
            "\u001b[92mINFO \u001b[0m:      [ROUND 1]\n",
            "INFO:flwr:[ROUND 1]\n",
            "\u001b[92mINFO \u001b[0m:      configure_fit: strategy sampled 10 clients (out of 33)\n",
            "INFO:flwr:configure_fit: strategy sampled 10 clients (out of 33)\n"
          ]
        },
        {
          "output_type": "stream",
          "name": "stdout",
          "text": [
            "GLOBAL TEST\n"
          ]
        },
        {
          "output_type": "stream",
          "name": "stderr",
          "text": [
            "\u001b[2m\u001b[36m(pid=19642)\u001b[0m 2024-04-10 18:02:07.989332: E external/local_xla/xla/stream_executor/cuda/cuda_dnn.cc:9261] Unable to register cuDNN factory: Attempting to register factory for plugin cuDNN when one has already been registered\n",
            "\u001b[2m\u001b[36m(pid=19642)\u001b[0m 2024-04-10 18:02:07.989389: E external/local_xla/xla/stream_executor/cuda/cuda_fft.cc:607] Unable to register cuFFT factory: Attempting to register factory for plugin cuFFT when one has already been registered\n",
            "\u001b[2m\u001b[36m(pid=19642)\u001b[0m 2024-04-10 18:02:07.998901: E external/local_xla/xla/stream_executor/cuda/cuda_blas.cc:1515] Unable to register cuBLAS factory: Attempting to register factory for plugin cuBLAS when one has already been registered\n",
            "\u001b[2m\u001b[36m(pid=19856)\u001b[0m 2024-04-10 18:02:18.598886: W tensorflow/compiler/tf2tensorrt/utils/py_utils.cc:38] TF-TRT Warning: Could not find TensorRT\n",
            "\u001b[2m\u001b[36m(pid=19811)\u001b[0m 2024-04-10 18:02:08.667428: E external/local_xla/xla/stream_executor/cuda/cuda_dnn.cc:9261] Unable to register cuDNN factory: Attempting to register factory for plugin cuDNN when one has already been registered\u001b[32m [repeated 9x across cluster]\u001b[0m\n",
            "\u001b[2m\u001b[36m(pid=19811)\u001b[0m 2024-04-10 18:02:08.667488: E external/local_xla/xla/stream_executor/cuda/cuda_fft.cc:607] Unable to register cuFFT factory: Attempting to register factory for plugin cuFFT when one has already been registered\u001b[32m [repeated 9x across cluster]\u001b[0m\n",
            "\u001b[2m\u001b[36m(pid=19811)\u001b[0m 2024-04-10 18:02:08.682131: E external/local_xla/xla/stream_executor/cuda/cuda_blas.cc:1515] Unable to register cuBLAS factory: Attempting to register factory for plugin cuBLAS when one has already been registered\u001b[32m [repeated 9x across cluster]\u001b[0m\n"
          ]
        },
        {
          "output_type": "stream",
          "name": "stdout",
          "text": [
            "\u001b[2m\u001b[36m(ClientAppActor pid=19855)\u001b[0m ATTACKER\n",
            "\u001b[2m\u001b[36m(ClientAppActor pid=19855)\u001b[0m output size:  256\n",
            "\u001b[2m\u001b[36m(ClientAppActor pid=19855)\u001b[0m selected images size:  105\n",
            "\u001b[2m\u001b[36m(ClientAppActor pid=19855)\u001b[0m output size:  256\n",
            "\u001b[2m\u001b[36m(ClientAppActor pid=19855)\u001b[0m selected images size:  1\n"
          ]
        },
        {
          "output_type": "stream",
          "name": "stderr",
          "text": [
            "\u001b[2m\u001b[36m(ClientAppActor pid=19855)\u001b[0m /usr/local/lib/python3.10/dist-packages/jupyter_client/connect.py:28: DeprecationWarning: Jupyter is migrating its paths to use standard platformdirs\n",
            "\u001b[2m\u001b[36m(ClientAppActor pid=19855)\u001b[0m given by the platformdirs library.  To remove this warning and\n",
            "\u001b[2m\u001b[36m(ClientAppActor pid=19855)\u001b[0m see the appropriate new directories, set the environment variable\n",
            "\u001b[2m\u001b[36m(ClientAppActor pid=19855)\u001b[0m `JUPYTER_PLATFORM_DIRS=1` and then run `jupyter --paths`.\n",
            "\u001b[2m\u001b[36m(ClientAppActor pid=19855)\u001b[0m The use of platformdirs will be the default in `jupyter_core` v6\n",
            "\u001b[2m\u001b[36m(ClientAppActor pid=19855)\u001b[0m   from jupyter_core.paths import jupyter_data_dir, jupyter_runtime_dir, secure_write\n",
            "\u001b[2m\u001b[36m(pid=19750)\u001b[0m 2024-04-10 18:02:20.038452: W tensorflow/compiler/tf2tensorrt/utils/py_utils.cc:38] TF-TRT Warning: Could not find TensorRT\u001b[32m [repeated 9x across cluster]\u001b[0m\n",
            "\u001b[92mINFO \u001b[0m:      aggregate_fit: received 10 results and 0 failures\n",
            "INFO:flwr:aggregate_fit: received 10 results and 0 failures\n",
            "\u001b[93mWARNING \u001b[0m:   No fit_metrics_aggregation_fn provided\n",
            "WARNING:flwr:No fit_metrics_aggregation_fn provided\n"
          ]
        },
        {
          "output_type": "stream",
          "name": "stdout",
          "text": [
            "Saving round 1 aggregated_parameters...\n"
          ]
        },
        {
          "output_type": "stream",
          "name": "stderr",
          "text": [
            "\u001b[92mINFO \u001b[0m:      fit progress: (1, 331.6653048992157, {'accuracy': 2.7131782945736433}, 116.22054640899933)\n",
            "INFO:flwr:fit progress: (1, 331.6653048992157, {'accuracy': 2.7131782945736433}, 116.22054640899933)\n",
            "\u001b[92mINFO \u001b[0m:      configure_evaluate: strategy sampled 10 clients (out of 33)\n",
            "INFO:flwr:configure_evaluate: strategy sampled 10 clients (out of 33)\n"
          ]
        },
        {
          "output_type": "stream",
          "name": "stdout",
          "text": [
            "GLOBAL TEST\n"
          ]
        },
        {
          "output_type": "stream",
          "name": "stderr",
          "text": [
            "\u001b[92mINFO \u001b[0m:      aggregate_evaluate: received 10 results and 0 failures\n",
            "INFO:flwr:aggregate_evaluate: received 10 results and 0 failures\n",
            "\u001b[92mINFO \u001b[0m:      \n",
            "INFO:flwr:\n",
            "\u001b[92mINFO \u001b[0m:      [ROUND 2]\n",
            "INFO:flwr:[ROUND 2]\n",
            "\u001b[92mINFO \u001b[0m:      configure_fit: strategy sampled 10 clients (out of 33)\n",
            "INFO:flwr:configure_fit: strategy sampled 10 clients (out of 33)\n"
          ]
        },
        {
          "output_type": "stream",
          "name": "stdout",
          "text": [
            "\u001b[2m\u001b[36m(ClientAppActor pid=19750)\u001b[0m ATTACKER\n",
            "\u001b[2m\u001b[36m(ClientAppActor pid=19750)\u001b[0m output size:  256\n",
            "\u001b[2m\u001b[36m(ClientAppActor pid=19750)\u001b[0m selected images size:  46\n",
            "\u001b[2m\u001b[36m(ClientAppActor pid=19750)\u001b[0m output size:  256\n",
            "\u001b[2m\u001b[36m(ClientAppActor pid=19750)\u001b[0m selected images size:  107\n",
            "\u001b[2m\u001b[36m(ClientAppActor pid=19750)\u001b[0m output size:  256\n",
            "\u001b[2m\u001b[36m(ClientAppActor pid=19750)\u001b[0m selected images size:  46\n",
            "\u001b[2m\u001b[36m(ClientAppActor pid=19750)\u001b[0m output size:  256\n",
            "\u001b[2m\u001b[36m(ClientAppActor pid=19750)\u001b[0m selected images size:  117\n",
            "\u001b[2m\u001b[36m(ClientAppActor pid=19750)\u001b[0m output size:  256\n",
            "\u001b[2m\u001b[36m(ClientAppActor pid=19750)\u001b[0m selected images size:  89\n",
            "\u001b[2m\u001b[36m(ClientAppActor pid=19750)\u001b[0m output size:  256\n",
            "\u001b[2m\u001b[36m(ClientAppActor pid=19750)\u001b[0m selected images size:  47\n",
            "\u001b[2m\u001b[36m(ClientAppActor pid=19750)\u001b[0m output size:  101\n",
            "\u001b[2m\u001b[36m(ClientAppActor pid=19750)\u001b[0m selected images size:  98\n",
            "\u001b[2m\u001b[36m(ClientAppActor pid=19750)\u001b[0m output size:  256\n",
            "\u001b[2m\u001b[36m(ClientAppActor pid=19750)\u001b[0m selected images size:  1\n",
            "\u001b[2m\u001b[36m(ClientAppActor pid=19750)\u001b[0m output size:  256\n",
            "\u001b[2m\u001b[36m(ClientAppActor pid=19750)\u001b[0m selected images size:  1\n",
            "\u001b[2m\u001b[36m(ClientAppActor pid=19750)\u001b[0m output size:  101\n",
            "\u001b[2m\u001b[36m(ClientAppActor pid=19750)\u001b[0m selected images size:  1\n",
            "\u001b[2m\u001b[36m(ClientAppActor pid=19750)\u001b[0m output size:  256\n",
            "\u001b[2m\u001b[36m(ClientAppActor pid=19750)\u001b[0m selected images size:  1\n"
          ]
        },
        {
          "output_type": "stream",
          "name": "stderr",
          "text": [
            "\u001b[2m\u001b[36m(ClientAppActor pid=19750)\u001b[0m /usr/local/lib/python3.10/dist-packages/jupyter_client/connect.py:28: DeprecationWarning: Jupyter is migrating its paths to use standard platformdirs\n",
            "\u001b[2m\u001b[36m(ClientAppActor pid=19750)\u001b[0m given by the platformdirs library.  To remove this warning and\n",
            "\u001b[2m\u001b[36m(ClientAppActor pid=19750)\u001b[0m see the appropriate new directories, set the environment variable\n",
            "\u001b[2m\u001b[36m(ClientAppActor pid=19750)\u001b[0m `JUPYTER_PLATFORM_DIRS=1` and then run `jupyter --paths`.\n",
            "\u001b[2m\u001b[36m(ClientAppActor pid=19750)\u001b[0m The use of platformdirs will be the default in `jupyter_core` v6\n",
            "\u001b[2m\u001b[36m(ClientAppActor pid=19750)\u001b[0m   from jupyter_core.paths import jupyter_data_dir, jupyter_runtime_dir, secure_write\n",
            "\u001b[92mINFO \u001b[0m:      aggregate_fit: received 10 results and 0 failures\n",
            "INFO:flwr:aggregate_fit: received 10 results and 0 failures\n"
          ]
        },
        {
          "output_type": "stream",
          "name": "stdout",
          "text": [
            "Saving round 2 aggregated_parameters...\n"
          ]
        },
        {
          "output_type": "stream",
          "name": "stderr",
          "text": [
            "\u001b[92mINFO \u001b[0m:      fit progress: (2, 329.69378316402435, {'accuracy': 2.7131782945736433}, 188.15795716399953)\n",
            "INFO:flwr:fit progress: (2, 329.69378316402435, {'accuracy': 2.7131782945736433}, 188.15795716399953)\n",
            "\u001b[92mINFO \u001b[0m:      configure_evaluate: strategy sampled 10 clients (out of 33)\n",
            "INFO:flwr:configure_evaluate: strategy sampled 10 clients (out of 33)\n"
          ]
        },
        {
          "output_type": "stream",
          "name": "stdout",
          "text": [
            "GLOBAL TEST\n"
          ]
        },
        {
          "output_type": "stream",
          "name": "stderr",
          "text": [
            "\u001b[92mINFO \u001b[0m:      aggregate_evaluate: received 10 results and 0 failures\n",
            "INFO:flwr:aggregate_evaluate: received 10 results and 0 failures\n",
            "\u001b[92mINFO \u001b[0m:      \n",
            "INFO:flwr:\n",
            "\u001b[92mINFO \u001b[0m:      [ROUND 3]\n",
            "INFO:flwr:[ROUND 3]\n",
            "\u001b[92mINFO \u001b[0m:      configure_fit: strategy sampled 10 clients (out of 33)\n",
            "INFO:flwr:configure_fit: strategy sampled 10 clients (out of 33)\n"
          ]
        },
        {
          "output_type": "stream",
          "name": "stdout",
          "text": [
            "\u001b[2m\u001b[36m(ClientAppActor pid=19811)\u001b[0m ATTACKER\n",
            "\u001b[2m\u001b[36m(ClientAppActor pid=19811)\u001b[0m output size:  256\n",
            "\u001b[2m\u001b[36m(ClientAppActor pid=19811)\u001b[0m selected images size:  92\n",
            "\u001b[2m\u001b[36m(ClientAppActor pid=19811)\u001b[0m output size:  256\n",
            "\u001b[2m\u001b[36m(ClientAppActor pid=19811)\u001b[0m selected images size:  3\n",
            "\u001b[2m\u001b[36m(ClientAppActor pid=19811)\u001b[0m output size:  256\n",
            "\u001b[2m\u001b[36m(ClientAppActor pid=19811)\u001b[0m selected images size:  6\n"
          ]
        },
        {
          "output_type": "stream",
          "name": "stderr",
          "text": [
            "\u001b[2m\u001b[36m(ClientAppActor pid=19811)\u001b[0m /usr/local/lib/python3.10/dist-packages/jupyter_client/connect.py:28: DeprecationWarning: Jupyter is migrating its paths to use standard platformdirs\n",
            "\u001b[2m\u001b[36m(ClientAppActor pid=19811)\u001b[0m given by the platformdirs library.  To remove this warning and\n",
            "\u001b[2m\u001b[36m(ClientAppActor pid=19811)\u001b[0m see the appropriate new directories, set the environment variable\n",
            "\u001b[2m\u001b[36m(ClientAppActor pid=19811)\u001b[0m `JUPYTER_PLATFORM_DIRS=1` and then run `jupyter --paths`.\n",
            "\u001b[2m\u001b[36m(ClientAppActor pid=19811)\u001b[0m The use of platformdirs will be the default in `jupyter_core` v6\n",
            "\u001b[2m\u001b[36m(ClientAppActor pid=19811)\u001b[0m   from jupyter_core.paths import jupyter_data_dir, jupyter_runtime_dir, secure_write\n",
            "\u001b[92mINFO \u001b[0m:      aggregate_fit: received 10 results and 0 failures\n",
            "INFO:flwr:aggregate_fit: received 10 results and 0 failures\n"
          ]
        },
        {
          "output_type": "stream",
          "name": "stdout",
          "text": [
            "Saving round 3 aggregated_parameters...\n"
          ]
        },
        {
          "output_type": "stream",
          "name": "stderr",
          "text": [
            "\u001b[92mINFO \u001b[0m:      fit progress: (3, 328.66066789627075, {'accuracy': 2.616279069767442}, 259.1913520019998)\n",
            "INFO:flwr:fit progress: (3, 328.66066789627075, {'accuracy': 2.616279069767442}, 259.1913520019998)\n",
            "\u001b[92mINFO \u001b[0m:      configure_evaluate: strategy sampled 10 clients (out of 33)\n",
            "INFO:flwr:configure_evaluate: strategy sampled 10 clients (out of 33)\n"
          ]
        },
        {
          "output_type": "stream",
          "name": "stdout",
          "text": [
            "GLOBAL TEST\n"
          ]
        },
        {
          "output_type": "stream",
          "name": "stderr",
          "text": [
            "\u001b[92mINFO \u001b[0m:      aggregate_evaluate: received 10 results and 0 failures\n",
            "INFO:flwr:aggregate_evaluate: received 10 results and 0 failures\n",
            "\u001b[92mINFO \u001b[0m:      \n",
            "INFO:flwr:\n",
            "\u001b[92mINFO \u001b[0m:      [ROUND 4]\n",
            "INFO:flwr:[ROUND 4]\n",
            "\u001b[92mINFO \u001b[0m:      configure_fit: strategy sampled 10 clients (out of 33)\n",
            "INFO:flwr:configure_fit: strategy sampled 10 clients (out of 33)\n",
            "\u001b[92mINFO \u001b[0m:      aggregate_fit: received 10 results and 0 failures\n",
            "INFO:flwr:aggregate_fit: received 10 results and 0 failures\n"
          ]
        },
        {
          "output_type": "stream",
          "name": "stdout",
          "text": [
            "Saving round 4 aggregated_parameters...\n"
          ]
        },
        {
          "output_type": "stream",
          "name": "stderr",
          "text": [
            "\u001b[92mINFO \u001b[0m:      fit progress: (4, 327.39432287216187, {'accuracy': 2.5193798449612403}, 313.6078317769998)\n",
            "INFO:flwr:fit progress: (4, 327.39432287216187, {'accuracy': 2.5193798449612403}, 313.6078317769998)\n",
            "\u001b[92mINFO \u001b[0m:      configure_evaluate: strategy sampled 10 clients (out of 33)\n",
            "INFO:flwr:configure_evaluate: strategy sampled 10 clients (out of 33)\n"
          ]
        },
        {
          "output_type": "stream",
          "name": "stdout",
          "text": [
            "GLOBAL TEST\n"
          ]
        },
        {
          "output_type": "stream",
          "name": "stderr",
          "text": [
            "\u001b[92mINFO \u001b[0m:      aggregate_evaluate: received 10 results and 0 failures\n",
            "INFO:flwr:aggregate_evaluate: received 10 results and 0 failures\n",
            "\u001b[92mINFO \u001b[0m:      \n",
            "INFO:flwr:\n",
            "\u001b[92mINFO \u001b[0m:      [ROUND 5]\n",
            "INFO:flwr:[ROUND 5]\n",
            "\u001b[92mINFO \u001b[0m:      configure_fit: strategy sampled 10 clients (out of 33)\n",
            "INFO:flwr:configure_fit: strategy sampled 10 clients (out of 33)\n"
          ]
        },
        {
          "output_type": "stream",
          "name": "stdout",
          "text": [
            "\u001b[2m\u001b[36m(ClientAppActor pid=19811)\u001b[0m ATTACKER\n",
            "\u001b[2m\u001b[36m(ClientAppActor pid=19734)\u001b[0m ATTACKER\n",
            "\u001b[2m\u001b[36m(ClientAppActor pid=19795)\u001b[0m ATTACKER\n",
            "\u001b[2m\u001b[36m(ClientAppActor pid=19811)\u001b[0m output size:  256\n",
            "\u001b[2m\u001b[36m(ClientAppActor pid=19811)\u001b[0m selected images size:  70\n",
            "\u001b[2m\u001b[36m(ClientAppActor pid=19811)\u001b[0m output size:  256\n",
            "\u001b[2m\u001b[36m(ClientAppActor pid=19811)\u001b[0m selected images size:  77\n",
            "\u001b[2m\u001b[36m(ClientAppActor pid=19811)\u001b[0m output size:  256\n",
            "\u001b[2m\u001b[36m(ClientAppActor pid=19811)\u001b[0m selected images size:  5\n",
            "\u001b[2m\u001b[36m(ClientAppActor pid=19795)\u001b[0m output size:  256\n",
            "\u001b[2m\u001b[36m(ClientAppActor pid=19795)\u001b[0m selected images size:  82\n",
            "\u001b[2m\u001b[36m(ClientAppActor pid=19795)\u001b[0m output size:  256\n",
            "\u001b[2m\u001b[36m(ClientAppActor pid=19795)\u001b[0m selected images size:  67\n",
            "\u001b[2m\u001b[36m(ClientAppActor pid=19795)\u001b[0m output size:  256\n",
            "\u001b[2m\u001b[36m(ClientAppActor pid=19795)\u001b[0m selected images size:  1\n",
            "\u001b[2m\u001b[36m(ClientAppActor pid=19795)\u001b[0m output size:  256\u001b[32m [repeated 9x across cluster]\u001b[0m\n",
            "\u001b[2m\u001b[36m(ClientAppActor pid=19795)\u001b[0m selected images size:  1\u001b[32m [repeated 9x across cluster]\u001b[0m\n"
          ]
        },
        {
          "output_type": "stream",
          "name": "stderr",
          "text": [
            "\u001b[2m\u001b[36m(ClientAppActor pid=19795)\u001b[0m /usr/local/lib/python3.10/dist-packages/jupyter_client/connect.py:28: DeprecationWarning: Jupyter is migrating its paths to use standard platformdirs\n",
            "\u001b[2m\u001b[36m(ClientAppActor pid=19795)\u001b[0m given by the platformdirs library.  To remove this warning and\n",
            "\u001b[2m\u001b[36m(ClientAppActor pid=19795)\u001b[0m see the appropriate new directories, set the environment variable\n",
            "\u001b[2m\u001b[36m(ClientAppActor pid=19795)\u001b[0m `JUPYTER_PLATFORM_DIRS=1` and then run `jupyter --paths`.\n",
            "\u001b[2m\u001b[36m(ClientAppActor pid=19795)\u001b[0m The use of platformdirs will be the default in `jupyter_core` v6\n",
            "\u001b[2m\u001b[36m(ClientAppActor pid=19795)\u001b[0m   from jupyter_core.paths import jupyter_data_dir, jupyter_runtime_dir, secure_write\n",
            "\u001b[2m\u001b[36m(ClientAppActor pid=19734)\u001b[0m /usr/local/lib/python3.10/dist-packages/jupyter_client/connect.py:28: DeprecationWarning: Jupyter is migrating its paths to use standard platformdirs\n",
            "\u001b[2m\u001b[36m(ClientAppActor pid=19734)\u001b[0m given by the platformdirs library.  To remove this warning and\n",
            "\u001b[2m\u001b[36m(ClientAppActor pid=19734)\u001b[0m see the appropriate new directories, set the environment variable\n",
            "\u001b[2m\u001b[36m(ClientAppActor pid=19734)\u001b[0m `JUPYTER_PLATFORM_DIRS=1` and then run `jupyter --paths`.\n",
            "\u001b[2m\u001b[36m(ClientAppActor pid=19734)\u001b[0m The use of platformdirs will be the default in `jupyter_core` v6\n",
            "\u001b[2m\u001b[36m(ClientAppActor pid=19734)\u001b[0m   from jupyter_core.paths import jupyter_data_dir, jupyter_runtime_dir, secure_write\n",
            "\u001b[92mINFO \u001b[0m:      aggregate_fit: received 10 results and 0 failures\n",
            "INFO:flwr:aggregate_fit: received 10 results and 0 failures\n"
          ]
        },
        {
          "output_type": "stream",
          "name": "stdout",
          "text": [
            "Saving round 5 aggregated_parameters...\n"
          ]
        },
        {
          "output_type": "stream",
          "name": "stderr",
          "text": [
            "\u001b[92mINFO \u001b[0m:      fit progress: (5, 327.8235294818878, {'accuracy': 2.616279069767442}, 412.88719415000014)\n",
            "INFO:flwr:fit progress: (5, 327.8235294818878, {'accuracy': 2.616279069767442}, 412.88719415000014)\n",
            "\u001b[92mINFO \u001b[0m:      configure_evaluate: strategy sampled 10 clients (out of 33)\n",
            "INFO:flwr:configure_evaluate: strategy sampled 10 clients (out of 33)\n"
          ]
        },
        {
          "output_type": "stream",
          "name": "stdout",
          "text": [
            "GLOBAL TEST\n"
          ]
        },
        {
          "output_type": "stream",
          "name": "stderr",
          "text": [
            "\u001b[92mINFO \u001b[0m:      aggregate_evaluate: received 10 results and 0 failures\n",
            "INFO:flwr:aggregate_evaluate: received 10 results and 0 failures\n",
            "\u001b[92mINFO \u001b[0m:      \n",
            "INFO:flwr:\n",
            "\u001b[92mINFO \u001b[0m:      [ROUND 6]\n",
            "INFO:flwr:[ROUND 6]\n",
            "\u001b[92mINFO \u001b[0m:      configure_fit: strategy sampled 10 clients (out of 33)\n",
            "INFO:flwr:configure_fit: strategy sampled 10 clients (out of 33)\n"
          ]
        },
        {
          "output_type": "stream",
          "name": "stdout",
          "text": [
            "\u001b[2m\u001b[36m(ClientAppActor pid=19750)\u001b[0m ATTACKER\n",
            "\u001b[2m\u001b[36m(ClientAppActor pid=19795)\u001b[0m output size:  256\u001b[32m [repeated 2x across cluster]\u001b[0m\n",
            "\u001b[2m\u001b[36m(ClientAppActor pid=19795)\u001b[0m selected images size:  1\u001b[32m [repeated 2x across cluster]\u001b[0m\n",
            "\u001b[2m\u001b[36m(ClientAppActor pid=19750)\u001b[0m output size:  256\n",
            "\u001b[2m\u001b[36m(ClientAppActor pid=19750)\u001b[0m selected images size:  55\n",
            "\u001b[2m\u001b[36m(ClientAppActor pid=19750)\u001b[0m output size:  256\n",
            "\u001b[2m\u001b[36m(ClientAppActor pid=19750)\u001b[0m selected images size:  62\n",
            "\u001b[2m\u001b[36m(ClientAppActor pid=19750)\u001b[0m output size:  256\n",
            "\u001b[2m\u001b[36m(ClientAppActor pid=19750)\u001b[0m selected images size:  9\n",
            "\u001b[2m\u001b[36m(ClientAppActor pid=19750)\u001b[0m output size:  256\n",
            "\u001b[2m\u001b[36m(ClientAppActor pid=19750)\u001b[0m selected images size:  54\n",
            "\u001b[2m\u001b[36m(ClientAppActor pid=19750)\u001b[0m output size:  256\n",
            "\u001b[2m\u001b[36m(ClientAppActor pid=19750)\u001b[0m selected images size:  10\n",
            "\u001b[2m\u001b[36m(ClientAppActor pid=19750)\u001b[0m output size:  256\n",
            "\u001b[2m\u001b[36m(ClientAppActor pid=19750)\u001b[0m selected images size:  36\n",
            "\u001b[2m\u001b[36m(ClientAppActor pid=19750)\u001b[0m output size:  101\n",
            "\u001b[2m\u001b[36m(ClientAppActor pid=19750)\u001b[0m selected images size:  33\n",
            "\u001b[2m\u001b[36m(ClientAppActor pid=19750)\u001b[0m output size:  256\n",
            "\u001b[2m\u001b[36m(ClientAppActor pid=19750)\u001b[0m selected images size:  16\n",
            "\u001b[2m\u001b[36m(ClientAppActor pid=19750)\u001b[0m output size:  256\n",
            "\u001b[2m\u001b[36m(ClientAppActor pid=19750)\u001b[0m selected images size:  1\n"
          ]
        },
        {
          "output_type": "stream",
          "name": "stderr",
          "text": [
            "\u001b[92mINFO \u001b[0m:      aggregate_fit: received 10 results and 0 failures\n",
            "INFO:flwr:aggregate_fit: received 10 results and 0 failures\n"
          ]
        },
        {
          "output_type": "stream",
          "name": "stdout",
          "text": [
            "Saving round 6 aggregated_parameters...\n"
          ]
        },
        {
          "output_type": "stream",
          "name": "stderr",
          "text": [
            "\u001b[92mINFO \u001b[0m:      fit progress: (6, 326.4784759283066, {'accuracy': 2.5193798449612403}, 484.21192106799936)\n",
            "INFO:flwr:fit progress: (6, 326.4784759283066, {'accuracy': 2.5193798449612403}, 484.21192106799936)\n",
            "\u001b[92mINFO \u001b[0m:      configure_evaluate: strategy sampled 10 clients (out of 33)\n",
            "INFO:flwr:configure_evaluate: strategy sampled 10 clients (out of 33)\n"
          ]
        },
        {
          "output_type": "stream",
          "name": "stdout",
          "text": [
            "GLOBAL TEST\n"
          ]
        },
        {
          "output_type": "stream",
          "name": "stderr",
          "text": [
            "\u001b[92mINFO \u001b[0m:      aggregate_evaluate: received 10 results and 0 failures\n",
            "INFO:flwr:aggregate_evaluate: received 10 results and 0 failures\n",
            "\u001b[92mINFO \u001b[0m:      \n",
            "INFO:flwr:\n",
            "\u001b[92mINFO \u001b[0m:      [ROUND 7]\n",
            "INFO:flwr:[ROUND 7]\n",
            "\u001b[92mINFO \u001b[0m:      configure_fit: strategy sampled 10 clients (out of 33)\n",
            "INFO:flwr:configure_fit: strategy sampled 10 clients (out of 33)\n",
            "\u001b[92mINFO \u001b[0m:      aggregate_fit: received 10 results and 0 failures\n",
            "INFO:flwr:aggregate_fit: received 10 results and 0 failures\n"
          ]
        },
        {
          "output_type": "stream",
          "name": "stdout",
          "text": [
            "Saving round 7 aggregated_parameters...\n"
          ]
        },
        {
          "output_type": "stream",
          "name": "stderr",
          "text": [
            "\u001b[92mINFO \u001b[0m:      fit progress: (7, 325.42636024951935, {'accuracy': 2.3255813953488373}, 538.4564048429993)\n",
            "INFO:flwr:fit progress: (7, 325.42636024951935, {'accuracy': 2.3255813953488373}, 538.4564048429993)\n",
            "\u001b[92mINFO \u001b[0m:      configure_evaluate: strategy sampled 10 clients (out of 33)\n",
            "INFO:flwr:configure_evaluate: strategy sampled 10 clients (out of 33)\n"
          ]
        },
        {
          "output_type": "stream",
          "name": "stdout",
          "text": [
            "GLOBAL TEST\n"
          ]
        },
        {
          "output_type": "stream",
          "name": "stderr",
          "text": [
            "\u001b[92mINFO \u001b[0m:      aggregate_evaluate: received 10 results and 0 failures\n",
            "INFO:flwr:aggregate_evaluate: received 10 results and 0 failures\n",
            "\u001b[92mINFO \u001b[0m:      \n",
            "INFO:flwr:\n",
            "\u001b[92mINFO \u001b[0m:      [ROUND 8]\n",
            "INFO:flwr:[ROUND 8]\n",
            "\u001b[92mINFO \u001b[0m:      configure_fit: strategy sampled 10 clients (out of 33)\n",
            "INFO:flwr:configure_fit: strategy sampled 10 clients (out of 33)\n"
          ]
        },
        {
          "output_type": "stream",
          "name": "stdout",
          "text": [
            "\u001b[2m\u001b[36m(ClientAppActor pid=19855)\u001b[0m ATTACKER\n",
            "\u001b[2m\u001b[36m(ClientAppActor pid=19855)\u001b[0m output size:  256\n",
            "\u001b[2m\u001b[36m(ClientAppActor pid=19855)\u001b[0m selected images size:  76\n",
            "\u001b[2m\u001b[36m(ClientAppActor pid=19855)\u001b[0m output size:  256\n",
            "\u001b[2m\u001b[36m(ClientAppActor pid=19855)\u001b[0m selected images size:  44\n",
            "\u001b[2m\u001b[36m(ClientAppActor pid=19855)\u001b[0m output size:  256\n",
            "\u001b[2m\u001b[36m(ClientAppActor pid=19855)\u001b[0m selected images size:  37\n",
            "\u001b[2m\u001b[36m(ClientAppActor pid=19855)\u001b[0m output size:  256\n",
            "\u001b[2m\u001b[36m(ClientAppActor pid=19855)\u001b[0m selected images size:  22\n",
            "\u001b[2m\u001b[36m(ClientAppActor pid=19855)\u001b[0m output size:  256\n",
            "\u001b[2m\u001b[36m(ClientAppActor pid=19855)\u001b[0m selected images size:  25\n",
            "\u001b[2m\u001b[36m(ClientAppActor pid=19855)\u001b[0m output size:  256\n",
            "\u001b[2m\u001b[36m(ClientAppActor pid=19855)\u001b[0m selected images size:  92\n",
            "\u001b[2m\u001b[36m(ClientAppActor pid=19855)\u001b[0m output size:  101\n",
            "\u001b[2m\u001b[36m(ClientAppActor pid=19855)\u001b[0m selected images size:  4\n",
            "\u001b[2m\u001b[36m(ClientAppActor pid=19855)\u001b[0m output size:  256\n",
            "\u001b[2m\u001b[36m(ClientAppActor pid=19855)\u001b[0m selected images size:  38\n",
            "\u001b[2m\u001b[36m(ClientAppActor pid=19855)\u001b[0m output size:  256\n",
            "\u001b[2m\u001b[36m(ClientAppActor pid=19855)\u001b[0m selected images size:  78\n",
            "\u001b[2m\u001b[36m(ClientAppActor pid=19855)\u001b[0m output size:  256\n",
            "\u001b[2m\u001b[36m(ClientAppActor pid=19855)\u001b[0m selected images size:  226\n",
            "\u001b[2m\u001b[36m(ClientAppActor pid=19855)\u001b[0m output size:  256\n",
            "\u001b[2m\u001b[36m(ClientAppActor pid=19855)\u001b[0m selected images size:  1\n"
          ]
        },
        {
          "output_type": "stream",
          "name": "stderr",
          "text": [
            "\u001b[92mINFO \u001b[0m:      aggregate_fit: received 10 results and 0 failures\n",
            "INFO:flwr:aggregate_fit: received 10 results and 0 failures\n"
          ]
        },
        {
          "output_type": "stream",
          "name": "stdout",
          "text": [
            "Saving round 8 aggregated_parameters...\n"
          ]
        },
        {
          "output_type": "stream",
          "name": "stderr",
          "text": [
            "\u001b[92mINFO \u001b[0m:      fit progress: (8, 325.00100445747375, {'accuracy': 2.3255813953488373}, 610.8677319199996)\n",
            "INFO:flwr:fit progress: (8, 325.00100445747375, {'accuracy': 2.3255813953488373}, 610.8677319199996)\n",
            "\u001b[92mINFO \u001b[0m:      configure_evaluate: strategy sampled 10 clients (out of 33)\n",
            "INFO:flwr:configure_evaluate: strategy sampled 10 clients (out of 33)\n"
          ]
        },
        {
          "output_type": "stream",
          "name": "stdout",
          "text": [
            "GLOBAL TEST\n"
          ]
        },
        {
          "output_type": "stream",
          "name": "stderr",
          "text": [
            "\u001b[92mINFO \u001b[0m:      aggregate_evaluate: received 10 results and 0 failures\n",
            "INFO:flwr:aggregate_evaluate: received 10 results and 0 failures\n",
            "\u001b[92mINFO \u001b[0m:      \n",
            "INFO:flwr:\n",
            "\u001b[92mINFO \u001b[0m:      [ROUND 9]\n",
            "INFO:flwr:[ROUND 9]\n",
            "\u001b[92mINFO \u001b[0m:      configure_fit: strategy sampled 10 clients (out of 33)\n",
            "INFO:flwr:configure_fit: strategy sampled 10 clients (out of 33)\n"
          ]
        },
        {
          "output_type": "stream",
          "name": "stdout",
          "text": [
            "\u001b[2m\u001b[36m(ClientAppActor pid=19811)\u001b[0m ATTACKER\n",
            "\u001b[2m\u001b[36m(ClientAppActor pid=19811)\u001b[0m output size:  256\n",
            "\u001b[2m\u001b[36m(ClientAppActor pid=19811)\u001b[0m selected images size:  55\n",
            "\u001b[2m\u001b[36m(ClientAppActor pid=19811)\u001b[0m output size:  256\n",
            "\u001b[2m\u001b[36m(ClientAppActor pid=19811)\u001b[0m selected images size:  84\n",
            "\u001b[2m\u001b[36m(ClientAppActor pid=19811)\u001b[0m output size:  256\n",
            "\u001b[2m\u001b[36m(ClientAppActor pid=19811)\u001b[0m selected images size:  211\n",
            "\u001b[2m\u001b[36m(ClientAppActor pid=19811)\u001b[0m output size:  256\n",
            "\u001b[2m\u001b[36m(ClientAppActor pid=19811)\u001b[0m selected images size:  1\n"
          ]
        },
        {
          "output_type": "stream",
          "name": "stderr",
          "text": [
            "\u001b[92mINFO \u001b[0m:      aggregate_fit: received 10 results and 0 failures\n",
            "INFO:flwr:aggregate_fit: received 10 results and 0 failures\n"
          ]
        },
        {
          "output_type": "stream",
          "name": "stdout",
          "text": [
            "Saving round 9 aggregated_parameters...\n"
          ]
        },
        {
          "output_type": "stream",
          "name": "stderr",
          "text": [
            "\u001b[92mINFO \u001b[0m:      fit progress: (9, 325.0378350019455, {'accuracy': 2.4224806201550386}, 682.9516894339995)\n",
            "INFO:flwr:fit progress: (9, 325.0378350019455, {'accuracy': 2.4224806201550386}, 682.9516894339995)\n",
            "\u001b[92mINFO \u001b[0m:      configure_evaluate: strategy sampled 10 clients (out of 33)\n",
            "INFO:flwr:configure_evaluate: strategy sampled 10 clients (out of 33)\n"
          ]
        },
        {
          "output_type": "stream",
          "name": "stdout",
          "text": [
            "GLOBAL TEST\n"
          ]
        },
        {
          "output_type": "stream",
          "name": "stderr",
          "text": [
            "\u001b[92mINFO \u001b[0m:      aggregate_evaluate: received 10 results and 0 failures\n",
            "INFO:flwr:aggregate_evaluate: received 10 results and 0 failures\n",
            "\u001b[92mINFO \u001b[0m:      \n",
            "INFO:flwr:\n",
            "\u001b[92mINFO \u001b[0m:      [ROUND 10]\n",
            "INFO:flwr:[ROUND 10]\n",
            "\u001b[92mINFO \u001b[0m:      configure_fit: strategy sampled 10 clients (out of 33)\n",
            "INFO:flwr:configure_fit: strategy sampled 10 clients (out of 33)\n",
            "\u001b[92mINFO \u001b[0m:      aggregate_fit: received 10 results and 0 failures\n",
            "INFO:flwr:aggregate_fit: received 10 results and 0 failures\n"
          ]
        },
        {
          "output_type": "stream",
          "name": "stdout",
          "text": [
            "Saving round 10 aggregated_parameters...\n"
          ]
        },
        {
          "output_type": "stream",
          "name": "stderr",
          "text": [
            "\u001b[92mINFO \u001b[0m:      fit progress: (10, 323.8922609090805, {'accuracy': 2.3255813953488373}, 737.531122331)\n",
            "INFO:flwr:fit progress: (10, 323.8922609090805, {'accuracy': 2.3255813953488373}, 737.531122331)\n",
            "\u001b[92mINFO \u001b[0m:      configure_evaluate: strategy sampled 10 clients (out of 33)\n",
            "INFO:flwr:configure_evaluate: strategy sampled 10 clients (out of 33)\n"
          ]
        },
        {
          "output_type": "stream",
          "name": "stdout",
          "text": [
            "GLOBAL TEST\n"
          ]
        },
        {
          "output_type": "stream",
          "name": "stderr",
          "text": [
            "\u001b[92mINFO \u001b[0m:      aggregate_evaluate: received 10 results and 0 failures\n",
            "INFO:flwr:aggregate_evaluate: received 10 results and 0 failures\n",
            "\u001b[92mINFO \u001b[0m:      \n",
            "INFO:flwr:\n",
            "\u001b[92mINFO \u001b[0m:      [ROUND 11]\n",
            "INFO:flwr:[ROUND 11]\n",
            "\u001b[92mINFO \u001b[0m:      configure_fit: strategy sampled 10 clients (out of 33)\n",
            "INFO:flwr:configure_fit: strategy sampled 10 clients (out of 33)\n"
          ]
        },
        {
          "output_type": "stream",
          "name": "stdout",
          "text": [
            "\u001b[2m\u001b[36m(ClientAppActor pid=19856)\u001b[0m ATTACKER\n",
            "\u001b[2m\u001b[36m(ClientAppActor pid=19856)\u001b[0m output size:  256\n",
            "\u001b[2m\u001b[36m(ClientAppActor pid=19856)\u001b[0m selected images size:  51\n",
            "\u001b[2m\u001b[36m(ClientAppActor pid=19856)\u001b[0m output size:  256\n",
            "\u001b[2m\u001b[36m(ClientAppActor pid=19856)\u001b[0m selected images size:  130\n",
            "\u001b[2m\u001b[36m(ClientAppActor pid=19856)\u001b[0m output size:  256\n",
            "\u001b[2m\u001b[36m(ClientAppActor pid=19856)\u001b[0m selected images size:  3\n",
            "\u001b[2m\u001b[36m(ClientAppActor pid=19856)\u001b[0m output size:  256\n",
            "\u001b[2m\u001b[36m(ClientAppActor pid=19856)\u001b[0m selected images size:  1\n"
          ]
        },
        {
          "output_type": "stream",
          "name": "stderr",
          "text": [
            "\u001b[2m\u001b[36m(ClientAppActor pid=19856)\u001b[0m /usr/local/lib/python3.10/dist-packages/jupyter_client/connect.py:28: DeprecationWarning: Jupyter is migrating its paths to use standard platformdirs\n",
            "\u001b[2m\u001b[36m(ClientAppActor pid=19856)\u001b[0m given by the platformdirs library.  To remove this warning and\n",
            "\u001b[2m\u001b[36m(ClientAppActor pid=19856)\u001b[0m see the appropriate new directories, set the environment variable\n",
            "\u001b[2m\u001b[36m(ClientAppActor pid=19856)\u001b[0m `JUPYTER_PLATFORM_DIRS=1` and then run `jupyter --paths`.\n",
            "\u001b[2m\u001b[36m(ClientAppActor pid=19856)\u001b[0m The use of platformdirs will be the default in `jupyter_core` v6\n",
            "\u001b[2m\u001b[36m(ClientAppActor pid=19856)\u001b[0m   from jupyter_core.paths import jupyter_data_dir, jupyter_runtime_dir, secure_write\n",
            "\u001b[92mINFO \u001b[0m:      aggregate_fit: received 10 results and 0 failures\n",
            "INFO:flwr:aggregate_fit: received 10 results and 0 failures\n"
          ]
        },
        {
          "output_type": "stream",
          "name": "stdout",
          "text": [
            "Saving round 11 aggregated_parameters...\n"
          ]
        },
        {
          "output_type": "stream",
          "name": "stderr",
          "text": [
            "\u001b[92mINFO \u001b[0m:      fit progress: (11, 323.8068742752075, {'accuracy': 2.4224806201550386}, 809.0361032629999)\n",
            "INFO:flwr:fit progress: (11, 323.8068742752075, {'accuracy': 2.4224806201550386}, 809.0361032629999)\n",
            "\u001b[92mINFO \u001b[0m:      configure_evaluate: strategy sampled 10 clients (out of 33)\n",
            "INFO:flwr:configure_evaluate: strategy sampled 10 clients (out of 33)\n"
          ]
        },
        {
          "output_type": "stream",
          "name": "stdout",
          "text": [
            "GLOBAL TEST\n"
          ]
        },
        {
          "output_type": "stream",
          "name": "stderr",
          "text": [
            "\u001b[92mINFO \u001b[0m:      aggregate_evaluate: received 10 results and 0 failures\n",
            "INFO:flwr:aggregate_evaluate: received 10 results and 0 failures\n",
            "\u001b[92mINFO \u001b[0m:      \n",
            "INFO:flwr:\n",
            "\u001b[92mINFO \u001b[0m:      [ROUND 12]\n",
            "INFO:flwr:[ROUND 12]\n",
            "\u001b[92mINFO \u001b[0m:      configure_fit: strategy sampled 10 clients (out of 33)\n",
            "INFO:flwr:configure_fit: strategy sampled 10 clients (out of 33)\n"
          ]
        },
        {
          "output_type": "stream",
          "name": "stdout",
          "text": [
            "\u001b[2m\u001b[36m(ClientAppActor pid=19795)\u001b[0m ATTACKER\n",
            "\u001b[2m\u001b[36m(ClientAppActor pid=19811)\u001b[0m ATTACKER\n",
            "\u001b[2m\u001b[36m(ClientAppActor pid=19795)\u001b[0m output size:  256\n",
            "\u001b[2m\u001b[36m(ClientAppActor pid=19795)\u001b[0m selected images size:  37\n",
            "\u001b[2m\u001b[36m(ClientAppActor pid=19795)\u001b[0m output size:  256\n",
            "\u001b[2m\u001b[36m(ClientAppActor pid=19795)\u001b[0m selected images size:  154\n",
            "\u001b[2m\u001b[36m(ClientAppActor pid=19811)\u001b[0m output size:  256\n",
            "\u001b[2m\u001b[36m(ClientAppActor pid=19811)\u001b[0m selected images size:  40\n",
            "\u001b[2m\u001b[36m(ClientAppActor pid=19811)\u001b[0m output size:  256\n",
            "\u001b[2m\u001b[36m(ClientAppActor pid=19811)\u001b[0m selected images size:  103\n",
            "\u001b[2m\u001b[36m(ClientAppActor pid=19811)\u001b[0m output size:  256\n",
            "\u001b[2m\u001b[36m(ClientAppActor pid=19811)\u001b[0m selected images size:  57\n",
            "\u001b[2m\u001b[36m(ClientAppActor pid=19811)\u001b[0m output size:  256\n",
            "\u001b[2m\u001b[36m(ClientAppActor pid=19811)\u001b[0m selected images size:  23\n",
            "\u001b[2m\u001b[36m(ClientAppActor pid=19811)\u001b[0m output size:  256\n",
            "\u001b[2m\u001b[36m(ClientAppActor pid=19811)\u001b[0m selected images size:  6\n",
            "\u001b[2m\u001b[36m(ClientAppActor pid=19811)\u001b[0m output size:  256\n",
            "\u001b[2m\u001b[36m(ClientAppActor pid=19811)\u001b[0m selected images size:  102\n",
            "\u001b[2m\u001b[36m(ClientAppActor pid=19811)\u001b[0m output size:  101\n",
            "\u001b[2m\u001b[36m(ClientAppActor pid=19811)\u001b[0m selected images size:  1\n"
          ]
        },
        {
          "output_type": "stream",
          "name": "stderr",
          "text": [
            "\u001b[92mINFO \u001b[0m:      aggregate_fit: received 10 results and 0 failures\n",
            "INFO:flwr:aggregate_fit: received 10 results and 0 failures\n"
          ]
        },
        {
          "output_type": "stream",
          "name": "stdout",
          "text": [
            "Saving round 12 aggregated_parameters...\n"
          ]
        },
        {
          "output_type": "stream",
          "name": "stderr",
          "text": [
            "\u001b[92mINFO \u001b[0m:      fit progress: (12, 323.79447889328003, {'accuracy': 2.5193798449612403}, 893.8149796899997)\n",
            "INFO:flwr:fit progress: (12, 323.79447889328003, {'accuracy': 2.5193798449612403}, 893.8149796899997)\n",
            "\u001b[92mINFO \u001b[0m:      configure_evaluate: strategy sampled 10 clients (out of 33)\n",
            "INFO:flwr:configure_evaluate: strategy sampled 10 clients (out of 33)\n"
          ]
        },
        {
          "output_type": "stream",
          "name": "stdout",
          "text": [
            "GLOBAL TEST\n"
          ]
        },
        {
          "output_type": "stream",
          "name": "stderr",
          "text": [
            "\u001b[92mINFO \u001b[0m:      aggregate_evaluate: received 10 results and 0 failures\n",
            "INFO:flwr:aggregate_evaluate: received 10 results and 0 failures\n",
            "\u001b[92mINFO \u001b[0m:      \n",
            "INFO:flwr:\n",
            "\u001b[92mINFO \u001b[0m:      [ROUND 13]\n",
            "INFO:flwr:[ROUND 13]\n",
            "\u001b[92mINFO \u001b[0m:      configure_fit: strategy sampled 10 clients (out of 33)\n",
            "INFO:flwr:configure_fit: strategy sampled 10 clients (out of 33)\n",
            "\u001b[92mINFO \u001b[0m:      aggregate_fit: received 10 results and 0 failures\n",
            "INFO:flwr:aggregate_fit: received 10 results and 0 failures\n"
          ]
        },
        {
          "output_type": "stream",
          "name": "stdout",
          "text": [
            "Saving round 13 aggregated_parameters...\n"
          ]
        },
        {
          "output_type": "stream",
          "name": "stderr",
          "text": [
            "\u001b[92mINFO \u001b[0m:      fit progress: (13, 322.69351601600647, {'accuracy': 2.3255813953488373}, 948.6448915829997)\n",
            "INFO:flwr:fit progress: (13, 322.69351601600647, {'accuracy': 2.3255813953488373}, 948.6448915829997)\n",
            "\u001b[92mINFO \u001b[0m:      configure_evaluate: strategy sampled 10 clients (out of 33)\n",
            "INFO:flwr:configure_evaluate: strategy sampled 10 clients (out of 33)\n"
          ]
        },
        {
          "output_type": "stream",
          "name": "stdout",
          "text": [
            "GLOBAL TEST\n"
          ]
        },
        {
          "output_type": "stream",
          "name": "stderr",
          "text": [
            "\u001b[92mINFO \u001b[0m:      aggregate_evaluate: received 10 results and 0 failures\n",
            "INFO:flwr:aggregate_evaluate: received 10 results and 0 failures\n",
            "\u001b[92mINFO \u001b[0m:      \n",
            "INFO:flwr:\n",
            "\u001b[92mINFO \u001b[0m:      [ROUND 14]\n",
            "INFO:flwr:[ROUND 14]\n",
            "\u001b[92mINFO \u001b[0m:      configure_fit: strategy sampled 10 clients (out of 33)\n",
            "INFO:flwr:configure_fit: strategy sampled 10 clients (out of 33)\n"
          ]
        },
        {
          "output_type": "stream",
          "name": "stdout",
          "text": [
            "\u001b[2m\u001b[36m(ClientAppActor pid=19855)\u001b[0m ATTACKER\n",
            "\u001b[2m\u001b[36m(ClientAppActor pid=19855)\u001b[0m output size:  256\n",
            "\u001b[2m\u001b[36m(ClientAppActor pid=19855)\u001b[0m selected images size:  55\n",
            "\u001b[2m\u001b[36m(ClientAppActor pid=19855)\u001b[0m output size:  256\n",
            "\u001b[2m\u001b[36m(ClientAppActor pid=19855)\u001b[0m selected images size:  76\n",
            "\u001b[2m\u001b[36m(ClientAppActor pid=19855)\u001b[0m output size:  256\n",
            "\u001b[2m\u001b[36m(ClientAppActor pid=19855)\u001b[0m selected images size:  61\n",
            "\u001b[2m\u001b[36m(ClientAppActor pid=19855)\u001b[0m output size:  256\n",
            "\u001b[2m\u001b[36m(ClientAppActor pid=19855)\u001b[0m selected images size:  33\n",
            "\u001b[2m\u001b[36m(ClientAppActor pid=19855)\u001b[0m output size:  256\n",
            "\u001b[2m\u001b[36m(ClientAppActor pid=19855)\u001b[0m selected images size:  35\n",
            "\u001b[2m\u001b[36m(ClientAppActor pid=19855)\u001b[0m output size:  256\n",
            "\u001b[2m\u001b[36m(ClientAppActor pid=19855)\u001b[0m selected images size:  64\n",
            "\u001b[2m\u001b[36m(ClientAppActor pid=19855)\u001b[0m output size:  101\n",
            "\u001b[2m\u001b[36m(ClientAppActor pid=19855)\u001b[0m selected images size:  25\n",
            "\u001b[2m\u001b[36m(ClientAppActor pid=19855)\u001b[0m output size:  256\n",
            "\u001b[2m\u001b[36m(ClientAppActor pid=19855)\u001b[0m selected images size:  81\n",
            "\u001b[2m\u001b[36m(ClientAppActor pid=19855)\u001b[0m output size:  256\n",
            "\u001b[2m\u001b[36m(ClientAppActor pid=19855)\u001b[0m selected images size:  28\n",
            "\u001b[2m\u001b[36m(ClientAppActor pid=19855)\u001b[0m output size:  256\n",
            "\u001b[2m\u001b[36m(ClientAppActor pid=19855)\u001b[0m selected images size:  26\n",
            "\u001b[2m\u001b[36m(ClientAppActor pid=19855)\u001b[0m output size:  256\n",
            "\u001b[2m\u001b[36m(ClientAppActor pid=19855)\u001b[0m selected images size:  151\n",
            "\u001b[2m\u001b[36m(ClientAppActor pid=19855)\u001b[0m output size:  256\n",
            "\u001b[2m\u001b[36m(ClientAppActor pid=19855)\u001b[0m selected images size:  1\n"
          ]
        },
        {
          "output_type": "stream",
          "name": "stderr",
          "text": [
            "\u001b[92mINFO \u001b[0m:      aggregate_fit: received 10 results and 0 failures\n",
            "INFO:flwr:aggregate_fit: received 10 results and 0 failures\n"
          ]
        },
        {
          "output_type": "stream",
          "name": "stdout",
          "text": [
            "Saving round 14 aggregated_parameters...\n"
          ]
        },
        {
          "output_type": "stream",
          "name": "stderr",
          "text": [
            "\u001b[92mINFO \u001b[0m:      fit progress: (14, 322.54828357696533, {'accuracy': 2.3255813953488373}, 1019.9862897919993)\n",
            "INFO:flwr:fit progress: (14, 322.54828357696533, {'accuracy': 2.3255813953488373}, 1019.9862897919993)\n",
            "\u001b[92mINFO \u001b[0m:      configure_evaluate: strategy sampled 10 clients (out of 33)\n",
            "INFO:flwr:configure_evaluate: strategy sampled 10 clients (out of 33)\n"
          ]
        },
        {
          "output_type": "stream",
          "name": "stdout",
          "text": [
            "GLOBAL TEST\n"
          ]
        },
        {
          "output_type": "stream",
          "name": "stderr",
          "text": [
            "\u001b[92mINFO \u001b[0m:      aggregate_evaluate: received 10 results and 0 failures\n",
            "INFO:flwr:aggregate_evaluate: received 10 results and 0 failures\n",
            "\u001b[92mINFO \u001b[0m:      \n",
            "INFO:flwr:\n",
            "\u001b[92mINFO \u001b[0m:      [ROUND 15]\n",
            "INFO:flwr:[ROUND 15]\n",
            "\u001b[92mINFO \u001b[0m:      configure_fit: strategy sampled 10 clients (out of 33)\n",
            "INFO:flwr:configure_fit: strategy sampled 10 clients (out of 33)\n"
          ]
        },
        {
          "output_type": "stream",
          "name": "stdout",
          "text": [
            "\u001b[2m\u001b[36m(ClientAppActor pid=19750)\u001b[0m ATTACKER\n",
            "\u001b[2m\u001b[36m(ClientAppActor pid=19750)\u001b[0m output size:  256\n",
            "\u001b[2m\u001b[36m(ClientAppActor pid=19750)\u001b[0m selected images size:  34\n",
            "\u001b[2m\u001b[36m(ClientAppActor pid=19750)\u001b[0m output size:  256\n",
            "\u001b[2m\u001b[36m(ClientAppActor pid=19750)\u001b[0m selected images size:  41\n",
            "\u001b[2m\u001b[36m(ClientAppActor pid=19750)\u001b[0m output size:  256\n",
            "\u001b[2m\u001b[36m(ClientAppActor pid=19750)\u001b[0m selected images size:  64\n",
            "\u001b[2m\u001b[36m(ClientAppActor pid=19750)\u001b[0m output size:  256\n",
            "\u001b[2m\u001b[36m(ClientAppActor pid=19750)\u001b[0m selected images size:  9\n",
            "\u001b[2m\u001b[36m(ClientAppActor pid=19750)\u001b[0m output size:  256\n",
            "\u001b[2m\u001b[36m(ClientAppActor pid=19750)\u001b[0m selected images size:  26\n",
            "\u001b[2m\u001b[36m(ClientAppActor pid=19750)\u001b[0m output size:  256\n",
            "\u001b[2m\u001b[36m(ClientAppActor pid=19750)\u001b[0m selected images size:  143\n",
            "\u001b[2m\u001b[36m(ClientAppActor pid=19750)\u001b[0m output size:  101\n",
            "\u001b[2m\u001b[36m(ClientAppActor pid=19750)\u001b[0m selected images size:  1\n",
            "\u001b[2m\u001b[36m(ClientAppActor pid=19750)\u001b[0m output size:  256\n",
            "\u001b[2m\u001b[36m(ClientAppActor pid=19750)\u001b[0m selected images size:  39\n",
            "\u001b[2m\u001b[36m(ClientAppActor pid=19750)\u001b[0m output size:  256\n",
            "\u001b[2m\u001b[36m(ClientAppActor pid=19750)\u001b[0m selected images size:  3\n"
          ]
        },
        {
          "output_type": "stream",
          "name": "stderr",
          "text": [
            "\u001b[92mINFO \u001b[0m:      aggregate_fit: received 10 results and 0 failures\n",
            "INFO:flwr:aggregate_fit: received 10 results and 0 failures\n"
          ]
        },
        {
          "output_type": "stream",
          "name": "stdout",
          "text": [
            "Saving round 15 aggregated_parameters...\n"
          ]
        },
        {
          "output_type": "stream",
          "name": "stderr",
          "text": [
            "\u001b[92mINFO \u001b[0m:      fit progress: (15, 329.70398807525635, {'accuracy': 8.430232558139535}, 1091.53724375)\n",
            "INFO:flwr:fit progress: (15, 329.70398807525635, {'accuracy': 8.430232558139535}, 1091.53724375)\n",
            "\u001b[92mINFO \u001b[0m:      configure_evaluate: strategy sampled 10 clients (out of 33)\n",
            "INFO:flwr:configure_evaluate: strategy sampled 10 clients (out of 33)\n"
          ]
        },
        {
          "output_type": "stream",
          "name": "stdout",
          "text": [
            "GLOBAL TEST\n"
          ]
        },
        {
          "output_type": "stream",
          "name": "stderr",
          "text": [
            "\u001b[92mINFO \u001b[0m:      aggregate_evaluate: received 10 results and 0 failures\n",
            "INFO:flwr:aggregate_evaluate: received 10 results and 0 failures\n",
            "\u001b[92mINFO \u001b[0m:      \n",
            "INFO:flwr:\n",
            "\u001b[92mINFO \u001b[0m:      [ROUND 16]\n",
            "INFO:flwr:[ROUND 16]\n",
            "\u001b[92mINFO \u001b[0m:      configure_fit: strategy sampled 10 clients (out of 33)\n",
            "INFO:flwr:configure_fit: strategy sampled 10 clients (out of 33)\n"
          ]
        },
        {
          "output_type": "stream",
          "name": "stdout",
          "text": [
            "\u001b[2m\u001b[36m(ClientAppActor pid=19750)\u001b[0m ATTACKER\n",
            "\u001b[2m\u001b[36m(ClientAppActor pid=19750)\u001b[0m output size:  256\n",
            "\u001b[2m\u001b[36m(ClientAppActor pid=19750)\u001b[0m selected images size:  7\n"
          ]
        },
        {
          "output_type": "stream",
          "name": "stderr",
          "text": [
            "\u001b[92mINFO \u001b[0m:      aggregate_fit: received 10 results and 0 failures\n",
            "INFO:flwr:aggregate_fit: received 10 results and 0 failures\n"
          ]
        },
        {
          "output_type": "stream",
          "name": "stdout",
          "text": [
            "Saving round 16 aggregated_parameters...\n"
          ]
        },
        {
          "output_type": "stream",
          "name": "stderr",
          "text": [
            "\u001b[92mINFO \u001b[0m:      fit progress: (16, 382.23021268844604, {'accuracy': 30.426356589147286}, 1165.6274525620001)\n",
            "INFO:flwr:fit progress: (16, 382.23021268844604, {'accuracy': 30.426356589147286}, 1165.6274525620001)\n",
            "\u001b[92mINFO \u001b[0m:      configure_evaluate: strategy sampled 10 clients (out of 33)\n",
            "INFO:flwr:configure_evaluate: strategy sampled 10 clients (out of 33)\n"
          ]
        },
        {
          "output_type": "stream",
          "name": "stdout",
          "text": [
            "GLOBAL TEST\n"
          ]
        },
        {
          "output_type": "stream",
          "name": "stderr",
          "text": [
            "\u001b[92mINFO \u001b[0m:      aggregate_evaluate: received 10 results and 0 failures\n",
            "INFO:flwr:aggregate_evaluate: received 10 results and 0 failures\n",
            "\u001b[92mINFO \u001b[0m:      \n",
            "INFO:flwr:\n",
            "\u001b[92mINFO \u001b[0m:      [ROUND 17]\n",
            "INFO:flwr:[ROUND 17]\n",
            "\u001b[92mINFO \u001b[0m:      configure_fit: strategy sampled 10 clients (out of 33)\n",
            "INFO:flwr:configure_fit: strategy sampled 10 clients (out of 33)\n"
          ]
        },
        {
          "output_type": "stream",
          "name": "stdout",
          "text": [
            "\u001b[2m\u001b[36m(ClientAppActor pid=19795)\u001b[0m ATTACKER\n"
          ]
        },
        {
          "output_type": "stream",
          "name": "stderr",
          "text": [
            "\u001b[2m\u001b[36m(ClientAppActor pid=19795)\u001b[0m /usr/local/lib/python3.10/dist-packages/torch/optim/lr_scheduler.py:143: UserWarning: Detected call of `lr_scheduler.step()` before `optimizer.step()`. In PyTorch 1.1.0 and later, you should call them in the opposite order: `optimizer.step()` before `lr_scheduler.step()`.  Failure to do this will result in PyTorch skipping the first value of the learning rate schedule. See more details at https://pytorch.org/docs/stable/optim.html#how-to-adjust-learning-rate\n",
            "\u001b[2m\u001b[36m(ClientAppActor pid=19795)\u001b[0m   warnings.warn(\"Detected call of `lr_scheduler.step()` before `optimizer.step()`. \"\n",
            "\u001b[92mINFO \u001b[0m:      aggregate_fit: received 10 results and 0 failures\n",
            "INFO:flwr:aggregate_fit: received 10 results and 0 failures\n"
          ]
        },
        {
          "output_type": "stream",
          "name": "stdout",
          "text": [
            "Saving round 17 aggregated_parameters...\n"
          ]
        },
        {
          "output_type": "stream",
          "name": "stderr",
          "text": [
            "\u001b[92mINFO \u001b[0m:      fit progress: (17, 322.71503031253815, {'accuracy': 3.197674418604651}, 1239.4254061149995)\n",
            "INFO:flwr:fit progress: (17, 322.71503031253815, {'accuracy': 3.197674418604651}, 1239.4254061149995)\n",
            "\u001b[92mINFO \u001b[0m:      configure_evaluate: strategy sampled 10 clients (out of 33)\n",
            "INFO:flwr:configure_evaluate: strategy sampled 10 clients (out of 33)\n"
          ]
        },
        {
          "output_type": "stream",
          "name": "stdout",
          "text": [
            "GLOBAL TEST\n"
          ]
        },
        {
          "output_type": "stream",
          "name": "stderr",
          "text": [
            "\u001b[92mINFO \u001b[0m:      aggregate_evaluate: received 10 results and 0 failures\n",
            "INFO:flwr:aggregate_evaluate: received 10 results and 0 failures\n",
            "\u001b[92mINFO \u001b[0m:      \n",
            "INFO:flwr:\n",
            "\u001b[92mINFO \u001b[0m:      [ROUND 18]\n",
            "INFO:flwr:[ROUND 18]\n",
            "\u001b[92mINFO \u001b[0m:      configure_fit: strategy sampled 10 clients (out of 33)\n",
            "INFO:flwr:configure_fit: strategy sampled 10 clients (out of 33)\n",
            "\u001b[92mINFO \u001b[0m:      aggregate_fit: received 10 results and 0 failures\n",
            "INFO:flwr:aggregate_fit: received 10 results and 0 failures\n"
          ]
        },
        {
          "output_type": "stream",
          "name": "stdout",
          "text": [
            "Saving round 18 aggregated_parameters...\n"
          ]
        },
        {
          "output_type": "stream",
          "name": "stderr",
          "text": [
            "\u001b[92mINFO \u001b[0m:      fit progress: (18, 321.57375621795654, {'accuracy': 2.3255813953488373}, 1293.87156349)\n",
            "INFO:flwr:fit progress: (18, 321.57375621795654, {'accuracy': 2.3255813953488373}, 1293.87156349)\n",
            "\u001b[92mINFO \u001b[0m:      configure_evaluate: strategy sampled 10 clients (out of 33)\n",
            "INFO:flwr:configure_evaluate: strategy sampled 10 clients (out of 33)\n"
          ]
        },
        {
          "output_type": "stream",
          "name": "stdout",
          "text": [
            "GLOBAL TEST\n"
          ]
        },
        {
          "output_type": "stream",
          "name": "stderr",
          "text": [
            "\u001b[92mINFO \u001b[0m:      aggregate_evaluate: received 10 results and 0 failures\n",
            "INFO:flwr:aggregate_evaluate: received 10 results and 0 failures\n",
            "\u001b[92mINFO \u001b[0m:      \n",
            "INFO:flwr:\n",
            "\u001b[92mINFO \u001b[0m:      [ROUND 19]\n",
            "INFO:flwr:[ROUND 19]\n",
            "\u001b[92mINFO \u001b[0m:      configure_fit: strategy sampled 10 clients (out of 33)\n",
            "INFO:flwr:configure_fit: strategy sampled 10 clients (out of 33)\n",
            "\u001b[92mINFO \u001b[0m:      aggregate_fit: received 10 results and 0 failures\n",
            "INFO:flwr:aggregate_fit: received 10 results and 0 failures\n"
          ]
        },
        {
          "output_type": "stream",
          "name": "stdout",
          "text": [
            "Saving round 19 aggregated_parameters...\n"
          ]
        },
        {
          "output_type": "stream",
          "name": "stderr",
          "text": [
            "\u001b[92mINFO \u001b[0m:      fit progress: (19, 321.17740738391876, {'accuracy': 2.3255813953488373}, 1348.1537169109997)\n",
            "INFO:flwr:fit progress: (19, 321.17740738391876, {'accuracy': 2.3255813953488373}, 1348.1537169109997)\n",
            "\u001b[92mINFO \u001b[0m:      configure_evaluate: strategy sampled 10 clients (out of 33)\n",
            "INFO:flwr:configure_evaluate: strategy sampled 10 clients (out of 33)\n"
          ]
        },
        {
          "output_type": "stream",
          "name": "stdout",
          "text": [
            "GLOBAL TEST\n"
          ]
        },
        {
          "output_type": "stream",
          "name": "stderr",
          "text": [
            "\u001b[92mINFO \u001b[0m:      aggregate_evaluate: received 10 results and 0 failures\n",
            "INFO:flwr:aggregate_evaluate: received 10 results and 0 failures\n",
            "\u001b[92mINFO \u001b[0m:      \n",
            "INFO:flwr:\n",
            "\u001b[92mINFO \u001b[0m:      [ROUND 20]\n",
            "INFO:flwr:[ROUND 20]\n",
            "\u001b[92mINFO \u001b[0m:      configure_fit: strategy sampled 10 clients (out of 33)\n",
            "INFO:flwr:configure_fit: strategy sampled 10 clients (out of 33)\n"
          ]
        },
        {
          "output_type": "stream",
          "name": "stdout",
          "text": [
            "\u001b[2m\u001b[36m(ClientAppActor pid=19856)\u001b[0m ATTACKER\n",
            "\u001b[2m\u001b[36m(ClientAppActor pid=19856)\u001b[0m output size:  256\n",
            "\u001b[2m\u001b[36m(ClientAppActor pid=19856)\u001b[0m selected images size:  14\n"
          ]
        },
        {
          "output_type": "stream",
          "name": "stderr",
          "text": [
            "\u001b[92mINFO \u001b[0m:      aggregate_fit: received 10 results and 0 failures\n",
            "INFO:flwr:aggregate_fit: received 10 results and 0 failures\n"
          ]
        },
        {
          "output_type": "stream",
          "name": "stdout",
          "text": [
            "Saving round 20 aggregated_parameters...\n"
          ]
        },
        {
          "output_type": "stream",
          "name": "stderr",
          "text": [
            "\u001b[92mINFO \u001b[0m:      fit progress: (20, 330.2360624074936, {'accuracy': 12.015503875968992}, 1421.260379026)\n",
            "INFO:flwr:fit progress: (20, 330.2360624074936, {'accuracy': 12.015503875968992}, 1421.260379026)\n",
            "\u001b[92mINFO \u001b[0m:      configure_evaluate: strategy sampled 10 clients (out of 33)\n",
            "INFO:flwr:configure_evaluate: strategy sampled 10 clients (out of 33)\n"
          ]
        },
        {
          "output_type": "stream",
          "name": "stdout",
          "text": [
            "GLOBAL TEST\n"
          ]
        },
        {
          "output_type": "stream",
          "name": "stderr",
          "text": [
            "\u001b[92mINFO \u001b[0m:      aggregate_evaluate: received 10 results and 0 failures\n",
            "INFO:flwr:aggregate_evaluate: received 10 results and 0 failures\n",
            "\u001b[92mINFO \u001b[0m:      \n",
            "INFO:flwr:\n",
            "\u001b[92mINFO \u001b[0m:      [ROUND 21]\n",
            "INFO:flwr:[ROUND 21]\n",
            "\u001b[92mINFO \u001b[0m:      configure_fit: strategy sampled 10 clients (out of 33)\n",
            "INFO:flwr:configure_fit: strategy sampled 10 clients (out of 33)\n"
          ]
        },
        {
          "output_type": "stream",
          "name": "stdout",
          "text": [
            "\u001b[2m\u001b[36m(ClientAppActor pid=19734)\u001b[0m ATTACKER\n"
          ]
        },
        {
          "output_type": "stream",
          "name": "stderr",
          "text": [
            "\u001b[2m\u001b[36m(ClientAppActor pid=19734)\u001b[0m /usr/local/lib/python3.10/dist-packages/torch/optim/lr_scheduler.py:143: UserWarning: Detected call of `lr_scheduler.step()` before `optimizer.step()`. In PyTorch 1.1.0 and later, you should call them in the opposite order: `optimizer.step()` before `lr_scheduler.step()`.  Failure to do this will result in PyTorch skipping the first value of the learning rate schedule. See more details at https://pytorch.org/docs/stable/optim.html#how-to-adjust-learning-rate\n",
            "\u001b[2m\u001b[36m(ClientAppActor pid=19734)\u001b[0m   warnings.warn(\"Detected call of `lr_scheduler.step()` before `optimizer.step()`. \"\n",
            "\u001b[92mINFO \u001b[0m:      aggregate_fit: received 10 results and 0 failures\n",
            "INFO:flwr:aggregate_fit: received 10 results and 0 failures\n"
          ]
        },
        {
          "output_type": "stream",
          "name": "stdout",
          "text": [
            "Saving round 21 aggregated_parameters...\n"
          ]
        },
        {
          "output_type": "stream",
          "name": "stderr",
          "text": [
            "\u001b[92mINFO \u001b[0m:      fit progress: (21, 320.85331904888153, {'accuracy': 2.616279069767442}, 1494.3067935119998)\n",
            "INFO:flwr:fit progress: (21, 320.85331904888153, {'accuracy': 2.616279069767442}, 1494.3067935119998)\n",
            "\u001b[92mINFO \u001b[0m:      configure_evaluate: strategy sampled 10 clients (out of 33)\n",
            "INFO:flwr:configure_evaluate: strategy sampled 10 clients (out of 33)\n"
          ]
        },
        {
          "output_type": "stream",
          "name": "stdout",
          "text": [
            "GLOBAL TEST\n"
          ]
        },
        {
          "output_type": "stream",
          "name": "stderr",
          "text": [
            "\u001b[92mINFO \u001b[0m:      aggregate_evaluate: received 10 results and 0 failures\n",
            "INFO:flwr:aggregate_evaluate: received 10 results and 0 failures\n",
            "\u001b[92mINFO \u001b[0m:      \n",
            "INFO:flwr:\n",
            "\u001b[92mINFO \u001b[0m:      [ROUND 22]\n",
            "INFO:flwr:[ROUND 22]\n",
            "\u001b[92mINFO \u001b[0m:      configure_fit: strategy sampled 10 clients (out of 33)\n",
            "INFO:flwr:configure_fit: strategy sampled 10 clients (out of 33)\n"
          ]
        },
        {
          "output_type": "stream",
          "name": "stdout",
          "text": [
            "\u001b[2m\u001b[36m(ClientAppActor pid=19856)\u001b[0m ATTACKER\n"
          ]
        },
        {
          "output_type": "stream",
          "name": "stderr",
          "text": [
            "\u001b[2m\u001b[36m(ClientAppActor pid=19856)\u001b[0m /usr/local/lib/python3.10/dist-packages/torch/optim/lr_scheduler.py:143: UserWarning: Detected call of `lr_scheduler.step()` before `optimizer.step()`. In PyTorch 1.1.0 and later, you should call them in the opposite order: `optimizer.step()` before `lr_scheduler.step()`.  Failure to do this will result in PyTorch skipping the first value of the learning rate schedule. See more details at https://pytorch.org/docs/stable/optim.html#how-to-adjust-learning-rate\n",
            "\u001b[2m\u001b[36m(ClientAppActor pid=19856)\u001b[0m   warnings.warn(\"Detected call of `lr_scheduler.step()` before `optimizer.step()`. \"\n"
          ]
        },
        {
          "output_type": "stream",
          "name": "stdout",
          "text": [
            "\u001b[2m\u001b[36m(ClientAppActor pid=19856)\u001b[0m output size:  101\n",
            "\u001b[2m\u001b[36m(ClientAppActor pid=19856)\u001b[0m selected images size:  1\n",
            "\u001b[2m\u001b[36m(ClientAppActor pid=19856)\u001b[0m output size:  256\n",
            "\u001b[2m\u001b[36m(ClientAppActor pid=19856)\u001b[0m selected images size:  1\n",
            "\u001b[2m\u001b[36m(ClientAppActor pid=19856)\u001b[0m output size:  256\n",
            "\u001b[2m\u001b[36m(ClientAppActor pid=19856)\u001b[0m selected images size:  1\n",
            "\u001b[2m\u001b[36m(ClientAppActor pid=19856)\u001b[0m output size:  256\n",
            "\u001b[2m\u001b[36m(ClientAppActor pid=19856)\u001b[0m selected images size:  1\n",
            "\u001b[2m\u001b[36m(ClientAppActor pid=19856)\u001b[0m output size:  256\n",
            "\u001b[2m\u001b[36m(ClientAppActor pid=19856)\u001b[0m selected images size:  1\n"
          ]
        },
        {
          "output_type": "stream",
          "name": "stderr",
          "text": [
            "\u001b[92mINFO \u001b[0m:      aggregate_fit: received 10 results and 0 failures\n",
            "INFO:flwr:aggregate_fit: received 10 results and 0 failures\n"
          ]
        },
        {
          "output_type": "stream",
          "name": "stdout",
          "text": [
            "Saving round 22 aggregated_parameters...\n"
          ]
        },
        {
          "output_type": "stream",
          "name": "stderr",
          "text": [
            "\u001b[92mINFO \u001b[0m:      fit progress: (22, 320.5139229297638, {'accuracy': 1.8410852713178294}, 1566.9826308599995)\n",
            "INFO:flwr:fit progress: (22, 320.5139229297638, {'accuracy': 1.8410852713178294}, 1566.9826308599995)\n",
            "\u001b[92mINFO \u001b[0m:      configure_evaluate: strategy sampled 10 clients (out of 33)\n",
            "INFO:flwr:configure_evaluate: strategy sampled 10 clients (out of 33)\n"
          ]
        },
        {
          "output_type": "stream",
          "name": "stdout",
          "text": [
            "GLOBAL TEST\n"
          ]
        },
        {
          "output_type": "stream",
          "name": "stderr",
          "text": [
            "\u001b[92mINFO \u001b[0m:      aggregate_evaluate: received 10 results and 0 failures\n",
            "INFO:flwr:aggregate_evaluate: received 10 results and 0 failures\n",
            "\u001b[92mINFO \u001b[0m:      \n",
            "INFO:flwr:\n",
            "\u001b[92mINFO \u001b[0m:      [ROUND 23]\n",
            "INFO:flwr:[ROUND 23]\n",
            "\u001b[92mINFO \u001b[0m:      configure_fit: strategy sampled 10 clients (out of 33)\n",
            "INFO:flwr:configure_fit: strategy sampled 10 clients (out of 33)\n"
          ]
        },
        {
          "output_type": "stream",
          "name": "stdout",
          "text": [
            "\u001b[2m\u001b[36m(ClientAppActor pid=19795)\u001b[0m ATTACKER\n",
            "\u001b[2m\u001b[36m(ClientAppActor pid=19795)\u001b[0m output size:  256\n",
            "\u001b[2m\u001b[36m(ClientAppActor pid=19795)\u001b[0m selected images size:  1\n"
          ]
        },
        {
          "output_type": "stream",
          "name": "stderr",
          "text": [
            "\u001b[92mINFO \u001b[0m:      aggregate_fit: received 10 results and 0 failures\n",
            "INFO:flwr:aggregate_fit: received 10 results and 0 failures\n"
          ]
        },
        {
          "output_type": "stream",
          "name": "stdout",
          "text": [
            "Saving round 23 aggregated_parameters...\n"
          ]
        },
        {
          "output_type": "stream",
          "name": "stderr",
          "text": [
            "\u001b[92mINFO \u001b[0m:      fit progress: (23, 320.21578311920166, {'accuracy': 1.8410852713178294}, 1641.2896504089995)\n",
            "INFO:flwr:fit progress: (23, 320.21578311920166, {'accuracy': 1.8410852713178294}, 1641.2896504089995)\n",
            "\u001b[92mINFO \u001b[0m:      configure_evaluate: strategy sampled 10 clients (out of 33)\n",
            "INFO:flwr:configure_evaluate: strategy sampled 10 clients (out of 33)\n"
          ]
        },
        {
          "output_type": "stream",
          "name": "stdout",
          "text": [
            "GLOBAL TEST\n"
          ]
        },
        {
          "output_type": "stream",
          "name": "stderr",
          "text": [
            "\u001b[92mINFO \u001b[0m:      aggregate_evaluate: received 10 results and 0 failures\n",
            "INFO:flwr:aggregate_evaluate: received 10 results and 0 failures\n",
            "\u001b[92mINFO \u001b[0m:      \n",
            "INFO:flwr:\n",
            "\u001b[92mINFO \u001b[0m:      [ROUND 24]\n",
            "INFO:flwr:[ROUND 24]\n",
            "\u001b[92mINFO \u001b[0m:      configure_fit: strategy sampled 10 clients (out of 33)\n",
            "INFO:flwr:configure_fit: strategy sampled 10 clients (out of 33)\n"
          ]
        },
        {
          "output_type": "stream",
          "name": "stdout",
          "text": [
            "\u001b[2m\u001b[36m(ClientAppActor pid=19750)\u001b[0m ATTACKER\n",
            "\u001b[2m\u001b[36m(ClientAppActor pid=19750)\u001b[0m output size:  256\n",
            "\u001b[2m\u001b[36m(ClientAppActor pid=19750)\u001b[0m selected images size:  1\n"
          ]
        },
        {
          "output_type": "stream",
          "name": "stderr",
          "text": [
            "\u001b[92mINFO \u001b[0m:      aggregate_fit: received 10 results and 0 failures\n",
            "INFO:flwr:aggregate_fit: received 10 results and 0 failures\n"
          ]
        },
        {
          "output_type": "stream",
          "name": "stdout",
          "text": [
            "Saving round 24 aggregated_parameters...\n"
          ]
        },
        {
          "output_type": "stream",
          "name": "stderr",
          "text": [
            "\u001b[92mINFO \u001b[0m:      fit progress: (24, 320.0419156551361, {'accuracy': 2.4224806201550386}, 1714.5085341229997)\n",
            "INFO:flwr:fit progress: (24, 320.0419156551361, {'accuracy': 2.4224806201550386}, 1714.5085341229997)\n",
            "\u001b[92mINFO \u001b[0m:      configure_evaluate: strategy sampled 10 clients (out of 33)\n",
            "INFO:flwr:configure_evaluate: strategy sampled 10 clients (out of 33)\n"
          ]
        },
        {
          "output_type": "stream",
          "name": "stdout",
          "text": [
            "GLOBAL TEST\n"
          ]
        },
        {
          "output_type": "stream",
          "name": "stderr",
          "text": [
            "\u001b[92mINFO \u001b[0m:      aggregate_evaluate: received 10 results and 0 failures\n",
            "INFO:flwr:aggregate_evaluate: received 10 results and 0 failures\n",
            "\u001b[92mINFO \u001b[0m:      \n",
            "INFO:flwr:\n",
            "\u001b[92mINFO \u001b[0m:      [ROUND 25]\n",
            "INFO:flwr:[ROUND 25]\n",
            "\u001b[92mINFO \u001b[0m:      configure_fit: strategy sampled 10 clients (out of 33)\n",
            "INFO:flwr:configure_fit: strategy sampled 10 clients (out of 33)\n",
            "\u001b[92mINFO \u001b[0m:      aggregate_fit: received 10 results and 0 failures\n",
            "INFO:flwr:aggregate_fit: received 10 results and 0 failures\n"
          ]
        },
        {
          "output_type": "stream",
          "name": "stdout",
          "text": [
            "Saving round 25 aggregated_parameters...\n"
          ]
        },
        {
          "output_type": "stream",
          "name": "stderr",
          "text": [
            "\u001b[92mINFO \u001b[0m:      fit progress: (25, 319.73013627529144, {'accuracy': 1.8410852713178294}, 1773.0446543889993)\n",
            "INFO:flwr:fit progress: (25, 319.73013627529144, {'accuracy': 1.8410852713178294}, 1773.0446543889993)\n",
            "\u001b[92mINFO \u001b[0m:      configure_evaluate: strategy sampled 10 clients (out of 33)\n",
            "INFO:flwr:configure_evaluate: strategy sampled 10 clients (out of 33)\n"
          ]
        },
        {
          "output_type": "stream",
          "name": "stdout",
          "text": [
            "GLOBAL TEST\n"
          ]
        },
        {
          "output_type": "stream",
          "name": "stderr",
          "text": [
            "\u001b[92mINFO \u001b[0m:      aggregate_evaluate: received 10 results and 0 failures\n",
            "INFO:flwr:aggregate_evaluate: received 10 results and 0 failures\n",
            "\u001b[92mINFO \u001b[0m:      \n",
            "INFO:flwr:\n",
            "\u001b[92mINFO \u001b[0m:      [ROUND 26]\n",
            "INFO:flwr:[ROUND 26]\n",
            "\u001b[92mINFO \u001b[0m:      configure_fit: strategy sampled 10 clients (out of 33)\n",
            "INFO:flwr:configure_fit: strategy sampled 10 clients (out of 33)\n"
          ]
        },
        {
          "output_type": "stream",
          "name": "stdout",
          "text": [
            "\u001b[2m\u001b[36m(ClientAppActor pid=19734)\u001b[0m ATTACKER\n",
            "\u001b[2m\u001b[36m(ClientAppActor pid=19734)\u001b[0m output size:  256\n",
            "\u001b[2m\u001b[36m(ClientAppActor pid=19734)\u001b[0m selected images size:  1\n"
          ]
        },
        {
          "output_type": "stream",
          "name": "stderr",
          "text": [
            "\u001b[92mINFO \u001b[0m:      aggregate_fit: received 10 results and 0 failures\n",
            "INFO:flwr:aggregate_fit: received 10 results and 0 failures\n"
          ]
        },
        {
          "output_type": "stream",
          "name": "stdout",
          "text": [
            "Saving round 26 aggregated_parameters...\n"
          ]
        },
        {
          "output_type": "stream",
          "name": "stderr",
          "text": [
            "\u001b[92mINFO \u001b[0m:      fit progress: (26, 319.5478196144104, {'accuracy': 1.8410852713178294}, 1845.1191234939997)\n",
            "INFO:flwr:fit progress: (26, 319.5478196144104, {'accuracy': 1.8410852713178294}, 1845.1191234939997)\n",
            "\u001b[92mINFO \u001b[0m:      configure_evaluate: strategy sampled 10 clients (out of 33)\n",
            "INFO:flwr:configure_evaluate: strategy sampled 10 clients (out of 33)\n"
          ]
        },
        {
          "output_type": "stream",
          "name": "stdout",
          "text": [
            "GLOBAL TEST\n"
          ]
        },
        {
          "output_type": "stream",
          "name": "stderr",
          "text": [
            "\u001b[92mINFO \u001b[0m:      aggregate_evaluate: received 10 results and 0 failures\n",
            "INFO:flwr:aggregate_evaluate: received 10 results and 0 failures\n",
            "\u001b[92mINFO \u001b[0m:      \n",
            "INFO:flwr:\n",
            "\u001b[92mINFO \u001b[0m:      [ROUND 27]\n",
            "INFO:flwr:[ROUND 27]\n",
            "\u001b[92mINFO \u001b[0m:      configure_fit: strategy sampled 10 clients (out of 33)\n",
            "INFO:flwr:configure_fit: strategy sampled 10 clients (out of 33)\n",
            "\u001b[92mINFO \u001b[0m:      aggregate_fit: received 10 results and 0 failures\n",
            "INFO:flwr:aggregate_fit: received 10 results and 0 failures\n"
          ]
        },
        {
          "output_type": "stream",
          "name": "stdout",
          "text": [
            "Saving round 27 aggregated_parameters...\n"
          ]
        },
        {
          "output_type": "stream",
          "name": "stderr",
          "text": [
            "\u001b[92mINFO \u001b[0m:      fit progress: (27, 319.31636667251587, {'accuracy': 1.550387596899225}, 1900.1698690169997)\n",
            "INFO:flwr:fit progress: (27, 319.31636667251587, {'accuracy': 1.550387596899225}, 1900.1698690169997)\n",
            "\u001b[92mINFO \u001b[0m:      configure_evaluate: strategy sampled 10 clients (out of 33)\n",
            "INFO:flwr:configure_evaluate: strategy sampled 10 clients (out of 33)\n"
          ]
        },
        {
          "output_type": "stream",
          "name": "stdout",
          "text": [
            "GLOBAL TEST\n"
          ]
        },
        {
          "output_type": "stream",
          "name": "stderr",
          "text": [
            "\u001b[92mINFO \u001b[0m:      aggregate_evaluate: received 10 results and 0 failures\n",
            "INFO:flwr:aggregate_evaluate: received 10 results and 0 failures\n",
            "\u001b[92mINFO \u001b[0m:      \n",
            "INFO:flwr:\n",
            "\u001b[92mINFO \u001b[0m:      [ROUND 28]\n",
            "INFO:flwr:[ROUND 28]\n",
            "\u001b[92mINFO \u001b[0m:      configure_fit: strategy sampled 10 clients (out of 33)\n",
            "INFO:flwr:configure_fit: strategy sampled 10 clients (out of 33)\n"
          ]
        },
        {
          "output_type": "stream",
          "name": "stdout",
          "text": [
            "\u001b[2m\u001b[36m(ClientAppActor pid=19734)\u001b[0m ATTACKER\n",
            "\u001b[2m\u001b[36m(ClientAppActor pid=19734)\u001b[0m output size:  256\n",
            "\u001b[2m\u001b[36m(ClientAppActor pid=19734)\u001b[0m selected images size:  1\n",
            "\u001b[2m\u001b[36m(ClientAppActor pid=19734)\u001b[0m output size:  256\n",
            "\u001b[2m\u001b[36m(ClientAppActor pid=19734)\u001b[0m selected images size:  1\n"
          ]
        },
        {
          "output_type": "stream",
          "name": "stderr",
          "text": [
            "\u001b[92mINFO \u001b[0m:      aggregate_fit: received 10 results and 0 failures\n",
            "INFO:flwr:aggregate_fit: received 10 results and 0 failures\n"
          ]
        },
        {
          "output_type": "stream",
          "name": "stdout",
          "text": [
            "Saving round 28 aggregated_parameters...\n"
          ]
        },
        {
          "output_type": "stream",
          "name": "stderr",
          "text": [
            "\u001b[92mINFO \u001b[0m:      fit progress: (28, 390.5656008720398, {'accuracy': 86.53100775193798}, 1970.698659015)\n",
            "INFO:flwr:fit progress: (28, 390.5656008720398, {'accuracy': 86.53100775193798}, 1970.698659015)\n",
            "\u001b[92mINFO \u001b[0m:      configure_evaluate: strategy sampled 10 clients (out of 33)\n",
            "INFO:flwr:configure_evaluate: strategy sampled 10 clients (out of 33)\n"
          ]
        },
        {
          "output_type": "stream",
          "name": "stdout",
          "text": [
            "GLOBAL TEST\n"
          ]
        },
        {
          "output_type": "stream",
          "name": "stderr",
          "text": [
            "\u001b[92mINFO \u001b[0m:      aggregate_evaluate: received 10 results and 0 failures\n",
            "INFO:flwr:aggregate_evaluate: received 10 results and 0 failures\n",
            "\u001b[92mINFO \u001b[0m:      \n",
            "INFO:flwr:\n",
            "\u001b[92mINFO \u001b[0m:      [ROUND 29]\n",
            "INFO:flwr:[ROUND 29]\n",
            "\u001b[92mINFO \u001b[0m:      configure_fit: strategy sampled 10 clients (out of 33)\n",
            "INFO:flwr:configure_fit: strategy sampled 10 clients (out of 33)\n"
          ]
        },
        {
          "output_type": "stream",
          "name": "stdout",
          "text": [
            "\u001b[2m\u001b[36m(ClientAppActor pid=19750)\u001b[0m ATTACKER\n",
            "\u001b[2m\u001b[36m(ClientAppActor pid=19795)\u001b[0m ATTACKER\n"
          ]
        },
        {
          "output_type": "stream",
          "name": "stderr",
          "text": [
            "\u001b[92mINFO \u001b[0m:      aggregate_fit: received 10 results and 0 failures\n",
            "INFO:flwr:aggregate_fit: received 10 results and 0 failures\n"
          ]
        },
        {
          "output_type": "stream",
          "name": "stdout",
          "text": [
            "Saving round 29 aggregated_parameters...\n"
          ]
        },
        {
          "output_type": "stream",
          "name": "stderr",
          "text": [
            "\u001b[92mINFO \u001b[0m:      fit progress: (29, 320.0379264354706, {'accuracy': 2.616279069767442}, 2061.7050502619995)\n",
            "INFO:flwr:fit progress: (29, 320.0379264354706, {'accuracy': 2.616279069767442}, 2061.7050502619995)\n",
            "\u001b[92mINFO \u001b[0m:      configure_evaluate: strategy sampled 10 clients (out of 33)\n",
            "INFO:flwr:configure_evaluate: strategy sampled 10 clients (out of 33)\n"
          ]
        },
        {
          "output_type": "stream",
          "name": "stdout",
          "text": [
            "GLOBAL TEST\n"
          ]
        },
        {
          "output_type": "stream",
          "name": "stderr",
          "text": [
            "\u001b[92mINFO \u001b[0m:      aggregate_evaluate: received 10 results and 0 failures\n",
            "INFO:flwr:aggregate_evaluate: received 10 results and 0 failures\n",
            "\u001b[92mINFO \u001b[0m:      \n",
            "INFO:flwr:\n",
            "\u001b[92mINFO \u001b[0m:      [ROUND 30]\n",
            "INFO:flwr:[ROUND 30]\n",
            "\u001b[92mINFO \u001b[0m:      configure_fit: strategy sampled 10 clients (out of 33)\n",
            "INFO:flwr:configure_fit: strategy sampled 10 clients (out of 33)\n"
          ]
        },
        {
          "output_type": "stream",
          "name": "stdout",
          "text": [
            "\u001b[2m\u001b[36m(ClientAppActor pid=19734)\u001b[0m ATTACKER\n"
          ]
        },
        {
          "output_type": "stream",
          "name": "stderr",
          "text": [
            "\u001b[92mINFO \u001b[0m:      aggregate_fit: received 10 results and 0 failures\n",
            "INFO:flwr:aggregate_fit: received 10 results and 0 failures\n"
          ]
        },
        {
          "output_type": "stream",
          "name": "stdout",
          "text": [
            "Saving round 30 aggregated_parameters...\n"
          ]
        },
        {
          "output_type": "stream",
          "name": "stderr",
          "text": [
            "\u001b[92mINFO \u001b[0m:      fit progress: (30, 319.4266035556793, {'accuracy': 1.550387596899225}, 2132.7159627599995)\n",
            "INFO:flwr:fit progress: (30, 319.4266035556793, {'accuracy': 1.550387596899225}, 2132.7159627599995)\n",
            "\u001b[92mINFO \u001b[0m:      configure_evaluate: strategy sampled 10 clients (out of 33)\n",
            "INFO:flwr:configure_evaluate: strategy sampled 10 clients (out of 33)\n"
          ]
        },
        {
          "output_type": "stream",
          "name": "stdout",
          "text": [
            "GLOBAL TEST\n"
          ]
        },
        {
          "output_type": "stream",
          "name": "stderr",
          "text": [
            "\u001b[92mINFO \u001b[0m:      aggregate_evaluate: received 10 results and 0 failures\n",
            "INFO:flwr:aggregate_evaluate: received 10 results and 0 failures\n",
            "\u001b[92mINFO \u001b[0m:      \n",
            "INFO:flwr:\n",
            "\u001b[92mINFO \u001b[0m:      [ROUND 31]\n",
            "INFO:flwr:[ROUND 31]\n",
            "\u001b[92mINFO \u001b[0m:      configure_fit: strategy sampled 10 clients (out of 33)\n",
            "INFO:flwr:configure_fit: strategy sampled 10 clients (out of 33)\n"
          ]
        },
        {
          "output_type": "stream",
          "name": "stdout",
          "text": [
            "\u001b[2m\u001b[36m(ClientAppActor pid=19795)\u001b[0m ATTACKER\n"
          ]
        },
        {
          "output_type": "stream",
          "name": "stderr",
          "text": [
            "\u001b[92mINFO \u001b[0m:      aggregate_fit: received 10 results and 0 failures\n",
            "INFO:flwr:aggregate_fit: received 10 results and 0 failures\n"
          ]
        },
        {
          "output_type": "stream",
          "name": "stdout",
          "text": [
            "Saving round 31 aggregated_parameters...\n"
          ]
        },
        {
          "output_type": "stream",
          "name": "stderr",
          "text": [
            "\u001b[92mINFO \u001b[0m:      fit progress: (31, 319.07376623153687, {'accuracy': 1.550387596899225}, 2202.795920066)\n",
            "INFO:flwr:fit progress: (31, 319.07376623153687, {'accuracy': 1.550387596899225}, 2202.795920066)\n",
            "\u001b[92mINFO \u001b[0m:      configure_evaluate: strategy sampled 10 clients (out of 33)\n",
            "INFO:flwr:configure_evaluate: strategy sampled 10 clients (out of 33)\n"
          ]
        },
        {
          "output_type": "stream",
          "name": "stdout",
          "text": [
            "GLOBAL TEST\n"
          ]
        },
        {
          "output_type": "stream",
          "name": "stderr",
          "text": [
            "\u001b[92mINFO \u001b[0m:      aggregate_evaluate: received 10 results and 0 failures\n",
            "INFO:flwr:aggregate_evaluate: received 10 results and 0 failures\n",
            "\u001b[92mINFO \u001b[0m:      \n",
            "INFO:flwr:\n",
            "\u001b[92mINFO \u001b[0m:      [ROUND 32]\n",
            "INFO:flwr:[ROUND 32]\n",
            "\u001b[92mINFO \u001b[0m:      configure_fit: strategy sampled 10 clients (out of 33)\n",
            "INFO:flwr:configure_fit: strategy sampled 10 clients (out of 33)\n"
          ]
        },
        {
          "output_type": "stream",
          "name": "stdout",
          "text": [
            "\u001b[2m\u001b[36m(ClientAppActor pid=19811)\u001b[0m ATTACKER\n"
          ]
        },
        {
          "output_type": "stream",
          "name": "stderr",
          "text": [
            "\u001b[2m\u001b[36m(ClientAppActor pid=19811)\u001b[0m /usr/local/lib/python3.10/dist-packages/torch/optim/lr_scheduler.py:143: UserWarning: Detected call of `lr_scheduler.step()` before `optimizer.step()`. In PyTorch 1.1.0 and later, you should call them in the opposite order: `optimizer.step()` before `lr_scheduler.step()`.  Failure to do this will result in PyTorch skipping the first value of the learning rate schedule. See more details at https://pytorch.org/docs/stable/optim.html#how-to-adjust-learning-rate\n",
            "\u001b[2m\u001b[36m(ClientAppActor pid=19811)\u001b[0m   warnings.warn(\"Detected call of `lr_scheduler.step()` before `optimizer.step()`. \"\n",
            "\u001b[92mINFO \u001b[0m:      aggregate_fit: received 10 results and 0 failures\n",
            "INFO:flwr:aggregate_fit: received 10 results and 0 failures\n"
          ]
        },
        {
          "output_type": "stream",
          "name": "stdout",
          "text": [
            "Saving round 32 aggregated_parameters...\n"
          ]
        },
        {
          "output_type": "stream",
          "name": "stderr",
          "text": [
            "\u001b[92mINFO \u001b[0m:      fit progress: (32, 318.84298372268677, {'accuracy': 1.550387596899225}, 2273.2273729159997)\n",
            "INFO:flwr:fit progress: (32, 318.84298372268677, {'accuracy': 1.550387596899225}, 2273.2273729159997)\n",
            "\u001b[92mINFO \u001b[0m:      configure_evaluate: strategy sampled 10 clients (out of 33)\n",
            "INFO:flwr:configure_evaluate: strategy sampled 10 clients (out of 33)\n"
          ]
        },
        {
          "output_type": "stream",
          "name": "stdout",
          "text": [
            "GLOBAL TEST\n"
          ]
        },
        {
          "output_type": "stream",
          "name": "stderr",
          "text": [
            "\u001b[92mINFO \u001b[0m:      aggregate_evaluate: received 10 results and 0 failures\n",
            "INFO:flwr:aggregate_evaluate: received 10 results and 0 failures\n",
            "\u001b[92mINFO \u001b[0m:      \n",
            "INFO:flwr:\n",
            "\u001b[92mINFO \u001b[0m:      [ROUND 33]\n",
            "INFO:flwr:[ROUND 33]\n",
            "\u001b[92mINFO \u001b[0m:      configure_fit: strategy sampled 10 clients (out of 33)\n",
            "INFO:flwr:configure_fit: strategy sampled 10 clients (out of 33)\n"
          ]
        },
        {
          "output_type": "stream",
          "name": "stdout",
          "text": [
            "\u001b[2m\u001b[36m(ClientAppActor pid=19750)\u001b[0m ATTACKER\n",
            "\u001b[2m\u001b[36m(ClientAppActor pid=19855)\u001b[0m ATTACKER\n"
          ]
        },
        {
          "output_type": "stream",
          "name": "stderr",
          "text": [
            "\u001b[2m\u001b[36m(ClientAppActor pid=19750)\u001b[0m /usr/local/lib/python3.10/dist-packages/torch/optim/lr_scheduler.py:143: UserWarning: Detected call of `lr_scheduler.step()` before `optimizer.step()`. In PyTorch 1.1.0 and later, you should call them in the opposite order: `optimizer.step()` before `lr_scheduler.step()`.  Failure to do this will result in PyTorch skipping the first value of the learning rate schedule. See more details at https://pytorch.org/docs/stable/optim.html#how-to-adjust-learning-rate\n",
            "\u001b[2m\u001b[36m(ClientAppActor pid=19750)\u001b[0m   warnings.warn(\"Detected call of `lr_scheduler.step()` before `optimizer.step()`. \"\n",
            "\u001b[2m\u001b[36m(ClientAppActor pid=19855)\u001b[0m /usr/local/lib/python3.10/dist-packages/torch/optim/lr_scheduler.py:143: UserWarning: Detected call of `lr_scheduler.step()` before `optimizer.step()`. In PyTorch 1.1.0 and later, you should call them in the opposite order: `optimizer.step()` before `lr_scheduler.step()`.  Failure to do this will result in PyTorch skipping the first value of the learning rate schedule. See more details at https://pytorch.org/docs/stable/optim.html#how-to-adjust-learning-rate\n",
            "\u001b[2m\u001b[36m(ClientAppActor pid=19855)\u001b[0m   warnings.warn(\"Detected call of `lr_scheduler.step()` before `optimizer.step()`. \"\n",
            "\u001b[92mINFO \u001b[0m:      aggregate_fit: received 10 results and 0 failures\n",
            "INFO:flwr:aggregate_fit: received 10 results and 0 failures\n"
          ]
        },
        {
          "output_type": "stream",
          "name": "stdout",
          "text": [
            "Saving round 33 aggregated_parameters...\n"
          ]
        },
        {
          "output_type": "stream",
          "name": "stderr",
          "text": [
            "\u001b[92mINFO \u001b[0m:      fit progress: (33, 318.63165533542633, {'accuracy': 1.550387596899225}, 2357.559349407)\n",
            "INFO:flwr:fit progress: (33, 318.63165533542633, {'accuracy': 1.550387596899225}, 2357.559349407)\n",
            "\u001b[92mINFO \u001b[0m:      configure_evaluate: strategy sampled 10 clients (out of 33)\n",
            "INFO:flwr:configure_evaluate: strategy sampled 10 clients (out of 33)\n"
          ]
        },
        {
          "output_type": "stream",
          "name": "stdout",
          "text": [
            "GLOBAL TEST\n"
          ]
        },
        {
          "output_type": "stream",
          "name": "stderr",
          "text": [
            "\u001b[92mINFO \u001b[0m:      aggregate_evaluate: received 10 results and 0 failures\n",
            "INFO:flwr:aggregate_evaluate: received 10 results and 0 failures\n",
            "\u001b[92mINFO \u001b[0m:      \n",
            "INFO:flwr:\n",
            "\u001b[92mINFO \u001b[0m:      [ROUND 34]\n",
            "INFO:flwr:[ROUND 34]\n",
            "\u001b[92mINFO \u001b[0m:      configure_fit: strategy sampled 10 clients (out of 33)\n",
            "INFO:flwr:configure_fit: strategy sampled 10 clients (out of 33)\n",
            "\u001b[92mINFO \u001b[0m:      aggregate_fit: received 10 results and 0 failures\n",
            "INFO:flwr:aggregate_fit: received 10 results and 0 failures\n"
          ]
        },
        {
          "output_type": "stream",
          "name": "stdout",
          "text": [
            "Saving round 34 aggregated_parameters...\n"
          ]
        },
        {
          "output_type": "stream",
          "name": "stderr",
          "text": [
            "\u001b[92mINFO \u001b[0m:      fit progress: (34, 318.4736489057541, {'accuracy': 1.4534883720930232}, 2414.573680331)\n",
            "INFO:flwr:fit progress: (34, 318.4736489057541, {'accuracy': 1.4534883720930232}, 2414.573680331)\n",
            "\u001b[92mINFO \u001b[0m:      configure_evaluate: strategy sampled 10 clients (out of 33)\n",
            "INFO:flwr:configure_evaluate: strategy sampled 10 clients (out of 33)\n"
          ]
        },
        {
          "output_type": "stream",
          "name": "stdout",
          "text": [
            "GLOBAL TEST\n"
          ]
        },
        {
          "output_type": "stream",
          "name": "stderr",
          "text": [
            "\u001b[92mINFO \u001b[0m:      aggregate_evaluate: received 10 results and 0 failures\n",
            "INFO:flwr:aggregate_evaluate: received 10 results and 0 failures\n",
            "\u001b[92mINFO \u001b[0m:      \n",
            "INFO:flwr:\n",
            "\u001b[92mINFO \u001b[0m:      [ROUND 35]\n",
            "INFO:flwr:[ROUND 35]\n",
            "\u001b[92mINFO \u001b[0m:      configure_fit: strategy sampled 10 clients (out of 33)\n",
            "INFO:flwr:configure_fit: strategy sampled 10 clients (out of 33)\n"
          ]
        },
        {
          "output_type": "stream",
          "name": "stdout",
          "text": [
            "\u001b[2m\u001b[36m(ClientAppActor pid=19795)\u001b[0m ATTACKER\n",
            "\u001b[2m\u001b[36m(ClientAppActor pid=19750)\u001b[0m ATTACKER\n"
          ]
        },
        {
          "output_type": "stream",
          "name": "stderr",
          "text": [
            "\u001b[92mINFO \u001b[0m:      aggregate_fit: received 10 results and 0 failures\n",
            "INFO:flwr:aggregate_fit: received 10 results and 0 failures\n"
          ]
        },
        {
          "output_type": "stream",
          "name": "stdout",
          "text": [
            "Saving round 35 aggregated_parameters...\n"
          ]
        },
        {
          "output_type": "stream",
          "name": "stderr",
          "text": [
            "\u001b[92mINFO \u001b[0m:      fit progress: (35, 318.27472746372223, {'accuracy': 1.4534883720930232}, 2512.6318904199998)\n",
            "INFO:flwr:fit progress: (35, 318.27472746372223, {'accuracy': 1.4534883720930232}, 2512.6318904199998)\n",
            "\u001b[92mINFO \u001b[0m:      configure_evaluate: strategy sampled 10 clients (out of 33)\n",
            "INFO:flwr:configure_evaluate: strategy sampled 10 clients (out of 33)\n"
          ]
        },
        {
          "output_type": "stream",
          "name": "stdout",
          "text": [
            "GLOBAL TEST\n"
          ]
        },
        {
          "output_type": "stream",
          "name": "stderr",
          "text": [
            "\u001b[92mINFO \u001b[0m:      aggregate_evaluate: received 10 results and 0 failures\n",
            "INFO:flwr:aggregate_evaluate: received 10 results and 0 failures\n",
            "\u001b[92mINFO \u001b[0m:      \n",
            "INFO:flwr:\n",
            "\u001b[92mINFO \u001b[0m:      [ROUND 36]\n",
            "INFO:flwr:[ROUND 36]\n",
            "\u001b[92mINFO \u001b[0m:      configure_fit: strategy sampled 10 clients (out of 33)\n",
            "INFO:flwr:configure_fit: strategy sampled 10 clients (out of 33)\n"
          ]
        },
        {
          "output_type": "stream",
          "name": "stdout",
          "text": [
            "\u001b[2m\u001b[36m(ClientAppActor pid=19734)\u001b[0m ATTACKER\u001b[32m [repeated 2x across cluster]\u001b[0m\n"
          ]
        },
        {
          "output_type": "stream",
          "name": "stderr",
          "text": [
            "\u001b[92mINFO \u001b[0m:      aggregate_fit: received 10 results and 0 failures\n",
            "INFO:flwr:aggregate_fit: received 10 results and 0 failures\n"
          ]
        },
        {
          "output_type": "stream",
          "name": "stdout",
          "text": [
            "Saving round 36 aggregated_parameters...\n"
          ]
        },
        {
          "output_type": "stream",
          "name": "stderr",
          "text": [
            "\u001b[92mINFO \u001b[0m:      fit progress: (36, 318.167311668396, {'accuracy': 1.3565891472868217}, 2582.817442042)\n",
            "INFO:flwr:fit progress: (36, 318.167311668396, {'accuracy': 1.3565891472868217}, 2582.817442042)\n",
            "\u001b[92mINFO \u001b[0m:      configure_evaluate: strategy sampled 10 clients (out of 33)\n",
            "INFO:flwr:configure_evaluate: strategy sampled 10 clients (out of 33)\n"
          ]
        },
        {
          "output_type": "stream",
          "name": "stdout",
          "text": [
            "GLOBAL TEST\n"
          ]
        },
        {
          "output_type": "stream",
          "name": "stderr",
          "text": [
            "\u001b[92mINFO \u001b[0m:      aggregate_evaluate: received 10 results and 0 failures\n",
            "INFO:flwr:aggregate_evaluate: received 10 results and 0 failures\n",
            "\u001b[92mINFO \u001b[0m:      \n",
            "INFO:flwr:\n",
            "\u001b[92mINFO \u001b[0m:      [ROUND 37]\n",
            "INFO:flwr:[ROUND 37]\n",
            "\u001b[92mINFO \u001b[0m:      configure_fit: strategy sampled 10 clients (out of 33)\n",
            "INFO:flwr:configure_fit: strategy sampled 10 clients (out of 33)\n"
          ]
        },
        {
          "output_type": "stream",
          "name": "stdout",
          "text": [
            "\u001b[2m\u001b[36m(ClientAppActor pid=19750)\u001b[0m ATTACKER\n",
            "\u001b[2m\u001b[36m(ClientAppActor pid=19811)\u001b[0m ATTACKER\n"
          ]
        },
        {
          "output_type": "stream",
          "name": "stderr",
          "text": [
            "\u001b[92mINFO \u001b[0m:      aggregate_fit: received 10 results and 0 failures\n",
            "INFO:flwr:aggregate_fit: received 10 results and 0 failures\n"
          ]
        },
        {
          "output_type": "stream",
          "name": "stdout",
          "text": [
            "Saving round 37 aggregated_parameters...\n"
          ]
        },
        {
          "output_type": "stream",
          "name": "stderr",
          "text": [
            "\u001b[92mINFO \u001b[0m:      fit progress: (37, 318.03212678432465, {'accuracy': 1.3565891472868217}, 2666.362606199)\n",
            "INFO:flwr:fit progress: (37, 318.03212678432465, {'accuracy': 1.3565891472868217}, 2666.362606199)\n",
            "\u001b[92mINFO \u001b[0m:      configure_evaluate: strategy sampled 10 clients (out of 33)\n",
            "INFO:flwr:configure_evaluate: strategy sampled 10 clients (out of 33)\n"
          ]
        },
        {
          "output_type": "stream",
          "name": "stdout",
          "text": [
            "GLOBAL TEST\n"
          ]
        },
        {
          "output_type": "stream",
          "name": "stderr",
          "text": [
            "\u001b[92mINFO \u001b[0m:      aggregate_evaluate: received 10 results and 0 failures\n",
            "INFO:flwr:aggregate_evaluate: received 10 results and 0 failures\n",
            "\u001b[92mINFO \u001b[0m:      \n",
            "INFO:flwr:\n",
            "\u001b[92mINFO \u001b[0m:      [ROUND 38]\n",
            "INFO:flwr:[ROUND 38]\n",
            "\u001b[92mINFO \u001b[0m:      configure_fit: strategy sampled 10 clients (out of 33)\n",
            "INFO:flwr:configure_fit: strategy sampled 10 clients (out of 33)\n"
          ]
        },
        {
          "output_type": "stream",
          "name": "stdout",
          "text": [
            "\u001b[2m\u001b[36m(ClientAppActor pid=19856)\u001b[0m ATTACKER\n"
          ]
        },
        {
          "output_type": "stream",
          "name": "stderr",
          "text": [
            "\u001b[92mINFO \u001b[0m:      aggregate_fit: received 10 results and 0 failures\n",
            "INFO:flwr:aggregate_fit: received 10 results and 0 failures\n"
          ]
        },
        {
          "output_type": "stream",
          "name": "stdout",
          "text": [
            "Saving round 38 aggregated_parameters...\n"
          ]
        },
        {
          "output_type": "stream",
          "name": "stderr",
          "text": [
            "\u001b[92mINFO \u001b[0m:      fit progress: (38, 317.9056553840637, {'accuracy': 1.2596899224806202}, 2736.532860927)\n",
            "INFO:flwr:fit progress: (38, 317.9056553840637, {'accuracy': 1.2596899224806202}, 2736.532860927)\n",
            "\u001b[92mINFO \u001b[0m:      configure_evaluate: strategy sampled 10 clients (out of 33)\n",
            "INFO:flwr:configure_evaluate: strategy sampled 10 clients (out of 33)\n"
          ]
        },
        {
          "output_type": "stream",
          "name": "stdout",
          "text": [
            "GLOBAL TEST\n"
          ]
        },
        {
          "output_type": "stream",
          "name": "stderr",
          "text": [
            "\u001b[92mINFO \u001b[0m:      aggregate_evaluate: received 10 results and 0 failures\n",
            "INFO:flwr:aggregate_evaluate: received 10 results and 0 failures\n",
            "\u001b[92mINFO \u001b[0m:      \n",
            "INFO:flwr:\n",
            "\u001b[92mINFO \u001b[0m:      [ROUND 39]\n",
            "INFO:flwr:[ROUND 39]\n",
            "\u001b[92mINFO \u001b[0m:      configure_fit: strategy sampled 10 clients (out of 33)\n",
            "INFO:flwr:configure_fit: strategy sampled 10 clients (out of 33)\n"
          ]
        },
        {
          "output_type": "stream",
          "name": "stdout",
          "text": [
            "\u001b[2m\u001b[36m(ClientAppActor pid=19855)\u001b[0m ATTACKER\n"
          ]
        },
        {
          "output_type": "stream",
          "name": "stderr",
          "text": [
            "\u001b[92mINFO \u001b[0m:      aggregate_fit: received 10 results and 0 failures\n",
            "INFO:flwr:aggregate_fit: received 10 results and 0 failures\n"
          ]
        },
        {
          "output_type": "stream",
          "name": "stdout",
          "text": [
            "Saving round 39 aggregated_parameters...\n"
          ]
        },
        {
          "output_type": "stream",
          "name": "stderr",
          "text": [
            "\u001b[92mINFO \u001b[0m:      fit progress: (39, 317.77884697914124, {'accuracy': 1.2596899224806202}, 2806.8016563889996)\n",
            "INFO:flwr:fit progress: (39, 317.77884697914124, {'accuracy': 1.2596899224806202}, 2806.8016563889996)\n",
            "\u001b[92mINFO \u001b[0m:      configure_evaluate: strategy sampled 10 clients (out of 33)\n",
            "INFO:flwr:configure_evaluate: strategy sampled 10 clients (out of 33)\n"
          ]
        },
        {
          "output_type": "stream",
          "name": "stdout",
          "text": [
            "GLOBAL TEST\n"
          ]
        },
        {
          "output_type": "stream",
          "name": "stderr",
          "text": [
            "\u001b[92mINFO \u001b[0m:      aggregate_evaluate: received 10 results and 0 failures\n",
            "INFO:flwr:aggregate_evaluate: received 10 results and 0 failures\n",
            "\u001b[92mINFO \u001b[0m:      \n",
            "INFO:flwr:\n",
            "\u001b[92mINFO \u001b[0m:      [ROUND 40]\n",
            "INFO:flwr:[ROUND 40]\n",
            "\u001b[92mINFO \u001b[0m:      configure_fit: strategy sampled 10 clients (out of 33)\n",
            "INFO:flwr:configure_fit: strategy sampled 10 clients (out of 33)\n",
            "\u001b[92mINFO \u001b[0m:      aggregate_fit: received 10 results and 0 failures\n",
            "INFO:flwr:aggregate_fit: received 10 results and 0 failures\n"
          ]
        },
        {
          "output_type": "stream",
          "name": "stdout",
          "text": [
            "Saving round 40 aggregated_parameters...\n"
          ]
        },
        {
          "output_type": "stream",
          "name": "stderr",
          "text": [
            "\u001b[92mINFO \u001b[0m:      fit progress: (40, 317.6848976612091, {'accuracy': 1.2596899224806202}, 2861.56200671)\n",
            "INFO:flwr:fit progress: (40, 317.6848976612091, {'accuracy': 1.2596899224806202}, 2861.56200671)\n",
            "\u001b[92mINFO \u001b[0m:      configure_evaluate: strategy sampled 10 clients (out of 33)\n",
            "INFO:flwr:configure_evaluate: strategy sampled 10 clients (out of 33)\n"
          ]
        },
        {
          "output_type": "stream",
          "name": "stdout",
          "text": [
            "GLOBAL TEST\n"
          ]
        },
        {
          "output_type": "stream",
          "name": "stderr",
          "text": [
            "\u001b[92mINFO \u001b[0m:      aggregate_evaluate: received 10 results and 0 failures\n",
            "INFO:flwr:aggregate_evaluate: received 10 results and 0 failures\n",
            "\u001b[92mINFO \u001b[0m:      \n",
            "INFO:flwr:\n",
            "\u001b[92mINFO \u001b[0m:      [ROUND 41]\n",
            "INFO:flwr:[ROUND 41]\n",
            "\u001b[92mINFO \u001b[0m:      configure_fit: strategy sampled 10 clients (out of 33)\n",
            "INFO:flwr:configure_fit: strategy sampled 10 clients (out of 33)\n",
            "\u001b[92mINFO \u001b[0m:      aggregate_fit: received 10 results and 0 failures\n",
            "INFO:flwr:aggregate_fit: received 10 results and 0 failures\n"
          ]
        },
        {
          "output_type": "stream",
          "name": "stdout",
          "text": [
            "Saving round 41 aggregated_parameters...\n"
          ]
        },
        {
          "output_type": "stream",
          "name": "stderr",
          "text": [
            "\u001b[92mINFO \u001b[0m:      fit progress: (41, 317.59221053123474, {'accuracy': 1.2596899224806202}, 2914.445501385)\n",
            "INFO:flwr:fit progress: (41, 317.59221053123474, {'accuracy': 1.2596899224806202}, 2914.445501385)\n",
            "\u001b[92mINFO \u001b[0m:      configure_evaluate: strategy sampled 10 clients (out of 33)\n",
            "INFO:flwr:configure_evaluate: strategy sampled 10 clients (out of 33)\n"
          ]
        },
        {
          "output_type": "stream",
          "name": "stdout",
          "text": [
            "GLOBAL TEST\n"
          ]
        },
        {
          "output_type": "stream",
          "name": "stderr",
          "text": [
            "\u001b[92mINFO \u001b[0m:      aggregate_evaluate: received 10 results and 0 failures\n",
            "INFO:flwr:aggregate_evaluate: received 10 results and 0 failures\n",
            "\u001b[92mINFO \u001b[0m:      \n",
            "INFO:flwr:\n",
            "\u001b[92mINFO \u001b[0m:      [ROUND 42]\n",
            "INFO:flwr:[ROUND 42]\n",
            "\u001b[92mINFO \u001b[0m:      configure_fit: strategy sampled 10 clients (out of 33)\n",
            "INFO:flwr:configure_fit: strategy sampled 10 clients (out of 33)\n"
          ]
        },
        {
          "output_type": "stream",
          "name": "stdout",
          "text": [
            "\u001b[2m\u001b[36m(ClientAppActor pid=19855)\u001b[0m ATTACKER\n"
          ]
        },
        {
          "output_type": "stream",
          "name": "stderr",
          "text": [
            "\u001b[92mINFO \u001b[0m:      aggregate_fit: received 10 results and 0 failures\n",
            "INFO:flwr:aggregate_fit: received 10 results and 0 failures\n"
          ]
        },
        {
          "output_type": "stream",
          "name": "stdout",
          "text": [
            "Saving round 42 aggregated_parameters...\n"
          ]
        },
        {
          "output_type": "stream",
          "name": "stderr",
          "text": [
            "\u001b[92mINFO \u001b[0m:      fit progress: (42, 317.49688601493835, {'accuracy': 1.2596899224806202}, 2987.7774743829996)\n",
            "INFO:flwr:fit progress: (42, 317.49688601493835, {'accuracy': 1.2596899224806202}, 2987.7774743829996)\n",
            "\u001b[92mINFO \u001b[0m:      configure_evaluate: strategy sampled 10 clients (out of 33)\n",
            "INFO:flwr:configure_evaluate: strategy sampled 10 clients (out of 33)\n"
          ]
        },
        {
          "output_type": "stream",
          "name": "stdout",
          "text": [
            "GLOBAL TEST\n"
          ]
        },
        {
          "output_type": "stream",
          "name": "stderr",
          "text": [
            "\u001b[92mINFO \u001b[0m:      aggregate_evaluate: received 10 results and 0 failures\n",
            "INFO:flwr:aggregate_evaluate: received 10 results and 0 failures\n",
            "\u001b[92mINFO \u001b[0m:      \n",
            "INFO:flwr:\n",
            "\u001b[92mINFO \u001b[0m:      [ROUND 43]\n",
            "INFO:flwr:[ROUND 43]\n",
            "\u001b[92mINFO \u001b[0m:      configure_fit: strategy sampled 10 clients (out of 33)\n",
            "INFO:flwr:configure_fit: strategy sampled 10 clients (out of 33)\n"
          ]
        },
        {
          "output_type": "stream",
          "name": "stdout",
          "text": [
            "\u001b[2m\u001b[36m(ClientAppActor pid=19856)\u001b[0m ATTACKER\n"
          ]
        },
        {
          "output_type": "stream",
          "name": "stderr",
          "text": [
            "\u001b[92mINFO \u001b[0m:      aggregate_fit: received 10 results and 0 failures\n",
            "INFO:flwr:aggregate_fit: received 10 results and 0 failures\n"
          ]
        },
        {
          "output_type": "stream",
          "name": "stdout",
          "text": [
            "Saving round 43 aggregated_parameters...\n"
          ]
        },
        {
          "output_type": "stream",
          "name": "stderr",
          "text": [
            "\u001b[92mINFO \u001b[0m:      fit progress: (43, 317.37994134426117, {'accuracy': 1.2596899224806202}, 3058.1622824139995)\n",
            "INFO:flwr:fit progress: (43, 317.37994134426117, {'accuracy': 1.2596899224806202}, 3058.1622824139995)\n",
            "\u001b[92mINFO \u001b[0m:      configure_evaluate: strategy sampled 10 clients (out of 33)\n",
            "INFO:flwr:configure_evaluate: strategy sampled 10 clients (out of 33)\n"
          ]
        },
        {
          "output_type": "stream",
          "name": "stdout",
          "text": [
            "GLOBAL TEST\n"
          ]
        },
        {
          "output_type": "stream",
          "name": "stderr",
          "text": [
            "\u001b[92mINFO \u001b[0m:      aggregate_evaluate: received 10 results and 0 failures\n",
            "INFO:flwr:aggregate_evaluate: received 10 results and 0 failures\n",
            "\u001b[92mINFO \u001b[0m:      \n",
            "INFO:flwr:\n",
            "\u001b[92mINFO \u001b[0m:      [ROUND 44]\n",
            "INFO:flwr:[ROUND 44]\n",
            "\u001b[92mINFO \u001b[0m:      configure_fit: strategy sampled 10 clients (out of 33)\n",
            "INFO:flwr:configure_fit: strategy sampled 10 clients (out of 33)\n",
            "\u001b[92mINFO \u001b[0m:      aggregate_fit: received 10 results and 0 failures\n",
            "INFO:flwr:aggregate_fit: received 10 results and 0 failures\n"
          ]
        },
        {
          "output_type": "stream",
          "name": "stdout",
          "text": [
            "Saving round 44 aggregated_parameters...\n"
          ]
        },
        {
          "output_type": "stream",
          "name": "stderr",
          "text": [
            "\u001b[92mINFO \u001b[0m:      fit progress: (44, 317.2623735666275, {'accuracy': 1.2596899224806202}, 3111.232649775)\n",
            "INFO:flwr:fit progress: (44, 317.2623735666275, {'accuracy': 1.2596899224806202}, 3111.232649775)\n",
            "\u001b[92mINFO \u001b[0m:      configure_evaluate: strategy sampled 10 clients (out of 33)\n",
            "INFO:flwr:configure_evaluate: strategy sampled 10 clients (out of 33)\n"
          ]
        },
        {
          "output_type": "stream",
          "name": "stdout",
          "text": [
            "GLOBAL TEST\n"
          ]
        },
        {
          "output_type": "stream",
          "name": "stderr",
          "text": [
            "\u001b[92mINFO \u001b[0m:      aggregate_evaluate: received 10 results and 0 failures\n",
            "INFO:flwr:aggregate_evaluate: received 10 results and 0 failures\n",
            "\u001b[92mINFO \u001b[0m:      \n",
            "INFO:flwr:\n",
            "\u001b[92mINFO \u001b[0m:      [ROUND 45]\n",
            "INFO:flwr:[ROUND 45]\n",
            "\u001b[92mINFO \u001b[0m:      configure_fit: strategy sampled 10 clients (out of 33)\n",
            "INFO:flwr:configure_fit: strategy sampled 10 clients (out of 33)\n",
            "\u001b[92mINFO \u001b[0m:      aggregate_fit: received 10 results and 0 failures\n",
            "INFO:flwr:aggregate_fit: received 10 results and 0 failures\n"
          ]
        },
        {
          "output_type": "stream",
          "name": "stdout",
          "text": [
            "Saving round 45 aggregated_parameters...\n"
          ]
        },
        {
          "output_type": "stream",
          "name": "stderr",
          "text": [
            "\u001b[92mINFO \u001b[0m:      fit progress: (45, 317.18722116947174, {'accuracy': 1.2596899224806202}, 3165.595532055)\n",
            "INFO:flwr:fit progress: (45, 317.18722116947174, {'accuracy': 1.2596899224806202}, 3165.595532055)\n",
            "\u001b[92mINFO \u001b[0m:      configure_evaluate: strategy sampled 10 clients (out of 33)\n",
            "INFO:flwr:configure_evaluate: strategy sampled 10 clients (out of 33)\n"
          ]
        },
        {
          "output_type": "stream",
          "name": "stdout",
          "text": [
            "GLOBAL TEST\n"
          ]
        },
        {
          "output_type": "stream",
          "name": "stderr",
          "text": [
            "\u001b[92mINFO \u001b[0m:      aggregate_evaluate: received 10 results and 0 failures\n",
            "INFO:flwr:aggregate_evaluate: received 10 results and 0 failures\n",
            "\u001b[92mINFO \u001b[0m:      \n",
            "INFO:flwr:\n",
            "\u001b[92mINFO \u001b[0m:      [ROUND 46]\n",
            "INFO:flwr:[ROUND 46]\n",
            "\u001b[92mINFO \u001b[0m:      configure_fit: strategy sampled 10 clients (out of 33)\n",
            "INFO:flwr:configure_fit: strategy sampled 10 clients (out of 33)\n",
            "\u001b[92mINFO \u001b[0m:      aggregate_fit: received 10 results and 0 failures\n",
            "INFO:flwr:aggregate_fit: received 10 results and 0 failures\n"
          ]
        },
        {
          "output_type": "stream",
          "name": "stdout",
          "text": [
            "Saving round 46 aggregated_parameters...\n"
          ]
        },
        {
          "output_type": "stream",
          "name": "stderr",
          "text": [
            "\u001b[92mINFO \u001b[0m:      fit progress: (46, 317.0918128490448, {'accuracy': 1.2596899224806202}, 3219.3265589819994)\n",
            "INFO:flwr:fit progress: (46, 317.0918128490448, {'accuracy': 1.2596899224806202}, 3219.3265589819994)\n",
            "\u001b[92mINFO \u001b[0m:      configure_evaluate: strategy sampled 10 clients (out of 33)\n",
            "INFO:flwr:configure_evaluate: strategy sampled 10 clients (out of 33)\n"
          ]
        },
        {
          "output_type": "stream",
          "name": "stdout",
          "text": [
            "GLOBAL TEST\n"
          ]
        },
        {
          "output_type": "stream",
          "name": "stderr",
          "text": [
            "\u001b[92mINFO \u001b[0m:      aggregate_evaluate: received 10 results and 0 failures\n",
            "INFO:flwr:aggregate_evaluate: received 10 results and 0 failures\n",
            "\u001b[92mINFO \u001b[0m:      \n",
            "INFO:flwr:\n",
            "\u001b[92mINFO \u001b[0m:      [ROUND 47]\n",
            "INFO:flwr:[ROUND 47]\n",
            "\u001b[92mINFO \u001b[0m:      configure_fit: strategy sampled 10 clients (out of 33)\n",
            "INFO:flwr:configure_fit: strategy sampled 10 clients (out of 33)\n"
          ]
        },
        {
          "output_type": "stream",
          "name": "stdout",
          "text": [
            "\u001b[2m\u001b[36m(ClientAppActor pid=19734)\u001b[0m ATTACKER\n"
          ]
        },
        {
          "output_type": "stream",
          "name": "stderr",
          "text": [
            "\u001b[92mINFO \u001b[0m:      aggregate_fit: received 10 results and 0 failures\n",
            "INFO:flwr:aggregate_fit: received 10 results and 0 failures\n"
          ]
        },
        {
          "output_type": "stream",
          "name": "stdout",
          "text": [
            "Saving round 47 aggregated_parameters...\n"
          ]
        },
        {
          "output_type": "stream",
          "name": "stderr",
          "text": [
            "\u001b[92mINFO \u001b[0m:      fit progress: (47, 317.0240545272827, {'accuracy': 1.2596899224806202}, 3289.706354162)\n",
            "INFO:flwr:fit progress: (47, 317.0240545272827, {'accuracy': 1.2596899224806202}, 3289.706354162)\n",
            "\u001b[92mINFO \u001b[0m:      configure_evaluate: strategy sampled 10 clients (out of 33)\n",
            "INFO:flwr:configure_evaluate: strategy sampled 10 clients (out of 33)\n"
          ]
        },
        {
          "output_type": "stream",
          "name": "stdout",
          "text": [
            "GLOBAL TEST\n"
          ]
        },
        {
          "output_type": "stream",
          "name": "stderr",
          "text": [
            "\u001b[92mINFO \u001b[0m:      aggregate_evaluate: received 10 results and 0 failures\n",
            "INFO:flwr:aggregate_evaluate: received 10 results and 0 failures\n",
            "\u001b[92mINFO \u001b[0m:      \n",
            "INFO:flwr:\n",
            "\u001b[92mINFO \u001b[0m:      [ROUND 48]\n",
            "INFO:flwr:[ROUND 48]\n",
            "\u001b[92mINFO \u001b[0m:      configure_fit: strategy sampled 10 clients (out of 33)\n",
            "INFO:flwr:configure_fit: strategy sampled 10 clients (out of 33)\n"
          ]
        },
        {
          "output_type": "stream",
          "name": "stdout",
          "text": [
            "\u001b[2m\u001b[36m(ClientAppActor pid=19734)\u001b[0m ATTACKER\n",
            "\u001b[2m\u001b[36m(ClientAppActor pid=19856)\u001b[0m ATTACKER\n"
          ]
        },
        {
          "output_type": "stream",
          "name": "stderr",
          "text": [
            "\u001b[92mINFO \u001b[0m:      aggregate_fit: received 10 results and 0 failures\n",
            "INFO:flwr:aggregate_fit: received 10 results and 0 failures\n"
          ]
        },
        {
          "output_type": "stream",
          "name": "stdout",
          "text": [
            "Saving round 48 aggregated_parameters...\n"
          ]
        },
        {
          "output_type": "stream",
          "name": "stderr",
          "text": [
            "\u001b[92mINFO \u001b[0m:      fit progress: (48, 316.97601759433746, {'accuracy': 1.2596899224806202}, 3373.884466521)\n",
            "INFO:flwr:fit progress: (48, 316.97601759433746, {'accuracy': 1.2596899224806202}, 3373.884466521)\n",
            "\u001b[92mINFO \u001b[0m:      configure_evaluate: strategy sampled 10 clients (out of 33)\n",
            "INFO:flwr:configure_evaluate: strategy sampled 10 clients (out of 33)\n"
          ]
        },
        {
          "output_type": "stream",
          "name": "stdout",
          "text": [
            "GLOBAL TEST\n"
          ]
        },
        {
          "output_type": "stream",
          "name": "stderr",
          "text": [
            "\u001b[92mINFO \u001b[0m:      aggregate_evaluate: received 10 results and 0 failures\n",
            "INFO:flwr:aggregate_evaluate: received 10 results and 0 failures\n",
            "\u001b[92mINFO \u001b[0m:      \n",
            "INFO:flwr:\n",
            "\u001b[92mINFO \u001b[0m:      [ROUND 49]\n",
            "INFO:flwr:[ROUND 49]\n",
            "\u001b[92mINFO \u001b[0m:      configure_fit: strategy sampled 10 clients (out of 33)\n",
            "INFO:flwr:configure_fit: strategy sampled 10 clients (out of 33)\n"
          ]
        },
        {
          "output_type": "stream",
          "name": "stdout",
          "text": [
            "\u001b[2m\u001b[36m(ClientAppActor pid=19750)\u001b[0m ATTACKER\n"
          ]
        },
        {
          "output_type": "stream",
          "name": "stderr",
          "text": [
            "\u001b[92mINFO \u001b[0m:      aggregate_fit: received 10 results and 0 failures\n",
            "INFO:flwr:aggregate_fit: received 10 results and 0 failures\n"
          ]
        },
        {
          "output_type": "stream",
          "name": "stdout",
          "text": [
            "Saving round 49 aggregated_parameters...\n"
          ]
        },
        {
          "output_type": "stream",
          "name": "stderr",
          "text": [
            "\u001b[92mINFO \u001b[0m:      fit progress: (49, 316.92699921131134, {'accuracy': 1.2596899224806202}, 3457.960144703)\n",
            "INFO:flwr:fit progress: (49, 316.92699921131134, {'accuracy': 1.2596899224806202}, 3457.960144703)\n",
            "\u001b[92mINFO \u001b[0m:      configure_evaluate: strategy sampled 10 clients (out of 33)\n",
            "INFO:flwr:configure_evaluate: strategy sampled 10 clients (out of 33)\n"
          ]
        },
        {
          "output_type": "stream",
          "name": "stdout",
          "text": [
            "GLOBAL TEST\n"
          ]
        },
        {
          "output_type": "stream",
          "name": "stderr",
          "text": [
            "\u001b[92mINFO \u001b[0m:      aggregate_evaluate: received 10 results and 0 failures\n",
            "INFO:flwr:aggregate_evaluate: received 10 results and 0 failures\n",
            "\u001b[92mINFO \u001b[0m:      \n",
            "INFO:flwr:\n",
            "\u001b[92mINFO \u001b[0m:      [ROUND 50]\n",
            "INFO:flwr:[ROUND 50]\n",
            "\u001b[92mINFO \u001b[0m:      configure_fit: strategy sampled 10 clients (out of 33)\n",
            "INFO:flwr:configure_fit: strategy sampled 10 clients (out of 33)\n"
          ]
        },
        {
          "output_type": "stream",
          "name": "stdout",
          "text": [
            "\u001b[2m\u001b[36m(ClientAppActor pid=19750)\u001b[0m ATTACKER\u001b[32m [repeated 2x across cluster]\u001b[0m\n"
          ]
        },
        {
          "output_type": "stream",
          "name": "stderr",
          "text": [
            "\u001b[92mINFO \u001b[0m:      aggregate_fit: received 10 results and 0 failures\n",
            "INFO:flwr:aggregate_fit: received 10 results and 0 failures\n"
          ]
        },
        {
          "output_type": "stream",
          "name": "stdout",
          "text": [
            "Saving round 50 aggregated_parameters...\n"
          ]
        },
        {
          "output_type": "stream",
          "name": "stderr",
          "text": [
            "\u001b[92mINFO \u001b[0m:      fit progress: (50, 316.87162029743195, {'accuracy': 1.2596899224806202}, 3527.9715641129997)\n",
            "INFO:flwr:fit progress: (50, 316.87162029743195, {'accuracy': 1.2596899224806202}, 3527.9715641129997)\n",
            "\u001b[92mINFO \u001b[0m:      configure_evaluate: strategy sampled 10 clients (out of 33)\n",
            "INFO:flwr:configure_evaluate: strategy sampled 10 clients (out of 33)\n"
          ]
        },
        {
          "output_type": "stream",
          "name": "stdout",
          "text": [
            "GLOBAL TEST\n"
          ]
        },
        {
          "output_type": "stream",
          "name": "stderr",
          "text": [
            "\u001b[92mINFO \u001b[0m:      aggregate_evaluate: received 10 results and 0 failures\n",
            "INFO:flwr:aggregate_evaluate: received 10 results and 0 failures\n",
            "\u001b[92mINFO \u001b[0m:      \n",
            "INFO:flwr:\n",
            "\u001b[92mINFO \u001b[0m:      [SUMMARY]\n",
            "INFO:flwr:[SUMMARY]\n",
            "\u001b[92mINFO \u001b[0m:      Run finished 50 rounds in 3530.12s\n",
            "INFO:flwr:Run finished 50 rounds in 3530.12s\n",
            "\u001b[92mINFO \u001b[0m:      History (loss, distributed):\n",
            "INFO:flwr:History (loss, distributed):\n",
            "\u001b[92mINFO \u001b[0m:      \t('\\tround 1: 1.6706667304039002\\n'\n",
            "INFO:flwr:\t('\\tround 1: 1.6706667304039002\\n'\n",
            "\u001b[92mINFO \u001b[0m:      \t '\\tround 2: 1.6565209865570067\\n'\n",
            "INFO:flwr:\t '\\tround 2: 1.6565209865570067\\n'\n",
            "\u001b[92mINFO \u001b[0m:      \t '\\tround 3: 1.643873679637909\\n'\n",
            "INFO:flwr:\t '\\tround 3: 1.643873679637909\\n'\n",
            "\u001b[92mINFO \u001b[0m:      \t '\\tround 4: 1.6428495049476624\\n'\n",
            "INFO:flwr:\t '\\tround 4: 1.6428495049476624\\n'\n",
            "\u001b[92mINFO \u001b[0m:      \t '\\tround 5: 1.6511751651763915\\n'\n",
            "INFO:flwr:\t '\\tround 5: 1.6511751651763915\\n'\n",
            "\u001b[92mINFO \u001b[0m:      \t '\\tround 6: 1.647099792957306\\n'\n",
            "INFO:flwr:\t '\\tround 6: 1.647099792957306\\n'\n",
            "\u001b[92mINFO \u001b[0m:      \t '\\tround 7: 1.638146448135376\\n'\n",
            "INFO:flwr:\t '\\tround 7: 1.638146448135376\\n'\n",
            "\u001b[92mINFO \u001b[0m:      \t '\\tround 8: 1.6367830038070679\\n'\n",
            "INFO:flwr:\t '\\tround 8: 1.6367830038070679\\n'\n",
            "\u001b[92mINFO \u001b[0m:      \t '\\tround 9: 1.6302156805992127\\n'\n",
            "INFO:flwr:\t '\\tround 9: 1.6302156805992127\\n'\n",
            "\u001b[92mINFO \u001b[0m:      \t '\\tround 10: 1.629838514328003\\n'\n",
            "INFO:flwr:\t '\\tround 10: 1.629838514328003\\n'\n",
            "\u001b[92mINFO \u001b[0m:      \t '\\tround 11: 1.6334111571311951\\n'\n",
            "INFO:flwr:\t '\\tround 11: 1.6334111571311951\\n'\n",
            "\u001b[92mINFO \u001b[0m:      \t '\\tround 12: 1.6295789361000061\\n'\n",
            "INFO:flwr:\t '\\tround 12: 1.6295789361000061\\n'\n",
            "\u001b[92mINFO \u001b[0m:      \t '\\tround 13: 1.6188814759254455\\n'\n",
            "INFO:flwr:\t '\\tround 13: 1.6188814759254455\\n'\n",
            "\u001b[92mINFO \u001b[0m:      \t '\\tround 14: 1.6096317768096924\\n'\n",
            "INFO:flwr:\t '\\tround 14: 1.6096317768096924\\n'\n",
            "\u001b[92mINFO \u001b[0m:      \t '\\tround 15: 1.6576111435890197\\n'\n",
            "INFO:flwr:\t '\\tround 15: 1.6576111435890197\\n'\n",
            "\u001b[92mINFO \u001b[0m:      \t '\\tround 16: 1.9285176157951356\\n'\n",
            "INFO:flwr:\t '\\tround 16: 1.9285176157951356\\n'\n",
            "\u001b[92mINFO \u001b[0m:      \t '\\tround 17: 1.6214785933494569\\n'\n",
            "INFO:flwr:\t '\\tround 17: 1.6214785933494569\\n'\n",
            "\u001b[92mINFO \u001b[0m:      \t '\\tround 18: 1.6140100240707398\\n'\n",
            "INFO:flwr:\t '\\tround 18: 1.6140100240707398\\n'\n",
            "\u001b[92mINFO \u001b[0m:      \t '\\tround 19: 1.6150379657745362\\n'\n",
            "INFO:flwr:\t '\\tround 19: 1.6150379657745362\\n'\n",
            "\u001b[92mINFO \u001b[0m:      \t '\\tround 20: 1.6613628149032593\\n'\n",
            "INFO:flwr:\t '\\tround 20: 1.6613628149032593\\n'\n",
            "\u001b[92mINFO \u001b[0m:      \t '\\tround 21: 1.6112388968467712\\n'\n",
            "INFO:flwr:\t '\\tround 21: 1.6112388968467712\\n'\n",
            "\u001b[92mINFO \u001b[0m:      \t '\\tround 22: 1.6099686026573181\\n'\n",
            "INFO:flwr:\t '\\tround 22: 1.6099686026573181\\n'\n",
            "\u001b[92mINFO \u001b[0m:      \t '\\tround 23: 1.6071617603302002\\n'\n",
            "INFO:flwr:\t '\\tround 23: 1.6071617603302002\\n'\n",
            "\u001b[92mINFO \u001b[0m:      \t '\\tround 24: 1.6080319046974183\\n'\n",
            "INFO:flwr:\t '\\tround 24: 1.6080319046974183\\n'\n",
            "\u001b[92mINFO \u001b[0m:      \t '\\tround 25: 1.6051867127418518\\n'\n",
            "INFO:flwr:\t '\\tround 25: 1.6051867127418518\\n'\n",
            "\u001b[92mINFO \u001b[0m:      \t '\\tround 26: 1.6016449093818665\\n'\n",
            "INFO:flwr:\t '\\tround 26: 1.6016449093818665\\n'\n",
            "\u001b[92mINFO \u001b[0m:      \t '\\tround 27: 1.6075098395347596\\n'\n",
            "INFO:flwr:\t '\\tround 27: 1.6075098395347596\\n'\n",
            "\u001b[92mINFO \u001b[0m:      \t '\\tround 28: 1.9429615020751954\\n'\n",
            "INFO:flwr:\t '\\tround 28: 1.9429615020751954\\n'\n",
            "\u001b[92mINFO \u001b[0m:      \t '\\tround 29: 1.6036331057548523\\n'\n",
            "INFO:flwr:\t '\\tround 29: 1.6036331057548523\\n'\n",
            "\u001b[92mINFO \u001b[0m:      \t '\\tround 30: 1.6098382115364074\\n'\n",
            "INFO:flwr:\t '\\tround 30: 1.6098382115364074\\n'\n",
            "\u001b[92mINFO \u001b[0m:      \t '\\tround 31: 1.597469437122345\\n'\n",
            "INFO:flwr:\t '\\tround 31: 1.597469437122345\\n'\n",
            "\u001b[92mINFO \u001b[0m:      \t '\\tround 32: 1.59760924577713\\n'\n",
            "INFO:flwr:\t '\\tround 32: 1.59760924577713\\n'\n",
            "\u001b[92mINFO \u001b[0m:      \t '\\tround 33: 1.5982040166854858\\n'\n",
            "INFO:flwr:\t '\\tround 33: 1.5982040166854858\\n'\n",
            "\u001b[92mINFO \u001b[0m:      \t '\\tround 34: 1.6011834740638733\\n'\n",
            "INFO:flwr:\t '\\tround 34: 1.6011834740638733\\n'\n",
            "\u001b[92mINFO \u001b[0m:      \t '\\tround 35: 1.5921977519989015\\n'\n",
            "INFO:flwr:\t '\\tround 35: 1.5921977519989015\\n'\n",
            "\u001b[92mINFO \u001b[0m:      \t '\\tround 36: 1.5938052892684937\\n'\n",
            "INFO:flwr:\t '\\tround 36: 1.5938052892684937\\n'\n",
            "\u001b[92mINFO \u001b[0m:      \t '\\tround 37: 1.5890782356262207\\n'\n",
            "INFO:flwr:\t '\\tround 37: 1.5890782356262207\\n'\n",
            "\u001b[92mINFO \u001b[0m:      \t '\\tround 38: 1.5974773049354554\\n'\n",
            "INFO:flwr:\t '\\tround 38: 1.5974773049354554\\n'\n",
            "\u001b[92mINFO \u001b[0m:      \t '\\tround 39: 1.588783037662506\\n'\n",
            "INFO:flwr:\t '\\tround 39: 1.588783037662506\\n'\n",
            "\u001b[92mINFO \u001b[0m:      \t '\\tround 40: 1.598302686214447\\n'\n",
            "INFO:flwr:\t '\\tround 40: 1.598302686214447\\n'\n",
            "\u001b[92mINFO \u001b[0m:      \t '\\tround 41: 1.5931748747825623\\n'\n",
            "INFO:flwr:\t '\\tround 41: 1.5931748747825623\\n'\n",
            "\u001b[92mINFO \u001b[0m:      \t '\\tround 42: 1.586609411239624\\n'\n",
            "INFO:flwr:\t '\\tround 42: 1.586609411239624\\n'\n",
            "\u001b[92mINFO \u001b[0m:      \t '\\tround 43: 1.58437340259552\\n'\n",
            "INFO:flwr:\t '\\tround 43: 1.58437340259552\\n'\n",
            "\u001b[92mINFO \u001b[0m:      \t '\\tround 44: 1.5896432518959045\\n'\n",
            "INFO:flwr:\t '\\tround 44: 1.5896432518959045\\n'\n",
            "\u001b[92mINFO \u001b[0m:      \t '\\tround 45: 1.5881821393966675\\n'\n",
            "INFO:flwr:\t '\\tround 45: 1.5881821393966675\\n'\n",
            "\u001b[92mINFO \u001b[0m:      \t '\\tround 46: 1.5892832040786744\\n'\n",
            "INFO:flwr:\t '\\tround 46: 1.5892832040786744\\n'\n",
            "\u001b[92mINFO \u001b[0m:      \t '\\tround 47: 1.5863232374191285\\n'\n",
            "INFO:flwr:\t '\\tround 47: 1.5863232374191285\\n'\n",
            "\u001b[92mINFO \u001b[0m:      \t '\\tround 48: 1.595684564113617\\n'\n",
            "INFO:flwr:\t '\\tround 48: 1.595684564113617\\n'\n",
            "\u001b[92mINFO \u001b[0m:      \t '\\tround 49: 1.591230034828186\\n'\n",
            "INFO:flwr:\t '\\tround 49: 1.591230034828186\\n'\n",
            "\u001b[92mINFO \u001b[0m:      \t '\\tround 50: 1.583404779434204\\n')History (loss, centralized):\n",
            "INFO:flwr:\t '\\tround 50: 1.583404779434204\\n')History (loss, centralized):\n",
            "\u001b[92mINFO \u001b[0m:      \t('\\tround 0: 332.86745488643646\\n'\n",
            "INFO:flwr:\t('\\tround 0: 332.86745488643646\\n'\n",
            "\u001b[92mINFO \u001b[0m:      \t '\\tround 1: 331.6653048992157\\n'\n",
            "INFO:flwr:\t '\\tround 1: 331.6653048992157\\n'\n",
            "\u001b[92mINFO \u001b[0m:      \t '\\tround 2: 329.69378316402435\\n'\n",
            "INFO:flwr:\t '\\tround 2: 329.69378316402435\\n'\n",
            "\u001b[92mINFO \u001b[0m:      \t '\\tround 3: 328.66066789627075\\n'\n",
            "INFO:flwr:\t '\\tround 3: 328.66066789627075\\n'\n",
            "\u001b[92mINFO \u001b[0m:      \t '\\tround 4: 327.39432287216187\\n'\n",
            "INFO:flwr:\t '\\tround 4: 327.39432287216187\\n'\n",
            "\u001b[92mINFO \u001b[0m:      \t '\\tround 5: 327.8235294818878\\n'\n",
            "INFO:flwr:\t '\\tround 5: 327.8235294818878\\n'\n",
            "\u001b[92mINFO \u001b[0m:      \t '\\tround 6: 326.4784759283066\\n'\n",
            "INFO:flwr:\t '\\tround 6: 326.4784759283066\\n'\n",
            "\u001b[92mINFO \u001b[0m:      \t '\\tround 7: 325.42636024951935\\n'\n",
            "INFO:flwr:\t '\\tround 7: 325.42636024951935\\n'\n",
            "\u001b[92mINFO \u001b[0m:      \t '\\tround 8: 325.00100445747375\\n'\n",
            "INFO:flwr:\t '\\tround 8: 325.00100445747375\\n'\n",
            "\u001b[92mINFO \u001b[0m:      \t '\\tround 9: 325.0378350019455\\n'\n",
            "INFO:flwr:\t '\\tround 9: 325.0378350019455\\n'\n",
            "\u001b[92mINFO \u001b[0m:      \t '\\tround 10: 323.8922609090805\\n'\n",
            "INFO:flwr:\t '\\tround 10: 323.8922609090805\\n'\n",
            "\u001b[92mINFO \u001b[0m:      \t '\\tround 11: 323.8068742752075\\n'\n",
            "INFO:flwr:\t '\\tround 11: 323.8068742752075\\n'\n",
            "\u001b[92mINFO \u001b[0m:      \t '\\tround 12: 323.79447889328003\\n'\n",
            "INFO:flwr:\t '\\tround 12: 323.79447889328003\\n'\n",
            "\u001b[92mINFO \u001b[0m:      \t '\\tround 13: 322.69351601600647\\n'\n",
            "INFO:flwr:\t '\\tround 13: 322.69351601600647\\n'\n",
            "\u001b[92mINFO \u001b[0m:      \t '\\tround 14: 322.54828357696533\\n'\n",
            "INFO:flwr:\t '\\tround 14: 322.54828357696533\\n'\n",
            "\u001b[92mINFO \u001b[0m:      \t '\\tround 15: 329.70398807525635\\n'\n",
            "INFO:flwr:\t '\\tround 15: 329.70398807525635\\n'\n",
            "\u001b[92mINFO \u001b[0m:      \t '\\tround 16: 382.23021268844604\\n'\n",
            "INFO:flwr:\t '\\tround 16: 382.23021268844604\\n'\n",
            "\u001b[92mINFO \u001b[0m:      \t '\\tround 17: 322.71503031253815\\n'\n",
            "INFO:flwr:\t '\\tround 17: 322.71503031253815\\n'\n",
            "\u001b[92mINFO \u001b[0m:      \t '\\tround 18: 321.57375621795654\\n'\n",
            "INFO:flwr:\t '\\tround 18: 321.57375621795654\\n'\n",
            "\u001b[92mINFO \u001b[0m:      \t '\\tround 19: 321.17740738391876\\n'\n",
            "INFO:flwr:\t '\\tround 19: 321.17740738391876\\n'\n",
            "\u001b[92mINFO \u001b[0m:      \t '\\tround 20: 330.2360624074936\\n'\n",
            "INFO:flwr:\t '\\tround 20: 330.2360624074936\\n'\n",
            "\u001b[92mINFO \u001b[0m:      \t '\\tround 21: 320.85331904888153\\n'\n",
            "INFO:flwr:\t '\\tround 21: 320.85331904888153\\n'\n",
            "\u001b[92mINFO \u001b[0m:      \t '\\tround 22: 320.5139229297638\\n'\n",
            "INFO:flwr:\t '\\tround 22: 320.5139229297638\\n'\n",
            "\u001b[92mINFO \u001b[0m:      \t '\\tround 23: 320.21578311920166\\n'\n",
            "INFO:flwr:\t '\\tround 23: 320.21578311920166\\n'\n",
            "\u001b[92mINFO \u001b[0m:      \t '\\tround 24: 320.0419156551361\\n'\n",
            "INFO:flwr:\t '\\tround 24: 320.0419156551361\\n'\n",
            "\u001b[92mINFO \u001b[0m:      \t '\\tround 25: 319.73013627529144\\n'\n",
            "INFO:flwr:\t '\\tround 25: 319.73013627529144\\n'\n",
            "\u001b[92mINFO \u001b[0m:      \t '\\tround 26: 319.5478196144104\\n'\n",
            "INFO:flwr:\t '\\tround 26: 319.5478196144104\\n'\n",
            "\u001b[92mINFO \u001b[0m:      \t '\\tround 27: 319.31636667251587\\n'\n",
            "INFO:flwr:\t '\\tround 27: 319.31636667251587\\n'\n",
            "\u001b[92mINFO \u001b[0m:      \t '\\tround 28: 390.5656008720398\\n'\n",
            "INFO:flwr:\t '\\tround 28: 390.5656008720398\\n'\n",
            "\u001b[92mINFO \u001b[0m:      \t '\\tround 29: 320.0379264354706\\n'\n",
            "INFO:flwr:\t '\\tround 29: 320.0379264354706\\n'\n",
            "\u001b[92mINFO \u001b[0m:      \t '\\tround 30: 319.4266035556793\\n'\n",
            "INFO:flwr:\t '\\tround 30: 319.4266035556793\\n'\n",
            "\u001b[92mINFO \u001b[0m:      \t '\\tround 31: 319.07376623153687\\n'\n",
            "INFO:flwr:\t '\\tround 31: 319.07376623153687\\n'\n",
            "\u001b[92mINFO \u001b[0m:      \t '\\tround 32: 318.84298372268677\\n'\n",
            "INFO:flwr:\t '\\tround 32: 318.84298372268677\\n'\n",
            "\u001b[92mINFO \u001b[0m:      \t '\\tround 33: 318.63165533542633\\n'\n",
            "INFO:flwr:\t '\\tround 33: 318.63165533542633\\n'\n",
            "\u001b[92mINFO \u001b[0m:      \t '\\tround 34: 318.4736489057541\\n'\n",
            "INFO:flwr:\t '\\tround 34: 318.4736489057541\\n'\n",
            "\u001b[92mINFO \u001b[0m:      \t '\\tround 35: 318.27472746372223\\n'\n",
            "INFO:flwr:\t '\\tround 35: 318.27472746372223\\n'\n",
            "\u001b[92mINFO \u001b[0m:      \t '\\tround 36: 318.167311668396\\n'\n",
            "INFO:flwr:\t '\\tround 36: 318.167311668396\\n'\n",
            "\u001b[92mINFO \u001b[0m:      \t '\\tround 37: 318.03212678432465\\n'\n",
            "INFO:flwr:\t '\\tround 37: 318.03212678432465\\n'\n",
            "\u001b[92mINFO \u001b[0m:      \t '\\tround 38: 317.9056553840637\\n'\n",
            "INFO:flwr:\t '\\tround 38: 317.9056553840637\\n'\n",
            "\u001b[92mINFO \u001b[0m:      \t '\\tround 39: 317.77884697914124\\n'\n",
            "INFO:flwr:\t '\\tround 39: 317.77884697914124\\n'\n",
            "\u001b[92mINFO \u001b[0m:      \t '\\tround 40: 317.6848976612091\\n'\n",
            "INFO:flwr:\t '\\tround 40: 317.6848976612091\\n'\n",
            "\u001b[92mINFO \u001b[0m:      \t '\\tround 41: 317.59221053123474\\n'\n",
            "INFO:flwr:\t '\\tround 41: 317.59221053123474\\n'\n",
            "\u001b[92mINFO \u001b[0m:      \t '\\tround 42: 317.49688601493835\\n'\n",
            "INFO:flwr:\t '\\tround 42: 317.49688601493835\\n'\n",
            "\u001b[92mINFO \u001b[0m:      \t '\\tround 43: 317.37994134426117\\n'\n",
            "INFO:flwr:\t '\\tround 43: 317.37994134426117\\n'\n",
            "\u001b[92mINFO \u001b[0m:      \t '\\tround 44: 317.2623735666275\\n'\n",
            "INFO:flwr:\t '\\tround 44: 317.2623735666275\\n'\n",
            "\u001b[92mINFO \u001b[0m:      \t '\\tround 45: 317.18722116947174\\n'\n",
            "INFO:flwr:\t '\\tround 45: 317.18722116947174\\n'\n",
            "\u001b[92mINFO \u001b[0m:      \t '\\tround 46: 317.0918128490448\\n'\n",
            "INFO:flwr:\t '\\tround 46: 317.0918128490448\\n'\n",
            "\u001b[92mINFO \u001b[0m:      \t '\\tround 47: 317.0240545272827\\n'\n",
            "INFO:flwr:\t '\\tround 47: 317.0240545272827\\n'\n",
            "\u001b[92mINFO \u001b[0m:      \t '\\tround 48: 316.97601759433746\\n'\n",
            "INFO:flwr:\t '\\tround 48: 316.97601759433746\\n'\n",
            "\u001b[92mINFO \u001b[0m:      \t '\\tround 49: 316.92699921131134\\n'\n",
            "INFO:flwr:\t '\\tround 49: 316.92699921131134\\n'\n",
            "\u001b[92mINFO \u001b[0m:      \t '\\tround 50: 316.87162029743195\\n')History (metrics, distributed, evaluate):\n",
            "INFO:flwr:\t '\\tround 50: 316.87162029743195\\n')History (metrics, distributed, evaluate):\n",
            "\u001b[92mINFO \u001b[0m:      \t{'accuracy': [(1, 4.338235294117647),\n",
            "INFO:flwr:\t{'accuracy': [(1, 4.338235294117647),\n",
            "\u001b[92mINFO \u001b[0m:      \t              (2, 2.8652597402597406),\n",
            "INFO:flwr:\t              (2, 2.8652597402597406),\n",
            "\u001b[92mINFO \u001b[0m:      \t              (3, 2.235497835497836),\n",
            "INFO:flwr:\t              (3, 2.235497835497836),\n",
            "\u001b[92mINFO \u001b[0m:      \t              (4, 3.435457516339869),\n",
            "INFO:flwr:\t              (4, 3.435457516339869),\n",
            "\u001b[92mINFO \u001b[0m:      \t              (5, 6.171335200746966),\n",
            "INFO:flwr:\t              (5, 6.171335200746966),\n",
            "\u001b[92mINFO \u001b[0m:      \t              (6, 1.01010101010101),\n",
            "INFO:flwr:\t              (6, 1.01010101010101),\n",
            "\u001b[92mINFO \u001b[0m:      \t              (7, 6.297026502908857),\n",
            "INFO:flwr:\t              (7, 6.297026502908857),\n",
            "\u001b[92mINFO \u001b[0m:      \t              (8, 2.62155388471178),\n",
            "INFO:flwr:\t              (8, 2.62155388471178),\n",
            "\u001b[92mINFO \u001b[0m:      \t              (9, 2.0395433027011975),\n",
            "INFO:flwr:\t              (9, 2.0395433027011975),\n",
            "\u001b[92mINFO \u001b[0m:      \t              (10, 2.3989898989898992),\n",
            "INFO:flwr:\t              (10, 2.3989898989898992),\n",
            "\u001b[92mINFO \u001b[0m:      \t              (11, 3.6002506265664165),\n",
            "INFO:flwr:\t              (11, 3.6002506265664165),\n",
            "\u001b[92mINFO \u001b[0m:      \t              (12, 1.990962254120149),\n",
            "INFO:flwr:\t              (12, 1.990962254120149),\n",
            "\u001b[92mINFO \u001b[0m:      \t              (13, 1.8288367978770457),\n",
            "INFO:flwr:\t              (13, 1.8288367978770457),\n",
            "\u001b[92mINFO \u001b[0m:      \t              (14, 0.3448275862068965),\n",
            "INFO:flwr:\t              (14, 0.3448275862068965),\n",
            "\u001b[92mINFO \u001b[0m:      \t              (15, 12.550936163939259),\n",
            "INFO:flwr:\t              (15, 12.550936163939259),\n",
            "\u001b[92mINFO \u001b[0m:      \t              (16, 37.23961988304094),\n",
            "INFO:flwr:\t              (16, 37.23961988304094),\n",
            "\u001b[92mINFO \u001b[0m:      \t              (17, 6.676373626373627),\n",
            "INFO:flwr:\t              (17, 6.676373626373627),\n",
            "\u001b[92mINFO \u001b[0m:      \t              (18, 3.365601503759399),\n",
            "INFO:flwr:\t              (18, 3.365601503759399),\n",
            "\u001b[92mINFO \u001b[0m:      \t              (19, 1.516653953724892),\n",
            "INFO:flwr:\t              (19, 1.516653953724892),\n",
            "\u001b[92mINFO \u001b[0m:      \t              (20, 14.90460321555523),\n",
            "INFO:flwr:\t              (20, 14.90460321555523),\n",
            "\u001b[92mINFO \u001b[0m:      \t              (21, 4.407518796992481),\n",
            "INFO:flwr:\t              (21, 4.407518796992481),\n",
            "\u001b[92mINFO \u001b[0m:      \t              (22, 1.5416666666666667),\n",
            "INFO:flwr:\t              (22, 1.5416666666666667),\n",
            "\u001b[92mINFO \u001b[0m:      \t              (23, 3.4402046783625737),\n",
            "INFO:flwr:\t              (23, 3.4402046783625737),\n",
            "\u001b[92mINFO \u001b[0m:      \t              (24, 1.0644257703081235),\n",
            "INFO:flwr:\t              (24, 1.0644257703081235),\n",
            "\u001b[92mINFO \u001b[0m:      \t              (25, 3.1206800445930885),\n",
            "INFO:flwr:\t              (25, 3.1206800445930885),\n",
            "\u001b[92mINFO \u001b[0m:      \t              (26, 1.8452380952380953),\n",
            "INFO:flwr:\t              (26, 1.8452380952380953),\n",
            "\u001b[92mINFO \u001b[0m:      \t              (27, 0.43478260869565216),\n",
            "INFO:flwr:\t              (27, 0.43478260869565216),\n",
            "\u001b[92mINFO \u001b[0m:      \t              (28, 85.47722020803863),\n",
            "INFO:flwr:\t              (28, 85.47722020803863),\n",
            "\u001b[92mINFO \u001b[0m:      \t              (29, 1.2955465587044537),\n",
            "INFO:flwr:\t              (29, 1.2955465587044537),\n",
            "\u001b[92mINFO \u001b[0m:      \t              (30, 4.021978021978022),\n",
            "INFO:flwr:\t              (30, 4.021978021978022),\n",
            "\u001b[92mINFO \u001b[0m:      \t              (31, 1.1140583554376657),\n",
            "INFO:flwr:\t              (31, 1.1140583554376657),\n",
            "\u001b[92mINFO \u001b[0m:      \t              (32, 0.9808612440191389),\n",
            "INFO:flwr:\t              (32, 0.9808612440191389),\n",
            "\u001b[92mINFO \u001b[0m:      \t              (33, 0.9166666666666667),\n",
            "INFO:flwr:\t              (33, 0.9166666666666667),\n",
            "\u001b[92mINFO \u001b[0m:      \t              (34, 2.867424242424243),\n",
            "INFO:flwr:\t              (34, 2.867424242424243),\n",
            "\u001b[92mINFO \u001b[0m:      \t              (35, 3.637426900584795),\n",
            "INFO:flwr:\t              (35, 3.637426900584795),\n",
            "\u001b[92mINFO \u001b[0m:      \t              (36, 0.9347826086956521),\n",
            "INFO:flwr:\t              (36, 0.9347826086956521),\n",
            "\u001b[92mINFO \u001b[0m:      \t              (37, 1.0427807486631018),\n",
            "INFO:flwr:\t              (37, 1.0427807486631018),\n",
            "\u001b[92mINFO \u001b[0m:      \t              (38, 1.192982456140351),\n",
            "INFO:flwr:\t              (38, 1.192982456140351),\n",
            "\u001b[92mINFO \u001b[0m:      \t              (39, 0.942982456140351),\n",
            "INFO:flwr:\t              (39, 0.942982456140351),\n",
            "\u001b[92mINFO \u001b[0m:      \t              (40, 2.549957782155925),\n",
            "INFO:flwr:\t              (40, 2.549957782155925),\n",
            "\u001b[92mINFO \u001b[0m:      \t              (41, 1.059782608695652),\n",
            "INFO:flwr:\t              (41, 1.059782608695652),\n",
            "\u001b[92mINFO \u001b[0m:      \t              (42, 0.625),\n",
            "INFO:flwr:\t              (42, 0.625),\n",
            "\u001b[92mINFO \u001b[0m:      \t              (43, 1.8761140819964353),\n",
            "INFO:flwr:\t              (43, 1.8761140819964353),\n",
            "\u001b[92mINFO \u001b[0m:      \t              (44, 1.025),\n",
            "INFO:flwr:\t              (44, 1.025),\n",
            "\u001b[92mINFO \u001b[0m:      \t              (45, 0.9523809523809523),\n",
            "INFO:flwr:\t              (45, 0.9523809523809523),\n",
            "\u001b[92mINFO \u001b[0m:      \t              (46, 0.625),\n",
            "INFO:flwr:\t              (46, 0.625),\n",
            "\u001b[92mINFO \u001b[0m:      \t              (47, 1.0230179028132993),\n",
            "INFO:flwr:\t              (47, 1.0230179028132993),\n",
            "\u001b[92mINFO \u001b[0m:      \t              (48, 1.6666666666666667),\n",
            "INFO:flwr:\t              (48, 1.6666666666666667),\n",
            "\u001b[92mINFO \u001b[0m:      \t              (49, 0.38461538461538464),\n",
            "INFO:flwr:\t              (49, 0.38461538461538464),\n",
            "\u001b[92mINFO \u001b[0m:      \t              (50, 3.1192982456140355)]}History (metrics, centralized):\n",
            "INFO:flwr:\t              (50, 3.1192982456140355)]}History (metrics, centralized):\n",
            "\u001b[92mINFO \u001b[0m:      \t{'accuracy': [(0, 2.7131782945736433),\n",
            "INFO:flwr:\t{'accuracy': [(0, 2.7131782945736433),\n",
            "\u001b[92mINFO \u001b[0m:      \t              (1, 2.7131782945736433),\n",
            "INFO:flwr:\t              (1, 2.7131782945736433),\n",
            "\u001b[92mINFO \u001b[0m:      \t              (2, 2.7131782945736433),\n",
            "INFO:flwr:\t              (2, 2.7131782945736433),\n",
            "\u001b[92mINFO \u001b[0m:      \t              (3, 2.616279069767442),\n",
            "INFO:flwr:\t              (3, 2.616279069767442),\n",
            "\u001b[92mINFO \u001b[0m:      \t              (4, 2.5193798449612403),\n",
            "INFO:flwr:\t              (4, 2.5193798449612403),\n",
            "\u001b[92mINFO \u001b[0m:      \t              (5, 2.616279069767442),\n",
            "INFO:flwr:\t              (5, 2.616279069767442),\n",
            "\u001b[92mINFO \u001b[0m:      \t              (6, 2.5193798449612403),\n",
            "INFO:flwr:\t              (6, 2.5193798449612403),\n",
            "\u001b[92mINFO \u001b[0m:      \t              (7, 2.3255813953488373),\n",
            "INFO:flwr:\t              (7, 2.3255813953488373),\n",
            "\u001b[92mINFO \u001b[0m:      \t              (8, 2.3255813953488373),\n",
            "INFO:flwr:\t              (8, 2.3255813953488373),\n",
            "\u001b[92mINFO \u001b[0m:      \t              (9, 2.4224806201550386),\n",
            "INFO:flwr:\t              (9, 2.4224806201550386),\n",
            "\u001b[92mINFO \u001b[0m:      \t              (10, 2.3255813953488373),\n",
            "INFO:flwr:\t              (10, 2.3255813953488373),\n",
            "\u001b[92mINFO \u001b[0m:      \t              (11, 2.4224806201550386),\n",
            "INFO:flwr:\t              (11, 2.4224806201550386),\n",
            "\u001b[92mINFO \u001b[0m:      \t              (12, 2.5193798449612403),\n",
            "INFO:flwr:\t              (12, 2.5193798449612403),\n",
            "\u001b[92mINFO \u001b[0m:      \t              (13, 2.3255813953488373),\n",
            "INFO:flwr:\t              (13, 2.3255813953488373),\n",
            "\u001b[92mINFO \u001b[0m:      \t              (14, 2.3255813953488373),\n",
            "INFO:flwr:\t              (14, 2.3255813953488373),\n",
            "\u001b[92mINFO \u001b[0m:      \t              (15, 8.430232558139535),\n",
            "INFO:flwr:\t              (15, 8.430232558139535),\n",
            "\u001b[92mINFO \u001b[0m:      \t              (16, 30.426356589147286),\n",
            "INFO:flwr:\t              (16, 30.426356589147286),\n",
            "\u001b[92mINFO \u001b[0m:      \t              (17, 3.197674418604651),\n",
            "INFO:flwr:\t              (17, 3.197674418604651),\n",
            "\u001b[92mINFO \u001b[0m:      \t              (18, 2.3255813953488373),\n",
            "INFO:flwr:\t              (18, 2.3255813953488373),\n",
            "\u001b[92mINFO \u001b[0m:      \t              (19, 2.3255813953488373),\n",
            "INFO:flwr:\t              (19, 2.3255813953488373),\n",
            "\u001b[92mINFO \u001b[0m:      \t              (20, 12.015503875968992),\n",
            "INFO:flwr:\t              (20, 12.015503875968992),\n",
            "\u001b[92mINFO \u001b[0m:      \t              (21, 2.616279069767442),\n",
            "INFO:flwr:\t              (21, 2.616279069767442),\n",
            "\u001b[92mINFO \u001b[0m:      \t              (22, 1.8410852713178294),\n",
            "INFO:flwr:\t              (22, 1.8410852713178294),\n",
            "\u001b[92mINFO \u001b[0m:      \t              (23, 1.8410852713178294),\n",
            "INFO:flwr:\t              (23, 1.8410852713178294),\n",
            "\u001b[92mINFO \u001b[0m:      \t              (24, 2.4224806201550386),\n",
            "INFO:flwr:\t              (24, 2.4224806201550386),\n",
            "\u001b[92mINFO \u001b[0m:      \t              (25, 1.8410852713178294),\n",
            "INFO:flwr:\t              (25, 1.8410852713178294),\n",
            "\u001b[92mINFO \u001b[0m:      \t              (26, 1.8410852713178294),\n",
            "INFO:flwr:\t              (26, 1.8410852713178294),\n",
            "\u001b[92mINFO \u001b[0m:      \t              (27, 1.550387596899225),\n",
            "INFO:flwr:\t              (27, 1.550387596899225),\n",
            "\u001b[92mINFO \u001b[0m:      \t              (28, 86.53100775193798),\n",
            "INFO:flwr:\t              (28, 86.53100775193798),\n",
            "\u001b[92mINFO \u001b[0m:      \t              (29, 2.616279069767442),\n",
            "INFO:flwr:\t              (29, 2.616279069767442),\n",
            "\u001b[92mINFO \u001b[0m:      \t              (30, 1.550387596899225),\n",
            "INFO:flwr:\t              (30, 1.550387596899225),\n",
            "\u001b[92mINFO \u001b[0m:      \t              (31, 1.550387596899225),\n",
            "INFO:flwr:\t              (31, 1.550387596899225),\n",
            "\u001b[92mINFO \u001b[0m:      \t              (32, 1.550387596899225),\n",
            "INFO:flwr:\t              (32, 1.550387596899225),\n",
            "\u001b[92mINFO \u001b[0m:      \t              (33, 1.550387596899225),\n",
            "INFO:flwr:\t              (33, 1.550387596899225),\n",
            "\u001b[92mINFO \u001b[0m:      \t              (34, 1.4534883720930232),\n",
            "INFO:flwr:\t              (34, 1.4534883720930232),\n",
            "\u001b[92mINFO \u001b[0m:      \t              (35, 1.4534883720930232),\n",
            "INFO:flwr:\t              (35, 1.4534883720930232),\n",
            "\u001b[92mINFO \u001b[0m:      \t              (36, 1.3565891472868217),\n",
            "INFO:flwr:\t              (36, 1.3565891472868217),\n",
            "\u001b[92mINFO \u001b[0m:      \t              (37, 1.3565891472868217),\n",
            "INFO:flwr:\t              (37, 1.3565891472868217),\n",
            "\u001b[92mINFO \u001b[0m:      \t              (38, 1.2596899224806202),\n",
            "INFO:flwr:\t              (38, 1.2596899224806202),\n",
            "\u001b[92mINFO \u001b[0m:      \t              (39, 1.2596899224806202),\n",
            "INFO:flwr:\t              (39, 1.2596899224806202),\n",
            "\u001b[92mINFO \u001b[0m:      \t              (40, 1.2596899224806202),\n",
            "INFO:flwr:\t              (40, 1.2596899224806202),\n",
            "\u001b[92mINFO \u001b[0m:      \t              (41, 1.2596899224806202),\n",
            "INFO:flwr:\t              (41, 1.2596899224806202),\n",
            "\u001b[92mINFO \u001b[0m:      \t              (42, 1.2596899224806202),\n",
            "INFO:flwr:\t              (42, 1.2596899224806202),\n",
            "\u001b[92mINFO \u001b[0m:      \t              (43, 1.2596899224806202),\n",
            "INFO:flwr:\t              (43, 1.2596899224806202),\n",
            "\u001b[92mINFO \u001b[0m:      \t              (44, 1.2596899224806202),\n",
            "INFO:flwr:\t              (44, 1.2596899224806202),\n",
            "\u001b[92mINFO \u001b[0m:      \t              (45, 1.2596899224806202),\n",
            "INFO:flwr:\t              (45, 1.2596899224806202),\n",
            "\u001b[92mINFO \u001b[0m:      \t              (46, 1.2596899224806202),\n",
            "INFO:flwr:\t              (46, 1.2596899224806202),\n",
            "\u001b[92mINFO \u001b[0m:      \t              (47, 1.2596899224806202),\n",
            "INFO:flwr:\t              (47, 1.2596899224806202),\n",
            "\u001b[92mINFO \u001b[0m:      \t              (48, 1.2596899224806202),\n",
            "INFO:flwr:\t              (48, 1.2596899224806202),\n",
            "\u001b[92mINFO \u001b[0m:      \t              (49, 1.2596899224806202),\n",
            "INFO:flwr:\t              (49, 1.2596899224806202),\n",
            "\u001b[92mINFO \u001b[0m:      \t              (50, 1.2596899224806202)]}\n",
            "INFO:flwr:\t              (50, 1.2596899224806202)]}\n",
            "\u001b[92mINFO \u001b[0m:      \n",
            "INFO:flwr:\n"
          ]
        }
      ]
    },
    {
      "cell_type": "code",
      "source": [
        "print(len(main_acc_values))\n",
        "global_accuracy_centralised = history.metrics_centralized[\"accuracy\"]\n",
        "global_accuracy_distributed = history.metrics_distributed[\"accuracy\"]\n",
        "\n",
        "# Rút trích thông tin từ dữ liệu\n",
        "# round_centralised = [data[0] for data in global_accuracy_centralised]\n",
        "round_distributed = [data[0] for data in global_accuracy_distributed]\n",
        "\n",
        "# Vẽ đồ thị\n",
        "# plt.plot(range(1, 52), [data[1] for data in global_accuracy_centralised], label=\"Poison Task\")\n",
        "plt.plot(range(1, 51), [data[1] for data in global_accuracy_distributed], label=\"Poison Task\")\n",
        "plt.plot(range(1, 52), main_acc_values, label=\"Main Task\")\n",
        "plt.plot(range(1, 52), standard_acc_values, label=\"Standard Task\")\n",
        "\n",
        "# Thiết lập định dạng của biểu đồ\n",
        "plt.grid()\n",
        "plt.ylabel(\"Accuracy (%)\")\n",
        "plt.xlabel(\"Round\")\n",
        "plt.title(\"Accuracy Comparison\")\n",
        "plt.legend()\n",
        "xticks_result = plt.xticks(range(5, 52, 5))\n",
        "# xticks_result = plt.xticks(range(1, 52))\n"
      ],
      "metadata": {
        "id": "E33BylpJA_CV",
        "outputId": "a05ee6bb-0900-4888-906a-5d4383cbe395",
        "colab": {
          "base_uri": "https://localhost:8080/",
          "height": 561
        }
      },
      "execution_count": 59,
      "outputs": [
        {
          "output_type": "stream",
          "name": "stderr",
          "text": [
            "/usr/local/lib/python3.10/dist-packages/ipykernel/ipkernel.py:283: DeprecationWarning: `should_run_async` will not call `transform_cell` automatically in the future. Please pass the result to `transformed_cell` argument and any exception that happen during thetransform in `preprocessing_exc_tuple` in IPython 7.17 and above.\n",
            "  and should_run_async(code)\n"
          ]
        },
        {
          "output_type": "stream",
          "name": "stdout",
          "text": [
            "51\n"
          ]
        },
        {
          "output_type": "display_data",
          "data": {
            "text/plain": [
              "<Figure size 640x480 with 1 Axes>"
            ],
            "image/png": "[encoded data removed]"
          },
          "metadata": {}
        }
      ]
    },
    {
      "cell_type": "code",
      "source": [
        "import matplotlib.pyplot as plt\n",
        "\n",
        "print(f\"{history.metrics_centralized = }\")\n",
        "# print(f\"{history.metrics_distributed = }\")\n",
        "\n",
        "\n",
        "global_accuracy_centralised = history.metrics_centralized[\"accuracy\"]\n",
        "# global_accuracy_centralised = history.metrics_distributed[\"accuracy\"]\n",
        "\n",
        "round = [data[0] for data in global_accuracy_centralised]\n",
        "acc = [data[1] for data in global_accuracy_centralised]\n",
        "plt.plot(round, acc)\n",
        "plt.grid()\n",
        "plt.ylabel(\"Accuracy (%)\")\n",
        "plt.xlabel(\"Round\")\n",
        "plt.title(\"MNIST - IID - 30 clients with 10 clients per round\")\n",
        "xticks_result = plt.xticks(range(1, 21))\n",
        "# plt.yticks(range(0, 100))"
      ],
      "metadata": {
        "id": "NECbOpWgcxdV",
        "outputId": "e3a90a46-ccab-4ee1-8767-e29f04a55137",
        "colab": {
          "base_uri": "https://localhost:8080/",
          "height": 527
        }
      },
      "execution_count": 60,
      "outputs": [
        {
          "output_type": "stream",
          "name": "stdout",
          "text": [
            "history.metrics_centralized = {'accuracy': [(0, 2.7131782945736433), (1, 2.7131782945736433), (2, 2.7131782945736433), (3, 2.616279069767442), (4, 2.5193798449612403), (5, 2.616279069767442), (6, 2.5193798449612403), (7, 2.3255813953488373), (8, 2.3255813953488373), (9, 2.4224806201550386), (10, 2.3255813953488373), (11, 2.4224806201550386), (12, 2.5193798449612403), (13, 2.3255813953488373), (14, 2.3255813953488373), (15, 8.430232558139535), (16, 30.426356589147286), (17, 3.197674418604651), (18, 2.3255813953488373), (19, 2.3255813953488373), (20, 12.015503875968992), (21, 2.616279069767442), (22, 1.8410852713178294), (23, 1.8410852713178294), (24, 2.4224806201550386), (25, 1.8410852713178294), (26, 1.8410852713178294), (27, 1.550387596899225), (28, 86.53100775193798), (29, 2.616279069767442), (30, 1.550387596899225), (31, 1.550387596899225), (32, 1.550387596899225), (33, 1.550387596899225), (34, 1.4534883720930232), (35, 1.4534883720930232), (36, 1.3565891472868217), (37, 1.3565891472868217), (38, 1.2596899224806202), (39, 1.2596899224806202), (40, 1.2596899224806202), (41, 1.2596899224806202), (42, 1.2596899224806202), (43, 1.2596899224806202), (44, 1.2596899224806202), (45, 1.2596899224806202), (46, 1.2596899224806202), (47, 1.2596899224806202), (48, 1.2596899224806202), (49, 1.2596899224806202), (50, 1.2596899224806202)]}\n"
          ]
        },
        {
          "output_type": "display_data",
          "data": {
            "text/plain": [
              "<Figure size 640x480 with 1 Axes>"
            ],
            "image/png": "[encoded data removed]"
          },
          "metadata": {}
        }
      ]
    }
  ],
  "metadata": {
    "colab": {
      "provenance": [],
      "gpuType": "T4",
      "include_colab_link": true
    },
    "kernelspec": {
      "display_name": "Python 3",
      "name": "python3"
    },
    "accelerator": "GPU"
  },
  "nbformat": 4,
  "nbformat_minor": 0
}