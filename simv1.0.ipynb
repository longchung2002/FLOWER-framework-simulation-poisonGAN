{
  "cells": [
    {
      "cell_type": "markdown",
      "metadata": {
        "id": "view-in-github",
        "colab_type": "text"
      },
      "source": [
        "<a href=\"https://colab.research.google.com/github/longchung2002/FLOWER-framework-simulation-poisonGAN/blob/main/simv1.0.ipynb\" target=\"_parent\"><img src=\"https://colab.research.google.com/assets/colab-badge.svg\" alt=\"Open In Colab\"/></a>"
      ]
    },
    {
      "cell_type": "code",
      "execution_count": 45,
      "metadata": {
        "colab": {
          "base_uri": "https://localhost:8080/"
        },
        "id": "zNTidNXQtiy6",
        "outputId": "2a6cdf28-ed50-4b67-98f9-406e09aef8b3"
      },
      "outputs": [
        {
          "output_type": "stream",
          "name": "stderr",
          "text": [
            "/usr/local/lib/python3.10/dist-packages/ipykernel/ipkernel.py:283: DeprecationWarning: `should_run_async` will not call `transform_cell` automatically in the future. Please pass the result to `transformed_cell` argument and any exception that happen during thetransform in `preprocessing_exc_tuple` in IPython 7.17 and above.\n",
            "  and should_run_async(code)\n"
          ]
        },
        {
          "output_type": "stream",
          "name": "stdout",
          "text": [
            "Requirement already satisfied: flwr_datasets[vision] in /usr/local/lib/python3.10/dist-packages (0.1.0)\n",
            "Requirement already satisfied: datasets<3.0.0,>=2.14.3 in /usr/local/lib/python3.10/dist-packages (from flwr_datasets[vision]) (2.18.0)\n",
            "Requirement already satisfied: numpy<2.0.0,>=1.21.0 in /usr/local/lib/python3.10/dist-packages (from flwr_datasets[vision]) (1.25.2)\n",
            "Requirement already satisfied: pillow>=6.2.1 in /usr/local/lib/python3.10/dist-packages (from flwr_datasets[vision]) (9.4.0)\n",
            "Requirement already satisfied: filelock in /usr/local/lib/python3.10/dist-packages (from datasets<3.0.0,>=2.14.3->flwr_datasets[vision]) (3.13.3)\n",
            "Requirement already satisfied: pyarrow>=12.0.0 in /usr/local/lib/python3.10/dist-packages (from datasets<3.0.0,>=2.14.3->flwr_datasets[vision]) (14.0.2)\n",
            "Requirement already satisfied: pyarrow-hotfix in /usr/local/lib/python3.10/dist-packages (from datasets<3.0.0,>=2.14.3->flwr_datasets[vision]) (0.6)\n",
            "Requirement already satisfied: dill<0.3.9,>=0.3.0 in /usr/local/lib/python3.10/dist-packages (from datasets<3.0.0,>=2.14.3->flwr_datasets[vision]) (0.3.8)\n",
            "Requirement already satisfied: pandas in /usr/local/lib/python3.10/dist-packages (from datasets<3.0.0,>=2.14.3->flwr_datasets[vision]) (2.0.3)\n",
            "Requirement already satisfied: requests>=2.19.0 in /usr/local/lib/python3.10/dist-packages (from datasets<3.0.0,>=2.14.3->flwr_datasets[vision]) (2.31.0)\n",
            "Requirement already satisfied: tqdm>=4.62.1 in /usr/local/lib/python3.10/dist-packages (from datasets<3.0.0,>=2.14.3->flwr_datasets[vision]) (4.66.2)\n",
            "Requirement already satisfied: xxhash in /usr/local/lib/python3.10/dist-packages (from datasets<3.0.0,>=2.14.3->flwr_datasets[vision]) (3.4.1)\n",
            "Requirement already satisfied: multiprocess in /usr/local/lib/python3.10/dist-packages (from datasets<3.0.0,>=2.14.3->flwr_datasets[vision]) (0.70.16)\n",
            "Requirement already satisfied: fsspec[http]<=2024.2.0,>=2023.1.0 in /usr/local/lib/python3.10/dist-packages (from datasets<3.0.0,>=2.14.3->flwr_datasets[vision]) (2023.6.0)\n",
            "Requirement already satisfied: aiohttp in /usr/local/lib/python3.10/dist-packages (from datasets<3.0.0,>=2.14.3->flwr_datasets[vision]) (3.9.3)\n",
            "Requirement already satisfied: huggingface-hub>=0.19.4 in /usr/local/lib/python3.10/dist-packages (from datasets<3.0.0,>=2.14.3->flwr_datasets[vision]) (0.20.3)\n",
            "Requirement already satisfied: packaging in /usr/local/lib/python3.10/dist-packages (from datasets<3.0.0,>=2.14.3->flwr_datasets[vision]) (24.0)\n",
            "Requirement already satisfied: pyyaml>=5.1 in /usr/local/lib/python3.10/dist-packages (from datasets<3.0.0,>=2.14.3->flwr_datasets[vision]) (6.0.1)\n",
            "Requirement already satisfied: aiosignal>=1.1.2 in /usr/local/lib/python3.10/dist-packages (from aiohttp->datasets<3.0.0,>=2.14.3->flwr_datasets[vision]) (1.3.1)\n",
            "Requirement already satisfied: attrs>=17.3.0 in /usr/local/lib/python3.10/dist-packages (from aiohttp->datasets<3.0.0,>=2.14.3->flwr_datasets[vision]) (23.2.0)\n",
            "Requirement already satisfied: frozenlist>=1.1.1 in /usr/local/lib/python3.10/dist-packages (from aiohttp->datasets<3.0.0,>=2.14.3->flwr_datasets[vision]) (1.4.1)\n",
            "Requirement already satisfied: multidict<7.0,>=4.5 in /usr/local/lib/python3.10/dist-packages (from aiohttp->datasets<3.0.0,>=2.14.3->flwr_datasets[vision]) (6.0.5)\n",
            "Requirement already satisfied: yarl<2.0,>=1.0 in /usr/local/lib/python3.10/dist-packages (from aiohttp->datasets<3.0.0,>=2.14.3->flwr_datasets[vision]) (1.9.4)\n",
            "Requirement already satisfied: async-timeout<5.0,>=4.0 in /usr/local/lib/python3.10/dist-packages (from aiohttp->datasets<3.0.0,>=2.14.3->flwr_datasets[vision]) (4.0.3)\n",
            "Requirement already satisfied: typing-extensions>=3.7.4.3 in /usr/local/lib/python3.10/dist-packages (from huggingface-hub>=0.19.4->datasets<3.0.0,>=2.14.3->flwr_datasets[vision]) (4.10.0)\n",
            "Requirement already satisfied: charset-normalizer<4,>=2 in /usr/local/lib/python3.10/dist-packages (from requests>=2.19.0->datasets<3.0.0,>=2.14.3->flwr_datasets[vision]) (3.3.2)\n",
            "Requirement already satisfied: idna<4,>=2.5 in /usr/local/lib/python3.10/dist-packages (from requests>=2.19.0->datasets<3.0.0,>=2.14.3->flwr_datasets[vision]) (3.6)\n",
            "Requirement already satisfied: urllib3<3,>=1.21.1 in /usr/local/lib/python3.10/dist-packages (from requests>=2.19.0->datasets<3.0.0,>=2.14.3->flwr_datasets[vision]) (2.0.7)\n",
            "Requirement already satisfied: certifi>=2017.4.17 in /usr/local/lib/python3.10/dist-packages (from requests>=2.19.0->datasets<3.0.0,>=2.14.3->flwr_datasets[vision]) (2024.2.2)\n",
            "Requirement already satisfied: python-dateutil>=2.8.2 in /usr/local/lib/python3.10/dist-packages (from pandas->datasets<3.0.0,>=2.14.3->flwr_datasets[vision]) (2.8.2)\n",
            "Requirement already satisfied: pytz>=2020.1 in /usr/local/lib/python3.10/dist-packages (from pandas->datasets<3.0.0,>=2.14.3->flwr_datasets[vision]) (2023.4)\n",
            "Requirement already satisfied: tzdata>=2022.1 in /usr/local/lib/python3.10/dist-packages (from pandas->datasets<3.0.0,>=2.14.3->flwr_datasets[vision]) (2024.1)\n",
            "Requirement already satisfied: six>=1.5 in /usr/local/lib/python3.10/dist-packages (from python-dateutil>=2.8.2->pandas->datasets<3.0.0,>=2.14.3->flwr_datasets[vision]) (1.16.0)\n"
          ]
        }
      ],
      "source": [
        "# depending on your shell, you might need to add `\\` before `[` and `]`.\n",
        "!pip install -q flwr[simulation]\n",
        "!pip install flwr_datasets[vision]"
      ]
    },
    {
      "cell_type": "code",
      "execution_count": 46,
      "metadata": {
        "colab": {
          "base_uri": "https://localhost:8080/"
        },
        "outputId": "dcb1b39f-9560-4701-ea8c-a972a4c7da28",
        "id": "WXOcHlPPtiy8"
      },
      "outputs": [
        {
          "output_type": "stream",
          "name": "stdout",
          "text": [
            "Requirement already satisfied: matplotlib in /usr/local/lib/python3.10/dist-packages (3.7.1)\n",
            "Requirement already satisfied: contourpy>=1.0.1 in /usr/local/lib/python3.10/dist-packages (from matplotlib) (1.2.1)\n",
            "Requirement already satisfied: cycler>=0.10 in /usr/local/lib/python3.10/dist-packages (from matplotlib) (0.12.1)\n",
            "Requirement already satisfied: fonttools>=4.22.0 in /usr/local/lib/python3.10/dist-packages (from matplotlib) (4.50.0)\n",
            "Requirement already satisfied: kiwisolver>=1.0.1 in /usr/local/lib/python3.10/dist-packages (from matplotlib) (1.4.5)\n",
            "Requirement already satisfied: numpy>=1.20 in /usr/local/lib/python3.10/dist-packages (from matplotlib) (1.25.2)\n",
            "Requirement already satisfied: packaging>=20.0 in /usr/local/lib/python3.10/dist-packages (from matplotlib) (24.0)\n",
            "Requirement already satisfied: pillow>=6.2.0 in /usr/local/lib/python3.10/dist-packages (from matplotlib) (9.4.0)\n",
            "Requirement already satisfied: pyparsing>=2.3.1 in /usr/local/lib/python3.10/dist-packages (from matplotlib) (3.1.2)\n",
            "Requirement already satisfied: python-dateutil>=2.7 in /usr/local/lib/python3.10/dist-packages (from matplotlib) (2.8.2)\n",
            "Requirement already satisfied: six>=1.5 in /usr/local/lib/python3.10/dist-packages (from python-dateutil>=2.7->matplotlib) (1.16.0)\n"
          ]
        }
      ],
      "source": [
        "!pip install matplotlib"
      ]
    },
    {
      "cell_type": "code",
      "execution_count": 47,
      "metadata": {
        "id": "e9K5nFNjtiy-",
        "outputId": "ec8bcdb1-75fe-4412-ef34-742698bd15de",
        "colab": {
          "base_uri": "https://localhost:8080/"
        }
      },
      "outputs": [
        {
          "output_type": "execute_result",
          "data": {
            "text/plain": [
              "{'image': Image(decode=True, id=None),\n",
              " 'label': ClassLabel(names=['0', '1', '2', '3', '4', '5', '6', '7', '8', '9'], id=None)}"
            ]
          },
          "metadata": {},
          "execution_count": 47
        }
      ],
      "source": [
        "from datasets import Dataset\n",
        "from flwr_datasets import FederatedDataset\n",
        "from datasets.utils.logging import disable_progress_bar\n",
        "from torch.utils.data import TensorDataset\n",
        "\n",
        "# Let's set a simulation involving a total of 100 clients\n",
        "NUM_CLIENTS = 33\n",
        "\n",
        "# Download MNIST dataset and partition the \"train\" partition (so one can be assigned to each client)\n",
        "mnist_fds = FederatedDataset(dataset=\"mnist\", partitioners={\"train\": NUM_CLIENTS})\n",
        "# Let's keep the test set as is, and use it to evaluate the global model on the server\n",
        "centralized_testset = mnist_fds.load_split(\"test\")\n",
        "partition = mnist_fds.load_partition(0, \"train\")\n",
        "partition.features"
      ]
    },
    {
      "cell_type": "code",
      "source": [
        "import matplotlib.pyplot as plt\n",
        "def calculate_label_distribution(data_loaders):\n",
        "    label_counts = {}\n",
        "    for loader in data_loaders:\n",
        "        images = loader[\"image\"]\n",
        "        labels = [loader[\"label\"]]\n",
        "        for label in labels:\n",
        "            label = int(label)\n",
        "            if label in label_counts:\n",
        "                label_counts[label] += 1\n",
        "            else:\n",
        "                label_counts[label] = 1\n",
        "    return label_counts\n",
        "\n",
        "def plot_label_distribution(label_counts):\n",
        "    # Vẽ biểu đồ histogram\n",
        "    plt.bar(label_counts.keys(), label_counts.values())\n",
        "    plt.xlabel('Label')\n",
        "    plt.ylabel('Number of Images')\n",
        "    plt.title('Distribution of Labels in the Dataset')\n",
        "    plt.xticks(range(10))\n",
        "    plt.show()\n",
        "    # Tính toán phân phối nhãn từ tất cả các dataloader\n",
        "all_trainloaders = partition # Gộp tất cả các dataloader lại\n",
        "all_label_counts = calculate_label_distribution(all_trainloaders)\n",
        "\n",
        "# Vẽ biểu đồ tương quan giữa tất cả các dataloader\n",
        "plot_label_distribution(all_label_counts)"
      ],
      "metadata": {
        "id": "AAxfaOXFUcxf",
        "outputId": "4bd4e1f0-4653-41bb-c11d-0dd638afc3ab",
        "colab": {
          "base_uri": "https://localhost:8080/",
          "height": 489
        }
      },
      "execution_count": 48,
      "outputs": [
        {
          "output_type": "display_data",
          "data": {
            "text/plain": [
              "<Figure size 640x480 with 1 Axes>"
            ],
            "image/png": "[encoded data removed]"
          },
          "metadata": {}
        }
      ]
    },
    {
      "cell_type": "code",
      "execution_count": 49,
      "metadata": {
        "id": "b_T97AxStiy-"
      },
      "outputs": [],
      "source": [
        "from torchvision.transforms import ToTensor, Normalize, Compose, Resize\n",
        "\n",
        "\n",
        "def apply_transforms(batch):\n",
        "    \"\"\"Get transformation for MNIST dataset\"\"\"\n",
        "\n",
        "    # transformation to convert images to tensors and apply normalization\n",
        "    transforms = Compose([\n",
        "        ToTensor(),\n",
        "        Normalize((0.5,), (0.5,)),\n",
        "        Resize((64, 64), antialias=False)\n",
        "        ])\n",
        "    batch[\"image\"] = [transforms(img) for img in batch[\"image\"]]\n",
        "    return batch"
      ]
    },
    {
      "cell_type": "code",
      "execution_count": 50,
      "metadata": {
        "id": "e7NzdFp6tiy9"
      },
      "outputs": [],
      "source": [
        "import torch\n",
        "import torch.nn as nn\n",
        "import torch.nn.functional as F\n",
        "from torch.utils.data import DataLoader\n",
        "\n",
        "class Net(nn.Module):\n",
        "    def __init__(self, num_classes: int):\n",
        "        super(Net, self).__init__()\n",
        "        self.conv1 = nn.Conv2d(in_channels=1, out_channels=64, kernel_size=4, stride=2, padding=1)\n",
        "        self.leaky1 = nn.LeakyReLU()\n",
        "\n",
        "        self.conv2 = nn.Conv2d(in_channels=64, out_channels=64, kernel_size=4, stride=2, padding=1)\n",
        "        self.leaky2 = nn.LeakyReLU()\n",
        "\n",
        "        self.conv3 = nn.Conv2d(in_channels=64, out_channels=64, kernel_size=4, stride=2, padding=1)\n",
        "        self.leaky3 = nn.LeakyReLU()\n",
        "\n",
        "        self.conv4 = nn.Conv2d(in_channels=64, out_channels=128, kernel_size=3, stride=1, padding=1)\n",
        "        self.leaky4 = nn.LeakyReLU()\n",
        "\n",
        "        self.conv5 = nn.Conv2d(in_channels=128, out_channels=128, kernel_size=3, stride=1, padding=1)\n",
        "        self.leaky5 = nn.LeakyReLU()\n",
        "\n",
        "        self.conv6 = nn.Conv2d(in_channels=128, out_channels=128, kernel_size=3, stride=1, padding=1)\n",
        "        self.leaky6 = nn.LeakyReLU()\n",
        "\n",
        "        self.avgpool = nn.AvgPool2d(2, stride=2)\n",
        "\n",
        "        self.fc = nn.Linear(4 * 4 * 128, num_classes)  # 10 classes for MNIST\n",
        "        self.softmax = nn.Softmax(dim=1)\n",
        "\n",
        "    def forward(self, x):\n",
        "        x = self.conv1(x)\n",
        "        x = self.leaky1(x)\n",
        "\n",
        "        x = self.conv2(x)\n",
        "        x = self.leaky2(x)\n",
        "\n",
        "        x = self.conv3(x)\n",
        "        x = self.leaky3(x)\n",
        "\n",
        "        x = self.conv4(x)\n",
        "        x = self.leaky4(x)\n",
        "\n",
        "        x = self.conv5(x)\n",
        "        x = self.leaky5(x)\n",
        "\n",
        "        x = self.conv6(x)\n",
        "        x = self.leaky6(x)\n",
        "\n",
        "        x = self.avgpool(x)\n",
        "        x = x.view(x.size(0), -1)  # Flatten the output\n",
        "        x = self.fc(x)\n",
        "        x = self.softmax(x)\n",
        "\n",
        "        return x\n",
        "\n",
        "class Discriminator(nn.Module):\n",
        "    def __init__(self):\n",
        "        super(Discriminator, self).__init__()\n",
        "        self.conv1 = nn.Conv2d(in_channels=1, out_channels=64, kernel_size=4, stride=2, padding=1)\n",
        "        self.leaky1 = nn.LeakyReLU()\n",
        "        self.dropout = nn.Dropout()\n",
        "\n",
        "        self.conv2 = nn.Conv2d(in_channels=64, out_channels=64, kernel_size=4, stride=2, padding=1)\n",
        "        self.batchnorm1 = nn.BatchNorm2d(64)\n",
        "        self.leaky2 = nn.LeakyReLU()\n",
        "\n",
        "        self.conv3 = nn.Conv2d(in_channels=64, out_channels=64, kernel_size=4, stride=2, padding=1)\n",
        "        self.batchnorm2 = nn.BatchNorm2d(64)\n",
        "        self.leaky3 = nn.LeakyReLU()\n",
        "\n",
        "        self.conv4 = nn.Conv2d(in_channels=64, out_channels=128, kernel_size=3, stride=1, padding=1)\n",
        "        self.batchnorm3 = nn.BatchNorm2d(128)\n",
        "        self.leaky4 = nn.LeakyReLU()\n",
        "\n",
        "        self.conv5 = nn.Conv2d(in_channels=128, out_channels=128, kernel_size=3, stride=1, padding=1)\n",
        "        self.batchnorm4 = nn.BatchNorm2d(128)\n",
        "        self.leaky5 = nn.LeakyReLU()\n",
        "\n",
        "        self.conv6 = nn.Conv2d(in_channels=128, out_channels=128, kernel_size=3, stride=1, padding=1)\n",
        "        self.leaky6 = nn.LeakyReLU()\n",
        "\n",
        "        self.avgpool = nn.AvgPool2d(2, stride=2)\n",
        "\n",
        "        self.fc = nn.Linear(4 * 4 * 128, 11)\n",
        "        self.softmax = nn.Softmax(dim=1)\n",
        "\n",
        "    def forward(self, x):\n",
        "        x = self.conv1(x)\n",
        "        x = self.leaky1(x)\n",
        "        x = self.dropout(x)\n",
        "\n",
        "        x = self.conv2(x)\n",
        "        x = self.batchnorm1(x)\n",
        "        x = self.leaky2(x)\n",
        "\n",
        "        x = self.conv3(x)\n",
        "        x = self.batchnorm2(x)\n",
        "        x = self.leaky3(x)\n",
        "\n",
        "        x = self.conv4(x)\n",
        "        x = self.batchnorm3(x)\n",
        "        x = self.leaky4(x)\n",
        "\n",
        "        x = self.conv5(x)\n",
        "        x = self.batchnorm4(x)\n",
        "        x = self.leaky5(x)\n",
        "\n",
        "        x = self.conv6(x)\n",
        "        x = self.leaky6(x)\n",
        "\n",
        "        x = self.avgpool(x)\n",
        "        x = x.view(x.size(0), -1)  # Flatten the output\n",
        "        x = self.fc(x)\n",
        "        x = self.softmax(x)\n",
        "\n",
        "        return x\n",
        "\n",
        "\n",
        "class Generator(nn.Module):\n",
        "    def __init__(self):\n",
        "        super(Generator, self).__init__()\n",
        "\n",
        "        self.conv1 = nn.ConvTranspose2d(100, 256, kernel_size=4, stride=4, padding=0, bias=False)\n",
        "        self.batchnorm1 = nn.BatchNorm2d(256)\n",
        "        self.leaky1 = nn.LeakyReLU()\n",
        "\n",
        "        self.conv2 = nn.ConvTranspose2d(256, 128, kernel_size=4, stride=4, padding=0, bias=False)\n",
        "        self.batchnorm2 = nn.BatchNorm2d(128)\n",
        "        self.leaky2 = nn.LeakyReLU()\n",
        "\n",
        "        self.conv3 = nn.ConvTranspose2d(128, 64, kernel_size=4, stride=2, padding=1, bias=False)\n",
        "        self.batchnorm3 = nn.BatchNorm2d(64)\n",
        "        self.leaky3 = nn.LeakyReLU()\n",
        "\n",
        "        self.conv4 = nn.ConvTranspose2d(64, 1, kernel_size=4, stride=2, padding=1, bias=False)\n",
        "        self.tanh = nn.Tanh()\n",
        "\n",
        "    def forward(self, x):\n",
        "        x = self.conv1(x)\n",
        "        x = self.batchnorm1(x)\n",
        "        x = self.leaky1(x)\n",
        "        x = self.conv2(x)\n",
        "        x = self.batchnorm2(x)\n",
        "        x = self.leaky2(x)\n",
        "        x = self.conv3(x)\n",
        "        x = self.batchnorm3(x)\n",
        "        x = self.leaky3(x)\n",
        "        x = self.conv4(x)\n",
        "        x = self.tanh(x)\n",
        "        return x"
      ]
    },
    {
      "cell_type": "code",
      "execution_count": 51,
      "metadata": {
        "id": "2BkZd5y0tiy-"
      },
      "outputs": [],
      "source": [
        "import torch.optim as optim\n",
        "import torch.optim.lr_scheduler as lr_scheduler\n",
        "def train(net, trainloader, optim, scheduler, criterion, epochs, device: str):\n",
        "    \"\"\"Train the network on the training set.\"\"\"\n",
        "    net.train()\n",
        "    for _ in range(epochs):\n",
        "        for batch in trainloader:\n",
        "            images, labels = batch[\"image\"].to(device), batch[\"label\"].to(device)\n",
        "            optim.zero_grad()\n",
        "            outputs = net(images)\n",
        "            loss = criterion(outputs, labels)\n",
        "            loss.backward()\n",
        "            optim.step()\n",
        "        scheduler.step()\n",
        "\n",
        "def test_standard(net, testloader, device: str):\n",
        "    \"\"\"Validate the network on the entire test set.\"\"\"\n",
        "    criterion = torch.nn.CrossEntropyLoss()\n",
        "    correct, loss = 0, 0.0\n",
        "    net.eval()\n",
        "    with torch.no_grad():\n",
        "        for data in testloader:\n",
        "            images, labels = data[\"image\"].to(device), data[\"label\"].to(device)\n",
        "            outputs = net(images)\n",
        "            loss += criterion(outputs, labels).item()\n",
        "            _, predicted = torch.max(outputs.data, 1)\n",
        "            correct += (predicted == labels).sum().item()\n",
        "    accuracy = 100 * correct / len(testloader.dataset)\n",
        "    return loss, accuracy\n"
      ]
    },
    {
      "cell_type": "code",
      "execution_count": 52,
      "metadata": {
        "id": "EftKsIuMtiy_"
      },
      "outputs": [],
      "source": [
        "import flwr as fl"
      ]
    },
    {
      "cell_type": "code",
      "execution_count": 53,
      "metadata": {
        "id": "TkpxfwT9tiy_"
      },
      "outputs": [],
      "source": [
        "from collections import OrderedDict\n",
        "from typing import Dict, List, Tuple, Union, Optional\n",
        "from flwr.server.client_proxy import ClientProxy\n",
        "from flwr.common import NDArrays, Scalar, Parameters\n",
        "\n",
        "\n",
        "class FlowerClient(fl.client.NumPyClient):\n",
        "    def __init__(self, cid, trainloader, valloader, testloader) -> None:\n",
        "        super().__init__()\n",
        "\n",
        "        self.trainloader = trainloader\n",
        "        self.valloader = valloader\n",
        "        self.testloader = testloader\n",
        "        self.cid = cid\n",
        "        self.model = Net(num_classes=11)\n",
        "        # Determine device\n",
        "        self.device = torch.device(\"cuda:0\" if torch.cuda.is_available() else \"cpu\")\n",
        "        self.model.to(self.device)  # send model to device\n",
        "\n",
        "    def set_parameters(self, parameters):\n",
        "        \"\"\"With the model paramters received from the server,\n",
        "        overwrite the uninitialise model in this class with them.\"\"\"\n",
        "\n",
        "        params_dict = zip(self.model.state_dict().keys(), parameters)\n",
        "        state_dict = OrderedDict({k: torch.Tensor(v) for k, v in params_dict})\n",
        "        # now replace the parameters\n",
        "        self.model.load_state_dict(state_dict, strict=True)\n",
        "\n",
        "    def get_parameters(self, config: Dict[str, Scalar]):\n",
        "        \"\"\"Extract all model parameters and conver them to a list of\n",
        "        NumPy arryas. The server doesn't work with PyTorch/TF/etc.\"\"\"\n",
        "        # print(f\"[Client {self.cid}] get_parameters\")\n",
        "        return [val.cpu().numpy() for _, val in self.model.state_dict().items()]\n",
        "\n",
        "    def fit(self, parameters, config):\n",
        "        \"\"\"This method train the model using the parameters sent by the\n",
        "        server on the dataset of this client. At then end, the parameters\n",
        "        of the locally trained model are communicated back to the server\"\"\"\n",
        "        # print(f\"[Client {self.cid}] fit, config: {config}\")\n",
        "        # copy parameters sent by the server into client's local model\n",
        "        self.set_parameters(parameters)\n",
        "        lr, epochs = config[\"lr\"], config[\"epochs\"]\n",
        "        optim = torch.optim.SGD(self.model.parameters(), lr=lr)\n",
        "        scheduler = lr_scheduler.StepLR(optim, step_size=2, gamma=0.1)\n",
        "        criterion = torch.nn.CrossEntropyLoss()\n",
        "        train(net=self.model, trainloader=self.trainloader, optim=optim, scheduler=scheduler, criterion=criterion, epochs=epochs, device=self.device)\n",
        "        # return the model parameters to the server as well as extra info (number of training examples in this case)\n",
        "        return self.get_parameters({}), len(self.trainloader), {}\n",
        "\n",
        "    def evaluate(self, parameters: NDArrays, config: Dict[str, Scalar]):\n",
        "        \"\"\"Evaluate the model sent by the server on this client's\n",
        "        local validation set. Then return performance metrics.\"\"\"\n",
        "\n",
        "        self.set_parameters(parameters)\n",
        "        loss, accuracy = test_standard(self.model, self.valloader, device=self.device)\n",
        "\n",
        "        return float(loss), len(self.valloader), {\"accuracy\": accuracy}"
      ]
    },
    {
      "cell_type": "code",
      "source": [
        "import glob\n",
        "import os\n",
        "def load_model_state_dict():\n",
        "    net = Net(10)\n",
        "    list_of_files = [fname for fname in glob.glob(\"./model_round_*\")]\n",
        "    latest_round_file = max(list_of_files, key=os.path.getctime)\n",
        "    # latest_round_file = './model_round_df.pth'\n",
        "    print(\"Loading pre-trained model from: \", latest_round_file)\n",
        "    state_dict = torch.load(latest_round_file)\n",
        "    net.load_state_dict(state_dict)\n",
        "    return net"
      ],
      "metadata": {
        "id": "FiR-tVieingX"
      },
      "execution_count": 54,
      "outputs": []
    },
    {
      "cell_type": "code",
      "execution_count": 55,
      "metadata": {
        "id": "BPJKeYr6tiy_"
      },
      "outputs": [],
      "source": [
        "def get_evaluate_fn(centralized_testset: Dataset):\n",
        "    \"\"\"This is a function that returns a function. The returned\n",
        "    function (i.e. `evaluate_fn`) will be executed by the strategy\n",
        "    at the end of each round to evaluate the stat of the global\n",
        "    model.\"\"\"\n",
        "\n",
        "    def evaluate_fn(server_round: int, parameters, config):\n",
        "        \"\"\"This function is executed by the strategy it will instantiate\n",
        "        a model and replace its parameters with those from the global model.\n",
        "        The, the model will be evaluate on the test set (recall this is the\n",
        "        whole MNIST test set).\"\"\"\n",
        "\n",
        "        model = Net(num_classes=11)\n",
        "\n",
        "        # Determine device\n",
        "        device = torch.device(\"cuda:0\" if torch.cuda.is_available() else \"cpu\")\n",
        "        model.to(device)  # send model to device\n",
        "\n",
        "        # set parameters to the model\n",
        "        params_dict = zip(model.state_dict().keys(), parameters)\n",
        "        state_dict = OrderedDict({k: torch.Tensor(v) for k, v in params_dict})\n",
        "        model.load_state_dict(state_dict, strict=True)\n",
        "\n",
        "        ###############################################################################\n",
        "        # device = torch.device(\"cuda:0\" if torch.cuda.is_available() else \"cpu\")\n",
        "        # model = load_model_state_dict()\n",
        "        # model.to(device)\n",
        "        ###############################################################################\n",
        "        # Apply transform to dataset\n",
        "        testset = centralized_testset.with_transform(apply_transforms)\n",
        "\n",
        "        testloader = DataLoader(testset, batch_size=50)\n",
        "        # call test\n",
        "        loss, accuracy = test_standard(model, testloader, device)\n",
        "        print('GLOBAL TEST')\n",
        "        return loss, {\"accuracy\": accuracy}\n",
        "\n",
        "    return evaluate_fn"
      ]
    },
    {
      "cell_type": "code",
      "execution_count": 56,
      "metadata": {
        "id": "uKusgaOAtiy_"
      },
      "outputs": [],
      "source": [
        "from flwr.common import Metrics, FitRes\n",
        "\n",
        "\n",
        "def fit_config(server_round: int) -> Dict[str, Scalar]:\n",
        "    \"\"\"Return a configuration with static batch size and (local) epochs.\"\"\"\n",
        "    config = {\n",
        "        \"epochs\": 10,  # Number of local epochs done by clients\n",
        "        \"lr\": 0.1,  # Learning rate to use by clients during fit()\n",
        "        \"attacker_epochs\": 20,\n",
        "        \"attacker_lr\": 0.05,\n",
        "    }\n",
        "    return config\n",
        "\n",
        "\n",
        "def weighted_average(metrics: List[Tuple[int, Metrics]]) -> Metrics:\n",
        "    \"\"\"Aggregation function for (federated) evaluation metrics, i.e. those returned by\n",
        "    the client's evaluate() method.\"\"\"\n",
        "    # Multiply accuracy of each client by number of examples used\n",
        "    accuracies = [num_examples * m[\"accuracy\"] for num_examples, m in metrics]\n",
        "    examples = [num_examples for num_examples, _ in metrics]\n",
        "\n",
        "    # Aggregate and return custom metric (weighted average)\n",
        "    return {\"accuracy\": sum(accuracies) / sum(examples)}"
      ]
    },
    {
      "cell_type": "code",
      "source": [
        "import numpy as np\n",
        "class SaveModelStrategy(fl.server.strategy.FedAvg):\n",
        "    def aggregate_fit(\n",
        "        self,\n",
        "        server_round: int,\n",
        "        results: List[Tuple[fl.server.client_proxy.ClientProxy, fl.common.FitRes]],\n",
        "        failures: List[Union[Tuple[ClientProxy, FitRes], BaseException]],\n",
        "    ) -> Tuple[Optional[Parameters], Dict[str, Scalar]]:\n",
        "        \"\"\"Aggregate model weights using weighted average and store checkpoint\"\"\"\n",
        "        model=Net(num_classes=11)\n",
        "        # Call aggregate_fit from base class (FedAvg) to aggregate parameters and metrics\n",
        "        aggregated_parameters, aggregated_metrics = super().aggregate_fit(server_round, results, failures)\n",
        "\n",
        "        if aggregated_parameters is not None:\n",
        "            print(f\"Saving round {server_round} aggregated_parameters...\")\n",
        "\n",
        "            # Convert `Parameters` to `List[np.ndarray]`\n",
        "            aggregated_ndarrays: List[np.ndarray] = fl.common.parameters_to_ndarrays(aggregated_parameters)\n",
        "\n",
        "            # Convert `List[np.ndarray]` to PyTorch`state_dict`\n",
        "            params_dict = zip(model.state_dict().keys(), aggregated_ndarrays)\n",
        "            state_dict = OrderedDict({k: torch.tensor(v) for k, v in params_dict})\n",
        "            model.load_state_dict(state_dict, strict=True)\n",
        "\n",
        "            # Save the model\n",
        "            torch.save(model.state_dict(), f\"model_round_{server_round}.pth\")\n",
        "        return aggregated_parameters, aggregated_metrics"
      ],
      "metadata": {
        "id": "gIoh_OAxATO7"
      },
      "execution_count": 57,
      "outputs": []
    },
    {
      "cell_type": "code",
      "execution_count": 58,
      "metadata": {
        "id": "FpB15Xv3tizA"
      },
      "outputs": [],
      "source": [
        "strategy = SaveModelStrategy(\n",
        "    fraction_fit=0.31,  # Sample 10% of available clients for training\n",
        "    fraction_evaluate=0.31,  # Sample 5% of available clients for evaluation\n",
        "    on_fit_config_fn=fit_config,\n",
        "    evaluate_metrics_aggregation_fn=weighted_average,  # aggregates federated metrics\n",
        "    evaluate_fn=get_evaluate_fn(centralized_testset),  # global evaluation function\n",
        ")"
      ]
    },
    {
      "cell_type": "code",
      "execution_count": 59,
      "metadata": {
        "id": "g0HZTdGHtizA"
      },
      "outputs": [],
      "source": [
        "from torch.utils.data import DataLoader\n",
        "\n",
        "\n",
        "def get_client_fn(dataset: FederatedDataset):\n",
        "    \"\"\"Return a function to construct a client.\n",
        "\n",
        "    The VirtualClientEngine will execute this function whenever a client is sampled by\n",
        "    the strategy to participate.\n",
        "    \"\"\"\n",
        "\n",
        "    def client_fn(cid: str) -> fl.client.Client:\n",
        "        \"\"\"Construct a FlowerClient with its own dataset partition.\"\"\"\n",
        "\n",
        "        # Let's get the partition corresponding to the i-th client\n",
        "        client_dataset = dataset.load_partition(int(cid), \"train\")\n",
        "\n",
        "        # Now let's split it into train (90%) and validation (10%)\n",
        "        client_dataset_splits = client_dataset.train_test_split(test_size=0.1)\n",
        "\n",
        "        trainset = client_dataset_splits[\"train\"]\n",
        "        valset = client_dataset_splits[\"test\"]\n",
        "\n",
        "        # Now we apply the transform to each batch.\n",
        "        trainloader = DataLoader(\n",
        "            trainset.with_transform(apply_transforms), batch_size=256, shuffle=True\n",
        "        )\n",
        "        valloader = DataLoader(valset.with_transform(apply_transforms), batch_size=256)\n",
        "        testset = centralized_testset.with_transform(apply_transforms)\n",
        "\n",
        "        testloader = DataLoader(testset, batch_size=50)\n",
        "        # Create and return client\n",
        "        return FlowerClient(int(cid), trainloader, valloader, testloader).to_client()\n",
        "\n",
        "    return client_fn\n",
        "\n",
        "\n",
        "client_fn_callback = get_client_fn(mnist_fds)"
      ]
    },
    {
      "cell_type": "markdown",
      "metadata": {
        "id": "TRAALrO7tizA"
      },
      "source": [
        "Now we are ready to launch the FL experiment using Flower simulation:"
      ]
    },
    {
      "cell_type": "code",
      "execution_count": 60,
      "metadata": {
        "id": "WOOq8qkUtizA",
        "colab": {
          "base_uri": "https://localhost:8080/"
        },
        "outputId": "1f6a78f4-bdd1-4579-9a3c-46b2f16769a6"
      },
      "outputs": [
        {
          "output_type": "stream",
          "name": "stderr",
          "text": [
            "\u001b[92mINFO \u001b[0m:      Starting Flower simulation, config: num_rounds=50, no round_timeout\n",
            "INFO:flwr:Starting Flower simulation, config: num_rounds=50, no round_timeout\n",
            "/usr/lib/python3.10/subprocess.py:1796: RuntimeWarning: os.fork() was called. os.fork() is incompatible with multithreaded code, and JAX is multithreaded, so this will likely lead to a deadlock.\n",
            "  self.pid = _posixsubprocess.fork_exec(\n",
            "2024-04-09 03:43:40,379\tINFO worker.py:1621 -- Started a local Ray instance.\n",
            "\u001b[92mINFO \u001b[0m:      Flower VCE: Ray initialized with resources: {'node:__internal_head__': 1.0, 'CPU': 2.0, 'memory': 7677734094.0, 'GPU': 1.0, 'node:172.28.0.12': 1.0, 'object_store_memory': 3838867046.0}\n",
            "INFO:flwr:Flower VCE: Ray initialized with resources: {'node:__internal_head__': 1.0, 'CPU': 2.0, 'memory': 7677734094.0, 'GPU': 1.0, 'node:172.28.0.12': 1.0, 'object_store_memory': 3838867046.0}\n",
            "\u001b[92mINFO \u001b[0m:      Optimize your simulation with Flower VCE: https://flower.ai/docs/framework/how-to-run-simulations.html\n",
            "INFO:flwr:Optimize your simulation with Flower VCE: https://flower.ai/docs/framework/how-to-run-simulations.html\n",
            "\u001b[92mINFO \u001b[0m:      Flower VCE: Resources for each Virtual Client: {'num_cpus': 0.2, 'num_gpus': 0.1}\n",
            "INFO:flwr:Flower VCE: Resources for each Virtual Client: {'num_cpus': 0.2, 'num_gpus': 0.1}\n",
            "\u001b[92mINFO \u001b[0m:      Flower VCE: Creating VirtualClientEngineActorPool with 10 actors\n",
            "INFO:flwr:Flower VCE: Creating VirtualClientEngineActorPool with 10 actors\n",
            "\u001b[92mINFO \u001b[0m:      [INIT]\n",
            "INFO:flwr:[INIT]\n",
            "\u001b[92mINFO \u001b[0m:      Requesting initial parameters from one random client\n",
            "INFO:flwr:Requesting initial parameters from one random client\n",
            "2024-04-09 03:43:53,281\tWARNING worker.py:2037 -- WARNING: 8 PYTHON worker processes have been started on node: 232f42fdb4b83184881a779aa6ed279c9a05c1929e9d763aa5b750a5 with address: 172.28.0.12. This could be a result of using a large number of actors, or due to tasks blocked in ray.get() calls (see https://github.com/ray-project/ray/issues/3644 for some discussion of workarounds).\n",
            "\u001b[2m\u001b[36m(pid=5805)\u001b[0m 2024-04-09 03:44:02.989386: E external/local_xla/xla/stream_executor/cuda/cuda_dnn.cc:9261] Unable to register cuDNN factory: Attempting to register factory for plugin cuDNN when one has already been registered\n",
            "\u001b[2m\u001b[36m(pid=5805)\u001b[0m 2024-04-09 03:44:02.989458: E external/local_xla/xla/stream_executor/cuda/cuda_fft.cc:607] Unable to register cuFFT factory: Attempting to register factory for plugin cuFFT when one has already been registered\n",
            "\u001b[2m\u001b[36m(pid=5805)\u001b[0m 2024-04-09 03:44:02.998163: E external/local_xla/xla/stream_executor/cuda/cuda_blas.cc:1515] Unable to register cuBLAS factory: Attempting to register factory for plugin cuBLAS when one has already been registered\n",
            "\u001b[2m\u001b[36m(pid=5804)\u001b[0m 2024-04-09 03:44:13.723232: W tensorflow/compiler/tf2tensorrt/utils/py_utils.cc:38] TF-TRT Warning: Could not find TensorRT\n",
            "\u001b[2m\u001b[36m(pid=5949)\u001b[0m 2024-04-09 03:44:04.357937: E external/local_xla/xla/stream_executor/cuda/cuda_dnn.cc:9261] Unable to register cuDNN factory: Attempting to register factory for plugin cuDNN when one has already been registered\u001b[32m [repeated 9x across cluster]\u001b[0m\n",
            "\u001b[2m\u001b[36m(pid=5949)\u001b[0m 2024-04-09 03:44:04.358006: E external/local_xla/xla/stream_executor/cuda/cuda_fft.cc:607] Unable to register cuFFT factory: Attempting to register factory for plugin cuFFT when one has already been registered\u001b[32m [repeated 9x across cluster]\u001b[0m\n",
            "\u001b[2m\u001b[36m(pid=5949)\u001b[0m 2024-04-09 03:44:04.372771: E external/local_xla/xla/stream_executor/cuda/cuda_blas.cc:1515] Unable to register cuBLAS factory: Attempting to register factory for plugin cuBLAS when one has already been registered\u001b[32m [repeated 9x across cluster]\u001b[0m\n",
            "\u001b[92mINFO \u001b[0m:      Received initial parameters from one random client\n",
            "INFO:flwr:Received initial parameters from one random client\n",
            "\u001b[92mINFO \u001b[0m:      Evaluating initial global parameters\n",
            "INFO:flwr:Evaluating initial global parameters\n",
            "\u001b[92mINFO \u001b[0m:      initial parameters (loss, other metrics): 479.6063640117645, {'accuracy': 8.92}\n",
            "INFO:flwr:initial parameters (loss, other metrics): 479.6063640117645, {'accuracy': 8.92}\n",
            "\u001b[92mINFO \u001b[0m:      \n",
            "INFO:flwr:\n",
            "\u001b[92mINFO \u001b[0m:      [ROUND 1]\n",
            "INFO:flwr:[ROUND 1]\n",
            "\u001b[92mINFO \u001b[0m:      configure_fit: strategy sampled 10 clients (out of 33)\n",
            "INFO:flwr:configure_fit: strategy sampled 10 clients (out of 33)\n"
          ]
        },
        {
          "output_type": "stream",
          "name": "stdout",
          "text": [
            "GLOBAL TEST\n"
          ]
        },
        {
          "output_type": "stream",
          "name": "stderr",
          "text": [
            "\u001b[92mINFO \u001b[0m:      aggregate_fit: received 10 results and 0 failures\n",
            "INFO:flwr:aggregate_fit: received 10 results and 0 failures\n",
            "\u001b[93mWARNING \u001b[0m:   No fit_metrics_aggregation_fn provided\n",
            "WARNING:flwr:No fit_metrics_aggregation_fn provided\n"
          ]
        },
        {
          "output_type": "stream",
          "name": "stdout",
          "text": [
            "Saving round 1 aggregated_parameters...\n"
          ]
        },
        {
          "output_type": "stream",
          "name": "stderr",
          "text": [
            "\u001b[92mINFO \u001b[0m:      fit progress: (1, 479.57161474227905, {'accuracy': 8.92}, 90.14739119899991)\n",
            "INFO:flwr:fit progress: (1, 479.57161474227905, {'accuracy': 8.92}, 90.14739119899991)\n",
            "\u001b[92mINFO \u001b[0m:      configure_evaluate: strategy sampled 10 clients (out of 33)\n",
            "INFO:flwr:configure_evaluate: strategy sampled 10 clients (out of 33)\n"
          ]
        },
        {
          "output_type": "stream",
          "name": "stdout",
          "text": [
            "GLOBAL TEST\n"
          ]
        },
        {
          "output_type": "stream",
          "name": "stderr",
          "text": [
            "\u001b[92mINFO \u001b[0m:      aggregate_evaluate: received 10 results and 0 failures\n",
            "INFO:flwr:aggregate_evaluate: received 10 results and 0 failures\n",
            "\u001b[92mINFO \u001b[0m:      \n",
            "INFO:flwr:\n",
            "\u001b[92mINFO \u001b[0m:      [ROUND 2]\n",
            "INFO:flwr:[ROUND 2]\n",
            "\u001b[92mINFO \u001b[0m:      configure_fit: strategy sampled 10 clients (out of 33)\n",
            "INFO:flwr:configure_fit: strategy sampled 10 clients (out of 33)\n",
            "\u001b[92mINFO \u001b[0m:      aggregate_fit: received 10 results and 0 failures\n",
            "INFO:flwr:aggregate_fit: received 10 results and 0 failures\n"
          ]
        },
        {
          "output_type": "stream",
          "name": "stdout",
          "text": [
            "Saving round 2 aggregated_parameters...\n"
          ]
        },
        {
          "output_type": "stream",
          "name": "stderr",
          "text": [
            "\u001b[92mINFO \u001b[0m:      fit progress: (2, 479.53816175460815, {'accuracy': 8.92}, 167.9296895729999)\n",
            "INFO:flwr:fit progress: (2, 479.53816175460815, {'accuracy': 8.92}, 167.9296895729999)\n",
            "\u001b[92mINFO \u001b[0m:      configure_evaluate: strategy sampled 10 clients (out of 33)\n",
            "INFO:flwr:configure_evaluate: strategy sampled 10 clients (out of 33)\n"
          ]
        },
        {
          "output_type": "stream",
          "name": "stdout",
          "text": [
            "GLOBAL TEST\n"
          ]
        },
        {
          "output_type": "stream",
          "name": "stderr",
          "text": [
            "\u001b[92mINFO \u001b[0m:      aggregate_evaluate: received 10 results and 0 failures\n",
            "INFO:flwr:aggregate_evaluate: received 10 results and 0 failures\n",
            "\u001b[92mINFO \u001b[0m:      \n",
            "INFO:flwr:\n",
            "\u001b[92mINFO \u001b[0m:      [ROUND 3]\n",
            "INFO:flwr:[ROUND 3]\n",
            "\u001b[92mINFO \u001b[0m:      configure_fit: strategy sampled 10 clients (out of 33)\n",
            "INFO:flwr:configure_fit: strategy sampled 10 clients (out of 33)\n",
            "\u001b[92mINFO \u001b[0m:      aggregate_fit: received 10 results and 0 failures\n",
            "INFO:flwr:aggregate_fit: received 10 results and 0 failures\n"
          ]
        },
        {
          "output_type": "stream",
          "name": "stdout",
          "text": [
            "Saving round 3 aggregated_parameters...\n"
          ]
        },
        {
          "output_type": "stream",
          "name": "stderr",
          "text": [
            "\u001b[92mINFO \u001b[0m:      fit progress: (3, 479.50561118125916, {'accuracy': 7.75}, 244.0821915649999)\n",
            "INFO:flwr:fit progress: (3, 479.50561118125916, {'accuracy': 7.75}, 244.0821915649999)\n",
            "\u001b[92mINFO \u001b[0m:      configure_evaluate: strategy sampled 10 clients (out of 33)\n",
            "INFO:flwr:configure_evaluate: strategy sampled 10 clients (out of 33)\n"
          ]
        },
        {
          "output_type": "stream",
          "name": "stdout",
          "text": [
            "GLOBAL TEST\n"
          ]
        },
        {
          "output_type": "stream",
          "name": "stderr",
          "text": [
            "\u001b[92mINFO \u001b[0m:      aggregate_evaluate: received 10 results and 0 failures\n",
            "INFO:flwr:aggregate_evaluate: received 10 results and 0 failures\n",
            "\u001b[92mINFO \u001b[0m:      \n",
            "INFO:flwr:\n",
            "\u001b[92mINFO \u001b[0m:      [ROUND 4]\n",
            "INFO:flwr:[ROUND 4]\n",
            "\u001b[92mINFO \u001b[0m:      configure_fit: strategy sampled 10 clients (out of 33)\n",
            "INFO:flwr:configure_fit: strategy sampled 10 clients (out of 33)\n",
            "\u001b[92mINFO \u001b[0m:      aggregate_fit: received 10 results and 0 failures\n",
            "INFO:flwr:aggregate_fit: received 10 results and 0 failures\n"
          ]
        },
        {
          "output_type": "stream",
          "name": "stdout",
          "text": [
            "Saving round 4 aggregated_parameters...\n"
          ]
        },
        {
          "output_type": "stream",
          "name": "stderr",
          "text": [
            "\u001b[92mINFO \u001b[0m:      fit progress: (4, 479.47406005859375, {'accuracy': 9.58}, 319.4619674559999)\n",
            "INFO:flwr:fit progress: (4, 479.47406005859375, {'accuracy': 9.58}, 319.4619674559999)\n",
            "\u001b[92mINFO \u001b[0m:      configure_evaluate: strategy sampled 10 clients (out of 33)\n",
            "INFO:flwr:configure_evaluate: strategy sampled 10 clients (out of 33)\n"
          ]
        },
        {
          "output_type": "stream",
          "name": "stdout",
          "text": [
            "GLOBAL TEST\n"
          ]
        },
        {
          "output_type": "stream",
          "name": "stderr",
          "text": [
            "\u001b[92mINFO \u001b[0m:      aggregate_evaluate: received 10 results and 0 failures\n",
            "INFO:flwr:aggregate_evaluate: received 10 results and 0 failures\n",
            "\u001b[92mINFO \u001b[0m:      \n",
            "INFO:flwr:\n",
            "\u001b[92mINFO \u001b[0m:      [ROUND 5]\n",
            "INFO:flwr:[ROUND 5]\n",
            "\u001b[92mINFO \u001b[0m:      configure_fit: strategy sampled 10 clients (out of 33)\n",
            "INFO:flwr:configure_fit: strategy sampled 10 clients (out of 33)\n",
            "\u001b[92mINFO \u001b[0m:      aggregate_fit: received 10 results and 0 failures\n",
            "INFO:flwr:aggregate_fit: received 10 results and 0 failures\n"
          ]
        },
        {
          "output_type": "stream",
          "name": "stdout",
          "text": [
            "Saving round 5 aggregated_parameters...\n"
          ]
        },
        {
          "output_type": "stream",
          "name": "stderr",
          "text": [
            "\u001b[92mINFO \u001b[0m:      fit progress: (5, 479.4431402683258, {'accuracy': 9.58}, 396.8113696579999)\n",
            "INFO:flwr:fit progress: (5, 479.4431402683258, {'accuracy': 9.58}, 396.8113696579999)\n",
            "\u001b[92mINFO \u001b[0m:      configure_evaluate: strategy sampled 10 clients (out of 33)\n",
            "INFO:flwr:configure_evaluate: strategy sampled 10 clients (out of 33)\n"
          ]
        },
        {
          "output_type": "stream",
          "name": "stdout",
          "text": [
            "GLOBAL TEST\n"
          ]
        },
        {
          "output_type": "stream",
          "name": "stderr",
          "text": [
            "\u001b[92mINFO \u001b[0m:      aggregate_evaluate: received 10 results and 0 failures\n",
            "INFO:flwr:aggregate_evaluate: received 10 results and 0 failures\n",
            "\u001b[92mINFO \u001b[0m:      \n",
            "INFO:flwr:\n",
            "\u001b[92mINFO \u001b[0m:      [ROUND 6]\n",
            "INFO:flwr:[ROUND 6]\n",
            "\u001b[92mINFO \u001b[0m:      configure_fit: strategy sampled 10 clients (out of 33)\n",
            "INFO:flwr:configure_fit: strategy sampled 10 clients (out of 33)\n",
            "\u001b[92mINFO \u001b[0m:      aggregate_fit: received 10 results and 0 failures\n",
            "INFO:flwr:aggregate_fit: received 10 results and 0 failures\n"
          ]
        },
        {
          "output_type": "stream",
          "name": "stdout",
          "text": [
            "Saving round 6 aggregated_parameters...\n"
          ]
        },
        {
          "output_type": "stream",
          "name": "stderr",
          "text": [
            "\u001b[92mINFO \u001b[0m:      fit progress: (6, 479.412544965744, {'accuracy': 9.58}, 473.594505904)\n",
            "INFO:flwr:fit progress: (6, 479.412544965744, {'accuracy': 9.58}, 473.594505904)\n",
            "\u001b[92mINFO \u001b[0m:      configure_evaluate: strategy sampled 10 clients (out of 33)\n",
            "INFO:flwr:configure_evaluate: strategy sampled 10 clients (out of 33)\n"
          ]
        },
        {
          "output_type": "stream",
          "name": "stdout",
          "text": [
            "GLOBAL TEST\n"
          ]
        },
        {
          "output_type": "stream",
          "name": "stderr",
          "text": [
            "\u001b[92mINFO \u001b[0m:      aggregate_evaluate: received 10 results and 0 failures\n",
            "INFO:flwr:aggregate_evaluate: received 10 results and 0 failures\n",
            "\u001b[92mINFO \u001b[0m:      \n",
            "INFO:flwr:\n",
            "\u001b[92mINFO \u001b[0m:      [ROUND 7]\n",
            "INFO:flwr:[ROUND 7]\n",
            "\u001b[92mINFO \u001b[0m:      configure_fit: strategy sampled 10 clients (out of 33)\n",
            "INFO:flwr:configure_fit: strategy sampled 10 clients (out of 33)\n",
            "\u001b[92mINFO \u001b[0m:      aggregate_fit: received 10 results and 0 failures\n",
            "INFO:flwr:aggregate_fit: received 10 results and 0 failures\n"
          ]
        },
        {
          "output_type": "stream",
          "name": "stdout",
          "text": [
            "Saving round 7 aggregated_parameters...\n"
          ]
        },
        {
          "output_type": "stream",
          "name": "stderr",
          "text": [
            "\u001b[92mINFO \u001b[0m:      fit progress: (7, 479.3829572200775, {'accuracy': 9.58}, 551.487063692)\n",
            "INFO:flwr:fit progress: (7, 479.3829572200775, {'accuracy': 9.58}, 551.487063692)\n",
            "\u001b[92mINFO \u001b[0m:      configure_evaluate: strategy sampled 10 clients (out of 33)\n",
            "INFO:flwr:configure_evaluate: strategy sampled 10 clients (out of 33)\n"
          ]
        },
        {
          "output_type": "stream",
          "name": "stdout",
          "text": [
            "GLOBAL TEST\n"
          ]
        },
        {
          "output_type": "stream",
          "name": "stderr",
          "text": [
            "\u001b[92mINFO \u001b[0m:      aggregate_evaluate: received 10 results and 0 failures\n",
            "INFO:flwr:aggregate_evaluate: received 10 results and 0 failures\n",
            "\u001b[92mINFO \u001b[0m:      \n",
            "INFO:flwr:\n",
            "\u001b[92mINFO \u001b[0m:      [ROUND 8]\n",
            "INFO:flwr:[ROUND 8]\n",
            "\u001b[92mINFO \u001b[0m:      configure_fit: strategy sampled 10 clients (out of 33)\n",
            "INFO:flwr:configure_fit: strategy sampled 10 clients (out of 33)\n",
            "\u001b[92mINFO \u001b[0m:      aggregate_fit: received 10 results and 0 failures\n",
            "INFO:flwr:aggregate_fit: received 10 results and 0 failures\n"
          ]
        },
        {
          "output_type": "stream",
          "name": "stdout",
          "text": [
            "Saving round 8 aggregated_parameters...\n"
          ]
        },
        {
          "output_type": "stream",
          "name": "stderr",
          "text": [
            "\u001b[92mINFO \u001b[0m:      fit progress: (8, 479.35339617729187, {'accuracy': 9.58}, 629.6754853790001)\n",
            "INFO:flwr:fit progress: (8, 479.35339617729187, {'accuracy': 9.58}, 629.6754853790001)\n",
            "\u001b[92mINFO \u001b[0m:      configure_evaluate: strategy sampled 10 clients (out of 33)\n",
            "INFO:flwr:configure_evaluate: strategy sampled 10 clients (out of 33)\n"
          ]
        },
        {
          "output_type": "stream",
          "name": "stdout",
          "text": [
            "GLOBAL TEST\n"
          ]
        },
        {
          "output_type": "stream",
          "name": "stderr",
          "text": [
            "\u001b[92mINFO \u001b[0m:      aggregate_evaluate: received 10 results and 0 failures\n",
            "INFO:flwr:aggregate_evaluate: received 10 results and 0 failures\n",
            "\u001b[92mINFO \u001b[0m:      \n",
            "INFO:flwr:\n",
            "\u001b[92mINFO \u001b[0m:      [ROUND 9]\n",
            "INFO:flwr:[ROUND 9]\n",
            "\u001b[92mINFO \u001b[0m:      configure_fit: strategy sampled 10 clients (out of 33)\n",
            "INFO:flwr:configure_fit: strategy sampled 10 clients (out of 33)\n",
            "\u001b[92mINFO \u001b[0m:      aggregate_fit: received 10 results and 0 failures\n",
            "INFO:flwr:aggregate_fit: received 10 results and 0 failures\n"
          ]
        },
        {
          "output_type": "stream",
          "name": "stdout",
          "text": [
            "Saving round 9 aggregated_parameters...\n"
          ]
        },
        {
          "output_type": "stream",
          "name": "stderr",
          "text": [
            "\u001b[92mINFO \u001b[0m:      fit progress: (9, 479.32372522354126, {'accuracy': 9.58}, 704.818308374)\n",
            "INFO:flwr:fit progress: (9, 479.32372522354126, {'accuracy': 9.58}, 704.818308374)\n",
            "\u001b[92mINFO \u001b[0m:      configure_evaluate: strategy sampled 10 clients (out of 33)\n",
            "INFO:flwr:configure_evaluate: strategy sampled 10 clients (out of 33)\n"
          ]
        },
        {
          "output_type": "stream",
          "name": "stdout",
          "text": [
            "GLOBAL TEST\n"
          ]
        },
        {
          "output_type": "stream",
          "name": "stderr",
          "text": [
            "\u001b[92mINFO \u001b[0m:      aggregate_evaluate: received 10 results and 0 failures\n",
            "INFO:flwr:aggregate_evaluate: received 10 results and 0 failures\n",
            "\u001b[92mINFO \u001b[0m:      \n",
            "INFO:flwr:\n",
            "\u001b[92mINFO \u001b[0m:      [ROUND 10]\n",
            "INFO:flwr:[ROUND 10]\n",
            "\u001b[92mINFO \u001b[0m:      configure_fit: strategy sampled 10 clients (out of 33)\n",
            "INFO:flwr:configure_fit: strategy sampled 10 clients (out of 33)\n",
            "\u001b[92mINFO \u001b[0m:      aggregate_fit: received 10 results and 0 failures\n",
            "INFO:flwr:aggregate_fit: received 10 results and 0 failures\n"
          ]
        },
        {
          "output_type": "stream",
          "name": "stdout",
          "text": [
            "Saving round 10 aggregated_parameters...\n"
          ]
        },
        {
          "output_type": "stream",
          "name": "stderr",
          "text": [
            "\u001b[92mINFO \u001b[0m:      fit progress: (10, 479.29431796073914, {'accuracy': 9.58}, 780.1081701789999)\n",
            "INFO:flwr:fit progress: (10, 479.29431796073914, {'accuracy': 9.58}, 780.1081701789999)\n",
            "\u001b[92mINFO \u001b[0m:      configure_evaluate: strategy sampled 10 clients (out of 33)\n",
            "INFO:flwr:configure_evaluate: strategy sampled 10 clients (out of 33)\n"
          ]
        },
        {
          "output_type": "stream",
          "name": "stdout",
          "text": [
            "GLOBAL TEST\n"
          ]
        },
        {
          "output_type": "stream",
          "name": "stderr",
          "text": [
            "\u001b[92mINFO \u001b[0m:      aggregate_evaluate: received 10 results and 0 failures\n",
            "INFO:flwr:aggregate_evaluate: received 10 results and 0 failures\n",
            "\u001b[92mINFO \u001b[0m:      \n",
            "INFO:flwr:\n",
            "\u001b[92mINFO \u001b[0m:      [ROUND 11]\n",
            "INFO:flwr:[ROUND 11]\n",
            "\u001b[92mINFO \u001b[0m:      configure_fit: strategy sampled 10 clients (out of 33)\n",
            "INFO:flwr:configure_fit: strategy sampled 10 clients (out of 33)\n",
            "\u001b[92mINFO \u001b[0m:      aggregate_fit: received 10 results and 0 failures\n",
            "INFO:flwr:aggregate_fit: received 10 results and 0 failures\n"
          ]
        },
        {
          "output_type": "stream",
          "name": "stdout",
          "text": [
            "Saving round 11 aggregated_parameters...\n"
          ]
        },
        {
          "output_type": "stream",
          "name": "stderr",
          "text": [
            "\u001b[92mINFO \u001b[0m:      fit progress: (11, 479.2646105289459, {'accuracy': 9.58}, 857.939310472)\n",
            "INFO:flwr:fit progress: (11, 479.2646105289459, {'accuracy': 9.58}, 857.939310472)\n",
            "\u001b[92mINFO \u001b[0m:      configure_evaluate: strategy sampled 10 clients (out of 33)\n",
            "INFO:flwr:configure_evaluate: strategy sampled 10 clients (out of 33)\n"
          ]
        },
        {
          "output_type": "stream",
          "name": "stdout",
          "text": [
            "GLOBAL TEST\n"
          ]
        },
        {
          "output_type": "stream",
          "name": "stderr",
          "text": [
            "\u001b[92mINFO \u001b[0m:      aggregate_evaluate: received 10 results and 0 failures\n",
            "INFO:flwr:aggregate_evaluate: received 10 results and 0 failures\n",
            "\u001b[92mINFO \u001b[0m:      \n",
            "INFO:flwr:\n",
            "\u001b[92mINFO \u001b[0m:      [ROUND 12]\n",
            "INFO:flwr:[ROUND 12]\n",
            "\u001b[92mINFO \u001b[0m:      configure_fit: strategy sampled 10 clients (out of 33)\n",
            "INFO:flwr:configure_fit: strategy sampled 10 clients (out of 33)\n",
            "\u001b[92mINFO \u001b[0m:      aggregate_fit: received 10 results and 0 failures\n",
            "INFO:flwr:aggregate_fit: received 10 results and 0 failures\n"
          ]
        },
        {
          "output_type": "stream",
          "name": "stdout",
          "text": [
            "Saving round 12 aggregated_parameters...\n"
          ]
        },
        {
          "output_type": "stream",
          "name": "stderr",
          "text": [
            "\u001b[92mINFO \u001b[0m:      fit progress: (12, 479.23448061943054, {'accuracy': 9.58}, 934.091935125)\n",
            "INFO:flwr:fit progress: (12, 479.23448061943054, {'accuracy': 9.58}, 934.091935125)\n",
            "\u001b[92mINFO \u001b[0m:      configure_evaluate: strategy sampled 10 clients (out of 33)\n",
            "INFO:flwr:configure_evaluate: strategy sampled 10 clients (out of 33)\n"
          ]
        },
        {
          "output_type": "stream",
          "name": "stdout",
          "text": [
            "GLOBAL TEST\n"
          ]
        },
        {
          "output_type": "stream",
          "name": "stderr",
          "text": [
            "\u001b[92mINFO \u001b[0m:      aggregate_evaluate: received 10 results and 0 failures\n",
            "INFO:flwr:aggregate_evaluate: received 10 results and 0 failures\n",
            "\u001b[92mINFO \u001b[0m:      \n",
            "INFO:flwr:\n",
            "\u001b[92mINFO \u001b[0m:      [ROUND 13]\n",
            "INFO:flwr:[ROUND 13]\n",
            "\u001b[92mINFO \u001b[0m:      configure_fit: strategy sampled 10 clients (out of 33)\n",
            "INFO:flwr:configure_fit: strategy sampled 10 clients (out of 33)\n",
            "\u001b[92mINFO \u001b[0m:      aggregate_fit: received 10 results and 0 failures\n",
            "INFO:flwr:aggregate_fit: received 10 results and 0 failures\n"
          ]
        },
        {
          "output_type": "stream",
          "name": "stdout",
          "text": [
            "Saving round 13 aggregated_parameters...\n"
          ]
        },
        {
          "output_type": "stream",
          "name": "stderr",
          "text": [
            "\u001b[92mINFO \u001b[0m:      fit progress: (13, 479.204128742218, {'accuracy': 9.58}, 1009.483014375)\n",
            "INFO:flwr:fit progress: (13, 479.204128742218, {'accuracy': 9.58}, 1009.483014375)\n",
            "\u001b[92mINFO \u001b[0m:      configure_evaluate: strategy sampled 10 clients (out of 33)\n",
            "INFO:flwr:configure_evaluate: strategy sampled 10 clients (out of 33)\n"
          ]
        },
        {
          "output_type": "stream",
          "name": "stdout",
          "text": [
            "GLOBAL TEST\n"
          ]
        },
        {
          "output_type": "stream",
          "name": "stderr",
          "text": [
            "\u001b[92mINFO \u001b[0m:      aggregate_evaluate: received 10 results and 0 failures\n",
            "INFO:flwr:aggregate_evaluate: received 10 results and 0 failures\n",
            "\u001b[92mINFO \u001b[0m:      \n",
            "INFO:flwr:\n",
            "\u001b[92mINFO \u001b[0m:      [ROUND 14]\n",
            "INFO:flwr:[ROUND 14]\n",
            "\u001b[92mINFO \u001b[0m:      configure_fit: strategy sampled 10 clients (out of 33)\n",
            "INFO:flwr:configure_fit: strategy sampled 10 clients (out of 33)\n",
            "\u001b[92mINFO \u001b[0m:      aggregate_fit: received 10 results and 0 failures\n",
            "INFO:flwr:aggregate_fit: received 10 results and 0 failures\n"
          ]
        },
        {
          "output_type": "stream",
          "name": "stdout",
          "text": [
            "Saving round 14 aggregated_parameters...\n"
          ]
        },
        {
          "output_type": "stream",
          "name": "stderr",
          "text": [
            "\u001b[92mINFO \u001b[0m:      fit progress: (14, 479.1733868122101, {'accuracy': 9.58}, 1084.657848541)\n",
            "INFO:flwr:fit progress: (14, 479.1733868122101, {'accuracy': 9.58}, 1084.657848541)\n",
            "\u001b[92mINFO \u001b[0m:      configure_evaluate: strategy sampled 10 clients (out of 33)\n",
            "INFO:flwr:configure_evaluate: strategy sampled 10 clients (out of 33)\n"
          ]
        },
        {
          "output_type": "stream",
          "name": "stdout",
          "text": [
            "GLOBAL TEST\n"
          ]
        },
        {
          "output_type": "stream",
          "name": "stderr",
          "text": [
            "\u001b[92mINFO \u001b[0m:      aggregate_evaluate: received 10 results and 0 failures\n",
            "INFO:flwr:aggregate_evaluate: received 10 results and 0 failures\n",
            "\u001b[92mINFO \u001b[0m:      \n",
            "INFO:flwr:\n",
            "\u001b[92mINFO \u001b[0m:      [ROUND 15]\n",
            "INFO:flwr:[ROUND 15]\n",
            "\u001b[92mINFO \u001b[0m:      configure_fit: strategy sampled 10 clients (out of 33)\n",
            "INFO:flwr:configure_fit: strategy sampled 10 clients (out of 33)\n",
            "\u001b[92mINFO \u001b[0m:      aggregate_fit: received 10 results and 0 failures\n",
            "INFO:flwr:aggregate_fit: received 10 results and 0 failures\n"
          ]
        },
        {
          "output_type": "stream",
          "name": "stdout",
          "text": [
            "Saving round 15 aggregated_parameters...\n"
          ]
        },
        {
          "output_type": "stream",
          "name": "stderr",
          "text": [
            "\u001b[92mINFO \u001b[0m:      fit progress: (15, 479.1420156955719, {'accuracy': 11.56}, 1164.8896715370001)\n",
            "INFO:flwr:fit progress: (15, 479.1420156955719, {'accuracy': 11.56}, 1164.8896715370001)\n",
            "\u001b[92mINFO \u001b[0m:      configure_evaluate: strategy sampled 10 clients (out of 33)\n",
            "INFO:flwr:configure_evaluate: strategy sampled 10 clients (out of 33)\n"
          ]
        },
        {
          "output_type": "stream",
          "name": "stdout",
          "text": [
            "GLOBAL TEST\n"
          ]
        },
        {
          "output_type": "stream",
          "name": "stderr",
          "text": [
            "\u001b[92mINFO \u001b[0m:      aggregate_evaluate: received 10 results and 0 failures\n",
            "INFO:flwr:aggregate_evaluate: received 10 results and 0 failures\n",
            "\u001b[92mINFO \u001b[0m:      \n",
            "INFO:flwr:\n",
            "\u001b[92mINFO \u001b[0m:      [ROUND 16]\n",
            "INFO:flwr:[ROUND 16]\n",
            "\u001b[92mINFO \u001b[0m:      configure_fit: strategy sampled 10 clients (out of 33)\n",
            "INFO:flwr:configure_fit: strategy sampled 10 clients (out of 33)\n",
            "\u001b[92mINFO \u001b[0m:      aggregate_fit: received 10 results and 0 failures\n",
            "INFO:flwr:aggregate_fit: received 10 results and 0 failures\n"
          ]
        },
        {
          "output_type": "stream",
          "name": "stdout",
          "text": [
            "Saving round 16 aggregated_parameters...\n"
          ]
        },
        {
          "output_type": "stream",
          "name": "stderr",
          "text": [
            "\u001b[92mINFO \u001b[0m:      fit progress: (16, 479.1095185279846, {'accuracy': 11.35}, 1239.8133787799998)\n",
            "INFO:flwr:fit progress: (16, 479.1095185279846, {'accuracy': 11.35}, 1239.8133787799998)\n",
            "\u001b[92mINFO \u001b[0m:      configure_evaluate: strategy sampled 10 clients (out of 33)\n",
            "INFO:flwr:configure_evaluate: strategy sampled 10 clients (out of 33)\n"
          ]
        },
        {
          "output_type": "stream",
          "name": "stdout",
          "text": [
            "GLOBAL TEST\n"
          ]
        },
        {
          "output_type": "stream",
          "name": "stderr",
          "text": [
            "\u001b[92mINFO \u001b[0m:      aggregate_evaluate: received 10 results and 0 failures\n",
            "INFO:flwr:aggregate_evaluate: received 10 results and 0 failures\n",
            "\u001b[92mINFO \u001b[0m:      \n",
            "INFO:flwr:\n",
            "\u001b[92mINFO \u001b[0m:      [ROUND 17]\n",
            "INFO:flwr:[ROUND 17]\n",
            "\u001b[92mINFO \u001b[0m:      configure_fit: strategy sampled 10 clients (out of 33)\n",
            "INFO:flwr:configure_fit: strategy sampled 10 clients (out of 33)\n",
            "\u001b[92mINFO \u001b[0m:      aggregate_fit: received 10 results and 0 failures\n",
            "INFO:flwr:aggregate_fit: received 10 results and 0 failures\n"
          ]
        },
        {
          "output_type": "stream",
          "name": "stdout",
          "text": [
            "Saving round 17 aggregated_parameters...\n"
          ]
        },
        {
          "output_type": "stream",
          "name": "stderr",
          "text": [
            "\u001b[92mINFO \u001b[0m:      fit progress: (17, 479.07604908943176, {'accuracy': 11.35}, 1315.166471554)\n",
            "INFO:flwr:fit progress: (17, 479.07604908943176, {'accuracy': 11.35}, 1315.166471554)\n",
            "\u001b[92mINFO \u001b[0m:      configure_evaluate: strategy sampled 10 clients (out of 33)\n",
            "INFO:flwr:configure_evaluate: strategy sampled 10 clients (out of 33)\n"
          ]
        },
        {
          "output_type": "stream",
          "name": "stdout",
          "text": [
            "GLOBAL TEST\n"
          ]
        },
        {
          "output_type": "stream",
          "name": "stderr",
          "text": [
            "\u001b[92mINFO \u001b[0m:      aggregate_evaluate: received 10 results and 0 failures\n",
            "INFO:flwr:aggregate_evaluate: received 10 results and 0 failures\n",
            "\u001b[92mINFO \u001b[0m:      \n",
            "INFO:flwr:\n",
            "\u001b[92mINFO \u001b[0m:      [ROUND 18]\n",
            "INFO:flwr:[ROUND 18]\n",
            "\u001b[92mINFO \u001b[0m:      configure_fit: strategy sampled 10 clients (out of 33)\n",
            "INFO:flwr:configure_fit: strategy sampled 10 clients (out of 33)\n",
            "\u001b[92mINFO \u001b[0m:      aggregate_fit: received 10 results and 0 failures\n",
            "INFO:flwr:aggregate_fit: received 10 results and 0 failures\n"
          ]
        },
        {
          "output_type": "stream",
          "name": "stdout",
          "text": [
            "Saving round 18 aggregated_parameters...\n"
          ]
        },
        {
          "output_type": "stream",
          "name": "stderr",
          "text": [
            "\u001b[92mINFO \u001b[0m:      fit progress: (18, 479.04213094711304, {'accuracy': 11.35}, 1392.8838630280002)\n",
            "INFO:flwr:fit progress: (18, 479.04213094711304, {'accuracy': 11.35}, 1392.8838630280002)\n",
            "\u001b[92mINFO \u001b[0m:      configure_evaluate: strategy sampled 10 clients (out of 33)\n",
            "INFO:flwr:configure_evaluate: strategy sampled 10 clients (out of 33)\n"
          ]
        },
        {
          "output_type": "stream",
          "name": "stdout",
          "text": [
            "GLOBAL TEST\n"
          ]
        },
        {
          "output_type": "stream",
          "name": "stderr",
          "text": [
            "\u001b[92mINFO \u001b[0m:      aggregate_evaluate: received 10 results and 0 failures\n",
            "INFO:flwr:aggregate_evaluate: received 10 results and 0 failures\n",
            "\u001b[92mINFO \u001b[0m:      \n",
            "INFO:flwr:\n",
            "\u001b[92mINFO \u001b[0m:      [ROUND 19]\n",
            "INFO:flwr:[ROUND 19]\n",
            "\u001b[92mINFO \u001b[0m:      configure_fit: strategy sampled 10 clients (out of 33)\n",
            "INFO:flwr:configure_fit: strategy sampled 10 clients (out of 33)\n",
            "\u001b[92mINFO \u001b[0m:      aggregate_fit: received 10 results and 0 failures\n",
            "INFO:flwr:aggregate_fit: received 10 results and 0 failures\n"
          ]
        },
        {
          "output_type": "stream",
          "name": "stdout",
          "text": [
            "Saving round 19 aggregated_parameters...\n"
          ]
        },
        {
          "output_type": "stream",
          "name": "stderr",
          "text": [
            "\u001b[92mINFO \u001b[0m:      fit progress: (19, 479.0065939426422, {'accuracy': 11.35}, 1467.7135402519998)\n",
            "INFO:flwr:fit progress: (19, 479.0065939426422, {'accuracy': 11.35}, 1467.7135402519998)\n",
            "\u001b[92mINFO \u001b[0m:      configure_evaluate: strategy sampled 10 clients (out of 33)\n",
            "INFO:flwr:configure_evaluate: strategy sampled 10 clients (out of 33)\n"
          ]
        },
        {
          "output_type": "stream",
          "name": "stdout",
          "text": [
            "GLOBAL TEST\n"
          ]
        },
        {
          "output_type": "stream",
          "name": "stderr",
          "text": [
            "\u001b[92mINFO \u001b[0m:      aggregate_evaluate: received 10 results and 0 failures\n",
            "INFO:flwr:aggregate_evaluate: received 10 results and 0 failures\n",
            "\u001b[92mINFO \u001b[0m:      \n",
            "INFO:flwr:\n",
            "\u001b[92mINFO \u001b[0m:      [ROUND 20]\n",
            "INFO:flwr:[ROUND 20]\n",
            "\u001b[92mINFO \u001b[0m:      configure_fit: strategy sampled 10 clients (out of 33)\n",
            "INFO:flwr:configure_fit: strategy sampled 10 clients (out of 33)\n",
            "\u001b[92mINFO \u001b[0m:      aggregate_fit: received 10 results and 0 failures\n",
            "INFO:flwr:aggregate_fit: received 10 results and 0 failures\n"
          ]
        },
        {
          "output_type": "stream",
          "name": "stdout",
          "text": [
            "Saving round 20 aggregated_parameters...\n"
          ]
        },
        {
          "output_type": "stream",
          "name": "stderr",
          "text": [
            "\u001b[92mINFO \u001b[0m:      fit progress: (20, 478.96853256225586, {'accuracy': 11.35}, 1543.580305644)\n",
            "INFO:flwr:fit progress: (20, 478.96853256225586, {'accuracy': 11.35}, 1543.580305644)\n",
            "\u001b[92mINFO \u001b[0m:      configure_evaluate: strategy sampled 10 clients (out of 33)\n",
            "INFO:flwr:configure_evaluate: strategy sampled 10 clients (out of 33)\n"
          ]
        },
        {
          "output_type": "stream",
          "name": "stdout",
          "text": [
            "GLOBAL TEST\n"
          ]
        },
        {
          "output_type": "stream",
          "name": "stderr",
          "text": [
            "\u001b[92mINFO \u001b[0m:      aggregate_evaluate: received 10 results and 0 failures\n",
            "INFO:flwr:aggregate_evaluate: received 10 results and 0 failures\n",
            "\u001b[92mINFO \u001b[0m:      \n",
            "INFO:flwr:\n",
            "\u001b[92mINFO \u001b[0m:      [ROUND 21]\n",
            "INFO:flwr:[ROUND 21]\n",
            "\u001b[92mINFO \u001b[0m:      configure_fit: strategy sampled 10 clients (out of 33)\n",
            "INFO:flwr:configure_fit: strategy sampled 10 clients (out of 33)\n",
            "\u001b[92mINFO \u001b[0m:      aggregate_fit: received 10 results and 0 failures\n",
            "INFO:flwr:aggregate_fit: received 10 results and 0 failures\n"
          ]
        },
        {
          "output_type": "stream",
          "name": "stdout",
          "text": [
            "Saving round 21 aggregated_parameters...\n"
          ]
        },
        {
          "output_type": "stream",
          "name": "stderr",
          "text": [
            "\u001b[92mINFO \u001b[0m:      fit progress: (21, 478.92860102653503, {'accuracy': 11.35}, 1620.351099556)\n",
            "INFO:flwr:fit progress: (21, 478.92860102653503, {'accuracy': 11.35}, 1620.351099556)\n",
            "\u001b[92mINFO \u001b[0m:      configure_evaluate: strategy sampled 10 clients (out of 33)\n",
            "INFO:flwr:configure_evaluate: strategy sampled 10 clients (out of 33)\n"
          ]
        },
        {
          "output_type": "stream",
          "name": "stdout",
          "text": [
            "GLOBAL TEST\n"
          ]
        },
        {
          "output_type": "stream",
          "name": "stderr",
          "text": [
            "\u001b[92mINFO \u001b[0m:      aggregate_evaluate: received 10 results and 0 failures\n",
            "INFO:flwr:aggregate_evaluate: received 10 results and 0 failures\n",
            "\u001b[92mINFO \u001b[0m:      \n",
            "INFO:flwr:\n",
            "\u001b[92mINFO \u001b[0m:      [ROUND 22]\n",
            "INFO:flwr:[ROUND 22]\n",
            "\u001b[92mINFO \u001b[0m:      configure_fit: strategy sampled 10 clients (out of 33)\n",
            "INFO:flwr:configure_fit: strategy sampled 10 clients (out of 33)\n",
            "\u001b[92mINFO \u001b[0m:      aggregate_fit: received 10 results and 0 failures\n",
            "INFO:flwr:aggregate_fit: received 10 results and 0 failures\n"
          ]
        },
        {
          "output_type": "stream",
          "name": "stdout",
          "text": [
            "Saving round 22 aggregated_parameters...\n"
          ]
        },
        {
          "output_type": "stream",
          "name": "stderr",
          "text": [
            "\u001b[92mINFO \u001b[0m:      fit progress: (22, 478.8854823112488, {'accuracy': 11.35}, 1695.8780109680001)\n",
            "INFO:flwr:fit progress: (22, 478.8854823112488, {'accuracy': 11.35}, 1695.8780109680001)\n",
            "\u001b[92mINFO \u001b[0m:      configure_evaluate: strategy sampled 10 clients (out of 33)\n",
            "INFO:flwr:configure_evaluate: strategy sampled 10 clients (out of 33)\n"
          ]
        },
        {
          "output_type": "stream",
          "name": "stdout",
          "text": [
            "GLOBAL TEST\n"
          ]
        },
        {
          "output_type": "stream",
          "name": "stderr",
          "text": [
            "\u001b[92mINFO \u001b[0m:      aggregate_evaluate: received 10 results and 0 failures\n",
            "INFO:flwr:aggregate_evaluate: received 10 results and 0 failures\n",
            "\u001b[92mINFO \u001b[0m:      \n",
            "INFO:flwr:\n",
            "\u001b[92mINFO \u001b[0m:      [ROUND 23]\n",
            "INFO:flwr:[ROUND 23]\n",
            "\u001b[92mINFO \u001b[0m:      configure_fit: strategy sampled 10 clients (out of 33)\n",
            "INFO:flwr:configure_fit: strategy sampled 10 clients (out of 33)\n",
            "\u001b[92mINFO \u001b[0m:      aggregate_fit: received 10 results and 0 failures\n",
            "INFO:flwr:aggregate_fit: received 10 results and 0 failures\n"
          ]
        },
        {
          "output_type": "stream",
          "name": "stdout",
          "text": [
            "Saving round 23 aggregated_parameters...\n"
          ]
        },
        {
          "output_type": "stream",
          "name": "stderr",
          "text": [
            "\u001b[92mINFO \u001b[0m:      fit progress: (23, 478.8392400741577, {'accuracy': 11.35}, 1772.5773367759998)\n",
            "INFO:flwr:fit progress: (23, 478.8392400741577, {'accuracy': 11.35}, 1772.5773367759998)\n",
            "\u001b[92mINFO \u001b[0m:      configure_evaluate: strategy sampled 10 clients (out of 33)\n",
            "INFO:flwr:configure_evaluate: strategy sampled 10 clients (out of 33)\n"
          ]
        },
        {
          "output_type": "stream",
          "name": "stdout",
          "text": [
            "GLOBAL TEST\n"
          ]
        },
        {
          "output_type": "stream",
          "name": "stderr",
          "text": [
            "\u001b[92mINFO \u001b[0m:      aggregate_evaluate: received 10 results and 0 failures\n",
            "INFO:flwr:aggregate_evaluate: received 10 results and 0 failures\n",
            "\u001b[92mINFO \u001b[0m:      \n",
            "INFO:flwr:\n",
            "\u001b[92mINFO \u001b[0m:      [ROUND 24]\n",
            "INFO:flwr:[ROUND 24]\n",
            "\u001b[92mINFO \u001b[0m:      configure_fit: strategy sampled 10 clients (out of 33)\n",
            "INFO:flwr:configure_fit: strategy sampled 10 clients (out of 33)\n",
            "\u001b[92mINFO \u001b[0m:      aggregate_fit: received 10 results and 0 failures\n",
            "INFO:flwr:aggregate_fit: received 10 results and 0 failures\n"
          ]
        },
        {
          "output_type": "stream",
          "name": "stdout",
          "text": [
            "Saving round 24 aggregated_parameters...\n"
          ]
        },
        {
          "output_type": "stream",
          "name": "stderr",
          "text": [
            "\u001b[92mINFO \u001b[0m:      fit progress: (24, 478.78946900367737, {'accuracy': 11.35}, 1849.0249813669998)\n",
            "INFO:flwr:fit progress: (24, 478.78946900367737, {'accuracy': 11.35}, 1849.0249813669998)\n",
            "\u001b[92mINFO \u001b[0m:      configure_evaluate: strategy sampled 10 clients (out of 33)\n",
            "INFO:flwr:configure_evaluate: strategy sampled 10 clients (out of 33)\n"
          ]
        },
        {
          "output_type": "stream",
          "name": "stdout",
          "text": [
            "GLOBAL TEST\n"
          ]
        },
        {
          "output_type": "stream",
          "name": "stderr",
          "text": [
            "\u001b[92mINFO \u001b[0m:      aggregate_evaluate: received 10 results and 0 failures\n",
            "INFO:flwr:aggregate_evaluate: received 10 results and 0 failures\n",
            "\u001b[92mINFO \u001b[0m:      \n",
            "INFO:flwr:\n",
            "\u001b[92mINFO \u001b[0m:      [ROUND 25]\n",
            "INFO:flwr:[ROUND 25]\n",
            "\u001b[92mINFO \u001b[0m:      configure_fit: strategy sampled 10 clients (out of 33)\n",
            "INFO:flwr:configure_fit: strategy sampled 10 clients (out of 33)\n",
            "\u001b[92mINFO \u001b[0m:      aggregate_fit: received 10 results and 0 failures\n",
            "INFO:flwr:aggregate_fit: received 10 results and 0 failures\n"
          ]
        },
        {
          "output_type": "stream",
          "name": "stdout",
          "text": [
            "Saving round 25 aggregated_parameters...\n"
          ]
        },
        {
          "output_type": "stream",
          "name": "stderr",
          "text": [
            "\u001b[92mINFO \u001b[0m:      fit progress: (25, 478.7336504459381, {'accuracy': 11.35}, 1925.247703652)\n",
            "INFO:flwr:fit progress: (25, 478.7336504459381, {'accuracy': 11.35}, 1925.247703652)\n",
            "\u001b[92mINFO \u001b[0m:      configure_evaluate: strategy sampled 10 clients (out of 33)\n",
            "INFO:flwr:configure_evaluate: strategy sampled 10 clients (out of 33)\n"
          ]
        },
        {
          "output_type": "stream",
          "name": "stdout",
          "text": [
            "GLOBAL TEST\n"
          ]
        },
        {
          "output_type": "stream",
          "name": "stderr",
          "text": [
            "\u001b[92mINFO \u001b[0m:      aggregate_evaluate: received 10 results and 0 failures\n",
            "INFO:flwr:aggregate_evaluate: received 10 results and 0 failures\n",
            "\u001b[92mINFO \u001b[0m:      \n",
            "INFO:flwr:\n",
            "\u001b[92mINFO \u001b[0m:      [ROUND 26]\n",
            "INFO:flwr:[ROUND 26]\n",
            "\u001b[92mINFO \u001b[0m:      configure_fit: strategy sampled 10 clients (out of 33)\n",
            "INFO:flwr:configure_fit: strategy sampled 10 clients (out of 33)\n",
            "\u001b[92mINFO \u001b[0m:      aggregate_fit: received 10 results and 0 failures\n",
            "INFO:flwr:aggregate_fit: received 10 results and 0 failures\n"
          ]
        },
        {
          "output_type": "stream",
          "name": "stdout",
          "text": [
            "Saving round 26 aggregated_parameters...\n"
          ]
        },
        {
          "output_type": "stream",
          "name": "stderr",
          "text": [
            "\u001b[92mINFO \u001b[0m:      fit progress: (26, 478.6695284843445, {'accuracy': 11.35}, 2000.1114049520002)\n",
            "INFO:flwr:fit progress: (26, 478.6695284843445, {'accuracy': 11.35}, 2000.1114049520002)\n",
            "\u001b[92mINFO \u001b[0m:      configure_evaluate: strategy sampled 10 clients (out of 33)\n",
            "INFO:flwr:configure_evaluate: strategy sampled 10 clients (out of 33)\n"
          ]
        },
        {
          "output_type": "stream",
          "name": "stdout",
          "text": [
            "GLOBAL TEST\n"
          ]
        },
        {
          "output_type": "stream",
          "name": "stderr",
          "text": [
            "\u001b[92mINFO \u001b[0m:      aggregate_evaluate: received 10 results and 0 failures\n",
            "INFO:flwr:aggregate_evaluate: received 10 results and 0 failures\n",
            "\u001b[92mINFO \u001b[0m:      \n",
            "INFO:flwr:\n",
            "\u001b[92mINFO \u001b[0m:      [ROUND 27]\n",
            "INFO:flwr:[ROUND 27]\n",
            "\u001b[92mINFO \u001b[0m:      configure_fit: strategy sampled 10 clients (out of 33)\n",
            "INFO:flwr:configure_fit: strategy sampled 10 clients (out of 33)\n",
            "\u001b[92mINFO \u001b[0m:      aggregate_fit: received 10 results and 0 failures\n",
            "INFO:flwr:aggregate_fit: received 10 results and 0 failures\n"
          ]
        },
        {
          "output_type": "stream",
          "name": "stdout",
          "text": [
            "Saving round 27 aggregated_parameters...\n"
          ]
        },
        {
          "output_type": "stream",
          "name": "stderr",
          "text": [
            "\u001b[92mINFO \u001b[0m:      fit progress: (27, 478.59245896339417, {'accuracy': 11.35}, 2077.091795014)\n",
            "INFO:flwr:fit progress: (27, 478.59245896339417, {'accuracy': 11.35}, 2077.091795014)\n",
            "\u001b[92mINFO \u001b[0m:      configure_evaluate: strategy sampled 10 clients (out of 33)\n",
            "INFO:flwr:configure_evaluate: strategy sampled 10 clients (out of 33)\n"
          ]
        },
        {
          "output_type": "stream",
          "name": "stdout",
          "text": [
            "GLOBAL TEST\n"
          ]
        },
        {
          "output_type": "stream",
          "name": "stderr",
          "text": [
            "\u001b[92mINFO \u001b[0m:      aggregate_evaluate: received 10 results and 0 failures\n",
            "INFO:flwr:aggregate_evaluate: received 10 results and 0 failures\n",
            "\u001b[92mINFO \u001b[0m:      \n",
            "INFO:flwr:\n",
            "\u001b[92mINFO \u001b[0m:      [ROUND 28]\n",
            "INFO:flwr:[ROUND 28]\n",
            "\u001b[92mINFO \u001b[0m:      configure_fit: strategy sampled 10 clients (out of 33)\n",
            "INFO:flwr:configure_fit: strategy sampled 10 clients (out of 33)\n",
            "\u001b[92mINFO \u001b[0m:      aggregate_fit: received 10 results and 0 failures\n",
            "INFO:flwr:aggregate_fit: received 10 results and 0 failures\n"
          ]
        },
        {
          "output_type": "stream",
          "name": "stdout",
          "text": [
            "Saving round 28 aggregated_parameters...\n"
          ]
        },
        {
          "output_type": "stream",
          "name": "stderr",
          "text": [
            "\u001b[92mINFO \u001b[0m:      fit progress: (28, 478.49867844581604, {'accuracy': 11.35}, 2154.028293488)\n",
            "INFO:flwr:fit progress: (28, 478.49867844581604, {'accuracy': 11.35}, 2154.028293488)\n",
            "\u001b[92mINFO \u001b[0m:      configure_evaluate: strategy sampled 10 clients (out of 33)\n",
            "INFO:flwr:configure_evaluate: strategy sampled 10 clients (out of 33)\n"
          ]
        },
        {
          "output_type": "stream",
          "name": "stdout",
          "text": [
            "GLOBAL TEST\n"
          ]
        },
        {
          "output_type": "stream",
          "name": "stderr",
          "text": [
            "\u001b[92mINFO \u001b[0m:      aggregate_evaluate: received 10 results and 0 failures\n",
            "INFO:flwr:aggregate_evaluate: received 10 results and 0 failures\n",
            "\u001b[92mINFO \u001b[0m:      \n",
            "INFO:flwr:\n",
            "\u001b[92mINFO \u001b[0m:      [ROUND 29]\n",
            "INFO:flwr:[ROUND 29]\n",
            "\u001b[92mINFO \u001b[0m:      configure_fit: strategy sampled 10 clients (out of 33)\n",
            "INFO:flwr:configure_fit: strategy sampled 10 clients (out of 33)\n",
            "\u001b[92mINFO \u001b[0m:      aggregate_fit: received 10 results and 0 failures\n",
            "INFO:flwr:aggregate_fit: received 10 results and 0 failures\n"
          ]
        },
        {
          "output_type": "stream",
          "name": "stdout",
          "text": [
            "Saving round 29 aggregated_parameters...\n"
          ]
        },
        {
          "output_type": "stream",
          "name": "stderr",
          "text": [
            "\u001b[92mINFO \u001b[0m:      fit progress: (29, 478.37889981269836, {'accuracy': 11.35}, 2229.180050069)\n",
            "INFO:flwr:fit progress: (29, 478.37889981269836, {'accuracy': 11.35}, 2229.180050069)\n",
            "\u001b[92mINFO \u001b[0m:      configure_evaluate: strategy sampled 10 clients (out of 33)\n",
            "INFO:flwr:configure_evaluate: strategy sampled 10 clients (out of 33)\n"
          ]
        },
        {
          "output_type": "stream",
          "name": "stdout",
          "text": [
            "GLOBAL TEST\n"
          ]
        },
        {
          "output_type": "stream",
          "name": "stderr",
          "text": [
            "\u001b[92mINFO \u001b[0m:      aggregate_evaluate: received 10 results and 0 failures\n",
            "INFO:flwr:aggregate_evaluate: received 10 results and 0 failures\n",
            "\u001b[92mINFO \u001b[0m:      \n",
            "INFO:flwr:\n",
            "\u001b[92mINFO \u001b[0m:      [ROUND 30]\n",
            "INFO:flwr:[ROUND 30]\n",
            "\u001b[92mINFO \u001b[0m:      configure_fit: strategy sampled 10 clients (out of 33)\n",
            "INFO:flwr:configure_fit: strategy sampled 10 clients (out of 33)\n",
            "\u001b[92mINFO \u001b[0m:      aggregate_fit: received 10 results and 0 failures\n",
            "INFO:flwr:aggregate_fit: received 10 results and 0 failures\n"
          ]
        },
        {
          "output_type": "stream",
          "name": "stdout",
          "text": [
            "Saving round 30 aggregated_parameters...\n"
          ]
        },
        {
          "output_type": "stream",
          "name": "stderr",
          "text": [
            "\u001b[92mINFO \u001b[0m:      fit progress: (30, 478.21340131759644, {'accuracy': 11.35}, 2306.136986758)\n",
            "INFO:flwr:fit progress: (30, 478.21340131759644, {'accuracy': 11.35}, 2306.136986758)\n",
            "\u001b[92mINFO \u001b[0m:      configure_evaluate: strategy sampled 10 clients (out of 33)\n",
            "INFO:flwr:configure_evaluate: strategy sampled 10 clients (out of 33)\n"
          ]
        },
        {
          "output_type": "stream",
          "name": "stdout",
          "text": [
            "GLOBAL TEST\n"
          ]
        },
        {
          "output_type": "stream",
          "name": "stderr",
          "text": [
            "\u001b[92mINFO \u001b[0m:      aggregate_evaluate: received 10 results and 0 failures\n",
            "INFO:flwr:aggregate_evaluate: received 10 results and 0 failures\n",
            "\u001b[92mINFO \u001b[0m:      \n",
            "INFO:flwr:\n",
            "\u001b[92mINFO \u001b[0m:      [ROUND 31]\n",
            "INFO:flwr:[ROUND 31]\n",
            "\u001b[92mINFO \u001b[0m:      configure_fit: strategy sampled 10 clients (out of 33)\n",
            "INFO:flwr:configure_fit: strategy sampled 10 clients (out of 33)\n",
            "\u001b[92mINFO \u001b[0m:      aggregate_fit: received 10 results and 0 failures\n",
            "INFO:flwr:aggregate_fit: received 10 results and 0 failures\n"
          ]
        },
        {
          "output_type": "stream",
          "name": "stdout",
          "text": [
            "Saving round 31 aggregated_parameters...\n"
          ]
        },
        {
          "output_type": "stream",
          "name": "stderr",
          "text": [
            "\u001b[92mINFO \u001b[0m:      fit progress: (31, 477.96457862854004, {'accuracy': 11.35}, 2384.397234348)\n",
            "INFO:flwr:fit progress: (31, 477.96457862854004, {'accuracy': 11.35}, 2384.397234348)\n",
            "\u001b[92mINFO \u001b[0m:      configure_evaluate: strategy sampled 10 clients (out of 33)\n",
            "INFO:flwr:configure_evaluate: strategy sampled 10 clients (out of 33)\n"
          ]
        },
        {
          "output_type": "stream",
          "name": "stdout",
          "text": [
            "GLOBAL TEST\n"
          ]
        },
        {
          "output_type": "stream",
          "name": "stderr",
          "text": [
            "\u001b[92mINFO \u001b[0m:      aggregate_evaluate: received 10 results and 0 failures\n",
            "INFO:flwr:aggregate_evaluate: received 10 results and 0 failures\n",
            "\u001b[92mINFO \u001b[0m:      \n",
            "INFO:flwr:\n",
            "\u001b[92mINFO \u001b[0m:      [ROUND 32]\n",
            "INFO:flwr:[ROUND 32]\n",
            "\u001b[92mINFO \u001b[0m:      configure_fit: strategy sampled 10 clients (out of 33)\n",
            "INFO:flwr:configure_fit: strategy sampled 10 clients (out of 33)\n",
            "\u001b[92mINFO \u001b[0m:      aggregate_fit: received 10 results and 0 failures\n",
            "INFO:flwr:aggregate_fit: received 10 results and 0 failures\n"
          ]
        },
        {
          "output_type": "stream",
          "name": "stdout",
          "text": [
            "Saving round 32 aggregated_parameters...\n"
          ]
        },
        {
          "output_type": "stream",
          "name": "stderr",
          "text": [
            "\u001b[92mINFO \u001b[0m:      fit progress: (32, 477.52374291419983, {'accuracy': 11.35}, 2459.936423021)\n",
            "INFO:flwr:fit progress: (32, 477.52374291419983, {'accuracy': 11.35}, 2459.936423021)\n",
            "\u001b[92mINFO \u001b[0m:      configure_evaluate: strategy sampled 10 clients (out of 33)\n",
            "INFO:flwr:configure_evaluate: strategy sampled 10 clients (out of 33)\n"
          ]
        },
        {
          "output_type": "stream",
          "name": "stdout",
          "text": [
            "GLOBAL TEST\n"
          ]
        },
        {
          "output_type": "stream",
          "name": "stderr",
          "text": [
            "\u001b[92mINFO \u001b[0m:      aggregate_evaluate: received 10 results and 0 failures\n",
            "INFO:flwr:aggregate_evaluate: received 10 results and 0 failures\n",
            "\u001b[92mINFO \u001b[0m:      \n",
            "INFO:flwr:\n",
            "\u001b[92mINFO \u001b[0m:      [ROUND 33]\n",
            "INFO:flwr:[ROUND 33]\n",
            "\u001b[92mINFO \u001b[0m:      configure_fit: strategy sampled 10 clients (out of 33)\n",
            "INFO:flwr:configure_fit: strategy sampled 10 clients (out of 33)\n",
            "\u001b[92mINFO \u001b[0m:      aggregate_fit: received 10 results and 0 failures\n",
            "INFO:flwr:aggregate_fit: received 10 results and 0 failures\n"
          ]
        },
        {
          "output_type": "stream",
          "name": "stdout",
          "text": [
            "Saving round 33 aggregated_parameters...\n"
          ]
        },
        {
          "output_type": "stream",
          "name": "stderr",
          "text": [
            "\u001b[92mINFO \u001b[0m:      fit progress: (33, 476.6377794742584, {'accuracy': 11.35}, 2537.281336645)\n",
            "INFO:flwr:fit progress: (33, 476.6377794742584, {'accuracy': 11.35}, 2537.281336645)\n",
            "\u001b[92mINFO \u001b[0m:      configure_evaluate: strategy sampled 10 clients (out of 33)\n",
            "INFO:flwr:configure_evaluate: strategy sampled 10 clients (out of 33)\n"
          ]
        },
        {
          "output_type": "stream",
          "name": "stdout",
          "text": [
            "GLOBAL TEST\n"
          ]
        },
        {
          "output_type": "stream",
          "name": "stderr",
          "text": [
            "\u001b[92mINFO \u001b[0m:      aggregate_evaluate: received 10 results and 0 failures\n",
            "INFO:flwr:aggregate_evaluate: received 10 results and 0 failures\n",
            "\u001b[92mINFO \u001b[0m:      \n",
            "INFO:flwr:\n",
            "\u001b[92mINFO \u001b[0m:      [ROUND 34]\n",
            "INFO:flwr:[ROUND 34]\n",
            "\u001b[92mINFO \u001b[0m:      configure_fit: strategy sampled 10 clients (out of 33)\n",
            "INFO:flwr:configure_fit: strategy sampled 10 clients (out of 33)\n",
            "\u001b[92mINFO \u001b[0m:      aggregate_fit: received 10 results and 0 failures\n",
            "INFO:flwr:aggregate_fit: received 10 results and 0 failures\n"
          ]
        },
        {
          "output_type": "stream",
          "name": "stdout",
          "text": [
            "Saving round 34 aggregated_parameters...\n"
          ]
        },
        {
          "output_type": "stream",
          "name": "stderr",
          "text": [
            "\u001b[92mINFO \u001b[0m:      fit progress: (34, 476.32636976242065, {'accuracy': 11.35}, 2612.937013514)\n",
            "INFO:flwr:fit progress: (34, 476.32636976242065, {'accuracy': 11.35}, 2612.937013514)\n",
            "\u001b[92mINFO \u001b[0m:      configure_evaluate: strategy sampled 10 clients (out of 33)\n",
            "INFO:flwr:configure_evaluate: strategy sampled 10 clients (out of 33)\n"
          ]
        },
        {
          "output_type": "stream",
          "name": "stdout",
          "text": [
            "GLOBAL TEST\n"
          ]
        },
        {
          "output_type": "stream",
          "name": "stderr",
          "text": [
            "\u001b[92mINFO \u001b[0m:      aggregate_evaluate: received 10 results and 0 failures\n",
            "INFO:flwr:aggregate_evaluate: received 10 results and 0 failures\n",
            "\u001b[92mINFO \u001b[0m:      \n",
            "INFO:flwr:\n",
            "\u001b[92mINFO \u001b[0m:      [ROUND 35]\n",
            "INFO:flwr:[ROUND 35]\n",
            "\u001b[92mINFO \u001b[0m:      configure_fit: strategy sampled 10 clients (out of 33)\n",
            "INFO:flwr:configure_fit: strategy sampled 10 clients (out of 33)\n",
            "\u001b[92mINFO \u001b[0m:      aggregate_fit: received 10 results and 0 failures\n",
            "INFO:flwr:aggregate_fit: received 10 results and 0 failures\n"
          ]
        },
        {
          "output_type": "stream",
          "name": "stdout",
          "text": [
            "Saving round 35 aggregated_parameters...\n"
          ]
        },
        {
          "output_type": "stream",
          "name": "stderr",
          "text": [
            "\u001b[92mINFO \u001b[0m:      fit progress: (35, 476.1094617843628, {'accuracy': 11.35}, 2689.541557021)\n",
            "INFO:flwr:fit progress: (35, 476.1094617843628, {'accuracy': 11.35}, 2689.541557021)\n",
            "\u001b[92mINFO \u001b[0m:      configure_evaluate: strategy sampled 10 clients (out of 33)\n",
            "INFO:flwr:configure_evaluate: strategy sampled 10 clients (out of 33)\n"
          ]
        },
        {
          "output_type": "stream",
          "name": "stdout",
          "text": [
            "GLOBAL TEST\n"
          ]
        },
        {
          "output_type": "stream",
          "name": "stderr",
          "text": [
            "\u001b[92mINFO \u001b[0m:      aggregate_evaluate: received 10 results and 0 failures\n",
            "INFO:flwr:aggregate_evaluate: received 10 results and 0 failures\n",
            "\u001b[92mINFO \u001b[0m:      \n",
            "INFO:flwr:\n",
            "\u001b[92mINFO \u001b[0m:      [ROUND 36]\n",
            "INFO:flwr:[ROUND 36]\n",
            "\u001b[92mINFO \u001b[0m:      configure_fit: strategy sampled 10 clients (out of 33)\n",
            "INFO:flwr:configure_fit: strategy sampled 10 clients (out of 33)\n",
            "\u001b[92mINFO \u001b[0m:      aggregate_fit: received 10 results and 0 failures\n",
            "INFO:flwr:aggregate_fit: received 10 results and 0 failures\n"
          ]
        },
        {
          "output_type": "stream",
          "name": "stdout",
          "text": [
            "Saving round 36 aggregated_parameters...\n"
          ]
        },
        {
          "output_type": "stream",
          "name": "stderr",
          "text": [
            "\u001b[92mINFO \u001b[0m:      fit progress: (36, 475.867591381073, {'accuracy': 11.35}, 2765.206119164)\n",
            "INFO:flwr:fit progress: (36, 475.867591381073, {'accuracy': 11.35}, 2765.206119164)\n",
            "\u001b[92mINFO \u001b[0m:      configure_evaluate: strategy sampled 10 clients (out of 33)\n",
            "INFO:flwr:configure_evaluate: strategy sampled 10 clients (out of 33)\n"
          ]
        },
        {
          "output_type": "stream",
          "name": "stdout",
          "text": [
            "GLOBAL TEST\n"
          ]
        },
        {
          "output_type": "stream",
          "name": "stderr",
          "text": [
            "\u001b[92mINFO \u001b[0m:      aggregate_evaluate: received 10 results and 0 failures\n",
            "INFO:flwr:aggregate_evaluate: received 10 results and 0 failures\n",
            "\u001b[92mINFO \u001b[0m:      \n",
            "INFO:flwr:\n",
            "\u001b[92mINFO \u001b[0m:      [ROUND 37]\n",
            "INFO:flwr:[ROUND 37]\n",
            "\u001b[92mINFO \u001b[0m:      configure_fit: strategy sampled 10 clients (out of 33)\n",
            "INFO:flwr:configure_fit: strategy sampled 10 clients (out of 33)\n",
            "\u001b[92mINFO \u001b[0m:      aggregate_fit: received 10 results and 0 failures\n",
            "INFO:flwr:aggregate_fit: received 10 results and 0 failures\n"
          ]
        },
        {
          "output_type": "stream",
          "name": "stdout",
          "text": [
            "Saving round 37 aggregated_parameters...\n"
          ]
        },
        {
          "output_type": "stream",
          "name": "stderr",
          "text": [
            "\u001b[92mINFO \u001b[0m:      fit progress: (37, 475.56298446655273, {'accuracy': 11.35}, 2842.913117549)\n",
            "INFO:flwr:fit progress: (37, 475.56298446655273, {'accuracy': 11.35}, 2842.913117549)\n",
            "\u001b[92mINFO \u001b[0m:      configure_evaluate: strategy sampled 10 clients (out of 33)\n",
            "INFO:flwr:configure_evaluate: strategy sampled 10 clients (out of 33)\n"
          ]
        },
        {
          "output_type": "stream",
          "name": "stdout",
          "text": [
            "GLOBAL TEST\n"
          ]
        },
        {
          "output_type": "stream",
          "name": "stderr",
          "text": [
            "\u001b[92mINFO \u001b[0m:      aggregate_evaluate: received 10 results and 0 failures\n",
            "INFO:flwr:aggregate_evaluate: received 10 results and 0 failures\n",
            "\u001b[92mINFO \u001b[0m:      \n",
            "INFO:flwr:\n",
            "\u001b[92mINFO \u001b[0m:      [ROUND 38]\n",
            "INFO:flwr:[ROUND 38]\n",
            "\u001b[92mINFO \u001b[0m:      configure_fit: strategy sampled 10 clients (out of 33)\n",
            "INFO:flwr:configure_fit: strategy sampled 10 clients (out of 33)\n",
            "\u001b[92mINFO \u001b[0m:      aggregate_fit: received 10 results and 0 failures\n",
            "INFO:flwr:aggregate_fit: received 10 results and 0 failures\n"
          ]
        },
        {
          "output_type": "stream",
          "name": "stdout",
          "text": [
            "Saving round 38 aggregated_parameters...\n"
          ]
        },
        {
          "output_type": "stream",
          "name": "stderr",
          "text": [
            "\u001b[92mINFO \u001b[0m:      fit progress: (38, 475.16451358795166, {'accuracy': 11.35}, 2919.209166888)\n",
            "INFO:flwr:fit progress: (38, 475.16451358795166, {'accuracy': 11.35}, 2919.209166888)\n",
            "\u001b[92mINFO \u001b[0m:      configure_evaluate: strategy sampled 10 clients (out of 33)\n",
            "INFO:flwr:configure_evaluate: strategy sampled 10 clients (out of 33)\n"
          ]
        },
        {
          "output_type": "stream",
          "name": "stdout",
          "text": [
            "GLOBAL TEST\n"
          ]
        },
        {
          "output_type": "stream",
          "name": "stderr",
          "text": [
            "\u001b[92mINFO \u001b[0m:      aggregate_evaluate: received 10 results and 0 failures\n",
            "INFO:flwr:aggregate_evaluate: received 10 results and 0 failures\n",
            "\u001b[92mINFO \u001b[0m:      \n",
            "INFO:flwr:\n",
            "\u001b[92mINFO \u001b[0m:      [ROUND 39]\n",
            "INFO:flwr:[ROUND 39]\n",
            "\u001b[92mINFO \u001b[0m:      configure_fit: strategy sampled 10 clients (out of 33)\n",
            "INFO:flwr:configure_fit: strategy sampled 10 clients (out of 33)\n",
            "\u001b[92mINFO \u001b[0m:      aggregate_fit: received 10 results and 0 failures\n",
            "INFO:flwr:aggregate_fit: received 10 results and 0 failures\n"
          ]
        },
        {
          "output_type": "stream",
          "name": "stdout",
          "text": [
            "Saving round 39 aggregated_parameters...\n"
          ]
        },
        {
          "output_type": "stream",
          "name": "stderr",
          "text": [
            "\u001b[92mINFO \u001b[0m:      fit progress: (39, 474.63621973991394, {'accuracy': 11.35}, 2996.821577266)\n",
            "INFO:flwr:fit progress: (39, 474.63621973991394, {'accuracy': 11.35}, 2996.821577266)\n",
            "\u001b[92mINFO \u001b[0m:      configure_evaluate: strategy sampled 10 clients (out of 33)\n",
            "INFO:flwr:configure_evaluate: strategy sampled 10 clients (out of 33)\n"
          ]
        },
        {
          "output_type": "stream",
          "name": "stdout",
          "text": [
            "GLOBAL TEST\n"
          ]
        },
        {
          "output_type": "stream",
          "name": "stderr",
          "text": [
            "\u001b[92mINFO \u001b[0m:      aggregate_evaluate: received 10 results and 0 failures\n",
            "INFO:flwr:aggregate_evaluate: received 10 results and 0 failures\n",
            "\u001b[92mINFO \u001b[0m:      \n",
            "INFO:flwr:\n",
            "\u001b[92mINFO \u001b[0m:      [ROUND 40]\n",
            "INFO:flwr:[ROUND 40]\n",
            "\u001b[92mINFO \u001b[0m:      configure_fit: strategy sampled 10 clients (out of 33)\n",
            "INFO:flwr:configure_fit: strategy sampled 10 clients (out of 33)\n",
            "\u001b[92mINFO \u001b[0m:      aggregate_fit: received 10 results and 0 failures\n",
            "INFO:flwr:aggregate_fit: received 10 results and 0 failures\n"
          ]
        },
        {
          "output_type": "stream",
          "name": "stdout",
          "text": [
            "Saving round 40 aggregated_parameters...\n"
          ]
        },
        {
          "output_type": "stream",
          "name": "stderr",
          "text": [
            "\u001b[92mINFO \u001b[0m:      fit progress: (40, 473.7959587574005, {'accuracy': 11.35}, 3075.351082635)\n",
            "INFO:flwr:fit progress: (40, 473.7959587574005, {'accuracy': 11.35}, 3075.351082635)\n",
            "\u001b[92mINFO \u001b[0m:      configure_evaluate: strategy sampled 10 clients (out of 33)\n",
            "INFO:flwr:configure_evaluate: strategy sampled 10 clients (out of 33)\n"
          ]
        },
        {
          "output_type": "stream",
          "name": "stdout",
          "text": [
            "GLOBAL TEST\n"
          ]
        },
        {
          "output_type": "stream",
          "name": "stderr",
          "text": [
            "\u001b[92mINFO \u001b[0m:      aggregate_evaluate: received 10 results and 0 failures\n",
            "INFO:flwr:aggregate_evaluate: received 10 results and 0 failures\n",
            "\u001b[92mINFO \u001b[0m:      \n",
            "INFO:flwr:\n",
            "\u001b[92mINFO \u001b[0m:      [ROUND 41]\n",
            "INFO:flwr:[ROUND 41]\n",
            "\u001b[92mINFO \u001b[0m:      configure_fit: strategy sampled 10 clients (out of 33)\n",
            "INFO:flwr:configure_fit: strategy sampled 10 clients (out of 33)\n",
            "\u001b[92mINFO \u001b[0m:      aggregate_fit: received 10 results and 0 failures\n",
            "INFO:flwr:aggregate_fit: received 10 results and 0 failures\n"
          ]
        },
        {
          "output_type": "stream",
          "name": "stdout",
          "text": [
            "Saving round 41 aggregated_parameters...\n"
          ]
        },
        {
          "output_type": "stream",
          "name": "stderr",
          "text": [
            "\u001b[92mINFO \u001b[0m:      fit progress: (41, 472.15131521224976, {'accuracy': 11.35}, 3150.490509641)\n",
            "INFO:flwr:fit progress: (41, 472.15131521224976, {'accuracy': 11.35}, 3150.490509641)\n",
            "\u001b[92mINFO \u001b[0m:      configure_evaluate: strategy sampled 10 clients (out of 33)\n",
            "INFO:flwr:configure_evaluate: strategy sampled 10 clients (out of 33)\n"
          ]
        },
        {
          "output_type": "stream",
          "name": "stdout",
          "text": [
            "GLOBAL TEST\n"
          ]
        },
        {
          "output_type": "stream",
          "name": "stderr",
          "text": [
            "\u001b[92mINFO \u001b[0m:      aggregate_evaluate: received 10 results and 0 failures\n",
            "INFO:flwr:aggregate_evaluate: received 10 results and 0 failures\n",
            "\u001b[92mINFO \u001b[0m:      \n",
            "INFO:flwr:\n",
            "\u001b[92mINFO \u001b[0m:      [ROUND 42]\n",
            "INFO:flwr:[ROUND 42]\n",
            "\u001b[92mINFO \u001b[0m:      configure_fit: strategy sampled 10 clients (out of 33)\n",
            "INFO:flwr:configure_fit: strategy sampled 10 clients (out of 33)\n",
            "\u001b[92mINFO \u001b[0m:      aggregate_fit: received 10 results and 0 failures\n",
            "INFO:flwr:aggregate_fit: received 10 results and 0 failures\n"
          ]
        },
        {
          "output_type": "stream",
          "name": "stdout",
          "text": [
            "Saving round 42 aggregated_parameters...\n"
          ]
        },
        {
          "output_type": "stream",
          "name": "stderr",
          "text": [
            "\u001b[92mINFO \u001b[0m:      fit progress: (42, 469.1255087852478, {'accuracy': 17.23}, 3225.958243181)\n",
            "INFO:flwr:fit progress: (42, 469.1255087852478, {'accuracy': 17.23}, 3225.958243181)\n",
            "\u001b[92mINFO \u001b[0m:      configure_evaluate: strategy sampled 10 clients (out of 33)\n",
            "INFO:flwr:configure_evaluate: strategy sampled 10 clients (out of 33)\n"
          ]
        },
        {
          "output_type": "stream",
          "name": "stdout",
          "text": [
            "GLOBAL TEST\n"
          ]
        },
        {
          "output_type": "stream",
          "name": "stderr",
          "text": [
            "\u001b[92mINFO \u001b[0m:      aggregate_evaluate: received 10 results and 0 failures\n",
            "INFO:flwr:aggregate_evaluate: received 10 results and 0 failures\n",
            "\u001b[92mINFO \u001b[0m:      \n",
            "INFO:flwr:\n",
            "\u001b[92mINFO \u001b[0m:      [ROUND 43]\n",
            "INFO:flwr:[ROUND 43]\n",
            "\u001b[92mINFO \u001b[0m:      configure_fit: strategy sampled 10 clients (out of 33)\n",
            "INFO:flwr:configure_fit: strategy sampled 10 clients (out of 33)\n",
            "\u001b[92mINFO \u001b[0m:      aggregate_fit: received 10 results and 0 failures\n",
            "INFO:flwr:aggregate_fit: received 10 results and 0 failures\n"
          ]
        },
        {
          "output_type": "stream",
          "name": "stdout",
          "text": [
            "Saving round 43 aggregated_parameters...\n"
          ]
        },
        {
          "output_type": "stream",
          "name": "stderr",
          "text": [
            "\u001b[92mINFO \u001b[0m:      fit progress: (43, 468.56429386138916, {'accuracy': 34.01}, 3304.5394926120002)\n",
            "INFO:flwr:fit progress: (43, 468.56429386138916, {'accuracy': 34.01}, 3304.5394926120002)\n",
            "\u001b[92mINFO \u001b[0m:      configure_evaluate: strategy sampled 10 clients (out of 33)\n",
            "INFO:flwr:configure_evaluate: strategy sampled 10 clients (out of 33)\n"
          ]
        },
        {
          "output_type": "stream",
          "name": "stdout",
          "text": [
            "GLOBAL TEST\n"
          ]
        },
        {
          "output_type": "stream",
          "name": "stderr",
          "text": [
            "\u001b[92mINFO \u001b[0m:      aggregate_evaluate: received 10 results and 0 failures\n",
            "INFO:flwr:aggregate_evaluate: received 10 results and 0 failures\n",
            "\u001b[92mINFO \u001b[0m:      \n",
            "INFO:flwr:\n",
            "\u001b[92mINFO \u001b[0m:      [ROUND 44]\n",
            "INFO:flwr:[ROUND 44]\n",
            "\u001b[92mINFO \u001b[0m:      configure_fit: strategy sampled 10 clients (out of 33)\n",
            "INFO:flwr:configure_fit: strategy sampled 10 clients (out of 33)\n",
            "\u001b[92mINFO \u001b[0m:      aggregate_fit: received 10 results and 0 failures\n",
            "INFO:flwr:aggregate_fit: received 10 results and 0 failures\n"
          ]
        },
        {
          "output_type": "stream",
          "name": "stdout",
          "text": [
            "Saving round 44 aggregated_parameters...\n"
          ]
        },
        {
          "output_type": "stream",
          "name": "stderr",
          "text": [
            "\u001b[92mINFO \u001b[0m:      fit progress: (44, 462.4634141921997, {'accuracy': 32.04}, 3380.2210186380003)\n",
            "INFO:flwr:fit progress: (44, 462.4634141921997, {'accuracy': 32.04}, 3380.2210186380003)\n",
            "\u001b[92mINFO \u001b[0m:      configure_evaluate: strategy sampled 10 clients (out of 33)\n",
            "INFO:flwr:configure_evaluate: strategy sampled 10 clients (out of 33)\n"
          ]
        },
        {
          "output_type": "stream",
          "name": "stdout",
          "text": [
            "GLOBAL TEST\n"
          ]
        },
        {
          "output_type": "stream",
          "name": "stderr",
          "text": [
            "\u001b[92mINFO \u001b[0m:      aggregate_evaluate: received 10 results and 0 failures\n",
            "INFO:flwr:aggregate_evaluate: received 10 results and 0 failures\n",
            "\u001b[92mINFO \u001b[0m:      \n",
            "INFO:flwr:\n",
            "\u001b[92mINFO \u001b[0m:      [ROUND 45]\n",
            "INFO:flwr:[ROUND 45]\n",
            "\u001b[92mINFO \u001b[0m:      configure_fit: strategy sampled 10 clients (out of 33)\n",
            "INFO:flwr:configure_fit: strategy sampled 10 clients (out of 33)\n",
            "\u001b[92mINFO \u001b[0m:      aggregate_fit: received 10 results and 0 failures\n",
            "INFO:flwr:aggregate_fit: received 10 results and 0 failures\n"
          ]
        },
        {
          "output_type": "stream",
          "name": "stdout",
          "text": [
            "Saving round 45 aggregated_parameters...\n"
          ]
        },
        {
          "output_type": "stream",
          "name": "stderr",
          "text": [
            "\u001b[92mINFO \u001b[0m:      fit progress: (45, 451.6279695034027, {'accuracy': 28.6}, 3455.8050529220004)\n",
            "INFO:flwr:fit progress: (45, 451.6279695034027, {'accuracy': 28.6}, 3455.8050529220004)\n",
            "\u001b[92mINFO \u001b[0m:      configure_evaluate: strategy sampled 10 clients (out of 33)\n",
            "INFO:flwr:configure_evaluate: strategy sampled 10 clients (out of 33)\n"
          ]
        },
        {
          "output_type": "stream",
          "name": "stdout",
          "text": [
            "GLOBAL TEST\n"
          ]
        },
        {
          "output_type": "stream",
          "name": "stderr",
          "text": [
            "\u001b[92mINFO \u001b[0m:      aggregate_evaluate: received 10 results and 0 failures\n",
            "INFO:flwr:aggregate_evaluate: received 10 results and 0 failures\n",
            "\u001b[92mINFO \u001b[0m:      \n",
            "INFO:flwr:\n",
            "\u001b[92mINFO \u001b[0m:      [ROUND 46]\n",
            "INFO:flwr:[ROUND 46]\n",
            "\u001b[92mINFO \u001b[0m:      configure_fit: strategy sampled 10 clients (out of 33)\n",
            "INFO:flwr:configure_fit: strategy sampled 10 clients (out of 33)\n",
            "\u001b[92mINFO \u001b[0m:      aggregate_fit: received 10 results and 0 failures\n",
            "INFO:flwr:aggregate_fit: received 10 results and 0 failures\n"
          ]
        },
        {
          "output_type": "stream",
          "name": "stdout",
          "text": [
            "Saving round 46 aggregated_parameters...\n"
          ]
        },
        {
          "output_type": "stream",
          "name": "stderr",
          "text": [
            "\u001b[92mINFO \u001b[0m:      fit progress: (46, 434.2794632911682, {'accuracy': 42.55}, 3533.9706259319996)\n",
            "INFO:flwr:fit progress: (46, 434.2794632911682, {'accuracy': 42.55}, 3533.9706259319996)\n",
            "\u001b[92mINFO \u001b[0m:      configure_evaluate: strategy sampled 10 clients (out of 33)\n",
            "INFO:flwr:configure_evaluate: strategy sampled 10 clients (out of 33)\n"
          ]
        },
        {
          "output_type": "stream",
          "name": "stdout",
          "text": [
            "GLOBAL TEST\n"
          ]
        },
        {
          "output_type": "stream",
          "name": "stderr",
          "text": [
            "\u001b[92mINFO \u001b[0m:      aggregate_evaluate: received 10 results and 0 failures\n",
            "INFO:flwr:aggregate_evaluate: received 10 results and 0 failures\n",
            "\u001b[92mINFO \u001b[0m:      \n",
            "INFO:flwr:\n",
            "\u001b[92mINFO \u001b[0m:      [ROUND 47]\n",
            "INFO:flwr:[ROUND 47]\n",
            "\u001b[92mINFO \u001b[0m:      configure_fit: strategy sampled 10 clients (out of 33)\n",
            "INFO:flwr:configure_fit: strategy sampled 10 clients (out of 33)\n",
            "\u001b[92mINFO \u001b[0m:      aggregate_fit: received 10 results and 0 failures\n",
            "INFO:flwr:aggregate_fit: received 10 results and 0 failures\n"
          ]
        },
        {
          "output_type": "stream",
          "name": "stdout",
          "text": [
            "Saving round 47 aggregated_parameters...\n"
          ]
        },
        {
          "output_type": "stream",
          "name": "stderr",
          "text": [
            "\u001b[92mINFO \u001b[0m:      fit progress: (47, 417.3931978940964, {'accuracy': 47.17}, 3612.417393944)\n",
            "INFO:flwr:fit progress: (47, 417.3931978940964, {'accuracy': 47.17}, 3612.417393944)\n",
            "\u001b[92mINFO \u001b[0m:      configure_evaluate: strategy sampled 10 clients (out of 33)\n",
            "INFO:flwr:configure_evaluate: strategy sampled 10 clients (out of 33)\n"
          ]
        },
        {
          "output_type": "stream",
          "name": "stdout",
          "text": [
            "GLOBAL TEST\n"
          ]
        },
        {
          "output_type": "stream",
          "name": "stderr",
          "text": [
            "\u001b[92mINFO \u001b[0m:      aggregate_evaluate: received 10 results and 0 failures\n",
            "INFO:flwr:aggregate_evaluate: received 10 results and 0 failures\n",
            "\u001b[92mINFO \u001b[0m:      \n",
            "INFO:flwr:\n",
            "\u001b[92mINFO \u001b[0m:      [ROUND 48]\n",
            "INFO:flwr:[ROUND 48]\n",
            "\u001b[92mINFO \u001b[0m:      configure_fit: strategy sampled 10 clients (out of 33)\n",
            "INFO:flwr:configure_fit: strategy sampled 10 clients (out of 33)\n",
            "\u001b[92mINFO \u001b[0m:      aggregate_fit: received 10 results and 0 failures\n",
            "INFO:flwr:aggregate_fit: received 10 results and 0 failures\n"
          ]
        },
        {
          "output_type": "stream",
          "name": "stdout",
          "text": [
            "Saving round 48 aggregated_parameters...\n"
          ]
        },
        {
          "output_type": "stream",
          "name": "stderr",
          "text": [
            "\u001b[92mINFO \u001b[0m:      fit progress: (48, 404.12290394306183, {'accuracy': 52.43}, 3688.176339905)\n",
            "INFO:flwr:fit progress: (48, 404.12290394306183, {'accuracy': 52.43}, 3688.176339905)\n",
            "\u001b[92mINFO \u001b[0m:      configure_evaluate: strategy sampled 10 clients (out of 33)\n",
            "INFO:flwr:configure_evaluate: strategy sampled 10 clients (out of 33)\n"
          ]
        },
        {
          "output_type": "stream",
          "name": "stdout",
          "text": [
            "GLOBAL TEST\n"
          ]
        },
        {
          "output_type": "stream",
          "name": "stderr",
          "text": [
            "\u001b[92mINFO \u001b[0m:      aggregate_evaluate: received 10 results and 0 failures\n",
            "INFO:flwr:aggregate_evaluate: received 10 results and 0 failures\n",
            "\u001b[92mINFO \u001b[0m:      \n",
            "INFO:flwr:\n",
            "\u001b[92mINFO \u001b[0m:      [ROUND 49]\n",
            "INFO:flwr:[ROUND 49]\n",
            "\u001b[92mINFO \u001b[0m:      configure_fit: strategy sampled 10 clients (out of 33)\n",
            "INFO:flwr:configure_fit: strategy sampled 10 clients (out of 33)\n",
            "\u001b[92mINFO \u001b[0m:      aggregate_fit: received 10 results and 0 failures\n",
            "INFO:flwr:aggregate_fit: received 10 results and 0 failures\n"
          ]
        },
        {
          "output_type": "stream",
          "name": "stdout",
          "text": [
            "Saving round 49 aggregated_parameters...\n"
          ]
        },
        {
          "output_type": "stream",
          "name": "stderr",
          "text": [
            "\u001b[92mINFO \u001b[0m:      fit progress: (49, 395.4922456741333, {'accuracy': 57.02}, 3766.6582337980003)\n",
            "INFO:flwr:fit progress: (49, 395.4922456741333, {'accuracy': 57.02}, 3766.6582337980003)\n",
            "\u001b[92mINFO \u001b[0m:      configure_evaluate: strategy sampled 10 clients (out of 33)\n",
            "INFO:flwr:configure_evaluate: strategy sampled 10 clients (out of 33)\n"
          ]
        },
        {
          "output_type": "stream",
          "name": "stdout",
          "text": [
            "GLOBAL TEST\n"
          ]
        },
        {
          "output_type": "stream",
          "name": "stderr",
          "text": [
            "\u001b[92mINFO \u001b[0m:      aggregate_evaluate: received 10 results and 0 failures\n",
            "INFO:flwr:aggregate_evaluate: received 10 results and 0 failures\n",
            "\u001b[92mINFO \u001b[0m:      \n",
            "INFO:flwr:\n",
            "\u001b[92mINFO \u001b[0m:      [ROUND 50]\n",
            "INFO:flwr:[ROUND 50]\n",
            "\u001b[92mINFO \u001b[0m:      configure_fit: strategy sampled 10 clients (out of 33)\n",
            "INFO:flwr:configure_fit: strategy sampled 10 clients (out of 33)\n",
            "\u001b[92mINFO \u001b[0m:      aggregate_fit: received 10 results and 0 failures\n",
            "INFO:flwr:aggregate_fit: received 10 results and 0 failures\n"
          ]
        },
        {
          "output_type": "stream",
          "name": "stdout",
          "text": [
            "Saving round 50 aggregated_parameters...\n"
          ]
        },
        {
          "output_type": "stream",
          "name": "stderr",
          "text": [
            "\u001b[92mINFO \u001b[0m:      fit progress: (50, 379.12786424160004, {'accuracy': 65.65}, 3842.2443989460003)\n",
            "INFO:flwr:fit progress: (50, 379.12786424160004, {'accuracy': 65.65}, 3842.2443989460003)\n",
            "\u001b[92mINFO \u001b[0m:      configure_evaluate: strategy sampled 10 clients (out of 33)\n",
            "INFO:flwr:configure_evaluate: strategy sampled 10 clients (out of 33)\n"
          ]
        },
        {
          "output_type": "stream",
          "name": "stdout",
          "text": [
            "GLOBAL TEST\n"
          ]
        },
        {
          "output_type": "stream",
          "name": "stderr",
          "text": [
            "\u001b[92mINFO \u001b[0m:      aggregate_evaluate: received 10 results and 0 failures\n",
            "INFO:flwr:aggregate_evaluate: received 10 results and 0 failures\n",
            "\u001b[92mINFO \u001b[0m:      \n",
            "INFO:flwr:\n",
            "\u001b[92mINFO \u001b[0m:      [SUMMARY]\n",
            "INFO:flwr:[SUMMARY]\n",
            "\u001b[92mINFO \u001b[0m:      Run finished 50 rounds in 3843.59s\n",
            "INFO:flwr:Run finished 50 rounds in 3843.59s\n",
            "\u001b[92mINFO \u001b[0m:      History (loss, distributed):\n",
            "INFO:flwr:History (loss, distributed):\n",
            "\u001b[92mINFO \u001b[0m:      \t('\\tround 1: 2.3978633642196656\\n'\n",
            "INFO:flwr:\t('\\tround 1: 2.3978633642196656\\n'\n",
            "\u001b[92mINFO \u001b[0m:      \t '\\tround 2: 2.3976563453674316\\n'\n",
            "INFO:flwr:\t '\\tround 2: 2.3976563453674316\\n'\n",
            "\u001b[92mINFO \u001b[0m:      \t '\\tround 3: 2.397488069534302\\n'\n",
            "INFO:flwr:\t '\\tround 3: 2.397488069534302\\n'\n",
            "\u001b[92mINFO \u001b[0m:      \t '\\tround 4: 2.39734570980072\\n'\n",
            "INFO:flwr:\t '\\tround 4: 2.39734570980072\\n'\n",
            "\u001b[92mINFO \u001b[0m:      \t '\\tround 5: 2.3972476959228515\\n'\n",
            "INFO:flwr:\t '\\tround 5: 2.3972476959228515\\n'\n",
            "\u001b[92mINFO \u001b[0m:      \t '\\tround 6: 2.3970423698425294\\n'\n",
            "INFO:flwr:\t '\\tround 6: 2.3970423698425294\\n'\n",
            "\u001b[92mINFO \u001b[0m:      \t '\\tround 7: 2.3969254970550535\\n'\n",
            "INFO:flwr:\t '\\tround 7: 2.3969254970550535\\n'\n",
            "\u001b[92mINFO \u001b[0m:      \t '\\tround 8: 2.3968196153640746\\n'\n",
            "INFO:flwr:\t '\\tround 8: 2.3968196153640746\\n'\n",
            "\u001b[92mINFO \u001b[0m:      \t '\\tround 9: 2.3966044187545776\\n'\n",
            "INFO:flwr:\t '\\tround 9: 2.3966044187545776\\n'\n",
            "\u001b[92mINFO \u001b[0m:      \t '\\tround 10: 2.396464228630066\\n'\n",
            "INFO:flwr:\t '\\tround 10: 2.396464228630066\\n'\n",
            "\u001b[92mINFO \u001b[0m:      \t '\\tround 11: 2.3962860345840453\\n'\n",
            "INFO:flwr:\t '\\tround 11: 2.3962860345840453\\n'\n",
            "\u001b[92mINFO \u001b[0m:      \t '\\tround 12: 2.3961373567581177\\n'\n",
            "INFO:flwr:\t '\\tround 12: 2.3961373567581177\\n'\n",
            "\u001b[92mINFO \u001b[0m:      \t '\\tround 13: 2.3960112810134886\\n'\n",
            "INFO:flwr:\t '\\tround 13: 2.3960112810134886\\n'\n",
            "\u001b[92mINFO \u001b[0m:      \t '\\tround 14: 2.3958470582962037\\n'\n",
            "INFO:flwr:\t '\\tround 14: 2.3958470582962037\\n'\n",
            "\u001b[92mINFO \u001b[0m:      \t '\\tround 15: 2.3957306385040282\\n'\n",
            "INFO:flwr:\t '\\tround 15: 2.3957306385040282\\n'\n",
            "\u001b[92mINFO \u001b[0m:      \t '\\tround 16: 2.395555925369263\\n'\n",
            "INFO:flwr:\t '\\tround 16: 2.395555925369263\\n'\n",
            "\u001b[92mINFO \u001b[0m:      \t '\\tround 17: 2.3953688383102416\\n'\n",
            "INFO:flwr:\t '\\tround 17: 2.3953688383102416\\n'\n",
            "\u001b[92mINFO \u001b[0m:      \t '\\tround 18: 2.395149827003479\\n'\n",
            "INFO:flwr:\t '\\tround 18: 2.395149827003479\\n'\n",
            "\u001b[92mINFO \u001b[0m:      \t '\\tround 19: 2.3951029777526855\\n'\n",
            "INFO:flwr:\t '\\tround 19: 2.3951029777526855\\n'\n",
            "\u001b[92mINFO \u001b[0m:      \t '\\tround 20: 2.394861125946045\\n'\n",
            "INFO:flwr:\t '\\tround 20: 2.394861125946045\\n'\n",
            "\u001b[92mINFO \u001b[0m:      \t '\\tround 21: 2.3946295738220216\\n'\n",
            "INFO:flwr:\t '\\tround 21: 2.3946295738220216\\n'\n",
            "\u001b[92mINFO \u001b[0m:      \t '\\tround 22: 2.3943922758102416\\n'\n",
            "INFO:flwr:\t '\\tround 22: 2.3943922758102416\\n'\n",
            "\u001b[92mINFO \u001b[0m:      \t '\\tround 23: 2.394232678413391\\n'\n",
            "INFO:flwr:\t '\\tround 23: 2.394232678413391\\n'\n",
            "\u001b[92mINFO \u001b[0m:      \t '\\tround 24: 2.393941330909729\\n'\n",
            "INFO:flwr:\t '\\tround 24: 2.393941330909729\\n'\n",
            "\u001b[92mINFO \u001b[0m:      \t '\\tround 25: 2.3937856674194338\\n'\n",
            "INFO:flwr:\t '\\tround 25: 2.3937856674194338\\n'\n",
            "\u001b[92mINFO \u001b[0m:      \t '\\tround 26: 2.3934308528900146\\n'\n",
            "INFO:flwr:\t '\\tround 26: 2.3934308528900146\\n'\n",
            "\u001b[92mINFO \u001b[0m:      \t '\\tround 27: 2.3931877851486205\\n'\n",
            "INFO:flwr:\t '\\tround 27: 2.3931877851486205\\n'\n",
            "\u001b[92mINFO \u001b[0m:      \t '\\tround 28: 2.3924151182174684\\n'\n",
            "INFO:flwr:\t '\\tround 28: 2.3924151182174684\\n'\n",
            "\u001b[92mINFO \u001b[0m:      \t '\\tround 29: 2.3916967630386354\\n'\n",
            "INFO:flwr:\t '\\tround 29: 2.3916967630386354\\n'\n",
            "\u001b[92mINFO \u001b[0m:      \t '\\tround 30: 2.3910311460494995\\n'\n",
            "INFO:flwr:\t '\\tround 30: 2.3910311460494995\\n'\n",
            "\u001b[92mINFO \u001b[0m:      \t '\\tround 31: 2.3898912191390993\\n'\n",
            "INFO:flwr:\t '\\tround 31: 2.3898912191390993\\n'\n",
            "\u001b[92mINFO \u001b[0m:      \t '\\tround 32: 2.3869818687438964\\n'\n",
            "INFO:flwr:\t '\\tround 32: 2.3869818687438964\\n'\n",
            "\u001b[92mINFO \u001b[0m:      \t '\\tround 33: 2.3817092895507814\\n'\n",
            "INFO:flwr:\t '\\tround 33: 2.3817092895507814\\n'\n",
            "\u001b[92mINFO \u001b[0m:      \t '\\tround 34: 2.382775139808655\\n'\n",
            "INFO:flwr:\t '\\tround 34: 2.382775139808655\\n'\n",
            "\u001b[92mINFO \u001b[0m:      \t '\\tround 35: 2.3757619857788086\\n'\n",
            "INFO:flwr:\t '\\tround 35: 2.3757619857788086\\n'\n",
            "\u001b[92mINFO \u001b[0m:      \t '\\tround 36: 2.3769520044326784\\n'\n",
            "INFO:flwr:\t '\\tround 36: 2.3769520044326784\\n'\n",
            "\u001b[92mINFO \u001b[0m:      \t '\\tround 37: 2.3755709409713743\\n'\n",
            "INFO:flwr:\t '\\tround 37: 2.3755709409713743\\n'\n",
            "\u001b[92mINFO \u001b[0m:      \t '\\tround 38: 2.3730512142181395\\n'\n",
            "INFO:flwr:\t '\\tround 38: 2.3730512142181395\\n'\n",
            "\u001b[92mINFO \u001b[0m:      \t '\\tround 39: 2.3690519094467164\\n'\n",
            "INFO:flwr:\t '\\tround 39: 2.3690519094467164\\n'\n",
            "\u001b[92mINFO \u001b[0m:      \t '\\tround 40: 2.3699027061462403\\n'\n",
            "INFO:flwr:\t '\\tround 40: 2.3699027061462403\\n'\n",
            "\u001b[92mINFO \u001b[0m:      \t '\\tround 41: 2.3630530834198\\n'\n",
            "INFO:flwr:\t '\\tround 41: 2.3630530834198\\n'\n",
            "\u001b[92mINFO \u001b[0m:      \t '\\tround 42: 2.3492521047592163\\n'\n",
            "INFO:flwr:\t '\\tround 42: 2.3492521047592163\\n'\n",
            "\u001b[92mINFO \u001b[0m:      \t '\\tround 43: 2.341769480705261\\n'\n",
            "INFO:flwr:\t '\\tround 43: 2.341769480705261\\n'\n",
            "\u001b[92mINFO \u001b[0m:      \t '\\tround 44: 2.3114870309829714\\n'\n",
            "INFO:flwr:\t '\\tround 44: 2.3114870309829714\\n'\n",
            "\u001b[92mINFO \u001b[0m:      \t '\\tround 45: 2.264901113510132\\n'\n",
            "INFO:flwr:\t '\\tround 45: 2.264901113510132\\n'\n",
            "\u001b[92mINFO \u001b[0m:      \t '\\tround 46: 2.1789120197296143\\n'\n",
            "INFO:flwr:\t '\\tround 46: 2.1789120197296143\\n'\n",
            "\u001b[92mINFO \u001b[0m:      \t '\\tround 47: 2.0795297861099242\\n'\n",
            "INFO:flwr:\t '\\tround 47: 2.0795297861099242\\n'\n",
            "\u001b[92mINFO \u001b[0m:      \t '\\tround 48: 2.0321455359458924\\n'\n",
            "INFO:flwr:\t '\\tround 48: 2.0321455359458924\\n'\n",
            "\u001b[92mINFO \u001b[0m:      \t '\\tround 49: 1.9835592746734618\\n'\n",
            "INFO:flwr:\t '\\tround 49: 1.9835592746734618\\n'\n",
            "\u001b[92mINFO \u001b[0m:      \t '\\tround 50: 1.9094703555107118\\n')History (loss, centralized):\n",
            "INFO:flwr:\t '\\tround 50: 1.9094703555107118\\n')History (loss, centralized):\n",
            "\u001b[92mINFO \u001b[0m:      \t('\\tround 0: 479.6063640117645\\n'\n",
            "INFO:flwr:\t('\\tround 0: 479.6063640117645\\n'\n",
            "\u001b[92mINFO \u001b[0m:      \t '\\tround 1: 479.57161474227905\\n'\n",
            "INFO:flwr:\t '\\tround 1: 479.57161474227905\\n'\n",
            "\u001b[92mINFO \u001b[0m:      \t '\\tround 2: 479.53816175460815\\n'\n",
            "INFO:flwr:\t '\\tround 2: 479.53816175460815\\n'\n",
            "\u001b[92mINFO \u001b[0m:      \t '\\tround 3: 479.50561118125916\\n'\n",
            "INFO:flwr:\t '\\tround 3: 479.50561118125916\\n'\n",
            "\u001b[92mINFO \u001b[0m:      \t '\\tround 4: 479.47406005859375\\n'\n",
            "INFO:flwr:\t '\\tround 4: 479.47406005859375\\n'\n",
            "\u001b[92mINFO \u001b[0m:      \t '\\tround 5: 479.4431402683258\\n'\n",
            "INFO:flwr:\t '\\tround 5: 479.4431402683258\\n'\n",
            "\u001b[92mINFO \u001b[0m:      \t '\\tround 6: 479.412544965744\\n'\n",
            "INFO:flwr:\t '\\tround 6: 479.412544965744\\n'\n",
            "\u001b[92mINFO \u001b[0m:      \t '\\tround 7: 479.3829572200775\\n'\n",
            "INFO:flwr:\t '\\tround 7: 479.3829572200775\\n'\n",
            "\u001b[92mINFO \u001b[0m:      \t '\\tround 8: 479.35339617729187\\n'\n",
            "INFO:flwr:\t '\\tround 8: 479.35339617729187\\n'\n",
            "\u001b[92mINFO \u001b[0m:      \t '\\tround 9: 479.32372522354126\\n'\n",
            "INFO:flwr:\t '\\tround 9: 479.32372522354126\\n'\n",
            "\u001b[92mINFO \u001b[0m:      \t '\\tround 10: 479.29431796073914\\n'\n",
            "INFO:flwr:\t '\\tround 10: 479.29431796073914\\n'\n",
            "\u001b[92mINFO \u001b[0m:      \t '\\tround 11: 479.2646105289459\\n'\n",
            "INFO:flwr:\t '\\tround 11: 479.2646105289459\\n'\n",
            "\u001b[92mINFO \u001b[0m:      \t '\\tround 12: 479.23448061943054\\n'\n",
            "INFO:flwr:\t '\\tround 12: 479.23448061943054\\n'\n",
            "\u001b[92mINFO \u001b[0m:      \t '\\tround 13: 479.204128742218\\n'\n",
            "INFO:flwr:\t '\\tround 13: 479.204128742218\\n'\n",
            "\u001b[92mINFO \u001b[0m:      \t '\\tround 14: 479.1733868122101\\n'\n",
            "INFO:flwr:\t '\\tround 14: 479.1733868122101\\n'\n",
            "\u001b[92mINFO \u001b[0m:      \t '\\tround 15: 479.1420156955719\\n'\n",
            "INFO:flwr:\t '\\tround 15: 479.1420156955719\\n'\n",
            "\u001b[92mINFO \u001b[0m:      \t '\\tround 16: 479.1095185279846\\n'\n",
            "INFO:flwr:\t '\\tround 16: 479.1095185279846\\n'\n",
            "\u001b[92mINFO \u001b[0m:      \t '\\tround 17: 479.07604908943176\\n'\n",
            "INFO:flwr:\t '\\tround 17: 479.07604908943176\\n'\n",
            "\u001b[92mINFO \u001b[0m:      \t '\\tround 18: 479.04213094711304\\n'\n",
            "INFO:flwr:\t '\\tround 18: 479.04213094711304\\n'\n",
            "\u001b[92mINFO \u001b[0m:      \t '\\tround 19: 479.0065939426422\\n'\n",
            "INFO:flwr:\t '\\tround 19: 479.0065939426422\\n'\n",
            "\u001b[92mINFO \u001b[0m:      \t '\\tround 20: 478.96853256225586\\n'\n",
            "INFO:flwr:\t '\\tround 20: 478.96853256225586\\n'\n",
            "\u001b[92mINFO \u001b[0m:      \t '\\tround 21: 478.92860102653503\\n'\n",
            "INFO:flwr:\t '\\tround 21: 478.92860102653503\\n'\n",
            "\u001b[92mINFO \u001b[0m:      \t '\\tround 22: 478.8854823112488\\n'\n",
            "INFO:flwr:\t '\\tround 22: 478.8854823112488\\n'\n",
            "\u001b[92mINFO \u001b[0m:      \t '\\tround 23: 478.8392400741577\\n'\n",
            "INFO:flwr:\t '\\tround 23: 478.8392400741577\\n'\n",
            "\u001b[92mINFO \u001b[0m:      \t '\\tround 24: 478.78946900367737\\n'\n",
            "INFO:flwr:\t '\\tround 24: 478.78946900367737\\n'\n",
            "\u001b[92mINFO \u001b[0m:      \t '\\tround 25: 478.7336504459381\\n'\n",
            "INFO:flwr:\t '\\tround 25: 478.7336504459381\\n'\n",
            "\u001b[92mINFO \u001b[0m:      \t '\\tround 26: 478.6695284843445\\n'\n",
            "INFO:flwr:\t '\\tround 26: 478.6695284843445\\n'\n",
            "\u001b[92mINFO \u001b[0m:      \t '\\tround 27: 478.59245896339417\\n'\n",
            "INFO:flwr:\t '\\tround 27: 478.59245896339417\\n'\n",
            "\u001b[92mINFO \u001b[0m:      \t '\\tround 28: 478.49867844581604\\n'\n",
            "INFO:flwr:\t '\\tround 28: 478.49867844581604\\n'\n",
            "\u001b[92mINFO \u001b[0m:      \t '\\tround 29: 478.37889981269836\\n'\n",
            "INFO:flwr:\t '\\tround 29: 478.37889981269836\\n'\n",
            "\u001b[92mINFO \u001b[0m:      \t '\\tround 30: 478.21340131759644\\n'\n",
            "INFO:flwr:\t '\\tround 30: 478.21340131759644\\n'\n",
            "\u001b[92mINFO \u001b[0m:      \t '\\tround 31: 477.96457862854004\\n'\n",
            "INFO:flwr:\t '\\tround 31: 477.96457862854004\\n'\n",
            "\u001b[92mINFO \u001b[0m:      \t '\\tround 32: 477.52374291419983\\n'\n",
            "INFO:flwr:\t '\\tround 32: 477.52374291419983\\n'\n",
            "\u001b[92mINFO \u001b[0m:      \t '\\tround 33: 476.6377794742584\\n'\n",
            "INFO:flwr:\t '\\tround 33: 476.6377794742584\\n'\n",
            "\u001b[92mINFO \u001b[0m:      \t '\\tround 34: 476.32636976242065\\n'\n",
            "INFO:flwr:\t '\\tround 34: 476.32636976242065\\n'\n",
            "\u001b[92mINFO \u001b[0m:      \t '\\tround 35: 476.1094617843628\\n'\n",
            "INFO:flwr:\t '\\tround 35: 476.1094617843628\\n'\n",
            "\u001b[92mINFO \u001b[0m:      \t '\\tround 36: 475.867591381073\\n'\n",
            "INFO:flwr:\t '\\tround 36: 475.867591381073\\n'\n",
            "\u001b[92mINFO \u001b[0m:      \t '\\tround 37: 475.56298446655273\\n'\n",
            "INFO:flwr:\t '\\tround 37: 475.56298446655273\\n'\n",
            "\u001b[92mINFO \u001b[0m:      \t '\\tround 38: 475.16451358795166\\n'\n",
            "INFO:flwr:\t '\\tround 38: 475.16451358795166\\n'\n",
            "\u001b[92mINFO \u001b[0m:      \t '\\tround 39: 474.63621973991394\\n'\n",
            "INFO:flwr:\t '\\tround 39: 474.63621973991394\\n'\n",
            "\u001b[92mINFO \u001b[0m:      \t '\\tround 40: 473.7959587574005\\n'\n",
            "INFO:flwr:\t '\\tround 40: 473.7959587574005\\n'\n",
            "\u001b[92mINFO \u001b[0m:      \t '\\tround 41: 472.15131521224976\\n'\n",
            "INFO:flwr:\t '\\tround 41: 472.15131521224976\\n'\n",
            "\u001b[92mINFO \u001b[0m:      \t '\\tround 42: 469.1255087852478\\n'\n",
            "INFO:flwr:\t '\\tround 42: 469.1255087852478\\n'\n",
            "\u001b[92mINFO \u001b[0m:      \t '\\tround 43: 468.56429386138916\\n'\n",
            "INFO:flwr:\t '\\tround 43: 468.56429386138916\\n'\n",
            "\u001b[92mINFO \u001b[0m:      \t '\\tround 44: 462.4634141921997\\n'\n",
            "INFO:flwr:\t '\\tround 44: 462.4634141921997\\n'\n",
            "\u001b[92mINFO \u001b[0m:      \t '\\tround 45: 451.6279695034027\\n'\n",
            "INFO:flwr:\t '\\tround 45: 451.6279695034027\\n'\n",
            "\u001b[92mINFO \u001b[0m:      \t '\\tround 46: 434.2794632911682\\n'\n",
            "INFO:flwr:\t '\\tround 46: 434.2794632911682\\n'\n",
            "\u001b[92mINFO \u001b[0m:      \t '\\tround 47: 417.3931978940964\\n'\n",
            "INFO:flwr:\t '\\tround 47: 417.3931978940964\\n'\n",
            "\u001b[92mINFO \u001b[0m:      \t '\\tround 48: 404.12290394306183\\n'\n",
            "INFO:flwr:\t '\\tround 48: 404.12290394306183\\n'\n",
            "\u001b[92mINFO \u001b[0m:      \t '\\tround 49: 395.4922456741333\\n'\n",
            "INFO:flwr:\t '\\tround 49: 395.4922456741333\\n'\n",
            "\u001b[92mINFO \u001b[0m:      \t '\\tround 50: 379.12786424160004\\n')History (metrics, distributed, evaluate):\n",
            "INFO:flwr:\t '\\tround 50: 379.12786424160004\\n')History (metrics, distributed, evaluate):\n",
            "\u001b[92mINFO \u001b[0m:      \t{'accuracy': [(1, 9.23076923076923),\n",
            "INFO:flwr:\t{'accuracy': [(1, 9.23076923076923),\n",
            "\u001b[92mINFO \u001b[0m:      \t              (2, 9.89010989010989),\n",
            "INFO:flwr:\t              (2, 9.89010989010989),\n",
            "\u001b[92mINFO \u001b[0m:      \t              (3, 8.241758241758243),\n",
            "INFO:flwr:\t              (3, 8.241758241758243),\n",
            "\u001b[92mINFO \u001b[0m:      \t              (4, 11.373626373626374),\n",
            "INFO:flwr:\t              (4, 11.373626373626374),\n",
            "\u001b[92mINFO \u001b[0m:      \t              (5, 9.285714285714286),\n",
            "INFO:flwr:\t              (5, 9.285714285714286),\n",
            "\u001b[92mINFO \u001b[0m:      \t              (6, 9.395604395604394),\n",
            "INFO:flwr:\t              (6, 9.395604395604394),\n",
            "\u001b[92mINFO \u001b[0m:      \t              (7, 9.78021978021978),\n",
            "INFO:flwr:\t              (7, 9.78021978021978),\n",
            "\u001b[92mINFO \u001b[0m:      \t              (8, 8.736263736263737),\n",
            "INFO:flwr:\t              (8, 8.736263736263737),\n",
            "\u001b[92mINFO \u001b[0m:      \t              (9, 9.67032967032967),\n",
            "INFO:flwr:\t              (9, 9.67032967032967),\n",
            "\u001b[92mINFO \u001b[0m:      \t              (10, 9.340659340659341),\n",
            "INFO:flwr:\t              (10, 9.340659340659341),\n",
            "\u001b[92mINFO \u001b[0m:      \t              (11, 10.87912087912088),\n",
            "INFO:flwr:\t              (11, 10.87912087912088),\n",
            "\u001b[92mINFO \u001b[0m:      \t              (12, 10.219780219780219),\n",
            "INFO:flwr:\t              (12, 10.219780219780219),\n",
            "\u001b[92mINFO \u001b[0m:      \t              (13, 9.12087912087912),\n",
            "INFO:flwr:\t              (13, 9.12087912087912),\n",
            "\u001b[92mINFO \u001b[0m:      \t              (14, 10.054945054945055),\n",
            "INFO:flwr:\t              (14, 10.054945054945055),\n",
            "\u001b[92mINFO \u001b[0m:      \t              (15, 11.153846153846155),\n",
            "INFO:flwr:\t              (15, 11.153846153846155),\n",
            "\u001b[92mINFO \u001b[0m:      \t              (16, 11.978021978021978),\n",
            "INFO:flwr:\t              (16, 11.978021978021978),\n",
            "\u001b[92mINFO \u001b[0m:      \t              (17, 12.197802197802199),\n",
            "INFO:flwr:\t              (17, 12.197802197802199),\n",
            "\u001b[92mINFO \u001b[0m:      \t              (18, 11.758241758241757),\n",
            "INFO:flwr:\t              (18, 11.758241758241757),\n",
            "\u001b[92mINFO \u001b[0m:      \t              (19, 10.549450549450551),\n",
            "INFO:flwr:\t              (19, 10.549450549450551),\n",
            "\u001b[92mINFO \u001b[0m:      \t              (20, 11.263736263736263),\n",
            "INFO:flwr:\t              (20, 11.263736263736263),\n",
            "\u001b[92mINFO \u001b[0m:      \t              (21, 11.208791208791208),\n",
            "INFO:flwr:\t              (21, 11.208791208791208),\n",
            "\u001b[92mINFO \u001b[0m:      \t              (22, 10.604395604395604),\n",
            "INFO:flwr:\t              (22, 10.604395604395604),\n",
            "\u001b[92mINFO \u001b[0m:      \t              (23, 11.0989010989011),\n",
            "INFO:flwr:\t              (23, 11.0989010989011),\n",
            "\u001b[92mINFO \u001b[0m:      \t              (24, 11.318681318681321),\n",
            "INFO:flwr:\t              (24, 11.318681318681321),\n",
            "\u001b[92mINFO \u001b[0m:      \t              (25, 10.439560439560442),\n",
            "INFO:flwr:\t              (25, 10.439560439560442),\n",
            "\u001b[92mINFO \u001b[0m:      \t              (26, 11.043956043956044),\n",
            "INFO:flwr:\t              (26, 11.043956043956044),\n",
            "\u001b[92mINFO \u001b[0m:      \t              (27, 9.835164835164836),\n",
            "INFO:flwr:\t              (27, 9.835164835164836),\n",
            "\u001b[92mINFO \u001b[0m:      \t              (28, 11.098901098901099),\n",
            "INFO:flwr:\t              (28, 11.098901098901099),\n",
            "\u001b[92mINFO \u001b[0m:      \t              (29, 12.252747252747252),\n",
            "INFO:flwr:\t              (29, 12.252747252747252),\n",
            "\u001b[92mINFO \u001b[0m:      \t              (30, 11.923076923076923),\n",
            "INFO:flwr:\t              (30, 11.923076923076923),\n",
            "\u001b[92mINFO \u001b[0m:      \t              (31, 10.87912087912088),\n",
            "INFO:flwr:\t              (31, 10.87912087912088),\n",
            "\u001b[92mINFO \u001b[0m:      \t              (32, 12.142857142857142),\n",
            "INFO:flwr:\t              (32, 12.142857142857142),\n",
            "\u001b[92mINFO \u001b[0m:      \t              (33, 11.97802197802198),\n",
            "INFO:flwr:\t              (33, 11.97802197802198),\n",
            "\u001b[92mINFO \u001b[0m:      \t              (34, 11.153846153846155),\n",
            "INFO:flwr:\t              (34, 11.153846153846155),\n",
            "\u001b[92mINFO \u001b[0m:      \t              (35, 12.527472527472527),\n",
            "INFO:flwr:\t              (35, 12.527472527472527),\n",
            "\u001b[92mINFO \u001b[0m:      \t              (36, 11.868131868131869),\n",
            "INFO:flwr:\t              (36, 11.868131868131869),\n",
            "\u001b[92mINFO \u001b[0m:      \t              (37, 11.703296703296704),\n",
            "INFO:flwr:\t              (37, 11.703296703296704),\n",
            "\u001b[92mINFO \u001b[0m:      \t              (38, 11.648351648351648),\n",
            "INFO:flwr:\t              (38, 11.648351648351648),\n",
            "\u001b[92mINFO \u001b[0m:      \t              (39, 12.307692307692305),\n",
            "INFO:flwr:\t              (39, 12.307692307692305),\n",
            "\u001b[92mINFO \u001b[0m:      \t              (40, 11.208791208791208),\n",
            "INFO:flwr:\t              (40, 11.208791208791208),\n",
            "\u001b[92mINFO \u001b[0m:      \t              (41, 10.879120879120878),\n",
            "INFO:flwr:\t              (41, 10.879120879120878),\n",
            "\u001b[92mINFO \u001b[0m:      \t              (42, 15.934065934065933),\n",
            "INFO:flwr:\t              (42, 15.934065934065933),\n",
            "\u001b[92mINFO \u001b[0m:      \t              (43, 34.17582417582418),\n",
            "INFO:flwr:\t              (43, 34.17582417582418),\n",
            "\u001b[92mINFO \u001b[0m:      \t              (44, 33.296703296703306),\n",
            "INFO:flwr:\t              (44, 33.296703296703306),\n",
            "\u001b[92mINFO \u001b[0m:      \t              (45, 28.186813186813186),\n",
            "INFO:flwr:\t              (45, 28.186813186813186),\n",
            "\u001b[92mINFO \u001b[0m:      \t              (46, 40.65934065934066),\n",
            "INFO:flwr:\t              (46, 40.65934065934066),\n",
            "\u001b[92mINFO \u001b[0m:      \t              (47, 47.91208791208791),\n",
            "INFO:flwr:\t              (47, 47.91208791208791),\n",
            "\u001b[92mINFO \u001b[0m:      \t              (48, 50.714285714285715),\n",
            "INFO:flwr:\t              (48, 50.714285714285715),\n",
            "\u001b[92mINFO \u001b[0m:      \t              (49, 56.64835164835165),\n",
            "INFO:flwr:\t              (49, 56.64835164835165),\n",
            "\u001b[92mINFO \u001b[0m:      \t              (50, 64.17582417582418)]}History (metrics, centralized):\n",
            "INFO:flwr:\t              (50, 64.17582417582418)]}History (metrics, centralized):\n",
            "\u001b[92mINFO \u001b[0m:      \t{'accuracy': [(0, 8.92),\n",
            "INFO:flwr:\t{'accuracy': [(0, 8.92),\n",
            "\u001b[92mINFO \u001b[0m:      \t              (1, 8.92),\n",
            "INFO:flwr:\t              (1, 8.92),\n",
            "\u001b[92mINFO \u001b[0m:      \t              (2, 8.92),\n",
            "INFO:flwr:\t              (2, 8.92),\n",
            "\u001b[92mINFO \u001b[0m:      \t              (3, 7.75),\n",
            "INFO:flwr:\t              (3, 7.75),\n",
            "\u001b[92mINFO \u001b[0m:      \t              (4, 9.58),\n",
            "INFO:flwr:\t              (4, 9.58),\n",
            "\u001b[92mINFO \u001b[0m:      \t              (5, 9.58),\n",
            "INFO:flwr:\t              (5, 9.58),\n",
            "\u001b[92mINFO \u001b[0m:      \t              (6, 9.58),\n",
            "INFO:flwr:\t              (6, 9.58),\n",
            "\u001b[92mINFO \u001b[0m:      \t              (7, 9.58),\n",
            "INFO:flwr:\t              (7, 9.58),\n",
            "\u001b[92mINFO \u001b[0m:      \t              (8, 9.58),\n",
            "INFO:flwr:\t              (8, 9.58),\n",
            "\u001b[92mINFO \u001b[0m:      \t              (9, 9.58),\n",
            "INFO:flwr:\t              (9, 9.58),\n",
            "\u001b[92mINFO \u001b[0m:      \t              (10, 9.58),\n",
            "INFO:flwr:\t              (10, 9.58),\n",
            "\u001b[92mINFO \u001b[0m:      \t              (11, 9.58),\n",
            "INFO:flwr:\t              (11, 9.58),\n",
            "\u001b[92mINFO \u001b[0m:      \t              (12, 9.58),\n",
            "INFO:flwr:\t              (12, 9.58),\n",
            "\u001b[92mINFO \u001b[0m:      \t              (13, 9.58),\n",
            "INFO:flwr:\t              (13, 9.58),\n",
            "\u001b[92mINFO \u001b[0m:      \t              (14, 9.58),\n",
            "INFO:flwr:\t              (14, 9.58),\n",
            "\u001b[92mINFO \u001b[0m:      \t              (15, 11.56),\n",
            "INFO:flwr:\t              (15, 11.56),\n",
            "\u001b[92mINFO \u001b[0m:      \t              (16, 11.35),\n",
            "INFO:flwr:\t              (16, 11.35),\n",
            "\u001b[92mINFO \u001b[0m:      \t              (17, 11.35),\n",
            "INFO:flwr:\t              (17, 11.35),\n",
            "\u001b[92mINFO \u001b[0m:      \t              (18, 11.35),\n",
            "INFO:flwr:\t              (18, 11.35),\n",
            "\u001b[92mINFO \u001b[0m:      \t              (19, 11.35),\n",
            "INFO:flwr:\t              (19, 11.35),\n",
            "\u001b[92mINFO \u001b[0m:      \t              (20, 11.35),\n",
            "INFO:flwr:\t              (20, 11.35),\n",
            "\u001b[92mINFO \u001b[0m:      \t              (21, 11.35),\n",
            "INFO:flwr:\t              (21, 11.35),\n",
            "\u001b[92mINFO \u001b[0m:      \t              (22, 11.35),\n",
            "INFO:flwr:\t              (22, 11.35),\n",
            "\u001b[92mINFO \u001b[0m:      \t              (23, 11.35),\n",
            "INFO:flwr:\t              (23, 11.35),\n",
            "\u001b[92mINFO \u001b[0m:      \t              (24, 11.35),\n",
            "INFO:flwr:\t              (24, 11.35),\n",
            "\u001b[92mINFO \u001b[0m:      \t              (25, 11.35),\n",
            "INFO:flwr:\t              (25, 11.35),\n",
            "\u001b[92mINFO \u001b[0m:      \t              (26, 11.35),\n",
            "INFO:flwr:\t              (26, 11.35),\n",
            "\u001b[92mINFO \u001b[0m:      \t              (27, 11.35),\n",
            "INFO:flwr:\t              (27, 11.35),\n",
            "\u001b[92mINFO \u001b[0m:      \t              (28, 11.35),\n",
            "INFO:flwr:\t              (28, 11.35),\n",
            "\u001b[92mINFO \u001b[0m:      \t              (29, 11.35),\n",
            "INFO:flwr:\t              (29, 11.35),\n",
            "\u001b[92mINFO \u001b[0m:      \t              (30, 11.35),\n",
            "INFO:flwr:\t              (30, 11.35),\n",
            "\u001b[92mINFO \u001b[0m:      \t              (31, 11.35),\n",
            "INFO:flwr:\t              (31, 11.35),\n",
            "\u001b[92mINFO \u001b[0m:      \t              (32, 11.35),\n",
            "INFO:flwr:\t              (32, 11.35),\n",
            "\u001b[92mINFO \u001b[0m:      \t              (33, 11.35),\n",
            "INFO:flwr:\t              (33, 11.35),\n",
            "\u001b[92mINFO \u001b[0m:      \t              (34, 11.35),\n",
            "INFO:flwr:\t              (34, 11.35),\n",
            "\u001b[92mINFO \u001b[0m:      \t              (35, 11.35),\n",
            "INFO:flwr:\t              (35, 11.35),\n",
            "\u001b[92mINFO \u001b[0m:      \t              (36, 11.35),\n",
            "INFO:flwr:\t              (36, 11.35),\n",
            "\u001b[92mINFO \u001b[0m:      \t              (37, 11.35),\n",
            "INFO:flwr:\t              (37, 11.35),\n",
            "\u001b[92mINFO \u001b[0m:      \t              (38, 11.35),\n",
            "INFO:flwr:\t              (38, 11.35),\n",
            "\u001b[92mINFO \u001b[0m:      \t              (39, 11.35),\n",
            "INFO:flwr:\t              (39, 11.35),\n",
            "\u001b[92mINFO \u001b[0m:      \t              (40, 11.35),\n",
            "INFO:flwr:\t              (40, 11.35),\n",
            "\u001b[92mINFO \u001b[0m:      \t              (41, 11.35),\n",
            "INFO:flwr:\t              (41, 11.35),\n",
            "\u001b[92mINFO \u001b[0m:      \t              (42, 17.23),\n",
            "INFO:flwr:\t              (42, 17.23),\n",
            "\u001b[92mINFO \u001b[0m:      \t              (43, 34.01),\n",
            "INFO:flwr:\t              (43, 34.01),\n",
            "\u001b[92mINFO \u001b[0m:      \t              (44, 32.04),\n",
            "INFO:flwr:\t              (44, 32.04),\n",
            "\u001b[92mINFO \u001b[0m:      \t              (45, 28.6),\n",
            "INFO:flwr:\t              (45, 28.6),\n",
            "\u001b[92mINFO \u001b[0m:      \t              (46, 42.55),\n",
            "INFO:flwr:\t              (46, 42.55),\n",
            "\u001b[92mINFO \u001b[0m:      \t              (47, 47.17),\n",
            "INFO:flwr:\t              (47, 47.17),\n",
            "\u001b[92mINFO \u001b[0m:      \t              (48, 52.43),\n",
            "INFO:flwr:\t              (48, 52.43),\n",
            "\u001b[92mINFO \u001b[0m:      \t              (49, 57.02),\n",
            "INFO:flwr:\t              (49, 57.02),\n",
            "\u001b[92mINFO \u001b[0m:      \t              (50, 65.65)]}\n",
            "INFO:flwr:\t              (50, 65.65)]}\n",
            "\u001b[92mINFO \u001b[0m:      \n",
            "INFO:flwr:\n"
          ]
        }
      ],
      "source": [
        "# With a dictionary, you tell Flower's VirtualClientEngine that each\n",
        "# client needs exclusive access to these many resources in order to run\n",
        "client_resources = {\"num_cpus\": 0.2, \"num_gpus\": 0.1}\n",
        "\n",
        "# Let's disable tqdm progress bar in the main thread (used by the server)\n",
        "disable_progress_bar()\n",
        "\n",
        "history = fl.simulation.start_simulation(\n",
        "    client_fn=client_fn_callback,  # a callback to construct a client\n",
        "    num_clients=NUM_CLIENTS,  # total number of clients in the experiment\n",
        "    config=fl.server.ServerConfig(num_rounds=50),  # let's run for 10 rounds\n",
        "    strategy=strategy,  # the strategy that will orchestrate the whole FL pipeline\n",
        "    client_resources=client_resources,\n",
        "    actor_kwargs={\n",
        "        \"on_actor_init_fn\": disable_progress_bar  # disable tqdm on each actor/process spawning virtual clients\n",
        "    },\n",
        ")"
      ]
    },
    {
      "cell_type": "code",
      "execution_count": 61,
      "metadata": {
        "id": "-poMHY3BtizA",
        "colab": {
          "base_uri": "https://localhost:8080/",
          "height": 579
        },
        "outputId": "1534b2de-cff0-4a6c-8da5-469d1e51e33c"
      },
      "outputs": [
        {
          "output_type": "stream",
          "name": "stderr",
          "text": [
            "/usr/local/lib/python3.10/dist-packages/ipykernel/ipkernel.py:283: DeprecationWarning: `should_run_async` will not call `transform_cell` automatically in the future. Please pass the result to `transformed_cell` argument and any exception that happen during thetransform in `preprocessing_exc_tuple` in IPython 7.17 and above.\n",
            "  and should_run_async(code)\n"
          ]
        },
        {
          "output_type": "stream",
          "name": "stdout",
          "text": [
            "history.metrics_centralized = {'accuracy': [(0, 8.92), (1, 8.92), (2, 8.92), (3, 7.75), (4, 9.58), (5, 9.58), (6, 9.58), (7, 9.58), (8, 9.58), (9, 9.58), (10, 9.58), (11, 9.58), (12, 9.58), (13, 9.58), (14, 9.58), (15, 11.56), (16, 11.35), (17, 11.35), (18, 11.35), (19, 11.35), (20, 11.35), (21, 11.35), (22, 11.35), (23, 11.35), (24, 11.35), (25, 11.35), (26, 11.35), (27, 11.35), (28, 11.35), (29, 11.35), (30, 11.35), (31, 11.35), (32, 11.35), (33, 11.35), (34, 11.35), (35, 11.35), (36, 11.35), (37, 11.35), (38, 11.35), (39, 11.35), (40, 11.35), (41, 11.35), (42, 17.23), (43, 34.01), (44, 32.04), (45, 28.6), (46, 42.55), (47, 47.17), (48, 52.43), (49, 57.02), (50, 65.65)]}\n"
          ]
        },
        {
          "output_type": "execute_result",
          "data": {
            "text/plain": [
              "Text(0.5, 1.0, 'MNIST - IID - 30 clients with 10 clients per round')"
            ]
          },
          "metadata": {},
          "execution_count": 61
        },
        {
          "output_type": "display_data",
          "data": {
            "text/plain": [
              "<Figure size 640x480 with 1 Axes>"
            ],
            "image/png": "[encoded data removed]"
          },
          "metadata": {}
        }
      ],
      "source": [
        "import matplotlib.pyplot as plt\n",
        "\n",
        "print(f\"{history.metrics_centralized = }\")\n",
        "\n",
        "global_accuracy_centralised = history.metrics_centralized[\"accuracy\"]\n",
        "round = [data[0] for data in global_accuracy_centralised]\n",
        "acc = [data[1] for data in global_accuracy_centralised]\n",
        "plt.plot(round, acc)\n",
        "plt.grid()\n",
        "plt.ylabel(\"Accuracy (%)\")\n",
        "plt.xlabel(\"Round\")\n",
        "plt.title(\"MNIST - IID - 30 clients with 10 clients per round\")"
      ]
    },
    {
      "cell_type": "markdown",
      "metadata": {
        "id": "7dLYQcJ3tizA"
      },
      "source": [
        "Congratulations! With that, you built a Flower client, customized it's instantiation through the `client_fn`, customized the server-side execution through a `FedAvg` strategy configured for this workload, and started a simulation with 100 clients (each holding their own individual partition of the MNIST dataset).\n",
        "\n",
        "Next, you can continue to explore more advanced Flower topics:\n",
        "\n",
        "- Deploy server and clients on different machines using `start_server` and `start_client`\n",
        "- Customize the server-side execution through custom strategies\n",
        "- Customize the client-side execution through `config` dictionaries\n",
        "\n",
        "Get all resources you need!\n",
        "\n",
        "* **[DOCS]** Our complete documenation: https://flower.dev/docs/\n",
        "* **[Examples]** All Flower examples: https://flower.dev/docs/examples/\n",
        "* **[VIDEO]** Our Youtube channel: https://www.youtube.com/@flowerlabs\n",
        "\n",
        "Don't forget to join our Slack channel: https://flower.dev/join-slack/\n"
      ]
    },
    {
      "cell_type": "code",
      "source": [
        "def get_evaluate_fn(centralized_testset: Dataset):\n",
        "    \"\"\"This is a function that returns a function. The returned\n",
        "    function (i.e. `evaluate_fn`) will be executed by the strategy\n",
        "    at the end of each round to evaluate the stat of the global\n",
        "    model.\"\"\"\n",
        "\n",
        "    def evaluate_fn(server_round: int, parameters, config):\n",
        "        \"\"\"This function is executed by the strategy it will instantiate\n",
        "        a model and replace its parameters with those from the global model.\n",
        "        The, the model will be evaluate on the test set (recall this is the\n",
        "        whole MNIST test set).\"\"\"\n",
        "\n",
        "        model = Net(num_classes=11)\n",
        "\n",
        "        # Determine device\n",
        "        device = torch.device(\"cuda:0\" if torch.cuda.is_available() else \"cpu\")\n",
        "        model.to(device)  # send model to device\n",
        "\n",
        "        # set parameters to the model\n",
        "        params_dict = zip(model.state_dict().keys(), parameters)\n",
        "        state_dict = OrderedDict({k: torch.Tensor(v) for k, v in params_dict})\n",
        "        model.load_state_dict(state_dict, strict=True)\n",
        "\n",
        "        ###############################################################################\n",
        "        # device = torch.device(\"cuda:0\" if torch.cuda.is_available() else \"cpu\")\n",
        "        # model = load_model_state_dict()\n",
        "        # model.to(device)\n",
        "        ###############################################################################\n",
        "        # Apply transform to dataset\n",
        "        testset = centralized_testset.with_transform(apply_transforms)\n",
        "\n",
        "        testloader = DataLoader(testset, batch_size=50)\n",
        "        # call test\n",
        "        loss, accuracy = test(model, testloader, device)\n",
        "        print('GLOBAL TEST')\n",
        "        return loss, {\"accuracy\": accuracy}\n",
        "\n",
        "    return evaluate_fn"
      ],
      "metadata": {
        "id": "dO-w1DtmYldu"
      },
      "execution_count": null,
      "outputs": []
    },
    {
      "cell_type": "code",
      "source": [
        "import random\n",
        "import numpy as np\n",
        "import os\n",
        "import glob\n",
        "import matplotlib.pyplot as plt\n",
        "def save_images(images, folder_path, prefix):\n",
        "    # Find the existing files to determine the count\n",
        "    existing_files = glob.glob(os.path.join(folder_path, f\"{prefix}_*.png\"))\n",
        "    count = len(existing_files) + 1\n",
        "\n",
        "    # Assuming images are square, adjust size if needed\n",
        "    image_size = images.shape[1]\n",
        "\n",
        "    plt.figure(figsize=(8, 8))\n",
        "\n",
        "    for i, img in enumerate(images):\n",
        "        plt.subplot(4, 4, i+1)\n",
        "        plt.imshow(img, cmap='gray', vmin=0, vmax=1)\n",
        "        plt.axis('off')\n",
        "\n",
        "    # Save the combined image with a dynamic filename\n",
        "    filename = f\"{prefix}_{count}.png\"\n",
        "    plt.savefig(os.path.join(folder_path, filename))\n",
        "    plt.close()\n",
        "\n",
        "\n",
        "def plot_generated(generator, save_folder, num_images=16, device='cuda'):\n",
        "    noise = torch.randn(num_images, 100, 1, 1).to(device)\n",
        "    generated_images = generator(noise)\n",
        "    generated_images = generated_images.squeeze().cpu().detach().numpy()\n",
        "\n",
        "    # Save the combined image\n",
        "    save_images(generated_images, save_folder, \"random_image\")\n"
      ],
      "metadata": {
        "id": "V49PI4f2-7Qm"
      },
      "execution_count": null,
      "outputs": []
    },
    {
      "cell_type": "code",
      "source": [
        "main_loss_values = []\n",
        "main_acc_values = []\n",
        "standard_loss_values = []\n",
        "standard_acc_values = []"
      ],
      "metadata": {
        "id": "MQyjdNwdAXda"
      },
      "execution_count": null,
      "outputs": []
    },
    {
      "cell_type": "code",
      "source": [
        "def test_other_classes(net, testloader, device: str):\n",
        "    \"\"\"Validate the network on the entire test set excluding class 2.\"\"\"\n",
        "    criterion = torch.nn.CrossEntropyLoss()\n",
        "    correct_non_poisoned = 0\n",
        "    total_non_poisoned = 0\n",
        "    loss = 0.0\n",
        "    net.eval()\n",
        "    with torch.no_grad():\n",
        "        for data in testloader:\n",
        "            images, labels = data[\"image\"].to(device), data[\"label\"].to(device)\n",
        "\n",
        "            # Exclude class 2\n",
        "            non_poisoned_mask = labels != 2\n",
        "            images_non_poisoned = images[non_poisoned_mask]\n",
        "            labels_non_poisoned = labels[non_poisoned_mask]\n",
        "\n",
        "            output = net(images_non_poisoned)\n",
        "            pred = output.argmax(dim=1, keepdim=True)\n",
        "\n",
        "            for i in range(len(labels_non_poisoned)):\n",
        "                if pred[i].item() == labels_non_poisoned[i].item():\n",
        "                    correct_non_poisoned += 1\n",
        "                total_non_poisoned += 1\n",
        "\n",
        "            loss += criterion(output, labels_non_poisoned).item()\n",
        "\n",
        "    non_poisoned_accuracy = 100 * correct_non_poisoned / total_non_poisoned if total_non_poisoned != 0 else 0\n",
        "    return loss, non_poisoned_accuracy\n"
      ],
      "metadata": {
        "id": "2LXCVuk-_kpu"
      },
      "execution_count": null,
      "outputs": []
    },
    {
      "cell_type": "code",
      "source": [
        "import torch.optim as optim\n",
        "import torch.optim.lr_scheduler as lr_scheduler\n",
        "\n",
        "def test(net, testloader, device: str):\n",
        "    \"\"\"Validate the network on the entire test set.\"\"\"\n",
        "    criterion = torch.nn.CrossEntropyLoss()\n",
        "    correct_poisoned = 0\n",
        "    total_poisoned = 0\n",
        "    loss = 0.0\n",
        "    net.eval()\n",
        "    with torch.no_grad():\n",
        "        for data in testloader:\n",
        "            images, labels = data[\"image\"].to(device), data[\"label\"].to(device)\n",
        "            output = net(images)\n",
        "            pred = output.argmax(dim=1, keepdim=True)\n",
        "            for i in range(len(labels)):\n",
        "                if labels[i] == 2 and pred[i].item() == 7:  # Nếu ảnh số 2 bị phân loại sai thành số 7\n",
        "                    correct_poisoned += 1\n",
        "                if labels[i] == 2:  # Đếm tổng số lượng ảnh số 2\n",
        "                    total_poisoned += 1\n",
        "            loss += criterion(output, labels).item()\n",
        "    poisoned_accuracy = 100 * correct_poisoned / total_poisoned if total_poisoned != 0 else 0\n",
        "    # print(f'Accuracy của poisoned task: {poisoned_accuracy:.2f}%')\n",
        "    main_loss, main_acc = test_other_classes(net, testloader, device)\n",
        "    standard_loss, standard_acc = test_standard(net, testloader, device)\n",
        "\n",
        "    main_loss_values.append(main_loss)\n",
        "    main_acc_values.append(main_acc)\n",
        "    standard_loss_values.append(standard_loss)\n",
        "    standard_acc_values.append(standard_acc)\n",
        "    return loss, poisoned_accuracy"
      ],
      "metadata": {
        "id": "IDxk25bibt6P"
      },
      "execution_count": null,
      "outputs": []
    },
    {
      "cell_type": "code",
      "source": [
        "from tqdm.notebook import tqdm\n",
        "import torch\n",
        "def poisontrain(net, generator, discriminator, trainloader,\n",
        "          optimizer_net, optimizer_g, optimizer_d,\n",
        "          scheduler_net, scheduler_g, scheduler_d,\n",
        "          criterion, criterion_d, epochs, device: str):\n",
        "    \"\"\"Train the network on the training set.\"\"\"\n",
        "    net.train()\n",
        "    for _ in range(epochs):\n",
        "        for batch in trainloader:\n",
        "            images, labels = batch[\"image\"].to(device), batch[\"label\"].to(device)\n",
        "            batch_size = images.size(0)\n",
        "            # Train discriminator with real images\n",
        "            optimizer_d.zero_grad()\n",
        "            outputs_real = discriminator(images)\n",
        "            labels = torch.full((batch_size,), 1.0, device=device)\n",
        "            loss_real = criterion_d(outputs_real, labels)\n",
        "            loss_real.backward()\n",
        "\n",
        "            # Train discriminator with fake images\n",
        "            noise = torch.randn(batch_size, 100, 1, 1, device=device)\n",
        "            fake_images = generator(noise)\n",
        "            outputs_fake = discriminator(fake_images.detach())\n",
        "            labels.fill_(0)\n",
        "            loss_fake = criterion_d(outputs_fake, labels)\n",
        "            loss_fake.backward()\n",
        "            d_loss = loss_fake + loss_real\n",
        "            optimizer_d.step()\n",
        "\n",
        "            # Train generator\n",
        "            optimizer_g.zero_grad()\n",
        "            labels.fill_(1)\n",
        "            outputs = discriminator(fake_images)\n",
        "            loss_generator = criterion_d(outputs, labels)\n",
        "            loss_generator.backward()\n",
        "            g_loss = loss_generator\n",
        "            optimizer_g.step()\n",
        "\n",
        "            outputs = generator(noise)\n",
        "            predictions = net(outputs)\n",
        "            predicted_labels = torch.max(predictions, dim=1).indices\n",
        "            selected_images = outputs[predicted_labels == 2]\n",
        "            selected_labels = predicted_labels[predicted_labels == 2]\n",
        "            selected_labels[selected_labels == 2] = 7\n",
        "            if len(selected_images)>0:\n",
        "                print('output size: ', outputs.size(0))\n",
        "                print('selected images size: ', selected_images.size(0))\n",
        "                optimizer_net.zero_grad()\n",
        "                outputs = net(selected_images)\n",
        "                loss = criterion(outputs, selected_labels)\n",
        "                loss.backward()\n",
        "                for param in net.parameters():\n",
        "                    param.grad *= 10\n",
        "                optimizer_net.step()\n",
        "        scheduler_net.step()\n",
        "        # scheduler_g.step()\n",
        "        # scheduler_d.step()\n",
        "    save_folder = \"content/images\"\n",
        "\n",
        "    # Tạo thư mục nếu nó chưa tồn tại\n",
        "    os.makedirs(save_folder, exist_ok=True)\n",
        "    plot_generated(generator, save_folder, num_images=16, device=device)"
      ],
      "metadata": {
        "id": "yVvWCzXUgiv-"
      },
      "execution_count": null,
      "outputs": []
    },
    {
      "cell_type": "code",
      "source": [
        "device = torch.device(\"cuda:0\" if torch.cuda.is_available() else \"cpu\")\n",
        "generator = Generator().to(device)\n",
        "discriminator = Discriminator().to(device)\n",
        "class FlowerClient(FlowerClient):\n",
        "    def fit(self, parameters, config):\n",
        "        \"\"\"This method train the model using the parameters sent by the\n",
        "        server on the dataset of this client. At then end, the parameters\n",
        "        of the locally trained model are communicated back to the server\"\"\"\n",
        "        # print(f\"[Client {self.cid}] fit, config: {config}\")\n",
        "        # copy parameters sent by the server into client's local model\n",
        "        self.set_parameters(parameters)\n",
        "        lr, epochs = config[\"lr\"], config[\"epochs\"]\n",
        "\n",
        "        optimizer_net = torch.optim.SGD(self.model.parameters(), lr=lr)\n",
        "        criterion = torch.nn.CrossEntropyLoss()\n",
        "        scheduler_net = lr_scheduler.StepLR(optimizer_net, step_size=2, gamma=0.1)\n",
        "        i = 0\n",
        "        if self.cid in [0, 1, 2]:\n",
        "            print('ATTACKER')\n",
        "            attacker_lr, attacker_epochs = config[\"attacker_lr\"], config[\"attacker_epochs\"]\n",
        "            loss, accuracy = test(self.model, self.testloader, device=self.device)\n",
        "            criterion_d = torch.nn.BCELoss()\n",
        "            optimizer_g = torch.optim.Adam(generator.parameters(), lr=0.0001, betas=(0.5, 0.999))\n",
        "            scheduler_g = lr_scheduler.StepLR(optimizer_g, step_size=2, gamma=0.1)\n",
        "            optimizer_d = torch.optim.Adam(discriminator.parameters(), lr=0.0001, betas=(0.5, 0.999))\n",
        "            scheduler_d = lr_scheduler.StepLR(optimizer_d, step_size=2, gamma=0.1)\n",
        "\n",
        "            if accuracy > 60:\n",
        "                train(net=self.model, trainloader=self.trainloader, optim=optimizer_net, scheduler=scheduler_net, criterion=criterion, epochs=epochs, device=self.device)\n",
        "                poisontrain(self.model, generator, discriminator, self.trainloader,\n",
        "                          optimizer_net, optimizer_g, optimizer_d,\n",
        "                          scheduler_net, scheduler_g, scheduler_d,\n",
        "                          criterion, criterion_d, attacker_epochs, self.device)\n",
        "            else:\n",
        "                poisontrain(self.model, generator, discriminator, self.trainloader,\n",
        "                          optimizer_net, optimizer_g, optimizer_d,\n",
        "                          scheduler_net, scheduler_g, scheduler_d,\n",
        "                          criterion, criterion_d, attacker_epochs, self.device)\n",
        "        else:\n",
        "            train(net=self.model, trainloader=self.trainloader, optim=optimizer_net, scheduler=scheduler_net, criterion=criterion, epochs=epochs, device=self.device)\n",
        "\n",
        "        # return the model parameters to the server as well as extra info (number of training examples in this case)\n",
        "        return self.get_parameters({}), len(self.trainloader), {}\n",
        "\n",
        "    def evaluate(self, parameters: NDArrays, config: Dict[str, Scalar]):\n",
        "        \"\"\"Evaluate the model sent by the server on this client's\n",
        "        local validation set. Then return performance metrics.\"\"\"\n",
        "\n",
        "        self.set_parameters(parameters)\n",
        "        loss, accuracy = test(self.model, self.valloader, device=self.device)\n",
        "\n",
        "        return float(loss), len(self.valloader), {\"accuracy\": accuracy}"
      ],
      "metadata": {
        "id": "UYzulLVecDhh"
      },
      "execution_count": null,
      "outputs": []
    },
    {
      "cell_type": "code",
      "source": [
        "import glob\n",
        "import os\n",
        "net = Net(10)\n",
        "# list_of_files = [fname for fname in glob.glob(\"./model_round_*\")]\n",
        "# latest_round_file = max(list_of_files, key=os.path.getctime)\n",
        "latest_round_file = './model_round_df.pth'\n",
        "print(\"Loading pre-trained model from: \", latest_round_file)\n",
        "state_dict = torch.load(latest_round_file)\n",
        "net.load_state_dict(state_dict)"
      ],
      "metadata": {
        "id": "nMbxpOIuciXY",
        "outputId": "96c6e589-f598-4d1f-fe40-9a73621d8a37",
        "colab": {
          "base_uri": "https://localhost:8080/"
        }
      },
      "execution_count": null,
      "outputs": [
        {
          "output_type": "stream",
          "name": "stdout",
          "text": [
            "Loading pre-trained model from:  ./model_round_df.pth\n"
          ]
        },
        {
          "output_type": "execute_result",
          "data": {
            "text/plain": [
              "<All keys matched successfully>"
            ]
          },
          "metadata": {},
          "execution_count": 25
        }
      ]
    },
    {
      "cell_type": "code",
      "source": [
        "def get_parameters():\n",
        "    \"\"\"Extract all model parameters and conver them to a list of\n",
        "    NumPy arryas. The server doesn't work with PyTorch/TF/etc.\"\"\"\n",
        "    return [val.cpu().numpy() for _, val in net.state_dict().items()]"
      ],
      "metadata": {
        "id": "DAGYFxwKnosX"
      },
      "execution_count": null,
      "outputs": []
    },
    {
      "cell_type": "code",
      "source": [
        "params = get_parameters()\n",
        "\n",
        "strategy = SaveModelStrategy(\n",
        "    fraction_fit=0.31,  # Sample 10% of available clients for training\n",
        "    fraction_evaluate=0.31,  # Sample 5% of available clients for evaluation\n",
        "    on_fit_config_fn=fit_config,\n",
        "    evaluate_metrics_aggregation_fn=weighted_average,  # aggregates federated metrics\n",
        "    evaluate_fn=get_evaluate_fn(centralized_testset),  # global evaluation function\n",
        "    initial_parameters=fl.common.ndarrays_to_parameters(params),\n",
        ")"
      ],
      "metadata": {
        "id": "3Hx55QIkdjce"
      },
      "execution_count": null,
      "outputs": []
    },
    {
      "cell_type": "code",
      "source": [
        "# With a dictionary, you tell Flower's VirtualClientEngine that each\n",
        "# client needs exclusive access to these many resources in order to run\n",
        "client_resources = {\"num_cpus\": 2, \"num_gpus\": 1}\n",
        "\n",
        "# Let's disable tqdm progress bar in the main thread (used by the server)\n",
        "disable_progress_bar()\n",
        "history = fl.simulation.start_simulation(\n",
        "    client_fn=client_fn_callback,  # a callback to construct a client\n",
        "    num_clients=NUM_CLIENTS,  # total number of clients in the experiment\n",
        "    config=fl.server.ServerConfig(num_rounds=50),  # let's run for 10 rounds\n",
        "    strategy=strategy,  # the strategy that will orchestrate the whole FL pipeline\n",
        "    client_resources=client_resources,\n",
        "    actor_kwargs={\n",
        "        \"on_actor_init_fn\": disable_progress_bar  # disable tqdm on each actor/process spawning virtual clients\n",
        "    },\n",
        ")"
      ],
      "metadata": {
        "id": "kFfMZwVVchgj",
        "outputId": "2de558d9-0fd8-4040-809e-6437397c9483",
        "colab": {
          "base_uri": "https://localhost:8080/"
        }
      },
      "execution_count": null,
      "outputs": [
        {
          "output_type": "stream",
          "name": "stderr",
          "text": [
            "INFO flwr 2024-01-20 14:20:45,976 | app.py:178 | Starting Flower simulation, config: ServerConfig(num_rounds=50, round_timeout=None)\n",
            "INFO:flwr:Starting Flower simulation, config: ServerConfig(num_rounds=50, round_timeout=None)\n",
            "2024-01-20 14:20:50,999\tINFO worker.py:1621 -- Started a local Ray instance.\n",
            "INFO flwr 2024-01-20 14:20:54,874 | app.py:213 | Flower VCE: Ray initialized with resources: {'CPU': 2.0, 'object_store_memory': 3955858636.0, 'node:__internal_head__': 1.0, 'memory': 7911717275.0, 'node:172.28.0.12': 1.0, 'GPU': 1.0}\n",
            "INFO:flwr:Flower VCE: Ray initialized with resources: {'CPU': 2.0, 'object_store_memory': 3955858636.0, 'node:__internal_head__': 1.0, 'memory': 7911717275.0, 'node:172.28.0.12': 1.0, 'GPU': 1.0}\n",
            "INFO flwr 2024-01-20 14:20:54,881 | app.py:219 | Optimize your simulation with Flower VCE: https://flower.dev/docs/framework/how-to-run-simulations.html\n",
            "INFO:flwr:Optimize your simulation with Flower VCE: https://flower.dev/docs/framework/how-to-run-simulations.html\n",
            "INFO flwr 2024-01-20 14:20:54,883 | app.py:242 | Flower VCE: Resources for each Virtual Client: {'num_cpus': 2, 'num_gpus': 1}\n",
            "INFO:flwr:Flower VCE: Resources for each Virtual Client: {'num_cpus': 2, 'num_gpus': 1}\n",
            "INFO flwr 2024-01-20 14:20:55,004 | app.py:288 | Flower VCE: Creating VirtualClientEngineActorPool with 1 actors\n",
            "INFO:flwr:Flower VCE: Creating VirtualClientEngineActorPool with 1 actors\n",
            "INFO flwr 2024-01-20 14:20:55,011 | server.py:89 | Initializing global parameters\n",
            "INFO:flwr:Initializing global parameters\n",
            "INFO flwr 2024-01-20 14:20:55,015 | server.py:272 | Using initial parameters provided by strategy\n",
            "INFO:flwr:Using initial parameters provided by strategy\n",
            "INFO flwr 2024-01-20 14:20:55,019 | server.py:91 | Evaluating initial parameters\n",
            "INFO:flwr:Evaluating initial parameters\n",
            "\u001b[2m\u001b[36m(pid=1602)\u001b[0m 2024-01-20 14:21:10.548956: E external/local_xla/xla/stream_executor/cuda/cuda_dnn.cc:9261] Unable to register cuDNN factory: Attempting to register factory for plugin cuDNN when one has already been registered\n",
            "\u001b[2m\u001b[36m(pid=1602)\u001b[0m 2024-01-20 14:21:10.549033: E external/local_xla/xla/stream_executor/cuda/cuda_fft.cc:607] Unable to register cuFFT factory: Attempting to register factory for plugin cuFFT when one has already been registered\n",
            "\u001b[2m\u001b[36m(pid=1602)\u001b[0m 2024-01-20 14:21:10.556177: E external/local_xla/xla/stream_executor/cuda/cuda_blas.cc:1515] Unable to register cuBLAS factory: Attempting to register factory for plugin cuBLAS when one has already been registered\n",
            "\u001b[2m\u001b[36m(pid=1602)\u001b[0m 2024-01-20 14:21:13.966957: W tensorflow/compiler/tf2tensorrt/utils/py_utils.cc:38] TF-TRT Warning: Could not find TensorRT\n",
            "INFO flwr 2024-01-20 14:21:25,405 | server.py:94 | initial parameters (loss, other metrics): 317.62003779411316, {'accuracy': 0.5813953488372093}\n",
            "INFO:flwr:initial parameters (loss, other metrics): 317.62003779411316, {'accuracy': 0.5813953488372093}\n",
            "INFO flwr 2024-01-20 14:21:25,411 | server.py:104 | FL starting\n",
            "INFO:flwr:FL starting\n",
            "DEBUG flwr 2024-01-20 14:21:25,417 | server.py:222 | fit_round 1: strategy sampled 10 clients (out of 33)\n",
            "DEBUG:flwr:fit_round 1: strategy sampled 10 clients (out of 33)\n"
          ]
        },
        {
          "output_type": "stream",
          "name": "stdout",
          "text": [
            "GLOBAL TEST\n"
          ]
        },
        {
          "output_type": "stream",
          "name": "stderr",
          "text": [
            "DEBUG flwr 2024-01-20 14:22:50,863 | server.py:236 | fit_round 1 received 10 results and 0 failures\n",
            "DEBUG:flwr:fit_round 1 received 10 results and 0 failures\n",
            "WARNING flwr 2024-01-20 14:22:50,980 | fedavg.py:242 | No fit_metrics_aggregation_fn provided\n",
            "WARNING:flwr:No fit_metrics_aggregation_fn provided\n"
          ]
        },
        {
          "output_type": "stream",
          "name": "stdout",
          "text": [
            "Saving round 1 aggregated_parameters...\n"
          ]
        },
        {
          "output_type": "stream",
          "name": "stderr",
          "text": [
            "INFO flwr 2024-01-20 14:23:08,961 | server.py:125 | fit progress: (1, 314.67152643203735, {'accuracy': 0.29069767441860467}, 103.54422391499998)\n",
            "INFO:flwr:fit progress: (1, 314.67152643203735, {'accuracy': 0.29069767441860467}, 103.54422391499998)\n",
            "DEBUG flwr 2024-01-20 14:23:08,964 | server.py:173 | evaluate_round 1: strategy sampled 10 clients (out of 33)\n",
            "DEBUG:flwr:evaluate_round 1: strategy sampled 10 clients (out of 33)\n"
          ]
        },
        {
          "output_type": "stream",
          "name": "stdout",
          "text": [
            "GLOBAL TEST\n"
          ]
        },
        {
          "output_type": "stream",
          "name": "stderr",
          "text": [
            "DEBUG flwr 2024-01-20 14:23:13,041 | server.py:187 | evaluate_round 1 received 10 results and 0 failures\n",
            "DEBUG:flwr:evaluate_round 1 received 10 results and 0 failures\n",
            "DEBUG flwr 2024-01-20 14:23:13,045 | server.py:222 | fit_round 2: strategy sampled 10 clients (out of 33)\n",
            "DEBUG:flwr:fit_round 2: strategy sampled 10 clients (out of 33)\n",
            "DEBUG flwr 2024-01-20 14:24:34,954 | server.py:236 | fit_round 2 received 10 results and 0 failures\n",
            "DEBUG:flwr:fit_round 2 received 10 results and 0 failures\n"
          ]
        },
        {
          "output_type": "stream",
          "name": "stdout",
          "text": [
            "Saving round 2 aggregated_parameters...\n"
          ]
        },
        {
          "output_type": "stream",
          "name": "stderr",
          "text": [
            "INFO flwr 2024-01-20 14:24:51,664 | server.py:125 | fit progress: (2, 314.0591632127762, {'accuracy': 0.29069767441860467}, 206.24769346999994)\n",
            "INFO:flwr:fit progress: (2, 314.0591632127762, {'accuracy': 0.29069767441860467}, 206.24769346999994)\n",
            "DEBUG flwr 2024-01-20 14:24:51,669 | server.py:173 | evaluate_round 2: strategy sampled 10 clients (out of 33)\n",
            "DEBUG:flwr:evaluate_round 2: strategy sampled 10 clients (out of 33)\n"
          ]
        },
        {
          "output_type": "stream",
          "name": "stdout",
          "text": [
            "GLOBAL TEST\n"
          ]
        },
        {
          "output_type": "stream",
          "name": "stderr",
          "text": [
            "DEBUG flwr 2024-01-20 14:24:55,444 | server.py:187 | evaluate_round 2 received 10 results and 0 failures\n",
            "DEBUG:flwr:evaluate_round 2 received 10 results and 0 failures\n",
            "DEBUG flwr 2024-01-20 14:24:55,451 | server.py:222 | fit_round 3: strategy sampled 10 clients (out of 33)\n",
            "DEBUG:flwr:fit_round 3: strategy sampled 10 clients (out of 33)\n"
          ]
        },
        {
          "output_type": "stream",
          "name": "stdout",
          "text": [
            "\u001b[2m\u001b[36m(DefaultActor pid=1602)\u001b[0m ATTACKER\n",
            "\u001b[2m\u001b[36m(DefaultActor pid=1602)\u001b[0m output size:  256\n",
            "\u001b[2m\u001b[36m(DefaultActor pid=1602)\u001b[0m selected images size:  83\n",
            "\u001b[2m\u001b[36m(DefaultActor pid=1602)\u001b[0m ATTACKER\n",
            "\u001b[2m\u001b[36m(DefaultActor pid=1602)\u001b[0m output size:  256\n",
            "\u001b[2m\u001b[36m(DefaultActor pid=1602)\u001b[0m selected images size:  71\n",
            "\u001b[2m\u001b[36m(DefaultActor pid=1602)\u001b[0m output size:  256\n",
            "\u001b[2m\u001b[36m(DefaultActor pid=1602)\u001b[0m selected images size:  1\n",
            "\u001b[2m\u001b[36m(DefaultActor pid=1602)\u001b[0m output size:  256\n",
            "\u001b[2m\u001b[36m(DefaultActor pid=1602)\u001b[0m selected images size:  1\n",
            "\u001b[2m\u001b[36m(DefaultActor pid=1602)\u001b[0m output size:  101\n",
            "\u001b[2m\u001b[36m(DefaultActor pid=1602)\u001b[0m selected images size:  1\n",
            "\u001b[2m\u001b[36m(DefaultActor pid=1602)\u001b[0m output size:  256\n",
            "\u001b[2m\u001b[36m(DefaultActor pid=1602)\u001b[0m selected images size:  2\n",
            "\u001b[2m\u001b[36m(DefaultActor pid=1602)\u001b[0m output size:  256\n",
            "\u001b[2m\u001b[36m(DefaultActor pid=1602)\u001b[0m selected images size:  1\n",
            "\u001b[2m\u001b[36m(DefaultActor pid=1602)\u001b[0m output size:  256\n",
            "\u001b[2m\u001b[36m(DefaultActor pid=1602)\u001b[0m selected images size:  3\n",
            "\u001b[2m\u001b[36m(DefaultActor pid=1602)\u001b[0m output size:  256\n",
            "\u001b[2m\u001b[36m(DefaultActor pid=1602)\u001b[0m selected images size:  4\n",
            "\u001b[2m\u001b[36m(DefaultActor pid=1602)\u001b[0m output size:  256\n",
            "\u001b[2m\u001b[36m(DefaultActor pid=1602)\u001b[0m selected images size:  8\n",
            "\u001b[2m\u001b[36m(DefaultActor pid=1602)\u001b[0m output size:  101\n",
            "\u001b[2m\u001b[36m(DefaultActor pid=1602)\u001b[0m selected images size:  2\n",
            "\u001b[2m\u001b[36m(DefaultActor pid=1602)\u001b[0m output size:  256\n",
            "\u001b[2m\u001b[36m(DefaultActor pid=1602)\u001b[0m selected images size:  9\n",
            "\u001b[2m\u001b[36m(DefaultActor pid=1602)\u001b[0m output size:  256\n",
            "\u001b[2m\u001b[36m(DefaultActor pid=1602)\u001b[0m selected images size:  9\n",
            "\u001b[2m\u001b[36m(DefaultActor pid=1602)\u001b[0m output size:  256\n",
            "\u001b[2m\u001b[36m(DefaultActor pid=1602)\u001b[0m selected images size:  19\n",
            "\u001b[2m\u001b[36m(DefaultActor pid=1602)\u001b[0m output size:  256\n",
            "\u001b[2m\u001b[36m(DefaultActor pid=1602)\u001b[0m selected images size:  11\n",
            "\u001b[2m\u001b[36m(DefaultActor pid=1602)\u001b[0m output size:  256\n",
            "\u001b[2m\u001b[36m(DefaultActor pid=1602)\u001b[0m selected images size:  22\n",
            "\u001b[2m\u001b[36m(DefaultActor pid=1602)\u001b[0m output size:  256\n",
            "\u001b[2m\u001b[36m(DefaultActor pid=1602)\u001b[0m selected images size:  21\n",
            "\u001b[2m\u001b[36m(DefaultActor pid=1602)\u001b[0m output size:  101\n",
            "\u001b[2m\u001b[36m(DefaultActor pid=1602)\u001b[0m selected images size:  11\n",
            "\u001b[2m\u001b[36m(DefaultActor pid=1602)\u001b[0m output size:  256\n",
            "\u001b[2m\u001b[36m(DefaultActor pid=1602)\u001b[0m selected images size:  18\n",
            "\u001b[2m\u001b[36m(DefaultActor pid=1602)\u001b[0m output size:  256\n",
            "\u001b[2m\u001b[36m(DefaultActor pid=1602)\u001b[0m selected images size:  16\n",
            "\u001b[2m\u001b[36m(DefaultActor pid=1602)\u001b[0m output size:  256\n",
            "\u001b[2m\u001b[36m(DefaultActor pid=1602)\u001b[0m selected images size:  11\n",
            "\u001b[2m\u001b[36m(DefaultActor pid=1602)\u001b[0m output size:  256\n",
            "\u001b[2m\u001b[36m(DefaultActor pid=1602)\u001b[0m selected images size:  16\n",
            "\u001b[2m\u001b[36m(DefaultActor pid=1602)\u001b[0m output size:  256\n",
            "\u001b[2m\u001b[36m(DefaultActor pid=1602)\u001b[0m selected images size:  5\n",
            "\u001b[2m\u001b[36m(DefaultActor pid=1602)\u001b[0m output size:  256\n",
            "\u001b[2m\u001b[36m(DefaultActor pid=1602)\u001b[0m selected images size:  11\n",
            "\u001b[2m\u001b[36m(DefaultActor pid=1602)\u001b[0m output size:  101\n",
            "\u001b[2m\u001b[36m(DefaultActor pid=1602)\u001b[0m selected images size:  3\n",
            "\u001b[2m\u001b[36m(DefaultActor pid=1602)\u001b[0m output size:  256\n",
            "\u001b[2m\u001b[36m(DefaultActor pid=1602)\u001b[0m selected images size:  13\n",
            "\u001b[2m\u001b[36m(DefaultActor pid=1602)\u001b[0m output size:  256\n",
            "\u001b[2m\u001b[36m(DefaultActor pid=1602)\u001b[0m selected images size:  11\n",
            "\u001b[2m\u001b[36m(DefaultActor pid=1602)\u001b[0m output size:  256\n",
            "\u001b[2m\u001b[36m(DefaultActor pid=1602)\u001b[0m selected images size:  8\n",
            "\u001b[2m\u001b[36m(DefaultActor pid=1602)\u001b[0m output size:  256\n",
            "\u001b[2m\u001b[36m(DefaultActor pid=1602)\u001b[0m selected images size:  14\n",
            "\u001b[2m\u001b[36m(DefaultActor pid=1602)\u001b[0m output size:  256\n",
            "\u001b[2m\u001b[36m(DefaultActor pid=1602)\u001b[0m selected images size:  12\n",
            "\u001b[2m\u001b[36m(DefaultActor pid=1602)\u001b[0m output size:  256\n",
            "\u001b[2m\u001b[36m(DefaultActor pid=1602)\u001b[0m selected images size:  13\n",
            "\u001b[2m\u001b[36m(DefaultActor pid=1602)\u001b[0m output size:  101\n",
            "\u001b[2m\u001b[36m(DefaultActor pid=1602)\u001b[0m selected images size:  7\n",
            "\u001b[2m\u001b[36m(DefaultActor pid=1602)\u001b[0m output size:  256\n",
            "\u001b[2m\u001b[36m(DefaultActor pid=1602)\u001b[0m selected images size:  22\n",
            "\u001b[2m\u001b[36m(DefaultActor pid=1602)\u001b[0m output size:  256\n",
            "\u001b[2m\u001b[36m(DefaultActor pid=1602)\u001b[0m selected images size:  21\n",
            "\u001b[2m\u001b[36m(DefaultActor pid=1602)\u001b[0m output size:  256\n",
            "\u001b[2m\u001b[36m(DefaultActor pid=1602)\u001b[0m selected images size:  18\n",
            "\u001b[2m\u001b[36m(DefaultActor pid=1602)\u001b[0m output size:  256\n",
            "\u001b[2m\u001b[36m(DefaultActor pid=1602)\u001b[0m selected images size:  34\n",
            "\u001b[2m\u001b[36m(DefaultActor pid=1602)\u001b[0m output size:  256\n",
            "\u001b[2m\u001b[36m(DefaultActor pid=1602)\u001b[0m selected images size:  31\n",
            "\u001b[2m\u001b[36m(DefaultActor pid=1602)\u001b[0m output size:  256\n",
            "\u001b[2m\u001b[36m(DefaultActor pid=1602)\u001b[0m selected images size:  36\n",
            "\u001b[2m\u001b[36m(DefaultActor pid=1602)\u001b[0m output size:  101\n",
            "\u001b[2m\u001b[36m(DefaultActor pid=1602)\u001b[0m selected images size:  12\n"
          ]
        },
        {
          "output_type": "stream",
          "name": "stderr",
          "text": [
            "DEBUG flwr 2024-01-20 14:27:53,961 | server.py:236 | fit_round 3 received 10 results and 0 failures\n",
            "DEBUG:flwr:fit_round 3 received 10 results and 0 failures\n"
          ]
        },
        {
          "output_type": "stream",
          "name": "stdout",
          "text": [
            "Saving round 3 aggregated_parameters...\n"
          ]
        },
        {
          "output_type": "stream",
          "name": "stderr",
          "text": [
            "INFO flwr 2024-01-20 14:28:10,574 | server.py:125 | fit progress: (3, 313.9599962234497, {'accuracy': 0.3875968992248062}, 405.157685638)\n",
            "INFO:flwr:fit progress: (3, 313.9599962234497, {'accuracy': 0.3875968992248062}, 405.157685638)\n",
            "DEBUG flwr 2024-01-20 14:28:10,581 | server.py:173 | evaluate_round 3: strategy sampled 10 clients (out of 33)\n",
            "DEBUG:flwr:evaluate_round 3: strategy sampled 10 clients (out of 33)\n"
          ]
        },
        {
          "output_type": "stream",
          "name": "stdout",
          "text": [
            "GLOBAL TEST\n"
          ]
        },
        {
          "output_type": "stream",
          "name": "stderr",
          "text": [
            "DEBUG flwr 2024-01-20 14:28:14,615 | server.py:187 | evaluate_round 3 received 10 results and 0 failures\n",
            "DEBUG:flwr:evaluate_round 3 received 10 results and 0 failures\n",
            "DEBUG flwr 2024-01-20 14:28:14,619 | server.py:222 | fit_round 4: strategy sampled 10 clients (out of 33)\n",
            "DEBUG:flwr:fit_round 4: strategy sampled 10 clients (out of 33)\n"
          ]
        },
        {
          "output_type": "stream",
          "name": "stdout",
          "text": [
            "\u001b[2m\u001b[36m(DefaultActor pid=1602)\u001b[0m ATTACKER\n",
            "\u001b[2m\u001b[36m(DefaultActor pid=1602)\u001b[0m output size:  101\n",
            "\u001b[2m\u001b[36m(DefaultActor pid=1602)\u001b[0m selected images size:  1\n"
          ]
        },
        {
          "output_type": "stream",
          "name": "stderr",
          "text": [
            "DEBUG flwr 2024-01-20 14:30:23,918 | server.py:236 | fit_round 4 received 10 results and 0 failures\n",
            "DEBUG:flwr:fit_round 4 received 10 results and 0 failures\n"
          ]
        },
        {
          "output_type": "stream",
          "name": "stdout",
          "text": [
            "Saving round 4 aggregated_parameters...\n"
          ]
        },
        {
          "output_type": "stream",
          "name": "stderr",
          "text": [
            "INFO flwr 2024-01-20 14:30:40,615 | server.py:125 | fit progress: (4, 313.86638712882996, {'accuracy': 0.3875968992248062}, 555.1984228)\n",
            "INFO:flwr:fit progress: (4, 313.86638712882996, {'accuracy': 0.3875968992248062}, 555.1984228)\n",
            "DEBUG flwr 2024-01-20 14:30:40,619 | server.py:173 | evaluate_round 4: strategy sampled 10 clients (out of 33)\n",
            "DEBUG:flwr:evaluate_round 4: strategy sampled 10 clients (out of 33)\n"
          ]
        },
        {
          "output_type": "stream",
          "name": "stdout",
          "text": [
            "GLOBAL TEST\n"
          ]
        },
        {
          "output_type": "stream",
          "name": "stderr",
          "text": [
            "DEBUG flwr 2024-01-20 14:30:45,734 | server.py:187 | evaluate_round 4 received 10 results and 0 failures\n",
            "DEBUG:flwr:evaluate_round 4 received 10 results and 0 failures\n",
            "DEBUG flwr 2024-01-20 14:30:45,742 | server.py:222 | fit_round 5: strategy sampled 10 clients (out of 33)\n",
            "DEBUG:flwr:fit_round 5: strategy sampled 10 clients (out of 33)\n"
          ]
        },
        {
          "output_type": "stream",
          "name": "stdout",
          "text": [
            "\u001b[2m\u001b[36m(DefaultActor pid=1602)\u001b[0m ATTACKER\n"
          ]
        },
        {
          "output_type": "stream",
          "name": "stderr",
          "text": [
            "\u001b[2m\u001b[36m(DefaultActor pid=1602)\u001b[0m /usr/local/lib/python3.10/dist-packages/torch/optim/lr_scheduler.py:136: UserWarning: Detected call of `lr_scheduler.step()` before `optimizer.step()`. In PyTorch 1.1.0 and later, you should call them in the opposite order: `optimizer.step()` before `lr_scheduler.step()`.  Failure to do this will result in PyTorch skipping the first value of the learning rate schedule. See more details at https://pytorch.org/docs/stable/optim.html#how-to-adjust-learning-rate\n",
            "\u001b[2m\u001b[36m(DefaultActor pid=1602)\u001b[0m   warnings.warn(\"Detected call of `lr_scheduler.step()` before `optimizer.step()`. \"\n"
          ]
        },
        {
          "output_type": "stream",
          "name": "stdout",
          "text": [
            "\u001b[2m\u001b[36m(DefaultActor pid=1602)\u001b[0m output size:  256\n",
            "\u001b[2m\u001b[36m(DefaultActor pid=1602)\u001b[0m selected images size:  1\n",
            "\u001b[2m\u001b[36m(DefaultActor pid=1602)\u001b[0m output size:  256\n",
            "\u001b[2m\u001b[36m(DefaultActor pid=1602)\u001b[0m selected images size:  2\n",
            "\u001b[2m\u001b[36m(DefaultActor pid=1602)\u001b[0m output size:  256\n",
            "\u001b[2m\u001b[36m(DefaultActor pid=1602)\u001b[0m selected images size:  10\n",
            "\u001b[2m\u001b[36m(DefaultActor pid=1602)\u001b[0m output size:  256\n",
            "\u001b[2m\u001b[36m(DefaultActor pid=1602)\u001b[0m selected images size:  14\n",
            "\u001b[2m\u001b[36m(DefaultActor pid=1602)\u001b[0m output size:  256\n",
            "\u001b[2m\u001b[36m(DefaultActor pid=1602)\u001b[0m selected images size:  15\n",
            "\u001b[2m\u001b[36m(DefaultActor pid=1602)\u001b[0m output size:  101\n",
            "\u001b[2m\u001b[36m(DefaultActor pid=1602)\u001b[0m selected images size:  5\n",
            "\u001b[2m\u001b[36m(DefaultActor pid=1602)\u001b[0m output size:  256\n",
            "\u001b[2m\u001b[36m(DefaultActor pid=1602)\u001b[0m selected images size:  9\n",
            "\u001b[2m\u001b[36m(DefaultActor pid=1602)\u001b[0m output size:  256\n",
            "\u001b[2m\u001b[36m(DefaultActor pid=1602)\u001b[0m selected images size:  8\n",
            "\u001b[2m\u001b[36m(DefaultActor pid=1602)\u001b[0m output size:  256\n",
            "\u001b[2m\u001b[36m(DefaultActor pid=1602)\u001b[0m selected images size:  8\n",
            "\u001b[2m\u001b[36m(DefaultActor pid=1602)\u001b[0m output size:  256\n",
            "\u001b[2m\u001b[36m(DefaultActor pid=1602)\u001b[0m selected images size:  6\n",
            "\u001b[2m\u001b[36m(DefaultActor pid=1602)\u001b[0m output size:  256\n",
            "\u001b[2m\u001b[36m(DefaultActor pid=1602)\u001b[0m selected images size:  15\n",
            "\u001b[2m\u001b[36m(DefaultActor pid=1602)\u001b[0m output size:  256\n",
            "\u001b[2m\u001b[36m(DefaultActor pid=1602)\u001b[0m selected images size:  23\n",
            "\u001b[2m\u001b[36m(DefaultActor pid=1602)\u001b[0m output size:  101\n",
            "\u001b[2m\u001b[36m(DefaultActor pid=1602)\u001b[0m selected images size:  11\n",
            "\u001b[2m\u001b[36m(DefaultActor pid=1602)\u001b[0m output size:  256\n",
            "\u001b[2m\u001b[36m(DefaultActor pid=1602)\u001b[0m selected images size:  34\n",
            "\u001b[2m\u001b[36m(DefaultActor pid=1602)\u001b[0m output size:  256\n",
            "\u001b[2m\u001b[36m(DefaultActor pid=1602)\u001b[0m selected images size:  23\n",
            "\u001b[2m\u001b[36m(DefaultActor pid=1602)\u001b[0m output size:  256\n",
            "\u001b[2m\u001b[36m(DefaultActor pid=1602)\u001b[0m selected images size:  18\n",
            "\u001b[2m\u001b[36m(DefaultActor pid=1602)\u001b[0m output size:  256\n",
            "\u001b[2m\u001b[36m(DefaultActor pid=1602)\u001b[0m selected images size:  11\n",
            "\u001b[2m\u001b[36m(DefaultActor pid=1602)\u001b[0m output size:  256\n",
            "\u001b[2m\u001b[36m(DefaultActor pid=1602)\u001b[0m selected images size:  16\n",
            "\u001b[2m\u001b[36m(DefaultActor pid=1602)\u001b[0m output size:  256\n",
            "\u001b[2m\u001b[36m(DefaultActor pid=1602)\u001b[0m selected images size:  9\n",
            "\u001b[2m\u001b[36m(DefaultActor pid=1602)\u001b[0m output size:  101\n",
            "\u001b[2m\u001b[36m(DefaultActor pid=1602)\u001b[0m selected images size:  7\n",
            "\u001b[2m\u001b[36m(DefaultActor pid=1602)\u001b[0m output size:  256\n",
            "\u001b[2m\u001b[36m(DefaultActor pid=1602)\u001b[0m selected images size:  9\n",
            "\u001b[2m\u001b[36m(DefaultActor pid=1602)\u001b[0m output size:  256\n",
            "\u001b[2m\u001b[36m(DefaultActor pid=1602)\u001b[0m selected images size:  22\n",
            "\u001b[2m\u001b[36m(DefaultActor pid=1602)\u001b[0m output size:  256\n",
            "\u001b[2m\u001b[36m(DefaultActor pid=1602)\u001b[0m selected images size:  22\n",
            "\u001b[2m\u001b[36m(DefaultActor pid=1602)\u001b[0m output size:  256\n",
            "\u001b[2m\u001b[36m(DefaultActor pid=1602)\u001b[0m selected images size:  28\n",
            "\u001b[2m\u001b[36m(DefaultActor pid=1602)\u001b[0m output size:  256\n",
            "\u001b[2m\u001b[36m(DefaultActor pid=1602)\u001b[0m selected images size:  32\n",
            "\u001b[2m\u001b[36m(DefaultActor pid=1602)\u001b[0m output size:  256\n",
            "\u001b[2m\u001b[36m(DefaultActor pid=1602)\u001b[0m selected images size:  41\n",
            "\u001b[2m\u001b[36m(DefaultActor pid=1602)\u001b[0m output size:  101\n",
            "\u001b[2m\u001b[36m(DefaultActor pid=1602)\u001b[0m selected images size:  13\n",
            "\u001b[2m\u001b[36m(DefaultActor pid=1602)\u001b[0m output size:  256\n",
            "\u001b[2m\u001b[36m(DefaultActor pid=1602)\u001b[0m selected images size:  48\n",
            "\u001b[2m\u001b[36m(DefaultActor pid=1602)\u001b[0m output size:  256\n",
            "\u001b[2m\u001b[36m(DefaultActor pid=1602)\u001b[0m selected images size:  52\n",
            "\u001b[2m\u001b[36m(DefaultActor pid=1602)\u001b[0m output size:  256\n",
            "\u001b[2m\u001b[36m(DefaultActor pid=1602)\u001b[0m selected images size:  69\n",
            "\u001b[2m\u001b[36m(DefaultActor pid=1602)\u001b[0m output size:  256\n",
            "\u001b[2m\u001b[36m(DefaultActor pid=1602)\u001b[0m selected images size:  57\n",
            "\u001b[2m\u001b[36m(DefaultActor pid=1602)\u001b[0m output size:  256\n",
            "\u001b[2m\u001b[36m(DefaultActor pid=1602)\u001b[0m selected images size:  60\n",
            "\u001b[2m\u001b[36m(DefaultActor pid=1602)\u001b[0m output size:  256\n",
            "\u001b[2m\u001b[36m(DefaultActor pid=1602)\u001b[0m selected images size:  64\n",
            "\u001b[2m\u001b[36m(DefaultActor pid=1602)\u001b[0m output size:  101\n",
            "\u001b[2m\u001b[36m(DefaultActor pid=1602)\u001b[0m selected images size:  21\n",
            "\u001b[2m\u001b[36m(DefaultActor pid=1602)\u001b[0m output size:  256\n",
            "\u001b[2m\u001b[36m(DefaultActor pid=1602)\u001b[0m selected images size:  52\n",
            "\u001b[2m\u001b[36m(DefaultActor pid=1602)\u001b[0m output size:  256\n",
            "\u001b[2m\u001b[36m(DefaultActor pid=1602)\u001b[0m selected images size:  53\n",
            "\u001b[2m\u001b[36m(DefaultActor pid=1602)\u001b[0m output size:  256\n",
            "\u001b[2m\u001b[36m(DefaultActor pid=1602)\u001b[0m selected images size:  43\n",
            "\u001b[2m\u001b[36m(DefaultActor pid=1602)\u001b[0m output size:  256\n",
            "\u001b[2m\u001b[36m(DefaultActor pid=1602)\u001b[0m selected images size:  34\n",
            "\u001b[2m\u001b[36m(DefaultActor pid=1602)\u001b[0m output size:  256\n",
            "\u001b[2m\u001b[36m(DefaultActor pid=1602)\u001b[0m selected images size:  21\n",
            "\u001b[2m\u001b[36m(DefaultActor pid=1602)\u001b[0m output size:  256\n",
            "\u001b[2m\u001b[36m(DefaultActor pid=1602)\u001b[0m selected images size:  40\n",
            "\u001b[2m\u001b[36m(DefaultActor pid=1602)\u001b[0m output size:  101\n",
            "\u001b[2m\u001b[36m(DefaultActor pid=1602)\u001b[0m selected images size:  10\n",
            "\u001b[2m\u001b[36m(DefaultActor pid=1602)\u001b[0m output size:  256\n",
            "\u001b[2m\u001b[36m(DefaultActor pid=1602)\u001b[0m selected images size:  30\n",
            "\u001b[2m\u001b[36m(DefaultActor pid=1602)\u001b[0m output size:  256\n",
            "\u001b[2m\u001b[36m(DefaultActor pid=1602)\u001b[0m selected images size:  36\n",
            "\u001b[2m\u001b[36m(DefaultActor pid=1602)\u001b[0m output size:  256\n",
            "\u001b[2m\u001b[36m(DefaultActor pid=1602)\u001b[0m selected images size:  29\n",
            "\u001b[2m\u001b[36m(DefaultActor pid=1602)\u001b[0m output size:  256\n",
            "\u001b[2m\u001b[36m(DefaultActor pid=1602)\u001b[0m selected images size:  34\n",
            "\u001b[2m\u001b[36m(DefaultActor pid=1602)\u001b[0m output size:  256\n",
            "\u001b[2m\u001b[36m(DefaultActor pid=1602)\u001b[0m selected images size:  40\n",
            "\u001b[2m\u001b[36m(DefaultActor pid=1602)\u001b[0m output size:  256\n",
            "\u001b[2m\u001b[36m(DefaultActor pid=1602)\u001b[0m selected images size:  42\n",
            "\u001b[2m\u001b[36m(DefaultActor pid=1602)\u001b[0m output size:  101\n",
            "\u001b[2m\u001b[36m(DefaultActor pid=1602)\u001b[0m selected images size:  26\n",
            "\u001b[2m\u001b[36m(DefaultActor pid=1602)\u001b[0m output size:  256\n",
            "\u001b[2m\u001b[36m(DefaultActor pid=1602)\u001b[0m selected images size:  39\n",
            "\u001b[2m\u001b[36m(DefaultActor pid=1602)\u001b[0m output size:  256\n",
            "\u001b[2m\u001b[36m(DefaultActor pid=1602)\u001b[0m selected images size:  53\n",
            "\u001b[2m\u001b[36m(DefaultActor pid=1602)\u001b[0m output size:  256\n",
            "\u001b[2m\u001b[36m(DefaultActor pid=1602)\u001b[0m selected images size:  60\n",
            "\u001b[2m\u001b[36m(DefaultActor pid=1602)\u001b[0m output size:  256\n",
            "\u001b[2m\u001b[36m(DefaultActor pid=1602)\u001b[0m selected images size:  61\n",
            "\u001b[2m\u001b[36m(DefaultActor pid=1602)\u001b[0m output size:  256\n",
            "\u001b[2m\u001b[36m(DefaultActor pid=1602)\u001b[0m selected images size:  58\n",
            "\u001b[2m\u001b[36m(DefaultActor pid=1602)\u001b[0m output size:  256\n",
            "\u001b[2m\u001b[36m(DefaultActor pid=1602)\u001b[0m selected images size:  76\n",
            "\u001b[2m\u001b[36m(DefaultActor pid=1602)\u001b[0m output size:  101\n",
            "\u001b[2m\u001b[36m(DefaultActor pid=1602)\u001b[0m selected images size:  23\n",
            "\u001b[2m\u001b[36m(DefaultActor pid=1602)\u001b[0m output size:  256\n",
            "\u001b[2m\u001b[36m(DefaultActor pid=1602)\u001b[0m selected images size:  62\n",
            "\u001b[2m\u001b[36m(DefaultActor pid=1602)\u001b[0m output size:  256\n",
            "\u001b[2m\u001b[36m(DefaultActor pid=1602)\u001b[0m selected images size:  52\n",
            "\u001b[2m\u001b[36m(DefaultActor pid=1602)\u001b[0m output size:  256\n",
            "\u001b[2m\u001b[36m(DefaultActor pid=1602)\u001b[0m selected images size:  47\n",
            "\u001b[2m\u001b[36m(DefaultActor pid=1602)\u001b[0m output size:  256\n",
            "\u001b[2m\u001b[36m(DefaultActor pid=1602)\u001b[0m selected images size:  45\n",
            "\u001b[2m\u001b[36m(DefaultActor pid=1602)\u001b[0m output size:  256\n",
            "\u001b[2m\u001b[36m(DefaultActor pid=1602)\u001b[0m selected images size:  52\n",
            "\u001b[2m\u001b[36m(DefaultActor pid=1602)\u001b[0m output size:  256\n",
            "\u001b[2m\u001b[36m(DefaultActor pid=1602)\u001b[0m selected images size:  60\n",
            "\u001b[2m\u001b[36m(DefaultActor pid=1602)\u001b[0m output size:  101\n",
            "\u001b[2m\u001b[36m(DefaultActor pid=1602)\u001b[0m selected images size:  28\n",
            "\u001b[2m\u001b[36m(DefaultActor pid=1602)\u001b[0m output size:  256\n",
            "\u001b[2m\u001b[36m(DefaultActor pid=1602)\u001b[0m selected images size:  62\n",
            "\u001b[2m\u001b[36m(DefaultActor pid=1602)\u001b[0m output size:  256\n",
            "\u001b[2m\u001b[36m(DefaultActor pid=1602)\u001b[0m selected images size:  52\n",
            "\u001b[2m\u001b[36m(DefaultActor pid=1602)\u001b[0m output size:  256\n",
            "\u001b[2m\u001b[36m(DefaultActor pid=1602)\u001b[0m selected images size:  41\n",
            "\u001b[2m\u001b[36m(DefaultActor pid=1602)\u001b[0m output size:  256\n",
            "\u001b[2m\u001b[36m(DefaultActor pid=1602)\u001b[0m selected images size:  44\n",
            "\u001b[2m\u001b[36m(DefaultActor pid=1602)\u001b[0m output size:  256\n",
            "\u001b[2m\u001b[36m(DefaultActor pid=1602)\u001b[0m selected images size:  45\n",
            "\u001b[2m\u001b[36m(DefaultActor pid=1602)\u001b[0m output size:  256\n",
            "\u001b[2m\u001b[36m(DefaultActor pid=1602)\u001b[0m selected images size:  50\n",
            "\u001b[2m\u001b[36m(DefaultActor pid=1602)\u001b[0m output size:  101\n",
            "\u001b[2m\u001b[36m(DefaultActor pid=1602)\u001b[0m selected images size:  20\n",
            "\u001b[2m\u001b[36m(DefaultActor pid=1602)\u001b[0m output size:  256\n",
            "\u001b[2m\u001b[36m(DefaultActor pid=1602)\u001b[0m selected images size:  53\n",
            "\u001b[2m\u001b[36m(DefaultActor pid=1602)\u001b[0m output size:  256\n",
            "\u001b[2m\u001b[36m(DefaultActor pid=1602)\u001b[0m selected images size:  56\n",
            "\u001b[2m\u001b[36m(DefaultActor pid=1602)\u001b[0m output size:  256\n",
            "\u001b[2m\u001b[36m(DefaultActor pid=1602)\u001b[0m selected images size:  74\n",
            "\u001b[2m\u001b[36m(DefaultActor pid=1602)\u001b[0m output size:  256\n",
            "\u001b[2m\u001b[36m(DefaultActor pid=1602)\u001b[0m selected images size:  74\n",
            "\u001b[2m\u001b[36m(DefaultActor pid=1602)\u001b[0m output size:  256\n",
            "\u001b[2m\u001b[36m(DefaultActor pid=1602)\u001b[0m selected images size:  67\n",
            "\u001b[2m\u001b[36m(DefaultActor pid=1602)\u001b[0m output size:  256\n",
            "\u001b[2m\u001b[36m(DefaultActor pid=1602)\u001b[0m selected images size:  62\n",
            "\u001b[2m\u001b[36m(DefaultActor pid=1602)\u001b[0m output size:  101\n",
            "\u001b[2m\u001b[36m(DefaultActor pid=1602)\u001b[0m selected images size:  18\n",
            "\u001b[2m\u001b[36m(DefaultActor pid=1602)\u001b[0m ATTACKER\n",
            "\u001b[2m\u001b[36m(DefaultActor pid=1602)\u001b[0m output size:  256\n",
            "\u001b[2m\u001b[36m(DefaultActor pid=1602)\u001b[0m selected images size:  1\n",
            "\u001b[2m\u001b[36m(DefaultActor pid=1602)\u001b[0m output size:  256\n",
            "\u001b[2m\u001b[36m(DefaultActor pid=1602)\u001b[0m selected images size:  1\n",
            "\u001b[2m\u001b[36m(DefaultActor pid=1602)\u001b[0m output size:  256\n",
            "\u001b[2m\u001b[36m(DefaultActor pid=1602)\u001b[0m selected images size:  4\n",
            "\u001b[2m\u001b[36m(DefaultActor pid=1602)\u001b[0m output size:  256\n",
            "\u001b[2m\u001b[36m(DefaultActor pid=1602)\u001b[0m selected images size:  6\n",
            "\u001b[2m\u001b[36m(DefaultActor pid=1602)\u001b[0m output size:  101\n",
            "\u001b[2m\u001b[36m(DefaultActor pid=1602)\u001b[0m selected images size:  3\n",
            "\u001b[2m\u001b[36m(DefaultActor pid=1602)\u001b[0m output size:  256\n",
            "\u001b[2m\u001b[36m(DefaultActor pid=1602)\u001b[0m selected images size:  4\n",
            "\u001b[2m\u001b[36m(DefaultActor pid=1602)\u001b[0m output size:  256\n",
            "\u001b[2m\u001b[36m(DefaultActor pid=1602)\u001b[0m selected images size:  2\n",
            "\u001b[2m\u001b[36m(DefaultActor pid=1602)\u001b[0m output size:  256\n",
            "\u001b[2m\u001b[36m(DefaultActor pid=1602)\u001b[0m selected images size:  3\n",
            "\u001b[2m\u001b[36m(DefaultActor pid=1602)\u001b[0m output size:  256\n",
            "\u001b[2m\u001b[36m(DefaultActor pid=1602)\u001b[0m selected images size:  4\n",
            "\u001b[2m\u001b[36m(DefaultActor pid=1602)\u001b[0m output size:  256\n",
            "\u001b[2m\u001b[36m(DefaultActor pid=1602)\u001b[0m selected images size:  11\n",
            "\u001b[2m\u001b[36m(DefaultActor pid=1602)\u001b[0m output size:  256\n",
            "\u001b[2m\u001b[36m(DefaultActor pid=1602)\u001b[0m selected images size:  8\n",
            "\u001b[2m\u001b[36m(DefaultActor pid=1602)\u001b[0m output size:  101\n",
            "\u001b[2m\u001b[36m(DefaultActor pid=1602)\u001b[0m selected images size:  3\n",
            "\u001b[2m\u001b[36m(DefaultActor pid=1602)\u001b[0m output size:  256\n",
            "\u001b[2m\u001b[36m(DefaultActor pid=1602)\u001b[0m selected images size:  15\n",
            "\u001b[2m\u001b[36m(DefaultActor pid=1602)\u001b[0m output size:  256\n",
            "\u001b[2m\u001b[36m(DefaultActor pid=1602)\u001b[0m selected images size:  14\n",
            "\u001b[2m\u001b[36m(DefaultActor pid=1602)\u001b[0m output size:  256\n",
            "\u001b[2m\u001b[36m(DefaultActor pid=1602)\u001b[0m selected images size:  11\n",
            "\u001b[2m\u001b[36m(DefaultActor pid=1602)\u001b[0m output size:  256\n",
            "\u001b[2m\u001b[36m(DefaultActor pid=1602)\u001b[0m selected images size:  11\n",
            "\u001b[2m\u001b[36m(DefaultActor pid=1602)\u001b[0m output size:  256\n",
            "\u001b[2m\u001b[36m(DefaultActor pid=1602)\u001b[0m selected images size:  9\n",
            "\u001b[2m\u001b[36m(DefaultActor pid=1602)\u001b[0m output size:  256\n",
            "\u001b[2m\u001b[36m(DefaultActor pid=1602)\u001b[0m selected images size:  6\n",
            "\u001b[2m\u001b[36m(DefaultActor pid=1602)\u001b[0m output size:  101\n",
            "\u001b[2m\u001b[36m(DefaultActor pid=1602)\u001b[0m selected images size:  4\n"
          ]
        },
        {
          "output_type": "stream",
          "name": "stderr",
          "text": [
            "DEBUG flwr 2024-01-20 14:33:44,360 | server.py:236 | fit_round 5 received 10 results and 0 failures\n",
            "DEBUG:flwr:fit_round 5 received 10 results and 0 failures\n"
          ]
        },
        {
          "output_type": "stream",
          "name": "stdout",
          "text": [
            "Saving round 5 aggregated_parameters...\n"
          ]
        },
        {
          "output_type": "stream",
          "name": "stderr",
          "text": [
            "INFO flwr 2024-01-20 14:34:00,897 | server.py:125 | fit progress: (5, 313.78002750873566, {'accuracy': 0.3875968992248062}, 755.4801856380001)\n",
            "INFO:flwr:fit progress: (5, 313.78002750873566, {'accuracy': 0.3875968992248062}, 755.4801856380001)\n",
            "DEBUG flwr 2024-01-20 14:34:00,903 | server.py:173 | evaluate_round 5: strategy sampled 10 clients (out of 33)\n",
            "DEBUG:flwr:evaluate_round 5: strategy sampled 10 clients (out of 33)\n"
          ]
        },
        {
          "output_type": "stream",
          "name": "stdout",
          "text": [
            "GLOBAL TEST\n"
          ]
        },
        {
          "output_type": "stream",
          "name": "stderr",
          "text": [
            "DEBUG flwr 2024-01-20 14:34:06,022 | server.py:187 | evaluate_round 5 received 10 results and 0 failures\n",
            "DEBUG:flwr:evaluate_round 5 received 10 results and 0 failures\n",
            "DEBUG flwr 2024-01-20 14:34:06,025 | server.py:222 | fit_round 6: strategy sampled 10 clients (out of 33)\n",
            "DEBUG:flwr:fit_round 6: strategy sampled 10 clients (out of 33)\n",
            "DEBUG flwr 2024-01-20 14:35:28,273 | server.py:236 | fit_round 6 received 10 results and 0 failures\n",
            "DEBUG:flwr:fit_round 6 received 10 results and 0 failures\n"
          ]
        },
        {
          "output_type": "stream",
          "name": "stdout",
          "text": [
            "Saving round 6 aggregated_parameters...\n"
          ]
        },
        {
          "output_type": "stream",
          "name": "stderr",
          "text": [
            "INFO flwr 2024-01-20 14:35:45,790 | server.py:125 | fit progress: (6, 313.49949967861176, {'accuracy': 0.3875968992248062}, 860.3731135940001)\n",
            "INFO:flwr:fit progress: (6, 313.49949967861176, {'accuracy': 0.3875968992248062}, 860.3731135940001)\n",
            "DEBUG flwr 2024-01-20 14:35:45,793 | server.py:173 | evaluate_round 6: strategy sampled 10 clients (out of 33)\n",
            "DEBUG:flwr:evaluate_round 6: strategy sampled 10 clients (out of 33)\n"
          ]
        },
        {
          "output_type": "stream",
          "name": "stdout",
          "text": [
            "GLOBAL TEST\n"
          ]
        },
        {
          "output_type": "stream",
          "name": "stderr",
          "text": [
            "DEBUG flwr 2024-01-20 14:35:49,645 | server.py:187 | evaluate_round 6 received 10 results and 0 failures\n",
            "DEBUG:flwr:evaluate_round 6 received 10 results and 0 failures\n",
            "DEBUG flwr 2024-01-20 14:35:49,649 | server.py:222 | fit_round 7: strategy sampled 10 clients (out of 33)\n",
            "DEBUG:flwr:fit_round 7: strategy sampled 10 clients (out of 33)\n"
          ]
        },
        {
          "output_type": "stream",
          "name": "stdout",
          "text": [
            "\u001b[2m\u001b[36m(DefaultActor pid=1602)\u001b[0m ATTACKER\n",
            "\u001b[2m\u001b[36m(DefaultActor pid=1602)\u001b[0m output size:  256\n",
            "\u001b[2m\u001b[36m(DefaultActor pid=1602)\u001b[0m selected images size:  1\n",
            "\u001b[2m\u001b[36m(DefaultActor pid=1602)\u001b[0m output size:  101\n",
            "\u001b[2m\u001b[36m(DefaultActor pid=1602)\u001b[0m selected images size:  1\n",
            "\u001b[2m\u001b[36m(DefaultActor pid=1602)\u001b[0m output size:  256\n",
            "\u001b[2m\u001b[36m(DefaultActor pid=1602)\u001b[0m selected images size:  2\n",
            "\u001b[2m\u001b[36m(DefaultActor pid=1602)\u001b[0m output size:  256\n",
            "\u001b[2m\u001b[36m(DefaultActor pid=1602)\u001b[0m selected images size:  4\n",
            "\u001b[2m\u001b[36m(DefaultActor pid=1602)\u001b[0m output size:  256\n",
            "\u001b[2m\u001b[36m(DefaultActor pid=1602)\u001b[0m selected images size:  1\n",
            "\u001b[2m\u001b[36m(DefaultActor pid=1602)\u001b[0m output size:  256\n",
            "\u001b[2m\u001b[36m(DefaultActor pid=1602)\u001b[0m selected images size:  1\n",
            "\u001b[2m\u001b[36m(DefaultActor pid=1602)\u001b[0m output size:  256\n",
            "\u001b[2m\u001b[36m(DefaultActor pid=1602)\u001b[0m selected images size:  1\n",
            "\u001b[2m\u001b[36m(DefaultActor pid=1602)\u001b[0m output size:  101\n",
            "\u001b[2m\u001b[36m(DefaultActor pid=1602)\u001b[0m selected images size:  1\n",
            "\u001b[2m\u001b[36m(DefaultActor pid=1602)\u001b[0m output size:  256\n",
            "\u001b[2m\u001b[36m(DefaultActor pid=1602)\u001b[0m selected images size:  4\n",
            "\u001b[2m\u001b[36m(DefaultActor pid=1602)\u001b[0m output size:  256\n",
            "\u001b[2m\u001b[36m(DefaultActor pid=1602)\u001b[0m selected images size:  8\n",
            "\u001b[2m\u001b[36m(DefaultActor pid=1602)\u001b[0m output size:  256\n",
            "\u001b[2m\u001b[36m(DefaultActor pid=1602)\u001b[0m selected images size:  8\n",
            "\u001b[2m\u001b[36m(DefaultActor pid=1602)\u001b[0m output size:  256\n",
            "\u001b[2m\u001b[36m(DefaultActor pid=1602)\u001b[0m selected images size:  15\n",
            "\u001b[2m\u001b[36m(DefaultActor pid=1602)\u001b[0m output size:  256\n",
            "\u001b[2m\u001b[36m(DefaultActor pid=1602)\u001b[0m selected images size:  10\n",
            "\u001b[2m\u001b[36m(DefaultActor pid=1602)\u001b[0m output size:  256\n",
            "\u001b[2m\u001b[36m(DefaultActor pid=1602)\u001b[0m selected images size:  13\n",
            "\u001b[2m\u001b[36m(DefaultActor pid=1602)\u001b[0m output size:  256\n",
            "\u001b[2m\u001b[36m(DefaultActor pid=1602)\u001b[0m selected images size:  5\n",
            "\u001b[2m\u001b[36m(DefaultActor pid=1602)\u001b[0m output size:  256\n",
            "\u001b[2m\u001b[36m(DefaultActor pid=1602)\u001b[0m selected images size:  7\n",
            "\u001b[2m\u001b[36m(DefaultActor pid=1602)\u001b[0m output size:  256\n",
            "\u001b[2m\u001b[36m(DefaultActor pid=1602)\u001b[0m selected images size:  7\n",
            "\u001b[2m\u001b[36m(DefaultActor pid=1602)\u001b[0m output size:  256\n",
            "\u001b[2m\u001b[36m(DefaultActor pid=1602)\u001b[0m selected images size:  7\n",
            "\u001b[2m\u001b[36m(DefaultActor pid=1602)\u001b[0m output size:  256\n",
            "\u001b[2m\u001b[36m(DefaultActor pid=1602)\u001b[0m selected images size:  6\n",
            "\u001b[2m\u001b[36m(DefaultActor pid=1602)\u001b[0m output size:  256\n",
            "\u001b[2m\u001b[36m(DefaultActor pid=1602)\u001b[0m selected images size:  8\n",
            "\u001b[2m\u001b[36m(DefaultActor pid=1602)\u001b[0m output size:  101\n",
            "\u001b[2m\u001b[36m(DefaultActor pid=1602)\u001b[0m selected images size:  2\n",
            "\u001b[2m\u001b[36m(DefaultActor pid=1602)\u001b[0m output size:  256\n",
            "\u001b[2m\u001b[36m(DefaultActor pid=1602)\u001b[0m selected images size:  6\n",
            "\u001b[2m\u001b[36m(DefaultActor pid=1602)\u001b[0m output size:  256\n",
            "\u001b[2m\u001b[36m(DefaultActor pid=1602)\u001b[0m selected images size:  13\n",
            "\u001b[2m\u001b[36m(DefaultActor pid=1602)\u001b[0m output size:  256\n",
            "\u001b[2m\u001b[36m(DefaultActor pid=1602)\u001b[0m selected images size:  11\n",
            "\u001b[2m\u001b[36m(DefaultActor pid=1602)\u001b[0m output size:  256\n",
            "\u001b[2m\u001b[36m(DefaultActor pid=1602)\u001b[0m selected images size:  13\n",
            "\u001b[2m\u001b[36m(DefaultActor pid=1602)\u001b[0m output size:  256\n",
            "\u001b[2m\u001b[36m(DefaultActor pid=1602)\u001b[0m selected images size:  19\n",
            "\u001b[2m\u001b[36m(DefaultActor pid=1602)\u001b[0m output size:  256\n",
            "\u001b[2m\u001b[36m(DefaultActor pid=1602)\u001b[0m selected images size:  15\n",
            "\u001b[2m\u001b[36m(DefaultActor pid=1602)\u001b[0m output size:  101\n",
            "\u001b[2m\u001b[36m(DefaultActor pid=1602)\u001b[0m selected images size:  9\n",
            "\u001b[2m\u001b[36m(DefaultActor pid=1602)\u001b[0m output size:  256\n",
            "\u001b[2m\u001b[36m(DefaultActor pid=1602)\u001b[0m selected images size:  15\n",
            "\u001b[2m\u001b[36m(DefaultActor pid=1602)\u001b[0m output size:  256\n",
            "\u001b[2m\u001b[36m(DefaultActor pid=1602)\u001b[0m selected images size:  11\n",
            "\u001b[2m\u001b[36m(DefaultActor pid=1602)\u001b[0m output size:  256\n",
            "\u001b[2m\u001b[36m(DefaultActor pid=1602)\u001b[0m selected images size:  16\n",
            "\u001b[2m\u001b[36m(DefaultActor pid=1602)\u001b[0m output size:  256\n",
            "\u001b[2m\u001b[36m(DefaultActor pid=1602)\u001b[0m selected images size:  7\n",
            "\u001b[2m\u001b[36m(DefaultActor pid=1602)\u001b[0m output size:  256\n",
            "\u001b[2m\u001b[36m(DefaultActor pid=1602)\u001b[0m selected images size:  8\n",
            "\u001b[2m\u001b[36m(DefaultActor pid=1602)\u001b[0m output size:  256\n",
            "\u001b[2m\u001b[36m(DefaultActor pid=1602)\u001b[0m selected images size:  6\n",
            "\u001b[2m\u001b[36m(DefaultActor pid=1602)\u001b[0m output size:  101\n",
            "\u001b[2m\u001b[36m(DefaultActor pid=1602)\u001b[0m selected images size:  3\n",
            "\u001b[2m\u001b[36m(DefaultActor pid=1602)\u001b[0m output size:  256\n",
            "\u001b[2m\u001b[36m(DefaultActor pid=1602)\u001b[0m selected images size:  27\n",
            "\u001b[2m\u001b[36m(DefaultActor pid=1602)\u001b[0m output size:  256\n",
            "\u001b[2m\u001b[36m(DefaultActor pid=1602)\u001b[0m selected images size:  29\n",
            "\u001b[2m\u001b[36m(DefaultActor pid=1602)\u001b[0m output size:  256\n",
            "\u001b[2m\u001b[36m(DefaultActor pid=1602)\u001b[0m selected images size:  34\n",
            "\u001b[2m\u001b[36m(DefaultActor pid=1602)\u001b[0m output size:  256\n",
            "\u001b[2m\u001b[36m(DefaultActor pid=1602)\u001b[0m selected images size:  72\n",
            "\u001b[2m\u001b[36m(DefaultActor pid=1602)\u001b[0m output size:  256\n",
            "\u001b[2m\u001b[36m(DefaultActor pid=1602)\u001b[0m selected images size:  75\n",
            "\u001b[2m\u001b[36m(DefaultActor pid=1602)\u001b[0m output size:  256\n",
            "\u001b[2m\u001b[36m(DefaultActor pid=1602)\u001b[0m selected images size:  86\n",
            "\u001b[2m\u001b[36m(DefaultActor pid=1602)\u001b[0m output size:  101\n",
            "\u001b[2m\u001b[36m(DefaultActor pid=1602)\u001b[0m selected images size:  33\n",
            "\u001b[2m\u001b[36m(DefaultActor pid=1602)\u001b[0m output size:  256\n",
            "\u001b[2m\u001b[36m(DefaultActor pid=1602)\u001b[0m selected images size:  103\n",
            "\u001b[2m\u001b[36m(DefaultActor pid=1602)\u001b[0m output size:  256\n",
            "\u001b[2m\u001b[36m(DefaultActor pid=1602)\u001b[0m selected images size:  98\n",
            "\u001b[2m\u001b[36m(DefaultActor pid=1602)\u001b[0m output size:  256\n",
            "\u001b[2m\u001b[36m(DefaultActor pid=1602)\u001b[0m selected images size:  88\n",
            "\u001b[2m\u001b[36m(DefaultActor pid=1602)\u001b[0m output size:  256\n",
            "\u001b[2m\u001b[36m(DefaultActor pid=1602)\u001b[0m selected images size:  76\n",
            "\u001b[2m\u001b[36m(DefaultActor pid=1602)\u001b[0m output size:  256\n",
            "\u001b[2m\u001b[36m(DefaultActor pid=1602)\u001b[0m selected images size:  73\n",
            "\u001b[2m\u001b[36m(DefaultActor pid=1602)\u001b[0m output size:  256\n",
            "\u001b[2m\u001b[36m(DefaultActor pid=1602)\u001b[0m selected images size:  75\n",
            "\u001b[2m\u001b[36m(DefaultActor pid=1602)\u001b[0m output size:  101\n",
            "\u001b[2m\u001b[36m(DefaultActor pid=1602)\u001b[0m selected images size:  29\n",
            "\u001b[2m\u001b[36m(DefaultActor pid=1602)\u001b[0m output size:  256\n",
            "\u001b[2m\u001b[36m(DefaultActor pid=1602)\u001b[0m selected images size:  71\n",
            "\u001b[2m\u001b[36m(DefaultActor pid=1602)\u001b[0m output size:  256\n",
            "\u001b[2m\u001b[36m(DefaultActor pid=1602)\u001b[0m selected images size:  60\n",
            "\u001b[2m\u001b[36m(DefaultActor pid=1602)\u001b[0m output size:  256\n",
            "\u001b[2m\u001b[36m(DefaultActor pid=1602)\u001b[0m selected images size:  64\n",
            "\u001b[2m\u001b[36m(DefaultActor pid=1602)\u001b[0m output size:  256\n",
            "\u001b[2m\u001b[36m(DefaultActor pid=1602)\u001b[0m selected images size:  56\n",
            "\u001b[2m\u001b[36m(DefaultActor pid=1602)\u001b[0m output size:  256\n",
            "\u001b[2m\u001b[36m(DefaultActor pid=1602)\u001b[0m selected images size:  69\n",
            "\u001b[2m\u001b[36m(DefaultActor pid=1602)\u001b[0m output size:  256\n",
            "\u001b[2m\u001b[36m(DefaultActor pid=1602)\u001b[0m selected images size:  69\n",
            "\u001b[2m\u001b[36m(DefaultActor pid=1602)\u001b[0m output size:  101\n",
            "\u001b[2m\u001b[36m(DefaultActor pid=1602)\u001b[0m selected images size:  26\n",
            "\u001b[2m\u001b[36m(DefaultActor pid=1602)\u001b[0m output size:  256\n",
            "\u001b[2m\u001b[36m(DefaultActor pid=1602)\u001b[0m selected images size:  78\n",
            "\u001b[2m\u001b[36m(DefaultActor pid=1602)\u001b[0m output size:  256\n",
            "\u001b[2m\u001b[36m(DefaultActor pid=1602)\u001b[0m selected images size:  72\n",
            "\u001b[2m\u001b[36m(DefaultActor pid=1602)\u001b[0m output size:  256\n",
            "\u001b[2m\u001b[36m(DefaultActor pid=1602)\u001b[0m selected images size:  75\n",
            "\u001b[2m\u001b[36m(DefaultActor pid=1602)\u001b[0m output size:  256\n",
            "\u001b[2m\u001b[36m(DefaultActor pid=1602)\u001b[0m selected images size:  88\n",
            "\u001b[2m\u001b[36m(DefaultActor pid=1602)\u001b[0m output size:  256\n",
            "\u001b[2m\u001b[36m(DefaultActor pid=1602)\u001b[0m selected images size:  45\n",
            "\u001b[2m\u001b[36m(DefaultActor pid=1602)\u001b[0m output size:  256\n",
            "\u001b[2m\u001b[36m(DefaultActor pid=1602)\u001b[0m selected images size:  52\n",
            "\u001b[2m\u001b[36m(DefaultActor pid=1602)\u001b[0m output size:  101\n",
            "\u001b[2m\u001b[36m(DefaultActor pid=1602)\u001b[0m selected images size:  21\n",
            "\u001b[2m\u001b[36m(DefaultActor pid=1602)\u001b[0m ATTACKER\n",
            "\u001b[2m\u001b[36m(DefaultActor pid=1602)\u001b[0m output size:  256\n",
            "\u001b[2m\u001b[36m(DefaultActor pid=1602)\u001b[0m selected images size:  2\n",
            "\u001b[2m\u001b[36m(DefaultActor pid=1602)\u001b[0m output size:  101\n",
            "\u001b[2m\u001b[36m(DefaultActor pid=1602)\u001b[0m selected images size:  2\n",
            "\u001b[2m\u001b[36m(DefaultActor pid=1602)\u001b[0m output size:  256\n",
            "\u001b[2m\u001b[36m(DefaultActor pid=1602)\u001b[0m selected images size:  1\n",
            "\u001b[2m\u001b[36m(DefaultActor pid=1602)\u001b[0m output size:  256\n",
            "\u001b[2m\u001b[36m(DefaultActor pid=1602)\u001b[0m selected images size:  1\n",
            "\u001b[2m\u001b[36m(DefaultActor pid=1602)\u001b[0m output size:  256\n",
            "\u001b[2m\u001b[36m(DefaultActor pid=1602)\u001b[0m selected images size:  4\n",
            "\u001b[2m\u001b[36m(DefaultActor pid=1602)\u001b[0m output size:  256\n",
            "\u001b[2m\u001b[36m(DefaultActor pid=1602)\u001b[0m selected images size:  5\n",
            "\u001b[2m\u001b[36m(DefaultActor pid=1602)\u001b[0m output size:  256\n",
            "\u001b[2m\u001b[36m(DefaultActor pid=1602)\u001b[0m selected images size:  2\n",
            "\u001b[2m\u001b[36m(DefaultActor pid=1602)\u001b[0m output size:  256\n",
            "\u001b[2m\u001b[36m(DefaultActor pid=1602)\u001b[0m selected images size:  4\n",
            "\u001b[2m\u001b[36m(DefaultActor pid=1602)\u001b[0m output size:  256\n",
            "\u001b[2m\u001b[36m(DefaultActor pid=1602)\u001b[0m selected images size:  11\n",
            "\u001b[2m\u001b[36m(DefaultActor pid=1602)\u001b[0m output size:  256\n",
            "\u001b[2m\u001b[36m(DefaultActor pid=1602)\u001b[0m selected images size:  6\n",
            "\u001b[2m\u001b[36m(DefaultActor pid=1602)\u001b[0m output size:  101\n",
            "\u001b[2m\u001b[36m(DefaultActor pid=1602)\u001b[0m selected images size:  2\n",
            "\u001b[2m\u001b[36m(DefaultActor pid=1602)\u001b[0m output size:  256\n",
            "\u001b[2m\u001b[36m(DefaultActor pid=1602)\u001b[0m selected images size:  21\n",
            "\u001b[2m\u001b[36m(DefaultActor pid=1602)\u001b[0m output size:  256\n",
            "\u001b[2m\u001b[36m(DefaultActor pid=1602)\u001b[0m selected images size:  40\n",
            "\u001b[2m\u001b[36m(DefaultActor pid=1602)\u001b[0m output size:  256\n",
            "\u001b[2m\u001b[36m(DefaultActor pid=1602)\u001b[0m selected images size:  37\n",
            "\u001b[2m\u001b[36m(DefaultActor pid=1602)\u001b[0m output size:  256\n",
            "\u001b[2m\u001b[36m(DefaultActor pid=1602)\u001b[0m selected images size:  51\n",
            "\u001b[2m\u001b[36m(DefaultActor pid=1602)\u001b[0m output size:  256\n",
            "\u001b[2m\u001b[36m(DefaultActor pid=1602)\u001b[0m selected images size:  36\n",
            "\u001b[2m\u001b[36m(DefaultActor pid=1602)\u001b[0m output size:  256\n",
            "\u001b[2m\u001b[36m(DefaultActor pid=1602)\u001b[0m selected images size:  35\n",
            "\u001b[2m\u001b[36m(DefaultActor pid=1602)\u001b[0m output size:  101\n",
            "\u001b[2m\u001b[36m(DefaultActor pid=1602)\u001b[0m selected images size:  15\n",
            "\u001b[2m\u001b[36m(DefaultActor pid=1602)\u001b[0m output size:  256\n",
            "\u001b[2m\u001b[36m(DefaultActor pid=1602)\u001b[0m selected images size:  40\n",
            "\u001b[2m\u001b[36m(DefaultActor pid=1602)\u001b[0m output size:  256\n",
            "\u001b[2m\u001b[36m(DefaultActor pid=1602)\u001b[0m selected images size:  28\n",
            "\u001b[2m\u001b[36m(DefaultActor pid=1602)\u001b[0m output size:  256\n",
            "\u001b[2m\u001b[36m(DefaultActor pid=1602)\u001b[0m selected images size:  23\n",
            "\u001b[2m\u001b[36m(DefaultActor pid=1602)\u001b[0m output size:  256\n",
            "\u001b[2m\u001b[36m(DefaultActor pid=1602)\u001b[0m selected images size:  21\n",
            "\u001b[2m\u001b[36m(DefaultActor pid=1602)\u001b[0m output size:  256\n",
            "\u001b[2m\u001b[36m(DefaultActor pid=1602)\u001b[0m selected images size:  13\n",
            "\u001b[2m\u001b[36m(DefaultActor pid=1602)\u001b[0m output size:  256\n",
            "\u001b[2m\u001b[36m(DefaultActor pid=1602)\u001b[0m selected images size:  8\n",
            "\u001b[2m\u001b[36m(DefaultActor pid=1602)\u001b[0m output size:  101\n",
            "\u001b[2m\u001b[36m(DefaultActor pid=1602)\u001b[0m selected images size:  5\n",
            "\u001b[2m\u001b[36m(DefaultActor pid=1602)\u001b[0m output size:  256\n",
            "\u001b[2m\u001b[36m(DefaultActor pid=1602)\u001b[0m selected images size:  8\n",
            "\u001b[2m\u001b[36m(DefaultActor pid=1602)\u001b[0m output size:  256\n",
            "\u001b[2m\u001b[36m(DefaultActor pid=1602)\u001b[0m selected images size:  22\n",
            "\u001b[2m\u001b[36m(DefaultActor pid=1602)\u001b[0m output size:  256\n",
            "\u001b[2m\u001b[36m(DefaultActor pid=1602)\u001b[0m selected images size:  25\n",
            "\u001b[2m\u001b[36m(DefaultActor pid=1602)\u001b[0m output size:  256\n",
            "\u001b[2m\u001b[36m(DefaultActor pid=1602)\u001b[0m selected images size:  22\n",
            "\u001b[2m\u001b[36m(DefaultActor pid=1602)\u001b[0m output size:  256\n",
            "\u001b[2m\u001b[36m(DefaultActor pid=1602)\u001b[0m selected images size:  26\n",
            "\u001b[2m\u001b[36m(DefaultActor pid=1602)\u001b[0m output size:  256\n",
            "\u001b[2m\u001b[36m(DefaultActor pid=1602)\u001b[0m selected images size:  19\n",
            "\u001b[2m\u001b[36m(DefaultActor pid=1602)\u001b[0m output size:  101\n",
            "\u001b[2m\u001b[36m(DefaultActor pid=1602)\u001b[0m selected images size:  6\n",
            "\u001b[2m\u001b[36m(DefaultActor pid=1602)\u001b[0m output size:  256\n",
            "\u001b[2m\u001b[36m(DefaultActor pid=1602)\u001b[0m selected images size:  22\n",
            "\u001b[2m\u001b[36m(DefaultActor pid=1602)\u001b[0m output size:  256\n",
            "\u001b[2m\u001b[36m(DefaultActor pid=1602)\u001b[0m selected images size:  17\n",
            "\u001b[2m\u001b[36m(DefaultActor pid=1602)\u001b[0m output size:  256\n",
            "\u001b[2m\u001b[36m(DefaultActor pid=1602)\u001b[0m selected images size:  19\n",
            "\u001b[2m\u001b[36m(DefaultActor pid=1602)\u001b[0m output size:  256\n",
            "\u001b[2m\u001b[36m(DefaultActor pid=1602)\u001b[0m selected images size:  18\n",
            "\u001b[2m\u001b[36m(DefaultActor pid=1602)\u001b[0m output size:  256\n",
            "\u001b[2m\u001b[36m(DefaultActor pid=1602)\u001b[0m selected images size:  24\n",
            "\u001b[2m\u001b[36m(DefaultActor pid=1602)\u001b[0m output size:  256\n",
            "\u001b[2m\u001b[36m(DefaultActor pid=1602)\u001b[0m selected images size:  26\n",
            "\u001b[2m\u001b[36m(DefaultActor pid=1602)\u001b[0m output size:  101\n",
            "\u001b[2m\u001b[36m(DefaultActor pid=1602)\u001b[0m selected images size:  17\n",
            "\u001b[2m\u001b[36m(DefaultActor pid=1602)\u001b[0m output size:  256\n",
            "\u001b[2m\u001b[36m(DefaultActor pid=1602)\u001b[0m selected images size:  32\n",
            "\u001b[2m\u001b[36m(DefaultActor pid=1602)\u001b[0m output size:  256\n",
            "\u001b[2m\u001b[36m(DefaultActor pid=1602)\u001b[0m selected images size:  23\n",
            "\u001b[2m\u001b[36m(DefaultActor pid=1602)\u001b[0m output size:  256\n",
            "\u001b[2m\u001b[36m(DefaultActor pid=1602)\u001b[0m selected images size:  30\n",
            "\u001b[2m\u001b[36m(DefaultActor pid=1602)\u001b[0m output size:  256\n",
            "\u001b[2m\u001b[36m(DefaultActor pid=1602)\u001b[0m selected images size:  29\n",
            "\u001b[2m\u001b[36m(DefaultActor pid=1602)\u001b[0m output size:  256\n",
            "\u001b[2m\u001b[36m(DefaultActor pid=1602)\u001b[0m selected images size:  19\n",
            "\u001b[2m\u001b[36m(DefaultActor pid=1602)\u001b[0m output size:  256\n",
            "\u001b[2m\u001b[36m(DefaultActor pid=1602)\u001b[0m selected images size:  18\n",
            "\u001b[2m\u001b[36m(DefaultActor pid=1602)\u001b[0m output size:  101\n",
            "\u001b[2m\u001b[36m(DefaultActor pid=1602)\u001b[0m selected images size:  3\n",
            "\u001b[2m\u001b[36m(DefaultActor pid=1602)\u001b[0m output size:  256\n",
            "\u001b[2m\u001b[36m(DefaultActor pid=1602)\u001b[0m selected images size:  3\n",
            "\u001b[2m\u001b[36m(DefaultActor pid=1602)\u001b[0m output size:  256\n",
            "\u001b[2m\u001b[36m(DefaultActor pid=1602)\u001b[0m selected images size:  4\n",
            "\u001b[2m\u001b[36m(DefaultActor pid=1602)\u001b[0m output size:  256\n",
            "\u001b[2m\u001b[36m(DefaultActor pid=1602)\u001b[0m selected images size:  4\n",
            "\u001b[2m\u001b[36m(DefaultActor pid=1602)\u001b[0m output size:  256\n",
            "\u001b[2m\u001b[36m(DefaultActor pid=1602)\u001b[0m selected images size:  5\n",
            "\u001b[2m\u001b[36m(DefaultActor pid=1602)\u001b[0m output size:  256\n",
            "\u001b[2m\u001b[36m(DefaultActor pid=1602)\u001b[0m selected images size:  22\n",
            "\u001b[2m\u001b[36m(DefaultActor pid=1602)\u001b[0m output size:  256\n",
            "\u001b[2m\u001b[36m(DefaultActor pid=1602)\u001b[0m selected images size:  41\n",
            "\u001b[2m\u001b[36m(DefaultActor pid=1602)\u001b[0m output size:  101\n",
            "\u001b[2m\u001b[36m(DefaultActor pid=1602)\u001b[0m selected images size:  28\n",
            "\u001b[2m\u001b[36m(DefaultActor pid=1602)\u001b[0m output size:  256\n",
            "\u001b[2m\u001b[36m(DefaultActor pid=1602)\u001b[0m selected images size:  50\n",
            "\u001b[2m\u001b[36m(DefaultActor pid=1602)\u001b[0m output size:  256\n",
            "\u001b[2m\u001b[36m(DefaultActor pid=1602)\u001b[0m selected images size:  56\n",
            "\u001b[2m\u001b[36m(DefaultActor pid=1602)\u001b[0m output size:  256\n",
            "\u001b[2m\u001b[36m(DefaultActor pid=1602)\u001b[0m selected images size:  36\n",
            "\u001b[2m\u001b[36m(DefaultActor pid=1602)\u001b[0m output size:  256\n",
            "\u001b[2m\u001b[36m(DefaultActor pid=1602)\u001b[0m selected images size:  55\n",
            "\u001b[2m\u001b[36m(DefaultActor pid=1602)\u001b[0m output size:  256\n",
            "\u001b[2m\u001b[36m(DefaultActor pid=1602)\u001b[0m selected images size:  36\n",
            "\u001b[2m\u001b[36m(DefaultActor pid=1602)\u001b[0m output size:  256\n",
            "\u001b[2m\u001b[36m(DefaultActor pid=1602)\u001b[0m selected images size:  38\n",
            "\u001b[2m\u001b[36m(DefaultActor pid=1602)\u001b[0m output size:  101\n",
            "\u001b[2m\u001b[36m(DefaultActor pid=1602)\u001b[0m selected images size:  7\n",
            "\u001b[2m\u001b[36m(DefaultActor pid=1602)\u001b[0m output size:  256\n",
            "\u001b[2m\u001b[36m(DefaultActor pid=1602)\u001b[0m selected images size:  22\n",
            "\u001b[2m\u001b[36m(DefaultActor pid=1602)\u001b[0m output size:  256\n",
            "\u001b[2m\u001b[36m(DefaultActor pid=1602)\u001b[0m selected images size:  23\n",
            "\u001b[2m\u001b[36m(DefaultActor pid=1602)\u001b[0m output size:  256\n",
            "\u001b[2m\u001b[36m(DefaultActor pid=1602)\u001b[0m selected images size:  29\n",
            "\u001b[2m\u001b[36m(DefaultActor pid=1602)\u001b[0m output size:  256\n",
            "\u001b[2m\u001b[36m(DefaultActor pid=1602)\u001b[0m selected images size:  21\n",
            "\u001b[2m\u001b[36m(DefaultActor pid=1602)\u001b[0m output size:  256\n",
            "\u001b[2m\u001b[36m(DefaultActor pid=1602)\u001b[0m selected images size:  24\n",
            "\u001b[2m\u001b[36m(DefaultActor pid=1602)\u001b[0m output size:  256\n",
            "\u001b[2m\u001b[36m(DefaultActor pid=1602)\u001b[0m selected images size:  23\n",
            "\u001b[2m\u001b[36m(DefaultActor pid=1602)\u001b[0m output size:  101\n",
            "\u001b[2m\u001b[36m(DefaultActor pid=1602)\u001b[0m selected images size:  8\n"
          ]
        },
        {
          "output_type": "stream",
          "name": "stderr",
          "text": [
            "DEBUG flwr 2024-01-20 14:38:47,901 | server.py:236 | fit_round 7 received 10 results and 0 failures\n",
            "DEBUG:flwr:fit_round 7 received 10 results and 0 failures\n"
          ]
        },
        {
          "output_type": "stream",
          "name": "stdout",
          "text": [
            "Saving round 7 aggregated_parameters...\n"
          ]
        },
        {
          "output_type": "stream",
          "name": "stderr",
          "text": [
            "INFO flwr 2024-01-20 14:39:05,300 | server.py:125 | fit progress: (7, 313.3616975545883, {'accuracy': 0.29069767441860467}, 1059.883711821)\n",
            "INFO:flwr:fit progress: (7, 313.3616975545883, {'accuracy': 0.29069767441860467}, 1059.883711821)\n",
            "DEBUG flwr 2024-01-20 14:39:05,304 | server.py:173 | evaluate_round 7: strategy sampled 10 clients (out of 33)\n",
            "DEBUG:flwr:evaluate_round 7: strategy sampled 10 clients (out of 33)\n"
          ]
        },
        {
          "output_type": "stream",
          "name": "stdout",
          "text": [
            "GLOBAL TEST\n"
          ]
        },
        {
          "output_type": "stream",
          "name": "stderr",
          "text": [
            "DEBUG flwr 2024-01-20 14:39:09,386 | server.py:187 | evaluate_round 7 received 10 results and 0 failures\n",
            "DEBUG:flwr:evaluate_round 7 received 10 results and 0 failures\n",
            "DEBUG flwr 2024-01-20 14:39:09,390 | server.py:222 | fit_round 8: strategy sampled 10 clients (out of 33)\n",
            "DEBUG:flwr:fit_round 8: strategy sampled 10 clients (out of 33)\n",
            "DEBUG flwr 2024-01-20 14:40:32,257 | server.py:236 | fit_round 8 received 10 results and 0 failures\n",
            "DEBUG:flwr:fit_round 8 received 10 results and 0 failures\n"
          ]
        },
        {
          "output_type": "stream",
          "name": "stdout",
          "text": [
            "Saving round 8 aggregated_parameters...\n"
          ]
        },
        {
          "output_type": "stream",
          "name": "stderr",
          "text": [
            "INFO flwr 2024-01-20 14:40:48,813 | server.py:125 | fit progress: (8, 313.2658966779709, {'accuracy': 0.1937984496124031}, 1163.396407094)\n",
            "INFO:flwr:fit progress: (8, 313.2658966779709, {'accuracy': 0.1937984496124031}, 1163.396407094)\n",
            "DEBUG flwr 2024-01-20 14:40:48,817 | server.py:173 | evaluate_round 8: strategy sampled 10 clients (out of 33)\n",
            "DEBUG:flwr:evaluate_round 8: strategy sampled 10 clients (out of 33)\n"
          ]
        },
        {
          "output_type": "stream",
          "name": "stdout",
          "text": [
            "GLOBAL TEST\n"
          ]
        },
        {
          "output_type": "stream",
          "name": "stderr",
          "text": [
            "DEBUG flwr 2024-01-20 14:40:52,911 | server.py:187 | evaluate_round 8 received 10 results and 0 failures\n",
            "DEBUG:flwr:evaluate_round 8 received 10 results and 0 failures\n",
            "DEBUG flwr 2024-01-20 14:40:52,914 | server.py:222 | fit_round 9: strategy sampled 10 clients (out of 33)\n",
            "DEBUG:flwr:fit_round 9: strategy sampled 10 clients (out of 33)\n",
            "DEBUG flwr 2024-01-20 14:42:15,933 | server.py:236 | fit_round 9 received 10 results and 0 failures\n",
            "DEBUG:flwr:fit_round 9 received 10 results and 0 failures\n"
          ]
        },
        {
          "output_type": "stream",
          "name": "stdout",
          "text": [
            "Saving round 9 aggregated_parameters...\n"
          ]
        },
        {
          "output_type": "stream",
          "name": "stderr",
          "text": [
            "INFO flwr 2024-01-20 14:42:32,657 | server.py:125 | fit progress: (9, 313.19632387161255, {'accuracy': 0.3875968992248062}, 1267.240140036)\n",
            "INFO:flwr:fit progress: (9, 313.19632387161255, {'accuracy': 0.3875968992248062}, 1267.240140036)\n",
            "DEBUG flwr 2024-01-20 14:42:32,661 | server.py:173 | evaluate_round 9: strategy sampled 10 clients (out of 33)\n",
            "DEBUG:flwr:evaluate_round 9: strategy sampled 10 clients (out of 33)\n"
          ]
        },
        {
          "output_type": "stream",
          "name": "stdout",
          "text": [
            "GLOBAL TEST\n"
          ]
        },
        {
          "output_type": "stream",
          "name": "stderr",
          "text": [
            "DEBUG flwr 2024-01-20 14:42:36,489 | server.py:187 | evaluate_round 9 received 10 results and 0 failures\n",
            "DEBUG:flwr:evaluate_round 9 received 10 results and 0 failures\n",
            "DEBUG flwr 2024-01-20 14:42:36,493 | server.py:222 | fit_round 10: strategy sampled 10 clients (out of 33)\n",
            "DEBUG:flwr:fit_round 10: strategy sampled 10 clients (out of 33)\n"
          ]
        },
        {
          "output_type": "stream",
          "name": "stdout",
          "text": [
            "\u001b[2m\u001b[36m(DefaultActor pid=1602)\u001b[0m ATTACKER\n",
            "\u001b[2m\u001b[36m(DefaultActor pid=1602)\u001b[0m output size:  256\n",
            "\u001b[2m\u001b[36m(DefaultActor pid=1602)\u001b[0m selected images size:  1\n",
            "\u001b[2m\u001b[36m(DefaultActor pid=1602)\u001b[0m output size:  256\n",
            "\u001b[2m\u001b[36m(DefaultActor pid=1602)\u001b[0m selected images size:  1\n",
            "\u001b[2m\u001b[36m(DefaultActor pid=1602)\u001b[0m output size:  256\n",
            "\u001b[2m\u001b[36m(DefaultActor pid=1602)\u001b[0m selected images size:  1\n",
            "\u001b[2m\u001b[36m(DefaultActor pid=1602)\u001b[0m output size:  256\n",
            "\u001b[2m\u001b[36m(DefaultActor pid=1602)\u001b[0m selected images size:  1\n",
            "\u001b[2m\u001b[36m(DefaultActor pid=1602)\u001b[0m output size:  256\n",
            "\u001b[2m\u001b[36m(DefaultActor pid=1602)\u001b[0m selected images size:  1\n",
            "\u001b[2m\u001b[36m(DefaultActor pid=1602)\u001b[0m output size:  256\n",
            "\u001b[2m\u001b[36m(DefaultActor pid=1602)\u001b[0m selected images size:  1\n",
            "\u001b[2m\u001b[36m(DefaultActor pid=1602)\u001b[0m output size:  256\n",
            "\u001b[2m\u001b[36m(DefaultActor pid=1602)\u001b[0m selected images size:  1\n",
            "\u001b[2m\u001b[36m(DefaultActor pid=1602)\u001b[0m output size:  256\n",
            "\u001b[2m\u001b[36m(DefaultActor pid=1602)\u001b[0m selected images size:  3\n",
            "\u001b[2m\u001b[36m(DefaultActor pid=1602)\u001b[0m output size:  256\n",
            "\u001b[2m\u001b[36m(DefaultActor pid=1602)\u001b[0m selected images size:  3\n",
            "\u001b[2m\u001b[36m(DefaultActor pid=1602)\u001b[0m output size:  256\n",
            "\u001b[2m\u001b[36m(DefaultActor pid=1602)\u001b[0m selected images size:  1\n",
            "\u001b[2m\u001b[36m(DefaultActor pid=1602)\u001b[0m output size:  101\n",
            "\u001b[2m\u001b[36m(DefaultActor pid=1602)\u001b[0m selected images size:  1\n",
            "\u001b[2m\u001b[36m(DefaultActor pid=1602)\u001b[0m output size:  256\n",
            "\u001b[2m\u001b[36m(DefaultActor pid=1602)\u001b[0m selected images size:  5\n",
            "\u001b[2m\u001b[36m(DefaultActor pid=1602)\u001b[0m output size:  256\n",
            "\u001b[2m\u001b[36m(DefaultActor pid=1602)\u001b[0m selected images size:  14\n",
            "\u001b[2m\u001b[36m(DefaultActor pid=1602)\u001b[0m output size:  256\n",
            "\u001b[2m\u001b[36m(DefaultActor pid=1602)\u001b[0m selected images size:  9\n",
            "\u001b[2m\u001b[36m(DefaultActor pid=1602)\u001b[0m output size:  256\n",
            "\u001b[2m\u001b[36m(DefaultActor pid=1602)\u001b[0m selected images size:  9\n",
            "\u001b[2m\u001b[36m(DefaultActor pid=1602)\u001b[0m output size:  256\n",
            "\u001b[2m\u001b[36m(DefaultActor pid=1602)\u001b[0m selected images size:  15\n",
            "\u001b[2m\u001b[36m(DefaultActor pid=1602)\u001b[0m output size:  256\n",
            "\u001b[2m\u001b[36m(DefaultActor pid=1602)\u001b[0m selected images size:  16\n",
            "\u001b[2m\u001b[36m(DefaultActor pid=1602)\u001b[0m output size:  101\n",
            "\u001b[2m\u001b[36m(DefaultActor pid=1602)\u001b[0m selected images size:  6\n",
            "\u001b[2m\u001b[36m(DefaultActor pid=1602)\u001b[0m output size:  256\n",
            "\u001b[2m\u001b[36m(DefaultActor pid=1602)\u001b[0m selected images size:  18\n",
            "\u001b[2m\u001b[36m(DefaultActor pid=1602)\u001b[0m output size:  256\n",
            "\u001b[2m\u001b[36m(DefaultActor pid=1602)\u001b[0m selected images size:  22\n",
            "\u001b[2m\u001b[36m(DefaultActor pid=1602)\u001b[0m output size:  256\n",
            "\u001b[2m\u001b[36m(DefaultActor pid=1602)\u001b[0m selected images size:  29\n",
            "\u001b[2m\u001b[36m(DefaultActor pid=1602)\u001b[0m output size:  256\n",
            "\u001b[2m\u001b[36m(DefaultActor pid=1602)\u001b[0m selected images size:  27\n",
            "\u001b[2m\u001b[36m(DefaultActor pid=1602)\u001b[0m output size:  256\n",
            "\u001b[2m\u001b[36m(DefaultActor pid=1602)\u001b[0m selected images size:  33\n",
            "\u001b[2m\u001b[36m(DefaultActor pid=1602)\u001b[0m output size:  256\n",
            "\u001b[2m\u001b[36m(DefaultActor pid=1602)\u001b[0m selected images size:  48\n",
            "\u001b[2m\u001b[36m(DefaultActor pid=1602)\u001b[0m output size:  101\n",
            "\u001b[2m\u001b[36m(DefaultActor pid=1602)\u001b[0m selected images size:  24\n",
            "\u001b[2m\u001b[36m(DefaultActor pid=1602)\u001b[0m output size:  256\n",
            "\u001b[2m\u001b[36m(DefaultActor pid=1602)\u001b[0m selected images size:  57\n",
            "\u001b[2m\u001b[36m(DefaultActor pid=1602)\u001b[0m output size:  256\n",
            "\u001b[2m\u001b[36m(DefaultActor pid=1602)\u001b[0m selected images size:  51\n",
            "\u001b[2m\u001b[36m(DefaultActor pid=1602)\u001b[0m output size:  256\n",
            "\u001b[2m\u001b[36m(DefaultActor pid=1602)\u001b[0m selected images size:  68\n",
            "\u001b[2m\u001b[36m(DefaultActor pid=1602)\u001b[0m output size:  256\n",
            "\u001b[2m\u001b[36m(DefaultActor pid=1602)\u001b[0m selected images size:  61\n",
            "\u001b[2m\u001b[36m(DefaultActor pid=1602)\u001b[0m output size:  256\n",
            "\u001b[2m\u001b[36m(DefaultActor pid=1602)\u001b[0m selected images size:  59\n",
            "\u001b[2m\u001b[36m(DefaultActor pid=1602)\u001b[0m output size:  256\n",
            "\u001b[2m\u001b[36m(DefaultActor pid=1602)\u001b[0m selected images size:  76\n",
            "\u001b[2m\u001b[36m(DefaultActor pid=1602)\u001b[0m output size:  101\n",
            "\u001b[2m\u001b[36m(DefaultActor pid=1602)\u001b[0m selected images size:  29\n",
            "\u001b[2m\u001b[36m(DefaultActor pid=1602)\u001b[0m output size:  256\n",
            "\u001b[2m\u001b[36m(DefaultActor pid=1602)\u001b[0m selected images size:  53\n",
            "\u001b[2m\u001b[36m(DefaultActor pid=1602)\u001b[0m output size:  256\n",
            "\u001b[2m\u001b[36m(DefaultActor pid=1602)\u001b[0m selected images size:  27\n",
            "\u001b[2m\u001b[36m(DefaultActor pid=1602)\u001b[0m output size:  256\n",
            "\u001b[2m\u001b[36m(DefaultActor pid=1602)\u001b[0m selected images size:  27\n",
            "\u001b[2m\u001b[36m(DefaultActor pid=1602)\u001b[0m output size:  256\n",
            "\u001b[2m\u001b[36m(DefaultActor pid=1602)\u001b[0m selected images size:  10\n",
            "\u001b[2m\u001b[36m(DefaultActor pid=1602)\u001b[0m output size:  256\n",
            "\u001b[2m\u001b[36m(DefaultActor pid=1602)\u001b[0m selected images size:  11\n",
            "\u001b[2m\u001b[36m(DefaultActor pid=1602)\u001b[0m output size:  256\n",
            "\u001b[2m\u001b[36m(DefaultActor pid=1602)\u001b[0m selected images size:  5\n",
            "\u001b[2m\u001b[36m(DefaultActor pid=1602)\u001b[0m output size:  101\n",
            "\u001b[2m\u001b[36m(DefaultActor pid=1602)\u001b[0m selected images size:  4\n",
            "\u001b[2m\u001b[36m(DefaultActor pid=1602)\u001b[0m output size:  256\n",
            "\u001b[2m\u001b[36m(DefaultActor pid=1602)\u001b[0m selected images size:  4\n",
            "\u001b[2m\u001b[36m(DefaultActor pid=1602)\u001b[0m output size:  256\n",
            "\u001b[2m\u001b[36m(DefaultActor pid=1602)\u001b[0m selected images size:  4\n",
            "\u001b[2m\u001b[36m(DefaultActor pid=1602)\u001b[0m output size:  256\n",
            "\u001b[2m\u001b[36m(DefaultActor pid=1602)\u001b[0m selected images size:  3\n",
            "\u001b[2m\u001b[36m(DefaultActor pid=1602)\u001b[0m output size:  256\n",
            "\u001b[2m\u001b[36m(DefaultActor pid=1602)\u001b[0m selected images size:  12\n",
            "\u001b[2m\u001b[36m(DefaultActor pid=1602)\u001b[0m output size:  256\n",
            "\u001b[2m\u001b[36m(DefaultActor pid=1602)\u001b[0m selected images size:  22\n",
            "\u001b[2m\u001b[36m(DefaultActor pid=1602)\u001b[0m output size:  256\n",
            "\u001b[2m\u001b[36m(DefaultActor pid=1602)\u001b[0m selected images size:  56\n",
            "\u001b[2m\u001b[36m(DefaultActor pid=1602)\u001b[0m output size:  101\n",
            "\u001b[2m\u001b[36m(DefaultActor pid=1602)\u001b[0m selected images size:  33\n",
            "\u001b[2m\u001b[36m(DefaultActor pid=1602)\u001b[0m output size:  256\n",
            "\u001b[2m\u001b[36m(DefaultActor pid=1602)\u001b[0m selected images size:  76\n",
            "\u001b[2m\u001b[36m(DefaultActor pid=1602)\u001b[0m output size:  256\n",
            "\u001b[2m\u001b[36m(DefaultActor pid=1602)\u001b[0m selected images size:  85\n",
            "\u001b[2m\u001b[36m(DefaultActor pid=1602)\u001b[0m output size:  256\n",
            "\u001b[2m\u001b[36m(DefaultActor pid=1602)\u001b[0m selected images size:  80\n",
            "\u001b[2m\u001b[36m(DefaultActor pid=1602)\u001b[0m output size:  256\n",
            "\u001b[2m\u001b[36m(DefaultActor pid=1602)\u001b[0m selected images size:  89\n",
            "\u001b[2m\u001b[36m(DefaultActor pid=1602)\u001b[0m output size:  256\n",
            "\u001b[2m\u001b[36m(DefaultActor pid=1602)\u001b[0m selected images size:  80\n",
            "\u001b[2m\u001b[36m(DefaultActor pid=1602)\u001b[0m output size:  256\n",
            "\u001b[2m\u001b[36m(DefaultActor pid=1602)\u001b[0m selected images size:  101\n",
            "\u001b[2m\u001b[36m(DefaultActor pid=1602)\u001b[0m output size:  101\n",
            "\u001b[2m\u001b[36m(DefaultActor pid=1602)\u001b[0m selected images size:  43\n",
            "\u001b[2m\u001b[36m(DefaultActor pid=1602)\u001b[0m output size:  256\n",
            "\u001b[2m\u001b[36m(DefaultActor pid=1602)\u001b[0m selected images size:  74\n",
            "\u001b[2m\u001b[36m(DefaultActor pid=1602)\u001b[0m output size:  256\n",
            "\u001b[2m\u001b[36m(DefaultActor pid=1602)\u001b[0m selected images size:  83\n",
            "\u001b[2m\u001b[36m(DefaultActor pid=1602)\u001b[0m output size:  256\n",
            "\u001b[2m\u001b[36m(DefaultActor pid=1602)\u001b[0m selected images size:  64\n",
            "\u001b[2m\u001b[36m(DefaultActor pid=1602)\u001b[0m output size:  256\n",
            "\u001b[2m\u001b[36m(DefaultActor pid=1602)\u001b[0m selected images size:  48\n",
            "\u001b[2m\u001b[36m(DefaultActor pid=1602)\u001b[0m output size:  256\n",
            "\u001b[2m\u001b[36m(DefaultActor pid=1602)\u001b[0m selected images size:  51\n",
            "\u001b[2m\u001b[36m(DefaultActor pid=1602)\u001b[0m output size:  256\n",
            "\u001b[2m\u001b[36m(DefaultActor pid=1602)\u001b[0m selected images size:  62\n",
            "\u001b[2m\u001b[36m(DefaultActor pid=1602)\u001b[0m output size:  101\n",
            "\u001b[2m\u001b[36m(DefaultActor pid=1602)\u001b[0m selected images size:  17\n",
            "\u001b[2m\u001b[36m(DefaultActor pid=1602)\u001b[0m output size:  256\n",
            "\u001b[2m\u001b[36m(DefaultActor pid=1602)\u001b[0m selected images size:  51\n",
            "\u001b[2m\u001b[36m(DefaultActor pid=1602)\u001b[0m output size:  256\n",
            "\u001b[2m\u001b[36m(DefaultActor pid=1602)\u001b[0m selected images size:  41\n",
            "\u001b[2m\u001b[36m(DefaultActor pid=1602)\u001b[0m output size:  256\n",
            "\u001b[2m\u001b[36m(DefaultActor pid=1602)\u001b[0m selected images size:  43\n",
            "\u001b[2m\u001b[36m(DefaultActor pid=1602)\u001b[0m output size:  256\n",
            "\u001b[2m\u001b[36m(DefaultActor pid=1602)\u001b[0m selected images size:  35\n",
            "\u001b[2m\u001b[36m(DefaultActor pid=1602)\u001b[0m output size:  256\n",
            "\u001b[2m\u001b[36m(DefaultActor pid=1602)\u001b[0m selected images size:  49\n",
            "\u001b[2m\u001b[36m(DefaultActor pid=1602)\u001b[0m output size:  256\n",
            "\u001b[2m\u001b[36m(DefaultActor pid=1602)\u001b[0m selected images size:  46\n",
            "\u001b[2m\u001b[36m(DefaultActor pid=1602)\u001b[0m output size:  101\n",
            "\u001b[2m\u001b[36m(DefaultActor pid=1602)\u001b[0m selected images size:  18\n",
            "\u001b[2m\u001b[36m(DefaultActor pid=1602)\u001b[0m output size:  256\n",
            "\u001b[2m\u001b[36m(DefaultActor pid=1602)\u001b[0m selected images size:  43\n",
            "\u001b[2m\u001b[36m(DefaultActor pid=1602)\u001b[0m output size:  256\n",
            "\u001b[2m\u001b[36m(DefaultActor pid=1602)\u001b[0m selected images size:  56\n",
            "\u001b[2m\u001b[36m(DefaultActor pid=1602)\u001b[0m output size:  256\n",
            "\u001b[2m\u001b[36m(DefaultActor pid=1602)\u001b[0m selected images size:  48\n",
            "\u001b[2m\u001b[36m(DefaultActor pid=1602)\u001b[0m output size:  256\n",
            "\u001b[2m\u001b[36m(DefaultActor pid=1602)\u001b[0m selected images size:  60\n",
            "\u001b[2m\u001b[36m(DefaultActor pid=1602)\u001b[0m output size:  256\n",
            "\u001b[2m\u001b[36m(DefaultActor pid=1602)\u001b[0m selected images size:  54\n",
            "\u001b[2m\u001b[36m(DefaultActor pid=1602)\u001b[0m output size:  256\n",
            "\u001b[2m\u001b[36m(DefaultActor pid=1602)\u001b[0m selected images size:  57\n",
            "\u001b[2m\u001b[36m(DefaultActor pid=1602)\u001b[0m output size:  101\n",
            "\u001b[2m\u001b[36m(DefaultActor pid=1602)\u001b[0m selected images size:  29\n",
            "\u001b[2m\u001b[36m(DefaultActor pid=1602)\u001b[0m ATTACKER\n",
            "\u001b[2m\u001b[36m(DefaultActor pid=1602)\u001b[0m output size:  256\n",
            "\u001b[2m\u001b[36m(DefaultActor pid=1602)\u001b[0m selected images size:  1\n",
            "\u001b[2m\u001b[36m(DefaultActor pid=1602)\u001b[0m output size:  256\n",
            "\u001b[2m\u001b[36m(DefaultActor pid=1602)\u001b[0m selected images size:  1\n"
          ]
        },
        {
          "output_type": "stream",
          "name": "stderr",
          "text": [
            "DEBUG flwr 2024-01-20 14:45:35,609 | server.py:236 | fit_round 10 received 10 results and 0 failures\n",
            "DEBUG:flwr:fit_round 10 received 10 results and 0 failures\n"
          ]
        },
        {
          "output_type": "stream",
          "name": "stdout",
          "text": [
            "Saving round 10 aggregated_parameters...\n"
          ]
        },
        {
          "output_type": "stream",
          "name": "stderr",
          "text": [
            "INFO flwr 2024-01-20 14:45:52,091 | server.py:125 | fit progress: (10, 313.16375708580017, {'accuracy': 0.5813953488372093}, 1466.674348813)\n",
            "INFO:flwr:fit progress: (10, 313.16375708580017, {'accuracy': 0.5813953488372093}, 1466.674348813)\n",
            "DEBUG flwr 2024-01-20 14:45:52,095 | server.py:173 | evaluate_round 10: strategy sampled 10 clients (out of 33)\n",
            "DEBUG:flwr:evaluate_round 10: strategy sampled 10 clients (out of 33)\n"
          ]
        },
        {
          "output_type": "stream",
          "name": "stdout",
          "text": [
            "GLOBAL TEST\n"
          ]
        },
        {
          "output_type": "stream",
          "name": "stderr",
          "text": [
            "DEBUG flwr 2024-01-20 14:45:56,161 | server.py:187 | evaluate_round 10 received 10 results and 0 failures\n",
            "DEBUG:flwr:evaluate_round 10 received 10 results and 0 failures\n",
            "DEBUG flwr 2024-01-20 14:45:56,164 | server.py:222 | fit_round 11: strategy sampled 10 clients (out of 33)\n",
            "DEBUG:flwr:fit_round 11: strategy sampled 10 clients (out of 33)\n"
          ]
        },
        {
          "output_type": "stream",
          "name": "stdout",
          "text": [
            "\u001b[2m\u001b[36m(DefaultActor pid=1602)\u001b[0m ATTACKER\n",
            "\u001b[2m\u001b[36m(DefaultActor pid=1602)\u001b[0m output size:  256\n",
            "\u001b[2m\u001b[36m(DefaultActor pid=1602)\u001b[0m selected images size:  1\n",
            "\u001b[2m\u001b[36m(DefaultActor pid=1602)\u001b[0m output size:  101\n",
            "\u001b[2m\u001b[36m(DefaultActor pid=1602)\u001b[0m selected images size:  1\n",
            "\u001b[2m\u001b[36m(DefaultActor pid=1602)\u001b[0m output size:  256\n",
            "\u001b[2m\u001b[36m(DefaultActor pid=1602)\u001b[0m selected images size:  2\n",
            "\u001b[2m\u001b[36m(DefaultActor pid=1602)\u001b[0m output size:  256\n",
            "\u001b[2m\u001b[36m(DefaultActor pid=1602)\u001b[0m selected images size:  2\n",
            "\u001b[2m\u001b[36m(DefaultActor pid=1602)\u001b[0m output size:  256\n",
            "\u001b[2m\u001b[36m(DefaultActor pid=1602)\u001b[0m selected images size:  1\n",
            "\u001b[2m\u001b[36m(DefaultActor pid=1602)\u001b[0m output size:  256\n",
            "\u001b[2m\u001b[36m(DefaultActor pid=1602)\u001b[0m selected images size:  4\n",
            "\u001b[2m\u001b[36m(DefaultActor pid=1602)\u001b[0m output size:  256\n",
            "\u001b[2m\u001b[36m(DefaultActor pid=1602)\u001b[0m selected images size:  5\n",
            "\u001b[2m\u001b[36m(DefaultActor pid=1602)\u001b[0m output size:  101\n",
            "\u001b[2m\u001b[36m(DefaultActor pid=1602)\u001b[0m selected images size:  1\n",
            "\u001b[2m\u001b[36m(DefaultActor pid=1602)\u001b[0m output size:  256\n",
            "\u001b[2m\u001b[36m(DefaultActor pid=1602)\u001b[0m selected images size:  4\n",
            "\u001b[2m\u001b[36m(DefaultActor pid=1602)\u001b[0m output size:  256\n",
            "\u001b[2m\u001b[36m(DefaultActor pid=1602)\u001b[0m selected images size:  9\n",
            "\u001b[2m\u001b[36m(DefaultActor pid=1602)\u001b[0m output size:  256\n",
            "\u001b[2m\u001b[36m(DefaultActor pid=1602)\u001b[0m selected images size:  5\n",
            "\u001b[2m\u001b[36m(DefaultActor pid=1602)\u001b[0m output size:  256\n",
            "\u001b[2m\u001b[36m(DefaultActor pid=1602)\u001b[0m selected images size:  6\n",
            "\u001b[2m\u001b[36m(DefaultActor pid=1602)\u001b[0m output size:  256\n",
            "\u001b[2m\u001b[36m(DefaultActor pid=1602)\u001b[0m selected images size:  4\n",
            "\u001b[2m\u001b[36m(DefaultActor pid=1602)\u001b[0m output size:  256\n",
            "\u001b[2m\u001b[36m(DefaultActor pid=1602)\u001b[0m selected images size:  3\n",
            "\u001b[2m\u001b[36m(DefaultActor pid=1602)\u001b[0m output size:  256\n",
            "\u001b[2m\u001b[36m(DefaultActor pid=1602)\u001b[0m selected images size:  2\n",
            "\u001b[2m\u001b[36m(DefaultActor pid=1602)\u001b[0m output size:  256\n",
            "\u001b[2m\u001b[36m(DefaultActor pid=1602)\u001b[0m selected images size:  3\n",
            "\u001b[2m\u001b[36m(DefaultActor pid=1602)\u001b[0m output size:  256\n",
            "\u001b[2m\u001b[36m(DefaultActor pid=1602)\u001b[0m selected images size:  3\n",
            "\u001b[2m\u001b[36m(DefaultActor pid=1602)\u001b[0m output size:  256\n",
            "\u001b[2m\u001b[36m(DefaultActor pid=1602)\u001b[0m selected images size:  6\n",
            "\u001b[2m\u001b[36m(DefaultActor pid=1602)\u001b[0m output size:  256\n",
            "\u001b[2m\u001b[36m(DefaultActor pid=1602)\u001b[0m selected images size:  6\n",
            "\u001b[2m\u001b[36m(DefaultActor pid=1602)\u001b[0m output size:  256\n",
            "\u001b[2m\u001b[36m(DefaultActor pid=1602)\u001b[0m selected images size:  9\n",
            "\u001b[2m\u001b[36m(DefaultActor pid=1602)\u001b[0m output size:  256\n",
            "\u001b[2m\u001b[36m(DefaultActor pid=1602)\u001b[0m selected images size:  7\n",
            "\u001b[2m\u001b[36m(DefaultActor pid=1602)\u001b[0m output size:  256\n",
            "\u001b[2m\u001b[36m(DefaultActor pid=1602)\u001b[0m selected images size:  6\n",
            "\u001b[2m\u001b[36m(DefaultActor pid=1602)\u001b[0m output size:  256\n",
            "\u001b[2m\u001b[36m(DefaultActor pid=1602)\u001b[0m selected images size:  4\n",
            "\u001b[2m\u001b[36m(DefaultActor pid=1602)\u001b[0m output size:  256\n",
            "\u001b[2m\u001b[36m(DefaultActor pid=1602)\u001b[0m selected images size:  7\n",
            "\u001b[2m\u001b[36m(DefaultActor pid=1602)\u001b[0m output size:  101\n",
            "\u001b[2m\u001b[36m(DefaultActor pid=1602)\u001b[0m selected images size:  3\n",
            "\u001b[2m\u001b[36m(DefaultActor pid=1602)\u001b[0m output size:  256\n",
            "\u001b[2m\u001b[36m(DefaultActor pid=1602)\u001b[0m selected images size:  7\n",
            "\u001b[2m\u001b[36m(DefaultActor pid=1602)\u001b[0m output size:  256\n",
            "\u001b[2m\u001b[36m(DefaultActor pid=1602)\u001b[0m selected images size:  3\n",
            "\u001b[2m\u001b[36m(DefaultActor pid=1602)\u001b[0m output size:  256\n",
            "\u001b[2m\u001b[36m(DefaultActor pid=1602)\u001b[0m selected images size:  8\n",
            "\u001b[2m\u001b[36m(DefaultActor pid=1602)\u001b[0m output size:  256\n",
            "\u001b[2m\u001b[36m(DefaultActor pid=1602)\u001b[0m selected images size:  8\n",
            "\u001b[2m\u001b[36m(DefaultActor pid=1602)\u001b[0m output size:  256\n",
            "\u001b[2m\u001b[36m(DefaultActor pid=1602)\u001b[0m selected images size:  7\n",
            "\u001b[2m\u001b[36m(DefaultActor pid=1602)\u001b[0m output size:  256\n",
            "\u001b[2m\u001b[36m(DefaultActor pid=1602)\u001b[0m selected images size:  11\n",
            "\u001b[2m\u001b[36m(DefaultActor pid=1602)\u001b[0m output size:  101\n",
            "\u001b[2m\u001b[36m(DefaultActor pid=1602)\u001b[0m selected images size:  3\n",
            "\u001b[2m\u001b[36m(DefaultActor pid=1602)\u001b[0m output size:  256\n",
            "\u001b[2m\u001b[36m(DefaultActor pid=1602)\u001b[0m selected images size:  13\n",
            "\u001b[2m\u001b[36m(DefaultActor pid=1602)\u001b[0m output size:  256\n",
            "\u001b[2m\u001b[36m(DefaultActor pid=1602)\u001b[0m selected images size:  13\n",
            "\u001b[2m\u001b[36m(DefaultActor pid=1602)\u001b[0m output size:  256\n",
            "\u001b[2m\u001b[36m(DefaultActor pid=1602)\u001b[0m selected images size:  14\n",
            "\u001b[2m\u001b[36m(DefaultActor pid=1602)\u001b[0m output size:  256\n",
            "\u001b[2m\u001b[36m(DefaultActor pid=1602)\u001b[0m selected images size:  13\n",
            "\u001b[2m\u001b[36m(DefaultActor pid=1602)\u001b[0m output size:  256\n",
            "\u001b[2m\u001b[36m(DefaultActor pid=1602)\u001b[0m selected images size:  18\n",
            "\u001b[2m\u001b[36m(DefaultActor pid=1602)\u001b[0m output size:  256\n",
            "\u001b[2m\u001b[36m(DefaultActor pid=1602)\u001b[0m selected images size:  15\n",
            "\u001b[2m\u001b[36m(DefaultActor pid=1602)\u001b[0m output size:  101\n",
            "\u001b[2m\u001b[36m(DefaultActor pid=1602)\u001b[0m selected images size:  4\n",
            "\u001b[2m\u001b[36m(DefaultActor pid=1602)\u001b[0m output size:  256\n",
            "\u001b[2m\u001b[36m(DefaultActor pid=1602)\u001b[0m selected images size:  14\n",
            "\u001b[2m\u001b[36m(DefaultActor pid=1602)\u001b[0m output size:  256\n",
            "\u001b[2m\u001b[36m(DefaultActor pid=1602)\u001b[0m selected images size:  6\n",
            "\u001b[2m\u001b[36m(DefaultActor pid=1602)\u001b[0m output size:  256\n",
            "\u001b[2m\u001b[36m(DefaultActor pid=1602)\u001b[0m selected images size:  9\n",
            "\u001b[2m\u001b[36m(DefaultActor pid=1602)\u001b[0m output size:  256\n",
            "\u001b[2m\u001b[36m(DefaultActor pid=1602)\u001b[0m selected images size:  17\n",
            "\u001b[2m\u001b[36m(DefaultActor pid=1602)\u001b[0m output size:  256\n",
            "\u001b[2m\u001b[36m(DefaultActor pid=1602)\u001b[0m selected images size:  10\n",
            "\u001b[2m\u001b[36m(DefaultActor pid=1602)\u001b[0m output size:  256\n",
            "\u001b[2m\u001b[36m(DefaultActor pid=1602)\u001b[0m selected images size:  4\n",
            "\u001b[2m\u001b[36m(DefaultActor pid=1602)\u001b[0m output size:  101\n",
            "\u001b[2m\u001b[36m(DefaultActor pid=1602)\u001b[0m selected images size:  2\n",
            "\u001b[2m\u001b[36m(DefaultActor pid=1602)\u001b[0m output size:  256\n",
            "\u001b[2m\u001b[36m(DefaultActor pid=1602)\u001b[0m selected images size:  3\n",
            "\u001b[2m\u001b[36m(DefaultActor pid=1602)\u001b[0m output size:  256\n",
            "\u001b[2m\u001b[36m(DefaultActor pid=1602)\u001b[0m selected images size:  10\n",
            "\u001b[2m\u001b[36m(DefaultActor pid=1602)\u001b[0m output size:  256\n",
            "\u001b[2m\u001b[36m(DefaultActor pid=1602)\u001b[0m selected images size:  11\n",
            "\u001b[2m\u001b[36m(DefaultActor pid=1602)\u001b[0m output size:  256\n",
            "\u001b[2m\u001b[36m(DefaultActor pid=1602)\u001b[0m selected images size:  13\n",
            "\u001b[2m\u001b[36m(DefaultActor pid=1602)\u001b[0m output size:  256\n",
            "\u001b[2m\u001b[36m(DefaultActor pid=1602)\u001b[0m selected images size:  15\n",
            "\u001b[2m\u001b[36m(DefaultActor pid=1602)\u001b[0m output size:  256\n",
            "\u001b[2m\u001b[36m(DefaultActor pid=1602)\u001b[0m selected images size:  14\n",
            "\u001b[2m\u001b[36m(DefaultActor pid=1602)\u001b[0m output size:  101\n",
            "\u001b[2m\u001b[36m(DefaultActor pid=1602)\u001b[0m selected images size:  9\n",
            "\u001b[2m\u001b[36m(DefaultActor pid=1602)\u001b[0m output size:  256\n",
            "\u001b[2m\u001b[36m(DefaultActor pid=1602)\u001b[0m selected images size:  15\n",
            "\u001b[2m\u001b[36m(DefaultActor pid=1602)\u001b[0m output size:  256\n",
            "\u001b[2m\u001b[36m(DefaultActor pid=1602)\u001b[0m selected images size:  20\n",
            "\u001b[2m\u001b[36m(DefaultActor pid=1602)\u001b[0m output size:  256\n",
            "\u001b[2m\u001b[36m(DefaultActor pid=1602)\u001b[0m selected images size:  14\n",
            "\u001b[2m\u001b[36m(DefaultActor pid=1602)\u001b[0m output size:  256\n",
            "\u001b[2m\u001b[36m(DefaultActor pid=1602)\u001b[0m selected images size:  23\n",
            "\u001b[2m\u001b[36m(DefaultActor pid=1602)\u001b[0m output size:  256\n",
            "\u001b[2m\u001b[36m(DefaultActor pid=1602)\u001b[0m selected images size:  20\n",
            "\u001b[2m\u001b[36m(DefaultActor pid=1602)\u001b[0m output size:  256\n",
            "\u001b[2m\u001b[36m(DefaultActor pid=1602)\u001b[0m selected images size:  16\n",
            "\u001b[2m\u001b[36m(DefaultActor pid=1602)\u001b[0m output size:  101\n",
            "\u001b[2m\u001b[36m(DefaultActor pid=1602)\u001b[0m selected images size:  8\n",
            "\u001b[2m\u001b[36m(DefaultActor pid=1602)\u001b[0m output size:  256\n",
            "\u001b[2m\u001b[36m(DefaultActor pid=1602)\u001b[0m selected images size:  37\n",
            "\u001b[2m\u001b[36m(DefaultActor pid=1602)\u001b[0m output size:  256\n",
            "\u001b[2m\u001b[36m(DefaultActor pid=1602)\u001b[0m selected images size:  53\n",
            "\u001b[2m\u001b[36m(DefaultActor pid=1602)\u001b[0m output size:  256\n",
            "\u001b[2m\u001b[36m(DefaultActor pid=1602)\u001b[0m selected images size:  43\n",
            "\u001b[2m\u001b[36m(DefaultActor pid=1602)\u001b[0m output size:  256\n",
            "\u001b[2m\u001b[36m(DefaultActor pid=1602)\u001b[0m selected images size:  34\n",
            "\u001b[2m\u001b[36m(DefaultActor pid=1602)\u001b[0m output size:  256\n",
            "\u001b[2m\u001b[36m(DefaultActor pid=1602)\u001b[0m selected images size:  30\n",
            "\u001b[2m\u001b[36m(DefaultActor pid=1602)\u001b[0m output size:  256\n",
            "\u001b[2m\u001b[36m(DefaultActor pid=1602)\u001b[0m selected images size:  40\n",
            "\u001b[2m\u001b[36m(DefaultActor pid=1602)\u001b[0m output size:  101\n",
            "\u001b[2m\u001b[36m(DefaultActor pid=1602)\u001b[0m selected images size:  28\n"
          ]
        },
        {
          "output_type": "stream",
          "name": "stderr",
          "text": [
            "DEBUG flwr 2024-01-20 14:48:07,834 | server.py:236 | fit_round 11 received 10 results and 0 failures\n",
            "DEBUG:flwr:fit_round 11 received 10 results and 0 failures\n"
          ]
        },
        {
          "output_type": "stream",
          "name": "stdout",
          "text": [
            "Saving round 11 aggregated_parameters...\n"
          ]
        },
        {
          "output_type": "stream",
          "name": "stderr",
          "text": [
            "INFO flwr 2024-01-20 14:48:25,328 | server.py:125 | fit progress: (11, 313.0573811531067, {'accuracy': 0.1937984496124031}, 1619.911128668)\n",
            "INFO:flwr:fit progress: (11, 313.0573811531067, {'accuracy': 0.1937984496124031}, 1619.911128668)\n",
            "DEBUG flwr 2024-01-20 14:48:25,333 | server.py:173 | evaluate_round 11: strategy sampled 10 clients (out of 33)\n",
            "DEBUG:flwr:evaluate_round 11: strategy sampled 10 clients (out of 33)\n"
          ]
        },
        {
          "output_type": "stream",
          "name": "stdout",
          "text": [
            "GLOBAL TEST\n"
          ]
        },
        {
          "output_type": "stream",
          "name": "stderr",
          "text": [
            "DEBUG flwr 2024-01-20 14:48:29,118 | server.py:187 | evaluate_round 11 received 10 results and 0 failures\n",
            "DEBUG:flwr:evaluate_round 11 received 10 results and 0 failures\n",
            "DEBUG flwr 2024-01-20 14:48:29,121 | server.py:222 | fit_round 12: strategy sampled 10 clients (out of 33)\n",
            "DEBUG:flwr:fit_round 12: strategy sampled 10 clients (out of 33)\n"
          ]
        },
        {
          "output_type": "stream",
          "name": "stdout",
          "text": [
            "\u001b[2m\u001b[36m(DefaultActor pid=1602)\u001b[0m ATTACKER\n",
            "\u001b[2m\u001b[36m(DefaultActor pid=1602)\u001b[0m output size:  256\n",
            "\u001b[2m\u001b[36m(DefaultActor pid=1602)\u001b[0m selected images size:  1\n",
            "\u001b[2m\u001b[36m(DefaultActor pid=1602)\u001b[0m output size:  256\n",
            "\u001b[2m\u001b[36m(DefaultActor pid=1602)\u001b[0m selected images size:  7\n",
            "\u001b[2m\u001b[36m(DefaultActor pid=1602)\u001b[0m output size:  256\n",
            "\u001b[2m\u001b[36m(DefaultActor pid=1602)\u001b[0m selected images size:  29\n",
            "\u001b[2m\u001b[36m(DefaultActor pid=1602)\u001b[0m output size:  101\n",
            "\u001b[2m\u001b[36m(DefaultActor pid=1602)\u001b[0m selected images size:  5\n",
            "\u001b[2m\u001b[36m(DefaultActor pid=1602)\u001b[0m output size:  256\n",
            "\u001b[2m\u001b[36m(DefaultActor pid=1602)\u001b[0m selected images size:  16\n",
            "\u001b[2m\u001b[36m(DefaultActor pid=1602)\u001b[0m output size:  256\n",
            "\u001b[2m\u001b[36m(DefaultActor pid=1602)\u001b[0m selected images size:  7\n",
            "\u001b[2m\u001b[36m(DefaultActor pid=1602)\u001b[0m output size:  256\n",
            "\u001b[2m\u001b[36m(DefaultActor pid=1602)\u001b[0m selected images size:  3\n",
            "\u001b[2m\u001b[36m(DefaultActor pid=1602)\u001b[0m output size:  256\n",
            "\u001b[2m\u001b[36m(DefaultActor pid=1602)\u001b[0m selected images size:  1\n",
            "\u001b[2m\u001b[36m(DefaultActor pid=1602)\u001b[0m output size:  256\n",
            "\u001b[2m\u001b[36m(DefaultActor pid=1602)\u001b[0m selected images size:  2\n",
            "\u001b[2m\u001b[36m(DefaultActor pid=1602)\u001b[0m output size:  256\n",
            "\u001b[2m\u001b[36m(DefaultActor pid=1602)\u001b[0m selected images size:  3\n",
            "\u001b[2m\u001b[36m(DefaultActor pid=1602)\u001b[0m output size:  256\n",
            "\u001b[2m\u001b[36m(DefaultActor pid=1602)\u001b[0m selected images size:  2\n",
            "\u001b[2m\u001b[36m(DefaultActor pid=1602)\u001b[0m output size:  101\n",
            "\u001b[2m\u001b[36m(DefaultActor pid=1602)\u001b[0m selected images size:  1\n",
            "\u001b[2m\u001b[36m(DefaultActor pid=1602)\u001b[0m output size:  256\n",
            "\u001b[2m\u001b[36m(DefaultActor pid=1602)\u001b[0m selected images size:  7\n",
            "\u001b[2m\u001b[36m(DefaultActor pid=1602)\u001b[0m output size:  256\n",
            "\u001b[2m\u001b[36m(DefaultActor pid=1602)\u001b[0m selected images size:  8\n",
            "\u001b[2m\u001b[36m(DefaultActor pid=1602)\u001b[0m output size:  256\n",
            "\u001b[2m\u001b[36m(DefaultActor pid=1602)\u001b[0m selected images size:  2\n",
            "\u001b[2m\u001b[36m(DefaultActor pid=1602)\u001b[0m output size:  256\n",
            "\u001b[2m\u001b[36m(DefaultActor pid=1602)\u001b[0m selected images size:  4\n",
            "\u001b[2m\u001b[36m(DefaultActor pid=1602)\u001b[0m output size:  101\n",
            "\u001b[2m\u001b[36m(DefaultActor pid=1602)\u001b[0m selected images size:  1\n",
            "\u001b[2m\u001b[36m(DefaultActor pid=1602)\u001b[0m output size:  256\n",
            "\u001b[2m\u001b[36m(DefaultActor pid=1602)\u001b[0m selected images size:  1\n",
            "\u001b[2m\u001b[36m(DefaultActor pid=1602)\u001b[0m output size:  256\n",
            "\u001b[2m\u001b[36m(DefaultActor pid=1602)\u001b[0m selected images size:  3\n",
            "\u001b[2m\u001b[36m(DefaultActor pid=1602)\u001b[0m output size:  256\n",
            "\u001b[2m\u001b[36m(DefaultActor pid=1602)\u001b[0m selected images size:  3\n",
            "\u001b[2m\u001b[36m(DefaultActor pid=1602)\u001b[0m output size:  101\n",
            "\u001b[2m\u001b[36m(DefaultActor pid=1602)\u001b[0m selected images size:  2\n",
            "\u001b[2m\u001b[36m(DefaultActor pid=1602)\u001b[0m output size:  256\n",
            "\u001b[2m\u001b[36m(DefaultActor pid=1602)\u001b[0m selected images size:  13\n",
            "\u001b[2m\u001b[36m(DefaultActor pid=1602)\u001b[0m output size:  256\n",
            "\u001b[2m\u001b[36m(DefaultActor pid=1602)\u001b[0m selected images size:  12\n",
            "\u001b[2m\u001b[36m(DefaultActor pid=1602)\u001b[0m output size:  256\n",
            "\u001b[2m\u001b[36m(DefaultActor pid=1602)\u001b[0m selected images size:  15\n",
            "\u001b[2m\u001b[36m(DefaultActor pid=1602)\u001b[0m output size:  256\n",
            "\u001b[2m\u001b[36m(DefaultActor pid=1602)\u001b[0m selected images size:  19\n",
            "\u001b[2m\u001b[36m(DefaultActor pid=1602)\u001b[0m output size:  256\n",
            "\u001b[2m\u001b[36m(DefaultActor pid=1602)\u001b[0m selected images size:  17\n",
            "\u001b[2m\u001b[36m(DefaultActor pid=1602)\u001b[0m output size:  256\n",
            "\u001b[2m\u001b[36m(DefaultActor pid=1602)\u001b[0m selected images size:  27\n",
            "\u001b[2m\u001b[36m(DefaultActor pid=1602)\u001b[0m output size:  101\n",
            "\u001b[2m\u001b[36m(DefaultActor pid=1602)\u001b[0m selected images size:  11\n",
            "\u001b[2m\u001b[36m(DefaultActor pid=1602)\u001b[0m output size:  256\n",
            "\u001b[2m\u001b[36m(DefaultActor pid=1602)\u001b[0m selected images size:  31\n",
            "\u001b[2m\u001b[36m(DefaultActor pid=1602)\u001b[0m output size:  256\n",
            "\u001b[2m\u001b[36m(DefaultActor pid=1602)\u001b[0m selected images size:  31\n",
            "\u001b[2m\u001b[36m(DefaultActor pid=1602)\u001b[0m output size:  256\n",
            "\u001b[2m\u001b[36m(DefaultActor pid=1602)\u001b[0m selected images size:  42\n",
            "\u001b[2m\u001b[36m(DefaultActor pid=1602)\u001b[0m output size:  256\n",
            "\u001b[2m\u001b[36m(DefaultActor pid=1602)\u001b[0m selected images size:  34\n",
            "\u001b[2m\u001b[36m(DefaultActor pid=1602)\u001b[0m output size:  256\n",
            "\u001b[2m\u001b[36m(DefaultActor pid=1602)\u001b[0m selected images size:  38\n",
            "\u001b[2m\u001b[36m(DefaultActor pid=1602)\u001b[0m output size:  256\n",
            "\u001b[2m\u001b[36m(DefaultActor pid=1602)\u001b[0m selected images size:  54\n",
            "\u001b[2m\u001b[36m(DefaultActor pid=1602)\u001b[0m output size:  101\n",
            "\u001b[2m\u001b[36m(DefaultActor pid=1602)\u001b[0m selected images size:  24\n",
            "\u001b[2m\u001b[36m(DefaultActor pid=1602)\u001b[0m output size:  256\n",
            "\u001b[2m\u001b[36m(DefaultActor pid=1602)\u001b[0m selected images size:  64\n",
            "\u001b[2m\u001b[36m(DefaultActor pid=1602)\u001b[0m output size:  256\n",
            "\u001b[2m\u001b[36m(DefaultActor pid=1602)\u001b[0m selected images size:  69\n",
            "\u001b[2m\u001b[36m(DefaultActor pid=1602)\u001b[0m output size:  256\n",
            "\u001b[2m\u001b[36m(DefaultActor pid=1602)\u001b[0m selected images size:  60\n",
            "\u001b[2m\u001b[36m(DefaultActor pid=1602)\u001b[0m output size:  256\n",
            "\u001b[2m\u001b[36m(DefaultActor pid=1602)\u001b[0m selected images size:  90\n",
            "\u001b[2m\u001b[36m(DefaultActor pid=1602)\u001b[0m output size:  256\n",
            "\u001b[2m\u001b[36m(DefaultActor pid=1602)\u001b[0m selected images size:  88\n",
            "\u001b[2m\u001b[36m(DefaultActor pid=1602)\u001b[0m output size:  256\n",
            "\u001b[2m\u001b[36m(DefaultActor pid=1602)\u001b[0m selected images size:  83\n",
            "\u001b[2m\u001b[36m(DefaultActor pid=1602)\u001b[0m output size:  101\n",
            "\u001b[2m\u001b[36m(DefaultActor pid=1602)\u001b[0m selected images size:  37\n",
            "\u001b[2m\u001b[36m(DefaultActor pid=1602)\u001b[0m output size:  256\n",
            "\u001b[2m\u001b[36m(DefaultActor pid=1602)\u001b[0m selected images size:  83\n",
            "\u001b[2m\u001b[36m(DefaultActor pid=1602)\u001b[0m output size:  256\n",
            "\u001b[2m\u001b[36m(DefaultActor pid=1602)\u001b[0m selected images size:  91\n",
            "\u001b[2m\u001b[36m(DefaultActor pid=1602)\u001b[0m output size:  256\n",
            "\u001b[2m\u001b[36m(DefaultActor pid=1602)\u001b[0m selected images size:  97\n",
            "\u001b[2m\u001b[36m(DefaultActor pid=1602)\u001b[0m output size:  256\n",
            "\u001b[2m\u001b[36m(DefaultActor pid=1602)\u001b[0m selected images size:  88\n",
            "\u001b[2m\u001b[36m(DefaultActor pid=1602)\u001b[0m output size:  256\n",
            "\u001b[2m\u001b[36m(DefaultActor pid=1602)\u001b[0m selected images size:  84\n",
            "\u001b[2m\u001b[36m(DefaultActor pid=1602)\u001b[0m output size:  256\n",
            "\u001b[2m\u001b[36m(DefaultActor pid=1602)\u001b[0m selected images size:  87\n",
            "\u001b[2m\u001b[36m(DefaultActor pid=1602)\u001b[0m output size:  101\n",
            "\u001b[2m\u001b[36m(DefaultActor pid=1602)\u001b[0m selected images size:  30\n"
          ]
        },
        {
          "output_type": "stream",
          "name": "stderr",
          "text": [
            "DEBUG flwr 2024-01-20 14:50:39,604 | server.py:236 | fit_round 12 received 10 results and 0 failures\n",
            "DEBUG:flwr:fit_round 12 received 10 results and 0 failures\n"
          ]
        },
        {
          "output_type": "stream",
          "name": "stdout",
          "text": [
            "Saving round 12 aggregated_parameters...\n"
          ]
        },
        {
          "output_type": "stream",
          "name": "stderr",
          "text": [
            "INFO flwr 2024-01-20 14:50:56,708 | server.py:125 | fit progress: (12, 312.9883762598038, {'accuracy': 0.29069767441860467}, 1771.291205604)\n",
            "INFO:flwr:fit progress: (12, 312.9883762598038, {'accuracy': 0.29069767441860467}, 1771.291205604)\n",
            "DEBUG flwr 2024-01-20 14:50:56,711 | server.py:173 | evaluate_round 12: strategy sampled 10 clients (out of 33)\n",
            "DEBUG:flwr:evaluate_round 12: strategy sampled 10 clients (out of 33)\n"
          ]
        },
        {
          "output_type": "stream",
          "name": "stdout",
          "text": [
            "GLOBAL TEST\n"
          ]
        },
        {
          "output_type": "stream",
          "name": "stderr",
          "text": [
            "DEBUG flwr 2024-01-20 14:51:01,462 | server.py:187 | evaluate_round 12 received 10 results and 0 failures\n",
            "DEBUG:flwr:evaluate_round 12 received 10 results and 0 failures\n",
            "DEBUG flwr 2024-01-20 14:51:01,466 | server.py:222 | fit_round 13: strategy sampled 10 clients (out of 33)\n",
            "DEBUG:flwr:fit_round 13: strategy sampled 10 clients (out of 33)\n",
            "DEBUG flwr 2024-01-20 14:52:23,579 | server.py:236 | fit_round 13 received 10 results and 0 failures\n",
            "DEBUG:flwr:fit_round 13 received 10 results and 0 failures\n"
          ]
        },
        {
          "output_type": "stream",
          "name": "stdout",
          "text": [
            "Saving round 13 aggregated_parameters...\n"
          ]
        },
        {
          "output_type": "stream",
          "name": "stderr",
          "text": [
            "INFO flwr 2024-01-20 14:52:40,778 | server.py:125 | fit progress: (13, 312.88143384456635, {'accuracy': 0.1937984496124031}, 1875.361430691)\n",
            "INFO:flwr:fit progress: (13, 312.88143384456635, {'accuracy': 0.1937984496124031}, 1875.361430691)\n",
            "DEBUG flwr 2024-01-20 14:52:40,789 | server.py:173 | evaluate_round 13: strategy sampled 10 clients (out of 33)\n",
            "DEBUG:flwr:evaluate_round 13: strategy sampled 10 clients (out of 33)\n"
          ]
        },
        {
          "output_type": "stream",
          "name": "stdout",
          "text": [
            "GLOBAL TEST\n"
          ]
        },
        {
          "output_type": "stream",
          "name": "stderr",
          "text": [
            "DEBUG flwr 2024-01-20 14:52:45,166 | server.py:187 | evaluate_round 13 received 10 results and 0 failures\n",
            "DEBUG:flwr:evaluate_round 13 received 10 results and 0 failures\n",
            "DEBUG flwr 2024-01-20 14:52:45,169 | server.py:222 | fit_round 14: strategy sampled 10 clients (out of 33)\n",
            "DEBUG:flwr:fit_round 14: strategy sampled 10 clients (out of 33)\n"
          ]
        },
        {
          "output_type": "stream",
          "name": "stdout",
          "text": [
            "\u001b[2m\u001b[36m(DefaultActor pid=1602)\u001b[0m ATTACKER\n",
            "\u001b[2m\u001b[36m(DefaultActor pid=1602)\u001b[0m output size:  256\n",
            "\u001b[2m\u001b[36m(DefaultActor pid=1602)\u001b[0m selected images size:  1\n",
            "\u001b[2m\u001b[36m(DefaultActor pid=1602)\u001b[0m output size:  256\n",
            "\u001b[2m\u001b[36m(DefaultActor pid=1602)\u001b[0m selected images size:  1\n",
            "\u001b[2m\u001b[36m(DefaultActor pid=1602)\u001b[0m output size:  256\n",
            "\u001b[2m\u001b[36m(DefaultActor pid=1602)\u001b[0m selected images size:  1\n",
            "\u001b[2m\u001b[36m(DefaultActor pid=1602)\u001b[0m output size:  101\n",
            "\u001b[2m\u001b[36m(DefaultActor pid=1602)\u001b[0m selected images size:  1\n",
            "\u001b[2m\u001b[36m(DefaultActor pid=1602)\u001b[0m output size:  256\n",
            "\u001b[2m\u001b[36m(DefaultActor pid=1602)\u001b[0m selected images size:  4\n",
            "\u001b[2m\u001b[36m(DefaultActor pid=1602)\u001b[0m output size:  256\n",
            "\u001b[2m\u001b[36m(DefaultActor pid=1602)\u001b[0m selected images size:  10\n",
            "\u001b[2m\u001b[36m(DefaultActor pid=1602)\u001b[0m output size:  256\n",
            "\u001b[2m\u001b[36m(DefaultActor pid=1602)\u001b[0m selected images size:  29\n",
            "\u001b[2m\u001b[36m(DefaultActor pid=1602)\u001b[0m output size:  256\n",
            "\u001b[2m\u001b[36m(DefaultActor pid=1602)\u001b[0m selected images size:  21\n",
            "\u001b[2m\u001b[36m(DefaultActor pid=1602)\u001b[0m output size:  256\n",
            "\u001b[2m\u001b[36m(DefaultActor pid=1602)\u001b[0m selected images size:  22\n",
            "\u001b[2m\u001b[36m(DefaultActor pid=1602)\u001b[0m output size:  101\n",
            "\u001b[2m\u001b[36m(DefaultActor pid=1602)\u001b[0m selected images size:  8\n",
            "\u001b[2m\u001b[36m(DefaultActor pid=1602)\u001b[0m output size:  256\n",
            "\u001b[2m\u001b[36m(DefaultActor pid=1602)\u001b[0m selected images size:  29\n",
            "\u001b[2m\u001b[36m(DefaultActor pid=1602)\u001b[0m output size:  256\n",
            "\u001b[2m\u001b[36m(DefaultActor pid=1602)\u001b[0m selected images size:  25\n",
            "\u001b[2m\u001b[36m(DefaultActor pid=1602)\u001b[0m output size:  256\n",
            "\u001b[2m\u001b[36m(DefaultActor pid=1602)\u001b[0m selected images size:  20\n",
            "\u001b[2m\u001b[36m(DefaultActor pid=1602)\u001b[0m output size:  256\n",
            "\u001b[2m\u001b[36m(DefaultActor pid=1602)\u001b[0m selected images size:  10\n",
            "\u001b[2m\u001b[36m(DefaultActor pid=1602)\u001b[0m output size:  256\n",
            "\u001b[2m\u001b[36m(DefaultActor pid=1602)\u001b[0m selected images size:  10\n",
            "\u001b[2m\u001b[36m(DefaultActor pid=1602)\u001b[0m output size:  256\n",
            "\u001b[2m\u001b[36m(DefaultActor pid=1602)\u001b[0m selected images size:  13\n",
            "\u001b[2m\u001b[36m(DefaultActor pid=1602)\u001b[0m output size:  101\n",
            "\u001b[2m\u001b[36m(DefaultActor pid=1602)\u001b[0m selected images size:  1\n",
            "\u001b[2m\u001b[36m(DefaultActor pid=1602)\u001b[0m output size:  256\n",
            "\u001b[2m\u001b[36m(DefaultActor pid=1602)\u001b[0m selected images size:  3\n",
            "\u001b[2m\u001b[36m(DefaultActor pid=1602)\u001b[0m output size:  256\n",
            "\u001b[2m\u001b[36m(DefaultActor pid=1602)\u001b[0m selected images size:  2\n",
            "\u001b[2m\u001b[36m(DefaultActor pid=1602)\u001b[0m output size:  256\n",
            "\u001b[2m\u001b[36m(DefaultActor pid=1602)\u001b[0m selected images size:  1\n",
            "\u001b[2m\u001b[36m(DefaultActor pid=1602)\u001b[0m output size:  256\n",
            "\u001b[2m\u001b[36m(DefaultActor pid=1602)\u001b[0m selected images size:  2\n",
            "\u001b[2m\u001b[36m(DefaultActor pid=1602)\u001b[0m output size:  256\n",
            "\u001b[2m\u001b[36m(DefaultActor pid=1602)\u001b[0m selected images size:  4\n",
            "\u001b[2m\u001b[36m(DefaultActor pid=1602)\u001b[0m output size:  256\n",
            "\u001b[2m\u001b[36m(DefaultActor pid=1602)\u001b[0m selected images size:  1\n",
            "\u001b[2m\u001b[36m(DefaultActor pid=1602)\u001b[0m output size:  256\n",
            "\u001b[2m\u001b[36m(DefaultActor pid=1602)\u001b[0m selected images size:  1\n",
            "\u001b[2m\u001b[36m(DefaultActor pid=1602)\u001b[0m output size:  256\n",
            "\u001b[2m\u001b[36m(DefaultActor pid=1602)\u001b[0m selected images size:  2\n",
            "\u001b[2m\u001b[36m(DefaultActor pid=1602)\u001b[0m output size:  256\n",
            "\u001b[2m\u001b[36m(DefaultActor pid=1602)\u001b[0m selected images size:  1\n",
            "\u001b[2m\u001b[36m(DefaultActor pid=1602)\u001b[0m output size:  256\n",
            "\u001b[2m\u001b[36m(DefaultActor pid=1602)\u001b[0m selected images size:  2\n",
            "\u001b[2m\u001b[36m(DefaultActor pid=1602)\u001b[0m output size:  256\n",
            "\u001b[2m\u001b[36m(DefaultActor pid=1602)\u001b[0m selected images size:  3\n",
            "\u001b[2m\u001b[36m(DefaultActor pid=1602)\u001b[0m output size:  256\n",
            "\u001b[2m\u001b[36m(DefaultActor pid=1602)\u001b[0m selected images size:  2\n",
            "\u001b[2m\u001b[36m(DefaultActor pid=1602)\u001b[0m output size:  101\n",
            "\u001b[2m\u001b[36m(DefaultActor pid=1602)\u001b[0m selected images size:  6\n",
            "\u001b[2m\u001b[36m(DefaultActor pid=1602)\u001b[0m output size:  256\n",
            "\u001b[2m\u001b[36m(DefaultActor pid=1602)\u001b[0m selected images size:  9\n",
            "\u001b[2m\u001b[36m(DefaultActor pid=1602)\u001b[0m output size:  256\n",
            "\u001b[2m\u001b[36m(DefaultActor pid=1602)\u001b[0m selected images size:  10\n",
            "\u001b[2m\u001b[36m(DefaultActor pid=1602)\u001b[0m output size:  256\n",
            "\u001b[2m\u001b[36m(DefaultActor pid=1602)\u001b[0m selected images size:  12\n",
            "\u001b[2m\u001b[36m(DefaultActor pid=1602)\u001b[0m output size:  256\n",
            "\u001b[2m\u001b[36m(DefaultActor pid=1602)\u001b[0m selected images size:  11\n",
            "\u001b[2m\u001b[36m(DefaultActor pid=1602)\u001b[0m output size:  256\n",
            "\u001b[2m\u001b[36m(DefaultActor pid=1602)\u001b[0m selected images size:  2\n",
            "\u001b[2m\u001b[36m(DefaultActor pid=1602)\u001b[0m output size:  256\n",
            "\u001b[2m\u001b[36m(DefaultActor pid=1602)\u001b[0m selected images size:  7\n",
            "\u001b[2m\u001b[36m(DefaultActor pid=1602)\u001b[0m output size:  101\n",
            "\u001b[2m\u001b[36m(DefaultActor pid=1602)\u001b[0m selected images size:  4\n",
            "\u001b[2m\u001b[36m(DefaultActor pid=1602)\u001b[0m output size:  256\n",
            "\u001b[2m\u001b[36m(DefaultActor pid=1602)\u001b[0m selected images size:  10\n",
            "\u001b[2m\u001b[36m(DefaultActor pid=1602)\u001b[0m output size:  256\n",
            "\u001b[2m\u001b[36m(DefaultActor pid=1602)\u001b[0m selected images size:  18\n",
            "\u001b[2m\u001b[36m(DefaultActor pid=1602)\u001b[0m output size:  256\n",
            "\u001b[2m\u001b[36m(DefaultActor pid=1602)\u001b[0m selected images size:  29\n",
            "\u001b[2m\u001b[36m(DefaultActor pid=1602)\u001b[0m output size:  256\n",
            "\u001b[2m\u001b[36m(DefaultActor pid=1602)\u001b[0m selected images size:  36\n",
            "\u001b[2m\u001b[36m(DefaultActor pid=1602)\u001b[0m output size:  256\n",
            "\u001b[2m\u001b[36m(DefaultActor pid=1602)\u001b[0m selected images size:  48\n",
            "\u001b[2m\u001b[36m(DefaultActor pid=1602)\u001b[0m output size:  256\n",
            "\u001b[2m\u001b[36m(DefaultActor pid=1602)\u001b[0m selected images size:  74\n",
            "\u001b[2m\u001b[36m(DefaultActor pid=1602)\u001b[0m output size:  101\n",
            "\u001b[2m\u001b[36m(DefaultActor pid=1602)\u001b[0m selected images size:  28\n"
          ]
        },
        {
          "output_type": "stream",
          "name": "stderr",
          "text": [
            "DEBUG flwr 2024-01-20 14:54:55,276 | server.py:236 | fit_round 14 received 10 results and 0 failures\n",
            "DEBUG:flwr:fit_round 14 received 10 results and 0 failures\n"
          ]
        },
        {
          "output_type": "stream",
          "name": "stdout",
          "text": [
            "Saving round 14 aggregated_parameters...\n"
          ]
        },
        {
          "output_type": "stream",
          "name": "stderr",
          "text": [
            "INFO flwr 2024-01-20 14:55:11,764 | server.py:125 | fit progress: (14, 312.0764129161835, {'accuracy': 0.1937984496124031}, 2026.347643383)\n",
            "INFO:flwr:fit progress: (14, 312.0764129161835, {'accuracy': 0.1937984496124031}, 2026.347643383)\n",
            "DEBUG flwr 2024-01-20 14:55:11,768 | server.py:173 | evaluate_round 14: strategy sampled 10 clients (out of 33)\n",
            "DEBUG:flwr:evaluate_round 14: strategy sampled 10 clients (out of 33)\n"
          ]
        },
        {
          "output_type": "stream",
          "name": "stdout",
          "text": [
            "GLOBAL TEST\n"
          ]
        },
        {
          "output_type": "stream",
          "name": "stderr",
          "text": [
            "DEBUG flwr 2024-01-20 14:55:15,509 | server.py:187 | evaluate_round 14 received 10 results and 0 failures\n",
            "DEBUG:flwr:evaluate_round 14 received 10 results and 0 failures\n",
            "DEBUG flwr 2024-01-20 14:55:15,513 | server.py:222 | fit_round 15: strategy sampled 10 clients (out of 33)\n",
            "DEBUG:flwr:fit_round 15: strategy sampled 10 clients (out of 33)\n"
          ]
        },
        {
          "output_type": "stream",
          "name": "stdout",
          "text": [
            "\u001b[2m\u001b[36m(DefaultActor pid=1602)\u001b[0m ATTACKER\n",
            "\u001b[2m\u001b[36m(DefaultActor pid=1602)\u001b[0m output size:  256\n",
            "\u001b[2m\u001b[36m(DefaultActor pid=1602)\u001b[0m selected images size:  1\n",
            "\u001b[2m\u001b[36m(DefaultActor pid=1602)\u001b[0m output size:  256\n",
            "\u001b[2m\u001b[36m(DefaultActor pid=1602)\u001b[0m selected images size:  4\n",
            "\u001b[2m\u001b[36m(DefaultActor pid=1602)\u001b[0m output size:  256\n",
            "\u001b[2m\u001b[36m(DefaultActor pid=1602)\u001b[0m selected images size:  3\n",
            "\u001b[2m\u001b[36m(DefaultActor pid=1602)\u001b[0m output size:  256\n",
            "\u001b[2m\u001b[36m(DefaultActor pid=1602)\u001b[0m selected images size:  8\n",
            "\u001b[2m\u001b[36m(DefaultActor pid=1602)\u001b[0m output size:  256\n",
            "\u001b[2m\u001b[36m(DefaultActor pid=1602)\u001b[0m selected images size:  3\n",
            "\u001b[2m\u001b[36m(DefaultActor pid=1602)\u001b[0m output size:  256\n",
            "\u001b[2m\u001b[36m(DefaultActor pid=1602)\u001b[0m selected images size:  1\n",
            "\u001b[2m\u001b[36m(DefaultActor pid=1602)\u001b[0m output size:  101\n",
            "\u001b[2m\u001b[36m(DefaultActor pid=1602)\u001b[0m selected images size:  1\n",
            "\u001b[2m\u001b[36m(DefaultActor pid=1602)\u001b[0m output size:  256\n",
            "\u001b[2m\u001b[36m(DefaultActor pid=1602)\u001b[0m selected images size:  3\n",
            "\u001b[2m\u001b[36m(DefaultActor pid=1602)\u001b[0m output size:  256\n",
            "\u001b[2m\u001b[36m(DefaultActor pid=1602)\u001b[0m selected images size:  4\n",
            "\u001b[2m\u001b[36m(DefaultActor pid=1602)\u001b[0m output size:  256\n",
            "\u001b[2m\u001b[36m(DefaultActor pid=1602)\u001b[0m selected images size:  15\n",
            "\u001b[2m\u001b[36m(DefaultActor pid=1602)\u001b[0m output size:  256\n",
            "\u001b[2m\u001b[36m(DefaultActor pid=1602)\u001b[0m selected images size:  25\n",
            "\u001b[2m\u001b[36m(DefaultActor pid=1602)\u001b[0m output size:  256\n",
            "\u001b[2m\u001b[36m(DefaultActor pid=1602)\u001b[0m selected images size:  33\n",
            "\u001b[2m\u001b[36m(DefaultActor pid=1602)\u001b[0m output size:  256\n",
            "\u001b[2m\u001b[36m(DefaultActor pid=1602)\u001b[0m selected images size:  28\n",
            "\u001b[2m\u001b[36m(DefaultActor pid=1602)\u001b[0m output size:  101\n",
            "\u001b[2m\u001b[36m(DefaultActor pid=1602)\u001b[0m selected images size:  16\n",
            "\u001b[2m\u001b[36m(DefaultActor pid=1602)\u001b[0m output size:  256\n",
            "\u001b[2m\u001b[36m(DefaultActor pid=1602)\u001b[0m selected images size:  27\n",
            "\u001b[2m\u001b[36m(DefaultActor pid=1602)\u001b[0m output size:  256\n",
            "\u001b[2m\u001b[36m(DefaultActor pid=1602)\u001b[0m selected images size:  54\n",
            "\u001b[2m\u001b[36m(DefaultActor pid=1602)\u001b[0m output size:  256\n",
            "\u001b[2m\u001b[36m(DefaultActor pid=1602)\u001b[0m selected images size:  33\n",
            "\u001b[2m\u001b[36m(DefaultActor pid=1602)\u001b[0m output size:  256\n",
            "\u001b[2m\u001b[36m(DefaultActor pid=1602)\u001b[0m selected images size:  6\n",
            "\u001b[2m\u001b[36m(DefaultActor pid=1602)\u001b[0m output size:  256\n",
            "\u001b[2m\u001b[36m(DefaultActor pid=1602)\u001b[0m selected images size:  1\n",
            "\u001b[2m\u001b[36m(DefaultActor pid=1602)\u001b[0m output size:  101\n",
            "\u001b[2m\u001b[36m(DefaultActor pid=1602)\u001b[0m selected images size:  2\n",
            "\u001b[2m\u001b[36m(DefaultActor pid=1602)\u001b[0m output size:  256\n",
            "\u001b[2m\u001b[36m(DefaultActor pid=1602)\u001b[0m selected images size:  21\n",
            "\u001b[2m\u001b[36m(DefaultActor pid=1602)\u001b[0m output size:  256\n",
            "\u001b[2m\u001b[36m(DefaultActor pid=1602)\u001b[0m selected images size:  22\n",
            "\u001b[2m\u001b[36m(DefaultActor pid=1602)\u001b[0m output size:  256\n",
            "\u001b[2m\u001b[36m(DefaultActor pid=1602)\u001b[0m selected images size:  16\n",
            "\u001b[2m\u001b[36m(DefaultActor pid=1602)\u001b[0m output size:  256\n",
            "\u001b[2m\u001b[36m(DefaultActor pid=1602)\u001b[0m selected images size:  16\n",
            "\u001b[2m\u001b[36m(DefaultActor pid=1602)\u001b[0m output size:  256\n",
            "\u001b[2m\u001b[36m(DefaultActor pid=1602)\u001b[0m selected images size:  22\n",
            "\u001b[2m\u001b[36m(DefaultActor pid=1602)\u001b[0m output size:  256\n",
            "\u001b[2m\u001b[36m(DefaultActor pid=1602)\u001b[0m selected images size:  22\n",
            "\u001b[2m\u001b[36m(DefaultActor pid=1602)\u001b[0m output size:  101\n",
            "\u001b[2m\u001b[36m(DefaultActor pid=1602)\u001b[0m selected images size:  5\n",
            "\u001b[2m\u001b[36m(DefaultActor pid=1602)\u001b[0m output size:  256\n",
            "\u001b[2m\u001b[36m(DefaultActor pid=1602)\u001b[0m selected images size:  23\n",
            "\u001b[2m\u001b[36m(DefaultActor pid=1602)\u001b[0m output size:  256\n",
            "\u001b[2m\u001b[36m(DefaultActor pid=1602)\u001b[0m selected images size:  19\n",
            "\u001b[2m\u001b[36m(DefaultActor pid=1602)\u001b[0m output size:  256\n",
            "\u001b[2m\u001b[36m(DefaultActor pid=1602)\u001b[0m selected images size:  15\n",
            "\u001b[2m\u001b[36m(DefaultActor pid=1602)\u001b[0m output size:  256\n",
            "\u001b[2m\u001b[36m(DefaultActor pid=1602)\u001b[0m selected images size:  27\n",
            "\u001b[2m\u001b[36m(DefaultActor pid=1602)\u001b[0m output size:  256\n",
            "\u001b[2m\u001b[36m(DefaultActor pid=1602)\u001b[0m selected images size:  29\n",
            "\u001b[2m\u001b[36m(DefaultActor pid=1602)\u001b[0m output size:  256\n",
            "\u001b[2m\u001b[36m(DefaultActor pid=1602)\u001b[0m selected images size:  31\n",
            "\u001b[2m\u001b[36m(DefaultActor pid=1602)\u001b[0m output size:  101\n",
            "\u001b[2m\u001b[36m(DefaultActor pid=1602)\u001b[0m selected images size:  13\n",
            "\u001b[2m\u001b[36m(DefaultActor pid=1602)\u001b[0m output size:  256\n",
            "\u001b[2m\u001b[36m(DefaultActor pid=1602)\u001b[0m selected images size:  21\n",
            "\u001b[2m\u001b[36m(DefaultActor pid=1602)\u001b[0m output size:  256\n",
            "\u001b[2m\u001b[36m(DefaultActor pid=1602)\u001b[0m selected images size:  16\n",
            "\u001b[2m\u001b[36m(DefaultActor pid=1602)\u001b[0m output size:  256\n",
            "\u001b[2m\u001b[36m(DefaultActor pid=1602)\u001b[0m selected images size:  23\n",
            "\u001b[2m\u001b[36m(DefaultActor pid=1602)\u001b[0m output size:  256\n",
            "\u001b[2m\u001b[36m(DefaultActor pid=1602)\u001b[0m selected images size:  19\n",
            "\u001b[2m\u001b[36m(DefaultActor pid=1602)\u001b[0m output size:  256\n",
            "\u001b[2m\u001b[36m(DefaultActor pid=1602)\u001b[0m selected images size:  17\n",
            "\u001b[2m\u001b[36m(DefaultActor pid=1602)\u001b[0m output size:  256\n",
            "\u001b[2m\u001b[36m(DefaultActor pid=1602)\u001b[0m selected images size:  15\n",
            "\u001b[2m\u001b[36m(DefaultActor pid=1602)\u001b[0m output size:  101\n",
            "\u001b[2m\u001b[36m(DefaultActor pid=1602)\u001b[0m selected images size:  11\n",
            "\u001b[2m\u001b[36m(DefaultActor pid=1602)\u001b[0m output size:  256\n",
            "\u001b[2m\u001b[36m(DefaultActor pid=1602)\u001b[0m selected images size:  9\n",
            "\u001b[2m\u001b[36m(DefaultActor pid=1602)\u001b[0m output size:  256\n",
            "\u001b[2m\u001b[36m(DefaultActor pid=1602)\u001b[0m selected images size:  16\n",
            "\u001b[2m\u001b[36m(DefaultActor pid=1602)\u001b[0m output size:  256\n",
            "\u001b[2m\u001b[36m(DefaultActor pid=1602)\u001b[0m selected images size:  6\n",
            "\u001b[2m\u001b[36m(DefaultActor pid=1602)\u001b[0m output size:  256\n",
            "\u001b[2m\u001b[36m(DefaultActor pid=1602)\u001b[0m selected images size:  11\n",
            "\u001b[2m\u001b[36m(DefaultActor pid=1602)\u001b[0m output size:  256\n",
            "\u001b[2m\u001b[36m(DefaultActor pid=1602)\u001b[0m selected images size:  17\n",
            "\u001b[2m\u001b[36m(DefaultActor pid=1602)\u001b[0m output size:  256\n",
            "\u001b[2m\u001b[36m(DefaultActor pid=1602)\u001b[0m selected images size:  13\n",
            "\u001b[2m\u001b[36m(DefaultActor pid=1602)\u001b[0m output size:  101\n",
            "\u001b[2m\u001b[36m(DefaultActor pid=1602)\u001b[0m selected images size:  4\n",
            "\u001b[2m\u001b[36m(DefaultActor pid=1602)\u001b[0m output size:  256\n",
            "\u001b[2m\u001b[36m(DefaultActor pid=1602)\u001b[0m selected images size:  11\n",
            "\u001b[2m\u001b[36m(DefaultActor pid=1602)\u001b[0m output size:  256\n",
            "\u001b[2m\u001b[36m(DefaultActor pid=1602)\u001b[0m selected images size:  10\n",
            "\u001b[2m\u001b[36m(DefaultActor pid=1602)\u001b[0m output size:  256\n",
            "\u001b[2m\u001b[36m(DefaultActor pid=1602)\u001b[0m selected images size:  9\n",
            "\u001b[2m\u001b[36m(DefaultActor pid=1602)\u001b[0m output size:  256\n",
            "\u001b[2m\u001b[36m(DefaultActor pid=1602)\u001b[0m selected images size:  6\n",
            "\u001b[2m\u001b[36m(DefaultActor pid=1602)\u001b[0m output size:  256\n",
            "\u001b[2m\u001b[36m(DefaultActor pid=1602)\u001b[0m selected images size:  12\n",
            "\u001b[2m\u001b[36m(DefaultActor pid=1602)\u001b[0m output size:  256\n",
            "\u001b[2m\u001b[36m(DefaultActor pid=1602)\u001b[0m selected images size:  7\n",
            "\u001b[2m\u001b[36m(DefaultActor pid=1602)\u001b[0m output size:  101\n",
            "\u001b[2m\u001b[36m(DefaultActor pid=1602)\u001b[0m selected images size:  1\n",
            "\u001b[2m\u001b[36m(DefaultActor pid=1602)\u001b[0m output size:  256\n",
            "\u001b[2m\u001b[36m(DefaultActor pid=1602)\u001b[0m selected images size:  15\n",
            "\u001b[2m\u001b[36m(DefaultActor pid=1602)\u001b[0m output size:  256\n",
            "\u001b[2m\u001b[36m(DefaultActor pid=1602)\u001b[0m selected images size:  21\n",
            "\u001b[2m\u001b[36m(DefaultActor pid=1602)\u001b[0m output size:  256\n",
            "\u001b[2m\u001b[36m(DefaultActor pid=1602)\u001b[0m selected images size:  32\n",
            "\u001b[2m\u001b[36m(DefaultActor pid=1602)\u001b[0m output size:  256\n",
            "\u001b[2m\u001b[36m(DefaultActor pid=1602)\u001b[0m selected images size:  30\n",
            "\u001b[2m\u001b[36m(DefaultActor pid=1602)\u001b[0m output size:  256\n",
            "\u001b[2m\u001b[36m(DefaultActor pid=1602)\u001b[0m selected images size:  34\n",
            "\u001b[2m\u001b[36m(DefaultActor pid=1602)\u001b[0m output size:  256\n",
            "\u001b[2m\u001b[36m(DefaultActor pid=1602)\u001b[0m selected images size:  21\n",
            "\u001b[2m\u001b[36m(DefaultActor pid=1602)\u001b[0m output size:  101\n",
            "\u001b[2m\u001b[36m(DefaultActor pid=1602)\u001b[0m selected images size:  13\n",
            "\u001b[2m\u001b[36m(DefaultActor pid=1602)\u001b[0m output size:  256\n",
            "\u001b[2m\u001b[36m(DefaultActor pid=1602)\u001b[0m selected images size:  31\n",
            "\u001b[2m\u001b[36m(DefaultActor pid=1602)\u001b[0m output size:  256\n",
            "\u001b[2m\u001b[36m(DefaultActor pid=1602)\u001b[0m selected images size:  36\n",
            "\u001b[2m\u001b[36m(DefaultActor pid=1602)\u001b[0m output size:  256\n",
            "\u001b[2m\u001b[36m(DefaultActor pid=1602)\u001b[0m selected images size:  62\n",
            "\u001b[2m\u001b[36m(DefaultActor pid=1602)\u001b[0m output size:  256\n",
            "\u001b[2m\u001b[36m(DefaultActor pid=1602)\u001b[0m selected images size:  40\n",
            "\u001b[2m\u001b[36m(DefaultActor pid=1602)\u001b[0m output size:  256\n",
            "\u001b[2m\u001b[36m(DefaultActor pid=1602)\u001b[0m selected images size:  55\n",
            "\u001b[2m\u001b[36m(DefaultActor pid=1602)\u001b[0m output size:  256\n",
            "\u001b[2m\u001b[36m(DefaultActor pid=1602)\u001b[0m selected images size:  59\n",
            "\u001b[2m\u001b[36m(DefaultActor pid=1602)\u001b[0m output size:  101\n",
            "\u001b[2m\u001b[36m(DefaultActor pid=1602)\u001b[0m selected images size:  22\n",
            "\u001b[2m\u001b[36m(DefaultActor pid=1602)\u001b[0m output size:  256\n",
            "\u001b[2m\u001b[36m(DefaultActor pid=1602)\u001b[0m selected images size:  62\n",
            "\u001b[2m\u001b[36m(DefaultActor pid=1602)\u001b[0m output size:  256\n",
            "\u001b[2m\u001b[36m(DefaultActor pid=1602)\u001b[0m selected images size:  56\n",
            "\u001b[2m\u001b[36m(DefaultActor pid=1602)\u001b[0m output size:  256\n",
            "\u001b[2m\u001b[36m(DefaultActor pid=1602)\u001b[0m selected images size:  66\n",
            "\u001b[2m\u001b[36m(DefaultActor pid=1602)\u001b[0m output size:  256\n",
            "\u001b[2m\u001b[36m(DefaultActor pid=1602)\u001b[0m selected images size:  49\n",
            "\u001b[2m\u001b[36m(DefaultActor pid=1602)\u001b[0m output size:  256\n",
            "\u001b[2m\u001b[36m(DefaultActor pid=1602)\u001b[0m selected images size:  66\n",
            "\u001b[2m\u001b[36m(DefaultActor pid=1602)\u001b[0m output size:  256\n",
            "\u001b[2m\u001b[36m(DefaultActor pid=1602)\u001b[0m selected images size:  79\n",
            "\u001b[2m\u001b[36m(DefaultActor pid=1602)\u001b[0m output size:  101\n",
            "\u001b[2m\u001b[36m(DefaultActor pid=1602)\u001b[0m selected images size:  22\n"
          ]
        },
        {
          "output_type": "stream",
          "name": "stderr",
          "text": [
            "DEBUG flwr 2024-01-20 14:57:26,586 | server.py:236 | fit_round 15 received 10 results and 0 failures\n",
            "DEBUG:flwr:fit_round 15 received 10 results and 0 failures\n"
          ]
        },
        {
          "output_type": "stream",
          "name": "stdout",
          "text": [
            "Saving round 15 aggregated_parameters...\n"
          ]
        },
        {
          "output_type": "stream",
          "name": "stderr",
          "text": [
            "INFO flwr 2024-01-20 14:57:43,807 | server.py:125 | fit progress: (15, 299.63648891448975, {'accuracy': 0.1937984496124031}, 2178.3899148680002)\n",
            "INFO:flwr:fit progress: (15, 299.63648891448975, {'accuracy': 0.1937984496124031}, 2178.3899148680002)\n",
            "DEBUG flwr 2024-01-20 14:57:43,811 | server.py:173 | evaluate_round 15: strategy sampled 10 clients (out of 33)\n",
            "DEBUG:flwr:evaluate_round 15: strategy sampled 10 clients (out of 33)\n"
          ]
        },
        {
          "output_type": "stream",
          "name": "stdout",
          "text": [
            "GLOBAL TEST\n"
          ]
        },
        {
          "output_type": "stream",
          "name": "stderr",
          "text": [
            "DEBUG flwr 2024-01-20 14:57:47,553 | server.py:187 | evaluate_round 15 received 10 results and 0 failures\n",
            "DEBUG:flwr:evaluate_round 15 received 10 results and 0 failures\n",
            "DEBUG flwr 2024-01-20 14:57:47,557 | server.py:222 | fit_round 16: strategy sampled 10 clients (out of 33)\n",
            "DEBUG:flwr:fit_round 16: strategy sampled 10 clients (out of 33)\n",
            "DEBUG flwr 2024-01-20 14:59:09,744 | server.py:236 | fit_round 16 received 10 results and 0 failures\n",
            "DEBUG:flwr:fit_round 16 received 10 results and 0 failures\n"
          ]
        },
        {
          "output_type": "stream",
          "name": "stdout",
          "text": [
            "Saving round 16 aggregated_parameters...\n"
          ]
        },
        {
          "output_type": "stream",
          "name": "stderr",
          "text": [
            "INFO flwr 2024-01-20 14:59:26,087 | server.py:125 | fit progress: (16, 297.82585883140564, {'accuracy': 0.1937984496124031}, 2280.670377122)\n",
            "INFO:flwr:fit progress: (16, 297.82585883140564, {'accuracy': 0.1937984496124031}, 2280.670377122)\n",
            "DEBUG flwr 2024-01-20 14:59:26,091 | server.py:173 | evaluate_round 16: strategy sampled 10 clients (out of 33)\n",
            "DEBUG:flwr:evaluate_round 16: strategy sampled 10 clients (out of 33)\n"
          ]
        },
        {
          "output_type": "stream",
          "name": "stdout",
          "text": [
            "GLOBAL TEST\n"
          ]
        },
        {
          "output_type": "stream",
          "name": "stderr",
          "text": [
            "DEBUG flwr 2024-01-20 14:59:29,871 | server.py:187 | evaluate_round 16 received 10 results and 0 failures\n",
            "DEBUG:flwr:evaluate_round 16 received 10 results and 0 failures\n",
            "DEBUG flwr 2024-01-20 14:59:29,873 | server.py:222 | fit_round 17: strategy sampled 10 clients (out of 33)\n",
            "DEBUG:flwr:fit_round 17: strategy sampled 10 clients (out of 33)\n"
          ]
        },
        {
          "output_type": "stream",
          "name": "stdout",
          "text": [
            "\u001b[2m\u001b[36m(DefaultActor pid=1602)\u001b[0m ATTACKER\n",
            "\u001b[2m\u001b[36m(DefaultActor pid=1602)\u001b[0m output size:  256\n",
            "\u001b[2m\u001b[36m(DefaultActor pid=1602)\u001b[0m selected images size:  1\n",
            "\u001b[2m\u001b[36m(DefaultActor pid=1602)\u001b[0m output size:  256\n",
            "\u001b[2m\u001b[36m(DefaultActor pid=1602)\u001b[0m selected images size:  1\n",
            "\u001b[2m\u001b[36m(DefaultActor pid=1602)\u001b[0m output size:  256\n",
            "\u001b[2m\u001b[36m(DefaultActor pid=1602)\u001b[0m selected images size:  1\n",
            "\u001b[2m\u001b[36m(DefaultActor pid=1602)\u001b[0m output size:  256\n",
            "\u001b[2m\u001b[36m(DefaultActor pid=1602)\u001b[0m selected images size:  2\n",
            "\u001b[2m\u001b[36m(DefaultActor pid=1602)\u001b[0m output size:  256\n",
            "\u001b[2m\u001b[36m(DefaultActor pid=1602)\u001b[0m selected images size:  4\n",
            "\u001b[2m\u001b[36m(DefaultActor pid=1602)\u001b[0m output size:  256\n",
            "\u001b[2m\u001b[36m(DefaultActor pid=1602)\u001b[0m selected images size:  3\n",
            "\u001b[2m\u001b[36m(DefaultActor pid=1602)\u001b[0m output size:  256\n",
            "\u001b[2m\u001b[36m(DefaultActor pid=1602)\u001b[0m selected images size:  5\n",
            "\u001b[2m\u001b[36m(DefaultActor pid=1602)\u001b[0m output size:  256\n",
            "\u001b[2m\u001b[36m(DefaultActor pid=1602)\u001b[0m selected images size:  16\n",
            "\u001b[2m\u001b[36m(DefaultActor pid=1602)\u001b[0m output size:  101\n",
            "\u001b[2m\u001b[36m(DefaultActor pid=1602)\u001b[0m selected images size:  1\n",
            "\u001b[2m\u001b[36m(DefaultActor pid=1602)\u001b[0m output size:  256\n",
            "\u001b[2m\u001b[36m(DefaultActor pid=1602)\u001b[0m selected images size:  1\n",
            "\u001b[2m\u001b[36m(DefaultActor pid=1602)\u001b[0m output size:  256\n",
            "\u001b[2m\u001b[36m(DefaultActor pid=1602)\u001b[0m selected images size:  2\n",
            "\u001b[2m\u001b[36m(DefaultActor pid=1602)\u001b[0m output size:  256\n",
            "\u001b[2m\u001b[36m(DefaultActor pid=1602)\u001b[0m selected images size:  1\n",
            "\u001b[2m\u001b[36m(DefaultActor pid=1602)\u001b[0m output size:  256\n",
            "\u001b[2m\u001b[36m(DefaultActor pid=1602)\u001b[0m selected images size:  1\n",
            "\u001b[2m\u001b[36m(DefaultActor pid=1602)\u001b[0m output size:  256\n",
            "\u001b[2m\u001b[36m(DefaultActor pid=1602)\u001b[0m selected images size:  1\n",
            "\u001b[2m\u001b[36m(DefaultActor pid=1602)\u001b[0m output size:  256\n",
            "\u001b[2m\u001b[36m(DefaultActor pid=1602)\u001b[0m selected images size:  2\n",
            "\u001b[2m\u001b[36m(DefaultActor pid=1602)\u001b[0m output size:  101\n",
            "\u001b[2m\u001b[36m(DefaultActor pid=1602)\u001b[0m selected images size:  1\n",
            "\u001b[2m\u001b[36m(DefaultActor pid=1602)\u001b[0m output size:  256\n",
            "\u001b[2m\u001b[36m(DefaultActor pid=1602)\u001b[0m selected images size:  4\n",
            "\u001b[2m\u001b[36m(DefaultActor pid=1602)\u001b[0m output size:  256\n",
            "\u001b[2m\u001b[36m(DefaultActor pid=1602)\u001b[0m selected images size:  5\n",
            "\u001b[2m\u001b[36m(DefaultActor pid=1602)\u001b[0m output size:  256\n",
            "\u001b[2m\u001b[36m(DefaultActor pid=1602)\u001b[0m selected images size:  2\n",
            "\u001b[2m\u001b[36m(DefaultActor pid=1602)\u001b[0m output size:  256\n",
            "\u001b[2m\u001b[36m(DefaultActor pid=1602)\u001b[0m selected images size:  6\n",
            "\u001b[2m\u001b[36m(DefaultActor pid=1602)\u001b[0m output size:  256\n",
            "\u001b[2m\u001b[36m(DefaultActor pid=1602)\u001b[0m selected images size:  11\n",
            "\u001b[2m\u001b[36m(DefaultActor pid=1602)\u001b[0m output size:  101\n",
            "\u001b[2m\u001b[36m(DefaultActor pid=1602)\u001b[0m selected images size:  7\n",
            "\u001b[2m\u001b[36m(DefaultActor pid=1602)\u001b[0m output size:  256\n",
            "\u001b[2m\u001b[36m(DefaultActor pid=1602)\u001b[0m selected images size:  18\n",
            "\u001b[2m\u001b[36m(DefaultActor pid=1602)\u001b[0m output size:  256\n",
            "\u001b[2m\u001b[36m(DefaultActor pid=1602)\u001b[0m selected images size:  14\n",
            "\u001b[2m\u001b[36m(DefaultActor pid=1602)\u001b[0m output size:  256\n",
            "\u001b[2m\u001b[36m(DefaultActor pid=1602)\u001b[0m selected images size:  23\n",
            "\u001b[2m\u001b[36m(DefaultActor pid=1602)\u001b[0m output size:  256\n",
            "\u001b[2m\u001b[36m(DefaultActor pid=1602)\u001b[0m selected images size:  32\n",
            "\u001b[2m\u001b[36m(DefaultActor pid=1602)\u001b[0m output size:  256\n",
            "\u001b[2m\u001b[36m(DefaultActor pid=1602)\u001b[0m selected images size:  34\n",
            "\u001b[2m\u001b[36m(DefaultActor pid=1602)\u001b[0m output size:  256\n",
            "\u001b[2m\u001b[36m(DefaultActor pid=1602)\u001b[0m selected images size:  41\n",
            "\u001b[2m\u001b[36m(DefaultActor pid=1602)\u001b[0m output size:  101\n",
            "\u001b[2m\u001b[36m(DefaultActor pid=1602)\u001b[0m selected images size:  15\n",
            "\u001b[2m\u001b[36m(DefaultActor pid=1602)\u001b[0m output size:  256\n",
            "\u001b[2m\u001b[36m(DefaultActor pid=1602)\u001b[0m selected images size:  34\n",
            "\u001b[2m\u001b[36m(DefaultActor pid=1602)\u001b[0m output size:  256\n",
            "\u001b[2m\u001b[36m(DefaultActor pid=1602)\u001b[0m selected images size:  25\n",
            "\u001b[2m\u001b[36m(DefaultActor pid=1602)\u001b[0m output size:  256\n",
            "\u001b[2m\u001b[36m(DefaultActor pid=1602)\u001b[0m selected images size:  31\n",
            "\u001b[2m\u001b[36m(DefaultActor pid=1602)\u001b[0m output size:  256\n",
            "\u001b[2m\u001b[36m(DefaultActor pid=1602)\u001b[0m selected images size:  33\n",
            "\u001b[2m\u001b[36m(DefaultActor pid=1602)\u001b[0m output size:  256\n",
            "\u001b[2m\u001b[36m(DefaultActor pid=1602)\u001b[0m selected images size:  43\n",
            "\u001b[2m\u001b[36m(DefaultActor pid=1602)\u001b[0m output size:  256\n",
            "\u001b[2m\u001b[36m(DefaultActor pid=1602)\u001b[0m selected images size:  42\n",
            "\u001b[2m\u001b[36m(DefaultActor pid=1602)\u001b[0m output size:  101\n",
            "\u001b[2m\u001b[36m(DefaultActor pid=1602)\u001b[0m selected images size:  19\n",
            "\u001b[2m\u001b[36m(DefaultActor pid=1602)\u001b[0m output size:  256\n",
            "\u001b[2m\u001b[36m(DefaultActor pid=1602)\u001b[0m selected images size:  46\n",
            "\u001b[2m\u001b[36m(DefaultActor pid=1602)\u001b[0m output size:  256\n",
            "\u001b[2m\u001b[36m(DefaultActor pid=1602)\u001b[0m selected images size:  31\n",
            "\u001b[2m\u001b[36m(DefaultActor pid=1602)\u001b[0m output size:  256\n",
            "\u001b[2m\u001b[36m(DefaultActor pid=1602)\u001b[0m selected images size:  39\n",
            "\u001b[2m\u001b[36m(DefaultActor pid=1602)\u001b[0m output size:  256\n",
            "\u001b[2m\u001b[36m(DefaultActor pid=1602)\u001b[0m selected images size:  31\n",
            "\u001b[2m\u001b[36m(DefaultActor pid=1602)\u001b[0m output size:  256\n",
            "\u001b[2m\u001b[36m(DefaultActor pid=1602)\u001b[0m selected images size:  32\n",
            "\u001b[2m\u001b[36m(DefaultActor pid=1602)\u001b[0m output size:  256\n",
            "\u001b[2m\u001b[36m(DefaultActor pid=1602)\u001b[0m selected images size:  30\n",
            "\u001b[2m\u001b[36m(DefaultActor pid=1602)\u001b[0m output size:  101\n",
            "\u001b[2m\u001b[36m(DefaultActor pid=1602)\u001b[0m selected images size:  8\n",
            "\u001b[2m\u001b[36m(DefaultActor pid=1602)\u001b[0m output size:  256\n",
            "\u001b[2m\u001b[36m(DefaultActor pid=1602)\u001b[0m selected images size:  28\n",
            "\u001b[2m\u001b[36m(DefaultActor pid=1602)\u001b[0m output size:  256\n",
            "\u001b[2m\u001b[36m(DefaultActor pid=1602)\u001b[0m selected images size:  28\n",
            "\u001b[2m\u001b[36m(DefaultActor pid=1602)\u001b[0m output size:  256\n",
            "\u001b[2m\u001b[36m(DefaultActor pid=1602)\u001b[0m selected images size:  43\n",
            "\u001b[2m\u001b[36m(DefaultActor pid=1602)\u001b[0m output size:  256\n",
            "\u001b[2m\u001b[36m(DefaultActor pid=1602)\u001b[0m selected images size:  49\n",
            "\u001b[2m\u001b[36m(DefaultActor pid=1602)\u001b[0m output size:  256\n",
            "\u001b[2m\u001b[36m(DefaultActor pid=1602)\u001b[0m selected images size:  45\n",
            "\u001b[2m\u001b[36m(DefaultActor pid=1602)\u001b[0m output size:  256\n",
            "\u001b[2m\u001b[36m(DefaultActor pid=1602)\u001b[0m selected images size:  54\n",
            "\u001b[2m\u001b[36m(DefaultActor pid=1602)\u001b[0m output size:  101\n",
            "\u001b[2m\u001b[36m(DefaultActor pid=1602)\u001b[0m selected images size:  27\n",
            "\u001b[2m\u001b[36m(DefaultActor pid=1602)\u001b[0m output size:  256\n",
            "\u001b[2m\u001b[36m(DefaultActor pid=1602)\u001b[0m selected images size:  49\n",
            "\u001b[2m\u001b[36m(DefaultActor pid=1602)\u001b[0m output size:  256\n",
            "\u001b[2m\u001b[36m(DefaultActor pid=1602)\u001b[0m selected images size:  55\n",
            "\u001b[2m\u001b[36m(DefaultActor pid=1602)\u001b[0m output size:  256\n",
            "\u001b[2m\u001b[36m(DefaultActor pid=1602)\u001b[0m selected images size:  54\n",
            "\u001b[2m\u001b[36m(DefaultActor pid=1602)\u001b[0m output size:  256\n",
            "\u001b[2m\u001b[36m(DefaultActor pid=1602)\u001b[0m selected images size:  59\n",
            "\u001b[2m\u001b[36m(DefaultActor pid=1602)\u001b[0m output size:  256\n",
            "\u001b[2m\u001b[36m(DefaultActor pid=1602)\u001b[0m selected images size:  54\n",
            "\u001b[2m\u001b[36m(DefaultActor pid=1602)\u001b[0m output size:  256\n",
            "\u001b[2m\u001b[36m(DefaultActor pid=1602)\u001b[0m selected images size:  37\n",
            "\u001b[2m\u001b[36m(DefaultActor pid=1602)\u001b[0m output size:  101\n",
            "\u001b[2m\u001b[36m(DefaultActor pid=1602)\u001b[0m selected images size:  14\n",
            "\u001b[2m\u001b[36m(DefaultActor pid=1602)\u001b[0m output size:  256\n",
            "\u001b[2m\u001b[36m(DefaultActor pid=1602)\u001b[0m selected images size:  32\n",
            "\u001b[2m\u001b[36m(DefaultActor pid=1602)\u001b[0m output size:  256\n",
            "\u001b[2m\u001b[36m(DefaultActor pid=1602)\u001b[0m selected images size:  29\n",
            "\u001b[2m\u001b[36m(DefaultActor pid=1602)\u001b[0m output size:  256\n",
            "\u001b[2m\u001b[36m(DefaultActor pid=1602)\u001b[0m selected images size:  29\n",
            "\u001b[2m\u001b[36m(DefaultActor pid=1602)\u001b[0m output size:  256\n",
            "\u001b[2m\u001b[36m(DefaultActor pid=1602)\u001b[0m selected images size:  18\n",
            "\u001b[2m\u001b[36m(DefaultActor pid=1602)\u001b[0m output size:  256\n",
            "\u001b[2m\u001b[36m(DefaultActor pid=1602)\u001b[0m selected images size:  39\n",
            "\u001b[2m\u001b[36m(DefaultActor pid=1602)\u001b[0m output size:  256\n",
            "\u001b[2m\u001b[36m(DefaultActor pid=1602)\u001b[0m selected images size:  20\n",
            "\u001b[2m\u001b[36m(DefaultActor pid=1602)\u001b[0m output size:  101\n",
            "\u001b[2m\u001b[36m(DefaultActor pid=1602)\u001b[0m selected images size:  11\n",
            "\u001b[2m\u001b[36m(DefaultActor pid=1602)\u001b[0m output size:  256\n",
            "\u001b[2m\u001b[36m(DefaultActor pid=1602)\u001b[0m selected images size:  34\n",
            "\u001b[2m\u001b[36m(DefaultActor pid=1602)\u001b[0m output size:  256\n",
            "\u001b[2m\u001b[36m(DefaultActor pid=1602)\u001b[0m selected images size:  42\n",
            "\u001b[2m\u001b[36m(DefaultActor pid=1602)\u001b[0m output size:  256\n",
            "\u001b[2m\u001b[36m(DefaultActor pid=1602)\u001b[0m selected images size:  47\n",
            "\u001b[2m\u001b[36m(DefaultActor pid=1602)\u001b[0m output size:  256\n",
            "\u001b[2m\u001b[36m(DefaultActor pid=1602)\u001b[0m selected images size:  51\n",
            "\u001b[2m\u001b[36m(DefaultActor pid=1602)\u001b[0m output size:  256\n",
            "\u001b[2m\u001b[36m(DefaultActor pid=1602)\u001b[0m selected images size:  60\n",
            "\u001b[2m\u001b[36m(DefaultActor pid=1602)\u001b[0m output size:  256\n",
            "\u001b[2m\u001b[36m(DefaultActor pid=1602)\u001b[0m selected images size:  50\n",
            "\u001b[2m\u001b[36m(DefaultActor pid=1602)\u001b[0m output size:  101\n",
            "\u001b[2m\u001b[36m(DefaultActor pid=1602)\u001b[0m selected images size:  24\n"
          ]
        },
        {
          "output_type": "stream",
          "name": "stderr",
          "text": [
            "DEBUG flwr 2024-01-20 15:01:41,373 | server.py:236 | fit_round 17 received 10 results and 0 failures\n",
            "DEBUG:flwr:fit_round 17 received 10 results and 0 failures\n"
          ]
        },
        {
          "output_type": "stream",
          "name": "stdout",
          "text": [
            "Saving round 17 aggregated_parameters...\n"
          ]
        },
        {
          "output_type": "stream",
          "name": "stderr",
          "text": [
            "INFO flwr 2024-01-20 15:01:58,273 | server.py:125 | fit progress: (17, 297.4337160587311, {'accuracy': 0.1937984496124031}, 2432.856552176)\n",
            "INFO:flwr:fit progress: (17, 297.4337160587311, {'accuracy': 0.1937984496124031}, 2432.856552176)\n",
            "DEBUG flwr 2024-01-20 15:01:58,281 | server.py:173 | evaluate_round 17: strategy sampled 10 clients (out of 33)\n",
            "DEBUG:flwr:evaluate_round 17: strategy sampled 10 clients (out of 33)\n"
          ]
        },
        {
          "output_type": "stream",
          "name": "stdout",
          "text": [
            "GLOBAL TEST\n"
          ]
        },
        {
          "output_type": "stream",
          "name": "stderr",
          "text": [
            "DEBUG flwr 2024-01-20 15:02:03,058 | server.py:187 | evaluate_round 17 received 10 results and 0 failures\n",
            "DEBUG:flwr:evaluate_round 17 received 10 results and 0 failures\n",
            "DEBUG flwr 2024-01-20 15:02:03,061 | server.py:222 | fit_round 18: strategy sampled 10 clients (out of 33)\n",
            "DEBUG:flwr:fit_round 18: strategy sampled 10 clients (out of 33)\n"
          ]
        },
        {
          "output_type": "stream",
          "name": "stdout",
          "text": [
            "\u001b[2m\u001b[36m(DefaultActor pid=1602)\u001b[0m ATTACKER\n",
            "\u001b[2m\u001b[36m(DefaultActor pid=1602)\u001b[0m output size:  256\n",
            "\u001b[2m\u001b[36m(DefaultActor pid=1602)\u001b[0m selected images size:  1\n",
            "\u001b[2m\u001b[36m(DefaultActor pid=1602)\u001b[0m output size:  101\n",
            "\u001b[2m\u001b[36m(DefaultActor pid=1602)\u001b[0m selected images size:  2\n",
            "\u001b[2m\u001b[36m(DefaultActor pid=1602)\u001b[0m output size:  256\n",
            "\u001b[2m\u001b[36m(DefaultActor pid=1602)\u001b[0m selected images size:  3\n",
            "\u001b[2m\u001b[36m(DefaultActor pid=1602)\u001b[0m output size:  256\n",
            "\u001b[2m\u001b[36m(DefaultActor pid=1602)\u001b[0m selected images size:  2\n",
            "\u001b[2m\u001b[36m(DefaultActor pid=1602)\u001b[0m output size:  256\n",
            "\u001b[2m\u001b[36m(DefaultActor pid=1602)\u001b[0m selected images size:  1\n",
            "\u001b[2m\u001b[36m(DefaultActor pid=1602)\u001b[0m output size:  256\n",
            "\u001b[2m\u001b[36m(DefaultActor pid=1602)\u001b[0m selected images size:  2\n",
            "\u001b[2m\u001b[36m(DefaultActor pid=1602)\u001b[0m output size:  256\n",
            "\u001b[2m\u001b[36m(DefaultActor pid=1602)\u001b[0m selected images size:  1\n",
            "\u001b[2m\u001b[36m(DefaultActor pid=1602)\u001b[0m output size:  256\n",
            "\u001b[2m\u001b[36m(DefaultActor pid=1602)\u001b[0m selected images size:  1\n",
            "\u001b[2m\u001b[36m(DefaultActor pid=1602)\u001b[0m output size:  256\n",
            "\u001b[2m\u001b[36m(DefaultActor pid=1602)\u001b[0m selected images size:  3\n",
            "\u001b[2m\u001b[36m(DefaultActor pid=1602)\u001b[0m output size:  256\n",
            "\u001b[2m\u001b[36m(DefaultActor pid=1602)\u001b[0m selected images size:  2\n",
            "\u001b[2m\u001b[36m(DefaultActor pid=1602)\u001b[0m output size:  256\n",
            "\u001b[2m\u001b[36m(DefaultActor pid=1602)\u001b[0m selected images size:  2\n",
            "\u001b[2m\u001b[36m(DefaultActor pid=1602)\u001b[0m output size:  256\n",
            "\u001b[2m\u001b[36m(DefaultActor pid=1602)\u001b[0m selected images size:  1\n",
            "\u001b[2m\u001b[36m(DefaultActor pid=1602)\u001b[0m output size:  256\n",
            "\u001b[2m\u001b[36m(DefaultActor pid=1602)\u001b[0m selected images size:  1\n",
            "\u001b[2m\u001b[36m(DefaultActor pid=1602)\u001b[0m output size:  101\n",
            "\u001b[2m\u001b[36m(DefaultActor pid=1602)\u001b[0m selected images size:  1\n",
            "\u001b[2m\u001b[36m(DefaultActor pid=1602)\u001b[0m output size:  256\n",
            "\u001b[2m\u001b[36m(DefaultActor pid=1602)\u001b[0m selected images size:  1\n",
            "\u001b[2m\u001b[36m(DefaultActor pid=1602)\u001b[0m output size:  256\n",
            "\u001b[2m\u001b[36m(DefaultActor pid=1602)\u001b[0m selected images size:  2\n"
          ]
        },
        {
          "output_type": "stream",
          "name": "stderr",
          "text": [
            "DEBUG flwr 2024-01-20 15:04:13,568 | server.py:236 | fit_round 18 received 10 results and 0 failures\n",
            "DEBUG:flwr:fit_round 18 received 10 results and 0 failures\n"
          ]
        },
        {
          "output_type": "stream",
          "name": "stdout",
          "text": [
            "Saving round 18 aggregated_parameters...\n"
          ]
        },
        {
          "output_type": "stream",
          "name": "stderr",
          "text": [
            "INFO flwr 2024-01-20 15:04:29,950 | server.py:125 | fit progress: (18, 297.1686455011368, {'accuracy': 0.3875968992248062}, 2584.53382408)\n",
            "INFO:flwr:fit progress: (18, 297.1686455011368, {'accuracy': 0.3875968992248062}, 2584.53382408)\n",
            "DEBUG flwr 2024-01-20 15:04:29,954 | server.py:173 | evaluate_round 18: strategy sampled 10 clients (out of 33)\n",
            "DEBUG:flwr:evaluate_round 18: strategy sampled 10 clients (out of 33)\n"
          ]
        },
        {
          "output_type": "stream",
          "name": "stdout",
          "text": [
            "GLOBAL TEST\n"
          ]
        },
        {
          "output_type": "stream",
          "name": "stderr",
          "text": [
            "DEBUG flwr 2024-01-20 15:04:33,643 | server.py:187 | evaluate_round 18 received 10 results and 0 failures\n",
            "DEBUG:flwr:evaluate_round 18 received 10 results and 0 failures\n",
            "DEBUG flwr 2024-01-20 15:04:33,648 | server.py:222 | fit_round 19: strategy sampled 10 clients (out of 33)\n",
            "DEBUG:flwr:fit_round 19: strategy sampled 10 clients (out of 33)\n"
          ]
        },
        {
          "output_type": "stream",
          "name": "stdout",
          "text": [
            "\u001b[2m\u001b[36m(DefaultActor pid=1602)\u001b[0m ATTACKER\n",
            "\u001b[2m\u001b[36m(DefaultActor pid=1602)\u001b[0m output size:  256\n",
            "\u001b[2m\u001b[36m(DefaultActor pid=1602)\u001b[0m selected images size:  1\n",
            "\u001b[2m\u001b[36m(DefaultActor pid=1602)\u001b[0m output size:  256\n",
            "\u001b[2m\u001b[36m(DefaultActor pid=1602)\u001b[0m selected images size:  1\n",
            "\u001b[2m\u001b[36m(DefaultActor pid=1602)\u001b[0m output size:  256\n",
            "\u001b[2m\u001b[36m(DefaultActor pid=1602)\u001b[0m selected images size:  1\n",
            "\u001b[2m\u001b[36m(DefaultActor pid=1602)\u001b[0m output size:  256\n",
            "\u001b[2m\u001b[36m(DefaultActor pid=1602)\u001b[0m selected images size:  1\n",
            "\u001b[2m\u001b[36m(DefaultActor pid=1602)\u001b[0m output size:  256\n",
            "\u001b[2m\u001b[36m(DefaultActor pid=1602)\u001b[0m selected images size:  2\n",
            "\u001b[2m\u001b[36m(DefaultActor pid=1602)\u001b[0m output size:  256\n",
            "\u001b[2m\u001b[36m(DefaultActor pid=1602)\u001b[0m selected images size:  3\n",
            "\u001b[2m\u001b[36m(DefaultActor pid=1602)\u001b[0m output size:  256\n",
            "\u001b[2m\u001b[36m(DefaultActor pid=1602)\u001b[0m selected images size:  1\n",
            "\u001b[2m\u001b[36m(DefaultActor pid=1602)\u001b[0m ATTACKER\n",
            "\u001b[2m\u001b[36m(DefaultActor pid=1602)\u001b[0m output size:  256\n",
            "\u001b[2m\u001b[36m(DefaultActor pid=1602)\u001b[0m selected images size:  1\n",
            "\u001b[2m\u001b[36m(DefaultActor pid=1602)\u001b[0m output size:  256\n",
            "\u001b[2m\u001b[36m(DefaultActor pid=1602)\u001b[0m selected images size:  1\n",
            "\u001b[2m\u001b[36m(DefaultActor pid=1602)\u001b[0m output size:  256\n",
            "\u001b[2m\u001b[36m(DefaultActor pid=1602)\u001b[0m selected images size:  1\n",
            "\u001b[2m\u001b[36m(DefaultActor pid=1602)\u001b[0m output size:  256\n",
            "\u001b[2m\u001b[36m(DefaultActor pid=1602)\u001b[0m selected images size:  4\n",
            "\u001b[2m\u001b[36m(DefaultActor pid=1602)\u001b[0m output size:  256\n",
            "\u001b[2m\u001b[36m(DefaultActor pid=1602)\u001b[0m selected images size:  1\n",
            "\u001b[2m\u001b[36m(DefaultActor pid=1602)\u001b[0m output size:  256\n",
            "\u001b[2m\u001b[36m(DefaultActor pid=1602)\u001b[0m selected images size:  1\n",
            "\u001b[2m\u001b[36m(DefaultActor pid=1602)\u001b[0m output size:  256\n",
            "\u001b[2m\u001b[36m(DefaultActor pid=1602)\u001b[0m selected images size:  2\n",
            "\u001b[2m\u001b[36m(DefaultActor pid=1602)\u001b[0m output size:  256\n",
            "\u001b[2m\u001b[36m(DefaultActor pid=1602)\u001b[0m selected images size:  3\n",
            "\u001b[2m\u001b[36m(DefaultActor pid=1602)\u001b[0m output size:  101\n",
            "\u001b[2m\u001b[36m(DefaultActor pid=1602)\u001b[0m selected images size:  1\n",
            "\u001b[2m\u001b[36m(DefaultActor pid=1602)\u001b[0m output size:  256\n",
            "\u001b[2m\u001b[36m(DefaultActor pid=1602)\u001b[0m selected images size:  1\n",
            "\u001b[2m\u001b[36m(DefaultActor pid=1602)\u001b[0m output size:  256\n",
            "\u001b[2m\u001b[36m(DefaultActor pid=1602)\u001b[0m selected images size:  2\n",
            "\u001b[2m\u001b[36m(DefaultActor pid=1602)\u001b[0m output size:  256\n",
            "\u001b[2m\u001b[36m(DefaultActor pid=1602)\u001b[0m selected images size:  1\n",
            "\u001b[2m\u001b[36m(DefaultActor pid=1602)\u001b[0m output size:  256\n",
            "\u001b[2m\u001b[36m(DefaultActor pid=1602)\u001b[0m selected images size:  2\n",
            "\u001b[2m\u001b[36m(DefaultActor pid=1602)\u001b[0m output size:  256\n",
            "\u001b[2m\u001b[36m(DefaultActor pid=1602)\u001b[0m selected images size:  1\n",
            "\u001b[2m\u001b[36m(DefaultActor pid=1602)\u001b[0m output size:  256\n",
            "\u001b[2m\u001b[36m(DefaultActor pid=1602)\u001b[0m selected images size:  1\n",
            "\u001b[2m\u001b[36m(DefaultActor pid=1602)\u001b[0m output size:  101\n",
            "\u001b[2m\u001b[36m(DefaultActor pid=1602)\u001b[0m selected images size:  1\n",
            "\u001b[2m\u001b[36m(DefaultActor pid=1602)\u001b[0m output size:  256\n",
            "\u001b[2m\u001b[36m(DefaultActor pid=1602)\u001b[0m selected images size:  1\n",
            "\u001b[2m\u001b[36m(DefaultActor pid=1602)\u001b[0m output size:  256\n",
            "\u001b[2m\u001b[36m(DefaultActor pid=1602)\u001b[0m selected images size:  4\n",
            "\u001b[2m\u001b[36m(DefaultActor pid=1602)\u001b[0m output size:  256\n",
            "\u001b[2m\u001b[36m(DefaultActor pid=1602)\u001b[0m selected images size:  2\n",
            "\u001b[2m\u001b[36m(DefaultActor pid=1602)\u001b[0m output size:  256\n",
            "\u001b[2m\u001b[36m(DefaultActor pid=1602)\u001b[0m selected images size:  1\n",
            "\u001b[2m\u001b[36m(DefaultActor pid=1602)\u001b[0m output size:  256\n",
            "\u001b[2m\u001b[36m(DefaultActor pid=1602)\u001b[0m selected images size:  2\n",
            "\u001b[2m\u001b[36m(DefaultActor pid=1602)\u001b[0m output size:  101\n",
            "\u001b[2m\u001b[36m(DefaultActor pid=1602)\u001b[0m selected images size:  3\n",
            "\u001b[2m\u001b[36m(DefaultActor pid=1602)\u001b[0m output size:  256\n",
            "\u001b[2m\u001b[36m(DefaultActor pid=1602)\u001b[0m selected images size:  1\n",
            "\u001b[2m\u001b[36m(DefaultActor pid=1602)\u001b[0m output size:  256\n",
            "\u001b[2m\u001b[36m(DefaultActor pid=1602)\u001b[0m selected images size:  2\n",
            "\u001b[2m\u001b[36m(DefaultActor pid=1602)\u001b[0m output size:  256\n",
            "\u001b[2m\u001b[36m(DefaultActor pid=1602)\u001b[0m selected images size:  3\n",
            "\u001b[2m\u001b[36m(DefaultActor pid=1602)\u001b[0m output size:  256\n",
            "\u001b[2m\u001b[36m(DefaultActor pid=1602)\u001b[0m selected images size:  4\n",
            "\u001b[2m\u001b[36m(DefaultActor pid=1602)\u001b[0m output size:  256\n",
            "\u001b[2m\u001b[36m(DefaultActor pid=1602)\u001b[0m selected images size:  5\n",
            "\u001b[2m\u001b[36m(DefaultActor pid=1602)\u001b[0m output size:  101\n",
            "\u001b[2m\u001b[36m(DefaultActor pid=1602)\u001b[0m selected images size:  3\n",
            "\u001b[2m\u001b[36m(DefaultActor pid=1602)\u001b[0m output size:  256\n",
            "\u001b[2m\u001b[36m(DefaultActor pid=1602)\u001b[0m selected images size:  10\n",
            "\u001b[2m\u001b[36m(DefaultActor pid=1602)\u001b[0m output size:  256\n",
            "\u001b[2m\u001b[36m(DefaultActor pid=1602)\u001b[0m selected images size:  6\n",
            "\u001b[2m\u001b[36m(DefaultActor pid=1602)\u001b[0m output size:  256\n",
            "\u001b[2m\u001b[36m(DefaultActor pid=1602)\u001b[0m selected images size:  8\n",
            "\u001b[2m\u001b[36m(DefaultActor pid=1602)\u001b[0m output size:  256\n",
            "\u001b[2m\u001b[36m(DefaultActor pid=1602)\u001b[0m selected images size:  6\n",
            "\u001b[2m\u001b[36m(DefaultActor pid=1602)\u001b[0m output size:  256\n",
            "\u001b[2m\u001b[36m(DefaultActor pid=1602)\u001b[0m selected images size:  6\n",
            "\u001b[2m\u001b[36m(DefaultActor pid=1602)\u001b[0m output size:  256\n",
            "\u001b[2m\u001b[36m(DefaultActor pid=1602)\u001b[0m selected images size:  19\n",
            "\u001b[2m\u001b[36m(DefaultActor pid=1602)\u001b[0m output size:  101\n",
            "\u001b[2m\u001b[36m(DefaultActor pid=1602)\u001b[0m selected images size:  7\n",
            "\u001b[2m\u001b[36m(DefaultActor pid=1602)\u001b[0m output size:  256\n",
            "\u001b[2m\u001b[36m(DefaultActor pid=1602)\u001b[0m selected images size:  33\n",
            "\u001b[2m\u001b[36m(DefaultActor pid=1602)\u001b[0m output size:  256\n",
            "\u001b[2m\u001b[36m(DefaultActor pid=1602)\u001b[0m selected images size:  39\n",
            "\u001b[2m\u001b[36m(DefaultActor pid=1602)\u001b[0m output size:  256\n",
            "\u001b[2m\u001b[36m(DefaultActor pid=1602)\u001b[0m selected images size:  37\n",
            "\u001b[2m\u001b[36m(DefaultActor pid=1602)\u001b[0m output size:  256\n",
            "\u001b[2m\u001b[36m(DefaultActor pid=1602)\u001b[0m selected images size:  38\n",
            "\u001b[2m\u001b[36m(DefaultActor pid=1602)\u001b[0m output size:  256\n",
            "\u001b[2m\u001b[36m(DefaultActor pid=1602)\u001b[0m selected images size:  37\n",
            "\u001b[2m\u001b[36m(DefaultActor pid=1602)\u001b[0m output size:  256\n",
            "\u001b[2m\u001b[36m(DefaultActor pid=1602)\u001b[0m selected images size:  49\n",
            "\u001b[2m\u001b[36m(DefaultActor pid=1602)\u001b[0m output size:  101\n",
            "\u001b[2m\u001b[36m(DefaultActor pid=1602)\u001b[0m selected images size:  14\n",
            "\u001b[2m\u001b[36m(DefaultActor pid=1602)\u001b[0m output size:  256\n",
            "\u001b[2m\u001b[36m(DefaultActor pid=1602)\u001b[0m selected images size:  46\n",
            "\u001b[2m\u001b[36m(DefaultActor pid=1602)\u001b[0m output size:  256\n",
            "\u001b[2m\u001b[36m(DefaultActor pid=1602)\u001b[0m selected images size:  33\n",
            "\u001b[2m\u001b[36m(DefaultActor pid=1602)\u001b[0m output size:  256\n",
            "\u001b[2m\u001b[36m(DefaultActor pid=1602)\u001b[0m selected images size:  18\n",
            "\u001b[2m\u001b[36m(DefaultActor pid=1602)\u001b[0m output size:  256\n",
            "\u001b[2m\u001b[36m(DefaultActor pid=1602)\u001b[0m selected images size:  6\n",
            "\u001b[2m\u001b[36m(DefaultActor pid=1602)\u001b[0m output size:  256\n",
            "\u001b[2m\u001b[36m(DefaultActor pid=1602)\u001b[0m selected images size:  6\n",
            "\u001b[2m\u001b[36m(DefaultActor pid=1602)\u001b[0m output size:  256\n",
            "\u001b[2m\u001b[36m(DefaultActor pid=1602)\u001b[0m selected images size:  1\n",
            "\u001b[2m\u001b[36m(DefaultActor pid=1602)\u001b[0m output size:  256\n",
            "\u001b[2m\u001b[36m(DefaultActor pid=1602)\u001b[0m selected images size:  1\n",
            "\u001b[2m\u001b[36m(DefaultActor pid=1602)\u001b[0m output size:  256\n",
            "\u001b[2m\u001b[36m(DefaultActor pid=1602)\u001b[0m selected images size:  2\n",
            "\u001b[2m\u001b[36m(DefaultActor pid=1602)\u001b[0m output size:  256\n",
            "\u001b[2m\u001b[36m(DefaultActor pid=1602)\u001b[0m selected images size:  3\n",
            "\u001b[2m\u001b[36m(DefaultActor pid=1602)\u001b[0m output size:  256\n",
            "\u001b[2m\u001b[36m(DefaultActor pid=1602)\u001b[0m selected images size:  6\n",
            "\u001b[2m\u001b[36m(DefaultActor pid=1602)\u001b[0m output size:  256\n",
            "\u001b[2m\u001b[36m(DefaultActor pid=1602)\u001b[0m selected images size:  12\n",
            "\u001b[2m\u001b[36m(DefaultActor pid=1602)\u001b[0m output size:  101\n",
            "\u001b[2m\u001b[36m(DefaultActor pid=1602)\u001b[0m selected images size:  7\n",
            "\u001b[2m\u001b[36m(DefaultActor pid=1602)\u001b[0m output size:  256\n",
            "\u001b[2m\u001b[36m(DefaultActor pid=1602)\u001b[0m selected images size:  18\n",
            "\u001b[2m\u001b[36m(DefaultActor pid=1602)\u001b[0m output size:  256\n",
            "\u001b[2m\u001b[36m(DefaultActor pid=1602)\u001b[0m selected images size:  13\n",
            "\u001b[2m\u001b[36m(DefaultActor pid=1602)\u001b[0m output size:  256\n",
            "\u001b[2m\u001b[36m(DefaultActor pid=1602)\u001b[0m selected images size:  16\n",
            "\u001b[2m\u001b[36m(DefaultActor pid=1602)\u001b[0m output size:  256\n",
            "\u001b[2m\u001b[36m(DefaultActor pid=1602)\u001b[0m selected images size:  19\n",
            "\u001b[2m\u001b[36m(DefaultActor pid=1602)\u001b[0m output size:  256\n",
            "\u001b[2m\u001b[36m(DefaultActor pid=1602)\u001b[0m selected images size:  20\n",
            "\u001b[2m\u001b[36m(DefaultActor pid=1602)\u001b[0m output size:  256\n",
            "\u001b[2m\u001b[36m(DefaultActor pid=1602)\u001b[0m selected images size:  9\n",
            "\u001b[2m\u001b[36m(DefaultActor pid=1602)\u001b[0m output size:  101\n",
            "\u001b[2m\u001b[36m(DefaultActor pid=1602)\u001b[0m selected images size:  5\n",
            "\u001b[2m\u001b[36m(DefaultActor pid=1602)\u001b[0m output size:  256\n",
            "\u001b[2m\u001b[36m(DefaultActor pid=1602)\u001b[0m selected images size:  21\n",
            "\u001b[2m\u001b[36m(DefaultActor pid=1602)\u001b[0m output size:  256\n",
            "\u001b[2m\u001b[36m(DefaultActor pid=1602)\u001b[0m selected images size:  16\n",
            "\u001b[2m\u001b[36m(DefaultActor pid=1602)\u001b[0m output size:  256\n",
            "\u001b[2m\u001b[36m(DefaultActor pid=1602)\u001b[0m selected images size:  22\n",
            "\u001b[2m\u001b[36m(DefaultActor pid=1602)\u001b[0m output size:  256\n",
            "\u001b[2m\u001b[36m(DefaultActor pid=1602)\u001b[0m selected images size:  41\n",
            "\u001b[2m\u001b[36m(DefaultActor pid=1602)\u001b[0m output size:  256\n",
            "\u001b[2m\u001b[36m(DefaultActor pid=1602)\u001b[0m selected images size:  41\n",
            "\u001b[2m\u001b[36m(DefaultActor pid=1602)\u001b[0m output size:  256\n",
            "\u001b[2m\u001b[36m(DefaultActor pid=1602)\u001b[0m selected images size:  42\n",
            "\u001b[2m\u001b[36m(DefaultActor pid=1602)\u001b[0m output size:  101\n",
            "\u001b[2m\u001b[36m(DefaultActor pid=1602)\u001b[0m selected images size:  18\n",
            "\u001b[2m\u001b[36m(DefaultActor pid=1602)\u001b[0m output size:  256\n",
            "\u001b[2m\u001b[36m(DefaultActor pid=1602)\u001b[0m selected images size:  53\n",
            "\u001b[2m\u001b[36m(DefaultActor pid=1602)\u001b[0m output size:  256\n",
            "\u001b[2m\u001b[36m(DefaultActor pid=1602)\u001b[0m selected images size:  41\n",
            "\u001b[2m\u001b[36m(DefaultActor pid=1602)\u001b[0m output size:  256\n",
            "\u001b[2m\u001b[36m(DefaultActor pid=1602)\u001b[0m selected images size:  47\n",
            "\u001b[2m\u001b[36m(DefaultActor pid=1602)\u001b[0m output size:  256\n",
            "\u001b[2m\u001b[36m(DefaultActor pid=1602)\u001b[0m selected images size:  54\n",
            "\u001b[2m\u001b[36m(DefaultActor pid=1602)\u001b[0m output size:  256\n",
            "\u001b[2m\u001b[36m(DefaultActor pid=1602)\u001b[0m selected images size:  40\n",
            "\u001b[2m\u001b[36m(DefaultActor pid=1602)\u001b[0m output size:  256\n",
            "\u001b[2m\u001b[36m(DefaultActor pid=1602)\u001b[0m selected images size:  47\n",
            "\u001b[2m\u001b[36m(DefaultActor pid=1602)\u001b[0m output size:  101\n",
            "\u001b[2m\u001b[36m(DefaultActor pid=1602)\u001b[0m selected images size:  24\n",
            "\u001b[2m\u001b[36m(DefaultActor pid=1602)\u001b[0m output size:  256\n",
            "\u001b[2m\u001b[36m(DefaultActor pid=1602)\u001b[0m selected images size:  61\n",
            "\u001b[2m\u001b[36m(DefaultActor pid=1602)\u001b[0m output size:  256\n",
            "\u001b[2m\u001b[36m(DefaultActor pid=1602)\u001b[0m selected images size:  49\n",
            "\u001b[2m\u001b[36m(DefaultActor pid=1602)\u001b[0m output size:  256\n",
            "\u001b[2m\u001b[36m(DefaultActor pid=1602)\u001b[0m selected images size:  64\n",
            "\u001b[2m\u001b[36m(DefaultActor pid=1602)\u001b[0m output size:  256\n",
            "\u001b[2m\u001b[36m(DefaultActor pid=1602)\u001b[0m selected images size:  46\n",
            "\u001b[2m\u001b[36m(DefaultActor pid=1602)\u001b[0m output size:  256\n",
            "\u001b[2m\u001b[36m(DefaultActor pid=1602)\u001b[0m selected images size:  48\n",
            "\u001b[2m\u001b[36m(DefaultActor pid=1602)\u001b[0m output size:  256\n",
            "\u001b[2m\u001b[36m(DefaultActor pid=1602)\u001b[0m selected images size:  53\n",
            "\u001b[2m\u001b[36m(DefaultActor pid=1602)\u001b[0m output size:  101\n",
            "\u001b[2m\u001b[36m(DefaultActor pid=1602)\u001b[0m selected images size:  22\n"
          ]
        },
        {
          "output_type": "stream",
          "name": "stderr",
          "text": [
            "DEBUG flwr 2024-01-20 15:07:32,671 | server.py:236 | fit_round 19 received 10 results and 0 failures\n",
            "DEBUG:flwr:fit_round 19 received 10 results and 0 failures\n"
          ]
        },
        {
          "output_type": "stream",
          "name": "stdout",
          "text": [
            "Saving round 19 aggregated_parameters...\n"
          ]
        },
        {
          "output_type": "stream",
          "name": "stderr",
          "text": [
            "INFO flwr 2024-01-20 15:07:49,089 | server.py:125 | fit progress: (19, 297.0650054216385, {'accuracy': 0.3875968992248062}, 2783.671863316)\n",
            "INFO:flwr:fit progress: (19, 297.0650054216385, {'accuracy': 0.3875968992248062}, 2783.671863316)\n",
            "DEBUG flwr 2024-01-20 15:07:49,095 | server.py:173 | evaluate_round 19: strategy sampled 10 clients (out of 33)\n",
            "DEBUG:flwr:evaluate_round 19: strategy sampled 10 clients (out of 33)\n"
          ]
        },
        {
          "output_type": "stream",
          "name": "stdout",
          "text": [
            "GLOBAL TEST\n"
          ]
        },
        {
          "output_type": "stream",
          "name": "stderr",
          "text": [
            "DEBUG flwr 2024-01-20 15:07:52,879 | server.py:187 | evaluate_round 19 received 10 results and 0 failures\n",
            "DEBUG:flwr:evaluate_round 19 received 10 results and 0 failures\n",
            "DEBUG flwr 2024-01-20 15:07:52,881 | server.py:222 | fit_round 20: strategy sampled 10 clients (out of 33)\n",
            "DEBUG:flwr:fit_round 20: strategy sampled 10 clients (out of 33)\n"
          ]
        },
        {
          "output_type": "stream",
          "name": "stdout",
          "text": [
            "\u001b[2m\u001b[36m(DefaultActor pid=1602)\u001b[0m ATTACKER\n",
            "\u001b[2m\u001b[36m(DefaultActor pid=1602)\u001b[0m output size:  256\n",
            "\u001b[2m\u001b[36m(DefaultActor pid=1602)\u001b[0m selected images size:  1\n",
            "\u001b[2m\u001b[36m(DefaultActor pid=1602)\u001b[0m output size:  256\n",
            "\u001b[2m\u001b[36m(DefaultActor pid=1602)\u001b[0m selected images size:  2\n",
            "\u001b[2m\u001b[36m(DefaultActor pid=1602)\u001b[0m output size:  256\n",
            "\u001b[2m\u001b[36m(DefaultActor pid=1602)\u001b[0m selected images size:  2\n",
            "\u001b[2m\u001b[36m(DefaultActor pid=1602)\u001b[0m output size:  256\n",
            "\u001b[2m\u001b[36m(DefaultActor pid=1602)\u001b[0m selected images size:  4\n",
            "\u001b[2m\u001b[36m(DefaultActor pid=1602)\u001b[0m output size:  256\n",
            "\u001b[2m\u001b[36m(DefaultActor pid=1602)\u001b[0m selected images size:  4\n",
            "\u001b[2m\u001b[36m(DefaultActor pid=1602)\u001b[0m output size:  101\n",
            "\u001b[2m\u001b[36m(DefaultActor pid=1602)\u001b[0m selected images size:  1\n",
            "\u001b[2m\u001b[36m(DefaultActor pid=1602)\u001b[0m output size:  256\n",
            "\u001b[2m\u001b[36m(DefaultActor pid=1602)\u001b[0m selected images size:  1\n",
            "\u001b[2m\u001b[36m(DefaultActor pid=1602)\u001b[0m output size:  256\n",
            "\u001b[2m\u001b[36m(DefaultActor pid=1602)\u001b[0m selected images size:  4\n",
            "\u001b[2m\u001b[36m(DefaultActor pid=1602)\u001b[0m output size:  101\n",
            "\u001b[2m\u001b[36m(DefaultActor pid=1602)\u001b[0m selected images size:  2\n",
            "\u001b[2m\u001b[36m(DefaultActor pid=1602)\u001b[0m output size:  256\n",
            "\u001b[2m\u001b[36m(DefaultActor pid=1602)\u001b[0m selected images size:  4\n",
            "\u001b[2m\u001b[36m(DefaultActor pid=1602)\u001b[0m output size:  256\n",
            "\u001b[2m\u001b[36m(DefaultActor pid=1602)\u001b[0m selected images size:  1\n",
            "\u001b[2m\u001b[36m(DefaultActor pid=1602)\u001b[0m output size:  256\n",
            "\u001b[2m\u001b[36m(DefaultActor pid=1602)\u001b[0m selected images size:  8\n",
            "\u001b[2m\u001b[36m(DefaultActor pid=1602)\u001b[0m output size:  256\n",
            "\u001b[2m\u001b[36m(DefaultActor pid=1602)\u001b[0m selected images size:  8\n",
            "\u001b[2m\u001b[36m(DefaultActor pid=1602)\u001b[0m output size:  256\n",
            "\u001b[2m\u001b[36m(DefaultActor pid=1602)\u001b[0m selected images size:  9\n",
            "\u001b[2m\u001b[36m(DefaultActor pid=1602)\u001b[0m output size:  256\n",
            "\u001b[2m\u001b[36m(DefaultActor pid=1602)\u001b[0m selected images size:  9\n",
            "\u001b[2m\u001b[36m(DefaultActor pid=1602)\u001b[0m output size:  101\n",
            "\u001b[2m\u001b[36m(DefaultActor pid=1602)\u001b[0m selected images size:  7\n",
            "\u001b[2m\u001b[36m(DefaultActor pid=1602)\u001b[0m output size:  256\n",
            "\u001b[2m\u001b[36m(DefaultActor pid=1602)\u001b[0m selected images size:  25\n",
            "\u001b[2m\u001b[36m(DefaultActor pid=1602)\u001b[0m output size:  256\n",
            "\u001b[2m\u001b[36m(DefaultActor pid=1602)\u001b[0m selected images size:  21\n",
            "\u001b[2m\u001b[36m(DefaultActor pid=1602)\u001b[0m output size:  256\n",
            "\u001b[2m\u001b[36m(DefaultActor pid=1602)\u001b[0m selected images size:  16\n",
            "\u001b[2m\u001b[36m(DefaultActor pid=1602)\u001b[0m output size:  256\n",
            "\u001b[2m\u001b[36m(DefaultActor pid=1602)\u001b[0m selected images size:  21\n",
            "\u001b[2m\u001b[36m(DefaultActor pid=1602)\u001b[0m output size:  256\n",
            "\u001b[2m\u001b[36m(DefaultActor pid=1602)\u001b[0m selected images size:  24\n",
            "\u001b[2m\u001b[36m(DefaultActor pid=1602)\u001b[0m output size:  256\n",
            "\u001b[2m\u001b[36m(DefaultActor pid=1602)\u001b[0m selected images size:  27\n",
            "\u001b[2m\u001b[36m(DefaultActor pid=1602)\u001b[0m output size:  101\n",
            "\u001b[2m\u001b[36m(DefaultActor pid=1602)\u001b[0m selected images size:  18\n",
            "\u001b[2m\u001b[36m(DefaultActor pid=1602)\u001b[0m output size:  256\n",
            "\u001b[2m\u001b[36m(DefaultActor pid=1602)\u001b[0m selected images size:  26\n",
            "\u001b[2m\u001b[36m(DefaultActor pid=1602)\u001b[0m output size:  256\n",
            "\u001b[2m\u001b[36m(DefaultActor pid=1602)\u001b[0m selected images size:  26\n",
            "\u001b[2m\u001b[36m(DefaultActor pid=1602)\u001b[0m output size:  256\n",
            "\u001b[2m\u001b[36m(DefaultActor pid=1602)\u001b[0m selected images size:  37\n",
            "\u001b[2m\u001b[36m(DefaultActor pid=1602)\u001b[0m output size:  256\n",
            "\u001b[2m\u001b[36m(DefaultActor pid=1602)\u001b[0m selected images size:  34\n",
            "\u001b[2m\u001b[36m(DefaultActor pid=1602)\u001b[0m output size:  256\n",
            "\u001b[2m\u001b[36m(DefaultActor pid=1602)\u001b[0m selected images size:  23\n",
            "\u001b[2m\u001b[36m(DefaultActor pid=1602)\u001b[0m output size:  256\n",
            "\u001b[2m\u001b[36m(DefaultActor pid=1602)\u001b[0m selected images size:  32\n",
            "\u001b[2m\u001b[36m(DefaultActor pid=1602)\u001b[0m output size:  101\n",
            "\u001b[2m\u001b[36m(DefaultActor pid=1602)\u001b[0m selected images size:  15\n",
            "\u001b[2m\u001b[36m(DefaultActor pid=1602)\u001b[0m output size:  256\n",
            "\u001b[2m\u001b[36m(DefaultActor pid=1602)\u001b[0m selected images size:  35\n",
            "\u001b[2m\u001b[36m(DefaultActor pid=1602)\u001b[0m output size:  256\n",
            "\u001b[2m\u001b[36m(DefaultActor pid=1602)\u001b[0m selected images size:  40\n",
            "\u001b[2m\u001b[36m(DefaultActor pid=1602)\u001b[0m output size:  256\n",
            "\u001b[2m\u001b[36m(DefaultActor pid=1602)\u001b[0m selected images size:  45\n",
            "\u001b[2m\u001b[36m(DefaultActor pid=1602)\u001b[0m output size:  256\n",
            "\u001b[2m\u001b[36m(DefaultActor pid=1602)\u001b[0m selected images size:  40\n",
            "\u001b[2m\u001b[36m(DefaultActor pid=1602)\u001b[0m output size:  256\n",
            "\u001b[2m\u001b[36m(DefaultActor pid=1602)\u001b[0m selected images size:  19\n",
            "\u001b[2m\u001b[36m(DefaultActor pid=1602)\u001b[0m output size:  256\n",
            "\u001b[2m\u001b[36m(DefaultActor pid=1602)\u001b[0m selected images size:  8\n",
            "\u001b[2m\u001b[36m(DefaultActor pid=1602)\u001b[0m output size:  101\n",
            "\u001b[2m\u001b[36m(DefaultActor pid=1602)\u001b[0m selected images size:  7\n",
            "\u001b[2m\u001b[36m(DefaultActor pid=1602)\u001b[0m output size:  256\n",
            "\u001b[2m\u001b[36m(DefaultActor pid=1602)\u001b[0m selected images size:  5\n",
            "\u001b[2m\u001b[36m(DefaultActor pid=1602)\u001b[0m output size:  256\n",
            "\u001b[2m\u001b[36m(DefaultActor pid=1602)\u001b[0m selected images size:  12\n",
            "\u001b[2m\u001b[36m(DefaultActor pid=1602)\u001b[0m output size:  256\n",
            "\u001b[2m\u001b[36m(DefaultActor pid=1602)\u001b[0m selected images size:  8\n",
            "\u001b[2m\u001b[36m(DefaultActor pid=1602)\u001b[0m output size:  256\n",
            "\u001b[2m\u001b[36m(DefaultActor pid=1602)\u001b[0m selected images size:  5\n",
            "\u001b[2m\u001b[36m(DefaultActor pid=1602)\u001b[0m output size:  256\n",
            "\u001b[2m\u001b[36m(DefaultActor pid=1602)\u001b[0m selected images size:  6\n",
            "\u001b[2m\u001b[36m(DefaultActor pid=1602)\u001b[0m output size:  256\n",
            "\u001b[2m\u001b[36m(DefaultActor pid=1602)\u001b[0m selected images size:  12\n",
            "\u001b[2m\u001b[36m(DefaultActor pid=1602)\u001b[0m output size:  101\n",
            "\u001b[2m\u001b[36m(DefaultActor pid=1602)\u001b[0m selected images size:  2\n"
          ]
        },
        {
          "output_type": "stream",
          "name": "stderr",
          "text": [
            "DEBUG flwr 2024-01-20 15:10:03,060 | server.py:236 | fit_round 20 received 10 results and 0 failures\n",
            "DEBUG:flwr:fit_round 20 received 10 results and 0 failures\n"
          ]
        },
        {
          "output_type": "stream",
          "name": "stdout",
          "text": [
            "Saving round 20 aggregated_parameters...\n"
          ]
        },
        {
          "output_type": "stream",
          "name": "stderr",
          "text": [
            "INFO flwr 2024-01-20 15:10:20,262 | server.py:125 | fit progress: (20, 296.9049791097641, {'accuracy': 0.4844961240310077}, 2934.844932499)\n",
            "INFO:flwr:fit progress: (20, 296.9049791097641, {'accuracy': 0.4844961240310077}, 2934.844932499)\n",
            "DEBUG flwr 2024-01-20 15:10:20,268 | server.py:173 | evaluate_round 20: strategy sampled 10 clients (out of 33)\n",
            "DEBUG:flwr:evaluate_round 20: strategy sampled 10 clients (out of 33)\n"
          ]
        },
        {
          "output_type": "stream",
          "name": "stdout",
          "text": [
            "GLOBAL TEST\n"
          ]
        },
        {
          "output_type": "stream",
          "name": "stderr",
          "text": [
            "DEBUG flwr 2024-01-20 15:10:24,309 | server.py:187 | evaluate_round 20 received 10 results and 0 failures\n",
            "DEBUG:flwr:evaluate_round 20 received 10 results and 0 failures\n",
            "DEBUG flwr 2024-01-20 15:10:24,312 | server.py:222 | fit_round 21: strategy sampled 10 clients (out of 33)\n",
            "DEBUG:flwr:fit_round 21: strategy sampled 10 clients (out of 33)\n"
          ]
        },
        {
          "output_type": "stream",
          "name": "stdout",
          "text": [
            "\u001b[2m\u001b[36m(DefaultActor pid=1602)\u001b[0m ATTACKER\n",
            "\u001b[2m\u001b[36m(DefaultActor pid=1602)\u001b[0m output size:  256\n",
            "\u001b[2m\u001b[36m(DefaultActor pid=1602)\u001b[0m selected images size:  1\n",
            "\u001b[2m\u001b[36m(DefaultActor pid=1602)\u001b[0m ATTACKER\n",
            "\u001b[2m\u001b[36m(DefaultActor pid=1602)\u001b[0m output size:  256\n",
            "\u001b[2m\u001b[36m(DefaultActor pid=1602)\u001b[0m selected images size:  3\n",
            "\u001b[2m\u001b[36m(DefaultActor pid=1602)\u001b[0m output size:  256\n",
            "\u001b[2m\u001b[36m(DefaultActor pid=1602)\u001b[0m selected images size:  1\n",
            "\u001b[2m\u001b[36m(DefaultActor pid=1602)\u001b[0m output size:  256\n",
            "\u001b[2m\u001b[36m(DefaultActor pid=1602)\u001b[0m selected images size:  8\n",
            "\u001b[2m\u001b[36m(DefaultActor pid=1602)\u001b[0m output size:  256\n",
            "\u001b[2m\u001b[36m(DefaultActor pid=1602)\u001b[0m selected images size:  28\n",
            "\u001b[2m\u001b[36m(DefaultActor pid=1602)\u001b[0m output size:  256\n",
            "\u001b[2m\u001b[36m(DefaultActor pid=1602)\u001b[0m selected images size:  5\n",
            "\u001b[2m\u001b[36m(DefaultActor pid=1602)\u001b[0m output size:  256\n",
            "\u001b[2m\u001b[36m(DefaultActor pid=1602)\u001b[0m selected images size:  11\n",
            "\u001b[2m\u001b[36m(DefaultActor pid=1602)\u001b[0m output size:  256\n",
            "\u001b[2m\u001b[36m(DefaultActor pid=1602)\u001b[0m selected images size:  4\n",
            "\u001b[2m\u001b[36m(DefaultActor pid=1602)\u001b[0m output size:  256\n",
            "\u001b[2m\u001b[36m(DefaultActor pid=1602)\u001b[0m selected images size:  7\n",
            "\u001b[2m\u001b[36m(DefaultActor pid=1602)\u001b[0m output size:  101\n",
            "\u001b[2m\u001b[36m(DefaultActor pid=1602)\u001b[0m selected images size:  1\n",
            "\u001b[2m\u001b[36m(DefaultActor pid=1602)\u001b[0m output size:  256\n",
            "\u001b[2m\u001b[36m(DefaultActor pid=1602)\u001b[0m selected images size:  2\n",
            "\u001b[2m\u001b[36m(DefaultActor pid=1602)\u001b[0m output size:  256\n",
            "\u001b[2m\u001b[36m(DefaultActor pid=1602)\u001b[0m selected images size:  4\n",
            "\u001b[2m\u001b[36m(DefaultActor pid=1602)\u001b[0m output size:  256\n",
            "\u001b[2m\u001b[36m(DefaultActor pid=1602)\u001b[0m selected images size:  2\n",
            "\u001b[2m\u001b[36m(DefaultActor pid=1602)\u001b[0m output size:  256\n",
            "\u001b[2m\u001b[36m(DefaultActor pid=1602)\u001b[0m selected images size:  2\n",
            "\u001b[2m\u001b[36m(DefaultActor pid=1602)\u001b[0m output size:  256\n",
            "\u001b[2m\u001b[36m(DefaultActor pid=1602)\u001b[0m selected images size:  3\n",
            "\u001b[2m\u001b[36m(DefaultActor pid=1602)\u001b[0m output size:  101\n",
            "\u001b[2m\u001b[36m(DefaultActor pid=1602)\u001b[0m selected images size:  3\n",
            "\u001b[2m\u001b[36m(DefaultActor pid=1602)\u001b[0m output size:  256\n",
            "\u001b[2m\u001b[36m(DefaultActor pid=1602)\u001b[0m selected images size:  3\n",
            "\u001b[2m\u001b[36m(DefaultActor pid=1602)\u001b[0m output size:  256\n",
            "\u001b[2m\u001b[36m(DefaultActor pid=1602)\u001b[0m selected images size:  3\n",
            "\u001b[2m\u001b[36m(DefaultActor pid=1602)\u001b[0m output size:  256\n",
            "\u001b[2m\u001b[36m(DefaultActor pid=1602)\u001b[0m selected images size:  3\n",
            "\u001b[2m\u001b[36m(DefaultActor pid=1602)\u001b[0m output size:  256\n",
            "\u001b[2m\u001b[36m(DefaultActor pid=1602)\u001b[0m selected images size:  2\n",
            "\u001b[2m\u001b[36m(DefaultActor pid=1602)\u001b[0m output size:  256\n",
            "\u001b[2m\u001b[36m(DefaultActor pid=1602)\u001b[0m selected images size:  1\n",
            "\u001b[2m\u001b[36m(DefaultActor pid=1602)\u001b[0m output size:  256\n",
            "\u001b[2m\u001b[36m(DefaultActor pid=1602)\u001b[0m selected images size:  6\n",
            "\u001b[2m\u001b[36m(DefaultActor pid=1602)\u001b[0m output size:  101\n",
            "\u001b[2m\u001b[36m(DefaultActor pid=1602)\u001b[0m selected images size:  1\n",
            "\u001b[2m\u001b[36m(DefaultActor pid=1602)\u001b[0m output size:  256\n",
            "\u001b[2m\u001b[36m(DefaultActor pid=1602)\u001b[0m selected images size:  3\n",
            "\u001b[2m\u001b[36m(DefaultActor pid=1602)\u001b[0m output size:  256\n",
            "\u001b[2m\u001b[36m(DefaultActor pid=1602)\u001b[0m selected images size:  5\n",
            "\u001b[2m\u001b[36m(DefaultActor pid=1602)\u001b[0m output size:  256\n",
            "\u001b[2m\u001b[36m(DefaultActor pid=1602)\u001b[0m selected images size:  7\n",
            "\u001b[2m\u001b[36m(DefaultActor pid=1602)\u001b[0m output size:  256\n",
            "\u001b[2m\u001b[36m(DefaultActor pid=1602)\u001b[0m selected images size:  5\n",
            "\u001b[2m\u001b[36m(DefaultActor pid=1602)\u001b[0m output size:  256\n",
            "\u001b[2m\u001b[36m(DefaultActor pid=1602)\u001b[0m selected images size:  5\n",
            "\u001b[2m\u001b[36m(DefaultActor pid=1602)\u001b[0m output size:  256\n",
            "\u001b[2m\u001b[36m(DefaultActor pid=1602)\u001b[0m selected images size:  13\n",
            "\u001b[2m\u001b[36m(DefaultActor pid=1602)\u001b[0m output size:  101\n",
            "\u001b[2m\u001b[36m(DefaultActor pid=1602)\u001b[0m selected images size:  5\n",
            "\u001b[2m\u001b[36m(DefaultActor pid=1602)\u001b[0m output size:  256\n",
            "\u001b[2m\u001b[36m(DefaultActor pid=1602)\u001b[0m selected images size:  8\n",
            "\u001b[2m\u001b[36m(DefaultActor pid=1602)\u001b[0m output size:  256\n",
            "\u001b[2m\u001b[36m(DefaultActor pid=1602)\u001b[0m selected images size:  16\n",
            "\u001b[2m\u001b[36m(DefaultActor pid=1602)\u001b[0m output size:  256\n",
            "\u001b[2m\u001b[36m(DefaultActor pid=1602)\u001b[0m selected images size:  15\n",
            "\u001b[2m\u001b[36m(DefaultActor pid=1602)\u001b[0m output size:  256\n",
            "\u001b[2m\u001b[36m(DefaultActor pid=1602)\u001b[0m selected images size:  17\n",
            "\u001b[2m\u001b[36m(DefaultActor pid=1602)\u001b[0m output size:  256\n",
            "\u001b[2m\u001b[36m(DefaultActor pid=1602)\u001b[0m selected images size:  17\n",
            "\u001b[2m\u001b[36m(DefaultActor pid=1602)\u001b[0m output size:  256\n",
            "\u001b[2m\u001b[36m(DefaultActor pid=1602)\u001b[0m selected images size:  16\n",
            "\u001b[2m\u001b[36m(DefaultActor pid=1602)\u001b[0m output size:  101\n",
            "\u001b[2m\u001b[36m(DefaultActor pid=1602)\u001b[0m selected images size:  3\n",
            "\u001b[2m\u001b[36m(DefaultActor pid=1602)\u001b[0m output size:  256\n",
            "\u001b[2m\u001b[36m(DefaultActor pid=1602)\u001b[0m selected images size:  18\n",
            "\u001b[2m\u001b[36m(DefaultActor pid=1602)\u001b[0m output size:  256\n",
            "\u001b[2m\u001b[36m(DefaultActor pid=1602)\u001b[0m selected images size:  11\n",
            "\u001b[2m\u001b[36m(DefaultActor pid=1602)\u001b[0m output size:  256\n",
            "\u001b[2m\u001b[36m(DefaultActor pid=1602)\u001b[0m selected images size:  6\n",
            "\u001b[2m\u001b[36m(DefaultActor pid=1602)\u001b[0m output size:  256\n",
            "\u001b[2m\u001b[36m(DefaultActor pid=1602)\u001b[0m selected images size:  8\n",
            "\u001b[2m\u001b[36m(DefaultActor pid=1602)\u001b[0m output size:  256\n",
            "\u001b[2m\u001b[36m(DefaultActor pid=1602)\u001b[0m selected images size:  4\n",
            "\u001b[2m\u001b[36m(DefaultActor pid=1602)\u001b[0m output size:  256\n",
            "\u001b[2m\u001b[36m(DefaultActor pid=1602)\u001b[0m selected images size:  6\n",
            "\u001b[2m\u001b[36m(DefaultActor pid=1602)\u001b[0m output size:  256\n",
            "\u001b[2m\u001b[36m(DefaultActor pid=1602)\u001b[0m selected images size:  2\n",
            "\u001b[2m\u001b[36m(DefaultActor pid=1602)\u001b[0m output size:  256\n",
            "\u001b[2m\u001b[36m(DefaultActor pid=1602)\u001b[0m selected images size:  4\n",
            "\u001b[2m\u001b[36m(DefaultActor pid=1602)\u001b[0m output size:  256\n",
            "\u001b[2m\u001b[36m(DefaultActor pid=1602)\u001b[0m selected images size:  4\n",
            "\u001b[2m\u001b[36m(DefaultActor pid=1602)\u001b[0m output size:  256\n",
            "\u001b[2m\u001b[36m(DefaultActor pid=1602)\u001b[0m selected images size:  2\n",
            "\u001b[2m\u001b[36m(DefaultActor pid=1602)\u001b[0m output size:  256\n",
            "\u001b[2m\u001b[36m(DefaultActor pid=1602)\u001b[0m selected images size:  4\n",
            "\u001b[2m\u001b[36m(DefaultActor pid=1602)\u001b[0m output size:  256\n",
            "\u001b[2m\u001b[36m(DefaultActor pid=1602)\u001b[0m selected images size:  2\n",
            "\u001b[2m\u001b[36m(DefaultActor pid=1602)\u001b[0m output size:  256\n",
            "\u001b[2m\u001b[36m(DefaultActor pid=1602)\u001b[0m selected images size:  5\n",
            "\u001b[2m\u001b[36m(DefaultActor pid=1602)\u001b[0m output size:  256\n",
            "\u001b[2m\u001b[36m(DefaultActor pid=1602)\u001b[0m selected images size:  3\n",
            "\u001b[2m\u001b[36m(DefaultActor pid=1602)\u001b[0m output size:  256\n",
            "\u001b[2m\u001b[36m(DefaultActor pid=1602)\u001b[0m selected images size:  2\n",
            "\u001b[2m\u001b[36m(DefaultActor pid=1602)\u001b[0m output size:  256\n",
            "\u001b[2m\u001b[36m(DefaultActor pid=1602)\u001b[0m selected images size:  1\n",
            "\u001b[2m\u001b[36m(DefaultActor pid=1602)\u001b[0m output size:  256\n",
            "\u001b[2m\u001b[36m(DefaultActor pid=1602)\u001b[0m selected images size:  4\n",
            "\u001b[2m\u001b[36m(DefaultActor pid=1602)\u001b[0m output size:  256\n",
            "\u001b[2m\u001b[36m(DefaultActor pid=1602)\u001b[0m selected images size:  8\n",
            "\u001b[2m\u001b[36m(DefaultActor pid=1602)\u001b[0m output size:  101\n",
            "\u001b[2m\u001b[36m(DefaultActor pid=1602)\u001b[0m selected images size:  2\n",
            "\u001b[2m\u001b[36m(DefaultActor pid=1602)\u001b[0m output size:  256\n",
            "\u001b[2m\u001b[36m(DefaultActor pid=1602)\u001b[0m selected images size:  8\n",
            "\u001b[2m\u001b[36m(DefaultActor pid=1602)\u001b[0m output size:  256\n",
            "\u001b[2m\u001b[36m(DefaultActor pid=1602)\u001b[0m selected images size:  13\n",
            "\u001b[2m\u001b[36m(DefaultActor pid=1602)\u001b[0m output size:  256\n",
            "\u001b[2m\u001b[36m(DefaultActor pid=1602)\u001b[0m selected images size:  15\n",
            "\u001b[2m\u001b[36m(DefaultActor pid=1602)\u001b[0m output size:  256\n",
            "\u001b[2m\u001b[36m(DefaultActor pid=1602)\u001b[0m selected images size:  8\n",
            "\u001b[2m\u001b[36m(DefaultActor pid=1602)\u001b[0m output size:  256\n",
            "\u001b[2m\u001b[36m(DefaultActor pid=1602)\u001b[0m selected images size:  15\n",
            "\u001b[2m\u001b[36m(DefaultActor pid=1602)\u001b[0m output size:  256\n",
            "\u001b[2m\u001b[36m(DefaultActor pid=1602)\u001b[0m selected images size:  11\n",
            "\u001b[2m\u001b[36m(DefaultActor pid=1602)\u001b[0m output size:  101\n",
            "\u001b[2m\u001b[36m(DefaultActor pid=1602)\u001b[0m selected images size:  7\n"
          ]
        },
        {
          "output_type": "stream",
          "name": "stderr",
          "text": [
            "DEBUG flwr 2024-01-20 15:13:20,700 | server.py:236 | fit_round 21 received 10 results and 0 failures\n",
            "DEBUG:flwr:fit_round 21 received 10 results and 0 failures\n"
          ]
        },
        {
          "output_type": "stream",
          "name": "stdout",
          "text": [
            "Saving round 21 aggregated_parameters...\n"
          ]
        },
        {
          "output_type": "stream",
          "name": "stderr",
          "text": [
            "INFO flwr 2024-01-20 15:13:37,202 | server.py:125 | fit progress: (21, 297.14672815799713, {'accuracy': 0.4844961240310077}, 3131.7855913030003)\n",
            "INFO:flwr:fit progress: (21, 297.14672815799713, {'accuracy': 0.4844961240310077}, 3131.7855913030003)\n",
            "DEBUG flwr 2024-01-20 15:13:37,211 | server.py:173 | evaluate_round 21: strategy sampled 10 clients (out of 33)\n",
            "DEBUG:flwr:evaluate_round 21: strategy sampled 10 clients (out of 33)\n"
          ]
        },
        {
          "output_type": "stream",
          "name": "stdout",
          "text": [
            "GLOBAL TEST\n"
          ]
        },
        {
          "output_type": "stream",
          "name": "stderr",
          "text": [
            "DEBUG flwr 2024-01-20 15:13:42,061 | server.py:187 | evaluate_round 21 received 10 results and 0 failures\n",
            "DEBUG:flwr:evaluate_round 21 received 10 results and 0 failures\n",
            "DEBUG flwr 2024-01-20 15:13:42,066 | server.py:222 | fit_round 22: strategy sampled 10 clients (out of 33)\n",
            "DEBUG:flwr:fit_round 22: strategy sampled 10 clients (out of 33)\n",
            "DEBUG flwr 2024-01-20 15:15:03,054 | server.py:236 | fit_round 22 received 10 results and 0 failures\n",
            "DEBUG:flwr:fit_round 22 received 10 results and 0 failures\n"
          ]
        },
        {
          "output_type": "stream",
          "name": "stdout",
          "text": [
            "Saving round 22 aggregated_parameters...\n"
          ]
        },
        {
          "output_type": "stream",
          "name": "stderr",
          "text": [
            "INFO flwr 2024-01-20 15:15:20,386 | server.py:125 | fit progress: (22, 296.7650626897812, {'accuracy': 0.29069767441860467}, 3234.969554931)\n",
            "INFO:flwr:fit progress: (22, 296.7650626897812, {'accuracy': 0.29069767441860467}, 3234.969554931)\n",
            "DEBUG flwr 2024-01-20 15:15:20,390 | server.py:173 | evaluate_round 22: strategy sampled 10 clients (out of 33)\n",
            "DEBUG:flwr:evaluate_round 22: strategy sampled 10 clients (out of 33)\n"
          ]
        },
        {
          "output_type": "stream",
          "name": "stdout",
          "text": [
            "GLOBAL TEST\n"
          ]
        },
        {
          "output_type": "stream",
          "name": "stderr",
          "text": [
            "DEBUG flwr 2024-01-20 15:15:24,267 | server.py:187 | evaluate_round 22 received 10 results and 0 failures\n",
            "DEBUG:flwr:evaluate_round 22 received 10 results and 0 failures\n",
            "DEBUG flwr 2024-01-20 15:15:24,273 | server.py:222 | fit_round 23: strategy sampled 10 clients (out of 33)\n",
            "DEBUG:flwr:fit_round 23: strategy sampled 10 clients (out of 33)\n",
            "DEBUG flwr 2024-01-20 15:16:47,141 | server.py:236 | fit_round 23 received 10 results and 0 failures\n",
            "DEBUG:flwr:fit_round 23 received 10 results and 0 failures\n"
          ]
        },
        {
          "output_type": "stream",
          "name": "stdout",
          "text": [
            "Saving round 23 aggregated_parameters...\n"
          ]
        },
        {
          "output_type": "stream",
          "name": "stderr",
          "text": [
            "INFO flwr 2024-01-20 15:17:03,492 | server.py:125 | fit progress: (23, 296.58841025829315, {'accuracy': 0.1937984496124031}, 3338.075752481)\n",
            "INFO:flwr:fit progress: (23, 296.58841025829315, {'accuracy': 0.1937984496124031}, 3338.075752481)\n",
            "DEBUG flwr 2024-01-20 15:17:03,496 | server.py:173 | evaluate_round 23: strategy sampled 10 clients (out of 33)\n",
            "DEBUG:flwr:evaluate_round 23: strategy sampled 10 clients (out of 33)\n"
          ]
        },
        {
          "output_type": "stream",
          "name": "stdout",
          "text": [
            "GLOBAL TEST\n"
          ]
        },
        {
          "output_type": "stream",
          "name": "stderr",
          "text": [
            "DEBUG flwr 2024-01-20 15:17:07,266 | server.py:187 | evaluate_round 23 received 10 results and 0 failures\n",
            "DEBUG:flwr:evaluate_round 23 received 10 results and 0 failures\n",
            "DEBUG flwr 2024-01-20 15:17:07,269 | server.py:222 | fit_round 24: strategy sampled 10 clients (out of 33)\n",
            "DEBUG:flwr:fit_round 24: strategy sampled 10 clients (out of 33)\n"
          ]
        },
        {
          "output_type": "stream",
          "name": "stdout",
          "text": [
            "\u001b[2m\u001b[36m(DefaultActor pid=1602)\u001b[0m ATTACKER\n",
            "\u001b[2m\u001b[36m(DefaultActor pid=1602)\u001b[0m output size:  256\n",
            "\u001b[2m\u001b[36m(DefaultActor pid=1602)\u001b[0m selected images size:  1\n",
            "\u001b[2m\u001b[36m(DefaultActor pid=1602)\u001b[0m output size:  256\n",
            "\u001b[2m\u001b[36m(DefaultActor pid=1602)\u001b[0m selected images size:  2\n",
            "\u001b[2m\u001b[36m(DefaultActor pid=1602)\u001b[0m output size:  256\n",
            "\u001b[2m\u001b[36m(DefaultActor pid=1602)\u001b[0m selected images size:  2\n",
            "\u001b[2m\u001b[36m(DefaultActor pid=1602)\u001b[0m output size:  256\n",
            "\u001b[2m\u001b[36m(DefaultActor pid=1602)\u001b[0m selected images size:  2\n",
            "\u001b[2m\u001b[36m(DefaultActor pid=1602)\u001b[0m output size:  256\n",
            "\u001b[2m\u001b[36m(DefaultActor pid=1602)\u001b[0m selected images size:  1\n",
            "\u001b[2m\u001b[36m(DefaultActor pid=1602)\u001b[0m output size:  256\n",
            "\u001b[2m\u001b[36m(DefaultActor pid=1602)\u001b[0m selected images size:  4\n",
            "\u001b[2m\u001b[36m(DefaultActor pid=1602)\u001b[0m output size:  256\n",
            "\u001b[2m\u001b[36m(DefaultActor pid=1602)\u001b[0m selected images size:  1\n",
            "\u001b[2m\u001b[36m(DefaultActor pid=1602)\u001b[0m output size:  101\n",
            "\u001b[2m\u001b[36m(DefaultActor pid=1602)\u001b[0m selected images size:  2\n",
            "\u001b[2m\u001b[36m(DefaultActor pid=1602)\u001b[0m output size:  256\n",
            "\u001b[2m\u001b[36m(DefaultActor pid=1602)\u001b[0m selected images size:  6\n",
            "\u001b[2m\u001b[36m(DefaultActor pid=1602)\u001b[0m output size:  256\n",
            "\u001b[2m\u001b[36m(DefaultActor pid=1602)\u001b[0m selected images size:  13\n",
            "\u001b[2m\u001b[36m(DefaultActor pid=1602)\u001b[0m output size:  256\n",
            "\u001b[2m\u001b[36m(DefaultActor pid=1602)\u001b[0m selected images size:  21\n",
            "\u001b[2m\u001b[36m(DefaultActor pid=1602)\u001b[0m output size:  256\n",
            "\u001b[2m\u001b[36m(DefaultActor pid=1602)\u001b[0m selected images size:  20\n",
            "\u001b[2m\u001b[36m(DefaultActor pid=1602)\u001b[0m output size:  256\n",
            "\u001b[2m\u001b[36m(DefaultActor pid=1602)\u001b[0m selected images size:  28\n",
            "\u001b[2m\u001b[36m(DefaultActor pid=1602)\u001b[0m output size:  256\n",
            "\u001b[2m\u001b[36m(DefaultActor pid=1602)\u001b[0m selected images size:  22\n",
            "\u001b[2m\u001b[36m(DefaultActor pid=1602)\u001b[0m output size:  101\n",
            "\u001b[2m\u001b[36m(DefaultActor pid=1602)\u001b[0m selected images size:  9\n",
            "\u001b[2m\u001b[36m(DefaultActor pid=1602)\u001b[0m output size:  256\n",
            "\u001b[2m\u001b[36m(DefaultActor pid=1602)\u001b[0m selected images size:  24\n",
            "\u001b[2m\u001b[36m(DefaultActor pid=1602)\u001b[0m output size:  256\n",
            "\u001b[2m\u001b[36m(DefaultActor pid=1602)\u001b[0m selected images size:  23\n",
            "\u001b[2m\u001b[36m(DefaultActor pid=1602)\u001b[0m output size:  256\n",
            "\u001b[2m\u001b[36m(DefaultActor pid=1602)\u001b[0m selected images size:  15\n",
            "\u001b[2m\u001b[36m(DefaultActor pid=1602)\u001b[0m output size:  256\n",
            "\u001b[2m\u001b[36m(DefaultActor pid=1602)\u001b[0m selected images size:  23\n",
            "\u001b[2m\u001b[36m(DefaultActor pid=1602)\u001b[0m output size:  256\n",
            "\u001b[2m\u001b[36m(DefaultActor pid=1602)\u001b[0m selected images size:  13\n",
            "\u001b[2m\u001b[36m(DefaultActor pid=1602)\u001b[0m output size:  256\n",
            "\u001b[2m\u001b[36m(DefaultActor pid=1602)\u001b[0m selected images size:  9\n",
            "\u001b[2m\u001b[36m(DefaultActor pid=1602)\u001b[0m output size:  101\n",
            "\u001b[2m\u001b[36m(DefaultActor pid=1602)\u001b[0m selected images size:  1\n",
            "\u001b[2m\u001b[36m(DefaultActor pid=1602)\u001b[0m output size:  256\n",
            "\u001b[2m\u001b[36m(DefaultActor pid=1602)\u001b[0m selected images size:  5\n",
            "\u001b[2m\u001b[36m(DefaultActor pid=1602)\u001b[0m output size:  256\n",
            "\u001b[2m\u001b[36m(DefaultActor pid=1602)\u001b[0m selected images size:  2\n",
            "\u001b[2m\u001b[36m(DefaultActor pid=1602)\u001b[0m output size:  256\n",
            "\u001b[2m\u001b[36m(DefaultActor pid=1602)\u001b[0m selected images size:  1\n",
            "\u001b[2m\u001b[36m(DefaultActor pid=1602)\u001b[0m output size:  256\n",
            "\u001b[2m\u001b[36m(DefaultActor pid=1602)\u001b[0m selected images size:  3\n",
            "\u001b[2m\u001b[36m(DefaultActor pid=1602)\u001b[0m output size:  256\n",
            "\u001b[2m\u001b[36m(DefaultActor pid=1602)\u001b[0m selected images size:  5\n",
            "\u001b[2m\u001b[36m(DefaultActor pid=1602)\u001b[0m output size:  256\n",
            "\u001b[2m\u001b[36m(DefaultActor pid=1602)\u001b[0m selected images size:  2\n",
            "\u001b[2m\u001b[36m(DefaultActor pid=1602)\u001b[0m output size:  256\n",
            "\u001b[2m\u001b[36m(DefaultActor pid=1602)\u001b[0m selected images size:  6\n",
            "\u001b[2m\u001b[36m(DefaultActor pid=1602)\u001b[0m output size:  256\n",
            "\u001b[2m\u001b[36m(DefaultActor pid=1602)\u001b[0m selected images size:  4\n",
            "\u001b[2m\u001b[36m(DefaultActor pid=1602)\u001b[0m output size:  256\n",
            "\u001b[2m\u001b[36m(DefaultActor pid=1602)\u001b[0m selected images size:  1\n",
            "\u001b[2m\u001b[36m(DefaultActor pid=1602)\u001b[0m output size:  256\n",
            "\u001b[2m\u001b[36m(DefaultActor pid=1602)\u001b[0m selected images size:  3\n",
            "\u001b[2m\u001b[36m(DefaultActor pid=1602)\u001b[0m output size:  256\n",
            "\u001b[2m\u001b[36m(DefaultActor pid=1602)\u001b[0m selected images size:  4\n",
            "\u001b[2m\u001b[36m(DefaultActor pid=1602)\u001b[0m output size:  256\n",
            "\u001b[2m\u001b[36m(DefaultActor pid=1602)\u001b[0m selected images size:  2\n",
            "\u001b[2m\u001b[36m(DefaultActor pid=1602)\u001b[0m output size:  101\n",
            "\u001b[2m\u001b[36m(DefaultActor pid=1602)\u001b[0m selected images size:  3\n",
            "\u001b[2m\u001b[36m(DefaultActor pid=1602)\u001b[0m output size:  256\n",
            "\u001b[2m\u001b[36m(DefaultActor pid=1602)\u001b[0m selected images size:  2\n",
            "\u001b[2m\u001b[36m(DefaultActor pid=1602)\u001b[0m output size:  256\n",
            "\u001b[2m\u001b[36m(DefaultActor pid=1602)\u001b[0m selected images size:  4\n",
            "\u001b[2m\u001b[36m(DefaultActor pid=1602)\u001b[0m output size:  256\n",
            "\u001b[2m\u001b[36m(DefaultActor pid=1602)\u001b[0m selected images size:  4\n",
            "\u001b[2m\u001b[36m(DefaultActor pid=1602)\u001b[0m output size:  256\n",
            "\u001b[2m\u001b[36m(DefaultActor pid=1602)\u001b[0m selected images size:  11\n",
            "\u001b[2m\u001b[36m(DefaultActor pid=1602)\u001b[0m output size:  256\n",
            "\u001b[2m\u001b[36m(DefaultActor pid=1602)\u001b[0m selected images size:  9\n",
            "\u001b[2m\u001b[36m(DefaultActor pid=1602)\u001b[0m output size:  256\n",
            "\u001b[2m\u001b[36m(DefaultActor pid=1602)\u001b[0m selected images size:  13\n",
            "\u001b[2m\u001b[36m(DefaultActor pid=1602)\u001b[0m output size:  101\n",
            "\u001b[2m\u001b[36m(DefaultActor pid=1602)\u001b[0m selected images size:  12\n",
            "\u001b[2m\u001b[36m(DefaultActor pid=1602)\u001b[0m output size:  256\n",
            "\u001b[2m\u001b[36m(DefaultActor pid=1602)\u001b[0m selected images size:  15\n",
            "\u001b[2m\u001b[36m(DefaultActor pid=1602)\u001b[0m output size:  256\n",
            "\u001b[2m\u001b[36m(DefaultActor pid=1602)\u001b[0m selected images size:  19\n",
            "\u001b[2m\u001b[36m(DefaultActor pid=1602)\u001b[0m output size:  256\n",
            "\u001b[2m\u001b[36m(DefaultActor pid=1602)\u001b[0m selected images size:  25\n",
            "\u001b[2m\u001b[36m(DefaultActor pid=1602)\u001b[0m output size:  256\n",
            "\u001b[2m\u001b[36m(DefaultActor pid=1602)\u001b[0m selected images size:  31\n",
            "\u001b[2m\u001b[36m(DefaultActor pid=1602)\u001b[0m output size:  256\n",
            "\u001b[2m\u001b[36m(DefaultActor pid=1602)\u001b[0m selected images size:  23\n",
            "\u001b[2m\u001b[36m(DefaultActor pid=1602)\u001b[0m output size:  256\n",
            "\u001b[2m\u001b[36m(DefaultActor pid=1602)\u001b[0m selected images size:  14\n",
            "\u001b[2m\u001b[36m(DefaultActor pid=1602)\u001b[0m output size:  101\n",
            "\u001b[2m\u001b[36m(DefaultActor pid=1602)\u001b[0m selected images size:  4\n",
            "\u001b[2m\u001b[36m(DefaultActor pid=1602)\u001b[0m output size:  256\n",
            "\u001b[2m\u001b[36m(DefaultActor pid=1602)\u001b[0m selected images size:  5\n",
            "\u001b[2m\u001b[36m(DefaultActor pid=1602)\u001b[0m output size:  256\n",
            "\u001b[2m\u001b[36m(DefaultActor pid=1602)\u001b[0m selected images size:  7\n",
            "\u001b[2m\u001b[36m(DefaultActor pid=1602)\u001b[0m output size:  256\n",
            "\u001b[2m\u001b[36m(DefaultActor pid=1602)\u001b[0m selected images size:  11\n",
            "\u001b[2m\u001b[36m(DefaultActor pid=1602)\u001b[0m output size:  256\n",
            "\u001b[2m\u001b[36m(DefaultActor pid=1602)\u001b[0m selected images size:  26\n",
            "\u001b[2m\u001b[36m(DefaultActor pid=1602)\u001b[0m output size:  256\n",
            "\u001b[2m\u001b[36m(DefaultActor pid=1602)\u001b[0m selected images size:  32\n",
            "\u001b[2m\u001b[36m(DefaultActor pid=1602)\u001b[0m output size:  256\n",
            "\u001b[2m\u001b[36m(DefaultActor pid=1602)\u001b[0m selected images size:  41\n",
            "\u001b[2m\u001b[36m(DefaultActor pid=1602)\u001b[0m output size:  101\n",
            "\u001b[2m\u001b[36m(DefaultActor pid=1602)\u001b[0m selected images size:  10\n",
            "\u001b[2m\u001b[36m(DefaultActor pid=1602)\u001b[0m output size:  256\n",
            "\u001b[2m\u001b[36m(DefaultActor pid=1602)\u001b[0m selected images size:  36\n",
            "\u001b[2m\u001b[36m(DefaultActor pid=1602)\u001b[0m output size:  256\n",
            "\u001b[2m\u001b[36m(DefaultActor pid=1602)\u001b[0m selected images size:  32\n",
            "\u001b[2m\u001b[36m(DefaultActor pid=1602)\u001b[0m output size:  256\n",
            "\u001b[2m\u001b[36m(DefaultActor pid=1602)\u001b[0m selected images size:  46\n",
            "\u001b[2m\u001b[36m(DefaultActor pid=1602)\u001b[0m output size:  256\n",
            "\u001b[2m\u001b[36m(DefaultActor pid=1602)\u001b[0m selected images size:  49\n",
            "\u001b[2m\u001b[36m(DefaultActor pid=1602)\u001b[0m output size:  256\n",
            "\u001b[2m\u001b[36m(DefaultActor pid=1602)\u001b[0m selected images size:  51\n",
            "\u001b[2m\u001b[36m(DefaultActor pid=1602)\u001b[0m output size:  256\n",
            "\u001b[2m\u001b[36m(DefaultActor pid=1602)\u001b[0m selected images size:  60\n",
            "\u001b[2m\u001b[36m(DefaultActor pid=1602)\u001b[0m output size:  101\n",
            "\u001b[2m\u001b[36m(DefaultActor pid=1602)\u001b[0m selected images size:  26\n",
            "\u001b[2m\u001b[36m(DefaultActor pid=1602)\u001b[0m output size:  256\n",
            "\u001b[2m\u001b[36m(DefaultActor pid=1602)\u001b[0m selected images size:  62\n",
            "\u001b[2m\u001b[36m(DefaultActor pid=1602)\u001b[0m output size:  256\n",
            "\u001b[2m\u001b[36m(DefaultActor pid=1602)\u001b[0m selected images size:  50\n",
            "\u001b[2m\u001b[36m(DefaultActor pid=1602)\u001b[0m output size:  256\n",
            "\u001b[2m\u001b[36m(DefaultActor pid=1602)\u001b[0m selected images size:  63\n",
            "\u001b[2m\u001b[36m(DefaultActor pid=1602)\u001b[0m output size:  256\n",
            "\u001b[2m\u001b[36m(DefaultActor pid=1602)\u001b[0m selected images size:  49\n",
            "\u001b[2m\u001b[36m(DefaultActor pid=1602)\u001b[0m output size:  256\n",
            "\u001b[2m\u001b[36m(DefaultActor pid=1602)\u001b[0m selected images size:  50\n",
            "\u001b[2m\u001b[36m(DefaultActor pid=1602)\u001b[0m output size:  256\n",
            "\u001b[2m\u001b[36m(DefaultActor pid=1602)\u001b[0m selected images size:  38\n",
            "\u001b[2m\u001b[36m(DefaultActor pid=1602)\u001b[0m output size:  101\n",
            "\u001b[2m\u001b[36m(DefaultActor pid=1602)\u001b[0m selected images size:  14\n",
            "\u001b[2m\u001b[36m(DefaultActor pid=1602)\u001b[0m output size:  256\n",
            "\u001b[2m\u001b[36m(DefaultActor pid=1602)\u001b[0m selected images size:  38\n",
            "\u001b[2m\u001b[36m(DefaultActor pid=1602)\u001b[0m output size:  256\n",
            "\u001b[2m\u001b[36m(DefaultActor pid=1602)\u001b[0m selected images size:  37\n",
            "\u001b[2m\u001b[36m(DefaultActor pid=1602)\u001b[0m output size:  256\n",
            "\u001b[2m\u001b[36m(DefaultActor pid=1602)\u001b[0m selected images size:  34\n",
            "\u001b[2m\u001b[36m(DefaultActor pid=1602)\u001b[0m output size:  256\n",
            "\u001b[2m\u001b[36m(DefaultActor pid=1602)\u001b[0m selected images size:  46\n",
            "\u001b[2m\u001b[36m(DefaultActor pid=1602)\u001b[0m output size:  256\n",
            "\u001b[2m\u001b[36m(DefaultActor pid=1602)\u001b[0m selected images size:  48\n",
            "\u001b[2m\u001b[36m(DefaultActor pid=1602)\u001b[0m output size:  256\n",
            "\u001b[2m\u001b[36m(DefaultActor pid=1602)\u001b[0m selected images size:  48\n",
            "\u001b[2m\u001b[36m(DefaultActor pid=1602)\u001b[0m output size:  101\n",
            "\u001b[2m\u001b[36m(DefaultActor pid=1602)\u001b[0m selected images size:  25\n"
          ]
        },
        {
          "output_type": "stream",
          "name": "stderr",
          "text": [
            "DEBUG flwr 2024-01-20 15:19:18,989 | server.py:236 | fit_round 24 received 10 results and 0 failures\n",
            "DEBUG:flwr:fit_round 24 received 10 results and 0 failures\n"
          ]
        },
        {
          "output_type": "stream",
          "name": "stdout",
          "text": [
            "Saving round 24 aggregated_parameters...\n"
          ]
        },
        {
          "output_type": "stream",
          "name": "stderr",
          "text": [
            "INFO flwr 2024-01-20 15:19:36,018 | server.py:125 | fit progress: (24, 296.4391918182373, {'accuracy': 0.1937984496124031}, 3490.601724169)\n",
            "INFO:flwr:fit progress: (24, 296.4391918182373, {'accuracy': 0.1937984496124031}, 3490.601724169)\n",
            "DEBUG flwr 2024-01-20 15:19:36,022 | server.py:173 | evaluate_round 24: strategy sampled 10 clients (out of 33)\n",
            "DEBUG:flwr:evaluate_round 24: strategy sampled 10 clients (out of 33)\n"
          ]
        },
        {
          "output_type": "stream",
          "name": "stdout",
          "text": [
            "GLOBAL TEST\n"
          ]
        },
        {
          "output_type": "stream",
          "name": "stderr",
          "text": [
            "DEBUG flwr 2024-01-20 15:19:40,707 | server.py:187 | evaluate_round 24 received 10 results and 0 failures\n",
            "DEBUG:flwr:evaluate_round 24 received 10 results and 0 failures\n",
            "DEBUG flwr 2024-01-20 15:19:40,710 | server.py:222 | fit_round 25: strategy sampled 10 clients (out of 33)\n",
            "DEBUG:flwr:fit_round 25: strategy sampled 10 clients (out of 33)\n",
            "DEBUG flwr 2024-01-20 15:21:03,704 | server.py:236 | fit_round 25 received 10 results and 0 failures\n",
            "DEBUG:flwr:fit_round 25 received 10 results and 0 failures\n"
          ]
        },
        {
          "output_type": "stream",
          "name": "stdout",
          "text": [
            "Saving round 25 aggregated_parameters...\n"
          ]
        },
        {
          "output_type": "stream",
          "name": "stderr",
          "text": [
            "INFO flwr 2024-01-20 15:21:20,905 | server.py:125 | fit progress: (25, 296.4511944055557, {'accuracy': 0.1937984496124031}, 3595.4887568120002)\n",
            "INFO:flwr:fit progress: (25, 296.4511944055557, {'accuracy': 0.1937984496124031}, 3595.4887568120002)\n",
            "DEBUG flwr 2024-01-20 15:21:20,909 | server.py:173 | evaluate_round 25: strategy sampled 10 clients (out of 33)\n",
            "DEBUG:flwr:evaluate_round 25: strategy sampled 10 clients (out of 33)\n"
          ]
        },
        {
          "output_type": "stream",
          "name": "stdout",
          "text": [
            "GLOBAL TEST\n"
          ]
        },
        {
          "output_type": "stream",
          "name": "stderr",
          "text": [
            "DEBUG flwr 2024-01-20 15:21:24,653 | server.py:187 | evaluate_round 25 received 10 results and 0 failures\n",
            "DEBUG:flwr:evaluate_round 25 received 10 results and 0 failures\n",
            "DEBUG flwr 2024-01-20 15:21:24,656 | server.py:222 | fit_round 26: strategy sampled 10 clients (out of 33)\n",
            "DEBUG:flwr:fit_round 26: strategy sampled 10 clients (out of 33)\n"
          ]
        },
        {
          "output_type": "stream",
          "name": "stdout",
          "text": [
            "\u001b[2m\u001b[36m(DefaultActor pid=1602)\u001b[0m ATTACKER\n",
            "\u001b[2m\u001b[36m(DefaultActor pid=1602)\u001b[0m output size:  256\n",
            "\u001b[2m\u001b[36m(DefaultActor pid=1602)\u001b[0m selected images size:  1\n",
            "\u001b[2m\u001b[36m(DefaultActor pid=1602)\u001b[0m output size:  256\n",
            "\u001b[2m\u001b[36m(DefaultActor pid=1602)\u001b[0m selected images size:  8\n",
            "\u001b[2m\u001b[36m(DefaultActor pid=1602)\u001b[0m output size:  256\n",
            "\u001b[2m\u001b[36m(DefaultActor pid=1602)\u001b[0m selected images size:  30\n",
            "\u001b[2m\u001b[36m(DefaultActor pid=1602)\u001b[0m output size:  256\n",
            "\u001b[2m\u001b[36m(DefaultActor pid=1602)\u001b[0m selected images size:  38\n",
            "\u001b[2m\u001b[36m(DefaultActor pid=1602)\u001b[0m output size:  256\n",
            "\u001b[2m\u001b[36m(DefaultActor pid=1602)\u001b[0m selected images size:  74\n",
            "\u001b[2m\u001b[36m(DefaultActor pid=1602)\u001b[0m output size:  101\n",
            "\u001b[2m\u001b[36m(DefaultActor pid=1602)\u001b[0m selected images size:  18\n",
            "\u001b[2m\u001b[36m(DefaultActor pid=1602)\u001b[0m output size:  256\n",
            "\u001b[2m\u001b[36m(DefaultActor pid=1602)\u001b[0m selected images size:  50\n",
            "\u001b[2m\u001b[36m(DefaultActor pid=1602)\u001b[0m output size:  256\n",
            "\u001b[2m\u001b[36m(DefaultActor pid=1602)\u001b[0m selected images size:  16\n",
            "\u001b[2m\u001b[36m(DefaultActor pid=1602)\u001b[0m output size:  256\n",
            "\u001b[2m\u001b[36m(DefaultActor pid=1602)\u001b[0m selected images size:  13\n",
            "\u001b[2m\u001b[36m(DefaultActor pid=1602)\u001b[0m output size:  256\n",
            "\u001b[2m\u001b[36m(DefaultActor pid=1602)\u001b[0m selected images size:  8\n",
            "\u001b[2m\u001b[36m(DefaultActor pid=1602)\u001b[0m output size:  256\n",
            "\u001b[2m\u001b[36m(DefaultActor pid=1602)\u001b[0m selected images size:  2\n",
            "\u001b[2m\u001b[36m(DefaultActor pid=1602)\u001b[0m output size:  256\n",
            "\u001b[2m\u001b[36m(DefaultActor pid=1602)\u001b[0m selected images size:  6\n",
            "\u001b[2m\u001b[36m(DefaultActor pid=1602)\u001b[0m output size:  101\n",
            "\u001b[2m\u001b[36m(DefaultActor pid=1602)\u001b[0m selected images size:  1\n",
            "\u001b[2m\u001b[36m(DefaultActor pid=1602)\u001b[0m output size:  256\n",
            "\u001b[2m\u001b[36m(DefaultActor pid=1602)\u001b[0m selected images size:  3\n",
            "\u001b[2m\u001b[36m(DefaultActor pid=1602)\u001b[0m output size:  256\n",
            "\u001b[2m\u001b[36m(DefaultActor pid=1602)\u001b[0m selected images size:  1\n",
            "\u001b[2m\u001b[36m(DefaultActor pid=1602)\u001b[0m output size:  256\n",
            "\u001b[2m\u001b[36m(DefaultActor pid=1602)\u001b[0m selected images size:  2\n",
            "\u001b[2m\u001b[36m(DefaultActor pid=1602)\u001b[0m output size:  256\n",
            "\u001b[2m\u001b[36m(DefaultActor pid=1602)\u001b[0m selected images size:  1\n",
            "\u001b[2m\u001b[36m(DefaultActor pid=1602)\u001b[0m output size:  256\n",
            "\u001b[2m\u001b[36m(DefaultActor pid=1602)\u001b[0m selected images size:  3\n",
            "\u001b[2m\u001b[36m(DefaultActor pid=1602)\u001b[0m output size:  256\n",
            "\u001b[2m\u001b[36m(DefaultActor pid=1602)\u001b[0m selected images size:  3\n",
            "\u001b[2m\u001b[36m(DefaultActor pid=1602)\u001b[0m output size:  101\n",
            "\u001b[2m\u001b[36m(DefaultActor pid=1602)\u001b[0m selected images size:  1\n",
            "\u001b[2m\u001b[36m(DefaultActor pid=1602)\u001b[0m output size:  256\n",
            "\u001b[2m\u001b[36m(DefaultActor pid=1602)\u001b[0m selected images size:  2\n",
            "\u001b[2m\u001b[36m(DefaultActor pid=1602)\u001b[0m output size:  256\n",
            "\u001b[2m\u001b[36m(DefaultActor pid=1602)\u001b[0m selected images size:  4\n",
            "\u001b[2m\u001b[36m(DefaultActor pid=1602)\u001b[0m output size:  256\n",
            "\u001b[2m\u001b[36m(DefaultActor pid=1602)\u001b[0m selected images size:  4\n",
            "\u001b[2m\u001b[36m(DefaultActor pid=1602)\u001b[0m output size:  256\n",
            "\u001b[2m\u001b[36m(DefaultActor pid=1602)\u001b[0m selected images size:  8\n",
            "\u001b[2m\u001b[36m(DefaultActor pid=1602)\u001b[0m output size:  256\n",
            "\u001b[2m\u001b[36m(DefaultActor pid=1602)\u001b[0m selected images size:  7\n",
            "\u001b[2m\u001b[36m(DefaultActor pid=1602)\u001b[0m output size:  101\n",
            "\u001b[2m\u001b[36m(DefaultActor pid=1602)\u001b[0m selected images size:  3\n",
            "\u001b[2m\u001b[36m(DefaultActor pid=1602)\u001b[0m output size:  256\n",
            "\u001b[2m\u001b[36m(DefaultActor pid=1602)\u001b[0m selected images size:  14\n",
            "\u001b[2m\u001b[36m(DefaultActor pid=1602)\u001b[0m output size:  256\n",
            "\u001b[2m\u001b[36m(DefaultActor pid=1602)\u001b[0m selected images size:  6\n",
            "\u001b[2m\u001b[36m(DefaultActor pid=1602)\u001b[0m output size:  256\n",
            "\u001b[2m\u001b[36m(DefaultActor pid=1602)\u001b[0m selected images size:  21\n",
            "\u001b[2m\u001b[36m(DefaultActor pid=1602)\u001b[0m output size:  256\n",
            "\u001b[2m\u001b[36m(DefaultActor pid=1602)\u001b[0m selected images size:  13\n",
            "\u001b[2m\u001b[36m(DefaultActor pid=1602)\u001b[0m output size:  256\n",
            "\u001b[2m\u001b[36m(DefaultActor pid=1602)\u001b[0m selected images size:  12\n",
            "\u001b[2m\u001b[36m(DefaultActor pid=1602)\u001b[0m output size:  256\n",
            "\u001b[2m\u001b[36m(DefaultActor pid=1602)\u001b[0m selected images size:  11\n",
            "\u001b[2m\u001b[36m(DefaultActor pid=1602)\u001b[0m output size:  101\n",
            "\u001b[2m\u001b[36m(DefaultActor pid=1602)\u001b[0m selected images size:  13\n",
            "\u001b[2m\u001b[36m(DefaultActor pid=1602)\u001b[0m output size:  256\n",
            "\u001b[2m\u001b[36m(DefaultActor pid=1602)\u001b[0m selected images size:  30\n",
            "\u001b[2m\u001b[36m(DefaultActor pid=1602)\u001b[0m output size:  256\n",
            "\u001b[2m\u001b[36m(DefaultActor pid=1602)\u001b[0m selected images size:  32\n",
            "\u001b[2m\u001b[36m(DefaultActor pid=1602)\u001b[0m output size:  256\n",
            "\u001b[2m\u001b[36m(DefaultActor pid=1602)\u001b[0m selected images size:  34\n",
            "\u001b[2m\u001b[36m(DefaultActor pid=1602)\u001b[0m output size:  256\n",
            "\u001b[2m\u001b[36m(DefaultActor pid=1602)\u001b[0m selected images size:  15\n",
            "\u001b[2m\u001b[36m(DefaultActor pid=1602)\u001b[0m output size:  256\n",
            "\u001b[2m\u001b[36m(DefaultActor pid=1602)\u001b[0m selected images size:  9\n",
            "\u001b[2m\u001b[36m(DefaultActor pid=1602)\u001b[0m output size:  256\n",
            "\u001b[2m\u001b[36m(DefaultActor pid=1602)\u001b[0m selected images size:  3\n",
            "\u001b[2m\u001b[36m(DefaultActor pid=1602)\u001b[0m output size:  101\n",
            "\u001b[2m\u001b[36m(DefaultActor pid=1602)\u001b[0m selected images size:  1\n",
            "\u001b[2m\u001b[36m(DefaultActor pid=1602)\u001b[0m output size:  256\n",
            "\u001b[2m\u001b[36m(DefaultActor pid=1602)\u001b[0m selected images size:  6\n",
            "\u001b[2m\u001b[36m(DefaultActor pid=1602)\u001b[0m output size:  256\n",
            "\u001b[2m\u001b[36m(DefaultActor pid=1602)\u001b[0m selected images size:  3\n",
            "\u001b[2m\u001b[36m(DefaultActor pid=1602)\u001b[0m output size:  256\n",
            "\u001b[2m\u001b[36m(DefaultActor pid=1602)\u001b[0m selected images size:  3\n",
            "\u001b[2m\u001b[36m(DefaultActor pid=1602)\u001b[0m output size:  256\n",
            "\u001b[2m\u001b[36m(DefaultActor pid=1602)\u001b[0m selected images size:  11\n",
            "\u001b[2m\u001b[36m(DefaultActor pid=1602)\u001b[0m output size:  256\n",
            "\u001b[2m\u001b[36m(DefaultActor pid=1602)\u001b[0m selected images size:  11\n",
            "\u001b[2m\u001b[36m(DefaultActor pid=1602)\u001b[0m output size:  256\n",
            "\u001b[2m\u001b[36m(DefaultActor pid=1602)\u001b[0m selected images size:  11\n",
            "\u001b[2m\u001b[36m(DefaultActor pid=1602)\u001b[0m output size:  101\n",
            "\u001b[2m\u001b[36m(DefaultActor pid=1602)\u001b[0m selected images size:  9\n",
            "\u001b[2m\u001b[36m(DefaultActor pid=1602)\u001b[0m output size:  256\n",
            "\u001b[2m\u001b[36m(DefaultActor pid=1602)\u001b[0m selected images size:  24\n",
            "\u001b[2m\u001b[36m(DefaultActor pid=1602)\u001b[0m output size:  256\n",
            "\u001b[2m\u001b[36m(DefaultActor pid=1602)\u001b[0m selected images size:  31\n",
            "\u001b[2m\u001b[36m(DefaultActor pid=1602)\u001b[0m output size:  256\n",
            "\u001b[2m\u001b[36m(DefaultActor pid=1602)\u001b[0m selected images size:  47\n",
            "\u001b[2m\u001b[36m(DefaultActor pid=1602)\u001b[0m output size:  256\n",
            "\u001b[2m\u001b[36m(DefaultActor pid=1602)\u001b[0m selected images size:  52\n",
            "\u001b[2m\u001b[36m(DefaultActor pid=1602)\u001b[0m output size:  256\n",
            "\u001b[2m\u001b[36m(DefaultActor pid=1602)\u001b[0m selected images size:  46\n",
            "\u001b[2m\u001b[36m(DefaultActor pid=1602)\u001b[0m output size:  256\n",
            "\u001b[2m\u001b[36m(DefaultActor pid=1602)\u001b[0m selected images size:  70\n",
            "\u001b[2m\u001b[36m(DefaultActor pid=1602)\u001b[0m output size:  101\n",
            "\u001b[2m\u001b[36m(DefaultActor pid=1602)\u001b[0m selected images size:  25\n",
            "\u001b[2m\u001b[36m(DefaultActor pid=1602)\u001b[0m output size:  256\n",
            "\u001b[2m\u001b[36m(DefaultActor pid=1602)\u001b[0m selected images size:  70\n",
            "\u001b[2m\u001b[36m(DefaultActor pid=1602)\u001b[0m output size:  256\n",
            "\u001b[2m\u001b[36m(DefaultActor pid=1602)\u001b[0m selected images size:  65\n",
            "\u001b[2m\u001b[36m(DefaultActor pid=1602)\u001b[0m output size:  256\n",
            "\u001b[2m\u001b[36m(DefaultActor pid=1602)\u001b[0m selected images size:  57\n",
            "\u001b[2m\u001b[36m(DefaultActor pid=1602)\u001b[0m output size:  256\n",
            "\u001b[2m\u001b[36m(DefaultActor pid=1602)\u001b[0m selected images size:  93\n",
            "\u001b[2m\u001b[36m(DefaultActor pid=1602)\u001b[0m output size:  256\n",
            "\u001b[2m\u001b[36m(DefaultActor pid=1602)\u001b[0m selected images size:  70\n",
            "\u001b[2m\u001b[36m(DefaultActor pid=1602)\u001b[0m output size:  256\n",
            "\u001b[2m\u001b[36m(DefaultActor pid=1602)\u001b[0m selected images size:  88\n",
            "\u001b[2m\u001b[36m(DefaultActor pid=1602)\u001b[0m output size:  101\n",
            "\u001b[2m\u001b[36m(DefaultActor pid=1602)\u001b[0m selected images size:  32\n",
            "\u001b[2m\u001b[36m(DefaultActor pid=1602)\u001b[0m output size:  256\n",
            "\u001b[2m\u001b[36m(DefaultActor pid=1602)\u001b[0m selected images size:  85\n",
            "\u001b[2m\u001b[36m(DefaultActor pid=1602)\u001b[0m output size:  256\n",
            "\u001b[2m\u001b[36m(DefaultActor pid=1602)\u001b[0m selected images size:  61\n",
            "\u001b[2m\u001b[36m(DefaultActor pid=1602)\u001b[0m output size:  256\n",
            "\u001b[2m\u001b[36m(DefaultActor pid=1602)\u001b[0m selected images size:  30\n",
            "\u001b[2m\u001b[36m(DefaultActor pid=1602)\u001b[0m output size:  256\n",
            "\u001b[2m\u001b[36m(DefaultActor pid=1602)\u001b[0m selected images size:  20\n",
            "\u001b[2m\u001b[36m(DefaultActor pid=1602)\u001b[0m output size:  256\n",
            "\u001b[2m\u001b[36m(DefaultActor pid=1602)\u001b[0m selected images size:  15\n",
            "\u001b[2m\u001b[36m(DefaultActor pid=1602)\u001b[0m output size:  256\n",
            "\u001b[2m\u001b[36m(DefaultActor pid=1602)\u001b[0m selected images size:  27\n",
            "\u001b[2m\u001b[36m(DefaultActor pid=1602)\u001b[0m output size:  101\n",
            "\u001b[2m\u001b[36m(DefaultActor pid=1602)\u001b[0m selected images size:  18\n",
            "\u001b[2m\u001b[36m(DefaultActor pid=1602)\u001b[0m output size:  256\n",
            "\u001b[2m\u001b[36m(DefaultActor pid=1602)\u001b[0m selected images size:  58\n",
            "\u001b[2m\u001b[36m(DefaultActor pid=1602)\u001b[0m output size:  256\n",
            "\u001b[2m\u001b[36m(DefaultActor pid=1602)\u001b[0m selected images size:  67\n",
            "\u001b[2m\u001b[36m(DefaultActor pid=1602)\u001b[0m output size:  256\n",
            "\u001b[2m\u001b[36m(DefaultActor pid=1602)\u001b[0m selected images size:  93\n",
            "\u001b[2m\u001b[36m(DefaultActor pid=1602)\u001b[0m output size:  256\n",
            "\u001b[2m\u001b[36m(DefaultActor pid=1602)\u001b[0m selected images size:  77\n",
            "\u001b[2m\u001b[36m(DefaultActor pid=1602)\u001b[0m output size:  256\n",
            "\u001b[2m\u001b[36m(DefaultActor pid=1602)\u001b[0m selected images size:  92\n",
            "\u001b[2m\u001b[36m(DefaultActor pid=1602)\u001b[0m output size:  256\n",
            "\u001b[2m\u001b[36m(DefaultActor pid=1602)\u001b[0m selected images size:  83\n",
            "\u001b[2m\u001b[36m(DefaultActor pid=1602)\u001b[0m output size:  101\n",
            "\u001b[2m\u001b[36m(DefaultActor pid=1602)\u001b[0m selected images size:  24\n",
            "\u001b[2m\u001b[36m(DefaultActor pid=1602)\u001b[0m ATTACKER\n",
            "\u001b[2m\u001b[36m(DefaultActor pid=1602)\u001b[0m output size:  256\n",
            "\u001b[2m\u001b[36m(DefaultActor pid=1602)\u001b[0m selected images size:  1\n",
            "\u001b[2m\u001b[36m(DefaultActor pid=1602)\u001b[0m output size:  256\n",
            "\u001b[2m\u001b[36m(DefaultActor pid=1602)\u001b[0m selected images size:  1\n",
            "\u001b[2m\u001b[36m(DefaultActor pid=1602)\u001b[0m output size:  256\n",
            "\u001b[2m\u001b[36m(DefaultActor pid=1602)\u001b[0m selected images size:  1\n",
            "\u001b[2m\u001b[36m(DefaultActor pid=1602)\u001b[0m output size:  256\n",
            "\u001b[2m\u001b[36m(DefaultActor pid=1602)\u001b[0m selected images size:  1\n",
            "\u001b[2m\u001b[36m(DefaultActor pid=1602)\u001b[0m output size:  256\n",
            "\u001b[2m\u001b[36m(DefaultActor pid=1602)\u001b[0m selected images size:  3\n",
            "\u001b[2m\u001b[36m(DefaultActor pid=1602)\u001b[0m output size:  256\n",
            "\u001b[2m\u001b[36m(DefaultActor pid=1602)\u001b[0m selected images size:  2\n",
            "\u001b[2m\u001b[36m(DefaultActor pid=1602)\u001b[0m output size:  101\n",
            "\u001b[2m\u001b[36m(DefaultActor pid=1602)\u001b[0m selected images size:  5\n",
            "\u001b[2m\u001b[36m(DefaultActor pid=1602)\u001b[0m output size:  256\n",
            "\u001b[2m\u001b[36m(DefaultActor pid=1602)\u001b[0m selected images size:  11\n",
            "\u001b[2m\u001b[36m(DefaultActor pid=1602)\u001b[0m output size:  256\n",
            "\u001b[2m\u001b[36m(DefaultActor pid=1602)\u001b[0m selected images size:  7\n",
            "\u001b[2m\u001b[36m(DefaultActor pid=1602)\u001b[0m output size:  256\n",
            "\u001b[2m\u001b[36m(DefaultActor pid=1602)\u001b[0m selected images size:  7\n",
            "\u001b[2m\u001b[36m(DefaultActor pid=1602)\u001b[0m output size:  256\n",
            "\u001b[2m\u001b[36m(DefaultActor pid=1602)\u001b[0m selected images size:  13\n",
            "\u001b[2m\u001b[36m(DefaultActor pid=1602)\u001b[0m output size:  256\n",
            "\u001b[2m\u001b[36m(DefaultActor pid=1602)\u001b[0m selected images size:  15\n",
            "\u001b[2m\u001b[36m(DefaultActor pid=1602)\u001b[0m output size:  256\n",
            "\u001b[2m\u001b[36m(DefaultActor pid=1602)\u001b[0m selected images size:  16\n",
            "\u001b[2m\u001b[36m(DefaultActor pid=1602)\u001b[0m output size:  101\n",
            "\u001b[2m\u001b[36m(DefaultActor pid=1602)\u001b[0m selected images size:  6\n",
            "\u001b[2m\u001b[36m(DefaultActor pid=1602)\u001b[0m output size:  256\n",
            "\u001b[2m\u001b[36m(DefaultActor pid=1602)\u001b[0m selected images size:  28\n",
            "\u001b[2m\u001b[36m(DefaultActor pid=1602)\u001b[0m output size:  256\n",
            "\u001b[2m\u001b[36m(DefaultActor pid=1602)\u001b[0m selected images size:  34\n",
            "\u001b[2m\u001b[36m(DefaultActor pid=1602)\u001b[0m output size:  256\n",
            "\u001b[2m\u001b[36m(DefaultActor pid=1602)\u001b[0m selected images size:  37\n",
            "\u001b[2m\u001b[36m(DefaultActor pid=1602)\u001b[0m output size:  256\n",
            "\u001b[2m\u001b[36m(DefaultActor pid=1602)\u001b[0m selected images size:  38\n",
            "\u001b[2m\u001b[36m(DefaultActor pid=1602)\u001b[0m output size:  256\n",
            "\u001b[2m\u001b[36m(DefaultActor pid=1602)\u001b[0m selected images size:  38\n",
            "\u001b[2m\u001b[36m(DefaultActor pid=1602)\u001b[0m output size:  256\n",
            "\u001b[2m\u001b[36m(DefaultActor pid=1602)\u001b[0m selected images size:  29\n",
            "\u001b[2m\u001b[36m(DefaultActor pid=1602)\u001b[0m output size:  101\n",
            "\u001b[2m\u001b[36m(DefaultActor pid=1602)\u001b[0m selected images size:  12\n"
          ]
        },
        {
          "output_type": "stream",
          "name": "stderr",
          "text": [
            "DEBUG flwr 2024-01-20 15:24:24,490 | server.py:236 | fit_round 26 received 10 results and 0 failures\n",
            "DEBUG:flwr:fit_round 26 received 10 results and 0 failures\n"
          ]
        },
        {
          "output_type": "stream",
          "name": "stdout",
          "text": [
            "Saving round 26 aggregated_parameters...\n"
          ]
        },
        {
          "output_type": "stream",
          "name": "stderr",
          "text": [
            "INFO flwr 2024-01-20 15:24:41,433 | server.py:125 | fit progress: (26, 296.40877425670624, {'accuracy': 0.29069767441860467}, 3796.0159334770005)\n",
            "INFO:flwr:fit progress: (26, 296.40877425670624, {'accuracy': 0.29069767441860467}, 3796.0159334770005)\n",
            "DEBUG flwr 2024-01-20 15:24:41,437 | server.py:173 | evaluate_round 26: strategy sampled 10 clients (out of 33)\n",
            "DEBUG:flwr:evaluate_round 26: strategy sampled 10 clients (out of 33)\n"
          ]
        },
        {
          "output_type": "stream",
          "name": "stdout",
          "text": [
            "GLOBAL TEST\n"
          ]
        },
        {
          "output_type": "stream",
          "name": "stderr",
          "text": [
            "DEBUG flwr 2024-01-20 15:24:45,490 | server.py:187 | evaluate_round 26 received 10 results and 0 failures\n",
            "DEBUG:flwr:evaluate_round 26 received 10 results and 0 failures\n",
            "DEBUG flwr 2024-01-20 15:24:45,494 | server.py:222 | fit_round 27: strategy sampled 10 clients (out of 33)\n",
            "DEBUG:flwr:fit_round 27: strategy sampled 10 clients (out of 33)\n",
            "DEBUG flwr 2024-01-20 15:26:07,979 | server.py:236 | fit_round 27 received 10 results and 0 failures\n",
            "DEBUG:flwr:fit_round 27 received 10 results and 0 failures\n"
          ]
        },
        {
          "output_type": "stream",
          "name": "stdout",
          "text": [
            "Saving round 27 aggregated_parameters...\n"
          ]
        },
        {
          "output_type": "stream",
          "name": "stderr",
          "text": [
            "INFO flwr 2024-01-20 15:26:24,327 | server.py:125 | fit progress: (27, 296.2999370098114, {'accuracy': 0.29069767441860467}, 3898.909966131)\n",
            "INFO:flwr:fit progress: (27, 296.2999370098114, {'accuracy': 0.29069767441860467}, 3898.909966131)\n",
            "DEBUG flwr 2024-01-20 15:26:24,330 | server.py:173 | evaluate_round 27: strategy sampled 10 clients (out of 33)\n",
            "DEBUG:flwr:evaluate_round 27: strategy sampled 10 clients (out of 33)\n"
          ]
        },
        {
          "output_type": "stream",
          "name": "stdout",
          "text": [
            "GLOBAL TEST\n"
          ]
        },
        {
          "output_type": "stream",
          "name": "stderr",
          "text": [
            "DEBUG flwr 2024-01-20 15:26:28,049 | server.py:187 | evaluate_round 27 received 10 results and 0 failures\n",
            "DEBUG:flwr:evaluate_round 27 received 10 results and 0 failures\n",
            "DEBUG flwr 2024-01-20 15:26:28,052 | server.py:222 | fit_round 28: strategy sampled 10 clients (out of 33)\n",
            "DEBUG:flwr:fit_round 28: strategy sampled 10 clients (out of 33)\n"
          ]
        },
        {
          "output_type": "stream",
          "name": "stdout",
          "text": [
            "\u001b[2m\u001b[36m(DefaultActor pid=1602)\u001b[0m ATTACKER\n",
            "\u001b[2m\u001b[36m(DefaultActor pid=1602)\u001b[0m output size:  256\n",
            "\u001b[2m\u001b[36m(DefaultActor pid=1602)\u001b[0m selected images size:  1\n",
            "\u001b[2m\u001b[36m(DefaultActor pid=1602)\u001b[0m output size:  256\n",
            "\u001b[2m\u001b[36m(DefaultActor pid=1602)\u001b[0m selected images size:  1\n",
            "\u001b[2m\u001b[36m(DefaultActor pid=1602)\u001b[0m ATTACKER\n",
            "\u001b[2m\u001b[36m(DefaultActor pid=1602)\u001b[0m output size:  256\n",
            "\u001b[2m\u001b[36m(DefaultActor pid=1602)\u001b[0m selected images size:  1\n",
            "\u001b[2m\u001b[36m(DefaultActor pid=1602)\u001b[0m output size:  256\n",
            "\u001b[2m\u001b[36m(DefaultActor pid=1602)\u001b[0m selected images size:  1\n",
            "\u001b[2m\u001b[36m(DefaultActor pid=1602)\u001b[0m output size:  256\n",
            "\u001b[2m\u001b[36m(DefaultActor pid=1602)\u001b[0m selected images size:  3\n",
            "\u001b[2m\u001b[36m(DefaultActor pid=1602)\u001b[0m output size:  256\n",
            "\u001b[2m\u001b[36m(DefaultActor pid=1602)\u001b[0m selected images size:  8\n",
            "\u001b[2m\u001b[36m(DefaultActor pid=1602)\u001b[0m output size:  101\n",
            "\u001b[2m\u001b[36m(DefaultActor pid=1602)\u001b[0m selected images size:  5\n",
            "\u001b[2m\u001b[36m(DefaultActor pid=1602)\u001b[0m output size:  256\n",
            "\u001b[2m\u001b[36m(DefaultActor pid=1602)\u001b[0m selected images size:  8\n",
            "\u001b[2m\u001b[36m(DefaultActor pid=1602)\u001b[0m output size:  256\n",
            "\u001b[2m\u001b[36m(DefaultActor pid=1602)\u001b[0m selected images size:  10\n",
            "\u001b[2m\u001b[36m(DefaultActor pid=1602)\u001b[0m output size:  256\n",
            "\u001b[2m\u001b[36m(DefaultActor pid=1602)\u001b[0m selected images size:  7\n",
            "\u001b[2m\u001b[36m(DefaultActor pid=1602)\u001b[0m output size:  256\n",
            "\u001b[2m\u001b[36m(DefaultActor pid=1602)\u001b[0m selected images size:  11\n",
            "\u001b[2m\u001b[36m(DefaultActor pid=1602)\u001b[0m output size:  256\n",
            "\u001b[2m\u001b[36m(DefaultActor pid=1602)\u001b[0m selected images size:  10\n",
            "\u001b[2m\u001b[36m(DefaultActor pid=1602)\u001b[0m output size:  256\n",
            "\u001b[2m\u001b[36m(DefaultActor pid=1602)\u001b[0m selected images size:  6\n",
            "\u001b[2m\u001b[36m(DefaultActor pid=1602)\u001b[0m output size:  101\n",
            "\u001b[2m\u001b[36m(DefaultActor pid=1602)\u001b[0m selected images size:  1\n",
            "\u001b[2m\u001b[36m(DefaultActor pid=1602)\u001b[0m output size:  256\n",
            "\u001b[2m\u001b[36m(DefaultActor pid=1602)\u001b[0m selected images size:  14\n",
            "\u001b[2m\u001b[36m(DefaultActor pid=1602)\u001b[0m output size:  256\n",
            "\u001b[2m\u001b[36m(DefaultActor pid=1602)\u001b[0m selected images size:  9\n",
            "\u001b[2m\u001b[36m(DefaultActor pid=1602)\u001b[0m output size:  256\n",
            "\u001b[2m\u001b[36m(DefaultActor pid=1602)\u001b[0m selected images size:  20\n",
            "\u001b[2m\u001b[36m(DefaultActor pid=1602)\u001b[0m output size:  256\n",
            "\u001b[2m\u001b[36m(DefaultActor pid=1602)\u001b[0m selected images size:  16\n",
            "\u001b[2m\u001b[36m(DefaultActor pid=1602)\u001b[0m output size:  256\n",
            "\u001b[2m\u001b[36m(DefaultActor pid=1602)\u001b[0m selected images size:  12\n",
            "\u001b[2m\u001b[36m(DefaultActor pid=1602)\u001b[0m output size:  256\n",
            "\u001b[2m\u001b[36m(DefaultActor pid=1602)\u001b[0m selected images size:  4\n",
            "\u001b[2m\u001b[36m(DefaultActor pid=1602)\u001b[0m output size:  256\n",
            "\u001b[2m\u001b[36m(DefaultActor pid=1602)\u001b[0m selected images size:  5\n",
            "\u001b[2m\u001b[36m(DefaultActor pid=1602)\u001b[0m output size:  256\n",
            "\u001b[2m\u001b[36m(DefaultActor pid=1602)\u001b[0m selected images size:  4\n",
            "\u001b[2m\u001b[36m(DefaultActor pid=1602)\u001b[0m output size:  256\n",
            "\u001b[2m\u001b[36m(DefaultActor pid=1602)\u001b[0m selected images size:  2\n",
            "\u001b[2m\u001b[36m(DefaultActor pid=1602)\u001b[0m output size:  256\n",
            "\u001b[2m\u001b[36m(DefaultActor pid=1602)\u001b[0m selected images size:  4\n",
            "\u001b[2m\u001b[36m(DefaultActor pid=1602)\u001b[0m output size:  256\n",
            "\u001b[2m\u001b[36m(DefaultActor pid=1602)\u001b[0m selected images size:  2\n",
            "\u001b[2m\u001b[36m(DefaultActor pid=1602)\u001b[0m output size:  256\n",
            "\u001b[2m\u001b[36m(DefaultActor pid=1602)\u001b[0m selected images size:  1\n",
            "\u001b[2m\u001b[36m(DefaultActor pid=1602)\u001b[0m output size:  256\n",
            "\u001b[2m\u001b[36m(DefaultActor pid=1602)\u001b[0m selected images size:  2\n",
            "\u001b[2m\u001b[36m(DefaultActor pid=1602)\u001b[0m output size:  256\n",
            "\u001b[2m\u001b[36m(DefaultActor pid=1602)\u001b[0m selected images size:  3\n",
            "\u001b[2m\u001b[36m(DefaultActor pid=1602)\u001b[0m output size:  256\n",
            "\u001b[2m\u001b[36m(DefaultActor pid=1602)\u001b[0m selected images size:  3\n",
            "\u001b[2m\u001b[36m(DefaultActor pid=1602)\u001b[0m output size:  256\n",
            "\u001b[2m\u001b[36m(DefaultActor pid=1602)\u001b[0m selected images size:  8\n",
            "\u001b[2m\u001b[36m(DefaultActor pid=1602)\u001b[0m output size:  101\n",
            "\u001b[2m\u001b[36m(DefaultActor pid=1602)\u001b[0m selected images size:  3\n",
            "\u001b[2m\u001b[36m(DefaultActor pid=1602)\u001b[0m output size:  256\n",
            "\u001b[2m\u001b[36m(DefaultActor pid=1602)\u001b[0m selected images size:  9\n",
            "\u001b[2m\u001b[36m(DefaultActor pid=1602)\u001b[0m output size:  256\n",
            "\u001b[2m\u001b[36m(DefaultActor pid=1602)\u001b[0m selected images size:  17\n",
            "\u001b[2m\u001b[36m(DefaultActor pid=1602)\u001b[0m output size:  256\n",
            "\u001b[2m\u001b[36m(DefaultActor pid=1602)\u001b[0m selected images size:  18\n",
            "\u001b[2m\u001b[36m(DefaultActor pid=1602)\u001b[0m output size:  256\n",
            "\u001b[2m\u001b[36m(DefaultActor pid=1602)\u001b[0m selected images size:  9\n",
            "\u001b[2m\u001b[36m(DefaultActor pid=1602)\u001b[0m output size:  256\n",
            "\u001b[2m\u001b[36m(DefaultActor pid=1602)\u001b[0m selected images size:  11\n",
            "\u001b[2m\u001b[36m(DefaultActor pid=1602)\u001b[0m output size:  256\n",
            "\u001b[2m\u001b[36m(DefaultActor pid=1602)\u001b[0m selected images size:  12\n",
            "\u001b[2m\u001b[36m(DefaultActor pid=1602)\u001b[0m output size:  101\n",
            "\u001b[2m\u001b[36m(DefaultActor pid=1602)\u001b[0m selected images size:  8\n",
            "\u001b[2m\u001b[36m(DefaultActor pid=1602)\u001b[0m output size:  256\n",
            "\u001b[2m\u001b[36m(DefaultActor pid=1602)\u001b[0m selected images size:  25\n",
            "\u001b[2m\u001b[36m(DefaultActor pid=1602)\u001b[0m output size:  256\n",
            "\u001b[2m\u001b[36m(DefaultActor pid=1602)\u001b[0m selected images size:  38\n",
            "\u001b[2m\u001b[36m(DefaultActor pid=1602)\u001b[0m output size:  256\n",
            "\u001b[2m\u001b[36m(DefaultActor pid=1602)\u001b[0m selected images size:  26\n",
            "\u001b[2m\u001b[36m(DefaultActor pid=1602)\u001b[0m output size:  256\n",
            "\u001b[2m\u001b[36m(DefaultActor pid=1602)\u001b[0m selected images size:  48\n",
            "\u001b[2m\u001b[36m(DefaultActor pid=1602)\u001b[0m output size:  256\n",
            "\u001b[2m\u001b[36m(DefaultActor pid=1602)\u001b[0m selected images size:  55\n",
            "\u001b[2m\u001b[36m(DefaultActor pid=1602)\u001b[0m output size:  256\n",
            "\u001b[2m\u001b[36m(DefaultActor pid=1602)\u001b[0m selected images size:  72\n",
            "\u001b[2m\u001b[36m(DefaultActor pid=1602)\u001b[0m output size:  101\n",
            "\u001b[2m\u001b[36m(DefaultActor pid=1602)\u001b[0m selected images size:  12\n",
            "\u001b[2m\u001b[36m(DefaultActor pid=1602)\u001b[0m output size:  256\n",
            "\u001b[2m\u001b[36m(DefaultActor pid=1602)\u001b[0m selected images size:  37\n",
            "\u001b[2m\u001b[36m(DefaultActor pid=1602)\u001b[0m output size:  256\n",
            "\u001b[2m\u001b[36m(DefaultActor pid=1602)\u001b[0m selected images size:  24\n",
            "\u001b[2m\u001b[36m(DefaultActor pid=1602)\u001b[0m output size:  256\n",
            "\u001b[2m\u001b[36m(DefaultActor pid=1602)\u001b[0m selected images size:  24\n",
            "\u001b[2m\u001b[36m(DefaultActor pid=1602)\u001b[0m output size:  256\n",
            "\u001b[2m\u001b[36m(DefaultActor pid=1602)\u001b[0m selected images size:  18\n",
            "\u001b[2m\u001b[36m(DefaultActor pid=1602)\u001b[0m output size:  256\n",
            "\u001b[2m\u001b[36m(DefaultActor pid=1602)\u001b[0m selected images size:  23\n",
            "\u001b[2m\u001b[36m(DefaultActor pid=1602)\u001b[0m output size:  256\n",
            "\u001b[2m\u001b[36m(DefaultActor pid=1602)\u001b[0m selected images size:  35\n",
            "\u001b[2m\u001b[36m(DefaultActor pid=1602)\u001b[0m output size:  101\n",
            "\u001b[2m\u001b[36m(DefaultActor pid=1602)\u001b[0m selected images size:  19\n"
          ]
        },
        {
          "output_type": "stream",
          "name": "stderr",
          "text": [
            "DEBUG flwr 2024-01-20 15:29:25,742 | server.py:236 | fit_round 28 received 10 results and 0 failures\n",
            "DEBUG:flwr:fit_round 28 received 10 results and 0 failures\n"
          ]
        },
        {
          "output_type": "stream",
          "name": "stdout",
          "text": [
            "Saving round 28 aggregated_parameters...\n"
          ]
        },
        {
          "output_type": "stream",
          "name": "stderr",
          "text": [
            "INFO flwr 2024-01-20 15:29:42,118 | server.py:125 | fit progress: (28, 296.2738449573517, {'accuracy': 0.29069767441860467}, 4096.700951691)\n",
            "INFO:flwr:fit progress: (28, 296.2738449573517, {'accuracy': 0.29069767441860467}, 4096.700951691)\n",
            "DEBUG flwr 2024-01-20 15:29:42,121 | server.py:173 | evaluate_round 28: strategy sampled 10 clients (out of 33)\n",
            "DEBUG:flwr:evaluate_round 28: strategy sampled 10 clients (out of 33)\n"
          ]
        },
        {
          "output_type": "stream",
          "name": "stdout",
          "text": [
            "GLOBAL TEST\n"
          ]
        },
        {
          "output_type": "stream",
          "name": "stderr",
          "text": [
            "DEBUG flwr 2024-01-20 15:29:46,215 | server.py:187 | evaluate_round 28 received 10 results and 0 failures\n",
            "DEBUG:flwr:evaluate_round 28 received 10 results and 0 failures\n",
            "DEBUG flwr 2024-01-20 15:29:46,219 | server.py:222 | fit_round 29: strategy sampled 10 clients (out of 33)\n",
            "DEBUG:flwr:fit_round 29: strategy sampled 10 clients (out of 33)\n",
            "DEBUG flwr 2024-01-20 15:31:09,023 | server.py:236 | fit_round 29 received 10 results and 0 failures\n",
            "DEBUG:flwr:fit_round 29 received 10 results and 0 failures\n"
          ]
        },
        {
          "output_type": "stream",
          "name": "stdout",
          "text": [
            "Saving round 29 aggregated_parameters...\n"
          ]
        },
        {
          "output_type": "stream",
          "name": "stderr",
          "text": [
            "INFO flwr 2024-01-20 15:31:25,511 | server.py:125 | fit progress: (29, 296.20259392261505, {'accuracy': 0.29069767441860467}, 4200.094571713)\n",
            "INFO:flwr:fit progress: (29, 296.20259392261505, {'accuracy': 0.29069767441860467}, 4200.094571713)\n",
            "DEBUG flwr 2024-01-20 15:31:25,520 | server.py:173 | evaluate_round 29: strategy sampled 10 clients (out of 33)\n",
            "DEBUG:flwr:evaluate_round 29: strategy sampled 10 clients (out of 33)\n"
          ]
        },
        {
          "output_type": "stream",
          "name": "stdout",
          "text": [
            "GLOBAL TEST\n"
          ]
        },
        {
          "output_type": "stream",
          "name": "stderr",
          "text": [
            "DEBUG flwr 2024-01-20 15:31:29,248 | server.py:187 | evaluate_round 29 received 10 results and 0 failures\n",
            "DEBUG:flwr:evaluate_round 29 received 10 results and 0 failures\n",
            "DEBUG flwr 2024-01-20 15:31:29,250 | server.py:222 | fit_round 30: strategy sampled 10 clients (out of 33)\n",
            "DEBUG:flwr:fit_round 30: strategy sampled 10 clients (out of 33)\n"
          ]
        },
        {
          "output_type": "stream",
          "name": "stdout",
          "text": [
            "\u001b[2m\u001b[36m(DefaultActor pid=1602)\u001b[0m ATTACKER\n",
            "\u001b[2m\u001b[36m(DefaultActor pid=1602)\u001b[0m output size:  256\n",
            "\u001b[2m\u001b[36m(DefaultActor pid=1602)\u001b[0m selected images size:  1\n",
            "\u001b[2m\u001b[36m(DefaultActor pid=1602)\u001b[0m output size:  256\n",
            "\u001b[2m\u001b[36m(DefaultActor pid=1602)\u001b[0m selected images size:  1\n",
            "\u001b[2m\u001b[36m(DefaultActor pid=1602)\u001b[0m output size:  256\n",
            "\u001b[2m\u001b[36m(DefaultActor pid=1602)\u001b[0m selected images size:  5\n",
            "\u001b[2m\u001b[36m(DefaultActor pid=1602)\u001b[0m output size:  256\n",
            "\u001b[2m\u001b[36m(DefaultActor pid=1602)\u001b[0m selected images size:  1\n",
            "\u001b[2m\u001b[36m(DefaultActor pid=1602)\u001b[0m output size:  256\n",
            "\u001b[2m\u001b[36m(DefaultActor pid=1602)\u001b[0m selected images size:  2\n",
            "\u001b[2m\u001b[36m(DefaultActor pid=1602)\u001b[0m output size:  256\n",
            "\u001b[2m\u001b[36m(DefaultActor pid=1602)\u001b[0m selected images size:  4\n",
            "\u001b[2m\u001b[36m(DefaultActor pid=1602)\u001b[0m output size:  101\n",
            "\u001b[2m\u001b[36m(DefaultActor pid=1602)\u001b[0m selected images size:  1\n",
            "\u001b[2m\u001b[36m(DefaultActor pid=1602)\u001b[0m output size:  256\n",
            "\u001b[2m\u001b[36m(DefaultActor pid=1602)\u001b[0m selected images size:  3\n",
            "\u001b[2m\u001b[36m(DefaultActor pid=1602)\u001b[0m output size:  256\n",
            "\u001b[2m\u001b[36m(DefaultActor pid=1602)\u001b[0m selected images size:  13\n",
            "\u001b[2m\u001b[36m(DefaultActor pid=1602)\u001b[0m output size:  256\n",
            "\u001b[2m\u001b[36m(DefaultActor pid=1602)\u001b[0m selected images size:  10\n",
            "\u001b[2m\u001b[36m(DefaultActor pid=1602)\u001b[0m output size:  256\n",
            "\u001b[2m\u001b[36m(DefaultActor pid=1602)\u001b[0m selected images size:  11\n",
            "\u001b[2m\u001b[36m(DefaultActor pid=1602)\u001b[0m output size:  256\n",
            "\u001b[2m\u001b[36m(DefaultActor pid=1602)\u001b[0m selected images size:  15\n",
            "\u001b[2m\u001b[36m(DefaultActor pid=1602)\u001b[0m output size:  256\n",
            "\u001b[2m\u001b[36m(DefaultActor pid=1602)\u001b[0m selected images size:  13\n",
            "\u001b[2m\u001b[36m(DefaultActor pid=1602)\u001b[0m output size:  101\n",
            "\u001b[2m\u001b[36m(DefaultActor pid=1602)\u001b[0m selected images size:  3\n",
            "\u001b[2m\u001b[36m(DefaultActor pid=1602)\u001b[0m output size:  256\n",
            "\u001b[2m\u001b[36m(DefaultActor pid=1602)\u001b[0m selected images size:  18\n",
            "\u001b[2m\u001b[36m(DefaultActor pid=1602)\u001b[0m output size:  256\n",
            "\u001b[2m\u001b[36m(DefaultActor pid=1602)\u001b[0m selected images size:  8\n",
            "\u001b[2m\u001b[36m(DefaultActor pid=1602)\u001b[0m output size:  256\n",
            "\u001b[2m\u001b[36m(DefaultActor pid=1602)\u001b[0m selected images size:  17\n",
            "\u001b[2m\u001b[36m(DefaultActor pid=1602)\u001b[0m output size:  256\n",
            "\u001b[2m\u001b[36m(DefaultActor pid=1602)\u001b[0m selected images size:  22\n",
            "\u001b[2m\u001b[36m(DefaultActor pid=1602)\u001b[0m output size:  256\n",
            "\u001b[2m\u001b[36m(DefaultActor pid=1602)\u001b[0m selected images size:  14\n",
            "\u001b[2m\u001b[36m(DefaultActor pid=1602)\u001b[0m output size:  256\n",
            "\u001b[2m\u001b[36m(DefaultActor pid=1602)\u001b[0m selected images size:  38\n",
            "\u001b[2m\u001b[36m(DefaultActor pid=1602)\u001b[0m output size:  101\n",
            "\u001b[2m\u001b[36m(DefaultActor pid=1602)\u001b[0m selected images size:  10\n",
            "\u001b[2m\u001b[36m(DefaultActor pid=1602)\u001b[0m output size:  256\n",
            "\u001b[2m\u001b[36m(DefaultActor pid=1602)\u001b[0m selected images size:  25\n",
            "\u001b[2m\u001b[36m(DefaultActor pid=1602)\u001b[0m output size:  256\n",
            "\u001b[2m\u001b[36m(DefaultActor pid=1602)\u001b[0m selected images size:  26\n",
            "\u001b[2m\u001b[36m(DefaultActor pid=1602)\u001b[0m output size:  256\n",
            "\u001b[2m\u001b[36m(DefaultActor pid=1602)\u001b[0m selected images size:  24\n",
            "\u001b[2m\u001b[36m(DefaultActor pid=1602)\u001b[0m output size:  256\n",
            "\u001b[2m\u001b[36m(DefaultActor pid=1602)\u001b[0m selected images size:  17\n",
            "\u001b[2m\u001b[36m(DefaultActor pid=1602)\u001b[0m output size:  256\n",
            "\u001b[2m\u001b[36m(DefaultActor pid=1602)\u001b[0m selected images size:  22\n",
            "\u001b[2m\u001b[36m(DefaultActor pid=1602)\u001b[0m output size:  256\n",
            "\u001b[2m\u001b[36m(DefaultActor pid=1602)\u001b[0m selected images size:  23\n",
            "\u001b[2m\u001b[36m(DefaultActor pid=1602)\u001b[0m output size:  101\n",
            "\u001b[2m\u001b[36m(DefaultActor pid=1602)\u001b[0m selected images size:  8\n",
            "\u001b[2m\u001b[36m(DefaultActor pid=1602)\u001b[0m output size:  256\n",
            "\u001b[2m\u001b[36m(DefaultActor pid=1602)\u001b[0m selected images size:  30\n",
            "\u001b[2m\u001b[36m(DefaultActor pid=1602)\u001b[0m output size:  256\n",
            "\u001b[2m\u001b[36m(DefaultActor pid=1602)\u001b[0m selected images size:  32\n",
            "\u001b[2m\u001b[36m(DefaultActor pid=1602)\u001b[0m output size:  256\n",
            "\u001b[2m\u001b[36m(DefaultActor pid=1602)\u001b[0m selected images size:  42\n",
            "\u001b[2m\u001b[36m(DefaultActor pid=1602)\u001b[0m output size:  256\n",
            "\u001b[2m\u001b[36m(DefaultActor pid=1602)\u001b[0m selected images size:  48\n",
            "\u001b[2m\u001b[36m(DefaultActor pid=1602)\u001b[0m output size:  256\n",
            "\u001b[2m\u001b[36m(DefaultActor pid=1602)\u001b[0m selected images size:  43\n",
            "\u001b[2m\u001b[36m(DefaultActor pid=1602)\u001b[0m output size:  256\n",
            "\u001b[2m\u001b[36m(DefaultActor pid=1602)\u001b[0m selected images size:  54\n",
            "\u001b[2m\u001b[36m(DefaultActor pid=1602)\u001b[0m output size:  101\n",
            "\u001b[2m\u001b[36m(DefaultActor pid=1602)\u001b[0m selected images size:  14\n"
          ]
        },
        {
          "output_type": "stream",
          "name": "stderr",
          "text": [
            "DEBUG flwr 2024-01-20 15:33:38,460 | server.py:236 | fit_round 30 received 10 results and 0 failures\n",
            "DEBUG:flwr:fit_round 30 received 10 results and 0 failures\n"
          ]
        },
        {
          "output_type": "stream",
          "name": "stdout",
          "text": [
            "Saving round 30 aggregated_parameters...\n"
          ]
        },
        {
          "output_type": "stream",
          "name": "stderr",
          "text": [
            "INFO flwr 2024-01-20 15:33:55,800 | server.py:125 | fit progress: (30, 296.1573312282562, {'accuracy': 0.29069767441860467}, 4350.383631439)\n",
            "INFO:flwr:fit progress: (30, 296.1573312282562, {'accuracy': 0.29069767441860467}, 4350.383631439)\n",
            "DEBUG flwr 2024-01-20 15:33:55,804 | server.py:173 | evaluate_round 30: strategy sampled 10 clients (out of 33)\n",
            "DEBUG:flwr:evaluate_round 30: strategy sampled 10 clients (out of 33)\n"
          ]
        },
        {
          "output_type": "stream",
          "name": "stdout",
          "text": [
            "GLOBAL TEST\n"
          ]
        },
        {
          "output_type": "stream",
          "name": "stderr",
          "text": [
            "DEBUG flwr 2024-01-20 15:34:00,091 | server.py:187 | evaluate_round 30 received 10 results and 0 failures\n",
            "DEBUG:flwr:evaluate_round 30 received 10 results and 0 failures\n",
            "DEBUG flwr 2024-01-20 15:34:00,094 | server.py:222 | fit_round 31: strategy sampled 10 clients (out of 33)\n",
            "DEBUG:flwr:fit_round 31: strategy sampled 10 clients (out of 33)\n"
          ]
        },
        {
          "output_type": "stream",
          "name": "stdout",
          "text": [
            "\u001b[2m\u001b[36m(DefaultActor pid=1602)\u001b[0m ATTACKER\n",
            "\u001b[2m\u001b[36m(DefaultActor pid=1602)\u001b[0m output size:  256\n",
            "\u001b[2m\u001b[36m(DefaultActor pid=1602)\u001b[0m selected images size:  3\n",
            "\u001b[2m\u001b[36m(DefaultActor pid=1602)\u001b[0m output size:  101\n",
            "\u001b[2m\u001b[36m(DefaultActor pid=1602)\u001b[0m selected images size:  5\n",
            "\u001b[2m\u001b[36m(DefaultActor pid=1602)\u001b[0m output size:  256\n",
            "\u001b[2m\u001b[36m(DefaultActor pid=1602)\u001b[0m selected images size:  2\n",
            "\u001b[2m\u001b[36m(DefaultActor pid=1602)\u001b[0m output size:  256\n",
            "\u001b[2m\u001b[36m(DefaultActor pid=1602)\u001b[0m selected images size:  2\n",
            "\u001b[2m\u001b[36m(DefaultActor pid=1602)\u001b[0m output size:  256\n",
            "\u001b[2m\u001b[36m(DefaultActor pid=1602)\u001b[0m selected images size:  1\n",
            "\u001b[2m\u001b[36m(DefaultActor pid=1602)\u001b[0m output size:  256\n",
            "\u001b[2m\u001b[36m(DefaultActor pid=1602)\u001b[0m selected images size:  1\n",
            "\u001b[2m\u001b[36m(DefaultActor pid=1602)\u001b[0m output size:  256\n",
            "\u001b[2m\u001b[36m(DefaultActor pid=1602)\u001b[0m selected images size:  3\n",
            "\u001b[2m\u001b[36m(DefaultActor pid=1602)\u001b[0m output size:  256\n",
            "\u001b[2m\u001b[36m(DefaultActor pid=1602)\u001b[0m selected images size:  2\n",
            "\u001b[2m\u001b[36m(DefaultActor pid=1602)\u001b[0m output size:  256\n",
            "\u001b[2m\u001b[36m(DefaultActor pid=1602)\u001b[0m selected images size:  1\n",
            "\u001b[2m\u001b[36m(DefaultActor pid=1602)\u001b[0m output size:  256\n",
            "\u001b[2m\u001b[36m(DefaultActor pid=1602)\u001b[0m selected images size:  1\n",
            "\u001b[2m\u001b[36m(DefaultActor pid=1602)\u001b[0m output size:  256\n",
            "\u001b[2m\u001b[36m(DefaultActor pid=1602)\u001b[0m selected images size:  1\n",
            "\u001b[2m\u001b[36m(DefaultActor pid=1602)\u001b[0m output size:  256\n",
            "\u001b[2m\u001b[36m(DefaultActor pid=1602)\u001b[0m selected images size:  3\n",
            "\u001b[2m\u001b[36m(DefaultActor pid=1602)\u001b[0m output size:  101\n",
            "\u001b[2m\u001b[36m(DefaultActor pid=1602)\u001b[0m selected images size:  1\n",
            "\u001b[2m\u001b[36m(DefaultActor pid=1602)\u001b[0m output size:  256\n",
            "\u001b[2m\u001b[36m(DefaultActor pid=1602)\u001b[0m selected images size:  2\n",
            "\u001b[2m\u001b[36m(DefaultActor pid=1602)\u001b[0m output size:  256\n",
            "\u001b[2m\u001b[36m(DefaultActor pid=1602)\u001b[0m selected images size:  4\n",
            "\u001b[2m\u001b[36m(DefaultActor pid=1602)\u001b[0m output size:  256\n",
            "\u001b[2m\u001b[36m(DefaultActor pid=1602)\u001b[0m selected images size:  2\n",
            "\u001b[2m\u001b[36m(DefaultActor pid=1602)\u001b[0m output size:  256\n",
            "\u001b[2m\u001b[36m(DefaultActor pid=1602)\u001b[0m selected images size:  9\n",
            "\u001b[2m\u001b[36m(DefaultActor pid=1602)\u001b[0m output size:  256\n",
            "\u001b[2m\u001b[36m(DefaultActor pid=1602)\u001b[0m selected images size:  4\n",
            "\u001b[2m\u001b[36m(DefaultActor pid=1602)\u001b[0m output size:  256\n",
            "\u001b[2m\u001b[36m(DefaultActor pid=1602)\u001b[0m selected images size:  4\n",
            "\u001b[2m\u001b[36m(DefaultActor pid=1602)\u001b[0m output size:  101\n",
            "\u001b[2m\u001b[36m(DefaultActor pid=1602)\u001b[0m selected images size:  2\n",
            "\u001b[2m\u001b[36m(DefaultActor pid=1602)\u001b[0m output size:  256\n",
            "\u001b[2m\u001b[36m(DefaultActor pid=1602)\u001b[0m selected images size:  4\n",
            "\u001b[2m\u001b[36m(DefaultActor pid=1602)\u001b[0m output size:  256\n",
            "\u001b[2m\u001b[36m(DefaultActor pid=1602)\u001b[0m selected images size:  4\n",
            "\u001b[2m\u001b[36m(DefaultActor pid=1602)\u001b[0m output size:  256\n",
            "\u001b[2m\u001b[36m(DefaultActor pid=1602)\u001b[0m selected images size:  4\n",
            "\u001b[2m\u001b[36m(DefaultActor pid=1602)\u001b[0m output size:  256\n",
            "\u001b[2m\u001b[36m(DefaultActor pid=1602)\u001b[0m selected images size:  5\n",
            "\u001b[2m\u001b[36m(DefaultActor pid=1602)\u001b[0m output size:  256\n",
            "\u001b[2m\u001b[36m(DefaultActor pid=1602)\u001b[0m selected images size:  1\n",
            "\u001b[2m\u001b[36m(DefaultActor pid=1602)\u001b[0m output size:  256\n",
            "\u001b[2m\u001b[36m(DefaultActor pid=1602)\u001b[0m selected images size:  5\n",
            "\u001b[2m\u001b[36m(DefaultActor pid=1602)\u001b[0m output size:  101\n",
            "\u001b[2m\u001b[36m(DefaultActor pid=1602)\u001b[0m selected images size:  1\n",
            "\u001b[2m\u001b[36m(DefaultActor pid=1602)\u001b[0m output size:  256\n",
            "\u001b[2m\u001b[36m(DefaultActor pid=1602)\u001b[0m selected images size:  9\n",
            "\u001b[2m\u001b[36m(DefaultActor pid=1602)\u001b[0m output size:  256\n",
            "\u001b[2m\u001b[36m(DefaultActor pid=1602)\u001b[0m selected images size:  11\n",
            "\u001b[2m\u001b[36m(DefaultActor pid=1602)\u001b[0m output size:  256\n",
            "\u001b[2m\u001b[36m(DefaultActor pid=1602)\u001b[0m selected images size:  8\n",
            "\u001b[2m\u001b[36m(DefaultActor pid=1602)\u001b[0m output size:  256\n",
            "\u001b[2m\u001b[36m(DefaultActor pid=1602)\u001b[0m selected images size:  9\n",
            "\u001b[2m\u001b[36m(DefaultActor pid=1602)\u001b[0m output size:  256\n",
            "\u001b[2m\u001b[36m(DefaultActor pid=1602)\u001b[0m selected images size:  14\n",
            "\u001b[2m\u001b[36m(DefaultActor pid=1602)\u001b[0m output size:  256\n",
            "\u001b[2m\u001b[36m(DefaultActor pid=1602)\u001b[0m selected images size:  25\n",
            "\u001b[2m\u001b[36m(DefaultActor pid=1602)\u001b[0m output size:  101\n",
            "\u001b[2m\u001b[36m(DefaultActor pid=1602)\u001b[0m selected images size:  10\n",
            "\u001b[2m\u001b[36m(DefaultActor pid=1602)\u001b[0m output size:  256\n",
            "\u001b[2m\u001b[36m(DefaultActor pid=1602)\u001b[0m selected images size:  29\n",
            "\u001b[2m\u001b[36m(DefaultActor pid=1602)\u001b[0m output size:  256\n",
            "\u001b[2m\u001b[36m(DefaultActor pid=1602)\u001b[0m selected images size:  41\n",
            "\u001b[2m\u001b[36m(DefaultActor pid=1602)\u001b[0m output size:  256\n",
            "\u001b[2m\u001b[36m(DefaultActor pid=1602)\u001b[0m selected images size:  53\n",
            "\u001b[2m\u001b[36m(DefaultActor pid=1602)\u001b[0m output size:  256\n",
            "\u001b[2m\u001b[36m(DefaultActor pid=1602)\u001b[0m selected images size:  45\n",
            "\u001b[2m\u001b[36m(DefaultActor pid=1602)\u001b[0m output size:  256\n",
            "\u001b[2m\u001b[36m(DefaultActor pid=1602)\u001b[0m selected images size:  63\n",
            "\u001b[2m\u001b[36m(DefaultActor pid=1602)\u001b[0m output size:  256\n",
            "\u001b[2m\u001b[36m(DefaultActor pid=1602)\u001b[0m selected images size:  49\n",
            "\u001b[2m\u001b[36m(DefaultActor pid=1602)\u001b[0m output size:  101\n",
            "\u001b[2m\u001b[36m(DefaultActor pid=1602)\u001b[0m selected images size:  27\n",
            "\u001b[2m\u001b[36m(DefaultActor pid=1602)\u001b[0m output size:  256\n",
            "\u001b[2m\u001b[36m(DefaultActor pid=1602)\u001b[0m selected images size:  51\n",
            "\u001b[2m\u001b[36m(DefaultActor pid=1602)\u001b[0m output size:  256\n",
            "\u001b[2m\u001b[36m(DefaultActor pid=1602)\u001b[0m selected images size:  41\n",
            "\u001b[2m\u001b[36m(DefaultActor pid=1602)\u001b[0m output size:  256\n",
            "\u001b[2m\u001b[36m(DefaultActor pid=1602)\u001b[0m selected images size:  44\n",
            "\u001b[2m\u001b[36m(DefaultActor pid=1602)\u001b[0m output size:  256\n",
            "\u001b[2m\u001b[36m(DefaultActor pid=1602)\u001b[0m selected images size:  35\n",
            "\u001b[2m\u001b[36m(DefaultActor pid=1602)\u001b[0m output size:  256\n",
            "\u001b[2m\u001b[36m(DefaultActor pid=1602)\u001b[0m selected images size:  38\n",
            "\u001b[2m\u001b[36m(DefaultActor pid=1602)\u001b[0m output size:  256\n",
            "\u001b[2m\u001b[36m(DefaultActor pid=1602)\u001b[0m selected images size:  31\n",
            "\u001b[2m\u001b[36m(DefaultActor pid=1602)\u001b[0m output size:  101\n",
            "\u001b[2m\u001b[36m(DefaultActor pid=1602)\u001b[0m selected images size:  15\n",
            "\u001b[2m\u001b[36m(DefaultActor pid=1602)\u001b[0m output size:  256\n",
            "\u001b[2m\u001b[36m(DefaultActor pid=1602)\u001b[0m selected images size:  30\n",
            "\u001b[2m\u001b[36m(DefaultActor pid=1602)\u001b[0m output size:  256\n",
            "\u001b[2m\u001b[36m(DefaultActor pid=1602)\u001b[0m selected images size:  32\n",
            "\u001b[2m\u001b[36m(DefaultActor pid=1602)\u001b[0m output size:  256\n",
            "\u001b[2m\u001b[36m(DefaultActor pid=1602)\u001b[0m selected images size:  47\n",
            "\u001b[2m\u001b[36m(DefaultActor pid=1602)\u001b[0m output size:  256\n",
            "\u001b[2m\u001b[36m(DefaultActor pid=1602)\u001b[0m selected images size:  57\n",
            "\u001b[2m\u001b[36m(DefaultActor pid=1602)\u001b[0m output size:  256\n",
            "\u001b[2m\u001b[36m(DefaultActor pid=1602)\u001b[0m selected images size:  57\n",
            "\u001b[2m\u001b[36m(DefaultActor pid=1602)\u001b[0m output size:  256\n",
            "\u001b[2m\u001b[36m(DefaultActor pid=1602)\u001b[0m selected images size:  60\n",
            "\u001b[2m\u001b[36m(DefaultActor pid=1602)\u001b[0m output size:  101\n",
            "\u001b[2m\u001b[36m(DefaultActor pid=1602)\u001b[0m selected images size:  20\n",
            "\u001b[2m\u001b[36m(DefaultActor pid=1602)\u001b[0m output size:  256\n",
            "\u001b[2m\u001b[36m(DefaultActor pid=1602)\u001b[0m selected images size:  50\n",
            "\u001b[2m\u001b[36m(DefaultActor pid=1602)\u001b[0m output size:  256\n",
            "\u001b[2m\u001b[36m(DefaultActor pid=1602)\u001b[0m selected images size:  56\n",
            "\u001b[2m\u001b[36m(DefaultActor pid=1602)\u001b[0m output size:  256\n",
            "\u001b[2m\u001b[36m(DefaultActor pid=1602)\u001b[0m selected images size:  49\n",
            "\u001b[2m\u001b[36m(DefaultActor pid=1602)\u001b[0m output size:  256\n",
            "\u001b[2m\u001b[36m(DefaultActor pid=1602)\u001b[0m selected images size:  52\n",
            "\u001b[2m\u001b[36m(DefaultActor pid=1602)\u001b[0m output size:  256\n",
            "\u001b[2m\u001b[36m(DefaultActor pid=1602)\u001b[0m selected images size:  36\n",
            "\u001b[2m\u001b[36m(DefaultActor pid=1602)\u001b[0m output size:  256\n",
            "\u001b[2m\u001b[36m(DefaultActor pid=1602)\u001b[0m selected images size:  49\n",
            "\u001b[2m\u001b[36m(DefaultActor pid=1602)\u001b[0m output size:  101\n",
            "\u001b[2m\u001b[36m(DefaultActor pid=1602)\u001b[0m selected images size:  12\n",
            "\u001b[2m\u001b[36m(DefaultActor pid=1602)\u001b[0m output size:  256\n",
            "\u001b[2m\u001b[36m(DefaultActor pid=1602)\u001b[0m selected images size:  60\n",
            "\u001b[2m\u001b[36m(DefaultActor pid=1602)\u001b[0m output size:  256\n",
            "\u001b[2m\u001b[36m(DefaultActor pid=1602)\u001b[0m selected images size:  46\n",
            "\u001b[2m\u001b[36m(DefaultActor pid=1602)\u001b[0m output size:  256\n",
            "\u001b[2m\u001b[36m(DefaultActor pid=1602)\u001b[0m selected images size:  52\n",
            "\u001b[2m\u001b[36m(DefaultActor pid=1602)\u001b[0m output size:  256\n",
            "\u001b[2m\u001b[36m(DefaultActor pid=1602)\u001b[0m selected images size:  47\n",
            "\u001b[2m\u001b[36m(DefaultActor pid=1602)\u001b[0m output size:  256\n",
            "\u001b[2m\u001b[36m(DefaultActor pid=1602)\u001b[0m selected images size:  46\n",
            "\u001b[2m\u001b[36m(DefaultActor pid=1602)\u001b[0m output size:  256\n",
            "\u001b[2m\u001b[36m(DefaultActor pid=1602)\u001b[0m selected images size:  43\n",
            "\u001b[2m\u001b[36m(DefaultActor pid=1602)\u001b[0m output size:  101\n",
            "\u001b[2m\u001b[36m(DefaultActor pid=1602)\u001b[0m selected images size:  18\n",
            "\u001b[2m\u001b[36m(DefaultActor pid=1602)\u001b[0m output size:  256\n",
            "\u001b[2m\u001b[36m(DefaultActor pid=1602)\u001b[0m selected images size:  46\n",
            "\u001b[2m\u001b[36m(DefaultActor pid=1602)\u001b[0m output size:  256\n",
            "\u001b[2m\u001b[36m(DefaultActor pid=1602)\u001b[0m selected images size:  69\n",
            "\u001b[2m\u001b[36m(DefaultActor pid=1602)\u001b[0m output size:  256\n",
            "\u001b[2m\u001b[36m(DefaultActor pid=1602)\u001b[0m selected images size:  64\n",
            "\u001b[2m\u001b[36m(DefaultActor pid=1602)\u001b[0m output size:  256\n",
            "\u001b[2m\u001b[36m(DefaultActor pid=1602)\u001b[0m selected images size:  67\n",
            "\u001b[2m\u001b[36m(DefaultActor pid=1602)\u001b[0m output size:  256\n",
            "\u001b[2m\u001b[36m(DefaultActor pid=1602)\u001b[0m selected images size:  64\n",
            "\u001b[2m\u001b[36m(DefaultActor pid=1602)\u001b[0m output size:  256\n",
            "\u001b[2m\u001b[36m(DefaultActor pid=1602)\u001b[0m selected images size:  69\n",
            "\u001b[2m\u001b[36m(DefaultActor pid=1602)\u001b[0m output size:  101\n",
            "\u001b[2m\u001b[36m(DefaultActor pid=1602)\u001b[0m selected images size:  26\n",
            "\u001b[2m\u001b[36m(DefaultActor pid=1602)\u001b[0m output size:  256\n",
            "\u001b[2m\u001b[36m(DefaultActor pid=1602)\u001b[0m selected images size:  57\n",
            "\u001b[2m\u001b[36m(DefaultActor pid=1602)\u001b[0m output size:  256\n",
            "\u001b[2m\u001b[36m(DefaultActor pid=1602)\u001b[0m selected images size:  52\n",
            "\u001b[2m\u001b[36m(DefaultActor pid=1602)\u001b[0m output size:  256\n",
            "\u001b[2m\u001b[36m(DefaultActor pid=1602)\u001b[0m selected images size:  64\n",
            "\u001b[2m\u001b[36m(DefaultActor pid=1602)\u001b[0m output size:  256\n",
            "\u001b[2m\u001b[36m(DefaultActor pid=1602)\u001b[0m selected images size:  61\n",
            "\u001b[2m\u001b[36m(DefaultActor pid=1602)\u001b[0m output size:  256\n",
            "\u001b[2m\u001b[36m(DefaultActor pid=1602)\u001b[0m selected images size:  57\n",
            "\u001b[2m\u001b[36m(DefaultActor pid=1602)\u001b[0m output size:  256\n",
            "\u001b[2m\u001b[36m(DefaultActor pid=1602)\u001b[0m selected images size:  52\n",
            "\u001b[2m\u001b[36m(DefaultActor pid=1602)\u001b[0m output size:  101\n",
            "\u001b[2m\u001b[36m(DefaultActor pid=1602)\u001b[0m selected images size:  25\n"
          ]
        },
        {
          "output_type": "stream",
          "name": "stderr",
          "text": [
            "DEBUG flwr 2024-01-20 15:36:11,710 | server.py:236 | fit_round 31 received 10 results and 0 failures\n",
            "DEBUG:flwr:fit_round 31 received 10 results and 0 failures\n"
          ]
        },
        {
          "output_type": "stream",
          "name": "stdout",
          "text": [
            "Saving round 31 aggregated_parameters...\n"
          ]
        },
        {
          "output_type": "stream",
          "name": "stderr",
          "text": [
            "INFO flwr 2024-01-20 15:36:28,348 | server.py:125 | fit progress: (31, 296.11520290374756, {'accuracy': 0.29069767441860467}, 4502.931277025)\n",
            "INFO:flwr:fit progress: (31, 296.11520290374756, {'accuracy': 0.29069767441860467}, 4502.931277025)\n",
            "DEBUG flwr 2024-01-20 15:36:28,352 | server.py:173 | evaluate_round 31: strategy sampled 10 clients (out of 33)\n",
            "DEBUG:flwr:evaluate_round 31: strategy sampled 10 clients (out of 33)\n"
          ]
        },
        {
          "output_type": "stream",
          "name": "stdout",
          "text": [
            "GLOBAL TEST\n"
          ]
        },
        {
          "output_type": "stream",
          "name": "stderr",
          "text": [
            "DEBUG flwr 2024-01-20 15:36:32,782 | server.py:187 | evaluate_round 31 received 10 results and 0 failures\n",
            "DEBUG:flwr:evaluate_round 31 received 10 results and 0 failures\n",
            "DEBUG flwr 2024-01-20 15:36:32,791 | server.py:222 | fit_round 32: strategy sampled 10 clients (out of 33)\n",
            "DEBUG:flwr:fit_round 32: strategy sampled 10 clients (out of 33)\n",
            "DEBUG flwr 2024-01-20 15:37:55,598 | server.py:236 | fit_round 32 received 10 results and 0 failures\n",
            "DEBUG:flwr:fit_round 32 received 10 results and 0 failures\n"
          ]
        },
        {
          "output_type": "stream",
          "name": "stdout",
          "text": [
            "Saving round 32 aggregated_parameters...\n"
          ]
        },
        {
          "output_type": "stream",
          "name": "stderr",
          "text": [
            "INFO flwr 2024-01-20 15:38:12,712 | server.py:125 | fit progress: (32, 296.05670046806335, {'accuracy': 0.29069767441860467}, 4607.295514943)\n",
            "INFO:flwr:fit progress: (32, 296.05670046806335, {'accuracy': 0.29069767441860467}, 4607.295514943)\n",
            "DEBUG flwr 2024-01-20 15:38:12,721 | server.py:173 | evaluate_round 32: strategy sampled 10 clients (out of 33)\n",
            "DEBUG:flwr:evaluate_round 32: strategy sampled 10 clients (out of 33)\n"
          ]
        },
        {
          "output_type": "stream",
          "name": "stdout",
          "text": [
            "GLOBAL TEST\n"
          ]
        },
        {
          "output_type": "stream",
          "name": "stderr",
          "text": [
            "DEBUG flwr 2024-01-20 15:38:17,302 | server.py:187 | evaluate_round 32 received 10 results and 0 failures\n",
            "DEBUG:flwr:evaluate_round 32 received 10 results and 0 failures\n",
            "DEBUG flwr 2024-01-20 15:38:17,307 | server.py:222 | fit_round 33: strategy sampled 10 clients (out of 33)\n",
            "DEBUG:flwr:fit_round 33: strategy sampled 10 clients (out of 33)\n"
          ]
        },
        {
          "output_type": "stream",
          "name": "stdout",
          "text": [
            "\u001b[2m\u001b[36m(DefaultActor pid=1602)\u001b[0m ATTACKER\n",
            "\u001b[2m\u001b[36m(DefaultActor pid=1602)\u001b[0m output size:  256\n",
            "\u001b[2m\u001b[36m(DefaultActor pid=1602)\u001b[0m selected images size:  1\n",
            "\u001b[2m\u001b[36m(DefaultActor pid=1602)\u001b[0m output size:  256\n",
            "\u001b[2m\u001b[36m(DefaultActor pid=1602)\u001b[0m selected images size:  1\n",
            "\u001b[2m\u001b[36m(DefaultActor pid=1602)\u001b[0m output size:  256\n",
            "\u001b[2m\u001b[36m(DefaultActor pid=1602)\u001b[0m selected images size:  1\n",
            "\u001b[2m\u001b[36m(DefaultActor pid=1602)\u001b[0m output size:  256\n",
            "\u001b[2m\u001b[36m(DefaultActor pid=1602)\u001b[0m selected images size:  1\n",
            "\u001b[2m\u001b[36m(DefaultActor pid=1602)\u001b[0m output size:  101\n",
            "\u001b[2m\u001b[36m(DefaultActor pid=1602)\u001b[0m selected images size:  2\n",
            "\u001b[2m\u001b[36m(DefaultActor pid=1602)\u001b[0m output size:  256\n",
            "\u001b[2m\u001b[36m(DefaultActor pid=1602)\u001b[0m selected images size:  1\n",
            "\u001b[2m\u001b[36m(DefaultActor pid=1602)\u001b[0m output size:  256\n",
            "\u001b[2m\u001b[36m(DefaultActor pid=1602)\u001b[0m selected images size:  1\n",
            "\u001b[2m\u001b[36m(DefaultActor pid=1602)\u001b[0m output size:  256\n",
            "\u001b[2m\u001b[36m(DefaultActor pid=1602)\u001b[0m selected images size:  4\n",
            "\u001b[2m\u001b[36m(DefaultActor pid=1602)\u001b[0m output size:  256\n",
            "\u001b[2m\u001b[36m(DefaultActor pid=1602)\u001b[0m selected images size:  3\n",
            "\u001b[2m\u001b[36m(DefaultActor pid=1602)\u001b[0m output size:  256\n",
            "\u001b[2m\u001b[36m(DefaultActor pid=1602)\u001b[0m selected images size:  3\n",
            "\u001b[2m\u001b[36m(DefaultActor pid=1602)\u001b[0m output size:  256\n",
            "\u001b[2m\u001b[36m(DefaultActor pid=1602)\u001b[0m selected images size:  1\n",
            "\u001b[2m\u001b[36m(DefaultActor pid=1602)\u001b[0m output size:  101\n",
            "\u001b[2m\u001b[36m(DefaultActor pid=1602)\u001b[0m selected images size:  2\n",
            "\u001b[2m\u001b[36m(DefaultActor pid=1602)\u001b[0m output size:  256\n",
            "\u001b[2m\u001b[36m(DefaultActor pid=1602)\u001b[0m selected images size:  2\n",
            "\u001b[2m\u001b[36m(DefaultActor pid=1602)\u001b[0m output size:  256\n",
            "\u001b[2m\u001b[36m(DefaultActor pid=1602)\u001b[0m selected images size:  3\n",
            "\u001b[2m\u001b[36m(DefaultActor pid=1602)\u001b[0m output size:  256\n",
            "\u001b[2m\u001b[36m(DefaultActor pid=1602)\u001b[0m selected images size:  2\n",
            "\u001b[2m\u001b[36m(DefaultActor pid=1602)\u001b[0m output size:  256\n",
            "\u001b[2m\u001b[36m(DefaultActor pid=1602)\u001b[0m selected images size:  7\n",
            "\u001b[2m\u001b[36m(DefaultActor pid=1602)\u001b[0m output size:  256\n",
            "\u001b[2m\u001b[36m(DefaultActor pid=1602)\u001b[0m selected images size:  5\n",
            "\u001b[2m\u001b[36m(DefaultActor pid=1602)\u001b[0m output size:  101\n",
            "\u001b[2m\u001b[36m(DefaultActor pid=1602)\u001b[0m selected images size:  2\n"
          ]
        },
        {
          "output_type": "stream",
          "name": "stderr",
          "text": [
            "DEBUG flwr 2024-01-20 15:40:27,990 | server.py:236 | fit_round 33 received 10 results and 0 failures\n",
            "DEBUG:flwr:fit_round 33 received 10 results and 0 failures\n"
          ]
        },
        {
          "output_type": "stream",
          "name": "stdout",
          "text": [
            "Saving round 33 aggregated_parameters...\n"
          ]
        },
        {
          "output_type": "stream",
          "name": "stderr",
          "text": [
            "INFO flwr 2024-01-20 15:40:44,483 | server.py:125 | fit progress: (33, 296.0875800848007, {'accuracy': 0.29069767441860467}, 4759.0666772800005)\n",
            "INFO:flwr:fit progress: (33, 296.0875800848007, {'accuracy': 0.29069767441860467}, 4759.0666772800005)\n",
            "DEBUG flwr 2024-01-20 15:40:44,489 | server.py:173 | evaluate_round 33: strategy sampled 10 clients (out of 33)\n",
            "DEBUG:flwr:evaluate_round 33: strategy sampled 10 clients (out of 33)\n"
          ]
        },
        {
          "output_type": "stream",
          "name": "stdout",
          "text": [
            "GLOBAL TEST\n"
          ]
        },
        {
          "output_type": "stream",
          "name": "stderr",
          "text": [
            "DEBUG flwr 2024-01-20 15:40:48,238 | server.py:187 | evaluate_round 33 received 10 results and 0 failures\n",
            "DEBUG:flwr:evaluate_round 33 received 10 results and 0 failures\n",
            "DEBUG flwr 2024-01-20 15:40:48,242 | server.py:222 | fit_round 34: strategy sampled 10 clients (out of 33)\n",
            "DEBUG:flwr:fit_round 34: strategy sampled 10 clients (out of 33)\n"
          ]
        },
        {
          "output_type": "stream",
          "name": "stdout",
          "text": [
            "\u001b[2m\u001b[36m(DefaultActor pid=1602)\u001b[0m ATTACKER\n",
            "\u001b[2m\u001b[36m(DefaultActor pid=1602)\u001b[0m output size:  256\n",
            "\u001b[2m\u001b[36m(DefaultActor pid=1602)\u001b[0m selected images size:  1\n",
            "\u001b[2m\u001b[36m(DefaultActor pid=1602)\u001b[0m output size:  256\n",
            "\u001b[2m\u001b[36m(DefaultActor pid=1602)\u001b[0m selected images size:  1\n",
            "\u001b[2m\u001b[36m(DefaultActor pid=1602)\u001b[0m output size:  256\n",
            "\u001b[2m\u001b[36m(DefaultActor pid=1602)\u001b[0m selected images size:  2\n",
            "\u001b[2m\u001b[36m(DefaultActor pid=1602)\u001b[0m output size:  256\n",
            "\u001b[2m\u001b[36m(DefaultActor pid=1602)\u001b[0m selected images size:  14\n",
            "\u001b[2m\u001b[36m(DefaultActor pid=1602)\u001b[0m output size:  256\n",
            "\u001b[2m\u001b[36m(DefaultActor pid=1602)\u001b[0m selected images size:  36\n",
            "\u001b[2m\u001b[36m(DefaultActor pid=1602)\u001b[0m output size:  101\n",
            "\u001b[2m\u001b[36m(DefaultActor pid=1602)\u001b[0m selected images size:  4\n",
            "\u001b[2m\u001b[36m(DefaultActor pid=1602)\u001b[0m output size:  256\n",
            "\u001b[2m\u001b[36m(DefaultActor pid=1602)\u001b[0m selected images size:  10\n",
            "\u001b[2m\u001b[36m(DefaultActor pid=1602)\u001b[0m output size:  256\n",
            "\u001b[2m\u001b[36m(DefaultActor pid=1602)\u001b[0m selected images size:  5\n",
            "\u001b[2m\u001b[36m(DefaultActor pid=1602)\u001b[0m output size:  256\n",
            "\u001b[2m\u001b[36m(DefaultActor pid=1602)\u001b[0m selected images size:  6\n",
            "\u001b[2m\u001b[36m(DefaultActor pid=1602)\u001b[0m output size:  256\n",
            "\u001b[2m\u001b[36m(DefaultActor pid=1602)\u001b[0m selected images size:  10\n",
            "\u001b[2m\u001b[36m(DefaultActor pid=1602)\u001b[0m output size:  256\n",
            "\u001b[2m\u001b[36m(DefaultActor pid=1602)\u001b[0m selected images size:  6\n",
            "\u001b[2m\u001b[36m(DefaultActor pid=1602)\u001b[0m output size:  256\n",
            "\u001b[2m\u001b[36m(DefaultActor pid=1602)\u001b[0m selected images size:  7\n",
            "\u001b[2m\u001b[36m(DefaultActor pid=1602)\u001b[0m output size:  101\n",
            "\u001b[2m\u001b[36m(DefaultActor pid=1602)\u001b[0m selected images size:  4\n",
            "\u001b[2m\u001b[36m(DefaultActor pid=1602)\u001b[0m output size:  256\n",
            "\u001b[2m\u001b[36m(DefaultActor pid=1602)\u001b[0m selected images size:  10\n",
            "\u001b[2m\u001b[36m(DefaultActor pid=1602)\u001b[0m output size:  256\n",
            "\u001b[2m\u001b[36m(DefaultActor pid=1602)\u001b[0m selected images size:  8\n",
            "\u001b[2m\u001b[36m(DefaultActor pid=1602)\u001b[0m output size:  256\n",
            "\u001b[2m\u001b[36m(DefaultActor pid=1602)\u001b[0m selected images size:  9\n",
            "\u001b[2m\u001b[36m(DefaultActor pid=1602)\u001b[0m output size:  256\n",
            "\u001b[2m\u001b[36m(DefaultActor pid=1602)\u001b[0m selected images size:  13\n",
            "\u001b[2m\u001b[36m(DefaultActor pid=1602)\u001b[0m output size:  256\n",
            "\u001b[2m\u001b[36m(DefaultActor pid=1602)\u001b[0m selected images size:  18\n",
            "\u001b[2m\u001b[36m(DefaultActor pid=1602)\u001b[0m output size:  256\n",
            "\u001b[2m\u001b[36m(DefaultActor pid=1602)\u001b[0m selected images size:  23\n",
            "\u001b[2m\u001b[36m(DefaultActor pid=1602)\u001b[0m output size:  101\n",
            "\u001b[2m\u001b[36m(DefaultActor pid=1602)\u001b[0m selected images size:  6\n",
            "\u001b[2m\u001b[36m(DefaultActor pid=1602)\u001b[0m output size:  256\n",
            "\u001b[2m\u001b[36m(DefaultActor pid=1602)\u001b[0m selected images size:  14\n",
            "\u001b[2m\u001b[36m(DefaultActor pid=1602)\u001b[0m output size:  256\n",
            "\u001b[2m\u001b[36m(DefaultActor pid=1602)\u001b[0m selected images size:  19\n",
            "\u001b[2m\u001b[36m(DefaultActor pid=1602)\u001b[0m output size:  256\n",
            "\u001b[2m\u001b[36m(DefaultActor pid=1602)\u001b[0m selected images size:  12\n",
            "\u001b[2m\u001b[36m(DefaultActor pid=1602)\u001b[0m output size:  256\n",
            "\u001b[2m\u001b[36m(DefaultActor pid=1602)\u001b[0m selected images size:  14\n",
            "\u001b[2m\u001b[36m(DefaultActor pid=1602)\u001b[0m output size:  256\n",
            "\u001b[2m\u001b[36m(DefaultActor pid=1602)\u001b[0m selected images size:  19\n",
            "\u001b[2m\u001b[36m(DefaultActor pid=1602)\u001b[0m output size:  256\n",
            "\u001b[2m\u001b[36m(DefaultActor pid=1602)\u001b[0m selected images size:  11\n",
            "\u001b[2m\u001b[36m(DefaultActor pid=1602)\u001b[0m output size:  101\n",
            "\u001b[2m\u001b[36m(DefaultActor pid=1602)\u001b[0m selected images size:  5\n",
            "\u001b[2m\u001b[36m(DefaultActor pid=1602)\u001b[0m output size:  256\n",
            "\u001b[2m\u001b[36m(DefaultActor pid=1602)\u001b[0m selected images size:  7\n",
            "\u001b[2m\u001b[36m(DefaultActor pid=1602)\u001b[0m output size:  256\n",
            "\u001b[2m\u001b[36m(DefaultActor pid=1602)\u001b[0m selected images size:  15\n",
            "\u001b[2m\u001b[36m(DefaultActor pid=1602)\u001b[0m output size:  256\n",
            "\u001b[2m\u001b[36m(DefaultActor pid=1602)\u001b[0m selected images size:  21\n",
            "\u001b[2m\u001b[36m(DefaultActor pid=1602)\u001b[0m output size:  256\n",
            "\u001b[2m\u001b[36m(DefaultActor pid=1602)\u001b[0m selected images size:  17\n",
            "\u001b[2m\u001b[36m(DefaultActor pid=1602)\u001b[0m output size:  256\n",
            "\u001b[2m\u001b[36m(DefaultActor pid=1602)\u001b[0m selected images size:  24\n",
            "\u001b[2m\u001b[36m(DefaultActor pid=1602)\u001b[0m output size:  256\n",
            "\u001b[2m\u001b[36m(DefaultActor pid=1602)\u001b[0m selected images size:  16\n",
            "\u001b[2m\u001b[36m(DefaultActor pid=1602)\u001b[0m output size:  101\n",
            "\u001b[2m\u001b[36m(DefaultActor pid=1602)\u001b[0m selected images size:  11\n",
            "\u001b[2m\u001b[36m(DefaultActor pid=1602)\u001b[0m output size:  256\n",
            "\u001b[2m\u001b[36m(DefaultActor pid=1602)\u001b[0m selected images size:  28\n",
            "\u001b[2m\u001b[36m(DefaultActor pid=1602)\u001b[0m output size:  256\n",
            "\u001b[2m\u001b[36m(DefaultActor pid=1602)\u001b[0m selected images size:  23\n",
            "\u001b[2m\u001b[36m(DefaultActor pid=1602)\u001b[0m output size:  256\n",
            "\u001b[2m\u001b[36m(DefaultActor pid=1602)\u001b[0m selected images size:  28\n",
            "\u001b[2m\u001b[36m(DefaultActor pid=1602)\u001b[0m output size:  256\n",
            "\u001b[2m\u001b[36m(DefaultActor pid=1602)\u001b[0m selected images size:  35\n",
            "\u001b[2m\u001b[36m(DefaultActor pid=1602)\u001b[0m output size:  256\n",
            "\u001b[2m\u001b[36m(DefaultActor pid=1602)\u001b[0m selected images size:  35\n",
            "\u001b[2m\u001b[36m(DefaultActor pid=1602)\u001b[0m output size:  256\n",
            "\u001b[2m\u001b[36m(DefaultActor pid=1602)\u001b[0m selected images size:  30\n",
            "\u001b[2m\u001b[36m(DefaultActor pid=1602)\u001b[0m output size:  101\n",
            "\u001b[2m\u001b[36m(DefaultActor pid=1602)\u001b[0m selected images size:  9\n",
            "\u001b[2m\u001b[36m(DefaultActor pid=1602)\u001b[0m output size:  256\n",
            "\u001b[2m\u001b[36m(DefaultActor pid=1602)\u001b[0m selected images size:  29\n",
            "\u001b[2m\u001b[36m(DefaultActor pid=1602)\u001b[0m output size:  256\n",
            "\u001b[2m\u001b[36m(DefaultActor pid=1602)\u001b[0m selected images size:  31\n",
            "\u001b[2m\u001b[36m(DefaultActor pid=1602)\u001b[0m output size:  256\n",
            "\u001b[2m\u001b[36m(DefaultActor pid=1602)\u001b[0m selected images size:  24\n",
            "\u001b[2m\u001b[36m(DefaultActor pid=1602)\u001b[0m output size:  256\n",
            "\u001b[2m\u001b[36m(DefaultActor pid=1602)\u001b[0m selected images size:  30\n",
            "\u001b[2m\u001b[36m(DefaultActor pid=1602)\u001b[0m output size:  256\n",
            "\u001b[2m\u001b[36m(DefaultActor pid=1602)\u001b[0m selected images size:  45\n",
            "\u001b[2m\u001b[36m(DefaultActor pid=1602)\u001b[0m output size:  256\n",
            "\u001b[2m\u001b[36m(DefaultActor pid=1602)\u001b[0m selected images size:  37\n",
            "\u001b[2m\u001b[36m(DefaultActor pid=1602)\u001b[0m output size:  101\n",
            "\u001b[2m\u001b[36m(DefaultActor pid=1602)\u001b[0m selected images size:  14\n",
            "\u001b[2m\u001b[36m(DefaultActor pid=1602)\u001b[0m output size:  256\n",
            "\u001b[2m\u001b[36m(DefaultActor pid=1602)\u001b[0m selected images size:  41\n",
            "\u001b[2m\u001b[36m(DefaultActor pid=1602)\u001b[0m output size:  256\n",
            "\u001b[2m\u001b[36m(DefaultActor pid=1602)\u001b[0m selected images size:  40\n",
            "\u001b[2m\u001b[36m(DefaultActor pid=1602)\u001b[0m output size:  256\n",
            "\u001b[2m\u001b[36m(DefaultActor pid=1602)\u001b[0m selected images size:  31\n",
            "\u001b[2m\u001b[36m(DefaultActor pid=1602)\u001b[0m output size:  256\n",
            "\u001b[2m\u001b[36m(DefaultActor pid=1602)\u001b[0m selected images size:  34\n",
            "\u001b[2m\u001b[36m(DefaultActor pid=1602)\u001b[0m output size:  256\n",
            "\u001b[2m\u001b[36m(DefaultActor pid=1602)\u001b[0m selected images size:  37\n",
            "\u001b[2m\u001b[36m(DefaultActor pid=1602)\u001b[0m output size:  256\n",
            "\u001b[2m\u001b[36m(DefaultActor pid=1602)\u001b[0m selected images size:  27\n",
            "\u001b[2m\u001b[36m(DefaultActor pid=1602)\u001b[0m output size:  101\n",
            "\u001b[2m\u001b[36m(DefaultActor pid=1602)\u001b[0m selected images size:  24\n",
            "\u001b[2m\u001b[36m(DefaultActor pid=1602)\u001b[0m output size:  256\n",
            "\u001b[2m\u001b[36m(DefaultActor pid=1602)\u001b[0m selected images size:  32\n",
            "\u001b[2m\u001b[36m(DefaultActor pid=1602)\u001b[0m output size:  256\n",
            "\u001b[2m\u001b[36m(DefaultActor pid=1602)\u001b[0m selected images size:  34\n",
            "\u001b[2m\u001b[36m(DefaultActor pid=1602)\u001b[0m output size:  256\n",
            "\u001b[2m\u001b[36m(DefaultActor pid=1602)\u001b[0m selected images size:  35\n",
            "\u001b[2m\u001b[36m(DefaultActor pid=1602)\u001b[0m output size:  256\n",
            "\u001b[2m\u001b[36m(DefaultActor pid=1602)\u001b[0m selected images size:  32\n",
            "\u001b[2m\u001b[36m(DefaultActor pid=1602)\u001b[0m output size:  256\n",
            "\u001b[2m\u001b[36m(DefaultActor pid=1602)\u001b[0m selected images size:  30\n",
            "\u001b[2m\u001b[36m(DefaultActor pid=1602)\u001b[0m output size:  256\n",
            "\u001b[2m\u001b[36m(DefaultActor pid=1602)\u001b[0m selected images size:  41\n",
            "\u001b[2m\u001b[36m(DefaultActor pid=1602)\u001b[0m output size:  101\n",
            "\u001b[2m\u001b[36m(DefaultActor pid=1602)\u001b[0m selected images size:  18\n",
            "\u001b[2m\u001b[36m(DefaultActor pid=1602)\u001b[0m output size:  256\n",
            "\u001b[2m\u001b[36m(DefaultActor pid=1602)\u001b[0m selected images size:  43\n",
            "\u001b[2m\u001b[36m(DefaultActor pid=1602)\u001b[0m output size:  256\n",
            "\u001b[2m\u001b[36m(DefaultActor pid=1602)\u001b[0m selected images size:  43\n",
            "\u001b[2m\u001b[36m(DefaultActor pid=1602)\u001b[0m output size:  256\n",
            "\u001b[2m\u001b[36m(DefaultActor pid=1602)\u001b[0m selected images size:  60\n",
            "\u001b[2m\u001b[36m(DefaultActor pid=1602)\u001b[0m output size:  256\n",
            "\u001b[2m\u001b[36m(DefaultActor pid=1602)\u001b[0m selected images size:  49\n",
            "\u001b[2m\u001b[36m(DefaultActor pid=1602)\u001b[0m output size:  256\n",
            "\u001b[2m\u001b[36m(DefaultActor pid=1602)\u001b[0m selected images size:  48\n",
            "\u001b[2m\u001b[36m(DefaultActor pid=1602)\u001b[0m output size:  256\n",
            "\u001b[2m\u001b[36m(DefaultActor pid=1602)\u001b[0m selected images size:  61\n",
            "\u001b[2m\u001b[36m(DefaultActor pid=1602)\u001b[0m output size:  101\n",
            "\u001b[2m\u001b[36m(DefaultActor pid=1602)\u001b[0m selected images size:  27\n",
            "\u001b[2m\u001b[36m(DefaultActor pid=1602)\u001b[0m output size:  256\n",
            "\u001b[2m\u001b[36m(DefaultActor pid=1602)\u001b[0m selected images size:  57\n",
            "\u001b[2m\u001b[36m(DefaultActor pid=1602)\u001b[0m output size:  256\n",
            "\u001b[2m\u001b[36m(DefaultActor pid=1602)\u001b[0m selected images size:  55\n",
            "\u001b[2m\u001b[36m(DefaultActor pid=1602)\u001b[0m output size:  256\n",
            "\u001b[2m\u001b[36m(DefaultActor pid=1602)\u001b[0m selected images size:  63\n",
            "\u001b[2m\u001b[36m(DefaultActor pid=1602)\u001b[0m output size:  256\n",
            "\u001b[2m\u001b[36m(DefaultActor pid=1602)\u001b[0m selected images size:  75\n",
            "\u001b[2m\u001b[36m(DefaultActor pid=1602)\u001b[0m output size:  256\n",
            "\u001b[2m\u001b[36m(DefaultActor pid=1602)\u001b[0m selected images size:  75\n",
            "\u001b[2m\u001b[36m(DefaultActor pid=1602)\u001b[0m output size:  256\n",
            "\u001b[2m\u001b[36m(DefaultActor pid=1602)\u001b[0m selected images size:  74\n",
            "\u001b[2m\u001b[36m(DefaultActor pid=1602)\u001b[0m output size:  101\n",
            "\u001b[2m\u001b[36m(DefaultActor pid=1602)\u001b[0m selected images size:  25\n",
            "\u001b[2m\u001b[36m(DefaultActor pid=1602)\u001b[0m output size:  256\n",
            "\u001b[2m\u001b[36m(DefaultActor pid=1602)\u001b[0m selected images size:  60\n",
            "\u001b[2m\u001b[36m(DefaultActor pid=1602)\u001b[0m output size:  256\n",
            "\u001b[2m\u001b[36m(DefaultActor pid=1602)\u001b[0m selected images size:  71\n",
            "\u001b[2m\u001b[36m(DefaultActor pid=1602)\u001b[0m output size:  256\n",
            "\u001b[2m\u001b[36m(DefaultActor pid=1602)\u001b[0m selected images size:  64\n",
            "\u001b[2m\u001b[36m(DefaultActor pid=1602)\u001b[0m output size:  256\n",
            "\u001b[2m\u001b[36m(DefaultActor pid=1602)\u001b[0m selected images size:  63\n",
            "\u001b[2m\u001b[36m(DefaultActor pid=1602)\u001b[0m output size:  256\n",
            "\u001b[2m\u001b[36m(DefaultActor pid=1602)\u001b[0m selected images size:  40\n",
            "\u001b[2m\u001b[36m(DefaultActor pid=1602)\u001b[0m output size:  256\n",
            "\u001b[2m\u001b[36m(DefaultActor pid=1602)\u001b[0m selected images size:  46\n",
            "\u001b[2m\u001b[36m(DefaultActor pid=1602)\u001b[0m output size:  101\n",
            "\u001b[2m\u001b[36m(DefaultActor pid=1602)\u001b[0m selected images size:  15\n",
            "\u001b[2m\u001b[36m(DefaultActor pid=1602)\u001b[0m output size:  256\n",
            "\u001b[2m\u001b[36m(DefaultActor pid=1602)\u001b[0m selected images size:  50\n",
            "\u001b[2m\u001b[36m(DefaultActor pid=1602)\u001b[0m output size:  256\n",
            "\u001b[2m\u001b[36m(DefaultActor pid=1602)\u001b[0m selected images size:  52\n",
            "\u001b[2m\u001b[36m(DefaultActor pid=1602)\u001b[0m output size:  256\n",
            "\u001b[2m\u001b[36m(DefaultActor pid=1602)\u001b[0m selected images size:  61\n",
            "\u001b[2m\u001b[36m(DefaultActor pid=1602)\u001b[0m output size:  256\n",
            "\u001b[2m\u001b[36m(DefaultActor pid=1602)\u001b[0m selected images size:  54\n",
            "\u001b[2m\u001b[36m(DefaultActor pid=1602)\u001b[0m output size:  256\n",
            "\u001b[2m\u001b[36m(DefaultActor pid=1602)\u001b[0m selected images size:  46\n",
            "\u001b[2m\u001b[36m(DefaultActor pid=1602)\u001b[0m output size:  256\n",
            "\u001b[2m\u001b[36m(DefaultActor pid=1602)\u001b[0m selected images size:  40\n",
            "\u001b[2m\u001b[36m(DefaultActor pid=1602)\u001b[0m output size:  101\n",
            "\u001b[2m\u001b[36m(DefaultActor pid=1602)\u001b[0m selected images size:  16\n",
            "\u001b[2m\u001b[36m(DefaultActor pid=1602)\u001b[0m output size:  256\n",
            "\u001b[2m\u001b[36m(DefaultActor pid=1602)\u001b[0m selected images size:  52\n",
            "\u001b[2m\u001b[36m(DefaultActor pid=1602)\u001b[0m output size:  256\n",
            "\u001b[2m\u001b[36m(DefaultActor pid=1602)\u001b[0m selected images size:  45\n",
            "\u001b[2m\u001b[36m(DefaultActor pid=1602)\u001b[0m output size:  256\n",
            "\u001b[2m\u001b[36m(DefaultActor pid=1602)\u001b[0m selected images size:  40\n",
            "\u001b[2m\u001b[36m(DefaultActor pid=1602)\u001b[0m output size:  256\n",
            "\u001b[2m\u001b[36m(DefaultActor pid=1602)\u001b[0m selected images size:  35\n",
            "\u001b[2m\u001b[36m(DefaultActor pid=1602)\u001b[0m output size:  256\n",
            "\u001b[2m\u001b[36m(DefaultActor pid=1602)\u001b[0m selected images size:  33\n",
            "\u001b[2m\u001b[36m(DefaultActor pid=1602)\u001b[0m output size:  256\n",
            "\u001b[2m\u001b[36m(DefaultActor pid=1602)\u001b[0m selected images size:  34\n",
            "\u001b[2m\u001b[36m(DefaultActor pid=1602)\u001b[0m output size:  101\n",
            "\u001b[2m\u001b[36m(DefaultActor pid=1602)\u001b[0m selected images size:  10\n"
          ]
        },
        {
          "output_type": "stream",
          "name": "stderr",
          "text": [
            "DEBUG flwr 2024-01-20 15:43:01,884 | server.py:236 | fit_round 34 received 10 results and 0 failures\n",
            "DEBUG:flwr:fit_round 34 received 10 results and 0 failures\n"
          ]
        },
        {
          "output_type": "stream",
          "name": "stdout",
          "text": [
            "Saving round 34 aggregated_parameters...\n"
          ]
        },
        {
          "output_type": "stream",
          "name": "stderr",
          "text": [
            "INFO flwr 2024-01-20 15:43:18,554 | server.py:125 | fit progress: (34, 296.0344213247299, {'accuracy': 0.29069767441860467}, 4913.137521683)\n",
            "INFO:flwr:fit progress: (34, 296.0344213247299, {'accuracy': 0.29069767441860467}, 4913.137521683)\n",
            "DEBUG flwr 2024-01-20 15:43:18,559 | server.py:173 | evaluate_round 34: strategy sampled 10 clients (out of 33)\n",
            "DEBUG:flwr:evaluate_round 34: strategy sampled 10 clients (out of 33)\n"
          ]
        },
        {
          "output_type": "stream",
          "name": "stdout",
          "text": [
            "GLOBAL TEST\n"
          ]
        },
        {
          "output_type": "stream",
          "name": "stderr",
          "text": [
            "DEBUG flwr 2024-01-20 15:43:22,349 | server.py:187 | evaluate_round 34 received 10 results and 0 failures\n",
            "DEBUG:flwr:evaluate_round 34 received 10 results and 0 failures\n",
            "DEBUG flwr 2024-01-20 15:43:22,352 | server.py:222 | fit_round 35: strategy sampled 10 clients (out of 33)\n",
            "DEBUG:flwr:fit_round 35: strategy sampled 10 clients (out of 33)\n",
            "DEBUG flwr 2024-01-20 15:44:44,937 | server.py:236 | fit_round 35 received 10 results and 0 failures\n",
            "DEBUG:flwr:fit_round 35 received 10 results and 0 failures\n"
          ]
        },
        {
          "output_type": "stream",
          "name": "stdout",
          "text": [
            "Saving round 35 aggregated_parameters...\n"
          ]
        },
        {
          "output_type": "stream",
          "name": "stderr",
          "text": [
            "INFO flwr 2024-01-20 15:45:01,309 | server.py:125 | fit progress: (35, 295.9425778388977, {'accuracy': 0.29069767441860467}, 5015.89225781)\n",
            "INFO:flwr:fit progress: (35, 295.9425778388977, {'accuracy': 0.29069767441860467}, 5015.89225781)\n",
            "DEBUG flwr 2024-01-20 15:45:01,313 | server.py:173 | evaluate_round 35: strategy sampled 10 clients (out of 33)\n",
            "DEBUG:flwr:evaluate_round 35: strategy sampled 10 clients (out of 33)\n"
          ]
        },
        {
          "output_type": "stream",
          "name": "stdout",
          "text": [
            "GLOBAL TEST\n"
          ]
        },
        {
          "output_type": "stream",
          "name": "stderr",
          "text": [
            "DEBUG flwr 2024-01-20 15:45:05,046 | server.py:187 | evaluate_round 35 received 10 results and 0 failures\n",
            "DEBUG:flwr:evaluate_round 35 received 10 results and 0 failures\n",
            "DEBUG flwr 2024-01-20 15:45:05,053 | server.py:222 | fit_round 36: strategy sampled 10 clients (out of 33)\n",
            "DEBUG:flwr:fit_round 36: strategy sampled 10 clients (out of 33)\n"
          ]
        },
        {
          "output_type": "stream",
          "name": "stdout",
          "text": [
            "\u001b[2m\u001b[36m(DefaultActor pid=1602)\u001b[0m ATTACKER\n",
            "\u001b[2m\u001b[36m(DefaultActor pid=1602)\u001b[0m output size:  256\n",
            "\u001b[2m\u001b[36m(DefaultActor pid=1602)\u001b[0m selected images size:  2\n",
            "\u001b[2m\u001b[36m(DefaultActor pid=1602)\u001b[0m output size:  101\n",
            "\u001b[2m\u001b[36m(DefaultActor pid=1602)\u001b[0m selected images size:  1\n",
            "\u001b[2m\u001b[36m(DefaultActor pid=1602)\u001b[0m output size:  256\n",
            "\u001b[2m\u001b[36m(DefaultActor pid=1602)\u001b[0m selected images size:  3\n",
            "\u001b[2m\u001b[36m(DefaultActor pid=1602)\u001b[0m output size:  256\n",
            "\u001b[2m\u001b[36m(DefaultActor pid=1602)\u001b[0m selected images size:  2\n",
            "\u001b[2m\u001b[36m(DefaultActor pid=1602)\u001b[0m output size:  256\n",
            "\u001b[2m\u001b[36m(DefaultActor pid=1602)\u001b[0m selected images size:  4\n",
            "\u001b[2m\u001b[36m(DefaultActor pid=1602)\u001b[0m output size:  256\n",
            "\u001b[2m\u001b[36m(DefaultActor pid=1602)\u001b[0m selected images size:  2\n",
            "\u001b[2m\u001b[36m(DefaultActor pid=1602)\u001b[0m output size:  256\n",
            "\u001b[2m\u001b[36m(DefaultActor pid=1602)\u001b[0m selected images size:  5\n",
            "\u001b[2m\u001b[36m(DefaultActor pid=1602)\u001b[0m output size:  256\n",
            "\u001b[2m\u001b[36m(DefaultActor pid=1602)\u001b[0m selected images size:  1\n",
            "\u001b[2m\u001b[36m(DefaultActor pid=1602)\u001b[0m output size:  101\n",
            "\u001b[2m\u001b[36m(DefaultActor pid=1602)\u001b[0m selected images size:  1\n",
            "\u001b[2m\u001b[36m(DefaultActor pid=1602)\u001b[0m output size:  256\n",
            "\u001b[2m\u001b[36m(DefaultActor pid=1602)\u001b[0m selected images size:  3\n",
            "\u001b[2m\u001b[36m(DefaultActor pid=1602)\u001b[0m output size:  256\n",
            "\u001b[2m\u001b[36m(DefaultActor pid=1602)\u001b[0m selected images size:  3\n",
            "\u001b[2m\u001b[36m(DefaultActor pid=1602)\u001b[0m output size:  256\n",
            "\u001b[2m\u001b[36m(DefaultActor pid=1602)\u001b[0m selected images size:  8\n",
            "\u001b[2m\u001b[36m(DefaultActor pid=1602)\u001b[0m output size:  256\n",
            "\u001b[2m\u001b[36m(DefaultActor pid=1602)\u001b[0m selected images size:  12\n",
            "\u001b[2m\u001b[36m(DefaultActor pid=1602)\u001b[0m output size:  256\n",
            "\u001b[2m\u001b[36m(DefaultActor pid=1602)\u001b[0m selected images size:  8\n",
            "\u001b[2m\u001b[36m(DefaultActor pid=1602)\u001b[0m output size:  256\n",
            "\u001b[2m\u001b[36m(DefaultActor pid=1602)\u001b[0m selected images size:  13\n",
            "\u001b[2m\u001b[36m(DefaultActor pid=1602)\u001b[0m output size:  101\n",
            "\u001b[2m\u001b[36m(DefaultActor pid=1602)\u001b[0m selected images size:  9\n",
            "\u001b[2m\u001b[36m(DefaultActor pid=1602)\u001b[0m output size:  256\n",
            "\u001b[2m\u001b[36m(DefaultActor pid=1602)\u001b[0m selected images size:  14\n",
            "\u001b[2m\u001b[36m(DefaultActor pid=1602)\u001b[0m output size:  256\n",
            "\u001b[2m\u001b[36m(DefaultActor pid=1602)\u001b[0m selected images size:  20\n",
            "\u001b[2m\u001b[36m(DefaultActor pid=1602)\u001b[0m output size:  256\n",
            "\u001b[2m\u001b[36m(DefaultActor pid=1602)\u001b[0m selected images size:  20\n",
            "\u001b[2m\u001b[36m(DefaultActor pid=1602)\u001b[0m output size:  256\n",
            "\u001b[2m\u001b[36m(DefaultActor pid=1602)\u001b[0m selected images size:  27\n",
            "\u001b[2m\u001b[36m(DefaultActor pid=1602)\u001b[0m output size:  256\n",
            "\u001b[2m\u001b[36m(DefaultActor pid=1602)\u001b[0m selected images size:  27\n",
            "\u001b[2m\u001b[36m(DefaultActor pid=1602)\u001b[0m output size:  256\n",
            "\u001b[2m\u001b[36m(DefaultActor pid=1602)\u001b[0m selected images size:  33\n",
            "\u001b[2m\u001b[36m(DefaultActor pid=1602)\u001b[0m output size:  101\n",
            "\u001b[2m\u001b[36m(DefaultActor pid=1602)\u001b[0m selected images size:  8\n",
            "\u001b[2m\u001b[36m(DefaultActor pid=1602)\u001b[0m output size:  256\n",
            "\u001b[2m\u001b[36m(DefaultActor pid=1602)\u001b[0m selected images size:  33\n",
            "\u001b[2m\u001b[36m(DefaultActor pid=1602)\u001b[0m output size:  256\n",
            "\u001b[2m\u001b[36m(DefaultActor pid=1602)\u001b[0m selected images size:  30\n",
            "\u001b[2m\u001b[36m(DefaultActor pid=1602)\u001b[0m output size:  256\n",
            "\u001b[2m\u001b[36m(DefaultActor pid=1602)\u001b[0m selected images size:  43\n",
            "\u001b[2m\u001b[36m(DefaultActor pid=1602)\u001b[0m output size:  256\n",
            "\u001b[2m\u001b[36m(DefaultActor pid=1602)\u001b[0m selected images size:  51\n",
            "\u001b[2m\u001b[36m(DefaultActor pid=1602)\u001b[0m output size:  256\n",
            "\u001b[2m\u001b[36m(DefaultActor pid=1602)\u001b[0m selected images size:  49\n",
            "\u001b[2m\u001b[36m(DefaultActor pid=1602)\u001b[0m output size:  256\n",
            "\u001b[2m\u001b[36m(DefaultActor pid=1602)\u001b[0m selected images size:  45\n",
            "\u001b[2m\u001b[36m(DefaultActor pid=1602)\u001b[0m output size:  101\n",
            "\u001b[2m\u001b[36m(DefaultActor pid=1602)\u001b[0m selected images size:  18\n",
            "\u001b[2m\u001b[36m(DefaultActor pid=1602)\u001b[0m output size:  256\n",
            "\u001b[2m\u001b[36m(DefaultActor pid=1602)\u001b[0m selected images size:  38\n",
            "\u001b[2m\u001b[36m(DefaultActor pid=1602)\u001b[0m output size:  256\n",
            "\u001b[2m\u001b[36m(DefaultActor pid=1602)\u001b[0m selected images size:  42\n",
            "\u001b[2m\u001b[36m(DefaultActor pid=1602)\u001b[0m output size:  256\n",
            "\u001b[2m\u001b[36m(DefaultActor pid=1602)\u001b[0m selected images size:  40\n",
            "\u001b[2m\u001b[36m(DefaultActor pid=1602)\u001b[0m output size:  256\n",
            "\u001b[2m\u001b[36m(DefaultActor pid=1602)\u001b[0m selected images size:  33\n",
            "\u001b[2m\u001b[36m(DefaultActor pid=1602)\u001b[0m output size:  256\n",
            "\u001b[2m\u001b[36m(DefaultActor pid=1602)\u001b[0m selected images size:  48\n",
            "\u001b[2m\u001b[36m(DefaultActor pid=1602)\u001b[0m output size:  256\n",
            "\u001b[2m\u001b[36m(DefaultActor pid=1602)\u001b[0m selected images size:  40\n",
            "\u001b[2m\u001b[36m(DefaultActor pid=1602)\u001b[0m output size:  101\n",
            "\u001b[2m\u001b[36m(DefaultActor pid=1602)\u001b[0m selected images size:  21\n",
            "\u001b[2m\u001b[36m(DefaultActor pid=1602)\u001b[0m output size:  256\n",
            "\u001b[2m\u001b[36m(DefaultActor pid=1602)\u001b[0m selected images size:  55\n",
            "\u001b[2m\u001b[36m(DefaultActor pid=1602)\u001b[0m output size:  256\n",
            "\u001b[2m\u001b[36m(DefaultActor pid=1602)\u001b[0m selected images size:  51\n",
            "\u001b[2m\u001b[36m(DefaultActor pid=1602)\u001b[0m output size:  256\n",
            "\u001b[2m\u001b[36m(DefaultActor pid=1602)\u001b[0m selected images size:  59\n",
            "\u001b[2m\u001b[36m(DefaultActor pid=1602)\u001b[0m output size:  256\n",
            "\u001b[2m\u001b[36m(DefaultActor pid=1602)\u001b[0m selected images size:  62\n",
            "\u001b[2m\u001b[36m(DefaultActor pid=1602)\u001b[0m output size:  256\n",
            "\u001b[2m\u001b[36m(DefaultActor pid=1602)\u001b[0m selected images size:  63\n",
            "\u001b[2m\u001b[36m(DefaultActor pid=1602)\u001b[0m output size:  256\n",
            "\u001b[2m\u001b[36m(DefaultActor pid=1602)\u001b[0m selected images size:  67\n",
            "\u001b[2m\u001b[36m(DefaultActor pid=1602)\u001b[0m output size:  101\n",
            "\u001b[2m\u001b[36m(DefaultActor pid=1602)\u001b[0m selected images size:  24\n",
            "\u001b[2m\u001b[36m(DefaultActor pid=1602)\u001b[0m output size:  256\n",
            "\u001b[2m\u001b[36m(DefaultActor pid=1602)\u001b[0m selected images size:  57\n",
            "\u001b[2m\u001b[36m(DefaultActor pid=1602)\u001b[0m output size:  256\n",
            "\u001b[2m\u001b[36m(DefaultActor pid=1602)\u001b[0m selected images size:  70\n",
            "\u001b[2m\u001b[36m(DefaultActor pid=1602)\u001b[0m output size:  256\n",
            "\u001b[2m\u001b[36m(DefaultActor pid=1602)\u001b[0m selected images size:  73\n",
            "\u001b[2m\u001b[36m(DefaultActor pid=1602)\u001b[0m output size:  256\n",
            "\u001b[2m\u001b[36m(DefaultActor pid=1602)\u001b[0m selected images size:  67\n",
            "\u001b[2m\u001b[36m(DefaultActor pid=1602)\u001b[0m output size:  256\n",
            "\u001b[2m\u001b[36m(DefaultActor pid=1602)\u001b[0m selected images size:  62\n",
            "\u001b[2m\u001b[36m(DefaultActor pid=1602)\u001b[0m output size:  256\n",
            "\u001b[2m\u001b[36m(DefaultActor pid=1602)\u001b[0m selected images size:  46\n",
            "\u001b[2m\u001b[36m(DefaultActor pid=1602)\u001b[0m output size:  101\n",
            "\u001b[2m\u001b[36m(DefaultActor pid=1602)\u001b[0m selected images size:  19\n",
            "\u001b[2m\u001b[36m(DefaultActor pid=1602)\u001b[0m output size:  256\n",
            "\u001b[2m\u001b[36m(DefaultActor pid=1602)\u001b[0m selected images size:  46\n",
            "\u001b[2m\u001b[36m(DefaultActor pid=1602)\u001b[0m output size:  256\n",
            "\u001b[2m\u001b[36m(DefaultActor pid=1602)\u001b[0m selected images size:  38\n",
            "\u001b[2m\u001b[36m(DefaultActor pid=1602)\u001b[0m output size:  256\n",
            "\u001b[2m\u001b[36m(DefaultActor pid=1602)\u001b[0m selected images size:  49\n",
            "\u001b[2m\u001b[36m(DefaultActor pid=1602)\u001b[0m output size:  256\n",
            "\u001b[2m\u001b[36m(DefaultActor pid=1602)\u001b[0m selected images size:  60\n",
            "\u001b[2m\u001b[36m(DefaultActor pid=1602)\u001b[0m output size:  256\n",
            "\u001b[2m\u001b[36m(DefaultActor pid=1602)\u001b[0m selected images size:  55\n",
            "\u001b[2m\u001b[36m(DefaultActor pid=1602)\u001b[0m output size:  256\n",
            "\u001b[2m\u001b[36m(DefaultActor pid=1602)\u001b[0m selected images size:  70\n",
            "\u001b[2m\u001b[36m(DefaultActor pid=1602)\u001b[0m output size:  101\n",
            "\u001b[2m\u001b[36m(DefaultActor pid=1602)\u001b[0m selected images size:  22\n",
            "\u001b[2m\u001b[36m(DefaultActor pid=1602)\u001b[0m output size:  256\n",
            "\u001b[2m\u001b[36m(DefaultActor pid=1602)\u001b[0m selected images size:  54\n",
            "\u001b[2m\u001b[36m(DefaultActor pid=1602)\u001b[0m output size:  256\n",
            "\u001b[2m\u001b[36m(DefaultActor pid=1602)\u001b[0m selected images size:  58\n",
            "\u001b[2m\u001b[36m(DefaultActor pid=1602)\u001b[0m output size:  256\n",
            "\u001b[2m\u001b[36m(DefaultActor pid=1602)\u001b[0m selected images size:  66\n",
            "\u001b[2m\u001b[36m(DefaultActor pid=1602)\u001b[0m output size:  256\n",
            "\u001b[2m\u001b[36m(DefaultActor pid=1602)\u001b[0m selected images size:  75\n",
            "\u001b[2m\u001b[36m(DefaultActor pid=1602)\u001b[0m output size:  256\n",
            "\u001b[2m\u001b[36m(DefaultActor pid=1602)\u001b[0m selected images size:  67\n",
            "\u001b[2m\u001b[36m(DefaultActor pid=1602)\u001b[0m output size:  256\n",
            "\u001b[2m\u001b[36m(DefaultActor pid=1602)\u001b[0m selected images size:  68\n",
            "\u001b[2m\u001b[36m(DefaultActor pid=1602)\u001b[0m output size:  101\n",
            "\u001b[2m\u001b[36m(DefaultActor pid=1602)\u001b[0m selected images size:  27\n",
            "\u001b[2m\u001b[36m(DefaultActor pid=1602)\u001b[0m output size:  256\n",
            "\u001b[2m\u001b[36m(DefaultActor pid=1602)\u001b[0m selected images size:  69\n",
            "\u001b[2m\u001b[36m(DefaultActor pid=1602)\u001b[0m output size:  256\n",
            "\u001b[2m\u001b[36m(DefaultActor pid=1602)\u001b[0m selected images size:  61\n",
            "\u001b[2m\u001b[36m(DefaultActor pid=1602)\u001b[0m output size:  256\n",
            "\u001b[2m\u001b[36m(DefaultActor pid=1602)\u001b[0m selected images size:  54\n",
            "\u001b[2m\u001b[36m(DefaultActor pid=1602)\u001b[0m output size:  256\n",
            "\u001b[2m\u001b[36m(DefaultActor pid=1602)\u001b[0m selected images size:  54\n",
            "\u001b[2m\u001b[36m(DefaultActor pid=1602)\u001b[0m output size:  256\n",
            "\u001b[2m\u001b[36m(DefaultActor pid=1602)\u001b[0m selected images size:  58\n",
            "\u001b[2m\u001b[36m(DefaultActor pid=1602)\u001b[0m output size:  256\n",
            "\u001b[2m\u001b[36m(DefaultActor pid=1602)\u001b[0m selected images size:  43\n",
            "\u001b[2m\u001b[36m(DefaultActor pid=1602)\u001b[0m output size:  101\n",
            "\u001b[2m\u001b[36m(DefaultActor pid=1602)\u001b[0m selected images size:  20\n"
          ]
        },
        {
          "output_type": "stream",
          "name": "stderr",
          "text": [
            "DEBUG flwr 2024-01-20 15:47:16,220 | server.py:236 | fit_round 36 received 10 results and 0 failures\n",
            "DEBUG:flwr:fit_round 36 received 10 results and 0 failures\n"
          ]
        },
        {
          "output_type": "stream",
          "name": "stdout",
          "text": [
            "Saving round 36 aggregated_parameters...\n"
          ]
        },
        {
          "output_type": "stream",
          "name": "stderr",
          "text": [
            "INFO flwr 2024-01-20 15:47:33,384 | server.py:125 | fit progress: (36, 295.90659964084625, {'accuracy': 0.29069767441860467}, 5167.967438776)\n",
            "INFO:flwr:fit progress: (36, 295.90659964084625, {'accuracy': 0.29069767441860467}, 5167.967438776)\n",
            "DEBUG flwr 2024-01-20 15:47:33,390 | server.py:173 | evaluate_round 36: strategy sampled 10 clients (out of 33)\n",
            "DEBUG:flwr:evaluate_round 36: strategy sampled 10 clients (out of 33)\n"
          ]
        },
        {
          "output_type": "stream",
          "name": "stdout",
          "text": [
            "GLOBAL TEST\n"
          ]
        },
        {
          "output_type": "stream",
          "name": "stderr",
          "text": [
            "DEBUG flwr 2024-01-20 15:47:37,248 | server.py:187 | evaluate_round 36 received 10 results and 0 failures\n",
            "DEBUG:flwr:evaluate_round 36 received 10 results and 0 failures\n",
            "DEBUG flwr 2024-01-20 15:47:37,252 | server.py:222 | fit_round 37: strategy sampled 10 clients (out of 33)\n",
            "DEBUG:flwr:fit_round 37: strategy sampled 10 clients (out of 33)\n",
            "DEBUG flwr 2024-01-20 15:48:59,879 | server.py:236 | fit_round 37 received 10 results and 0 failures\n",
            "DEBUG:flwr:fit_round 37 received 10 results and 0 failures\n"
          ]
        },
        {
          "output_type": "stream",
          "name": "stdout",
          "text": [
            "Saving round 37 aggregated_parameters...\n"
          ]
        },
        {
          "output_type": "stream",
          "name": "stderr",
          "text": [
            "INFO flwr 2024-01-20 15:49:16,464 | server.py:125 | fit progress: (37, 295.8844335079193, {'accuracy': 0.29069767441860467}, 5271.047714643)\n",
            "INFO:flwr:fit progress: (37, 295.8844335079193, {'accuracy': 0.29069767441860467}, 5271.047714643)\n",
            "DEBUG flwr 2024-01-20 15:49:16,468 | server.py:173 | evaluate_round 37: strategy sampled 10 clients (out of 33)\n",
            "DEBUG:flwr:evaluate_round 37: strategy sampled 10 clients (out of 33)\n"
          ]
        },
        {
          "output_type": "stream",
          "name": "stdout",
          "text": [
            "GLOBAL TEST\n"
          ]
        },
        {
          "output_type": "stream",
          "name": "stderr",
          "text": [
            "DEBUG flwr 2024-01-20 15:49:20,269 | server.py:187 | evaluate_round 37 received 10 results and 0 failures\n",
            "DEBUG:flwr:evaluate_round 37 received 10 results and 0 failures\n",
            "DEBUG flwr 2024-01-20 15:49:20,272 | server.py:222 | fit_round 38: strategy sampled 10 clients (out of 33)\n",
            "DEBUG:flwr:fit_round 38: strategy sampled 10 clients (out of 33)\n",
            "DEBUG flwr 2024-01-20 15:50:43,713 | server.py:236 | fit_round 38 received 10 results and 0 failures\n",
            "DEBUG:flwr:fit_round 38 received 10 results and 0 failures\n"
          ]
        },
        {
          "output_type": "stream",
          "name": "stdout",
          "text": [
            "Saving round 38 aggregated_parameters...\n"
          ]
        },
        {
          "output_type": "stream",
          "name": "stderr",
          "text": [
            "INFO flwr 2024-01-20 15:51:00,713 | server.py:125 | fit progress: (38, 295.84516429901123, {'accuracy': 0.29069767441860467}, 5375.296728956)\n",
            "INFO:flwr:fit progress: (38, 295.84516429901123, {'accuracy': 0.29069767441860467}, 5375.296728956)\n",
            "DEBUG flwr 2024-01-20 15:51:00,717 | server.py:173 | evaluate_round 38: strategy sampled 10 clients (out of 33)\n",
            "DEBUG:flwr:evaluate_round 38: strategy sampled 10 clients (out of 33)\n"
          ]
        },
        {
          "output_type": "stream",
          "name": "stdout",
          "text": [
            "GLOBAL TEST\n"
          ]
        },
        {
          "output_type": "stream",
          "name": "stderr",
          "text": [
            "DEBUG flwr 2024-01-20 15:51:04,745 | server.py:187 | evaluate_round 38 received 10 results and 0 failures\n",
            "DEBUG:flwr:evaluate_round 38 received 10 results and 0 failures\n",
            "DEBUG flwr 2024-01-20 15:51:04,748 | server.py:222 | fit_round 39: strategy sampled 10 clients (out of 33)\n",
            "DEBUG:flwr:fit_round 39: strategy sampled 10 clients (out of 33)\n",
            "DEBUG flwr 2024-01-20 15:52:28,025 | server.py:236 | fit_round 39 received 10 results and 0 failures\n",
            "DEBUG:flwr:fit_round 39 received 10 results and 0 failures\n"
          ]
        },
        {
          "output_type": "stream",
          "name": "stdout",
          "text": [
            "Saving round 39 aggregated_parameters...\n"
          ]
        },
        {
          "output_type": "stream",
          "name": "stderr",
          "text": [
            "INFO flwr 2024-01-20 15:52:44,734 | server.py:125 | fit progress: (39, 295.842556476593, {'accuracy': 0.29069767441860467}, 5479.317569718)\n",
            "INFO:flwr:fit progress: (39, 295.842556476593, {'accuracy': 0.29069767441860467}, 5479.317569718)\n",
            "DEBUG flwr 2024-01-20 15:52:44,745 | server.py:173 | evaluate_round 39: strategy sampled 10 clients (out of 33)\n",
            "DEBUG:flwr:evaluate_round 39: strategy sampled 10 clients (out of 33)\n"
          ]
        },
        {
          "output_type": "stream",
          "name": "stdout",
          "text": [
            "GLOBAL TEST\n"
          ]
        },
        {
          "output_type": "stream",
          "name": "stderr",
          "text": [
            "DEBUG flwr 2024-01-20 15:52:49,911 | server.py:187 | evaluate_round 39 received 10 results and 0 failures\n",
            "DEBUG:flwr:evaluate_round 39 received 10 results and 0 failures\n",
            "DEBUG flwr 2024-01-20 15:52:49,914 | server.py:222 | fit_round 40: strategy sampled 10 clients (out of 33)\n",
            "DEBUG:flwr:fit_round 40: strategy sampled 10 clients (out of 33)\n"
          ]
        },
        {
          "output_type": "stream",
          "name": "stdout",
          "text": [
            "\u001b[2m\u001b[36m(DefaultActor pid=1602)\u001b[0m ATTACKER\n",
            "\u001b[2m\u001b[36m(DefaultActor pid=1602)\u001b[0m output size:  256\n",
            "\u001b[2m\u001b[36m(DefaultActor pid=1602)\u001b[0m selected images size:  1\n",
            "\u001b[2m\u001b[36m(DefaultActor pid=1602)\u001b[0m output size:  256\n",
            "\u001b[2m\u001b[36m(DefaultActor pid=1602)\u001b[0m selected images size:  4\n",
            "\u001b[2m\u001b[36m(DefaultActor pid=1602)\u001b[0m output size:  101\n",
            "\u001b[2m\u001b[36m(DefaultActor pid=1602)\u001b[0m selected images size:  1\n",
            "\u001b[2m\u001b[36m(DefaultActor pid=1602)\u001b[0m output size:  256\n",
            "\u001b[2m\u001b[36m(DefaultActor pid=1602)\u001b[0m selected images size:  1\n",
            "\u001b[2m\u001b[36m(DefaultActor pid=1602)\u001b[0m output size:  256\n",
            "\u001b[2m\u001b[36m(DefaultActor pid=1602)\u001b[0m selected images size:  2\n",
            "\u001b[2m\u001b[36m(DefaultActor pid=1602)\u001b[0m output size:  101\n",
            "\u001b[2m\u001b[36m(DefaultActor pid=1602)\u001b[0m selected images size:  3\n",
            "\u001b[2m\u001b[36m(DefaultActor pid=1602)\u001b[0m output size:  256\n",
            "\u001b[2m\u001b[36m(DefaultActor pid=1602)\u001b[0m selected images size:  6\n",
            "\u001b[2m\u001b[36m(DefaultActor pid=1602)\u001b[0m output size:  256\n",
            "\u001b[2m\u001b[36m(DefaultActor pid=1602)\u001b[0m selected images size:  6\n",
            "\u001b[2m\u001b[36m(DefaultActor pid=1602)\u001b[0m output size:  256\n",
            "\u001b[2m\u001b[36m(DefaultActor pid=1602)\u001b[0m selected images size:  12\n",
            "\u001b[2m\u001b[36m(DefaultActor pid=1602)\u001b[0m output size:  256\n",
            "\u001b[2m\u001b[36m(DefaultActor pid=1602)\u001b[0m selected images size:  16\n",
            "\u001b[2m\u001b[36m(DefaultActor pid=1602)\u001b[0m output size:  256\n",
            "\u001b[2m\u001b[36m(DefaultActor pid=1602)\u001b[0m selected images size:  14\n",
            "\u001b[2m\u001b[36m(DefaultActor pid=1602)\u001b[0m output size:  256\n",
            "\u001b[2m\u001b[36m(DefaultActor pid=1602)\u001b[0m selected images size:  18\n",
            "\u001b[2m\u001b[36m(DefaultActor pid=1602)\u001b[0m output size:  101\n",
            "\u001b[2m\u001b[36m(DefaultActor pid=1602)\u001b[0m selected images size:  4\n",
            "\u001b[2m\u001b[36m(DefaultActor pid=1602)\u001b[0m output size:  256\n",
            "\u001b[2m\u001b[36m(DefaultActor pid=1602)\u001b[0m selected images size:  15\n",
            "\u001b[2m\u001b[36m(DefaultActor pid=1602)\u001b[0m output size:  256\n",
            "\u001b[2m\u001b[36m(DefaultActor pid=1602)\u001b[0m selected images size:  14\n",
            "\u001b[2m\u001b[36m(DefaultActor pid=1602)\u001b[0m output size:  256\n",
            "\u001b[2m\u001b[36m(DefaultActor pid=1602)\u001b[0m selected images size:  13\n",
            "\u001b[2m\u001b[36m(DefaultActor pid=1602)\u001b[0m output size:  256\n",
            "\u001b[2m\u001b[36m(DefaultActor pid=1602)\u001b[0m selected images size:  11\n",
            "\u001b[2m\u001b[36m(DefaultActor pid=1602)\u001b[0m output size:  256\n",
            "\u001b[2m\u001b[36m(DefaultActor pid=1602)\u001b[0m selected images size:  15\n",
            "\u001b[2m\u001b[36m(DefaultActor pid=1602)\u001b[0m output size:  256\n",
            "\u001b[2m\u001b[36m(DefaultActor pid=1602)\u001b[0m selected images size:  15\n",
            "\u001b[2m\u001b[36m(DefaultActor pid=1602)\u001b[0m output size:  101\n",
            "\u001b[2m\u001b[36m(DefaultActor pid=1602)\u001b[0m selected images size:  6\n",
            "\u001b[2m\u001b[36m(DefaultActor pid=1602)\u001b[0m output size:  256\n",
            "\u001b[2m\u001b[36m(DefaultActor pid=1602)\u001b[0m selected images size:  23\n",
            "\u001b[2m\u001b[36m(DefaultActor pid=1602)\u001b[0m output size:  256\n",
            "\u001b[2m\u001b[36m(DefaultActor pid=1602)\u001b[0m selected images size:  14\n",
            "\u001b[2m\u001b[36m(DefaultActor pid=1602)\u001b[0m output size:  256\n",
            "\u001b[2m\u001b[36m(DefaultActor pid=1602)\u001b[0m selected images size:  29\n",
            "\u001b[2m\u001b[36m(DefaultActor pid=1602)\u001b[0m output size:  256\n",
            "\u001b[2m\u001b[36m(DefaultActor pid=1602)\u001b[0m selected images size:  22\n",
            "\u001b[2m\u001b[36m(DefaultActor pid=1602)\u001b[0m output size:  256\n",
            "\u001b[2m\u001b[36m(DefaultActor pid=1602)\u001b[0m selected images size:  26\n",
            "\u001b[2m\u001b[36m(DefaultActor pid=1602)\u001b[0m output size:  256\n",
            "\u001b[2m\u001b[36m(DefaultActor pid=1602)\u001b[0m selected images size:  40\n",
            "\u001b[2m\u001b[36m(DefaultActor pid=1602)\u001b[0m output size:  101\n",
            "\u001b[2m\u001b[36m(DefaultActor pid=1602)\u001b[0m selected images size:  16\n",
            "\u001b[2m\u001b[36m(DefaultActor pid=1602)\u001b[0m output size:  256\n",
            "\u001b[2m\u001b[36m(DefaultActor pid=1602)\u001b[0m selected images size:  36\n",
            "\u001b[2m\u001b[36m(DefaultActor pid=1602)\u001b[0m output size:  256\n",
            "\u001b[2m\u001b[36m(DefaultActor pid=1602)\u001b[0m selected images size:  48\n",
            "\u001b[2m\u001b[36m(DefaultActor pid=1602)\u001b[0m output size:  256\n",
            "\u001b[2m\u001b[36m(DefaultActor pid=1602)\u001b[0m selected images size:  46\n",
            "\u001b[2m\u001b[36m(DefaultActor pid=1602)\u001b[0m output size:  256\n",
            "\u001b[2m\u001b[36m(DefaultActor pid=1602)\u001b[0m selected images size:  47\n",
            "\u001b[2m\u001b[36m(DefaultActor pid=1602)\u001b[0m output size:  256\n",
            "\u001b[2m\u001b[36m(DefaultActor pid=1602)\u001b[0m selected images size:  57\n",
            "\u001b[2m\u001b[36m(DefaultActor pid=1602)\u001b[0m output size:  256\n",
            "\u001b[2m\u001b[36m(DefaultActor pid=1602)\u001b[0m selected images size:  62\n",
            "\u001b[2m\u001b[36m(DefaultActor pid=1602)\u001b[0m output size:  101\n",
            "\u001b[2m\u001b[36m(DefaultActor pid=1602)\u001b[0m selected images size:  27\n",
            "\u001b[2m\u001b[36m(DefaultActor pid=1602)\u001b[0m output size:  256\n",
            "\u001b[2m\u001b[36m(DefaultActor pid=1602)\u001b[0m selected images size:  64\n",
            "\u001b[2m\u001b[36m(DefaultActor pid=1602)\u001b[0m output size:  256\n",
            "\u001b[2m\u001b[36m(DefaultActor pid=1602)\u001b[0m selected images size:  61\n",
            "\u001b[2m\u001b[36m(DefaultActor pid=1602)\u001b[0m output size:  256\n",
            "\u001b[2m\u001b[36m(DefaultActor pid=1602)\u001b[0m selected images size:  44\n",
            "\u001b[2m\u001b[36m(DefaultActor pid=1602)\u001b[0m output size:  256\n",
            "\u001b[2m\u001b[36m(DefaultActor pid=1602)\u001b[0m selected images size:  44\n",
            "\u001b[2m\u001b[36m(DefaultActor pid=1602)\u001b[0m output size:  256\n",
            "\u001b[2m\u001b[36m(DefaultActor pid=1602)\u001b[0m selected images size:  37\n",
            "\u001b[2m\u001b[36m(DefaultActor pid=1602)\u001b[0m output size:  256\n",
            "\u001b[2m\u001b[36m(DefaultActor pid=1602)\u001b[0m selected images size:  26\n",
            "\u001b[2m\u001b[36m(DefaultActor pid=1602)\u001b[0m output size:  101\n",
            "\u001b[2m\u001b[36m(DefaultActor pid=1602)\u001b[0m selected images size:  10\n",
            "\u001b[2m\u001b[36m(DefaultActor pid=1602)\u001b[0m output size:  256\n",
            "\u001b[2m\u001b[36m(DefaultActor pid=1602)\u001b[0m selected images size:  27\n",
            "\u001b[2m\u001b[36m(DefaultActor pid=1602)\u001b[0m output size:  256\n",
            "\u001b[2m\u001b[36m(DefaultActor pid=1602)\u001b[0m selected images size:  64\n",
            "\u001b[2m\u001b[36m(DefaultActor pid=1602)\u001b[0m output size:  256\n",
            "\u001b[2m\u001b[36m(DefaultActor pid=1602)\u001b[0m selected images size:  69\n",
            "\u001b[2m\u001b[36m(DefaultActor pid=1602)\u001b[0m output size:  256\n",
            "\u001b[2m\u001b[36m(DefaultActor pid=1602)\u001b[0m selected images size:  88\n",
            "\u001b[2m\u001b[36m(DefaultActor pid=1602)\u001b[0m output size:  256\n",
            "\u001b[2m\u001b[36m(DefaultActor pid=1602)\u001b[0m selected images size:  95\n",
            "\u001b[2m\u001b[36m(DefaultActor pid=1602)\u001b[0m output size:  256\n",
            "\u001b[2m\u001b[36m(DefaultActor pid=1602)\u001b[0m selected images size:  78\n",
            "\u001b[2m\u001b[36m(DefaultActor pid=1602)\u001b[0m output size:  101\n",
            "\u001b[2m\u001b[36m(DefaultActor pid=1602)\u001b[0m selected images size:  31\n",
            "\u001b[2m\u001b[36m(DefaultActor pid=1602)\u001b[0m output size:  256\n",
            "\u001b[2m\u001b[36m(DefaultActor pid=1602)\u001b[0m selected images size:  76\n",
            "\u001b[2m\u001b[36m(DefaultActor pid=1602)\u001b[0m output size:  256\n",
            "\u001b[2m\u001b[36m(DefaultActor pid=1602)\u001b[0m selected images size:  75\n",
            "\u001b[2m\u001b[36m(DefaultActor pid=1602)\u001b[0m output size:  256\n",
            "\u001b[2m\u001b[36m(DefaultActor pid=1602)\u001b[0m selected images size:  86\n",
            "\u001b[2m\u001b[36m(DefaultActor pid=1602)\u001b[0m output size:  256\n",
            "\u001b[2m\u001b[36m(DefaultActor pid=1602)\u001b[0m selected images size:  69\n",
            "\u001b[2m\u001b[36m(DefaultActor pid=1602)\u001b[0m output size:  256\n",
            "\u001b[2m\u001b[36m(DefaultActor pid=1602)\u001b[0m selected images size:  69\n",
            "\u001b[2m\u001b[36m(DefaultActor pid=1602)\u001b[0m output size:  256\n",
            "\u001b[2m\u001b[36m(DefaultActor pid=1602)\u001b[0m selected images size:  70\n",
            "\u001b[2m\u001b[36m(DefaultActor pid=1602)\u001b[0m output size:  101\n",
            "\u001b[2m\u001b[36m(DefaultActor pid=1602)\u001b[0m selected images size:  28\n",
            "\u001b[2m\u001b[36m(DefaultActor pid=1602)\u001b[0m output size:  256\n",
            "\u001b[2m\u001b[36m(DefaultActor pid=1602)\u001b[0m selected images size:  66\n",
            "\u001b[2m\u001b[36m(DefaultActor pid=1602)\u001b[0m output size:  256\n",
            "\u001b[2m\u001b[36m(DefaultActor pid=1602)\u001b[0m selected images size:  73\n",
            "\u001b[2m\u001b[36m(DefaultActor pid=1602)\u001b[0m output size:  256\n",
            "\u001b[2m\u001b[36m(DefaultActor pid=1602)\u001b[0m selected images size:  71\n",
            "\u001b[2m\u001b[36m(DefaultActor pid=1602)\u001b[0m output size:  256\n",
            "\u001b[2m\u001b[36m(DefaultActor pid=1602)\u001b[0m selected images size:  87\n",
            "\u001b[2m\u001b[36m(DefaultActor pid=1602)\u001b[0m output size:  256\n",
            "\u001b[2m\u001b[36m(DefaultActor pid=1602)\u001b[0m selected images size:  94\n",
            "\u001b[2m\u001b[36m(DefaultActor pid=1602)\u001b[0m output size:  256\n",
            "\u001b[2m\u001b[36m(DefaultActor pid=1602)\u001b[0m selected images size:  87\n",
            "\u001b[2m\u001b[36m(DefaultActor pid=1602)\u001b[0m output size:  101\n",
            "\u001b[2m\u001b[36m(DefaultActor pid=1602)\u001b[0m selected images size:  33\n",
            "\u001b[2m\u001b[36m(DefaultActor pid=1602)\u001b[0m output size:  256\n",
            "\u001b[2m\u001b[36m(DefaultActor pid=1602)\u001b[0m selected images size:  87\n",
            "\u001b[2m\u001b[36m(DefaultActor pid=1602)\u001b[0m output size:  256\n",
            "\u001b[2m\u001b[36m(DefaultActor pid=1602)\u001b[0m selected images size:  69\n",
            "\u001b[2m\u001b[36m(DefaultActor pid=1602)\u001b[0m output size:  256\n",
            "\u001b[2m\u001b[36m(DefaultActor pid=1602)\u001b[0m selected images size:  69\n",
            "\u001b[2m\u001b[36m(DefaultActor pid=1602)\u001b[0m output size:  256\n",
            "\u001b[2m\u001b[36m(DefaultActor pid=1602)\u001b[0m selected images size:  60\n",
            "\u001b[2m\u001b[36m(DefaultActor pid=1602)\u001b[0m output size:  256\n",
            "\u001b[2m\u001b[36m(DefaultActor pid=1602)\u001b[0m selected images size:  58\n",
            "\u001b[2m\u001b[36m(DefaultActor pid=1602)\u001b[0m output size:  256\n",
            "\u001b[2m\u001b[36m(DefaultActor pid=1602)\u001b[0m selected images size:  52\n",
            "\u001b[2m\u001b[36m(DefaultActor pid=1602)\u001b[0m output size:  101\n",
            "\u001b[2m\u001b[36m(DefaultActor pid=1602)\u001b[0m selected images size:  15\n",
            "\u001b[2m\u001b[36m(DefaultActor pid=1602)\u001b[0m output size:  256\n",
            "\u001b[2m\u001b[36m(DefaultActor pid=1602)\u001b[0m selected images size:  37\n",
            "\u001b[2m\u001b[36m(DefaultActor pid=1602)\u001b[0m output size:  256\n",
            "\u001b[2m\u001b[36m(DefaultActor pid=1602)\u001b[0m selected images size:  31\n",
            "\u001b[2m\u001b[36m(DefaultActor pid=1602)\u001b[0m output size:  256\n",
            "\u001b[2m\u001b[36m(DefaultActor pid=1602)\u001b[0m selected images size:  29\n",
            "\u001b[2m\u001b[36m(DefaultActor pid=1602)\u001b[0m output size:  256\n",
            "\u001b[2m\u001b[36m(DefaultActor pid=1602)\u001b[0m selected images size:  42\n",
            "\u001b[2m\u001b[36m(DefaultActor pid=1602)\u001b[0m output size:  256\n",
            "\u001b[2m\u001b[36m(DefaultActor pid=1602)\u001b[0m selected images size:  58\n",
            "\u001b[2m\u001b[36m(DefaultActor pid=1602)\u001b[0m output size:  256\n",
            "\u001b[2m\u001b[36m(DefaultActor pid=1602)\u001b[0m selected images size:  47\n",
            "\u001b[2m\u001b[36m(DefaultActor pid=1602)\u001b[0m output size:  101\n",
            "\u001b[2m\u001b[36m(DefaultActor pid=1602)\u001b[0m selected images size:  20\n"
          ]
        },
        {
          "output_type": "stream",
          "name": "stderr",
          "text": [
            "DEBUG flwr 2024-01-20 15:55:00,901 | server.py:236 | fit_round 40 received 10 results and 0 failures\n",
            "DEBUG:flwr:fit_round 40 received 10 results and 0 failures\n"
          ]
        },
        {
          "output_type": "stream",
          "name": "stdout",
          "text": [
            "Saving round 40 aggregated_parameters...\n"
          ]
        },
        {
          "output_type": "stream",
          "name": "stderr",
          "text": [
            "INFO flwr 2024-01-20 15:55:17,435 | server.py:125 | fit progress: (40, 295.8055571317673, {'accuracy': 0.29069767441860467}, 5632.017852009)\n",
            "INFO:flwr:fit progress: (40, 295.8055571317673, {'accuracy': 0.29069767441860467}, 5632.017852009)\n",
            "DEBUG flwr 2024-01-20 15:55:17,438 | server.py:173 | evaluate_round 40: strategy sampled 10 clients (out of 33)\n",
            "DEBUG:flwr:evaluate_round 40: strategy sampled 10 clients (out of 33)\n"
          ]
        },
        {
          "output_type": "stream",
          "name": "stdout",
          "text": [
            "GLOBAL TEST\n"
          ]
        },
        {
          "output_type": "stream",
          "name": "stderr",
          "text": [
            "DEBUG flwr 2024-01-20 15:55:21,237 | server.py:187 | evaluate_round 40 received 10 results and 0 failures\n",
            "DEBUG:flwr:evaluate_round 40 received 10 results and 0 failures\n",
            "DEBUG flwr 2024-01-20 15:55:21,240 | server.py:222 | fit_round 41: strategy sampled 10 clients (out of 33)\n",
            "DEBUG:flwr:fit_round 41: strategy sampled 10 clients (out of 33)\n"
          ]
        },
        {
          "output_type": "stream",
          "name": "stdout",
          "text": [
            "\u001b[2m\u001b[36m(DefaultActor pid=1602)\u001b[0m ATTACKER\n",
            "\u001b[2m\u001b[36m(DefaultActor pid=1602)\u001b[0m output size:  256\n",
            "\u001b[2m\u001b[36m(DefaultActor pid=1602)\u001b[0m selected images size:  1\n",
            "\u001b[2m\u001b[36m(DefaultActor pid=1602)\u001b[0m output size:  256\n",
            "\u001b[2m\u001b[36m(DefaultActor pid=1602)\u001b[0m selected images size:  2\n",
            "\u001b[2m\u001b[36m(DefaultActor pid=1602)\u001b[0m output size:  256\n",
            "\u001b[2m\u001b[36m(DefaultActor pid=1602)\u001b[0m selected images size:  1\n",
            "\u001b[2m\u001b[36m(DefaultActor pid=1602)\u001b[0m output size:  256\n",
            "\u001b[2m\u001b[36m(DefaultActor pid=1602)\u001b[0m selected images size:  1\n",
            "\u001b[2m\u001b[36m(DefaultActor pid=1602)\u001b[0m output size:  256\n",
            "\u001b[2m\u001b[36m(DefaultActor pid=1602)\u001b[0m selected images size:  3\n",
            "\u001b[2m\u001b[36m(DefaultActor pid=1602)\u001b[0m output size:  256\n",
            "\u001b[2m\u001b[36m(DefaultActor pid=1602)\u001b[0m selected images size:  9\n",
            "\u001b[2m\u001b[36m(DefaultActor pid=1602)\u001b[0m output size:  256\n",
            "\u001b[2m\u001b[36m(DefaultActor pid=1602)\u001b[0m selected images size:  7\n",
            "\u001b[2m\u001b[36m(DefaultActor pid=1602)\u001b[0m output size:  256\n",
            "\u001b[2m\u001b[36m(DefaultActor pid=1602)\u001b[0m selected images size:  4\n",
            "\u001b[2m\u001b[36m(DefaultActor pid=1602)\u001b[0m output size:  101\n",
            "\u001b[2m\u001b[36m(DefaultActor pid=1602)\u001b[0m selected images size:  1\n",
            "\u001b[2m\u001b[36m(DefaultActor pid=1602)\u001b[0m output size:  256\n",
            "\u001b[2m\u001b[36m(DefaultActor pid=1602)\u001b[0m selected images size:  1\n",
            "\u001b[2m\u001b[36m(DefaultActor pid=1602)\u001b[0m output size:  256\n",
            "\u001b[2m\u001b[36m(DefaultActor pid=1602)\u001b[0m selected images size:  1\n",
            "\u001b[2m\u001b[36m(DefaultActor pid=1602)\u001b[0m output size:  256\n",
            "\u001b[2m\u001b[36m(DefaultActor pid=1602)\u001b[0m selected images size:  3\n",
            "\u001b[2m\u001b[36m(DefaultActor pid=1602)\u001b[0m output size:  256\n",
            "\u001b[2m\u001b[36m(DefaultActor pid=1602)\u001b[0m selected images size:  6\n",
            "\u001b[2m\u001b[36m(DefaultActor pid=1602)\u001b[0m output size:  256\n",
            "\u001b[2m\u001b[36m(DefaultActor pid=1602)\u001b[0m selected images size:  8\n",
            "\u001b[2m\u001b[36m(DefaultActor pid=1602)\u001b[0m output size:  256\n",
            "\u001b[2m\u001b[36m(DefaultActor pid=1602)\u001b[0m selected images size:  8\n",
            "\u001b[2m\u001b[36m(DefaultActor pid=1602)\u001b[0m output size:  101\n",
            "\u001b[2m\u001b[36m(DefaultActor pid=1602)\u001b[0m selected images size:  9\n",
            "\u001b[2m\u001b[36m(DefaultActor pid=1602)\u001b[0m output size:  256\n",
            "\u001b[2m\u001b[36m(DefaultActor pid=1602)\u001b[0m selected images size:  16\n",
            "\u001b[2m\u001b[36m(DefaultActor pid=1602)\u001b[0m output size:  256\n",
            "\u001b[2m\u001b[36m(DefaultActor pid=1602)\u001b[0m selected images size:  12\n",
            "\u001b[2m\u001b[36m(DefaultActor pid=1602)\u001b[0m output size:  256\n",
            "\u001b[2m\u001b[36m(DefaultActor pid=1602)\u001b[0m selected images size:  12\n",
            "\u001b[2m\u001b[36m(DefaultActor pid=1602)\u001b[0m output size:  256\n",
            "\u001b[2m\u001b[36m(DefaultActor pid=1602)\u001b[0m selected images size:  26\n",
            "\u001b[2m\u001b[36m(DefaultActor pid=1602)\u001b[0m output size:  256\n",
            "\u001b[2m\u001b[36m(DefaultActor pid=1602)\u001b[0m selected images size:  14\n",
            "\u001b[2m\u001b[36m(DefaultActor pid=1602)\u001b[0m output size:  256\n",
            "\u001b[2m\u001b[36m(DefaultActor pid=1602)\u001b[0m selected images size:  15\n",
            "\u001b[2m\u001b[36m(DefaultActor pid=1602)\u001b[0m output size:  101\n",
            "\u001b[2m\u001b[36m(DefaultActor pid=1602)\u001b[0m selected images size:  9\n",
            "\u001b[2m\u001b[36m(DefaultActor pid=1602)\u001b[0m output size:  256\n",
            "\u001b[2m\u001b[36m(DefaultActor pid=1602)\u001b[0m selected images size:  23\n",
            "\u001b[2m\u001b[36m(DefaultActor pid=1602)\u001b[0m output size:  256\n",
            "\u001b[2m\u001b[36m(DefaultActor pid=1602)\u001b[0m selected images size:  28\n",
            "\u001b[2m\u001b[36m(DefaultActor pid=1602)\u001b[0m output size:  256\n",
            "\u001b[2m\u001b[36m(DefaultActor pid=1602)\u001b[0m selected images size:  29\n",
            "\u001b[2m\u001b[36m(DefaultActor pid=1602)\u001b[0m output size:  256\n",
            "\u001b[2m\u001b[36m(DefaultActor pid=1602)\u001b[0m selected images size:  31\n",
            "\u001b[2m\u001b[36m(DefaultActor pid=1602)\u001b[0m output size:  256\n",
            "\u001b[2m\u001b[36m(DefaultActor pid=1602)\u001b[0m selected images size:  40\n",
            "\u001b[2m\u001b[36m(DefaultActor pid=1602)\u001b[0m output size:  256\n",
            "\u001b[2m\u001b[36m(DefaultActor pid=1602)\u001b[0m selected images size:  27\n",
            "\u001b[2m\u001b[36m(DefaultActor pid=1602)\u001b[0m output size:  101\n",
            "\u001b[2m\u001b[36m(DefaultActor pid=1602)\u001b[0m selected images size:  9\n",
            "\u001b[2m\u001b[36m(DefaultActor pid=1602)\u001b[0m output size:  256\n",
            "\u001b[2m\u001b[36m(DefaultActor pid=1602)\u001b[0m selected images size:  26\n",
            "\u001b[2m\u001b[36m(DefaultActor pid=1602)\u001b[0m output size:  256\n",
            "\u001b[2m\u001b[36m(DefaultActor pid=1602)\u001b[0m selected images size:  36\n",
            "\u001b[2m\u001b[36m(DefaultActor pid=1602)\u001b[0m output size:  256\n",
            "\u001b[2m\u001b[36m(DefaultActor pid=1602)\u001b[0m selected images size:  32\n",
            "\u001b[2m\u001b[36m(DefaultActor pid=1602)\u001b[0m output size:  256\n",
            "\u001b[2m\u001b[36m(DefaultActor pid=1602)\u001b[0m selected images size:  25\n",
            "\u001b[2m\u001b[36m(DefaultActor pid=1602)\u001b[0m output size:  256\n",
            "\u001b[2m\u001b[36m(DefaultActor pid=1602)\u001b[0m selected images size:  25\n",
            "\u001b[2m\u001b[36m(DefaultActor pid=1602)\u001b[0m output size:  256\n",
            "\u001b[2m\u001b[36m(DefaultActor pid=1602)\u001b[0m selected images size:  28\n",
            "\u001b[2m\u001b[36m(DefaultActor pid=1602)\u001b[0m output size:  101\n",
            "\u001b[2m\u001b[36m(DefaultActor pid=1602)\u001b[0m selected images size:  18\n",
            "\u001b[2m\u001b[36m(DefaultActor pid=1602)\u001b[0m output size:  256\n",
            "\u001b[2m\u001b[36m(DefaultActor pid=1602)\u001b[0m selected images size:  27\n",
            "\u001b[2m\u001b[36m(DefaultActor pid=1602)\u001b[0m output size:  256\n",
            "\u001b[2m\u001b[36m(DefaultActor pid=1602)\u001b[0m selected images size:  34\n",
            "\u001b[2m\u001b[36m(DefaultActor pid=1602)\u001b[0m output size:  256\n",
            "\u001b[2m\u001b[36m(DefaultActor pid=1602)\u001b[0m selected images size:  42\n",
            "\u001b[2m\u001b[36m(DefaultActor pid=1602)\u001b[0m output size:  256\n",
            "\u001b[2m\u001b[36m(DefaultActor pid=1602)\u001b[0m selected images size:  62\n",
            "\u001b[2m\u001b[36m(DefaultActor pid=1602)\u001b[0m output size:  256\n",
            "\u001b[2m\u001b[36m(DefaultActor pid=1602)\u001b[0m selected images size:  66\n",
            "\u001b[2m\u001b[36m(DefaultActor pid=1602)\u001b[0m output size:  256\n",
            "\u001b[2m\u001b[36m(DefaultActor pid=1602)\u001b[0m selected images size:  72\n",
            "\u001b[2m\u001b[36m(DefaultActor pid=1602)\u001b[0m output size:  101\n",
            "\u001b[2m\u001b[36m(DefaultActor pid=1602)\u001b[0m selected images size:  38\n",
            "\u001b[2m\u001b[36m(DefaultActor pid=1602)\u001b[0m output size:  256\n",
            "\u001b[2m\u001b[36m(DefaultActor pid=1602)\u001b[0m selected images size:  69\n",
            "\u001b[2m\u001b[36m(DefaultActor pid=1602)\u001b[0m output size:  256\n",
            "\u001b[2m\u001b[36m(DefaultActor pid=1602)\u001b[0m selected images size:  78\n",
            "\u001b[2m\u001b[36m(DefaultActor pid=1602)\u001b[0m output size:  256\n",
            "\u001b[2m\u001b[36m(DefaultActor pid=1602)\u001b[0m selected images size:  62\n",
            "\u001b[2m\u001b[36m(DefaultActor pid=1602)\u001b[0m output size:  256\n",
            "\u001b[2m\u001b[36m(DefaultActor pid=1602)\u001b[0m selected images size:  74\n",
            "\u001b[2m\u001b[36m(DefaultActor pid=1602)\u001b[0m output size:  256\n",
            "\u001b[2m\u001b[36m(DefaultActor pid=1602)\u001b[0m selected images size:  77\n",
            "\u001b[2m\u001b[36m(DefaultActor pid=1602)\u001b[0m output size:  256\n",
            "\u001b[2m\u001b[36m(DefaultActor pid=1602)\u001b[0m selected images size:  68\n",
            "\u001b[2m\u001b[36m(DefaultActor pid=1602)\u001b[0m output size:  101\n",
            "\u001b[2m\u001b[36m(DefaultActor pid=1602)\u001b[0m selected images size:  33\n",
            "\u001b[2m\u001b[36m(DefaultActor pid=1602)\u001b[0m output size:  256\n",
            "\u001b[2m\u001b[36m(DefaultActor pid=1602)\u001b[0m selected images size:  79\n",
            "\u001b[2m\u001b[36m(DefaultActor pid=1602)\u001b[0m output size:  256\n",
            "\u001b[2m\u001b[36m(DefaultActor pid=1602)\u001b[0m selected images size:  78\n",
            "\u001b[2m\u001b[36m(DefaultActor pid=1602)\u001b[0m output size:  256\n",
            "\u001b[2m\u001b[36m(DefaultActor pid=1602)\u001b[0m selected images size:  86\n",
            "\u001b[2m\u001b[36m(DefaultActor pid=1602)\u001b[0m output size:  256\n",
            "\u001b[2m\u001b[36m(DefaultActor pid=1602)\u001b[0m selected images size:  94\n",
            "\u001b[2m\u001b[36m(DefaultActor pid=1602)\u001b[0m output size:  256\n",
            "\u001b[2m\u001b[36m(DefaultActor pid=1602)\u001b[0m selected images size:  90\n",
            "\u001b[2m\u001b[36m(DefaultActor pid=1602)\u001b[0m output size:  256\n",
            "\u001b[2m\u001b[36m(DefaultActor pid=1602)\u001b[0m selected images size:  77\n",
            "\u001b[2m\u001b[36m(DefaultActor pid=1602)\u001b[0m output size:  101\n",
            "\u001b[2m\u001b[36m(DefaultActor pid=1602)\u001b[0m selected images size:  24\n"
          ]
        },
        {
          "output_type": "stream",
          "name": "stderr",
          "text": [
            "DEBUG flwr 2024-01-20 15:57:33,180 | server.py:236 | fit_round 41 received 10 results and 0 failures\n",
            "DEBUG:flwr:fit_round 41 received 10 results and 0 failures\n"
          ]
        },
        {
          "output_type": "stream",
          "name": "stdout",
          "text": [
            "Saving round 41 aggregated_parameters...\n"
          ]
        },
        {
          "output_type": "stream",
          "name": "stderr",
          "text": [
            "INFO flwr 2024-01-20 15:57:50,406 | server.py:125 | fit progress: (41, 295.7876309156418, {'accuracy': 0.29069767441860467}, 5784.989498983)\n",
            "INFO:flwr:fit progress: (41, 295.7876309156418, {'accuracy': 0.29069767441860467}, 5784.989498983)\n",
            "DEBUG flwr 2024-01-20 15:57:50,410 | server.py:173 | evaluate_round 41: strategy sampled 10 clients (out of 33)\n",
            "DEBUG:flwr:evaluate_round 41: strategy sampled 10 clients (out of 33)\n"
          ]
        },
        {
          "output_type": "stream",
          "name": "stdout",
          "text": [
            "GLOBAL TEST\n"
          ]
        },
        {
          "output_type": "stream",
          "name": "stderr",
          "text": [
            "DEBUG flwr 2024-01-20 15:57:54,207 | server.py:187 | evaluate_round 41 received 10 results and 0 failures\n",
            "DEBUG:flwr:evaluate_round 41 received 10 results and 0 failures\n",
            "DEBUG flwr 2024-01-20 15:57:54,210 | server.py:222 | fit_round 42: strategy sampled 10 clients (out of 33)\n",
            "DEBUG:flwr:fit_round 42: strategy sampled 10 clients (out of 33)\n"
          ]
        },
        {
          "output_type": "stream",
          "name": "stdout",
          "text": [
            "\u001b[2m\u001b[36m(DefaultActor pid=1602)\u001b[0m ATTACKER\n",
            "\u001b[2m\u001b[36m(DefaultActor pid=1602)\u001b[0m output size:  256\n",
            "\u001b[2m\u001b[36m(DefaultActor pid=1602)\u001b[0m selected images size:  2\n",
            "\u001b[2m\u001b[36m(DefaultActor pid=1602)\u001b[0m output size:  256\n",
            "\u001b[2m\u001b[36m(DefaultActor pid=1602)\u001b[0m selected images size:  1\n",
            "\u001b[2m\u001b[36m(DefaultActor pid=1602)\u001b[0m output size:  101\n",
            "\u001b[2m\u001b[36m(DefaultActor pid=1602)\u001b[0m selected images size:  1\n",
            "\u001b[2m\u001b[36m(DefaultActor pid=1602)\u001b[0m output size:  256\n",
            "\u001b[2m\u001b[36m(DefaultActor pid=1602)\u001b[0m selected images size:  2\n",
            "\u001b[2m\u001b[36m(DefaultActor pid=1602)\u001b[0m output size:  256\n",
            "\u001b[2m\u001b[36m(DefaultActor pid=1602)\u001b[0m selected images size:  7\n",
            "\u001b[2m\u001b[36m(DefaultActor pid=1602)\u001b[0m output size:  256\n",
            "\u001b[2m\u001b[36m(DefaultActor pid=1602)\u001b[0m selected images size:  10\n",
            "\u001b[2m\u001b[36m(DefaultActor pid=1602)\u001b[0m output size:  256\n",
            "\u001b[2m\u001b[36m(DefaultActor pid=1602)\u001b[0m selected images size:  10\n",
            "\u001b[2m\u001b[36m(DefaultActor pid=1602)\u001b[0m output size:  256\n",
            "\u001b[2m\u001b[36m(DefaultActor pid=1602)\u001b[0m selected images size:  9\n",
            "\u001b[2m\u001b[36m(DefaultActor pid=1602)\u001b[0m output size:  256\n",
            "\u001b[2m\u001b[36m(DefaultActor pid=1602)\u001b[0m selected images size:  2\n",
            "\u001b[2m\u001b[36m(DefaultActor pid=1602)\u001b[0m output size:  256\n",
            "\u001b[2m\u001b[36m(DefaultActor pid=1602)\u001b[0m selected images size:  2\n",
            "\u001b[2m\u001b[36m(DefaultActor pid=1602)\u001b[0m output size:  256\n",
            "\u001b[2m\u001b[36m(DefaultActor pid=1602)\u001b[0m selected images size:  1\n",
            "\u001b[2m\u001b[36m(DefaultActor pid=1602)\u001b[0m output size:  256\n",
            "\u001b[2m\u001b[36m(DefaultActor pid=1602)\u001b[0m selected images size:  9\n",
            "\u001b[2m\u001b[36m(DefaultActor pid=1602)\u001b[0m output size:  256\n",
            "\u001b[2m\u001b[36m(DefaultActor pid=1602)\u001b[0m selected images size:  10\n",
            "\u001b[2m\u001b[36m(DefaultActor pid=1602)\u001b[0m output size:  256\n",
            "\u001b[2m\u001b[36m(DefaultActor pid=1602)\u001b[0m selected images size:  6\n",
            "\u001b[2m\u001b[36m(DefaultActor pid=1602)\u001b[0m output size:  101\n",
            "\u001b[2m\u001b[36m(DefaultActor pid=1602)\u001b[0m selected images size:  1\n",
            "\u001b[2m\u001b[36m(DefaultActor pid=1602)\u001b[0m output size:  256\n",
            "\u001b[2m\u001b[36m(DefaultActor pid=1602)\u001b[0m selected images size:  4\n",
            "\u001b[2m\u001b[36m(DefaultActor pid=1602)\u001b[0m output size:  256\n",
            "\u001b[2m\u001b[36m(DefaultActor pid=1602)\u001b[0m selected images size:  9\n",
            "\u001b[2m\u001b[36m(DefaultActor pid=1602)\u001b[0m output size:  256\n",
            "\u001b[2m\u001b[36m(DefaultActor pid=1602)\u001b[0m selected images size:  5\n",
            "\u001b[2m\u001b[36m(DefaultActor pid=1602)\u001b[0m output size:  256\n",
            "\u001b[2m\u001b[36m(DefaultActor pid=1602)\u001b[0m selected images size:  3\n",
            "\u001b[2m\u001b[36m(DefaultActor pid=1602)\u001b[0m output size:  256\n",
            "\u001b[2m\u001b[36m(DefaultActor pid=1602)\u001b[0m selected images size:  7\n",
            "\u001b[2m\u001b[36m(DefaultActor pid=1602)\u001b[0m output size:  256\n",
            "\u001b[2m\u001b[36m(DefaultActor pid=1602)\u001b[0m selected images size:  3\n",
            "\u001b[2m\u001b[36m(DefaultActor pid=1602)\u001b[0m output size:  101\n",
            "\u001b[2m\u001b[36m(DefaultActor pid=1602)\u001b[0m selected images size:  4\n",
            "\u001b[2m\u001b[36m(DefaultActor pid=1602)\u001b[0m output size:  256\n",
            "\u001b[2m\u001b[36m(DefaultActor pid=1602)\u001b[0m selected images size:  18\n",
            "\u001b[2m\u001b[36m(DefaultActor pid=1602)\u001b[0m output size:  256\n",
            "\u001b[2m\u001b[36m(DefaultActor pid=1602)\u001b[0m selected images size:  12\n",
            "\u001b[2m\u001b[36m(DefaultActor pid=1602)\u001b[0m output size:  256\n",
            "\u001b[2m\u001b[36m(DefaultActor pid=1602)\u001b[0m selected images size:  27\n",
            "\u001b[2m\u001b[36m(DefaultActor pid=1602)\u001b[0m output size:  256\n",
            "\u001b[2m\u001b[36m(DefaultActor pid=1602)\u001b[0m selected images size:  23\n",
            "\u001b[2m\u001b[36m(DefaultActor pid=1602)\u001b[0m output size:  256\n",
            "\u001b[2m\u001b[36m(DefaultActor pid=1602)\u001b[0m selected images size:  28\n",
            "\u001b[2m\u001b[36m(DefaultActor pid=1602)\u001b[0m output size:  256\n",
            "\u001b[2m\u001b[36m(DefaultActor pid=1602)\u001b[0m selected images size:  27\n",
            "\u001b[2m\u001b[36m(DefaultActor pid=1602)\u001b[0m output size:  101\n",
            "\u001b[2m\u001b[36m(DefaultActor pid=1602)\u001b[0m selected images size:  5\n",
            "\u001b[2m\u001b[36m(DefaultActor pid=1602)\u001b[0m output size:  256\n",
            "\u001b[2m\u001b[36m(DefaultActor pid=1602)\u001b[0m selected images size:  36\n",
            "\u001b[2m\u001b[36m(DefaultActor pid=1602)\u001b[0m output size:  256\n",
            "\u001b[2m\u001b[36m(DefaultActor pid=1602)\u001b[0m selected images size:  25\n",
            "\u001b[2m\u001b[36m(DefaultActor pid=1602)\u001b[0m output size:  256\n",
            "\u001b[2m\u001b[36m(DefaultActor pid=1602)\u001b[0m selected images size:  31\n",
            "\u001b[2m\u001b[36m(DefaultActor pid=1602)\u001b[0m output size:  256\n",
            "\u001b[2m\u001b[36m(DefaultActor pid=1602)\u001b[0m selected images size:  42\n",
            "\u001b[2m\u001b[36m(DefaultActor pid=1602)\u001b[0m output size:  256\n",
            "\u001b[2m\u001b[36m(DefaultActor pid=1602)\u001b[0m selected images size:  36\n",
            "\u001b[2m\u001b[36m(DefaultActor pid=1602)\u001b[0m output size:  256\n",
            "\u001b[2m\u001b[36m(DefaultActor pid=1602)\u001b[0m selected images size:  41\n",
            "\u001b[2m\u001b[36m(DefaultActor pid=1602)\u001b[0m output size:  101\n",
            "\u001b[2m\u001b[36m(DefaultActor pid=1602)\u001b[0m selected images size:  17\n",
            "\u001b[2m\u001b[36m(DefaultActor pid=1602)\u001b[0m output size:  256\n",
            "\u001b[2m\u001b[36m(DefaultActor pid=1602)\u001b[0m selected images size:  52\n",
            "\u001b[2m\u001b[36m(DefaultActor pid=1602)\u001b[0m output size:  256\n",
            "\u001b[2m\u001b[36m(DefaultActor pid=1602)\u001b[0m selected images size:  57\n",
            "\u001b[2m\u001b[36m(DefaultActor pid=1602)\u001b[0m output size:  256\n",
            "\u001b[2m\u001b[36m(DefaultActor pid=1602)\u001b[0m selected images size:  48\n",
            "\u001b[2m\u001b[36m(DefaultActor pid=1602)\u001b[0m output size:  256\n",
            "\u001b[2m\u001b[36m(DefaultActor pid=1602)\u001b[0m selected images size:  54\n",
            "\u001b[2m\u001b[36m(DefaultActor pid=1602)\u001b[0m output size:  256\n",
            "\u001b[2m\u001b[36m(DefaultActor pid=1602)\u001b[0m selected images size:  47\n",
            "\u001b[2m\u001b[36m(DefaultActor pid=1602)\u001b[0m output size:  256\n",
            "\u001b[2m\u001b[36m(DefaultActor pid=1602)\u001b[0m selected images size:  38\n",
            "\u001b[2m\u001b[36m(DefaultActor pid=1602)\u001b[0m output size:  101\n",
            "\u001b[2m\u001b[36m(DefaultActor pid=1602)\u001b[0m selected images size:  11\n",
            "\u001b[2m\u001b[36m(DefaultActor pid=1602)\u001b[0m output size:  256\n",
            "\u001b[2m\u001b[36m(DefaultActor pid=1602)\u001b[0m selected images size:  32\n",
            "\u001b[2m\u001b[36m(DefaultActor pid=1602)\u001b[0m output size:  256\n",
            "\u001b[2m\u001b[36m(DefaultActor pid=1602)\u001b[0m selected images size:  38\n",
            "\u001b[2m\u001b[36m(DefaultActor pid=1602)\u001b[0m output size:  256\n",
            "\u001b[2m\u001b[36m(DefaultActor pid=1602)\u001b[0m selected images size:  39\n",
            "\u001b[2m\u001b[36m(DefaultActor pid=1602)\u001b[0m output size:  256\n",
            "\u001b[2m\u001b[36m(DefaultActor pid=1602)\u001b[0m selected images size:  53\n",
            "\u001b[2m\u001b[36m(DefaultActor pid=1602)\u001b[0m output size:  256\n",
            "\u001b[2m\u001b[36m(DefaultActor pid=1602)\u001b[0m selected images size:  62\n",
            "\u001b[2m\u001b[36m(DefaultActor pid=1602)\u001b[0m output size:  256\n",
            "\u001b[2m\u001b[36m(DefaultActor pid=1602)\u001b[0m selected images size:  71\n",
            "\u001b[2m\u001b[36m(DefaultActor pid=1602)\u001b[0m output size:  101\n",
            "\u001b[2m\u001b[36m(DefaultActor pid=1602)\u001b[0m selected images size:  26\n",
            "\u001b[2m\u001b[36m(DefaultActor pid=1602)\u001b[0m output size:  256\n",
            "\u001b[2m\u001b[36m(DefaultActor pid=1602)\u001b[0m selected images size:  55\n",
            "\u001b[2m\u001b[36m(DefaultActor pid=1602)\u001b[0m output size:  256\n",
            "\u001b[2m\u001b[36m(DefaultActor pid=1602)\u001b[0m selected images size:  43\n",
            "\u001b[2m\u001b[36m(DefaultActor pid=1602)\u001b[0m output size:  256\n",
            "\u001b[2m\u001b[36m(DefaultActor pid=1602)\u001b[0m selected images size:  34\n",
            "\u001b[2m\u001b[36m(DefaultActor pid=1602)\u001b[0m output size:  256\n",
            "\u001b[2m\u001b[36m(DefaultActor pid=1602)\u001b[0m selected images size:  47\n",
            "\u001b[2m\u001b[36m(DefaultActor pid=1602)\u001b[0m output size:  256\n",
            "\u001b[2m\u001b[36m(DefaultActor pid=1602)\u001b[0m selected images size:  48\n",
            "\u001b[2m\u001b[36m(DefaultActor pid=1602)\u001b[0m output size:  256\n",
            "\u001b[2m\u001b[36m(DefaultActor pid=1602)\u001b[0m selected images size:  53\n",
            "\u001b[2m\u001b[36m(DefaultActor pid=1602)\u001b[0m output size:  101\n",
            "\u001b[2m\u001b[36m(DefaultActor pid=1602)\u001b[0m selected images size:  19\n",
            "\u001b[2m\u001b[36m(DefaultActor pid=1602)\u001b[0m output size:  256\n",
            "\u001b[2m\u001b[36m(DefaultActor pid=1602)\u001b[0m selected images size:  43\n",
            "\u001b[2m\u001b[36m(DefaultActor pid=1602)\u001b[0m output size:  256\n",
            "\u001b[2m\u001b[36m(DefaultActor pid=1602)\u001b[0m selected images size:  63\n",
            "\u001b[2m\u001b[36m(DefaultActor pid=1602)\u001b[0m output size:  256\n",
            "\u001b[2m\u001b[36m(DefaultActor pid=1602)\u001b[0m selected images size:  52\n",
            "\u001b[2m\u001b[36m(DefaultActor pid=1602)\u001b[0m output size:  256\n",
            "\u001b[2m\u001b[36m(DefaultActor pid=1602)\u001b[0m selected images size:  48\n",
            "\u001b[2m\u001b[36m(DefaultActor pid=1602)\u001b[0m output size:  256\n",
            "\u001b[2m\u001b[36m(DefaultActor pid=1602)\u001b[0m selected images size:  51\n",
            "\u001b[2m\u001b[36m(DefaultActor pid=1602)\u001b[0m output size:  256\n",
            "\u001b[2m\u001b[36m(DefaultActor pid=1602)\u001b[0m selected images size:  55\n",
            "\u001b[2m\u001b[36m(DefaultActor pid=1602)\u001b[0m output size:  101\n",
            "\u001b[2m\u001b[36m(DefaultActor pid=1602)\u001b[0m selected images size:  23\n",
            "\u001b[2m\u001b[36m(DefaultActor pid=1602)\u001b[0m output size:  256\n",
            "\u001b[2m\u001b[36m(DefaultActor pid=1602)\u001b[0m selected images size:  47\n",
            "\u001b[2m\u001b[36m(DefaultActor pid=1602)\u001b[0m output size:  256\n",
            "\u001b[2m\u001b[36m(DefaultActor pid=1602)\u001b[0m selected images size:  52\n",
            "\u001b[2m\u001b[36m(DefaultActor pid=1602)\u001b[0m output size:  256\n",
            "\u001b[2m\u001b[36m(DefaultActor pid=1602)\u001b[0m selected images size:  45\n",
            "\u001b[2m\u001b[36m(DefaultActor pid=1602)\u001b[0m output size:  256\n",
            "\u001b[2m\u001b[36m(DefaultActor pid=1602)\u001b[0m selected images size:  67\n",
            "\u001b[2m\u001b[36m(DefaultActor pid=1602)\u001b[0m output size:  256\n",
            "\u001b[2m\u001b[36m(DefaultActor pid=1602)\u001b[0m selected images size:  55\n",
            "\u001b[2m\u001b[36m(DefaultActor pid=1602)\u001b[0m output size:  256\n",
            "\u001b[2m\u001b[36m(DefaultActor pid=1602)\u001b[0m selected images size:  53\n",
            "\u001b[2m\u001b[36m(DefaultActor pid=1602)\u001b[0m output size:  101\n",
            "\u001b[2m\u001b[36m(DefaultActor pid=1602)\u001b[0m selected images size:  15\n",
            "\u001b[2m\u001b[36m(DefaultActor pid=1602)\u001b[0m output size:  256\n",
            "\u001b[2m\u001b[36m(DefaultActor pid=1602)\u001b[0m selected images size:  70\n",
            "\u001b[2m\u001b[36m(DefaultActor pid=1602)\u001b[0m output size:  256\n",
            "\u001b[2m\u001b[36m(DefaultActor pid=1602)\u001b[0m selected images size:  61\n",
            "\u001b[2m\u001b[36m(DefaultActor pid=1602)\u001b[0m output size:  256\n",
            "\u001b[2m\u001b[36m(DefaultActor pid=1602)\u001b[0m selected images size:  80\n",
            "\u001b[2m\u001b[36m(DefaultActor pid=1602)\u001b[0m output size:  256\n",
            "\u001b[2m\u001b[36m(DefaultActor pid=1602)\u001b[0m selected images size:  82\n",
            "\u001b[2m\u001b[36m(DefaultActor pid=1602)\u001b[0m output size:  256\n",
            "\u001b[2m\u001b[36m(DefaultActor pid=1602)\u001b[0m selected images size:  78\n",
            "\u001b[2m\u001b[36m(DefaultActor pid=1602)\u001b[0m output size:  256\n",
            "\u001b[2m\u001b[36m(DefaultActor pid=1602)\u001b[0m selected images size:  81\n",
            "\u001b[2m\u001b[36m(DefaultActor pid=1602)\u001b[0m output size:  101\n",
            "\u001b[2m\u001b[36m(DefaultActor pid=1602)\u001b[0m selected images size:  38\n"
          ]
        },
        {
          "output_type": "stream",
          "name": "stderr",
          "text": [
            "DEBUG flwr 2024-01-20 16:00:05,957 | server.py:236 | fit_round 42 received 10 results and 0 failures\n",
            "DEBUG:flwr:fit_round 42 received 10 results and 0 failures\n"
          ]
        },
        {
          "output_type": "stream",
          "name": "stdout",
          "text": [
            "Saving round 42 aggregated_parameters...\n"
          ]
        },
        {
          "output_type": "stream",
          "name": "stderr",
          "text": [
            "INFO flwr 2024-01-20 16:00:22,505 | server.py:125 | fit progress: (42, 295.7524881362915, {'accuracy': 0.29069767441860467}, 5937.087882518)\n",
            "INFO:flwr:fit progress: (42, 295.7524881362915, {'accuracy': 0.29069767441860467}, 5937.087882518)\n",
            "DEBUG flwr 2024-01-20 16:00:22,508 | server.py:173 | evaluate_round 42: strategy sampled 10 clients (out of 33)\n",
            "DEBUG:flwr:evaluate_round 42: strategy sampled 10 clients (out of 33)\n"
          ]
        },
        {
          "output_type": "stream",
          "name": "stdout",
          "text": [
            "GLOBAL TEST\n"
          ]
        },
        {
          "output_type": "stream",
          "name": "stderr",
          "text": [
            "DEBUG flwr 2024-01-20 16:00:27,562 | server.py:187 | evaluate_round 42 received 10 results and 0 failures\n",
            "DEBUG:flwr:evaluate_round 42 received 10 results and 0 failures\n",
            "DEBUG flwr 2024-01-20 16:00:27,566 | server.py:222 | fit_round 43: strategy sampled 10 clients (out of 33)\n",
            "DEBUG:flwr:fit_round 43: strategy sampled 10 clients (out of 33)\n",
            "DEBUG flwr 2024-01-20 16:01:50,024 | server.py:236 | fit_round 43 received 10 results and 0 failures\n",
            "DEBUG:flwr:fit_round 43 received 10 results and 0 failures\n"
          ]
        },
        {
          "output_type": "stream",
          "name": "stdout",
          "text": [
            "Saving round 43 aggregated_parameters...\n"
          ]
        },
        {
          "output_type": "stream",
          "name": "stderr",
          "text": [
            "INFO flwr 2024-01-20 16:02:07,381 | server.py:125 | fit progress: (43, 295.6966723203659, {'accuracy': 0.29069767441860467}, 6041.964415751)\n",
            "INFO:flwr:fit progress: (43, 295.6966723203659, {'accuracy': 0.29069767441860467}, 6041.964415751)\n",
            "DEBUG flwr 2024-01-20 16:02:07,388 | server.py:173 | evaluate_round 43: strategy sampled 10 clients (out of 33)\n",
            "DEBUG:flwr:evaluate_round 43: strategy sampled 10 clients (out of 33)\n"
          ]
        },
        {
          "output_type": "stream",
          "name": "stdout",
          "text": [
            "GLOBAL TEST\n"
          ]
        },
        {
          "output_type": "stream",
          "name": "stderr",
          "text": [
            "DEBUG flwr 2024-01-20 16:02:11,311 | server.py:187 | evaluate_round 43 received 10 results and 0 failures\n",
            "DEBUG:flwr:evaluate_round 43 received 10 results and 0 failures\n",
            "DEBUG flwr 2024-01-20 16:02:11,314 | server.py:222 | fit_round 44: strategy sampled 10 clients (out of 33)\n",
            "DEBUG:flwr:fit_round 44: strategy sampled 10 clients (out of 33)\n"
          ]
        },
        {
          "output_type": "stream",
          "name": "stdout",
          "text": [
            "\u001b[2m\u001b[36m(DefaultActor pid=1602)\u001b[0m ATTACKER\n",
            "\u001b[2m\u001b[36m(DefaultActor pid=1602)\u001b[0m output size:  256\n",
            "\u001b[2m\u001b[36m(DefaultActor pid=1602)\u001b[0m selected images size:  1\n",
            "\u001b[2m\u001b[36m(DefaultActor pid=1602)\u001b[0m output size:  256\n",
            "\u001b[2m\u001b[36m(DefaultActor pid=1602)\u001b[0m selected images size:  1\n",
            "\u001b[2m\u001b[36m(DefaultActor pid=1602)\u001b[0m output size:  256\n",
            "\u001b[2m\u001b[36m(DefaultActor pid=1602)\u001b[0m selected images size:  3\n",
            "\u001b[2m\u001b[36m(DefaultActor pid=1602)\u001b[0m output size:  256\n",
            "\u001b[2m\u001b[36m(DefaultActor pid=1602)\u001b[0m selected images size:  4\n",
            "\u001b[2m\u001b[36m(DefaultActor pid=1602)\u001b[0m output size:  256\n",
            "\u001b[2m\u001b[36m(DefaultActor pid=1602)\u001b[0m selected images size:  2\n",
            "\u001b[2m\u001b[36m(DefaultActor pid=1602)\u001b[0m output size:  101\n",
            "\u001b[2m\u001b[36m(DefaultActor pid=1602)\u001b[0m selected images size:  1\n",
            "\u001b[2m\u001b[36m(DefaultActor pid=1602)\u001b[0m output size:  256\n",
            "\u001b[2m\u001b[36m(DefaultActor pid=1602)\u001b[0m selected images size:  1\n",
            "\u001b[2m\u001b[36m(DefaultActor pid=1602)\u001b[0m output size:  256\n",
            "\u001b[2m\u001b[36m(DefaultActor pid=1602)\u001b[0m selected images size:  1\n",
            "\u001b[2m\u001b[36m(DefaultActor pid=1602)\u001b[0m output size:  256\n",
            "\u001b[2m\u001b[36m(DefaultActor pid=1602)\u001b[0m selected images size:  2\n",
            "\u001b[2m\u001b[36m(DefaultActor pid=1602)\u001b[0m output size:  256\n",
            "\u001b[2m\u001b[36m(DefaultActor pid=1602)\u001b[0m selected images size:  8\n",
            "\u001b[2m\u001b[36m(DefaultActor pid=1602)\u001b[0m output size:  256\n",
            "\u001b[2m\u001b[36m(DefaultActor pid=1602)\u001b[0m selected images size:  10\n",
            "\u001b[2m\u001b[36m(DefaultActor pid=1602)\u001b[0m output size:  256\n",
            "\u001b[2m\u001b[36m(DefaultActor pid=1602)\u001b[0m selected images size:  2\n",
            "\u001b[2m\u001b[36m(DefaultActor pid=1602)\u001b[0m output size:  256\n",
            "\u001b[2m\u001b[36m(DefaultActor pid=1602)\u001b[0m selected images size:  3\n",
            "\u001b[2m\u001b[36m(DefaultActor pid=1602)\u001b[0m output size:  256\n",
            "\u001b[2m\u001b[36m(DefaultActor pid=1602)\u001b[0m selected images size:  6\n",
            "\u001b[2m\u001b[36m(DefaultActor pid=1602)\u001b[0m output size:  256\n",
            "\u001b[2m\u001b[36m(DefaultActor pid=1602)\u001b[0m selected images size:  5\n",
            "\u001b[2m\u001b[36m(DefaultActor pid=1602)\u001b[0m output size:  256\n",
            "\u001b[2m\u001b[36m(DefaultActor pid=1602)\u001b[0m selected images size:  2\n",
            "\u001b[2m\u001b[36m(DefaultActor pid=1602)\u001b[0m output size:  256\n",
            "\u001b[2m\u001b[36m(DefaultActor pid=1602)\u001b[0m selected images size:  12\n",
            "\u001b[2m\u001b[36m(DefaultActor pid=1602)\u001b[0m output size:  101\n",
            "\u001b[2m\u001b[36m(DefaultActor pid=1602)\u001b[0m selected images size:  5\n",
            "\u001b[2m\u001b[36m(DefaultActor pid=1602)\u001b[0m output size:  256\n",
            "\u001b[2m\u001b[36m(DefaultActor pid=1602)\u001b[0m selected images size:  8\n",
            "\u001b[2m\u001b[36m(DefaultActor pid=1602)\u001b[0m output size:  256\n",
            "\u001b[2m\u001b[36m(DefaultActor pid=1602)\u001b[0m selected images size:  22\n",
            "\u001b[2m\u001b[36m(DefaultActor pid=1602)\u001b[0m output size:  256\n",
            "\u001b[2m\u001b[36m(DefaultActor pid=1602)\u001b[0m selected images size:  12\n",
            "\u001b[2m\u001b[36m(DefaultActor pid=1602)\u001b[0m output size:  256\n",
            "\u001b[2m\u001b[36m(DefaultActor pid=1602)\u001b[0m selected images size:  10\n",
            "\u001b[2m\u001b[36m(DefaultActor pid=1602)\u001b[0m output size:  256\n",
            "\u001b[2m\u001b[36m(DefaultActor pid=1602)\u001b[0m selected images size:  13\n",
            "\u001b[2m\u001b[36m(DefaultActor pid=1602)\u001b[0m output size:  256\n",
            "\u001b[2m\u001b[36m(DefaultActor pid=1602)\u001b[0m selected images size:  14\n",
            "\u001b[2m\u001b[36m(DefaultActor pid=1602)\u001b[0m output size:  101\n",
            "\u001b[2m\u001b[36m(DefaultActor pid=1602)\u001b[0m selected images size:  6\n",
            "\u001b[2m\u001b[36m(DefaultActor pid=1602)\u001b[0m output size:  256\n",
            "\u001b[2m\u001b[36m(DefaultActor pid=1602)\u001b[0m selected images size:  34\n",
            "\u001b[2m\u001b[36m(DefaultActor pid=1602)\u001b[0m output size:  256\n",
            "\u001b[2m\u001b[36m(DefaultActor pid=1602)\u001b[0m selected images size:  28\n",
            "\u001b[2m\u001b[36m(DefaultActor pid=1602)\u001b[0m output size:  256\n",
            "\u001b[2m\u001b[36m(DefaultActor pid=1602)\u001b[0m selected images size:  16\n",
            "\u001b[2m\u001b[36m(DefaultActor pid=1602)\u001b[0m output size:  256\n",
            "\u001b[2m\u001b[36m(DefaultActor pid=1602)\u001b[0m selected images size:  21\n",
            "\u001b[2m\u001b[36m(DefaultActor pid=1602)\u001b[0m output size:  256\n",
            "\u001b[2m\u001b[36m(DefaultActor pid=1602)\u001b[0m selected images size:  24\n",
            "\u001b[2m\u001b[36m(DefaultActor pid=1602)\u001b[0m output size:  256\n",
            "\u001b[2m\u001b[36m(DefaultActor pid=1602)\u001b[0m selected images size:  30\n",
            "\u001b[2m\u001b[36m(DefaultActor pid=1602)\u001b[0m output size:  101\n",
            "\u001b[2m\u001b[36m(DefaultActor pid=1602)\u001b[0m selected images size:  7\n",
            "\u001b[2m\u001b[36m(DefaultActor pid=1602)\u001b[0m output size:  256\n",
            "\u001b[2m\u001b[36m(DefaultActor pid=1602)\u001b[0m selected images size:  23\n",
            "\u001b[2m\u001b[36m(DefaultActor pid=1602)\u001b[0m output size:  256\n",
            "\u001b[2m\u001b[36m(DefaultActor pid=1602)\u001b[0m selected images size:  21\n",
            "\u001b[2m\u001b[36m(DefaultActor pid=1602)\u001b[0m output size:  256\n",
            "\u001b[2m\u001b[36m(DefaultActor pid=1602)\u001b[0m selected images size:  33\n",
            "\u001b[2m\u001b[36m(DefaultActor pid=1602)\u001b[0m output size:  256\n",
            "\u001b[2m\u001b[36m(DefaultActor pid=1602)\u001b[0m selected images size:  39\n",
            "\u001b[2m\u001b[36m(DefaultActor pid=1602)\u001b[0m output size:  256\n",
            "\u001b[2m\u001b[36m(DefaultActor pid=1602)\u001b[0m selected images size:  46\n",
            "\u001b[2m\u001b[36m(DefaultActor pid=1602)\u001b[0m output size:  256\n",
            "\u001b[2m\u001b[36m(DefaultActor pid=1602)\u001b[0m selected images size:  31\n",
            "\u001b[2m\u001b[36m(DefaultActor pid=1602)\u001b[0m output size:  101\n",
            "\u001b[2m\u001b[36m(DefaultActor pid=1602)\u001b[0m selected images size:  13\n",
            "\u001b[2m\u001b[36m(DefaultActor pid=1602)\u001b[0m output size:  256\n",
            "\u001b[2m\u001b[36m(DefaultActor pid=1602)\u001b[0m selected images size:  34\n",
            "\u001b[2m\u001b[36m(DefaultActor pid=1602)\u001b[0m output size:  256\n",
            "\u001b[2m\u001b[36m(DefaultActor pid=1602)\u001b[0m selected images size:  43\n",
            "\u001b[2m\u001b[36m(DefaultActor pid=1602)\u001b[0m output size:  256\n",
            "\u001b[2m\u001b[36m(DefaultActor pid=1602)\u001b[0m selected images size:  24\n",
            "\u001b[2m\u001b[36m(DefaultActor pid=1602)\u001b[0m output size:  256\n",
            "\u001b[2m\u001b[36m(DefaultActor pid=1602)\u001b[0m selected images size:  28\n",
            "\u001b[2m\u001b[36m(DefaultActor pid=1602)\u001b[0m output size:  256\n",
            "\u001b[2m\u001b[36m(DefaultActor pid=1602)\u001b[0m selected images size:  41\n",
            "\u001b[2m\u001b[36m(DefaultActor pid=1602)\u001b[0m output size:  256\n",
            "\u001b[2m\u001b[36m(DefaultActor pid=1602)\u001b[0m selected images size:  24\n",
            "\u001b[2m\u001b[36m(DefaultActor pid=1602)\u001b[0m output size:  101\n",
            "\u001b[2m\u001b[36m(DefaultActor pid=1602)\u001b[0m selected images size:  14\n",
            "\u001b[2m\u001b[36m(DefaultActor pid=1602)\u001b[0m output size:  256\n",
            "\u001b[2m\u001b[36m(DefaultActor pid=1602)\u001b[0m selected images size:  11\n",
            "\u001b[2m\u001b[36m(DefaultActor pid=1602)\u001b[0m output size:  256\n",
            "\u001b[2m\u001b[36m(DefaultActor pid=1602)\u001b[0m selected images size:  12\n",
            "\u001b[2m\u001b[36m(DefaultActor pid=1602)\u001b[0m output size:  256\n",
            "\u001b[2m\u001b[36m(DefaultActor pid=1602)\u001b[0m selected images size:  6\n",
            "\u001b[2m\u001b[36m(DefaultActor pid=1602)\u001b[0m output size:  256\n",
            "\u001b[2m\u001b[36m(DefaultActor pid=1602)\u001b[0m selected images size:  2\n",
            "\u001b[2m\u001b[36m(DefaultActor pid=1602)\u001b[0m output size:  256\n",
            "\u001b[2m\u001b[36m(DefaultActor pid=1602)\u001b[0m selected images size:  2\n",
            "\u001b[2m\u001b[36m(DefaultActor pid=1602)\u001b[0m output size:  256\n",
            "\u001b[2m\u001b[36m(DefaultActor pid=1602)\u001b[0m selected images size:  4\n",
            "\u001b[2m\u001b[36m(DefaultActor pid=1602)\u001b[0m output size:  256\n",
            "\u001b[2m\u001b[36m(DefaultActor pid=1602)\u001b[0m selected images size:  4\n",
            "\u001b[2m\u001b[36m(DefaultActor pid=1602)\u001b[0m output size:  256\n",
            "\u001b[2m\u001b[36m(DefaultActor pid=1602)\u001b[0m selected images size:  4\n",
            "\u001b[2m\u001b[36m(DefaultActor pid=1602)\u001b[0m output size:  256\n",
            "\u001b[2m\u001b[36m(DefaultActor pid=1602)\u001b[0m selected images size:  7\n",
            "\u001b[2m\u001b[36m(DefaultActor pid=1602)\u001b[0m output size:  256\n",
            "\u001b[2m\u001b[36m(DefaultActor pid=1602)\u001b[0m selected images size:  11\n",
            "\u001b[2m\u001b[36m(DefaultActor pid=1602)\u001b[0m output size:  101\n",
            "\u001b[2m\u001b[36m(DefaultActor pid=1602)\u001b[0m selected images size:  5\n"
          ]
        },
        {
          "output_type": "stream",
          "name": "stderr",
          "text": [
            "DEBUG flwr 2024-01-20 16:04:22,117 | server.py:236 | fit_round 44 received 10 results and 0 failures\n",
            "DEBUG:flwr:fit_round 44 received 10 results and 0 failures\n"
          ]
        },
        {
          "output_type": "stream",
          "name": "stdout",
          "text": [
            "Saving round 44 aggregated_parameters...\n"
          ]
        },
        {
          "output_type": "stream",
          "name": "stderr",
          "text": [
            "INFO flwr 2024-01-20 16:04:38,673 | server.py:125 | fit progress: (44, 295.7133604288101, {'accuracy': 0.29069767441860467}, 6193.256157182)\n",
            "INFO:flwr:fit progress: (44, 295.7133604288101, {'accuracy': 0.29069767441860467}, 6193.256157182)\n",
            "DEBUG flwr 2024-01-20 16:04:38,677 | server.py:173 | evaluate_round 44: strategy sampled 10 clients (out of 33)\n",
            "DEBUG:flwr:evaluate_round 44: strategy sampled 10 clients (out of 33)\n"
          ]
        },
        {
          "output_type": "stream",
          "name": "stdout",
          "text": [
            "GLOBAL TEST\n"
          ]
        },
        {
          "output_type": "stream",
          "name": "stderr",
          "text": [
            "DEBUG flwr 2024-01-20 16:04:43,077 | server.py:187 | evaluate_round 44 received 10 results and 0 failures\n",
            "DEBUG:flwr:evaluate_round 44 received 10 results and 0 failures\n",
            "DEBUG flwr 2024-01-20 16:04:43,081 | server.py:222 | fit_round 45: strategy sampled 10 clients (out of 33)\n",
            "DEBUG:flwr:fit_round 45: strategy sampled 10 clients (out of 33)\n"
          ]
        },
        {
          "output_type": "stream",
          "name": "stdout",
          "text": [
            "\u001b[2m\u001b[36m(DefaultActor pid=1602)\u001b[0m ATTACKER\n",
            "\u001b[2m\u001b[36m(DefaultActor pid=1602)\u001b[0m output size:  256\n",
            "\u001b[2m\u001b[36m(DefaultActor pid=1602)\u001b[0m selected images size:  1\n"
          ]
        },
        {
          "output_type": "stream",
          "name": "stderr",
          "text": [
            "DEBUG flwr 2024-01-20 16:06:52,966 | server.py:236 | fit_round 45 received 10 results and 0 failures\n",
            "DEBUG:flwr:fit_round 45 received 10 results and 0 failures\n"
          ]
        },
        {
          "output_type": "stream",
          "name": "stdout",
          "text": [
            "Saving round 45 aggregated_parameters...\n"
          ]
        },
        {
          "output_type": "stream",
          "name": "stderr",
          "text": [
            "INFO flwr 2024-01-20 16:07:09,778 | server.py:125 | fit progress: (45, 295.9158515930176, {'accuracy': 0.29069767441860467}, 6344.361123241)\n",
            "INFO:flwr:fit progress: (45, 295.9158515930176, {'accuracy': 0.29069767441860467}, 6344.361123241)\n",
            "DEBUG flwr 2024-01-20 16:07:09,782 | server.py:173 | evaluate_round 45: strategy sampled 10 clients (out of 33)\n",
            "DEBUG:flwr:evaluate_round 45: strategy sampled 10 clients (out of 33)\n"
          ]
        },
        {
          "output_type": "stream",
          "name": "stdout",
          "text": [
            "GLOBAL TEST\n"
          ]
        },
        {
          "output_type": "stream",
          "name": "stderr",
          "text": [
            "DEBUG flwr 2024-01-20 16:07:13,565 | server.py:187 | evaluate_round 45 received 10 results and 0 failures\n",
            "DEBUG:flwr:evaluate_round 45 received 10 results and 0 failures\n",
            "DEBUG flwr 2024-01-20 16:07:13,569 | server.py:222 | fit_round 46: strategy sampled 10 clients (out of 33)\n",
            "DEBUG:flwr:fit_round 46: strategy sampled 10 clients (out of 33)\n"
          ]
        },
        {
          "output_type": "stream",
          "name": "stdout",
          "text": [
            "\u001b[2m\u001b[36m(DefaultActor pid=1602)\u001b[0m ATTACKER\n",
            "\u001b[2m\u001b[36m(DefaultActor pid=1602)\u001b[0m output size:  256\n",
            "\u001b[2m\u001b[36m(DefaultActor pid=1602)\u001b[0m selected images size:  1\n",
            "\u001b[2m\u001b[36m(DefaultActor pid=1602)\u001b[0m output size:  256\n",
            "\u001b[2m\u001b[36m(DefaultActor pid=1602)\u001b[0m selected images size:  2\n",
            "\u001b[2m\u001b[36m(DefaultActor pid=1602)\u001b[0m output size:  101\n",
            "\u001b[2m\u001b[36m(DefaultActor pid=1602)\u001b[0m selected images size:  5\n",
            "\u001b[2m\u001b[36m(DefaultActor pid=1602)\u001b[0m output size:  256\n",
            "\u001b[2m\u001b[36m(DefaultActor pid=1602)\u001b[0m selected images size:  16\n",
            "\u001b[2m\u001b[36m(DefaultActor pid=1602)\u001b[0m output size:  256\n",
            "\u001b[2m\u001b[36m(DefaultActor pid=1602)\u001b[0m selected images size:  12\n",
            "\u001b[2m\u001b[36m(DefaultActor pid=1602)\u001b[0m output size:  256\n",
            "\u001b[2m\u001b[36m(DefaultActor pid=1602)\u001b[0m selected images size:  8\n",
            "\u001b[2m\u001b[36m(DefaultActor pid=1602)\u001b[0m output size:  256\n",
            "\u001b[2m\u001b[36m(DefaultActor pid=1602)\u001b[0m selected images size:  1\n",
            "\u001b[2m\u001b[36m(DefaultActor pid=1602)\u001b[0m output size:  256\n",
            "\u001b[2m\u001b[36m(DefaultActor pid=1602)\u001b[0m selected images size:  1\n",
            "\u001b[2m\u001b[36m(DefaultActor pid=1602)\u001b[0m output size:  256\n",
            "\u001b[2m\u001b[36m(DefaultActor pid=1602)\u001b[0m selected images size:  1\n"
          ]
        },
        {
          "output_type": "stream",
          "name": "stderr",
          "text": [
            "DEBUG flwr 2024-01-20 16:09:23,824 | server.py:236 | fit_round 46 received 10 results and 0 failures\n",
            "DEBUG:flwr:fit_round 46 received 10 results and 0 failures\n"
          ]
        },
        {
          "output_type": "stream",
          "name": "stdout",
          "text": [
            "Saving round 46 aggregated_parameters...\n"
          ]
        },
        {
          "output_type": "stream",
          "name": "stderr",
          "text": [
            "INFO flwr 2024-01-20 16:09:40,382 | server.py:125 | fit progress: (46, 295.6545468568802, {'accuracy': 0.29069767441860467}, 6494.965007001)\n",
            "INFO:flwr:fit progress: (46, 295.6545468568802, {'accuracy': 0.29069767441860467}, 6494.965007001)\n",
            "DEBUG flwr 2024-01-20 16:09:40,385 | server.py:173 | evaluate_round 46: strategy sampled 10 clients (out of 33)\n",
            "DEBUG:flwr:evaluate_round 46: strategy sampled 10 clients (out of 33)\n"
          ]
        },
        {
          "output_type": "stream",
          "name": "stdout",
          "text": [
            "GLOBAL TEST\n"
          ]
        },
        {
          "output_type": "stream",
          "name": "stderr",
          "text": [
            "DEBUG flwr 2024-01-20 16:09:45,510 | server.py:187 | evaluate_round 46 received 10 results and 0 failures\n",
            "DEBUG:flwr:evaluate_round 46 received 10 results and 0 failures\n",
            "DEBUG flwr 2024-01-20 16:09:45,519 | server.py:222 | fit_round 47: strategy sampled 10 clients (out of 33)\n",
            "DEBUG:flwr:fit_round 47: strategy sampled 10 clients (out of 33)\n",
            "DEBUG flwr 2024-01-20 16:11:07,794 | server.py:236 | fit_round 47 received 10 results and 0 failures\n",
            "DEBUG:flwr:fit_round 47 received 10 results and 0 failures\n"
          ]
        },
        {
          "output_type": "stream",
          "name": "stdout",
          "text": [
            "Saving round 47 aggregated_parameters...\n"
          ]
        },
        {
          "output_type": "stream",
          "name": "stderr",
          "text": [
            "INFO flwr 2024-01-20 16:11:25,288 | server.py:125 | fit progress: (47, 295.62921154499054, {'accuracy': 0.29069767441860467}, 6599.871317098)\n",
            "INFO:flwr:fit progress: (47, 295.62921154499054, {'accuracy': 0.29069767441860467}, 6599.871317098)\n",
            "DEBUG flwr 2024-01-20 16:11:25,295 | server.py:173 | evaluate_round 47: strategy sampled 10 clients (out of 33)\n",
            "DEBUG:flwr:evaluate_round 47: strategy sampled 10 clients (out of 33)\n"
          ]
        },
        {
          "output_type": "stream",
          "name": "stdout",
          "text": [
            "GLOBAL TEST\n"
          ]
        },
        {
          "output_type": "stream",
          "name": "stderr",
          "text": [
            "DEBUG flwr 2024-01-20 16:11:29,206 | server.py:187 | evaluate_round 47 received 10 results and 0 failures\n",
            "DEBUG:flwr:evaluate_round 47 received 10 results and 0 failures\n",
            "DEBUG flwr 2024-01-20 16:11:29,213 | server.py:222 | fit_round 48: strategy sampled 10 clients (out of 33)\n",
            "DEBUG:flwr:fit_round 48: strategy sampled 10 clients (out of 33)\n"
          ]
        },
        {
          "output_type": "stream",
          "name": "stdout",
          "text": [
            "\u001b[2m\u001b[36m(DefaultActor pid=1602)\u001b[0m ATTACKER\n",
            "\u001b[2m\u001b[36m(DefaultActor pid=1602)\u001b[0m output size:  256\n",
            "\u001b[2m\u001b[36m(DefaultActor pid=1602)\u001b[0m selected images size:  2\n",
            "\u001b[2m\u001b[36m(DefaultActor pid=1602)\u001b[0m output size:  256\n",
            "\u001b[2m\u001b[36m(DefaultActor pid=1602)\u001b[0m selected images size:  67\n",
            "\u001b[2m\u001b[36m(DefaultActor pid=1602)\u001b[0m output size:  256\n",
            "\u001b[2m\u001b[36m(DefaultActor pid=1602)\u001b[0m selected images size:  66\n",
            "\u001b[2m\u001b[36m(DefaultActor pid=1602)\u001b[0m output size:  101\n",
            "\u001b[2m\u001b[36m(DefaultActor pid=1602)\u001b[0m selected images size:  32\n",
            "\u001b[2m\u001b[36m(DefaultActor pid=1602)\u001b[0m output size:  256\n",
            "\u001b[2m\u001b[36m(DefaultActor pid=1602)\u001b[0m selected images size:  106\n",
            "\u001b[2m\u001b[36m(DefaultActor pid=1602)\u001b[0m output size:  256\n",
            "\u001b[2m\u001b[36m(DefaultActor pid=1602)\u001b[0m selected images size:  107\n",
            "\u001b[2m\u001b[36m(DefaultActor pid=1602)\u001b[0m output size:  256\n",
            "\u001b[2m\u001b[36m(DefaultActor pid=1602)\u001b[0m selected images size:  108\n",
            "\u001b[2m\u001b[36m(DefaultActor pid=1602)\u001b[0m output size:  256\n",
            "\u001b[2m\u001b[36m(DefaultActor pid=1602)\u001b[0m selected images size:  66\n",
            "\u001b[2m\u001b[36m(DefaultActor pid=1602)\u001b[0m output size:  256\n",
            "\u001b[2m\u001b[36m(DefaultActor pid=1602)\u001b[0m selected images size:  52\n",
            "\u001b[2m\u001b[36m(DefaultActor pid=1602)\u001b[0m output size:  256\n",
            "\u001b[2m\u001b[36m(DefaultActor pid=1602)\u001b[0m selected images size:  36\n",
            "\u001b[2m\u001b[36m(DefaultActor pid=1602)\u001b[0m output size:  101\n",
            "\u001b[2m\u001b[36m(DefaultActor pid=1602)\u001b[0m selected images size:  11\n",
            "\u001b[2m\u001b[36m(DefaultActor pid=1602)\u001b[0m output size:  256\n",
            "\u001b[2m\u001b[36m(DefaultActor pid=1602)\u001b[0m selected images size:  18\n",
            "\u001b[2m\u001b[36m(DefaultActor pid=1602)\u001b[0m output size:  256\n",
            "\u001b[2m\u001b[36m(DefaultActor pid=1602)\u001b[0m selected images size:  24\n",
            "\u001b[2m\u001b[36m(DefaultActor pid=1602)\u001b[0m output size:  256\n",
            "\u001b[2m\u001b[36m(DefaultActor pid=1602)\u001b[0m selected images size:  14\n",
            "\u001b[2m\u001b[36m(DefaultActor pid=1602)\u001b[0m output size:  256\n",
            "\u001b[2m\u001b[36m(DefaultActor pid=1602)\u001b[0m selected images size:  10\n",
            "\u001b[2m\u001b[36m(DefaultActor pid=1602)\u001b[0m output size:  256\n",
            "\u001b[2m\u001b[36m(DefaultActor pid=1602)\u001b[0m selected images size:  10\n",
            "\u001b[2m\u001b[36m(DefaultActor pid=1602)\u001b[0m output size:  256\n",
            "\u001b[2m\u001b[36m(DefaultActor pid=1602)\u001b[0m selected images size:  3\n",
            "\u001b[2m\u001b[36m(DefaultActor pid=1602)\u001b[0m output size:  101\n",
            "\u001b[2m\u001b[36m(DefaultActor pid=1602)\u001b[0m selected images size:  2\n",
            "\u001b[2m\u001b[36m(DefaultActor pid=1602)\u001b[0m output size:  256\n",
            "\u001b[2m\u001b[36m(DefaultActor pid=1602)\u001b[0m selected images size:  3\n",
            "\u001b[2m\u001b[36m(DefaultActor pid=1602)\u001b[0m output size:  256\n",
            "\u001b[2m\u001b[36m(DefaultActor pid=1602)\u001b[0m selected images size:  13\n",
            "\u001b[2m\u001b[36m(DefaultActor pid=1602)\u001b[0m output size:  256\n",
            "\u001b[2m\u001b[36m(DefaultActor pid=1602)\u001b[0m selected images size:  11\n",
            "\u001b[2m\u001b[36m(DefaultActor pid=1602)\u001b[0m output size:  256\n",
            "\u001b[2m\u001b[36m(DefaultActor pid=1602)\u001b[0m selected images size:  2\n",
            "\u001b[2m\u001b[36m(DefaultActor pid=1602)\u001b[0m output size:  256\n",
            "\u001b[2m\u001b[36m(DefaultActor pid=1602)\u001b[0m selected images size:  6\n",
            "\u001b[2m\u001b[36m(DefaultActor pid=1602)\u001b[0m output size:  256\n",
            "\u001b[2m\u001b[36m(DefaultActor pid=1602)\u001b[0m selected images size:  4\n",
            "\u001b[2m\u001b[36m(DefaultActor pid=1602)\u001b[0m output size:  101\n",
            "\u001b[2m\u001b[36m(DefaultActor pid=1602)\u001b[0m selected images size:  2\n",
            "\u001b[2m\u001b[36m(DefaultActor pid=1602)\u001b[0m output size:  256\n",
            "\u001b[2m\u001b[36m(DefaultActor pid=1602)\u001b[0m selected images size:  10\n",
            "\u001b[2m\u001b[36m(DefaultActor pid=1602)\u001b[0m output size:  256\n",
            "\u001b[2m\u001b[36m(DefaultActor pid=1602)\u001b[0m selected images size:  15\n",
            "\u001b[2m\u001b[36m(DefaultActor pid=1602)\u001b[0m output size:  256\n",
            "\u001b[2m\u001b[36m(DefaultActor pid=1602)\u001b[0m selected images size:  14\n",
            "\u001b[2m\u001b[36m(DefaultActor pid=1602)\u001b[0m output size:  256\n",
            "\u001b[2m\u001b[36m(DefaultActor pid=1602)\u001b[0m selected images size:  13\n",
            "\u001b[2m\u001b[36m(DefaultActor pid=1602)\u001b[0m output size:  256\n",
            "\u001b[2m\u001b[36m(DefaultActor pid=1602)\u001b[0m selected images size:  5\n",
            "\u001b[2m\u001b[36m(DefaultActor pid=1602)\u001b[0m output size:  256\n",
            "\u001b[2m\u001b[36m(DefaultActor pid=1602)\u001b[0m selected images size:  4\n",
            "\u001b[2m\u001b[36m(DefaultActor pid=1602)\u001b[0m output size:  101\n",
            "\u001b[2m\u001b[36m(DefaultActor pid=1602)\u001b[0m selected images size:  1\n",
            "\u001b[2m\u001b[36m(DefaultActor pid=1602)\u001b[0m output size:  256\n",
            "\u001b[2m\u001b[36m(DefaultActor pid=1602)\u001b[0m selected images size:  4\n",
            "\u001b[2m\u001b[36m(DefaultActor pid=1602)\u001b[0m output size:  256\n",
            "\u001b[2m\u001b[36m(DefaultActor pid=1602)\u001b[0m selected images size:  7\n",
            "\u001b[2m\u001b[36m(DefaultActor pid=1602)\u001b[0m output size:  256\n",
            "\u001b[2m\u001b[36m(DefaultActor pid=1602)\u001b[0m selected images size:  5\n",
            "\u001b[2m\u001b[36m(DefaultActor pid=1602)\u001b[0m output size:  256\n",
            "\u001b[2m\u001b[36m(DefaultActor pid=1602)\u001b[0m selected images size:  3\n",
            "\u001b[2m\u001b[36m(DefaultActor pid=1602)\u001b[0m output size:  256\n",
            "\u001b[2m\u001b[36m(DefaultActor pid=1602)\u001b[0m selected images size:  5\n",
            "\u001b[2m\u001b[36m(DefaultActor pid=1602)\u001b[0m output size:  256\n",
            "\u001b[2m\u001b[36m(DefaultActor pid=1602)\u001b[0m selected images size:  5\n",
            "\u001b[2m\u001b[36m(DefaultActor pid=1602)\u001b[0m output size:  256\n",
            "\u001b[2m\u001b[36m(DefaultActor pid=1602)\u001b[0m selected images size:  2\n",
            "\u001b[2m\u001b[36m(DefaultActor pid=1602)\u001b[0m output size:  101\n",
            "\u001b[2m\u001b[36m(DefaultActor pid=1602)\u001b[0m selected images size:  1\n",
            "\u001b[2m\u001b[36m(DefaultActor pid=1602)\u001b[0m output size:  256\n",
            "\u001b[2m\u001b[36m(DefaultActor pid=1602)\u001b[0m selected images size:  2\n",
            "\u001b[2m\u001b[36m(DefaultActor pid=1602)\u001b[0m output size:  256\n",
            "\u001b[2m\u001b[36m(DefaultActor pid=1602)\u001b[0m selected images size:  1\n",
            "\u001b[2m\u001b[36m(DefaultActor pid=1602)\u001b[0m output size:  256\n",
            "\u001b[2m\u001b[36m(DefaultActor pid=1602)\u001b[0m selected images size:  1\n",
            "\u001b[2m\u001b[36m(DefaultActor pid=1602)\u001b[0m output size:  256\n",
            "\u001b[2m\u001b[36m(DefaultActor pid=1602)\u001b[0m selected images size:  5\n",
            "\u001b[2m\u001b[36m(DefaultActor pid=1602)\u001b[0m output size:  101\n",
            "\u001b[2m\u001b[36m(DefaultActor pid=1602)\u001b[0m selected images size:  2\n",
            "\u001b[2m\u001b[36m(DefaultActor pid=1602)\u001b[0m output size:  256\n",
            "\u001b[2m\u001b[36m(DefaultActor pid=1602)\u001b[0m selected images size:  2\n",
            "\u001b[2m\u001b[36m(DefaultActor pid=1602)\u001b[0m output size:  256\n",
            "\u001b[2m\u001b[36m(DefaultActor pid=1602)\u001b[0m selected images size:  1\n",
            "\u001b[2m\u001b[36m(DefaultActor pid=1602)\u001b[0m output size:  256\n",
            "\u001b[2m\u001b[36m(DefaultActor pid=1602)\u001b[0m selected images size:  3\n",
            "\u001b[2m\u001b[36m(DefaultActor pid=1602)\u001b[0m output size:  256\n",
            "\u001b[2m\u001b[36m(DefaultActor pid=1602)\u001b[0m selected images size:  4\n",
            "\u001b[2m\u001b[36m(DefaultActor pid=1602)\u001b[0m output size:  256\n",
            "\u001b[2m\u001b[36m(DefaultActor pid=1602)\u001b[0m selected images size:  6\n",
            "\u001b[2m\u001b[36m(DefaultActor pid=1602)\u001b[0m output size:  101\n",
            "\u001b[2m\u001b[36m(DefaultActor pid=1602)\u001b[0m selected images size:  2\n",
            "\u001b[2m\u001b[36m(DefaultActor pid=1602)\u001b[0m output size:  256\n",
            "\u001b[2m\u001b[36m(DefaultActor pid=1602)\u001b[0m selected images size:  9\n",
            "\u001b[2m\u001b[36m(DefaultActor pid=1602)\u001b[0m output size:  256\n",
            "\u001b[2m\u001b[36m(DefaultActor pid=1602)\u001b[0m selected images size:  15\n",
            "\u001b[2m\u001b[36m(DefaultActor pid=1602)\u001b[0m output size:  256\n",
            "\u001b[2m\u001b[36m(DefaultActor pid=1602)\u001b[0m selected images size:  13\n",
            "\u001b[2m\u001b[36m(DefaultActor pid=1602)\u001b[0m output size:  256\n",
            "\u001b[2m\u001b[36m(DefaultActor pid=1602)\u001b[0m selected images size:  13\n",
            "\u001b[2m\u001b[36m(DefaultActor pid=1602)\u001b[0m output size:  256\n",
            "\u001b[2m\u001b[36m(DefaultActor pid=1602)\u001b[0m selected images size:  16\n",
            "\u001b[2m\u001b[36m(DefaultActor pid=1602)\u001b[0m output size:  256\n",
            "\u001b[2m\u001b[36m(DefaultActor pid=1602)\u001b[0m selected images size:  15\n",
            "\u001b[2m\u001b[36m(DefaultActor pid=1602)\u001b[0m output size:  101\n",
            "\u001b[2m\u001b[36m(DefaultActor pid=1602)\u001b[0m selected images size:  8\n"
          ]
        },
        {
          "output_type": "stream",
          "name": "stderr",
          "text": [
            "DEBUG flwr 2024-01-20 16:13:40,004 | server.py:236 | fit_round 48 received 10 results and 0 failures\n",
            "DEBUG:flwr:fit_round 48 received 10 results and 0 failures\n"
          ]
        },
        {
          "output_type": "stream",
          "name": "stdout",
          "text": [
            "Saving round 48 aggregated_parameters...\n"
          ]
        },
        {
          "output_type": "stream",
          "name": "stderr",
          "text": [
            "INFO flwr 2024-01-20 16:13:56,441 | server.py:125 | fit progress: (48, 295.5604261159897, {'accuracy': 0.29069767441860467}, 6751.024756355)\n",
            "INFO:flwr:fit progress: (48, 295.5604261159897, {'accuracy': 0.29069767441860467}, 6751.024756355)\n",
            "DEBUG flwr 2024-01-20 16:13:56,445 | server.py:173 | evaluate_round 48: strategy sampled 10 clients (out of 33)\n",
            "DEBUG:flwr:evaluate_round 48: strategy sampled 10 clients (out of 33)\n"
          ]
        },
        {
          "output_type": "stream",
          "name": "stdout",
          "text": [
            "GLOBAL TEST\n"
          ]
        },
        {
          "output_type": "stream",
          "name": "stderr",
          "text": [
            "DEBUG flwr 2024-01-20 16:14:00,883 | server.py:187 | evaluate_round 48 received 10 results and 0 failures\n",
            "DEBUG:flwr:evaluate_round 48 received 10 results and 0 failures\n",
            "DEBUG flwr 2024-01-20 16:14:00,886 | server.py:222 | fit_round 49: strategy sampled 10 clients (out of 33)\n",
            "DEBUG:flwr:fit_round 49: strategy sampled 10 clients (out of 33)\n"
          ]
        },
        {
          "output_type": "stream",
          "name": "stdout",
          "text": [
            "\u001b[2m\u001b[36m(DefaultActor pid=1602)\u001b[0m ATTACKER\n"
          ]
        },
        {
          "output_type": "stream",
          "name": "stderr",
          "text": [
            "DEBUG flwr 2024-01-20 16:16:12,768 | server.py:236 | fit_round 49 received 10 results and 0 failures\n",
            "DEBUG:flwr:fit_round 49 received 10 results and 0 failures\n"
          ]
        },
        {
          "output_type": "stream",
          "name": "stdout",
          "text": [
            "Saving round 49 aggregated_parameters...\n"
          ]
        },
        {
          "output_type": "stream",
          "name": "stderr",
          "text": [
            "INFO flwr 2024-01-20 16:16:29,201 | server.py:125 | fit progress: (49, 295.56093323230743, {'accuracy': 0.29069767441860467}, 6903.784623765)\n",
            "INFO:flwr:fit progress: (49, 295.56093323230743, {'accuracy': 0.29069767441860467}, 6903.784623765)\n",
            "DEBUG flwr 2024-01-20 16:16:29,205 | server.py:173 | evaluate_round 49: strategy sampled 10 clients (out of 33)\n",
            "DEBUG:flwr:evaluate_round 49: strategy sampled 10 clients (out of 33)\n"
          ]
        },
        {
          "output_type": "stream",
          "name": "stdout",
          "text": [
            "GLOBAL TEST\n"
          ]
        },
        {
          "output_type": "stream",
          "name": "stderr",
          "text": [
            "DEBUG flwr 2024-01-20 16:16:32,968 | server.py:187 | evaluate_round 49 received 10 results and 0 failures\n",
            "DEBUG:flwr:evaluate_round 49 received 10 results and 0 failures\n",
            "DEBUG flwr 2024-01-20 16:16:32,971 | server.py:222 | fit_round 50: strategy sampled 10 clients (out of 33)\n",
            "DEBUG:flwr:fit_round 50: strategy sampled 10 clients (out of 33)\n",
            "DEBUG flwr 2024-01-20 16:17:55,563 | server.py:236 | fit_round 50 received 10 results and 0 failures\n",
            "DEBUG:flwr:fit_round 50 received 10 results and 0 failures\n"
          ]
        },
        {
          "output_type": "stream",
          "name": "stdout",
          "text": [
            "Saving round 50 aggregated_parameters...\n"
          ]
        },
        {
          "output_type": "stream",
          "name": "stderr",
          "text": [
            "INFO flwr 2024-01-20 16:18:12,072 | server.py:125 | fit progress: (50, 295.55268824100494, {'accuracy': 0.29069767441860467}, 7006.655423113)\n",
            "INFO:flwr:fit progress: (50, 295.55268824100494, {'accuracy': 0.29069767441860467}, 7006.655423113)\n",
            "DEBUG flwr 2024-01-20 16:18:12,076 | server.py:173 | evaluate_round 50: strategy sampled 10 clients (out of 33)\n",
            "DEBUG:flwr:evaluate_round 50: strategy sampled 10 clients (out of 33)\n"
          ]
        },
        {
          "output_type": "stream",
          "name": "stdout",
          "text": [
            "GLOBAL TEST\n"
          ]
        },
        {
          "output_type": "stream",
          "name": "stderr",
          "text": [
            "DEBUG flwr 2024-01-20 16:18:15,875 | server.py:187 | evaluate_round 50 received 10 results and 0 failures\n",
            "DEBUG:flwr:evaluate_round 50 received 10 results and 0 failures\n",
            "INFO flwr 2024-01-20 16:18:15,878 | server.py:153 | FL finished in 7010.461579956\n",
            "INFO:flwr:FL finished in 7010.461579956\n",
            "INFO flwr 2024-01-20 16:18:15,885 | app.py:226 | app_fit: losses_distributed [(1, 1.5688181281089784), (2, 1.5831873536109924), (3, 1.5641351819038392), (4, 1.573231828212738), (5, 1.5632721543312074), (6, 1.5592013001441956), (7, 1.5695633053779603), (8, 1.5679248213768004), (9, 1.5803873419761658), (10, 1.569680964946747), (11, 1.559538185596466), (12, 1.5585055708885194), (13, 1.5554247617721557), (14, 1.5661647081375123), (15, 1.4942862391471863), (16, 1.4887030482292176), (17, 1.4884279370307922), (18, 1.4855924367904663), (19, 1.484122371673584), (20, 1.4813632726669312), (21, 1.4846545815467835), (22, 1.486769688129425), (23, 1.481648814678192), (24, 1.4818199038505555), (25, 1.4761638641357422), (26, 1.4793590903282166), (27, 1.4789348483085631), (28, 1.4804679036140442), (29, 1.4752815127372743), (30, 1.4804906368255615), (31, 1.4775346755981444), (32, 1.4752440571784973), (33, 1.479391348361969), (34, 1.478471279144287), (35, 1.475899624824524), (36, 1.4757595896720885), (37, 1.4736640214920045), (38, 1.4761353373527526), (39, 1.480843472480774), (40, 1.4742243528366088), (41, 1.4772567629814148), (42, 1.4771647334098816), (43, 1.476637053489685), (44, 1.4727664351463319), (45, 1.4803529024124145), (46, 1.4748871445655822), (47, 1.4745999693870544), (48, 1.47145117521286), (49, 1.4715224027633667), (50, 1.4760903477668763)]\n",
            "INFO:flwr:app_fit: losses_distributed [(1, 1.5688181281089784), (2, 1.5831873536109924), (3, 1.5641351819038392), (4, 1.573231828212738), (5, 1.5632721543312074), (6, 1.5592013001441956), (7, 1.5695633053779603), (8, 1.5679248213768004), (9, 1.5803873419761658), (10, 1.569680964946747), (11, 1.559538185596466), (12, 1.5585055708885194), (13, 1.5554247617721557), (14, 1.5661647081375123), (15, 1.4942862391471863), (16, 1.4887030482292176), (17, 1.4884279370307922), (18, 1.4855924367904663), (19, 1.484122371673584), (20, 1.4813632726669312), (21, 1.4846545815467835), (22, 1.486769688129425), (23, 1.481648814678192), (24, 1.4818199038505555), (25, 1.4761638641357422), (26, 1.4793590903282166), (27, 1.4789348483085631), (28, 1.4804679036140442), (29, 1.4752815127372743), (30, 1.4804906368255615), (31, 1.4775346755981444), (32, 1.4752440571784973), (33, 1.479391348361969), (34, 1.478471279144287), (35, 1.475899624824524), (36, 1.4757595896720885), (37, 1.4736640214920045), (38, 1.4761353373527526), (39, 1.480843472480774), (40, 1.4742243528366088), (41, 1.4772567629814148), (42, 1.4771647334098816), (43, 1.476637053489685), (44, 1.4727664351463319), (45, 1.4803529024124145), (46, 1.4748871445655822), (47, 1.4745999693870544), (48, 1.47145117521286), (49, 1.4715224027633667), (50, 1.4760903477668763)]\n",
            "INFO flwr 2024-01-20 16:18:15,889 | app.py:227 | app_fit: metrics_distributed_fit {}\n",
            "INFO:flwr:app_fit: metrics_distributed_fit {}\n",
            "INFO flwr 2024-01-20 16:18:15,891 | app.py:228 | app_fit: metrics_distributed {'accuracy': [(1, 0.625), (2, 0.0), (3, 0.0), (4, 0.0), (5, 0.5), (6, 0.0), (7, 0.5555555555555556), (8, 0.5555555555555556), (9, 0.0), (10, 0.0), (11, 0.6666666666666667), (12, 0.0), (13, 0.9610983981693364), (14, 0.0), (15, 0.7692307692307693), (16, 0.0), (17, 1.4285714285714286), (18, 1.0882352941176472), (19, 1.511111111111111), (20, 0.0), (21, 1.25), (22, 0.0), (23, 0.0), (24, 0.5882352941176471), (25, 0.0), (26, 0.0), (27, 0.0), (28, 0.0), (29, 0.5263157894736843), (30, 0.0), (31, 0.0), (32, 0.0), (33, 0.0), (34, 0.0), (35, 0.0), (36, 0.0), (37, 0.5263157894736843), (38, 0.0), (39, 0.0), (40, 0.0), (41, 0.7142857142857143), (42, 0.7142857142857143), (43, 0.0), (44, 0.0), (45, 1.7692307692307694), (46, 0.0), (47, 0.0), (48, 0.0), (49, 0.43478260869565216), (50, 0.0)]}\n",
            "INFO:flwr:app_fit: metrics_distributed {'accuracy': [(1, 0.625), (2, 0.0), (3, 0.0), (4, 0.0), (5, 0.5), (6, 0.0), (7, 0.5555555555555556), (8, 0.5555555555555556), (9, 0.0), (10, 0.0), (11, 0.6666666666666667), (12, 0.0), (13, 0.9610983981693364), (14, 0.0), (15, 0.7692307692307693), (16, 0.0), (17, 1.4285714285714286), (18, 1.0882352941176472), (19, 1.511111111111111), (20, 0.0), (21, 1.25), (22, 0.0), (23, 0.0), (24, 0.5882352941176471), (25, 0.0), (26, 0.0), (27, 0.0), (28, 0.0), (29, 0.5263157894736843), (30, 0.0), (31, 0.0), (32, 0.0), (33, 0.0), (34, 0.0), (35, 0.0), (36, 0.0), (37, 0.5263157894736843), (38, 0.0), (39, 0.0), (40, 0.0), (41, 0.7142857142857143), (42, 0.7142857142857143), (43, 0.0), (44, 0.0), (45, 1.7692307692307694), (46, 0.0), (47, 0.0), (48, 0.0), (49, 0.43478260869565216), (50, 0.0)]}\n",
            "INFO flwr 2024-01-20 16:18:15,893 | app.py:229 | app_fit: losses_centralized [(0, 317.62003779411316), (1, 314.67152643203735), (2, 314.0591632127762), (3, 313.9599962234497), (4, 313.86638712882996), (5, 313.78002750873566), (6, 313.49949967861176), (7, 313.3616975545883), (8, 313.2658966779709), (9, 313.19632387161255), (10, 313.16375708580017), (11, 313.0573811531067), (12, 312.9883762598038), (13, 312.88143384456635), (14, 312.0764129161835), (15, 299.63648891448975), (16, 297.82585883140564), (17, 297.4337160587311), (18, 297.1686455011368), (19, 297.0650054216385), (20, 296.9049791097641), (21, 297.14672815799713), (22, 296.7650626897812), (23, 296.58841025829315), (24, 296.4391918182373), (25, 296.4511944055557), (26, 296.40877425670624), (27, 296.2999370098114), (28, 296.2738449573517), (29, 296.20259392261505), (30, 296.1573312282562), (31, 296.11520290374756), (32, 296.05670046806335), (33, 296.0875800848007), (34, 296.0344213247299), (35, 295.9425778388977), (36, 295.90659964084625), (37, 295.8844335079193), (38, 295.84516429901123), (39, 295.842556476593), (40, 295.8055571317673), (41, 295.7876309156418), (42, 295.7524881362915), (43, 295.6966723203659), (44, 295.7133604288101), (45, 295.9158515930176), (46, 295.6545468568802), (47, 295.62921154499054), (48, 295.5604261159897), (49, 295.56093323230743), (50, 295.55268824100494)]\n",
            "INFO:flwr:app_fit: losses_centralized [(0, 317.62003779411316), (1, 314.67152643203735), (2, 314.0591632127762), (3, 313.9599962234497), (4, 313.86638712882996), (5, 313.78002750873566), (6, 313.49949967861176), (7, 313.3616975545883), (8, 313.2658966779709), (9, 313.19632387161255), (10, 313.16375708580017), (11, 313.0573811531067), (12, 312.9883762598038), (13, 312.88143384456635), (14, 312.0764129161835), (15, 299.63648891448975), (16, 297.82585883140564), (17, 297.4337160587311), (18, 297.1686455011368), (19, 297.0650054216385), (20, 296.9049791097641), (21, 297.14672815799713), (22, 296.7650626897812), (23, 296.58841025829315), (24, 296.4391918182373), (25, 296.4511944055557), (26, 296.40877425670624), (27, 296.2999370098114), (28, 296.2738449573517), (29, 296.20259392261505), (30, 296.1573312282562), (31, 296.11520290374756), (32, 296.05670046806335), (33, 296.0875800848007), (34, 296.0344213247299), (35, 295.9425778388977), (36, 295.90659964084625), (37, 295.8844335079193), (38, 295.84516429901123), (39, 295.842556476593), (40, 295.8055571317673), (41, 295.7876309156418), (42, 295.7524881362915), (43, 295.6966723203659), (44, 295.7133604288101), (45, 295.9158515930176), (46, 295.6545468568802), (47, 295.62921154499054), (48, 295.5604261159897), (49, 295.56093323230743), (50, 295.55268824100494)]\n",
            "INFO flwr 2024-01-20 16:18:15,895 | app.py:230 | app_fit: metrics_centralized {'accuracy': [(0, 0.5813953488372093), (1, 0.29069767441860467), (2, 0.29069767441860467), (3, 0.3875968992248062), (4, 0.3875968992248062), (5, 0.3875968992248062), (6, 0.3875968992248062), (7, 0.29069767441860467), (8, 0.1937984496124031), (9, 0.3875968992248062), (10, 0.5813953488372093), (11, 0.1937984496124031), (12, 0.29069767441860467), (13, 0.1937984496124031), (14, 0.1937984496124031), (15, 0.1937984496124031), (16, 0.1937984496124031), (17, 0.1937984496124031), (18, 0.3875968992248062), (19, 0.3875968992248062), (20, 0.4844961240310077), (21, 0.4844961240310077), (22, 0.29069767441860467), (23, 0.1937984496124031), (24, 0.1937984496124031), (25, 0.1937984496124031), (26, 0.29069767441860467), (27, 0.29069767441860467), (28, 0.29069767441860467), (29, 0.29069767441860467), (30, 0.29069767441860467), (31, 0.29069767441860467), (32, 0.29069767441860467), (33, 0.29069767441860467), (34, 0.29069767441860467), (35, 0.29069767441860467), (36, 0.29069767441860467), (37, 0.29069767441860467), (38, 0.29069767441860467), (39, 0.29069767441860467), (40, 0.29069767441860467), (41, 0.29069767441860467), (42, 0.29069767441860467), (43, 0.29069767441860467), (44, 0.29069767441860467), (45, 0.29069767441860467), (46, 0.29069767441860467), (47, 0.29069767441860467), (48, 0.29069767441860467), (49, 0.29069767441860467), (50, 0.29069767441860467)]}\n",
            "INFO:flwr:app_fit: metrics_centralized {'accuracy': [(0, 0.5813953488372093), (1, 0.29069767441860467), (2, 0.29069767441860467), (3, 0.3875968992248062), (4, 0.3875968992248062), (5, 0.3875968992248062), (6, 0.3875968992248062), (7, 0.29069767441860467), (8, 0.1937984496124031), (9, 0.3875968992248062), (10, 0.5813953488372093), (11, 0.1937984496124031), (12, 0.29069767441860467), (13, 0.1937984496124031), (14, 0.1937984496124031), (15, 0.1937984496124031), (16, 0.1937984496124031), (17, 0.1937984496124031), (18, 0.3875968992248062), (19, 0.3875968992248062), (20, 0.4844961240310077), (21, 0.4844961240310077), (22, 0.29069767441860467), (23, 0.1937984496124031), (24, 0.1937984496124031), (25, 0.1937984496124031), (26, 0.29069767441860467), (27, 0.29069767441860467), (28, 0.29069767441860467), (29, 0.29069767441860467), (30, 0.29069767441860467), (31, 0.29069767441860467), (32, 0.29069767441860467), (33, 0.29069767441860467), (34, 0.29069767441860467), (35, 0.29069767441860467), (36, 0.29069767441860467), (37, 0.29069767441860467), (38, 0.29069767441860467), (39, 0.29069767441860467), (40, 0.29069767441860467), (41, 0.29069767441860467), (42, 0.29069767441860467), (43, 0.29069767441860467), (44, 0.29069767441860467), (45, 0.29069767441860467), (46, 0.29069767441860467), (47, 0.29069767441860467), (48, 0.29069767441860467), (49, 0.29069767441860467), (50, 0.29069767441860467)]}\n"
          ]
        }
      ]
    },
    {
      "cell_type": "code",
      "source": [
        "print(len(main_acc_values))\n",
        "global_accuracy_centralised = history.metrics_centralized[\"accuracy\"]\n",
        "global_accuracy_distributed = history.metrics_distributed[\"accuracy\"]\n",
        "\n",
        "# Rút trích thông tin từ dữ liệu\n",
        "# round_centralised = [data[0] for data in global_accuracy_centralised]\n",
        "round_distributed = [data[0] for data in global_accuracy_distributed]\n",
        "\n",
        "# Vẽ đồ thị\n",
        "# plt.plot(range(1, 52), [data[1] for data in global_accuracy_centralised], label=\"Poison Task\")\n",
        "plt.plot(range(1, 51), [data[1] for data in global_accuracy_distributed], label=\"Poison Task\")\n",
        "plt.plot(range(1, 52), main_acc_values, label=\"Main Task\")\n",
        "plt.plot(range(1, 52), standard_acc_values, label=\"Standard Task\")\n",
        "\n",
        "# Thiết lập định dạng của biểu đồ\n",
        "plt.grid()\n",
        "plt.ylabel(\"Accuracy (%)\")\n",
        "plt.xlabel(\"Round\")\n",
        "plt.title(\"Accuracy Comparison\")\n",
        "plt.legend()\n",
        "xticks_result = plt.xticks(range(5, 52, 5))\n",
        "# xticks_result = plt.xticks(range(1, 52))\n"
      ],
      "metadata": {
        "id": "E33BylpJA_CV",
        "outputId": "9614c25e-a560-4e1f-e248-e70d6b65a42d",
        "colab": {
          "base_uri": "https://localhost:8080/",
          "height": 489
        }
      },
      "execution_count": null,
      "outputs": [
        {
          "output_type": "stream",
          "name": "stdout",
          "text": [
            "51\n"
          ]
        },
        {
          "output_type": "display_data",
          "data": {
            "text/plain": [
              "<Figure size 640x480 with 1 Axes>"
            ],
            "image/png": "[encoded data removed]"
          },
          "metadata": {}
        }
      ]
    },
    {
      "cell_type": "code",
      "source": [
        "import matplotlib.pyplot as plt\n",
        "\n",
        "print(f\"{history.metrics_centralized = }\")\n",
        "# print(f\"{history.metrics_distributed = }\")\n",
        "\n",
        "\n",
        "global_accuracy_centralised = history.metrics_centralized[\"accuracy\"]\n",
        "# global_accuracy_centralised = history.metrics_distributed[\"accuracy\"]\n",
        "\n",
        "round = [data[0] for data in global_accuracy_centralised]\n",
        "acc = [data[1] for data in global_accuracy_centralised]\n",
        "plt.plot(round, acc)\n",
        "plt.grid()\n",
        "plt.ylabel(\"Accuracy (%)\")\n",
        "plt.xlabel(\"Round\")\n",
        "plt.title(\"MNIST - IID - 30 clients with 10 clients per round\")\n",
        "xticks_result = plt.xticks(range(1, 21))\n",
        "# plt.yticks(range(0, 100))"
      ],
      "metadata": {
        "id": "NECbOpWgcxdV",
        "outputId": "00575dc5-d6ac-4dad-fb9e-187989bb6ba7",
        "colab": {
          "base_uri": "https://localhost:8080/",
          "height": 509
        }
      },
      "execution_count": null,
      "outputs": [
        {
          "output_type": "stream",
          "name": "stdout",
          "text": [
            "history.metrics_centralized = {'accuracy': [(0, 0.5813953488372093), (1, 0.29069767441860467), (2, 0.29069767441860467), (3, 0.3875968992248062), (4, 0.3875968992248062), (5, 0.3875968992248062), (6, 0.3875968992248062), (7, 0.29069767441860467), (8, 0.1937984496124031), (9, 0.3875968992248062), (10, 0.5813953488372093), (11, 0.1937984496124031), (12, 0.29069767441860467), (13, 0.1937984496124031), (14, 0.1937984496124031), (15, 0.1937984496124031), (16, 0.1937984496124031), (17, 0.1937984496124031), (18, 0.3875968992248062), (19, 0.3875968992248062), (20, 0.4844961240310077), (21, 0.4844961240310077), (22, 0.29069767441860467), (23, 0.1937984496124031), (24, 0.1937984496124031), (25, 0.1937984496124031), (26, 0.29069767441860467), (27, 0.29069767441860467), (28, 0.29069767441860467), (29, 0.29069767441860467), (30, 0.29069767441860467), (31, 0.29069767441860467), (32, 0.29069767441860467), (33, 0.29069767441860467), (34, 0.29069767441860467), (35, 0.29069767441860467), (36, 0.29069767441860467), (37, 0.29069767441860467), (38, 0.29069767441860467), (39, 0.29069767441860467), (40, 0.29069767441860467), (41, 0.29069767441860467), (42, 0.29069767441860467), (43, 0.29069767441860467), (44, 0.29069767441860467), (45, 0.29069767441860467), (46, 0.29069767441860467), (47, 0.29069767441860467), (48, 0.29069767441860467), (49, 0.29069767441860467), (50, 0.29069767441860467)]}\n"
          ]
        },
        {
          "output_type": "display_data",
          "data": {
            "text/plain": [
              "<Figure size 640x480 with 1 Axes>"
            ],
            "image/png": "[encoded data removed]"
          },
          "metadata": {}
        }
      ]
    }
  ],
  "metadata": {
    "colab": {
      "provenance": [],
      "gpuType": "T4",
      "include_colab_link": true
    },
    "kernelspec": {
      "display_name": "Python 3",
      "name": "python3"
    },
    "accelerator": "GPU"
  },
  "nbformat": 4,
  "nbformat_minor": 0
}